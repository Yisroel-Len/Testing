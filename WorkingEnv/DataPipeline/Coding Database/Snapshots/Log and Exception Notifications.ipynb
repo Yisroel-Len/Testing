{
 "cells": [
  {
   "cell_type": "code",
   "execution_count": 1,
   "id": "5f1b57a6",
   "metadata": {
    "ExecuteTime": {
     "end_time": "2023-08-09T17:35:54.521749Z",
     "start_time": "2023-08-09T17:35:54.518409Z"
    },
    "execution": {
     "iopub.execute_input": "2024-10-15T14:49:03.127834Z",
     "iopub.status.busy": "2024-10-15T14:49:03.127834Z",
     "iopub.status.idle": "2024-10-15T14:49:04.293767Z",
     "shell.execute_reply": "2024-10-15T14:49:04.293767Z"
    },
    "papermill": {
     "duration": 1.165933,
     "end_time": "2024-10-15T14:49:04.293767",
     "exception": false,
     "start_time": "2024-10-15T14:49:03.127834",
     "status": "completed"
    },
    "tags": []
   },
   "outputs": [],
   "source": [
    "import pandas as pd\n",
    "import re\n",
    "import numpy as np\n",
    "import pyodbc \n",
    "import time\n",
    "import datetime\n",
    "import sqlite3\n",
    "import logging"
   ]
  },
  {
   "cell_type": "code",
   "execution_count": 2,
   "id": "7eee803d",
   "metadata": {
    "ExecuteTime": {
     "end_time": "2023-08-09T17:35:54.533000Z",
     "start_time": "2023-08-09T17:35:54.524746Z"
    },
    "execution": {
     "iopub.execute_input": "2024-10-15T14:49:04.309995Z",
     "iopub.status.busy": "2024-10-15T14:49:04.309995Z",
     "iopub.status.idle": "2024-10-15T14:49:04.321544Z",
     "shell.execute_reply": "2024-10-15T14:49:04.321544Z"
    },
    "papermill": {
     "duration": 0.027777,
     "end_time": "2024-10-15T14:49:04.321544",
     "exception": false,
     "start_time": "2024-10-15T14:49:04.293767",
     "status": "completed"
    },
    "tags": []
   },
   "outputs": [],
   "source": [
    "logging.basicConfig(filename=\"coding_database_log.txt\",\n",
    "                    filemode='a',\n",
    "                    format='%(asctime)s,%(msecs)d,%(name)s,%(levelname)s,%(message)s',\n",
    "                    datefmt='%Y-%m-%d %H:%M:%S',\n",
    "                    level=logging.DEBUG)\n",
    "logger = logging.getLogger(\"Log and Exception Notifications\")"
   ]
  },
  {
   "cell_type": "markdown",
   "id": "f5aa9f9f",
   "metadata": {
    "papermill": {
     "duration": 0.0,
     "end_time": "2024-10-15T14:49:04.321544",
     "exception": false,
     "start_time": "2024-10-15T14:49:04.321544",
     "status": "completed"
    },
    "tags": []
   },
   "source": [
    "## Read in log file "
   ]
  },
  {
   "cell_type": "code",
   "execution_count": 3,
   "id": "2cbcfc49",
   "metadata": {
    "ExecuteTime": {
     "end_time": "2023-08-09T17:35:54.645384Z",
     "start_time": "2023-08-09T17:35:54.535001Z"
    },
    "execution": {
     "iopub.execute_input": "2024-10-15T14:49:04.337420Z",
     "iopub.status.busy": "2024-10-15T14:49:04.337420Z",
     "iopub.status.idle": "2024-10-15T14:49:08.226357Z",
     "shell.execute_reply": "2024-10-15T14:49:08.226357Z"
    },
    "papermill": {
     "duration": 3.891186,
     "end_time": "2024-10-15T14:49:08.228368",
     "exception": false,
     "start_time": "2024-10-15T14:49:04.337182",
     "status": "completed"
    },
    "tags": []
   },
   "outputs": [
    {
     "name": "stderr",
     "output_type": "stream",
     "text": [
      "<>:1: SyntaxWarning: invalid escape sequence '\\I'\n",
      "<>:1: SyntaxWarning: invalid escape sequence '\\H'\n",
      "<>:1: SyntaxWarning: invalid escape sequence '\\I'\n",
      "<>:1: SyntaxWarning: invalid escape sequence '\\H'\n",
      "C:\\Users\\AGursky\\AppData\\Local\\Temp\\ipykernel_15504\\24995482.py:1: SyntaxWarning: invalid escape sequence '\\I'\n",
      "  log_paths = [\"..\\InSyncConnection\\Code\\clinical_log.txt\", \"..\\HR Portal\\Code\\HR_log.txt\"]\n",
      "C:\\Users\\AGursky\\AppData\\Local\\Temp\\ipykernel_15504\\24995482.py:1: SyntaxWarning: invalid escape sequence '\\H'\n",
      "  log_paths = [\"..\\InSyncConnection\\Code\\clinical_log.txt\", \"..\\HR Portal\\Code\\HR_log.txt\"]\n"
     ]
    },
    {
     "name": "stderr",
     "output_type": "stream",
     "text": [
      "C:\\Users\\AGursky\\AppData\\Local\\Temp\\ipykernel_15504\\24995482.py:35: FutureWarning: The behavior of DataFrame concatenation with empty or all-NA entries is deprecated. In a future version, this will no longer exclude empty or all-NA columns when determining the result dtypes. To retain the old behavior, exclude the relevant entries before the concat operation.\n",
      "  all_exceptions_df = pd.concat([all_exceptions_df,df])\n"
     ]
    },
    {
     "data": {
      "text/html": [
       "<div>\n",
       "<style scoped>\n",
       "    .dataframe tbody tr th:only-of-type {\n",
       "        vertical-align: middle;\n",
       "    }\n",
       "\n",
       "    .dataframe tbody tr th {\n",
       "        vertical-align: top;\n",
       "    }\n",
       "\n",
       "    .dataframe thead th {\n",
       "        text-align: right;\n",
       "    }\n",
       "</style>\n",
       "<table border=\"1\" class=\"dataframe\">\n",
       "  <thead>\n",
       "    <tr style=\"text-align: right;\">\n",
       "      <th></th>\n",
       "      <th>Date</th>\n",
       "      <th>Program</th>\n",
       "      <th>Level</th>\n",
       "      <th>Message</th>\n",
       "      <th>Today</th>\n",
       "    </tr>\n",
       "  </thead>\n",
       "  <tbody>\n",
       "    <tr>\n",
       "      <th>2814</th>\n",
       "      <td>2023-07-06 16:26:56</td>\n",
       "      <td>root</td>\n",
       "      <td>ERROR</td>\n",
       "      <td>Failed to push: emr_PatientDetails \\n      Tra...</td>\n",
       "      <td>False</td>\n",
       "    </tr>\n",
       "    <tr>\n",
       "      <th>2934</th>\n",
       "      <td>2023-07-07 07:18:21</td>\n",
       "      <td>root</td>\n",
       "      <td>ERROR</td>\n",
       "      <td>Failed to push: emr_PatientDetails \\n      Tra...</td>\n",
       "      <td>False</td>\n",
       "    </tr>\n",
       "    <tr>\n",
       "      <th>3054</th>\n",
       "      <td>2023-07-08 07:16:08</td>\n",
       "      <td>root</td>\n",
       "      <td>ERROR</td>\n",
       "      <td>Failed to push: emr_PatientDetails \\n      Tra...</td>\n",
       "      <td>False</td>\n",
       "    </tr>\n",
       "    <tr>\n",
       "      <th>3174</th>\n",
       "      <td>2023-07-09 07:16:16</td>\n",
       "      <td>root</td>\n",
       "      <td>ERROR</td>\n",
       "      <td>Failed to push: emr_PatientDetails \\n      Tra...</td>\n",
       "      <td>False</td>\n",
       "    </tr>\n",
       "    <tr>\n",
       "      <th>3294</th>\n",
       "      <td>2023-07-10 07:16:18</td>\n",
       "      <td>root</td>\n",
       "      <td>ERROR</td>\n",
       "      <td>Failed to push: emr_PatientDetails \\n      Tra...</td>\n",
       "      <td>False</td>\n",
       "    </tr>\n",
       "    <tr>\n",
       "      <th>...</th>\n",
       "      <td>...</td>\n",
       "      <td>...</td>\n",
       "      <td>...</td>\n",
       "      <td>...</td>\n",
       "      <td>...</td>\n",
       "    </tr>\n",
       "    <tr>\n",
       "      <th>74652</th>\n",
       "      <td>2023-11-19 21:30:33</td>\n",
       "      <td>HR Trainings</td>\n",
       "      <td>ERROR</td>\n",
       "      <td>Failed to write data to excel.\\nTraceback (mos...</td>\n",
       "      <td>False</td>\n",
       "    </tr>\n",
       "    <tr>\n",
       "      <th>211100</th>\n",
       "      <td>2024-05-03 12:45:36</td>\n",
       "      <td>HR Trainings</td>\n",
       "      <td>ERROR</td>\n",
       "      <td>Failed to query directors.\\nTraceback (most re...</td>\n",
       "      <td>False</td>\n",
       "    </tr>\n",
       "    <tr>\n",
       "      <th>211108</th>\n",
       "      <td>2024-05-03 12:45:38</td>\n",
       "      <td>HR Trainings</td>\n",
       "      <td>ERROR</td>\n",
       "      <td>Failed to calculated percentages by director.\\...</td>\n",
       "      <td>False</td>\n",
       "    </tr>\n",
       "    <tr>\n",
       "      <th>211114</th>\n",
       "      <td>2024-05-03 12:45:38</td>\n",
       "      <td>HR Trainings</td>\n",
       "      <td>ERROR</td>\n",
       "      <td>Failed to write data to excel.\\nTraceback (mos...</td>\n",
       "      <td>False</td>\n",
       "    </tr>\n",
       "    <tr>\n",
       "      <th>222805</th>\n",
       "      <td>2024-10-08 10:10:13</td>\n",
       "      <td>HR Trainings</td>\n",
       "      <td>ERROR</td>\n",
       "      <td>Failed to query user info.\\nTraceback (most re...</td>\n",
       "      <td>False</td>\n",
       "    </tr>\n",
       "  </tbody>\n",
       "</table>\n",
       "<p>1813 rows × 5 columns</p>\n",
       "</div>"
      ],
      "text/plain": [
       "                       Date       Program  Level  \\\n",
       "2814    2023-07-06 16:26:56          root  ERROR   \n",
       "2934    2023-07-07 07:18:21          root  ERROR   \n",
       "3054    2023-07-08 07:16:08          root  ERROR   \n",
       "3174    2023-07-09 07:16:16          root  ERROR   \n",
       "3294    2023-07-10 07:16:18          root  ERROR   \n",
       "...                     ...           ...    ...   \n",
       "74652   2023-11-19 21:30:33  HR Trainings  ERROR   \n",
       "211100  2024-05-03 12:45:36  HR Trainings  ERROR   \n",
       "211108  2024-05-03 12:45:38  HR Trainings  ERROR   \n",
       "211114  2024-05-03 12:45:38  HR Trainings  ERROR   \n",
       "222805  2024-10-08 10:10:13  HR Trainings  ERROR   \n",
       "\n",
       "                                                  Message  Today  \n",
       "2814    Failed to push: emr_PatientDetails \\n      Tra...  False  \n",
       "2934    Failed to push: emr_PatientDetails \\n      Tra...  False  \n",
       "3054    Failed to push: emr_PatientDetails \\n      Tra...  False  \n",
       "3174    Failed to push: emr_PatientDetails \\n      Tra...  False  \n",
       "3294    Failed to push: emr_PatientDetails \\n      Tra...  False  \n",
       "...                                                   ...    ...  \n",
       "74652   Failed to write data to excel.\\nTraceback (mos...  False  \n",
       "211100  Failed to query directors.\\nTraceback (most re...  False  \n",
       "211108  Failed to calculated percentages by director.\\...  False  \n",
       "211114  Failed to write data to excel.\\nTraceback (mos...  False  \n",
       "222805  Failed to query user info.\\nTraceback (most re...  False  \n",
       "\n",
       "[1813 rows x 5 columns]"
      ]
     },
     "execution_count": 3,
     "metadata": {},
     "output_type": "execute_result"
    }
   ],
   "source": [
    "log_paths = [\"..\\InSyncConnection\\Code\\clinical_log.txt\", \"..\\HR Portal\\Code\\HR_log.txt\"]\n",
    "date_pattern = r'\\d{4}-\\d{2}-\\d{2}'  # Example date pattern (yyyy-mm-dd)\n",
    "\n",
    "all_exceptions_df = pd.DataFrame(columns=['Date','Program','Level','Message','Today'])\n",
    "for path in log_paths:\n",
    "    log = path.split('\\\\')[-1]\n",
    "    try:\n",
    "        logger.info(f\"Currently reading logs from {log}\")\n",
    "        # Read the log file into a DataFrame using regex pattern for splitting\n",
    "        with open(path, 'r') as file:\n",
    "            lines = file.read()\n",
    "\n",
    "        entries = re.split(rf'(?={date_pattern})', lines)  # Split log entries based on date pattern\n",
    "\n",
    "        # Create a DataFrame with the log entries\n",
    "        df = pd.DataFrame({'Entry': entries})\n",
    "\n",
    "        # split df into 4 columns based off of first four commas (Split columns based on info)\n",
    "        df[[\"Date\",\"Foo\",\"Program\",\"Level\",\"Message\"]] = df['Entry'].str.split(\",\",n=4,expand=True)\n",
    "        # df\n",
    "\n",
    "        # select date, program, level and message columns \n",
    "        df = df[[\"Date\",\"Program\",\"Level\",\"Message\"]]\n",
    "        # select errors\n",
    "        df = df[df[\"Level\"] == \"ERROR\"]\n",
    "\n",
    "        # Today's exceptions\n",
    "        # get today's date\n",
    "        today = pd.Timestamp(datetime.date.today())\n",
    "        today = str(today.date())\n",
    "\n",
    "        # check if Date of Exception contains today's date\n",
    "        df['Today'] = df['Date'].apply(lambda entry: today in entry).astype('boolean')\n",
    "        \n",
    "        all_exceptions_df = pd.concat([all_exceptions_df,df])\n",
    "        logger.info(f\"Successfully read logs from {log}, concated with all exceptions\")\n",
    "    except Exception as e:\n",
    "        logger.error(f\"Failed to read logs from {log}\", exc_info=True)\n",
    "        print(e)\n",
    "\n",
    "all_exceptions_df"
   ]
  },
  {
   "cell_type": "markdown",
   "id": "f0d3e3b7",
   "metadata": {
    "papermill": {
     "duration": 0.004,
     "end_time": "2024-10-15T14:49:08.237496",
     "exception": false,
     "start_time": "2024-10-15T14:49:08.233496",
     "status": "completed"
    },
    "tags": []
   },
   "source": [
    "## Write to db "
   ]
  },
  {
   "cell_type": "code",
   "execution_count": 4,
   "id": "03cf2503",
   "metadata": {
    "ExecuteTime": {
     "end_time": "2023-08-09T17:35:54.684736Z",
     "start_time": "2023-08-09T17:35:54.647382Z"
    },
    "execution": {
     "iopub.execute_input": "2024-10-15T14:49:08.245495Z",
     "iopub.status.busy": "2024-10-15T14:49:08.245495Z",
     "iopub.status.idle": "2024-10-15T14:49:08.610224Z",
     "shell.execute_reply": "2024-10-15T14:49:08.610224Z"
    },
    "papermill": {
     "duration": 0.36973,
     "end_time": "2024-10-15T14:49:08.610224",
     "exception": false,
     "start_time": "2024-10-15T14:49:08.240494",
     "status": "completed"
    },
    "tags": []
   },
   "outputs": [
    {
     "name": "stdout",
     "output_type": "stream",
     "text": [
      "table created\n"
     ]
    },
    {
     "name": "stdout",
     "output_type": "stream",
     "text": [
      "data pushed\n"
     ]
    }
   ],
   "source": [
    "# connect to db\n",
    "conn = sqlite3.connect('CodingDB.db')\n",
    "table_name = \"coding_errors\"\n",
    "\n",
    "# create table\n",
    "try:\n",
    "    c = conn.cursor()\n",
    "    c.execute(f'''CREATE TABLE IF NOT EXISTS {table_name} (Program, TEXT,\n",
    "                                                           Level TEXT,\n",
    "                                                           Message TEXT)''')\n",
    "    conn.commit()\n",
    "    logger.info(f\"Successfully created {table_name}.\")\n",
    "    print(\"table created\")\n",
    "except Exception as e:\n",
    "    logger.error(f\"Failed to create {table_name}.\", exc_info=True) \n",
    "    print(e)\n",
    "\n",
    "# push data into table\n",
    "try:\n",
    "    all_exceptions_df.to_sql(table_name, conn, if_exists='replace', index = False)\n",
    "    logger.info(f\"Successfully pushed data to {table_name}\")\n",
    "    print(\"data pushed\")\n",
    "except Exception as e:\n",
    "    logger.error(f\"Failed to push data to {table_name}.\", exc_info=True) \n",
    "    print(e)\n",
    "    "
   ]
  },
  {
   "cell_type": "code",
   "execution_count": 5,
   "id": "a22723d7",
   "metadata": {
    "ExecuteTime": {
     "end_time": "2023-08-09T17:35:54.693776Z",
     "start_time": "2023-08-09T17:35:54.686734Z"
    },
    "execution": {
     "iopub.execute_input": "2024-10-15T14:49:08.610224Z",
     "iopub.status.busy": "2024-10-15T14:49:08.610224Z",
     "iopub.status.idle": "2024-10-15T14:49:08.630010Z",
     "shell.execute_reply": "2024-10-15T14:49:08.630010Z"
    },
    "papermill": {
     "duration": 0.019786,
     "end_time": "2024-10-15T14:49:08.630010",
     "exception": false,
     "start_time": "2024-10-15T14:49:08.610224",
     "status": "completed"
    },
    "tags": []
   },
   "outputs": [],
   "source": [
    "conn.close()\n",
    "logging.shutdown()"
   ]
  },
  {
   "cell_type": "code",
   "execution_count": null,
   "id": "cdddcc37",
   "metadata": {
    "papermill": {
     "duration": 0.0,
     "end_time": "2024-10-15T14:49:08.630010",
     "exception": false,
     "start_time": "2024-10-15T14:49:08.630010",
     "status": "completed"
    },
    "tags": []
   },
   "outputs": [],
   "source": []
  }
 ],
 "metadata": {
  "kernelspec": {
   "display_name": "DataPipeline_Env",
   "language": "python",
   "name": "datapipeline_env"
  },
  "language_info": {
   "codemirror_mode": {
    "name": "ipython",
    "version": 3
   },
   "file_extension": ".py",
   "mimetype": "text/x-python",
   "name": "python",
   "nbconvert_exporter": "python",
   "pygments_lexer": "ipython3",
   "version": "3.12.4"
  },
  "papermill": {
   "default_parameters": {},
   "duration": 10.935859,
   "end_time": "2024-10-15T14:49:08.960279",
   "environment_variables": {},
   "exception": null,
   "input_path": "Log and Exception Notifications.ipynb",
   "output_path": "snapshots/Log and Exception Notifications.ipynb",
   "parameters": {},
   "start_time": "2024-10-15T14:48:58.024420",
   "version": "2.6.0"
  },
  "toc": {
   "base_numbering": 1,
   "nav_menu": {},
   "number_sections": true,
   "sideBar": true,
   "skip_h1_title": false,
   "title_cell": "Table of Contents",
   "title_sidebar": "Contents",
   "toc_cell": false,
   "toc_position": {
    "height": "calc(100% - 180px)",
    "left": "10px",
    "top": "150px",
    "width": "221.6px"
   },
   "toc_section_display": true,
   "toc_window_display": true
  },
  "varInspector": {
   "cols": {
    "lenName": 16,
    "lenType": 16,
    "lenVar": 40
   },
   "kernels_config": {
    "python": {
     "delete_cmd_postfix": "",
     "delete_cmd_prefix": "del ",
     "library": "var_list.py",
     "varRefreshCmd": "print(var_dic_list())"
    },
    "r": {
     "delete_cmd_postfix": ") ",
     "delete_cmd_prefix": "rm(",
     "library": "var_list.r",
     "varRefreshCmd": "cat(var_dic_list()) "
    }
   },
   "types_to_exclude": [
    "module",
    "function",
    "builtin_function_or_method",
    "instance",
    "_Feature"
   ],
   "window_display": false
  }
 },
 "nbformat": 4,
 "nbformat_minor": 5
}