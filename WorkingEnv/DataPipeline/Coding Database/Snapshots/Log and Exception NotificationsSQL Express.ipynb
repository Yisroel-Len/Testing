{
 "cells": [
  {
   "cell_type": "code",
   "execution_count": 1,
   "id": "5f1b57a6",
   "metadata": {
    "ExecuteTime": {
     "end_time": "2024-09-18T15:38:03.861475Z",
     "start_time": "2024-09-18T15:38:03.853500Z"
    },
    "execution": {
     "iopub.execute_input": "2024-10-15T15:07:47.323301Z",
     "iopub.status.busy": "2024-10-15T15:07:47.322301Z",
     "iopub.status.idle": "2024-10-15T15:07:48.611201Z",
     "shell.execute_reply": "2024-10-15T15:07:48.610671Z"
    },
    "papermill": {
     "duration": 1.298745,
     "end_time": "2024-10-15T15:07:48.613670",
     "exception": false,
     "start_time": "2024-10-15T15:07:47.314925",
     "status": "completed"
    },
    "tags": []
   },
   "outputs": [],
   "source": [
    "import pandas as pd\n",
    "import re\n",
    "import numpy as np\n",
    "import pyodbc \n",
    "import time\n",
    "import datetime\n",
    "import sqlite3\n",
    "import logging\n",
    "from sqlalchemy import create_engine"
   ]
  },
  {
   "cell_type": "code",
   "execution_count": 2,
   "id": "7eee803d",
   "metadata": {
    "ExecuteTime": {
     "end_time": "2024-09-17T20:05:31.294685Z",
     "start_time": "2024-09-17T20:05:31.291180Z"
    },
    "execution": {
     "iopub.execute_input": "2024-10-15T15:07:48.622116Z",
     "iopub.status.busy": "2024-10-15T15:07:48.622116Z",
     "iopub.status.idle": "2024-10-15T15:07:48.630128Z",
     "shell.execute_reply": "2024-10-15T15:07:48.629596Z"
    },
    "papermill": {
     "duration": 0.014624,
     "end_time": "2024-10-15T15:07:48.632260",
     "exception": false,
     "start_time": "2024-10-15T15:07:48.617636",
     "status": "completed"
    },
    "tags": []
   },
   "outputs": [
    {
     "name": "stderr",
     "output_type": "stream",
     "text": [
      "<>:1: SyntaxWarning: invalid escape sequence '\\L'\n",
      "<>:1: SyntaxWarning: invalid escape sequence '\\L'\n",
      "C:\\Users\\AGursky\\AppData\\Local\\Temp\\ipykernel_17364\\3497346663.py:1: SyntaxWarning: invalid escape sequence '\\L'\n",
      "  path = \"..\\Logs\\coding_database_log.log\"\n"
     ]
    }
   ],
   "source": [
    "path = \"..\\Logs\\coding_database_log.log\"\n",
    "logging.basicConfig(filename=path,\n",
    "                    filemode='a',\n",
    "                    format='%(asctime)s,%(msecs)d,%(name)s,%(levelname)s,%(message)s',\n",
    "                    datefmt='%Y-%m-%d %H:%M:%S',\n",
    "                    level=logging.DEBUG)\n",
    "logger = logging.getLogger(\"Log and Exception Notifications\")\n",
    "# logger.info(\"log test\")"
   ]
  },
  {
   "cell_type": "markdown",
   "id": "f5aa9f9f",
   "metadata": {
    "papermill": {
     "duration": 0.004652,
     "end_time": "2024-10-15T15:07:48.640111",
     "exception": false,
     "start_time": "2024-10-15T15:07:48.635459",
     "status": "completed"
    },
    "tags": []
   },
   "source": [
    "## Read in log file "
   ]
  },
  {
   "cell_type": "code",
   "execution_count": 3,
   "id": "23173096",
   "metadata": {
    "ExecuteTime": {
     "end_time": "2024-09-18T15:38:36.469819Z",
     "start_time": "2024-09-18T15:38:36.455949Z"
    },
    "execution": {
     "iopub.execute_input": "2024-10-15T15:07:48.648041Z",
     "iopub.status.busy": "2024-10-15T15:07:48.648041Z",
     "iopub.status.idle": "2024-10-15T15:07:48.659024Z",
     "shell.execute_reply": "2024-10-15T15:07:48.658496Z"
    },
    "papermill": {
     "duration": 0.017249,
     "end_time": "2024-10-15T15:07:48.660871",
     "exception": false,
     "start_time": "2024-10-15T15:07:48.643622",
     "status": "completed"
    },
    "tags": []
   },
   "outputs": [
    {
     "name": "stderr",
     "output_type": "stream",
     "text": [
      "<>:4: SyntaxWarning: invalid escape sequence '\\L'\n",
      "<>:4: SyntaxWarning: invalid escape sequence '\\L'\n",
      "C:\\Users\\AGursky\\AppData\\Local\\Temp\\ipykernel_17364\\561205696.py:4: SyntaxWarning: invalid escape sequence '\\L'\n",
      "  log_path = \"..\\Logs\\\\\"\n"
     ]
    },
    {
     "data": {
      "text/plain": [
       "['..\\\\Logs\\\\clinical_log.log',\n",
       " '..\\\\Logs\\\\coding_database_log.log',\n",
       " '..\\\\Logs\\\\foothold_log.log',\n",
       " '..\\\\Logs\\\\HR_log.log']"
      ]
     },
     "execution_count": 3,
     "metadata": {},
     "output_type": "execute_result"
    }
   ],
   "source": [
    "import os\n",
    "\n",
    "try:     # dynamically get all files in the Logs folder\n",
    "    log_path = \"..\\Logs\\\\\"\n",
    "    log_files = os.listdir(log_path)\n",
    "\n",
    "    # add the path to the begining of all file names\n",
    "    log_files = [log_path + file for file in log_files]\n",
    "    \n",
    "    logger.info(f\"Successfully got log paths\")\n",
    "except Exception as e:\n",
    "    logger.error(f\"Failed to get log paths.\", exc_info=True) \n",
    "    print(e)\n",
    "\n",
    "log_files"
   ]
  },
  {
   "cell_type": "code",
   "execution_count": 4,
   "id": "2cbcfc49",
   "metadata": {
    "ExecuteTime": {
     "end_time": "2024-09-18T15:39:26.027326Z",
     "start_time": "2024-09-18T15:39:25.793608Z"
    },
    "execution": {
     "iopub.execute_input": "2024-10-15T15:07:48.670277Z",
     "iopub.status.busy": "2024-10-15T15:07:48.669716Z",
     "iopub.status.idle": "2024-10-15T15:07:50.661134Z",
     "shell.execute_reply": "2024-10-15T15:07:50.660299Z"
    },
    "papermill": {
     "duration": 1.998264,
     "end_time": "2024-10-15T15:07:50.663576",
     "exception": false,
     "start_time": "2024-10-15T15:07:48.665312",
     "status": "completed"
    },
    "tags": []
   },
   "outputs": [
    {
     "name": "stderr",
     "output_type": "stream",
     "text": [
      "C:\\Users\\AGursky\\AppData\\Local\\Temp\\ipykernel_17364\\2766351826.py:35: FutureWarning: The behavior of DataFrame concatenation with empty or all-NA entries is deprecated. In a future version, this will no longer exclude empty or all-NA columns when determining the result dtypes. To retain the old behavior, exclude the relevant entries before the concat operation.\n",
      "  all_exceptions_df = pd.concat([all_exceptions_df,df])\n"
     ]
    },
    {
     "data": {
      "text/html": [
       "<div>\n",
       "<style scoped>\n",
       "    .dataframe tbody tr th:only-of-type {\n",
       "        vertical-align: middle;\n",
       "    }\n",
       "\n",
       "    .dataframe tbody tr th {\n",
       "        vertical-align: top;\n",
       "    }\n",
       "\n",
       "    .dataframe thead th {\n",
       "        text-align: right;\n",
       "    }\n",
       "</style>\n",
       "<table border=\"1\" class=\"dataframe\">\n",
       "  <thead>\n",
       "    <tr style=\"text-align: right;\">\n",
       "      <th></th>\n",
       "      <th>Date</th>\n",
       "      <th>Program</th>\n",
       "      <th>Level</th>\n",
       "      <th>Message</th>\n",
       "      <th>Today</th>\n",
       "    </tr>\n",
       "  </thead>\n",
       "  <tbody>\n",
       "    <tr>\n",
       "      <th>2814</th>\n",
       "      <td>2023-07-06 16:26:56</td>\n",
       "      <td>root</td>\n",
       "      <td>ERROR</td>\n",
       "      <td>Failed to push: emr_PatientDetails \\n      Tra...</td>\n",
       "      <td>False</td>\n",
       "    </tr>\n",
       "    <tr>\n",
       "      <th>2934</th>\n",
       "      <td>2023-07-07 07:18:21</td>\n",
       "      <td>root</td>\n",
       "      <td>ERROR</td>\n",
       "      <td>Failed to push: emr_PatientDetails \\n      Tra...</td>\n",
       "      <td>False</td>\n",
       "    </tr>\n",
       "    <tr>\n",
       "      <th>3054</th>\n",
       "      <td>2023-07-08 07:16:08</td>\n",
       "      <td>root</td>\n",
       "      <td>ERROR</td>\n",
       "      <td>Failed to push: emr_PatientDetails \\n      Tra...</td>\n",
       "      <td>False</td>\n",
       "    </tr>\n",
       "    <tr>\n",
       "      <th>3174</th>\n",
       "      <td>2023-07-09 07:16:16</td>\n",
       "      <td>root</td>\n",
       "      <td>ERROR</td>\n",
       "      <td>Failed to push: emr_PatientDetails \\n      Tra...</td>\n",
       "      <td>False</td>\n",
       "    </tr>\n",
       "    <tr>\n",
       "      <th>3294</th>\n",
       "      <td>2023-07-10 07:16:18</td>\n",
       "      <td>root</td>\n",
       "      <td>ERROR</td>\n",
       "      <td>Failed to push: emr_PatientDetails \\n      Tra...</td>\n",
       "      <td>False</td>\n",
       "    </tr>\n",
       "    <tr>\n",
       "      <th>...</th>\n",
       "      <td>...</td>\n",
       "      <td>...</td>\n",
       "      <td>...</td>\n",
       "      <td>...</td>\n",
       "      <td>...</td>\n",
       "    </tr>\n",
       "    <tr>\n",
       "      <th>1405</th>\n",
       "      <td>2024-09-25 10:47:14</td>\n",
       "      <td>Connecting Logs to ExtractFootholdData</td>\n",
       "      <td>ERROR</td>\n",
       "      <td>Failed to get data for: ExtractFootholdData \\n...</td>\n",
       "      <td>False</td>\n",
       "    </tr>\n",
       "    <tr>\n",
       "      <th>1408</th>\n",
       "      <td>2024-09-25 14:58:14</td>\n",
       "      <td>Connecting Logs to ExtractFootholdData</td>\n",
       "      <td>ERROR</td>\n",
       "      <td>Failed to get data for: ExtractFootholdData \\n...</td>\n",
       "      <td>False</td>\n",
       "    </tr>\n",
       "    <tr>\n",
       "      <th>1410</th>\n",
       "      <td>2024-09-26 08:09:28</td>\n",
       "      <td>Connecting Logs to ExtractFootholdData</td>\n",
       "      <td>ERROR</td>\n",
       "      <td>Failed to get data for: ExtractFootholdData \\n...</td>\n",
       "      <td>False</td>\n",
       "    </tr>\n",
       "    <tr>\n",
       "      <th>1412</th>\n",
       "      <td>2024-09-26 17:13:10</td>\n",
       "      <td>Foothold</td>\n",
       "      <td>ERROR</td>\n",
       "      <td>Failed to get data for: ExtractFootholdData \\n...</td>\n",
       "      <td>False</td>\n",
       "    </tr>\n",
       "    <tr>\n",
       "      <th>1579</th>\n",
       "      <td>2024-10-07 12:34:46</td>\n",
       "      <td>Foothold</td>\n",
       "      <td>ERROR</td>\n",
       "      <td>Failed to get data for: ExtractFootholdData \\n...</td>\n",
       "      <td>False</td>\n",
       "    </tr>\n",
       "  </tbody>\n",
       "</table>\n",
       "<p>1439 rows × 5 columns</p>\n",
       "</div>"
      ],
      "text/plain": [
       "                     Date                                 Program  Level  \\\n",
       "2814  2023-07-06 16:26:56                                    root  ERROR   \n",
       "2934  2023-07-07 07:18:21                                    root  ERROR   \n",
       "3054  2023-07-08 07:16:08                                    root  ERROR   \n",
       "3174  2023-07-09 07:16:16                                    root  ERROR   \n",
       "3294  2023-07-10 07:16:18                                    root  ERROR   \n",
       "...                   ...                                     ...    ...   \n",
       "1405  2024-09-25 10:47:14  Connecting Logs to ExtractFootholdData  ERROR   \n",
       "1408  2024-09-25 14:58:14  Connecting Logs to ExtractFootholdData  ERROR   \n",
       "1410  2024-09-26 08:09:28  Connecting Logs to ExtractFootholdData  ERROR   \n",
       "1412  2024-09-26 17:13:10                                Foothold  ERROR   \n",
       "1579  2024-10-07 12:34:46                                Foothold  ERROR   \n",
       "\n",
       "                                                Message  Today  \n",
       "2814  Failed to push: emr_PatientDetails \\n      Tra...  False  \n",
       "2934  Failed to push: emr_PatientDetails \\n      Tra...  False  \n",
       "3054  Failed to push: emr_PatientDetails \\n      Tra...  False  \n",
       "3174  Failed to push: emr_PatientDetails \\n      Tra...  False  \n",
       "3294  Failed to push: emr_PatientDetails \\n      Tra...  False  \n",
       "...                                                 ...    ...  \n",
       "1405  Failed to get data for: ExtractFootholdData \\n...  False  \n",
       "1408  Failed to get data for: ExtractFootholdData \\n...  False  \n",
       "1410  Failed to get data for: ExtractFootholdData \\n...  False  \n",
       "1412  Failed to get data for: ExtractFootholdData \\n...  False  \n",
       "1579  Failed to get data for: ExtractFootholdData \\n...  False  \n",
       "\n",
       "[1439 rows x 5 columns]"
      ]
     },
     "execution_count": 4,
     "metadata": {},
     "output_type": "execute_result"
    }
   ],
   "source": [
    "date_pattern = r'\\d{4}-\\d{2}-\\d{2}'  # Example date pattern (yyyy-mm-dd)\n",
    "\n",
    "all_exceptions_df = pd.DataFrame(columns=['Date','Program','Level','Message','Today'])\n",
    "for path in log_files:\n",
    "    log = path.split('\\\\')[-1]\n",
    "    try:\n",
    "        logger.info(f\"Currently reading logs from {log}\")\n",
    "        # Read the log file into a DataFrame using regex pattern for splitting\n",
    "        with open(path, 'r') as file:\n",
    "            lines = file.read()\n",
    "#             print(\"read file\")\n",
    "\n",
    "        entries = re.split(rf'(?={date_pattern})', lines)  # Split log entries based on date pattern\n",
    "\n",
    "        # Create a DataFrame with the log entries\n",
    "        df = pd.DataFrame({'Entry': entries})\n",
    "\n",
    "        # split df into 4 columns based off of first four commas (Split columns based on info)\n",
    "        df[[\"Date\",\"Foo\",\"Program\",\"Level\",\"Message\"]] = df['Entry'].str.split(\",\",n=4,expand=True)\n",
    "        # df\n",
    "\n",
    "        # select date, program, level and message columns \n",
    "        df = df[[\"Date\",\"Program\",\"Level\",\"Message\"]]\n",
    "        # select errors\n",
    "        df = df[df[\"Level\"] == \"ERROR\"]\n",
    "\n",
    "        # Today's exceptions\n",
    "        # get today's date\n",
    "        today = pd.Timestamp(datetime.date.today())\n",
    "        today = str(today.date())\n",
    "\n",
    "        # check if Date of Exception contains today's date\n",
    "        df['Today'] = df['Date'].apply(lambda entry: today in entry).astype('boolean')\n",
    "        \n",
    "        all_exceptions_df = pd.concat([all_exceptions_df,df])\n",
    "        logger.info(f\"Successfully read logs from {log}, concated with all exceptions\")\n",
    "    except Exception as e:\n",
    "        logger.error(f\"Failed to read logs from {log}\", exc_info=True)\n",
    "        print(e)\n",
    "\n",
    "all_exceptions_df"
   ]
  },
  {
   "cell_type": "markdown",
   "id": "f0d3e3b7",
   "metadata": {
    "papermill": {
     "duration": 0.00483,
     "end_time": "2024-10-15T15:07:50.673388",
     "exception": false,
     "start_time": "2024-10-15T15:07:50.668558",
     "status": "completed"
    },
    "tags": []
   },
   "source": [
    "## Write to db "
   ]
  },
  {
   "cell_type": "code",
   "execution_count": 5,
   "id": "03cf2503",
   "metadata": {
    "ExecuteTime": {
     "end_time": "2024-09-17T20:05:32.945828Z",
     "start_time": "2024-09-17T20:05:32.180471Z"
    },
    "execution": {
     "iopub.execute_input": "2024-10-15T15:07:50.683990Z",
     "iopub.status.busy": "2024-10-15T15:07:50.683105Z",
     "iopub.status.idle": "2024-10-15T15:07:51.231528Z",
     "shell.execute_reply": "2024-10-15T15:07:51.230717Z"
    },
    "papermill": {
     "duration": 0.556975,
     "end_time": "2024-10-15T15:07:51.233564",
     "exception": false,
     "start_time": "2024-10-15T15:07:50.676589",
     "status": "completed"
    },
    "tags": []
   },
   "outputs": [
    {
     "name": "stdout",
     "output_type": "stream",
     "text": [
      "data pushed\n"
     ]
    }
   ],
   "source": [
    "# connect to db\n",
    "conn = create_engine(r'mssql+pyodbc://@PYTHONSERVER\\SQLEXPRESS/Coding_Logs?driver=ODBC+Driver+17+for+SQL+Server&trusted_connection=yes', fast_executemany=True)\n",
    "\n",
    "table_name = \"coding_errors\"\n",
    "\n",
    "# create table\n",
    "# try:\n",
    "#     c = conn.cursor()\n",
    "#     c.execute(f'''CREATE TABLE IF NOT EXISTS {table_name} (Program, TEXT,\n",
    "#                                                            Level TEXT,\n",
    "#                                                            Message TEXT)''')\n",
    "#     conn.commit()\n",
    "#     logger.info(f\"Successfully created {table_name}.\")\n",
    "#     print(\"table created\")\n",
    "# except Exception as e:\n",
    "#     logger.error(f\"Failed to create {table_name}.\", exc_info=True) \n",
    "#     print(e)\n",
    "\n",
    "# push data into table\n",
    "try:\n",
    "    all_exceptions_df.to_sql(table_name, conn, if_exists='replace', index = False)\n",
    "    logger.info(f\"Successfully pushed data to {table_name}\")\n",
    "    print(\"data pushed\")\n",
    "except Exception as e:\n",
    "    logger.error(f\"Failed to push data to {table_name}.\", exc_info=True) \n",
    "    print(e)\n",
    "    "
   ]
  },
  {
   "cell_type": "code",
   "execution_count": 6,
   "id": "a22723d7",
   "metadata": {
    "ExecuteTime": {
     "end_time": "2024-09-17T20:05:32.949980Z",
     "start_time": "2024-09-17T20:05:32.946836Z"
    },
    "execution": {
     "iopub.execute_input": "2024-10-15T15:07:51.248011Z",
     "iopub.status.busy": "2024-10-15T15:07:51.247479Z",
     "iopub.status.idle": "2024-10-15T15:07:51.251692Z",
     "shell.execute_reply": "2024-10-15T15:07:51.250968Z"
    },
    "papermill": {
     "duration": 0.012855,
     "end_time": "2024-10-15T15:07:51.254062",
     "exception": false,
     "start_time": "2024-10-15T15:07:51.241207",
     "status": "completed"
    },
    "tags": []
   },
   "outputs": [],
   "source": [
    "# conn.close()\n",
    "# logging.shutdown()"
   ]
  }
 ],
 "metadata": {
  "kernelspec": {
   "display_name": "Python 3 (ipykernel)",
   "language": "python",
   "name": "python3"
  },
  "language_info": {
   "codemirror_mode": {
    "name": "ipython",
    "version": 3
   },
   "file_extension": ".py",
   "mimetype": "text/x-python",
   "name": "python",
   "nbconvert_exporter": "python",
   "pygments_lexer": "ipython3",
   "version": "3.12.4"
  },
  "papermill": {
   "default_parameters": {},
   "duration": 8.308263,
   "end_time": "2024-10-15T15:07:51.698947",
   "environment_variables": {},
   "exception": null,
   "input_path": "Log and Exception NotificationsSQL Express.ipynb",
   "output_path": "snapshots/Log and Exception NotificationsSQL Express.ipynb",
   "parameters": {},
   "start_time": "2024-10-15T15:07:43.390684",
   "version": "2.6.0"
  },
  "toc": {
   "base_numbering": 1,
   "nav_menu": {},
   "number_sections": true,
   "sideBar": true,
   "skip_h1_title": false,
   "title_cell": "Table of Contents",
   "title_sidebar": "Contents",
   "toc_cell": false,
   "toc_position": {
    "height": "calc(100% - 180px)",
    "left": "10px",
    "top": "150px",
    "width": "467.6px"
   },
   "toc_section_display": true,
   "toc_window_display": false
  },
  "varInspector": {
   "cols": {
    "lenName": 16,
    "lenType": 16,
    "lenVar": 40
   },
   "kernels_config": {
    "python": {
     "delete_cmd_postfix": "",
     "delete_cmd_prefix": "del ",
     "library": "var_list.py",
     "varRefreshCmd": "print(var_dic_list())"
    },
    "r": {
     "delete_cmd_postfix": ") ",
     "delete_cmd_prefix": "rm(",
     "library": "var_list.r",
     "varRefreshCmd": "cat(var_dic_list()) "
    }
   },
   "types_to_exclude": [
    "module",
    "function",
    "builtin_function_or_method",
    "instance",
    "_Feature"
   ],
   "window_display": false
  }
 },
 "nbformat": 4,
 "nbformat_minor": 5
}