{
 "cells": [
  {
   "cell_type": "code",
   "execution_count": null,
   "id": "5f1b57a6",
   "metadata": {
    "ExecuteTime": {
     "end_time": "2023-08-09T17:35:54.521749Z",
     "start_time": "2023-08-09T17:35:54.518409Z"
    },
    "papermill": {
     "duration": null,
     "end_time": null,
     "exception": null,
     "start_time": null,
     "status": "pending"
    },
    "tags": []
   },
   "outputs": [],
   "source": [
    "import pandas as pd\n",
    "import re\n",
    "import numpy as np\n",
    "import pyodbc \n",
    "import time\n",
    "import datetime\n",
    "import sqlite3\n",
    "import logging"
   ]
  },
  {
   "cell_type": "code",
   "execution_count": null,
   "id": "7eee803d",
   "metadata": {
    "ExecuteTime": {
     "end_time": "2023-08-09T17:35:54.533000Z",
     "start_time": "2023-08-09T17:35:54.524746Z"
    },
    "papermill": {
     "duration": null,
     "end_time": null,
     "exception": null,
     "start_time": null,
     "status": "pending"
    },
    "tags": []
   },
   "outputs": [],
   "source": [
    "logging.basicConfig(filename=\"coding_database_log.txt\",\n",
    "                    filemode='a',\n",
    "                    format='%(asctime)s,%(msecs)d,%(name)s,%(levelname)s,%(message)s',\n",
    "                    datefmt='%Y-%m-%d %H:%M:%S',\n",
    "                    level=logging.DEBUG)\n",
    "logger = logging.getLogger(\"Log and Exception Notifications\")"
   ]
  },
  {
   "cell_type": "markdown",
   "id": "f5aa9f9f",
   "metadata": {
    "papermill": {
     "duration": null,
     "end_time": null,
     "exception": null,
     "start_time": null,
     "status": "pending"
    },
    "tags": []
   },
   "source": [
    "## Read in log file "
   ]
  },
  {
   "cell_type": "code",
   "execution_count": null,
   "id": "2cbcfc49",
   "metadata": {
    "ExecuteTime": {
     "end_time": "2023-08-09T17:35:54.645384Z",
     "start_time": "2023-08-09T17:35:54.535001Z"
    },
    "papermill": {
     "duration": null,
     "end_time": null,
     "exception": null,
     "start_time": null,
     "status": "pending"
    },
    "tags": []
   },
   "outputs": [],
   "source": [
    "log_paths = [\"..\\InSyncConnection\\Code\\clinical_log.txt\", \"..\\HR Portal\\Code\\HR_log.txt\"]\n",
    "date_pattern = r'\\d{4}-\\d{2}-\\d{2}'  # Example date pattern (yyyy-mm-dd)\n",
    "\n",
    "all_exceptions_df = pd.DataFrame(columns=['Date','Program','Level','Message','Today'])\n",
    "for path in log_paths:\n",
    "    log = path.split('\\\\')[-1]\n",
    "    try:\n",
    "        logger.info(f\"Currently reading logs from {log}\")\n",
    "        # Read the log file into a DataFrame using regex pattern for splitting\n",
    "        with open(path, 'r') as file:\n",
    "            lines = file.read()\n",
    "\n",
    "        entries = re.split(rf'(?={date_pattern})', lines)  # Split log entries based on date pattern\n",
    "\n",
    "        # Create a DataFrame with the log entries\n",
    "        df = pd.DataFrame({'Entry': entries})\n",
    "\n",
    "        # split df into 4 columns based off of first four commas (Split columns based on info)\n",
    "        df[[\"Date\",\"Foo\",\"Program\",\"Level\",\"Message\"]] = df['Entry'].str.split(\",\",n=4,expand=True)\n",
    "        # df\n",
    "\n",
    "        # select date, program, level and message columns \n",
    "        df = df[[\"Date\",\"Program\",\"Level\",\"Message\"]]\n",
    "        # select errors\n",
    "        df = df[df[\"Level\"] == \"ERROR\"]\n",
    "\n",
    "        # Today's exceptions\n",
    "        # get today's date\n",
    "        today = pd.Timestamp(datetime.date.today())\n",
    "        today = str(today.date())\n",
    "\n",
    "        # check if Date of Exception contains today's date\n",
    "        df['Today'] = df['Date'].apply(lambda entry: today in entry).astype('boolean')\n",
    "        \n",
    "        all_exceptions_df = pd.concat([all_exceptions_df,df])\n",
    "        logger.info(f\"Successfully read logs from {log}, concated with all exceptions\")\n",
    "    except Exception as e:\n",
    "        logger.error(f\"Failed to read logs from {log}\", exc_info=True)\n",
    "        print(e)\n",
    "\n",
    "all_exceptions_df"
   ]
  },
  {
   "cell_type": "markdown",
   "id": "f0d3e3b7",
   "metadata": {
    "papermill": {
     "duration": null,
     "end_time": null,
     "exception": null,
     "start_time": null,
     "status": "pending"
    },
    "tags": []
   },
   "source": [
    "## Write to db "
   ]
  },
  {
   "cell_type": "code",
   "execution_count": null,
   "id": "03cf2503",
   "metadata": {
    "ExecuteTime": {
     "end_time": "2023-08-09T17:35:54.684736Z",
     "start_time": "2023-08-09T17:35:54.647382Z"
    },
    "papermill": {
     "duration": null,
     "end_time": null,
     "exception": null,
     "start_time": null,
     "status": "pending"
    },
    "tags": []
   },
   "outputs": [],
   "source": [
    "# connect to db\n",
    "conn = sqlite3.connect('CodingDB.db')\n",
    "table_name = \"coding_errors\"\n",
    "\n",
    "# create table\n",
    "try:\n",
    "    c = conn.cursor()\n",
    "    c.execute(f'''CREATE TABLE IF NOT EXISTS {table_name} (Program, TEXT,\n",
    "                                                           Level TEXT,\n",
    "                                                           Message TEXT)''')\n",
    "    conn.commit()\n",
    "    logger.info(f\"Successfully created {table_name}.\")\n",
    "    print(\"table created\")\n",
    "except Exception as e:\n",
    "    logger.error(f\"Failed to create {table_name}.\", exc_info=True) \n",
    "    print(e)\n",
    "\n",
    "# push data into table\n",
    "try:\n",
    "    all_exceptions_df.to_sql(table_name, conn, if_exists='replace', index = False)\n",
    "    logger.info(f\"Successfully pushed data to {table_name}\")\n",
    "    print(\"data pushed\")\n",
    "except Exception as e:\n",
    "    logger.error(f\"Failed to push data to {table_name}.\", exc_info=True) \n",
    "    print(e)\n",
    "    "
   ]
  },
  {
   "cell_type": "code",
   "execution_count": null,
   "id": "a22723d7",
   "metadata": {
    "ExecuteTime": {
     "end_time": "2023-08-09T17:35:54.693776Z",
     "start_time": "2023-08-09T17:35:54.686734Z"
    },
    "papermill": {
     "duration": null,
     "end_time": null,
     "exception": null,
     "start_time": null,
     "status": "pending"
    },
    "tags": []
   },
   "outputs": [],
   "source": [
    "conn.close()\n",
    "logging.shutdown()"
   ]
  },
  {
   "cell_type": "code",
   "execution_count": null,
   "id": "cdddcc37",
   "metadata": {
    "papermill": {
     "duration": null,
     "end_time": null,
     "exception": null,
     "start_time": null,
     "status": "pending"
    },
    "tags": []
   },
   "outputs": [],
   "source": []
  }
 ],
 "metadata": {
  "kernelspec": {
   "display_name": "Python 3 (ipykernel)",
   "language": "python",
   "name": "python3"
  },
  "language_info": {
   "codemirror_mode": {
    "name": "ipython",
    "version": 3
   },
   "file_extension": ".py",
   "mimetype": "text/x-python",
   "name": "python",
   "nbconvert_exporter": "python",
   "pygments_lexer": "ipython3",
   "version": "3.11.3"
  },
  "papermill": {
   "default_parameters": {},
   "duration": null,
   "end_time": null,
   "environment_variables": {},
   "exception": null,
   "input_path": "Log and Exception Notifications.ipynb",
   "output_path": "snapshots/Log and Exception Notifications.ipynb",
   "parameters": {},
   "start_time": "2024-02-02T12:55:57.630207",
   "version": "2.3.3"
  },
  "toc": {
   "base_numbering": 1,
   "nav_menu": {},
   "number_sections": true,
   "sideBar": true,
   "skip_h1_title": false,
   "title_cell": "Table of Contents",
   "title_sidebar": "Contents",
   "toc_cell": false,
   "toc_position": {
    "height": "calc(100% - 180px)",
    "left": "10px",
    "top": "150px",
    "width": "221.6px"
   },
   "toc_section_display": true,
   "toc_window_display": true
  },
  "varInspector": {
   "cols": {
    "lenName": 16,
    "lenType": 16,
    "lenVar": 40
   },
   "kernels_config": {
    "python": {
     "delete_cmd_postfix": "",
     "delete_cmd_prefix": "del ",
     "library": "var_list.py",
     "varRefreshCmd": "print(var_dic_list())"
    },
    "r": {
     "delete_cmd_postfix": ") ",
     "delete_cmd_prefix": "rm(",
     "library": "var_list.r",
     "varRefreshCmd": "cat(var_dic_list()) "
    }
   },
   "types_to_exclude": [
    "module",
    "function",
    "builtin_function_or_method",
    "instance",
    "_Feature"
   ],
   "window_display": false
  }
 },
 "nbformat": 4,
 "nbformat_minor": 5
}