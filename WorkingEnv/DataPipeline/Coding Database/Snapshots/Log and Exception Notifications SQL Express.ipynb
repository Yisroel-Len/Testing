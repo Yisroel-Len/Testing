{
 "cells": [
  {
   "cell_type": "code",
   "execution_count": 1,
   "id": "5f1b57a6",
   "metadata": {
    "ExecuteTime": {
     "end_time": "2024-09-18T15:38:03.861475Z",
     "start_time": "2024-09-18T15:38:03.853500Z"
    },
    "execution": {
     "iopub.execute_input": "2025-01-27T13:09:52.261000Z",
     "iopub.status.busy": "2025-01-27T13:09:52.260500Z",
     "iopub.status.idle": "2025-01-27T13:09:52.771000Z",
     "shell.execute_reply": "2025-01-27T13:09:52.770506Z"
    },
    "papermill": {
     "duration": 0.516984,
     "end_time": "2025-01-27T13:09:52.772005",
     "exception": false,
     "start_time": "2025-01-27T13:09:52.255021",
     "status": "completed"
    },
    "tags": []
   },
   "outputs": [],
   "source": [
    "import pandas as pd\n",
    "import re\n",
    "import numpy as np\n",
    "import pyodbc \n",
    "import time\n",
    "import datetime\n",
    "import sqlite3\n",
    "import logging\n",
    "from sqlalchemy import create_engine"
   ]
  },
  {
   "cell_type": "code",
   "execution_count": 2,
   "id": "7eee803d",
   "metadata": {
    "ExecuteTime": {
     "end_time": "2024-09-17T20:05:31.294685Z",
     "start_time": "2024-09-17T20:05:31.291180Z"
    },
    "execution": {
     "iopub.execute_input": "2025-01-27T13:09:52.777004Z",
     "iopub.status.busy": "2025-01-27T13:09:52.776506Z",
     "iopub.status.idle": "2025-01-27T13:09:52.781654Z",
     "shell.execute_reply": "2025-01-27T13:09:52.781134Z"
    },
    "papermill": {
     "duration": 0.008576,
     "end_time": "2025-01-27T13:09:52.782588",
     "exception": false,
     "start_time": "2025-01-27T13:09:52.774012",
     "status": "completed"
    },
    "tags": []
   },
   "outputs": [
    {
     "name": "stderr",
     "output_type": "stream",
     "text": [
      "<>:1: SyntaxWarning: invalid escape sequence '\\L'\n",
      "<>:1: SyntaxWarning: invalid escape sequence '\\L'\n",
      "C:\\Users\\ylen\\AppData\\Local\\Temp\\ipykernel_24032\\3497346663.py:1: SyntaxWarning: invalid escape sequence '\\L'\n",
      "  path = \"..\\Logs\\coding_database_log.log\"\n"
     ]
    }
   ],
   "source": [
    "path = \"..\\Logs\\coding_database_log.log\"\n",
    "logging.basicConfig(filename=path,\n",
    "                    filemode='a',\n",
    "                    format='%(asctime)s,%(msecs)d,%(name)s,%(levelname)s,%(message)s',\n",
    "                    datefmt='%Y-%m-%d %H:%M:%S',\n",
    "                    level=logging.DEBUG)\n",
    "logger = logging.getLogger(\"Log and Exception Notifications\")\n",
    "# logger.info(\"log test\")"
   ]
  },
  {
   "cell_type": "markdown",
   "id": "f5aa9f9f",
   "metadata": {
    "papermill": {
     "duration": 0.001457,
     "end_time": "2025-01-27T13:09:52.785499",
     "exception": false,
     "start_time": "2025-01-27T13:09:52.784042",
     "status": "completed"
    },
    "tags": []
   },
   "source": [
    "## Read in log file "
   ]
  },
  {
   "cell_type": "code",
   "execution_count": 3,
   "id": "23173096",
   "metadata": {
    "ExecuteTime": {
     "end_time": "2024-09-18T15:38:36.469819Z",
     "start_time": "2024-09-18T15:38:36.455949Z"
    },
    "execution": {
     "iopub.execute_input": "2025-01-27T13:09:52.789007Z",
     "iopub.status.busy": "2025-01-27T13:09:52.789007Z",
     "iopub.status.idle": "2025-01-27T13:09:52.812999Z",
     "shell.execute_reply": "2025-01-27T13:09:52.812506Z"
    },
    "papermill": {
     "duration": 0.027506,
     "end_time": "2025-01-27T13:09:52.814012",
     "exception": false,
     "start_time": "2025-01-27T13:09:52.786506",
     "status": "completed"
    },
    "tags": []
   },
   "outputs": [
    {
     "name": "stderr",
     "output_type": "stream",
     "text": [
      "<>:4: SyntaxWarning: invalid escape sequence '\\L'\n",
      "<>:4: SyntaxWarning: invalid escape sequence '\\L'\n",
      "C:\\Users\\ylen\\AppData\\Local\\Temp\\ipykernel_24032\\561205696.py:4: SyntaxWarning: invalid escape sequence '\\L'\n",
      "  log_path = \"..\\Logs\\\\\"\n"
     ]
    },
    {
     "data": {
      "text/plain": [
       "['..\\\\Logs\\\\clinical_log.log',\n",
       " '..\\\\Logs\\\\coding_database_log.log',\n",
       " '..\\\\Logs\\\\foothold_log.log',\n",
       " '..\\\\Logs\\\\HR_log.log',\n",
       " '..\\\\Logs\\\\InSync_conn_log.log',\n",
       " '..\\\\Logs\\\\security_log.log',\n",
       " '..\\\\Logs\\\\viventium_demographics_log.log']"
      ]
     },
     "execution_count": 3,
     "metadata": {},
     "output_type": "execute_result"
    }
   ],
   "source": [
    "import os\n",
    "\n",
    "try:     # dynamically get all files in the Logs folder\n",
    "    log_path = \"..\\Logs\\\\\"\n",
    "    log_files = os.listdir(log_path)\n",
    "\n",
    "    # add the path to the begining of all file names\n",
    "    log_files = [log_path + file for file in log_files]\n",
    "    \n",
    "    logger.info(f\"Successfully got log paths\")\n",
    "except Exception as e:\n",
    "    logger.error(f\"Failed to get log paths.\", exc_info=True) \n",
    "    print(e)\n",
    "\n",
    "log_files"
   ]
  },
  {
   "cell_type": "code",
   "execution_count": 4,
   "id": "2cbcfc49",
   "metadata": {
    "ExecuteTime": {
     "end_time": "2024-09-18T15:39:26.027326Z",
     "start_time": "2024-09-18T15:39:25.793608Z"
    },
    "execution": {
     "iopub.execute_input": "2025-01-27T13:09:52.818509Z",
     "iopub.status.busy": "2025-01-27T13:09:52.818509Z",
     "iopub.status.idle": "2025-01-27T13:09:55.468507Z",
     "shell.execute_reply": "2025-01-27T13:09:55.468008Z"
    },
    "papermill": {
     "duration": 2.653993,
     "end_time": "2025-01-27T13:09:55.469506",
     "exception": false,
     "start_time": "2025-01-27T13:09:52.815513",
     "status": "completed"
    },
    "tags": []
   },
   "outputs": [
    {
     "name": "stderr",
     "output_type": "stream",
     "text": [
      "C:\\Users\\ylen\\AppData\\Local\\Temp\\ipykernel_24032\\2766351826.py:35: FutureWarning: The behavior of DataFrame concatenation with empty or all-NA entries is deprecated. In a future version, this will no longer exclude empty or all-NA columns when determining the result dtypes. To retain the old behavior, exclude the relevant entries before the concat operation.\n",
      "  all_exceptions_df = pd.concat([all_exceptions_df,df])\n"
     ]
    },
    {
     "data": {
      "text/html": [
       "<div>\n",
       "<style scoped>\n",
       "    .dataframe tbody tr th:only-of-type {\n",
       "        vertical-align: middle;\n",
       "    }\n",
       "\n",
       "    .dataframe tbody tr th {\n",
       "        vertical-align: top;\n",
       "    }\n",
       "\n",
       "    .dataframe thead th {\n",
       "        text-align: right;\n",
       "    }\n",
       "</style>\n",
       "<table border=\"1\" class=\"dataframe\">\n",
       "  <thead>\n",
       "    <tr style=\"text-align: right;\">\n",
       "      <th></th>\n",
       "      <th>Date</th>\n",
       "      <th>Program</th>\n",
       "      <th>Level</th>\n",
       "      <th>Message</th>\n",
       "      <th>Today</th>\n",
       "    </tr>\n",
       "  </thead>\n",
       "  <tbody>\n",
       "    <tr>\n",
       "      <th>2814</th>\n",
       "      <td>2023-07-06 16:26:56</td>\n",
       "      <td>root</td>\n",
       "      <td>ERROR</td>\n",
       "      <td>Failed to push: emr_PatientDetails \\n      Tra...</td>\n",
       "      <td>False</td>\n",
       "    </tr>\n",
       "    <tr>\n",
       "      <th>2934</th>\n",
       "      <td>2023-07-07 07:18:21</td>\n",
       "      <td>root</td>\n",
       "      <td>ERROR</td>\n",
       "      <td>Failed to push: emr_PatientDetails \\n      Tra...</td>\n",
       "      <td>False</td>\n",
       "    </tr>\n",
       "    <tr>\n",
       "      <th>3054</th>\n",
       "      <td>2023-07-08 07:16:08</td>\n",
       "      <td>root</td>\n",
       "      <td>ERROR</td>\n",
       "      <td>Failed to push: emr_PatientDetails \\n      Tra...</td>\n",
       "      <td>False</td>\n",
       "    </tr>\n",
       "    <tr>\n",
       "      <th>3174</th>\n",
       "      <td>2023-07-09 07:16:16</td>\n",
       "      <td>root</td>\n",
       "      <td>ERROR</td>\n",
       "      <td>Failed to push: emr_PatientDetails \\n      Tra...</td>\n",
       "      <td>False</td>\n",
       "    </tr>\n",
       "    <tr>\n",
       "      <th>3294</th>\n",
       "      <td>2023-07-10 07:16:18</td>\n",
       "      <td>root</td>\n",
       "      <td>ERROR</td>\n",
       "      <td>Failed to push: emr_PatientDetails \\n      Tra...</td>\n",
       "      <td>False</td>\n",
       "    </tr>\n",
       "    <tr>\n",
       "      <th>...</th>\n",
       "      <td>...</td>\n",
       "      <td>...</td>\n",
       "      <td>...</td>\n",
       "      <td>...</td>\n",
       "      <td>...</td>\n",
       "    </tr>\n",
       "    <tr>\n",
       "      <th>1103</th>\n",
       "      <td>2024-12-30 15:00:23</td>\n",
       "      <td>root</td>\n",
       "      <td>ERROR</td>\n",
       "      <td>Error encountered in emr_PatientDetails: 'str'...</td>\n",
       "      <td>False</td>\n",
       "    </tr>\n",
       "    <tr>\n",
       "      <th>1157</th>\n",
       "      <td>2024-12-30 15:02:08</td>\n",
       "      <td>root</td>\n",
       "      <td>ERROR</td>\n",
       "      <td>Error encountered in emr_PatientDetails: 'bool...</td>\n",
       "      <td>False</td>\n",
       "    </tr>\n",
       "    <tr>\n",
       "      <th>1167</th>\n",
       "      <td>2024-12-30 15:04:42</td>\n",
       "      <td>root</td>\n",
       "      <td>ERROR</td>\n",
       "      <td>Error encountered in emr_PatientDetails: 'bool...</td>\n",
       "      <td>False</td>\n",
       "    </tr>\n",
       "    <tr>\n",
       "      <th>1232</th>\n",
       "      <td>2024-12-30 15:16:21</td>\n",
       "      <td>root</td>\n",
       "      <td>ERROR</td>\n",
       "      <td>Error encountered in emr_PatientDetails: Inval...</td>\n",
       "      <td>False</td>\n",
       "    </tr>\n",
       "    <tr>\n",
       "      <th>758</th>\n",
       "      <td>2025-01-24 09:44:52</td>\n",
       "      <td>root</td>\n",
       "      <td>ERROR</td>\n",
       "      <td>Error while saving data to database: (pyodbc.O...</td>\n",
       "      <td>False</td>\n",
       "    </tr>\n",
       "  </tbody>\n",
       "</table>\n",
       "<p>3879 rows × 5 columns</p>\n",
       "</div>"
      ],
      "text/plain": [
       "                     Date Program  Level  \\\n",
       "2814  2023-07-06 16:26:56    root  ERROR   \n",
       "2934  2023-07-07 07:18:21    root  ERROR   \n",
       "3054  2023-07-08 07:16:08    root  ERROR   \n",
       "3174  2023-07-09 07:16:16    root  ERROR   \n",
       "3294  2023-07-10 07:16:18    root  ERROR   \n",
       "...                   ...     ...    ...   \n",
       "1103  2024-12-30 15:00:23    root  ERROR   \n",
       "1157  2024-12-30 15:02:08    root  ERROR   \n",
       "1167  2024-12-30 15:04:42    root  ERROR   \n",
       "1232  2024-12-30 15:16:21    root  ERROR   \n",
       "758   2025-01-24 09:44:52    root  ERROR   \n",
       "\n",
       "                                                Message  Today  \n",
       "2814  Failed to push: emr_PatientDetails \\n      Tra...  False  \n",
       "2934  Failed to push: emr_PatientDetails \\n      Tra...  False  \n",
       "3054  Failed to push: emr_PatientDetails \\n      Tra...  False  \n",
       "3174  Failed to push: emr_PatientDetails \\n      Tra...  False  \n",
       "3294  Failed to push: emr_PatientDetails \\n      Tra...  False  \n",
       "...                                                 ...    ...  \n",
       "1103  Error encountered in emr_PatientDetails: 'str'...  False  \n",
       "1157  Error encountered in emr_PatientDetails: 'bool...  False  \n",
       "1167  Error encountered in emr_PatientDetails: 'bool...  False  \n",
       "1232  Error encountered in emr_PatientDetails: Inval...  False  \n",
       "758   Error while saving data to database: (pyodbc.O...  False  \n",
       "\n",
       "[3879 rows x 5 columns]"
      ]
     },
     "execution_count": 4,
     "metadata": {},
     "output_type": "execute_result"
    }
   ],
   "source": [
    "date_pattern = r'\\d{4}-\\d{2}-\\d{2}'  # Example date pattern (yyyy-mm-dd)\n",
    "\n",
    "all_exceptions_df = pd.DataFrame(columns=['Date','Program','Level','Message','Today'])\n",
    "for path in log_files:\n",
    "    log = path.split('\\\\')[-1]\n",
    "    try:\n",
    "        logger.info(f\"Currently reading logs from {log}\")\n",
    "        # Read the log file into a DataFrame using regex pattern for splitting\n",
    "        with open(path, 'r') as file:\n",
    "            lines = file.read()\n",
    "#             print(\"read file\")\n",
    "\n",
    "        entries = re.split(rf'(?={date_pattern})', lines)  # Split log entries based on date pattern\n",
    "\n",
    "        # Create a DataFrame with the log entries\n",
    "        df = pd.DataFrame({'Entry': entries})\n",
    "\n",
    "        # split df into 4 columns based off of first four commas (Split columns based on info)\n",
    "        df[[\"Date\",\"Foo\",\"Program\",\"Level\",\"Message\"]] = df['Entry'].str.split(\",\",n=4,expand=True)\n",
    "        # df\n",
    "\n",
    "        # select date, program, level and message columns \n",
    "        df = df[[\"Date\",\"Program\",\"Level\",\"Message\"]]\n",
    "        # select errors\n",
    "        df = df[df[\"Level\"] == \"ERROR\"]\n",
    "\n",
    "        # Today's exceptions\n",
    "        # get today's date\n",
    "        today = pd.Timestamp(datetime.date.today())\n",
    "        today = str(today.date())\n",
    "\n",
    "        # check if Date of Exception contains today's date\n",
    "        df['Today'] = df['Date'].apply(lambda entry: today in entry).astype('boolean')\n",
    "        \n",
    "        all_exceptions_df = pd.concat([all_exceptions_df,df])\n",
    "        logger.info(f\"Successfully read logs from {log}, concated with all exceptions\")\n",
    "    except Exception as e:\n",
    "        logger.error(f\"Failed to read logs from {log}\", exc_info=True)\n",
    "        print(e)\n",
    "\n",
    "all_exceptions_df"
   ]
  },
  {
   "cell_type": "markdown",
   "id": "f0d3e3b7",
   "metadata": {
    "papermill": {
     "duration": 0.002009,
     "end_time": "2025-01-27T13:09:55.473509",
     "exception": false,
     "start_time": "2025-01-27T13:09:55.471500",
     "status": "completed"
    },
    "tags": []
   },
   "source": [
    "## Write to db "
   ]
  },
  {
   "cell_type": "code",
   "execution_count": 5,
   "id": "03cf2503",
   "metadata": {
    "ExecuteTime": {
     "end_time": "2024-09-17T20:05:32.945828Z",
     "start_time": "2024-09-17T20:05:32.180471Z"
    },
    "execution": {
     "iopub.execute_input": "2025-01-27T13:09:55.478001Z",
     "iopub.status.busy": "2025-01-27T13:09:55.478001Z",
     "iopub.status.idle": "2025-01-27T13:09:56.169010Z",
     "shell.execute_reply": "2025-01-27T13:09:56.168582Z"
    },
    "papermill": {
     "duration": 0.694501,
     "end_time": "2025-01-27T13:09:56.170010",
     "exception": false,
     "start_time": "2025-01-27T13:09:55.475509",
     "status": "completed"
    },
    "tags": []
   },
   "outputs": [
    {
     "name": "stdout",
     "output_type": "stream",
     "text": [
      "data pushed\n"
     ]
    }
   ],
   "source": [
    "# connect to db\n",
    "conn = create_engine(r'mssql+pyodbc://@PYTHONSERVER\\SQLEXPRESS/Coding_Logs?driver=ODBC+Driver+17+for+SQL+Server&trusted_connection=yes', fast_executemany=True)\n",
    "\n",
    "table_name = \"coding_errors\"\n",
    "\n",
    "# create table\n",
    "# try:\n",
    "#     c = conn.cursor()\n",
    "#     c.execute(f'''CREATE TABLE IF NOT EXISTS {table_name} (Program, TEXT,\n",
    "#                                                            Level TEXT,\n",
    "#                                                            Message TEXT)''')\n",
    "#     conn.commit()\n",
    "#     logger.info(f\"Successfully created {table_name}.\")\n",
    "#     print(\"table created\")\n",
    "# except Exception as e:\n",
    "#     logger.error(f\"Failed to create {table_name}.\", exc_info=True) \n",
    "#     print(e)\n",
    "\n",
    "# push data into table\n",
    "try:\n",
    "    all_exceptions_df.to_sql(table_name, conn, if_exists='replace', index = False)\n",
    "    logger.info(f\"Successfully pushed data to {table_name}\")\n",
    "    print(\"data pushed\")\n",
    "except Exception as e:\n",
    "    logger.error(f\"Failed to push data to {table_name}.\", exc_info=True) \n",
    "    print(e)\n",
    "    "
   ]
  },
  {
   "cell_type": "code",
   "execution_count": 6,
   "id": "a22723d7",
   "metadata": {
    "ExecuteTime": {
     "end_time": "2024-09-17T20:05:32.949980Z",
     "start_time": "2024-09-17T20:05:32.946836Z"
    },
    "execution": {
     "iopub.execute_input": "2025-01-27T13:09:56.175508Z",
     "iopub.status.busy": "2025-01-27T13:09:56.175508Z",
     "iopub.status.idle": "2025-01-27T13:09:56.178508Z",
     "shell.execute_reply": "2025-01-27T13:09:56.178005Z"
    },
    "papermill": {
     "duration": 0.007004,
     "end_time": "2025-01-27T13:09:56.179506",
     "exception": false,
     "start_time": "2025-01-27T13:09:56.172502",
     "status": "completed"
    },
    "tags": []
   },
   "outputs": [],
   "source": [
    "# conn.close()\n",
    "# logging.shutdown()"
   ]
  }
 ],
 "metadata": {
  "kernelspec": {
   "display_name": "Python 3 (ipykernel)",
   "language": "python",
   "name": "python3"
  },
  "language_info": {
   "codemirror_mode": {
    "name": "ipython",
    "version": 3
   },
   "file_extension": ".py",
   "mimetype": "text/x-python",
   "name": "python",
   "nbconvert_exporter": "python",
   "pygments_lexer": "ipython3",
   "version": "3.12.4"
  },
  "papermill": {
   "default_parameters": {},
   "duration": 6.019,
   "end_time": "2025-01-27T13:09:56.416509",
   "environment_variables": {},
   "exception": null,
   "input_path": "Log and Exception Notifications SQL Express.ipynb",
   "output_path": "snapshots/Log and Exception Notifications SQL Express.ipynb",
   "parameters": {},
   "start_time": "2025-01-27T13:09:50.397509",
   "version": "2.6.0"
  },
  "toc": {
   "base_numbering": 1,
   "nav_menu": {},
   "number_sections": true,
   "sideBar": true,
   "skip_h1_title": false,
   "title_cell": "Table of Contents",
   "title_sidebar": "Contents",
   "toc_cell": false,
   "toc_position": {
    "height": "calc(100% - 180px)",
    "left": "10px",
    "top": "150px",
    "width": "467.6px"
   },
   "toc_section_display": true,
   "toc_window_display": false
  },
  "varInspector": {
   "cols": {
    "lenName": 16,
    "lenType": 16,
    "lenVar": 40
   },
   "kernels_config": {
    "python": {
     "delete_cmd_postfix": "",
     "delete_cmd_prefix": "del ",
     "library": "var_list.py",
     "varRefreshCmd": "print(var_dic_list())"
    },
    "r": {
     "delete_cmd_postfix": ") ",
     "delete_cmd_prefix": "rm(",
     "library": "var_list.r",
     "varRefreshCmd": "cat(var_dic_list()) "
    }
   },
   "types_to_exclude": [
    "module",
    "function",
    "builtin_function_or_method",
    "instance",
    "_Feature"
   ],
   "window_display": false
  }
 },
 "nbformat": 4,
 "nbformat_minor": 5
}