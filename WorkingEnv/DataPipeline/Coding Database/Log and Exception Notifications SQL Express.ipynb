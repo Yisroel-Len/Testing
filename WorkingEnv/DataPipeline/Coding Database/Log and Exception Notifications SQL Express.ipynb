{
 "cells": [
  {
   "cell_type": "code",
   "execution_count": 4,
   "id": "5f1b57a6",
   "metadata": {
    "ExecuteTime": {
     "end_time": "2024-09-18T15:38:03.861475Z",
     "start_time": "2024-09-18T15:38:03.853500Z"
    }
   },
   "outputs": [],
   "source": [
    "import pandas as pd\n",
    "import re\n",
    "import numpy as np\n",
    "import pyodbc \n",
    "import time\n",
    "import datetime\n",
    "import sqlite3\n",
    "import logging\n",
    "from sqlalchemy import create_engine"
   ]
  },
  {
   "cell_type": "code",
   "execution_count": 2,
   "id": "7eee803d",
   "metadata": {
    "ExecuteTime": {
     "end_time": "2024-09-17T20:05:31.294685Z",
     "start_time": "2024-09-17T20:05:31.291180Z"
    }
   },
   "outputs": [],
   "source": [
    "path = \"..\\Logs\\coding_database_log.log\"\n",
    "logging.basicConfig(filename=path,\n",
    "                    filemode='a',\n",
    "                    format='%(asctime)s,%(msecs)d,%(name)s,%(levelname)s,%(message)s',\n",
    "                    datefmt='%Y-%m-%d %H:%M:%S',\n",
    "                    level=logging.DEBUG)\n",
    "logger = logging.getLogger(\"Log and Exception Notifications\")\n",
    "# logger.info(\"log test\")"
   ]
  },
  {
   "cell_type": "markdown",
   "id": "f5aa9f9f",
   "metadata": {},
   "source": [
    "## Read in log file "
   ]
  },
  {
   "cell_type": "code",
   "execution_count": 6,
   "id": "23173096",
   "metadata": {
    "ExecuteTime": {
     "end_time": "2024-09-18T15:38:36.469819Z",
     "start_time": "2024-09-18T15:38:36.455949Z"
    }
   },
   "outputs": [
    {
     "data": {
      "text/plain": [
       "['..\\\\Logs\\\\clinical_log.log',\n",
       " '..\\\\Logs\\\\coding_database_log.log',\n",
       " '..\\\\Logs\\\\foothold_log.log']"
      ]
     },
     "execution_count": 6,
     "metadata": {},
     "output_type": "execute_result"
    }
   ],
   "source": [
    "import os\n",
    "\n",
    "try:     # dynamically get all files in the Logs folder\n",
    "    log_path = \"..\\Logs\\\\\"\n",
    "    log_files = os.listdir(log_path)\n",
    "\n",
    "    # add the path to the begining of all file names\n",
    "    log_files = [log_path + file for file in log_files]\n",
    "    \n",
    "    logger.info(f\"Successfully got log paths\")\n",
    "except Exception as e:\n",
    "    logger.error(f\"Failed to get log paths.\", exc_info=True) \n",
    "    print(e)\n",
    "\n",
    "log_files"
   ]
  },
  {
   "cell_type": "code",
   "execution_count": 8,
   "id": "2cbcfc49",
   "metadata": {
    "ExecuteTime": {
     "end_time": "2024-09-18T15:39:26.027326Z",
     "start_time": "2024-09-18T15:39:25.793608Z"
    }
   },
   "outputs": [
    {
     "name": "stdout",
     "output_type": "stream",
     "text": [
      "read file\n",
      "read file\n",
      "read file\n"
     ]
    },
    {
     "data": {
      "text/html": [
       "<div>\n",
       "<style scoped>\n",
       "    .dataframe tbody tr th:only-of-type {\n",
       "        vertical-align: middle;\n",
       "    }\n",
       "\n",
       "    .dataframe tbody tr th {\n",
       "        vertical-align: top;\n",
       "    }\n",
       "\n",
       "    .dataframe thead th {\n",
       "        text-align: right;\n",
       "    }\n",
       "</style>\n",
       "<table border=\"1\" class=\"dataframe\">\n",
       "  <thead>\n",
       "    <tr style=\"text-align: right;\">\n",
       "      <th></th>\n",
       "      <th>Date</th>\n",
       "      <th>Program</th>\n",
       "      <th>Level</th>\n",
       "      <th>Message</th>\n",
       "      <th>Today</th>\n",
       "    </tr>\n",
       "  </thead>\n",
       "  <tbody>\n",
       "  </tbody>\n",
       "</table>\n",
       "</div>"
      ],
      "text/plain": [
       "Empty DataFrame\n",
       "Columns: [Date, Program, Level, Message, Today]\n",
       "Index: []"
      ]
     },
     "execution_count": 8,
     "metadata": {},
     "output_type": "execute_result"
    }
   ],
   "source": [
    "date_pattern = r'\\d{4}-\\d{2}-\\d{2}'  # Example date pattern (yyyy-mm-dd)\n",
    "\n",
    "all_exceptions_df = pd.DataFrame(columns=['Date','Program','Level','Message','Today'])\n",
    "for path in log_files:\n",
    "    log = path.split('\\\\')[-1]\n",
    "    try:\n",
    "        logger.info(f\"Currently reading logs from {log}\")\n",
    "        # Read the log file into a DataFrame using regex pattern for splitting\n",
    "        with open(path, 'r') as file:\n",
    "            lines = file.read()\n",
    "#             print(\"read file\")\n",
    "\n",
    "        entries = re.split(rf'(?={date_pattern})', lines)  # Split log entries based on date pattern\n",
    "\n",
    "        # Create a DataFrame with the log entries\n",
    "        df = pd.DataFrame({'Entry': entries})\n",
    "\n",
    "        # split df into 4 columns based off of first four commas (Split columns based on info)\n",
    "        df[[\"Date\",\"Foo\",\"Program\",\"Level\",\"Message\"]] = df['Entry'].str.split(\",\",n=4,expand=True)\n",
    "        # df\n",
    "\n",
    "        # select date, program, level and message columns \n",
    "        df = df[[\"Date\",\"Program\",\"Level\",\"Message\"]]\n",
    "        # select errors\n",
    "        df = df[df[\"Level\"] == \"ERROR\"]\n",
    "\n",
    "        # Today's exceptions\n",
    "        # get today's date\n",
    "        today = pd.Timestamp(datetime.date.today())\n",
    "        today = str(today.date())\n",
    "\n",
    "        # check if Date of Exception contains today's date\n",
    "        df['Today'] = df['Date'].apply(lambda entry: today in entry).astype('boolean')\n",
    "        \n",
    "        all_exceptions_df = pd.concat([all_exceptions_df,df])\n",
    "        logger.info(f\"Successfully read logs from {log}, concated with all exceptions\")\n",
    "    except Exception as e:\n",
    "        logger.error(f\"Failed to read logs from {log}\", exc_info=True)\n",
    "        print(e)\n",
    "\n",
    "all_exceptions_df"
   ]
  },
  {
   "cell_type": "markdown",
   "id": "f0d3e3b7",
   "metadata": {},
   "source": [
    "## Write to db "
   ]
  },
  {
   "cell_type": "code",
   "execution_count": 5,
   "id": "03cf2503",
   "metadata": {
    "ExecuteTime": {
     "end_time": "2024-09-17T20:05:32.945828Z",
     "start_time": "2024-09-17T20:05:32.180471Z"
    }
   },
   "outputs": [
    {
     "name": "stdout",
     "output_type": "stream",
     "text": [
      "table created\n",
      "data pushed\n"
     ]
    }
   ],
   "source": [
    "# connect to db\n",
    "conn = create_engine(r'mssql+pyodbc://@PYTHONSERVER\\SQLEXPRESS/Coding_Logs?driver=ODBC+Driver+17+for+SQL+Server&trusted_connection=yes', fast_executemany=True)\n",
    "\n",
    "table_name = \"coding_errors\"\n",
    "\n",
    "# create table\n",
    "# try:\n",
    "#     c = conn.cursor()\n",
    "#     c.execute(f'''CREATE TABLE IF NOT EXISTS {table_name} (Program, TEXT,\n",
    "#                                                            Level TEXT,\n",
    "#                                                            Message TEXT)''')\n",
    "#     conn.commit()\n",
    "#     logger.info(f\"Successfully created {table_name}.\")\n",
    "#     print(\"table created\")\n",
    "# except Exception as e:\n",
    "#     logger.error(f\"Failed to create {table_name}.\", exc_info=True) \n",
    "#     print(e)\n",
    "\n",
    "# push data into table\n",
    "try:\n",
    "    all_exceptions_df.to_sql(table_name, conn, if_exists='replace', index = False)\n",
    "    logger.info(f\"Successfully pushed data to {table_name}\")\n",
    "    print(\"data pushed\")\n",
    "except Exception as e:\n",
    "    logger.error(f\"Failed to push data to {table_name}.\", exc_info=True) \n",
    "    print(e)\n",
    "    "
   ]
  },
  {
   "cell_type": "code",
   "execution_count": 6,
   "id": "a22723d7",
   "metadata": {
    "ExecuteTime": {
     "end_time": "2024-09-17T20:05:32.949980Z",
     "start_time": "2024-09-17T20:05:32.946836Z"
    }
   },
   "outputs": [],
   "source": [
    "# conn.close()\n",
    "# logging.shutdown()"
   ]
  }
 ],
 "metadata": {
  "kernelspec": {
   "display_name": "Python 3 (ipykernel)",
   "language": "python",
   "name": "python3"
  },
  "language_info": {
   "codemirror_mode": {
    "name": "ipython",
    "version": 3
   },
   "file_extension": ".py",
   "mimetype": "text/x-python",
   "name": "python",
   "nbconvert_exporter": "python",
   "pygments_lexer": "ipython3",
   "version": "3.11.7"
  },
  "toc": {
   "base_numbering": 1,
   "nav_menu": {},
   "number_sections": true,
   "sideBar": true,
   "skip_h1_title": false,
   "title_cell": "Table of Contents",
   "title_sidebar": "Contents",
   "toc_cell": false,
   "toc_position": {
    "height": "calc(100% - 180px)",
    "left": "10px",
    "top": "150px",
    "width": "467.6px"
   },
   "toc_section_display": true,
   "toc_window_display": false
  },
  "varInspector": {
   "cols": {
    "lenName": 16,
    "lenType": 16,
    "lenVar": 40
   },
   "kernels_config": {
    "python": {
     "delete_cmd_postfix": "",
     "delete_cmd_prefix": "del ",
     "library": "var_list.py",
     "varRefreshCmd": "print(var_dic_list())"
    },
    "r": {
     "delete_cmd_postfix": ") ",
     "delete_cmd_prefix": "rm(",
     "library": "var_list.r",
     "varRefreshCmd": "cat(var_dic_list()) "
    }
   },
   "types_to_exclude": [
    "module",
    "function",
    "builtin_function_or_method",
    "instance",
    "_Feature"
   ],
   "window_display": false
  }
 },
 "nbformat": 4,
 "nbformat_minor": 5
}
