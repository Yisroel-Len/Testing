{
 "cells": [
  {
   "cell_type": "markdown",
   "id": "2d676716",
   "metadata": {
    "tags": [
     "papermill-error-cell-tag"
    ]
   },
   "source": [
    "<span style=\"color:red; font-family:Helvetica Neue, Helvetica, Arial, sans-serif; font-size:2em;\">An Exception was encountered at '<a href=\"#papermill-error-cell\">In [21]</a>'.</span>"
   ]
  },
  {
   "cell_type": "code",
   "execution_count": 1,
   "id": "d8f8dff2",
   "metadata": {
    "ExecuteTime": {
     "end_time": "2023-06-19T17:12:04.693955Z",
     "start_time": "2023-06-19T17:12:03.745305Z"
    },
    "execution": {
     "iopub.execute_input": "2024-10-15T11:00:56.544059Z",
     "iopub.status.busy": "2024-10-15T11:00:56.544059Z",
     "iopub.status.idle": "2024-10-15T11:00:57.317712Z",
     "shell.execute_reply": "2024-10-15T11:00:57.317712Z"
    },
    "papermill": {
     "duration": 0.782492,
     "end_time": "2024-10-15T11:00:57.317712",
     "exception": false,
     "start_time": "2024-10-15T11:00:56.535220",
     "status": "completed"
    },
    "tags": []
   },
   "outputs": [],
   "source": [
    "import pandas as pd\n",
    "import numpy as np\n",
    "import pyodbc\n",
    "import time\n",
    "from datetime import datetime\n",
    "from dateutil.relativedelta import relativedelta\n",
    "from datetime import date\n",
    "import sqlite3"
   ]
  },
  {
   "cell_type": "code",
   "execution_count": 2,
   "id": "8523fff1",
   "metadata": {
    "execution": {
     "iopub.execute_input": "2024-10-15T11:00:57.333353Z",
     "iopub.status.busy": "2024-10-15T11:00:57.333353Z",
     "iopub.status.idle": "2024-10-15T11:00:57.350794Z",
     "shell.execute_reply": "2024-10-15T11:00:57.350794Z"
    },
    "papermill": {
     "duration": 0.033082,
     "end_time": "2024-10-15T11:00:57.350794",
     "exception": false,
     "start_time": "2024-10-15T11:00:57.317712",
     "status": "completed"
    },
    "tags": []
   },
   "outputs": [],
   "source": [
    "conn = sqlite3.connect('../../InSyncConnection/Database/InSyncClinical.db')"
   ]
  },
  {
   "cell_type": "code",
   "execution_count": 3,
   "id": "e8e2fd4f",
   "metadata": {
    "ExecuteTime": {
     "end_time": "2024-09-17T18:53:47.581118Z",
     "start_time": "2024-09-17T18:53:47.563036Z"
    },
    "execution": {
     "iopub.execute_input": "2024-10-15T11:00:57.364607Z",
     "iopub.status.busy": "2024-10-15T11:00:57.364607Z",
     "iopub.status.idle": "2024-10-15T11:00:57.384646Z",
     "shell.execute_reply": "2024-10-15T11:00:57.384646Z"
    },
    "papermill": {
     "duration": 0.020039,
     "end_time": "2024-10-15T11:00:57.384646",
     "exception": false,
     "start_time": "2024-10-15T11:00:57.364607",
     "status": "completed"
    },
    "tags": []
   },
   "outputs": [
    {
     "name": "stderr",
     "output_type": "stream",
     "text": [
      "<>:3: SyntaxWarning: invalid escape sequence '\\.'\n",
      "<>:3: SyntaxWarning: invalid escape sequence '\\.'\n",
      "C:\\Users\\ylen\\AppData\\Local\\Temp\\ipykernel_10504\\599654790.py:3: SyntaxWarning: invalid escape sequence '\\.'\n",
      "  path = \"..\\..\\Logs\\clinical_log.log\"\n"
     ]
    }
   ],
   "source": [
    "import sys\n",
    "import logging\n",
    "path = \"..\\..\\Logs\\clinical_log.log\"\n",
    "logging.basicConfig(filename=path,\n",
    "                    filemode='a',\n",
    "                    format='%(asctime)s,%(msecs)d,%(name)s,%(levelname)s,%(message)s',\n",
    "                    datefmt='%Y-%m-%d %H:%M:%S',\n",
    "                    level=logging.DEBUG)\n",
    "logger = logging.getLogger(\"TreatmentPlanReport\")\n",
    "# logger.info(\"testing log\")"
   ]
  },
  {
   "cell_type": "markdown",
   "id": "0776aa02",
   "metadata": {
    "papermill": {
     "duration": 0.016237,
     "end_time": "2024-10-15T11:00:57.400883",
     "exception": false,
     "start_time": "2024-10-15T11:00:57.384646",
     "status": "completed"
    },
    "tags": []
   },
   "source": [
    "## Notes\n",
    "- Make sure that due dates are not calculated by time\n",
    "- Do we want to see which plans were signed/closed late???\n",
    "- If there are two initial treatment plans go by the second one.\n",
    "<br>\n",
    "\n",
    "## To-Do"
   ]
  },
  {
   "cell_type": "code",
   "execution_count": 4,
   "id": "724d1dff",
   "metadata": {
    "execution": {
     "iopub.execute_input": "2024-10-15T11:00:57.417184Z",
     "iopub.status.busy": "2024-10-15T11:00:57.417184Z",
     "iopub.status.idle": "2024-10-15T11:00:57.551213Z",
     "shell.execute_reply": "2024-10-15T11:00:57.550141Z"
    },
    "papermill": {
     "duration": 0.152984,
     "end_time": "2024-10-15T11:00:57.553867",
     "exception": false,
     "start_time": "2024-10-15T11:00:57.400883",
     "status": "completed"
    },
    "tags": []
   },
   "outputs": [],
   "source": [
    "try:\n",
    "    logger.info(f\"Querying ptPatient_Activity.\")\n",
    "    sql='''\n",
    "    SELECT \n",
    "        ptPatient_Activity.*,\n",
    "        MRNNumber,\n",
    "        LastName || ', ' || FirstName as patient_fullName,\n",
    "        DOB,\n",
    "        FacilityName AS 'Primary Facility'\n",
    "    FROM \n",
    "        ptPatient_Activity\n",
    "        LEFT JOIN emr_PatientDetails ON (ptPatient_Activity.PatientID=emr_PatientDetails.PatientID)\n",
    "        LEFT JOIN emr_FacilitiesDetails ON (emr_PatientDetails._PrimaryFacility = emr_FacilitiesDetails.FacilityId)\n",
    "    '''\n",
    "    patientDetails = pd.read_sql(sql, conn)\n",
    "    patientDetails = patientDetails.replace(\"\", np.nan)\n",
    "    patientDetails['DOB'] =pd.to_datetime(patientDetails['DOB'])\n",
    "    logger.info(f\"Successfully queried ptPatient_Activity.\")\n",
    "except Exception as e:\n",
    "    print(e)\n",
    "    logger.error(f\"Failed to query ptPatient_Activity.\", exc_info=True) "
   ]
  },
  {
   "cell_type": "markdown",
   "id": "79e9a74b",
   "metadata": {
    "papermill": {
     "duration": 0.0,
     "end_time": "2024-10-15T11:00:57.554917",
     "exception": false,
     "start_time": "2024-10-15T11:00:57.554917",
     "status": "completed"
    },
    "tags": []
   },
   "source": [
    "## Get Treatment Plan Info"
   ]
  },
  {
   "cell_type": "code",
   "execution_count": 5,
   "id": "eb9789c8",
   "metadata": {
    "execution": {
     "iopub.execute_input": "2024-10-15T11:00:57.586818Z",
     "iopub.status.busy": "2024-10-15T11:00:57.586818Z",
     "iopub.status.idle": "2024-10-15T11:01:39.732682Z",
     "shell.execute_reply": "2024-10-15T11:01:39.732682Z"
    },
    "papermill": {
     "duration": 42.145864,
     "end_time": "2024-10-15T11:01:39.732682",
     "exception": false,
     "start_time": "2024-10-15T11:00:57.586818",
     "status": "completed"
    },
    "tags": []
   },
   "outputs": [
    {
     "name": "stderr",
     "output_type": "stream",
     "text": [
      "C:\\Users\\ylen\\AppData\\Local\\Temp\\ipykernel_10504\\466088089.py:40: UserWarning: Could not infer format, so each element will be parsed individually, falling back to `dateutil`. To ensure parsing is consistent and as-expected, please specify a format.\n",
      "  treatmentPlanEncounters['EncounterEndDateTimeToolTip'] = pd.to_datetime(treatmentPlanEncounters['EncounterEndDateTimeToolTip'])\n"
     ]
    }
   ],
   "source": [
    "try:\n",
    "    logger.info(f\"Querying treatment plan related info from tblEncounterSummary.\")\n",
    "    sql='''\n",
    "    SELECT \n",
    "        tblEncounterSummary.PatientId as PatientID,\n",
    "        tblEncounterSummary.EncounterID, \n",
    "        tblResourceDetails.FullName as ProviderName,\n",
    "        tblEncounter.EndDate,\n",
    "        VisitDateTime as EncounterDate,\n",
    "        EncounterEndDateTimeToolTip,\n",
    "        EncounterStartDateTimeToolTip,\n",
    "        FacilityName,\n",
    "        tblEncounterType.EncounterType,\n",
    "        EncounterOpenClosed,\n",
    "        ProgramName,\n",
    "        closedByLastName || ', ' || closedByFirstName AS closedByFullName\n",
    "    FROM \n",
    "        tblEncounterSummary\n",
    "        LEFT JOIN emr_FacilitiesDetails ON (tblEncounterSummary.FacilityId = emr_FacilitiesDetails.FacilityId)\n",
    "        LEFT JOIN tblEncounterEndDetails ON (tblEncounterSummary.EncounterID = tblEncounterEndDetails.EncounterID)\n",
    "        INNER JOIN tblEncounter ON (tblEncounterSummary.EncounterID = tblEncounter.EncounterID)\n",
    "        LEFT JOIN tblEncounterType ON (tblEncounterSummary.EncounterTypeID = tblEncounterType.EncounterTypeID)\n",
    "        LEFT JOIN tblResourceDetails ON (tblEncounterSummary.ProviderId = tblResourceDetails.ResourceId)\n",
    "    WHERE (tblEncounterType.EncounterType LIKE \"%treatment%\"\n",
    "        OR tblEncounterType.EncounterType LIKE \"%transfer%\"\n",
    "        OR tblEncounterType.EncounterType LIKE \"%Initial Eval%\"\n",
    "        OR tblEncounterType.EncounterType LIKE \"%discharge%\")\n",
    "        AND tblEncounterType.EncounterType NOT LIKE \"%CFTSS%\"\n",
    "    '''\n",
    "    treatmentPlanEncounters = pd.read_sql(sql, conn)\n",
    "    # replaces empty strings in the treatmentPlanEncounters DataFrame with NaN values to handle missing data appropriately\n",
    "    treatmentPlanEncounters = treatmentPlanEncounters.replace(\"\", np.nan)\n",
    "    treatmentPlanEncounters['EncounterDate'] = pd.to_datetime(treatmentPlanEncounters['EncounterDate'])\n",
    "    treatmentPlanEncounters['EndDate'] = pd.to_datetime(treatmentPlanEncounters['EndDate'])\n",
    "    # Remove the word time: from column\n",
    "    treatmentPlanEncounters['EncounterStartDateTimeToolTip'] = treatmentPlanEncounters['EncounterStartDateTimeToolTip'].str.replace(\"Time: \", \"\")\n",
    "    treatmentPlanEncounters['EncounterEndDateTimeToolTip'] = treatmentPlanEncounters['EncounterEndDateTimeToolTip'].str.replace(\"Time: \", \"\")\n",
    "\n",
    "    treatmentPlanEncounters['EncounterStartDateTimeToolTip'] = pd.to_datetime(treatmentPlanEncounters['EncounterStartDateTimeToolTip'])\n",
    "    treatmentPlanEncounters['EncounterEndDateTimeToolTip'] = pd.to_datetime(treatmentPlanEncounters['EncounterEndDateTimeToolTip'])\n",
    "\n",
    "    logger.info(f\"Successfully queried treatment plan related info from tblEncounterSummary.\")\n",
    "except Exception as e:\n",
    "    print(e)\n",
    "    logger.error(f\"Failed to query treatment plan related info from tblEncounterSummary.\", exc_info=True) "
   ]
  },
  {
   "cell_type": "markdown",
   "id": "f88d4797",
   "metadata": {
    "papermill": {
     "duration": 0.016226,
     "end_time": "2024-10-15T11:01:39.748908",
     "exception": false,
     "start_time": "2024-10-15T11:01:39.732682",
     "status": "completed"
    },
    "tags": []
   },
   "source": [
    "## Check Patients for Admission"
   ]
  },
  {
   "cell_type": "code",
   "execution_count": 6,
   "id": "a3823b3c",
   "metadata": {
    "execution": {
     "iopub.execute_input": "2024-10-15T11:01:39.764676Z",
     "iopub.status.busy": "2024-10-15T11:01:39.764676Z",
     "iopub.status.idle": "2024-10-15T11:01:40.256443Z",
     "shell.execute_reply": "2024-10-15T11:01:40.256443Z"
    },
    "papermill": {
     "duration": 0.507535,
     "end_time": "2024-10-15T11:01:40.256443",
     "exception": false,
     "start_time": "2024-10-15T11:01:39.748908",
     "status": "completed"
    },
    "tags": []
   },
   "outputs": [],
   "source": [
    "try:\n",
    "    sql = f'''\n",
    "    SELECT\n",
    "    PatientId as PatientID,\n",
    "    VisitDateTime,\n",
    "    tblEncounterType.Encountertype\n",
    "    FROM \n",
    "        tblEncounterSummary\n",
    "    LEFT JOIN\n",
    "        tblEncounterType ON tblEncounterType.EncounterTypeID = tblEncounterSummary.EncounterTypeID\n",
    "    WHERE \n",
    "        tblEncounterType.EncounterType LIKE \"%Admission Note%\" \n",
    "        AND tblEncounterType.EncounterType NOT LIKE \"%CFTSS%\" \n",
    "    '''\n",
    "    missingAdmissionNote = pd.read_sql(sql,conn)\n",
    "    missingAdmissionNote['VisitDateTime'] = pd.to_datetime(missingAdmissionNote['VisitDateTime'])\n",
    "    missingAdmissionNote = missingAdmissionNote.sort_values(by=['PatientID', 'VisitDateTime'], ascending=False)\n",
    "    missingAdmissionNote = missingAdmissionNote.drop_duplicates(\"PatientID\")\n",
    "    missingAdmissionNote['HasAdmissionNote'] = True\n",
    "    logger.info(f\"Successfully queried admitted patients. Patient must have an admission note.\")\n",
    "except Exception as e:\n",
    "    print(e)\n",
    "    logger.error(f\"Failed to query admitted patients. Patient must have an admission note.\", exc_info=True) "
   ]
  },
  {
   "cell_type": "code",
   "execution_count": 7,
   "id": "35bf4f1a",
   "metadata": {
    "execution": {
     "iopub.execute_input": "2024-10-15T11:01:40.272691Z",
     "iopub.status.busy": "2024-10-15T11:01:40.272691Z",
     "iopub.status.idle": "2024-10-15T11:01:45.359869Z",
     "shell.execute_reply": "2024-10-15T11:01:45.359869Z"
    },
    "papermill": {
     "duration": 5.103426,
     "end_time": "2024-10-15T11:01:45.359869",
     "exception": false,
     "start_time": "2024-10-15T11:01:40.256443",
     "status": "completed"
    },
    "tags": []
   },
   "outputs": [
    {
     "name": "stderr",
     "output_type": "stream",
     "text": [
      "C:\\Users\\ylen\\AppData\\Local\\Temp\\ipykernel_10504\\232111456.py:27: FutureWarning: A value is trying to be set on a copy of a DataFrame or Series through chained assignment using an inplace method.\n",
      "The behavior will change in pandas 3.0. This inplace method will never work because the intermediate object on which we are setting values always behaves as a copy.\n",
      "\n",
      "For example, when doing 'df[col].method(value, inplace=True)', try using 'df.method({col: value}, inplace=True)' or df[col] = df[col].method(value) instead, to perform the operation inplace on the original object.\n",
      "\n",
      "\n",
      "  treatmentPlanEncounters['Admitted'].fillna(\"False\", inplace=True)\n"
     ]
    }
   ],
   "source": [
    "try:\n",
    "    sql = f'''\n",
    "    SELECT\n",
    "    PatientId as PatientID,\n",
    "    tblEncounterType.EncounterType\n",
    "    FROM \n",
    "        tblEncounterSummary\n",
    "    LEFT JOIN\n",
    "        tblEncounterType ON tblEncounterType.EncounterTypeID = tblEncounterSummary.EncounterTypeID\n",
    "    WHERE \n",
    "        tblEncounterType.EncounterType LIKE \"%Psychotherapy%\" \n",
    "        OR \n",
    "        (tblEncounterType.EncounterType LIKE \"%Initial Eval%\" \n",
    "        AND tblEncounterType.EncounterType LIKE \"%2%\")\n",
    "        OR\n",
    "        tblEncounterType.EncounterType = \"Admission Note\" \n",
    "    '''\n",
    "    relevantEncounters = pd.read_sql(sql,conn)\n",
    "    # groupby patient IDs and then check encounter list to see if either they have both an initial evaluation and a psychotherapy or an admission note.\n",
    "    acceptedPatients = relevantEncounters.groupby(['PatientID'])['EncounterType'].apply(lambda x: (( True in list(x.str.lower().str.contains(\"psychotherapy\")) ) \n",
    "                                                                                & ( True in list(x.str.lower().str.contains(\"initial eval\"))  )  )\n",
    "                                                                               | (True in list(x.str.lower() == \"admission note\"))\n",
    "                                                                       )\n",
    "    acceptedPatients = acceptedPatients.reset_index()        \n",
    "    acceptedPatients.columns = ['PatientID', 'Admitted']    \n",
    "    treatmentPlanEncounters= treatmentPlanEncounters.merge(acceptedPatients, on='PatientID', how='left', validate='m:1')\n",
    "    treatmentPlanEncounters['Admitted'].fillna(\"False\", inplace=True)\n",
    "    logger.info(f\"Successfully queried admitted patients. Patient must have either an encounter type of psychotherapy or an initial eval 2.\")\n",
    "except Exception as e:\n",
    "    print(e)\n",
    "    logger.error(f\"Failed to query admitted patients. Patient must have either an encounter type of psychotherapy or an initial eval 2.\", exc_info=True) "
   ]
  },
  {
   "cell_type": "markdown",
   "id": "9f07af01",
   "metadata": {
    "papermill": {
     "duration": 0.015638,
     "end_time": "2024-10-15T11:01:45.375507",
     "exception": false,
     "start_time": "2024-10-15T11:01:45.359869",
     "status": "completed"
    },
    "tags": []
   },
   "source": [
    "## Check for Primary Providers"
   ]
  },
  {
   "cell_type": "code",
   "execution_count": 8,
   "id": "55168ca6",
   "metadata": {
    "execution": {
     "iopub.execute_input": "2024-10-15T11:01:45.391795Z",
     "iopub.status.busy": "2024-10-15T11:01:45.391795Z",
     "iopub.status.idle": "2024-10-15T11:01:45.444445Z",
     "shell.execute_reply": "2024-10-15T11:01:45.444445Z"
    },
    "papermill": {
     "duration": 0.068938,
     "end_time": "2024-10-15T11:01:45.444445",
     "exception": false,
     "start_time": "2024-10-15T11:01:45.375507",
     "status": "completed"
    },
    "tags": []
   },
   "outputs": [
    {
     "name": "stderr",
     "output_type": "stream",
     "text": [
      "C:\\Users\\ylen\\AppData\\Local\\Temp\\ipykernel_10504\\705186781.py:16: FutureWarning: A value is trying to be set on a copy of a DataFrame or Series through chained assignment using an inplace method.\n",
      "The behavior will change in pandas 3.0. This inplace method will never work because the intermediate object on which we are setting values always behaves as a copy.\n",
      "\n",
      "For example, when doing 'df[col].method(value, inplace=True)', try using 'df.method({col: value}, inplace=True)' or df[col] = df[col].method(value) instead, to perform the operation inplace on the original object.\n",
      "\n",
      "\n",
      "  treatmentPlanEncounters['Primary_Provider'].fillna(\"Unknown\", inplace=True)\n"
     ]
    }
   ],
   "source": [
    "try:\n",
    "    sql = f'''\n",
    "    SELECT\n",
    "    PatientId as PatientID,\n",
    "    tblResourceDetails.FullName as Primary_Provider\n",
    "    FROM \n",
    "        tblPatientPrimaryProviders\n",
    "    LEFT JOIN\n",
    "        tblResourceDetails ON (tblPatientPrimaryProviders.PatientPrimaryProviderId = tblResourceDetails.ResourceId)\n",
    "    WHERE \n",
    "        IsDefault = \"TRUE\"\n",
    "    '''\n",
    "    primaryProvider = pd.read_sql(sql,conn)\n",
    "    primaryProvider.drop_duplicates('PatientID', inplace=True)\n",
    "    treatmentPlanEncounters= treatmentPlanEncounters.merge(primaryProvider, on='PatientID', how='left', validate='m:1')\n",
    "    treatmentPlanEncounters['Primary_Provider'].fillna(\"Unknown\", inplace=True)\n",
    "    logger.info(f\"Successfully queried primary providers.\")\n",
    "except Exception as e:\n",
    "    print(e)\n",
    "    logger.error(f\"Failed to query primary providers.\", exc_info=True) "
   ]
  },
  {
   "cell_type": "markdown",
   "id": "f2b0c4f5",
   "metadata": {
    "papermill": {
     "duration": 0.0,
     "end_time": "2024-10-15T11:01:45.460098",
     "exception": false,
     "start_time": "2024-10-15T11:01:45.460098",
     "status": "completed"
    },
    "tags": []
   },
   "source": [
    "## Treatment Plan Functions"
   ]
  },
  {
   "cell_type": "code",
   "execution_count": 9,
   "id": "23fceb68",
   "metadata": {
    "execution": {
     "iopub.execute_input": "2024-10-15T11:01:45.475775Z",
     "iopub.status.busy": "2024-10-15T11:01:45.475775Z",
     "iopub.status.idle": "2024-10-15T11:01:45.503634Z",
     "shell.execute_reply": "2024-10-15T11:01:45.503634Z"
    },
    "papermill": {
     "duration": 0.027859,
     "end_time": "2024-10-15T11:01:45.503634",
     "exception": false,
     "start_time": "2024-10-15T11:01:45.475775",
     "status": "completed"
    },
    "tags": []
   },
   "outputs": [],
   "source": [
    "def find_missing_initial_treatment_plan(temp_df):\n",
    "    # if patient does not have initial treatment plan \n",
    "    # and first treatment plan review date is more than a year past our InSync onboarding \n",
    "    # and patient was admitted, \n",
    "    # return true otherwise return false\n",
    "    if \"Initial Treatment Plan\" not in temp_df['EncounterType'].unique() and str(temp_df[temp_df['Summarized Encounter Type'] == 'Treatment Plan']['EncounterDate'].first_valid_index()) != 'None' and str(temp_df[temp_df['Admitted'] == True]['Admitted'].first_valid_index()) != 'None':\n",
    "        if temp_df.loc[temp_df[temp_df['Summarized Encounter Type'] == 'Treatment Plan']['EncounterDate'].first_valid_index(), 'EncounterDate'] > pd.Timestamp('7/20/2022'):\n",
    "            return True\n",
    "        else:\n",
    "            return False\n",
    "    else:\n",
    "        return False\n",
    "    \n",
    "def getDischargeInfo(is_ActiveInInSync, is_lastEncounterDischarge):\n",
    "    if is_ActiveInInSync and is_lastEncounterDischarge:\n",
    "        return \"\"\"Last encounter was discharge so Patient should probably be inactivated | \"\"\"    \n",
    "\n",
    "def filterAndSortToRelevantData(completeDataFrame, patientID):\n",
    "    singlePatient_df = completeDataFrame[completeDataFrame['PatientID'] == patientID].copy()\n",
    "    singlePatient_df = singlePatient_df[singlePatient_df['Summarized Encounter Type'].map(lambda encType: True if encType == 'Treatment Plan' or encType == 'Transfer Note' or encType == 'Discharge Note' else False)].copy()\n",
    "    singlePatient_df = singlePatient_df.sort_values(by=\"Review Date\", ascending=True)\n",
    "    singlePatient_df = singlePatient_df.reset_index(drop=True)\n",
    "    return singlePatient_df\n",
    "\n",
    "\n",
    "def isEmptyDataFrame(singlePatient_df):\n",
    "    if singlePatient_df.shape[0] == 0:\n",
    "        return True\n",
    "    else:\n",
    "        return False\n",
    "    \n",
    "def isNeedingToBeInactivated(is_ActiveInInSync, is_lastEncounterDischarge):\n",
    "    if is_ActiveInInSync and is_lastEncounterDischarge:\n",
    "        return True  \n",
    "    else:\n",
    "        return False\n",
    "\n",
    "def isTransferNote(singlePatient_df, currentEncounterIndexNum):\n",
    "    if singlePatient_df[currentEncounterIndexNum, 'Summarized Encounter Type'] == 'Transfer Note':\n",
    "        return True\n",
    "    else:\n",
    "        return False\n",
    "\n",
    "def hasNextPlan(singlePatient_df, currentEncounterIndexNum):\n",
    "    # and see if there are any treatment plans after current treatment plan\n",
    "    currentTreatmentPlanDate = singlePatient_df.loc[currentEncounterIndexNum, 'EncounterDate']\n",
    "    if 'Treatment Plan' in singlePatient_df[singlePatient_df['EncounterDate'] > currentTreatmentPlanDate][\"Summarized Encounter Type\"].unique():\n",
    "        return True\n",
    "    else:\n",
    "        return False\n",
    "\n",
    "def getLocationOfNextPlan(singlePatient_df, currentEncounterIndexNum):\n",
    "    currentTreatmentPlanDate = singlePatient_df.loc[currentEncounterIndexNum, 'EncounterDate']\n",
    "    nextPlanLocation = singlePatient_df[(singlePatient_df['EncounterDate'] > currentTreatmentPlanDate) & (singlePatient_df[\"Summarized Encounter Type\"] == 'Treatment Plan') ].index[0]\n",
    "    return nextPlanLocation\n",
    "\n",
    "def isTransferedNext(singlePatient_df, currentEncounterIndexNum, hasNextPlan, nextPlanLocation=None):\n",
    "    currentTreatmentPlanDate = singlePatient_df.loc[currentEncounterIndexNum, 'EncounterDate']\n",
    "    if hasNextPlan:\n",
    "        # see if there are any transfer notes between current plan and next plan\n",
    "        nextTreatmentPlanDate =  singlePatient_df.loc[nextPlanLocation, 'EncounterDate']\n",
    "        if 'Transfer Note' in singlePatient_df[(singlePatient_df['EncounterDate'] > currentTreatmentPlanDate) & ((singlePatient_df['EncounterDate'] < nextTreatmentPlanDate))][\"Summarized Encounter Type\"].unique():\n",
    "            return True\n",
    "        else:\n",
    "            return False\n",
    "    else:\n",
    "        if 'Transfer Note' in singlePatient_df[singlePatient_df['EncounterDate'] >= currentTreatmentPlanDate][\"Summarized Encounter Type\"].unique():\n",
    "            return True\n",
    "        else:\n",
    "            return False\n",
    "    \n",
    "def isDischargedNext(singlePatient_df, currentEncounterIndexNum, hasNextPlan, nextPlanLocation=None):\n",
    "    currentTreatmentPlanDate = singlePatient_df.loc[currentEncounterIndexNum, 'EncounterDate']\n",
    "    if hasNextPlan: # see if there are any transfer notes between current plan and next plan\n",
    "        nextTreatmentPlanDate =  singlePatient_df.loc[nextPlanLocation, 'EncounterDate']\n",
    "        if 'Discharge Note' in singlePatient_df[(singlePatient_df['EncounterDate'] >= currentTreatmentPlanDate) & \n",
    "                                           ((singlePatient_df['EncounterDate'] < nextTreatmentPlanDate))][\"Summarized Encounter Type\"].unique():\n",
    "            return True\n",
    "        else:\n",
    "            return False\n",
    "    else: # see if there is a \n",
    "        if 'Discharge Note' in singlePatient_df[singlePatient_df['EncounterDate'] >= currentTreatmentPlanDate][\"Summarized Encounter Type\"].unique():\n",
    "            return True\n",
    "        else:\n",
    "            return False    \n",
    "    \n",
    "def isNextPlanClosedLate(singlePatient_df, currentEncounterIndexNum, hasNextPlan, nextPlanLocation):\n",
    "    if singlePatient_df.loc[nextPlanLocation, \"EndDate\"]!= pd.NaT and singlePatient_df.loc[nextPlanLocation, \"EndDate\"] > singlePatient_df.loc[currentEncounterIndexNum, \"Review Date\"]:\n",
    "        return True\n",
    "    else:\n",
    "        return False\n",
    "\n",
    "def isCurrentPlanSigned(singlePatient_df, currentEncounterIndexNum):\n",
    "    if str(singlePatient_df.loc[currentEncounterIndexNum, \"closedByFullName\"]) =='None':\n",
    "        return False\n",
    "    else:\n",
    "        return True\n",
    "\n",
    "def getDaysAfterTransfer(singlePatient_df, currentEncounterIndexNum, hasNextPlan, nextPlanLocation=None):\n",
    "    currentTreatmentPlanDate = singlePatient_df.loc[currentEncounterIndexNum, 'EncounterDate']\n",
    "    if hasNextPlan:\n",
    "        nextTreatmentPlanDate =  singlePatient_df.loc[nextPlanLocation, 'EncounterDate']\n",
    "        return (nextTreatmentPlanDate-singlePatient_df.loc[currentEncounterIndexNum, \"EncounterDate\"]).days\n",
    "    else:\n",
    "        daysAfterTransfer = (datetime.now()-currentTreatmentPlanDate).days\n",
    "        return daysAfterTransfer\n",
    "\n"
   ]
  },
  {
   "cell_type": "code",
   "execution_count": 10,
   "id": "b0f77077",
   "metadata": {
    "execution": {
     "iopub.execute_input": "2024-10-15T11:01:45.519337Z",
     "iopub.status.busy": "2024-10-15T11:01:45.519337Z",
     "iopub.status.idle": "2024-10-15T11:01:45.596878Z",
     "shell.execute_reply": "2024-10-15T11:01:45.596878Z"
    },
    "papermill": {
     "duration": 0.093244,
     "end_time": "2024-10-15T11:01:45.596878",
     "exception": false,
     "start_time": "2024-10-15T11:01:45.503634",
     "status": "completed"
    },
    "tags": []
   },
   "outputs": [],
   "source": [
    "try:\n",
    "    relevantInfodf = treatmentPlanEncounters.merge(patientDetails, how='left', on='PatientID', validate='m:1')\n",
    "    relevantInfodf = relevantInfodf[relevantInfodf['MRNNumber'].notnull()].copy()\n",
    "    logger.info(f\"Successfully merged patient details with treatment plan info.\")\n",
    "except Exception as e:\n",
    "    print(e)\n",
    "    logger.error(f\"Failed to merge patient details with treatment plan info.\", exc_info=True) "
   ]
  },
  {
   "cell_type": "markdown",
   "id": "3600deac",
   "metadata": {
    "papermill": {
     "duration": 0.020628,
     "end_time": "2024-10-15T11:01:45.617506",
     "exception": false,
     "start_time": "2024-10-15T11:01:45.596878",
     "status": "completed"
    },
    "tags": []
   },
   "source": [
    "## Calculate Review Date"
   ]
  },
  {
   "cell_type": "code",
   "execution_count": 11,
   "id": "b40ef12e",
   "metadata": {
    "execution": {
     "iopub.execute_input": "2024-10-15T11:01:45.620611Z",
     "iopub.status.busy": "2024-10-15T11:01:45.620611Z",
     "iopub.status.idle": "2024-10-15T11:01:47.115528Z",
     "shell.execute_reply": "2024-10-15T11:01:47.115528Z"
    },
    "papermill": {
     "duration": 1.494917,
     "end_time": "2024-10-15T11:01:47.115528",
     "exception": false,
     "start_time": "2024-10-15T11:01:45.620611",
     "status": "completed"
    },
    "tags": []
   },
   "outputs": [],
   "source": [
    "try:\n",
    "    relevantInfodf['Summarized Encounter Type'] = relevantInfodf['EncounterType'].map(lambda type: \n",
    "                                                              \"Treatment Plan\" if \"treatment\" in type.lower() else \n",
    "                                                               (\"Initial Eval\" if 'evaluation' in type.lower() else \n",
    "                                                                (\"Transfer Note\" if 'transfer' in type.lower() else \n",
    "                                                                 (\"Discharge Note\" if 'discharge' in type.lower() else \"Something else\"))))\n",
    "    # Cut off date for switching to 6 month treatment plans is September 23rd 2023 all previously made treatment plans follow old rules\n",
    "    relevantInfodf['Review Date'] = relevantInfodf.apply(lambda row: \n",
    "                                                         row['EncounterDate'] + relativedelta(days=+30) if \"Initial Eval\" in str(row['EncounterType'] )\n",
    "                                                         else (row['EncounterDate'] + relativedelta(months=+6) if row['EncounterDate'] > datetime.strptime(\"09/23/23 00:00:00\", '%m/%d/%y %H:%M:%S')\n",
    "                                                         else (row['EncounterDate'] + relativedelta(months=11) if row['EncounterType'] == 'Initial Treatment Plan' else  \n",
    "                                                         row['EncounterDate'] + relativedelta(months=+12))), axis=1)\n",
    "    relevantInfodf['Days to Review Date'] = relevantInfodf['Review Date'].map(lambda reviewDate:  reviewDate.date()) - date.today()\n",
    "    logger.info(f\"Successfully calculated review date.\")\n",
    "except Exception as e:\n",
    "    print(e)\n",
    "    logger.error(f\"Failed to calculate review date.\", exc_info=True) "
   ]
  },
  {
   "cell_type": "markdown",
   "id": "ca203fc6",
   "metadata": {
    "papermill": {
     "duration": 0.015652,
     "end_time": "2024-10-15T11:01:47.131180",
     "exception": false,
     "start_time": "2024-10-15T11:01:47.115528",
     "status": "completed"
    },
    "tags": []
   },
   "source": [
    "## Determine Treatment Plan Status"
   ]
  },
  {
   "cell_type": "code",
   "execution_count": 12,
   "id": "563e5f03",
   "metadata": {
    "execution": {
     "iopub.execute_input": "2024-10-15T11:01:47.146805Z",
     "iopub.status.busy": "2024-10-15T11:01:47.146805Z",
     "iopub.status.idle": "2024-10-15T11:03:38.857662Z",
     "shell.execute_reply": "2024-10-15T11:03:38.857662Z"
    },
    "papermill": {
     "duration": 111.710857,
     "end_time": "2024-10-15T11:03:38.857662",
     "exception": false,
     "start_time": "2024-10-15T11:01:47.146805",
     "status": "completed"
    },
    "tags": []
   },
   "outputs": [],
   "source": [
    "missingInitialTreatmentPlan = f\"Missing Initial Treatment Plan\"\n",
    "\n",
    "try:\n",
    "    allPatientDf = pd.DataFrame()\n",
    "    for patientID in relevantInfodf['PatientID'].unique()[0:]:\n",
    "        singlePatient_df = filterAndSortToRelevantData(completeDataFrame=relevantInfodf, patientID=patientID)\n",
    "        if isEmptyDataFrame(singlePatient_df): # if patient has initial eval with no initial treatment plan\n",
    "            emptySinglePatient_df = relevantInfodf[(relevantInfodf['PatientID'] == patientID)].copy()\n",
    "\n",
    "            emptySinglePatient_df[\"missingInitialTreatmentPlan\"] = find_missing_initial_treatment_plan(emptySinglePatient_df)\n",
    "            emptySinglePatient_df[\"treatmentPlanStatus\"] = missingInitialTreatmentPlan\n",
    "\n",
    "            allPatientDf = pd.concat([allPatientDf,emptySinglePatient_df])\n",
    "            continue\n",
    "        else:\n",
    "            patientOverallStatus = \"\"\n",
    "            \n",
    "            # check if patient is missing \n",
    "            is_missingInitialTreatmentPlan = find_missing_initial_treatment_plan(singlePatient_df)\n",
    "            singlePatient_df['missingInitialTreatmentPlan'] = is_missingInitialTreatmentPlan   \n",
    "            patientOverallStatus += missingInitialTreatmentPlan\n",
    "            singlePatient_df[\"treatmentPlanStatus\"] = missingInitialTreatmentPlan\n",
    "            if is_missingInitialTreatmentPlan:\n",
    "                patientOverallStatus = \"Missing Initial Treatment Plan\"\n",
    "\n",
    "            is_ActiveInInSync = singlePatient_df.loc[0, 'is_ActiveInInSync']\n",
    "            is_lastEncounterDischarge = singlePatient_df.loc[0, 'is_lastEncounterDischarge']\n",
    "\n",
    "            is_NeedToBeInactivated = isNeedingToBeInactivated(is_ActiveInInSync, is_lastEncounterDischarge)\n",
    "            singlePatient_df['is_NeedToBeInactivated'] = is_NeedToBeInactivated\n",
    "\n",
    "            for currentEncounterIndexNum in range(singlePatient_df.shape[0]):\n",
    "                treatmentPlanStatus = patientOverallStatus\n",
    "                currentEncounterType = singlePatient_df.loc[currentEncounterIndexNum, 'Summarized Encounter Type']\n",
    "                daysToReviewDate = singlePatient_df.loc[currentEncounterIndexNum, 'Days to Review Date'].days\n",
    "\n",
    "                has_NextPlan = hasNextPlan(singlePatient_df, currentEncounterIndexNum)\n",
    "                singlePatient_df.loc[currentEncounterIndexNum, \"has_NextPlan\"] = has_NextPlan\n",
    "\n",
    "                is_CurrentPlanSigned = isCurrentPlanSigned(singlePatient_df, currentEncounterIndexNum)\n",
    "                singlePatient_df.loc[currentEncounterIndexNum, \"is_CurrentPlanSigned\"] = is_CurrentPlanSigned\n",
    "\n",
    "                if not is_CurrentPlanSigned:\n",
    "                    treatmentPlanStatus += \"Plan Still needs to be signed | \"       \n",
    "\n",
    "                if is_NeedToBeInactivated:\n",
    "                    treatmentPlanStatus += \"Last encounter was discharge so Patient should probably be inactivated | \"\n",
    "                if has_NextPlan:\n",
    "                    next_PlanLocation = getLocationOfNextPlan(singlePatient_df, currentEncounterIndexNum)\n",
    "                    singlePatient_df.loc[currentEncounterIndexNum, \"next_PlanLocation\"] = next_PlanLocation\n",
    "\n",
    "                    is_TransferedNext = isTransferedNext(singlePatient_df, currentEncounterIndexNum, has_NextPlan, next_PlanLocation)\n",
    "                    singlePatient_df.loc[currentEncounterIndexNum, \"is_TransferedNext\"] = is_TransferedNext\n",
    "\n",
    "                    is_DischargedNext = isDischargedNext(singlePatient_df, currentEncounterIndexNum, has_NextPlan, next_PlanLocation)\n",
    "                    singlePatient_df.loc[currentEncounterIndexNum, \"is_DischargedNext\"] = is_DischargedNext\n",
    "                    if (is_TransferedNext and not is_DischargedNext) and is_CurrentPlanSigned and has_NextPlan:\n",
    "                        get_DaysAfterTransfer = getDaysAfterTransfer(singlePatient_df, currentEncounterIndexNum, has_NextPlan, next_PlanLocation)\n",
    "                        treatmentPlanStatus += f\"Old Plan is Good | Patient was Transfered and they completed the follow up plan {get_DaysAfterTransfer} days after.\"\n",
    "                    elif (is_DischargedNext and not is_TransferedNext) and is_CurrentPlanSigned and has_NextPlan:\n",
    "                        treatmentPlanStatus += f\"Patient was Discharged\"\n",
    "                    elif not is_TransferedNext and not is_DischargedNext and is_CurrentPlanSigned and has_NextPlan:\n",
    "                        treatmentPlanStatus += \"Everything Seems Good\"\n",
    "\n",
    "                    is_NextPlanClosedLate = isNextPlanClosedLate(singlePatient_df, currentEncounterIndexNum, has_NextPlan, next_PlanLocation)\n",
    "                    singlePatient_df.loc[currentEncounterIndexNum, \"is_NextPlanClosedLate\"] = is_NextPlanClosedLate\n",
    "\n",
    "                else: # if there is no next plan \n",
    "                    is_TransferedNext = isTransferedNext(singlePatient_df, currentEncounterIndexNum, has_NextPlan)\n",
    "                    singlePatient_df.loc[currentEncounterIndexNum, \"is_TransferedNext\"] = is_TransferedNext\n",
    "\n",
    "                    is_DischargedNext = isDischargedNext(singlePatient_df, currentEncounterIndexNum, has_NextPlan)\n",
    "                    singlePatient_df.loc[currentEncounterIndexNum, \"is_DischargedNext\"] = is_DischargedNext\n",
    "\n",
    "                    if not is_TransferedNext and not is_DischargedNext and daysToReviewDate > 0:\n",
    "                        treatmentPlanStatus += f\"Everything Seems Good. Still have {daysToReviewDate} days left.\"\n",
    "                    elif not is_TransferedNext and not is_DischargedNext and daysToReviewDate < 0:\n",
    "                        treatmentPlanStatus += f\"Plan is {np.absolute(daysToReviewDate)} days overdue.\"\n",
    "                    elif is_TransferedNext and not is_DischargedNext:\n",
    "                        daysAfterTransfer = getDaysAfterTransfer(singlePatient_df, currentEncounterIndexNum, has_NextPlan)\n",
    "                        if daysAfterTransfer > 30 and currentEncounterType == \"Transfer Note\":\n",
    "                            treatmentPlanStatus += f\"Patient Transfered. Plan is {daysAfterTransfer-30} days overdue.\"\n",
    "                        elif daysAfterTransfer > 30:\n",
    "                            treatmentPlanStatus += f\"Patient Transfered.\"\n",
    "                        else:\n",
    "                            treatmentPlanStatus += f\"Patient Transfered. Plan is due in {30 - daysAfterTransfer} days.\"\n",
    "                    elif (is_DischargedNext and not is_TransferedNext):\n",
    "                        treatmentPlanStatus += f\"Patient was Discharged\"   \n",
    "                singlePatient_df.loc[currentEncounterIndexNum, \"treatmentPlanStatus\"] = treatmentPlanStatus  \n",
    "            allPatientDf = pd.concat([allPatientDf,singlePatient_df])\n",
    "    logger.info(f\"Successfully built all patients treatment plan details.\")\n",
    "except Exception as e:\n",
    "    print(e)\n",
    "    logger.error(f\"Failed to build all patients treatment plan details.\", exc_info=True) "
   ]
  },
  {
   "cell_type": "code",
   "execution_count": 13,
   "id": "0232539c",
   "metadata": {
    "execution": {
     "iopub.execute_input": "2024-10-15T11:03:38.873305Z",
     "iopub.status.busy": "2024-10-15T11:03:38.873305Z",
     "iopub.status.idle": "2024-10-15T11:03:38.909047Z",
     "shell.execute_reply": "2024-10-15T11:03:38.909047Z"
    },
    "papermill": {
     "duration": 0.054404,
     "end_time": "2024-10-15T11:03:38.912066",
     "exception": false,
     "start_time": "2024-10-15T11:03:38.857662",
     "status": "completed"
    },
    "tags": []
   },
   "outputs": [
    {
     "name": "stderr",
     "output_type": "stream",
     "text": [
      "C:\\Users\\ylen\\AppData\\Local\\Temp\\ipykernel_10504\\960278064.py:11: FutureWarning: Downcasting object dtype arrays on .fillna, .ffill, .bfill is deprecated and will change in a future version. Call result.infer_objects(copy=False) instead. To opt-in to the future behavior, set `pd.set_option('future.no_silent_downcasting', True)`\n",
      "  \"is_NextPlanClosedLate\"]].fillna(False)\n"
     ]
    }
   ],
   "source": [
    "allPatientDf[[\"has_NextPlan\", \n",
    "              \"is_CurrentPlanSigned\",\n",
    "              \"next_PlanLocation\",\n",
    "              \"is_TransferedNext\",\n",
    "              \"is_DischargedNext\",\n",
    "              \"is_NextPlanClosedLate\"]] = allPatientDf[[\"has_NextPlan\", \n",
    "                                                        \"is_CurrentPlanSigned\",\n",
    "                                                        \"next_PlanLocation\",\n",
    "                                                        \"is_TransferedNext\",\n",
    "                                                        \"is_DischargedNext\",\n",
    "                                                        \"is_NextPlanClosedLate\"]].fillna(False)   "
   ]
  },
  {
   "cell_type": "code",
   "execution_count": 14,
   "id": "5939f5c6",
   "metadata": {
    "execution": {
     "iopub.execute_input": "2024-10-15T11:03:38.928058Z",
     "iopub.status.busy": "2024-10-15T11:03:38.928058Z",
     "iopub.status.idle": "2024-10-15T11:03:38.933019Z",
     "shell.execute_reply": "2024-10-15T11:03:38.932006Z"
    },
    "papermill": {
     "duration": 0.015959,
     "end_time": "2024-10-15T11:03:38.934019",
     "exception": false,
     "start_time": "2024-10-15T11:03:38.918060",
     "status": "completed"
    },
    "tags": []
   },
   "outputs": [],
   "source": [
    "# for column in allPatientDf.columns:\n",
    "#     print(column)"
   ]
  },
  {
   "cell_type": "code",
   "execution_count": 15,
   "id": "05f47df7",
   "metadata": {
    "execution": {
     "iopub.execute_input": "2024-10-15T11:03:38.953027Z",
     "iopub.status.busy": "2024-10-15T11:03:38.953027Z",
     "iopub.status.idle": "2024-10-15T11:03:38.970538Z",
     "shell.execute_reply": "2024-10-15T11:03:38.970538Z"
    },
    "papermill": {
     "duration": 0.029518,
     "end_time": "2024-10-15T11:03:38.970538",
     "exception": false,
     "start_time": "2024-10-15T11:03:38.941020",
     "status": "completed"
    },
    "tags": []
   },
   "outputs": [],
   "source": [
    "try:\n",
    "    allPatientDf['is_TreatmentPlanGood'] = allPatientDf['treatmentPlanStatus'].map(lambda status: True if 'Everything Seems Good' in str(status) else False)\n",
    "    allPatientDf['is_TreatmentPlanOverdue'] = allPatientDf['treatmentPlanStatus'].map(lambda status: True if 'overdue' in str(status).lower() else False)\n",
    "    logger.info(f\"Successfully marked treatment plans that are all good.\")\n",
    "except Exception as e:\n",
    "    print(e)\n",
    "    logger.error(f\"Failed to mark treatment plans that are all good.\", exc_info=True) "
   ]
  },
  {
   "cell_type": "code",
   "execution_count": 16,
   "id": "fd3d3e69",
   "metadata": {
    "execution": {
     "iopub.execute_input": "2024-10-15T11:03:38.986177Z",
     "iopub.status.busy": "2024-10-15T11:03:38.986177Z",
     "iopub.status.idle": "2024-10-15T11:03:39.007118Z",
     "shell.execute_reply": "2024-10-15T11:03:39.007118Z"
    },
    "papermill": {
     "duration": 0.03658,
     "end_time": "2024-10-15T11:03:39.007118",
     "exception": false,
     "start_time": "2024-10-15T11:03:38.970538",
     "status": "completed"
    },
    "tags": []
   },
   "outputs": [],
   "source": [
    "allPatientDf['treatmentPlanStatus'] = allPatientDf['treatmentPlanStatus'] + \"| \" + allPatientDf['seen_Recently']"
   ]
  },
  {
   "cell_type": "code",
   "execution_count": 17,
   "id": "056ab9cd",
   "metadata": {
    "execution": {
     "iopub.execute_input": "2024-10-15T11:03:39.022805Z",
     "iopub.status.busy": "2024-10-15T11:03:39.022805Z",
     "iopub.status.idle": "2024-10-15T11:03:39.027761Z",
     "shell.execute_reply": "2024-10-15T11:03:39.027761Z"
    },
    "papermill": {
     "duration": 0.020643,
     "end_time": "2024-10-15T11:03:39.027761",
     "exception": false,
     "start_time": "2024-10-15T11:03:39.007118",
     "status": "completed"
    },
    "tags": []
   },
   "outputs": [],
   "source": [
    "# final_df[final_df['PatientID']==622214]\n",
    "# final_df[final_df['PatientID']==622741]"
   ]
  },
  {
   "cell_type": "code",
   "execution_count": 18,
   "id": "4ff28b04",
   "metadata": {
    "execution": {
     "iopub.execute_input": "2024-10-15T11:03:39.044315Z",
     "iopub.status.busy": "2024-10-15T11:03:39.044315Z",
     "iopub.status.idle": "2024-10-15T11:03:39.060956Z",
     "shell.execute_reply": "2024-10-15T11:03:39.060956Z"
    },
    "papermill": {
     "duration": 0.036211,
     "end_time": "2024-10-15T11:03:39.063972",
     "exception": false,
     "start_time": "2024-10-15T11:03:39.027761",
     "status": "completed"
    },
    "tags": []
   },
   "outputs": [
    {
     "data": {
      "text/plain": [
       "array([\"They've been seen in the past 3 weeks\",\n",
       "       \"Hasn't been seen in 6 months\", \"Hasn't been seen in 3 months\",\n",
       "       \"Hasn't been seen in 3 weeks\", None], dtype=object)"
      ]
     },
     "execution_count": 18,
     "metadata": {},
     "output_type": "execute_result"
    }
   ],
   "source": [
    "allPatientDf['seen_Recently'].unique()"
   ]
  },
  {
   "cell_type": "code",
   "execution_count": 19,
   "id": "b291620e",
   "metadata": {
    "execution": {
     "iopub.execute_input": "2024-10-15T11:03:39.087005Z",
     "iopub.status.busy": "2024-10-15T11:03:39.087005Z",
     "iopub.status.idle": "2024-10-15T11:03:39.092354Z",
     "shell.execute_reply": "2024-10-15T11:03:39.092354Z"
    },
    "papermill": {
     "duration": 0.021041,
     "end_time": "2024-10-15T11:03:39.092354",
     "exception": false,
     "start_time": "2024-10-15T11:03:39.071313",
     "status": "completed"
    },
    "scrolled": true,
    "tags": []
   },
   "outputs": [],
   "source": [
    "# final_df[final_df['allTheInfoYouEverWanted'].map(lambda x: True if \"Closed After Due Date\" in x else False) ].groupby('ProviderName')['EncounterId'].count().sort_values(ascending=False).head(20)"
   ]
  },
  {
   "cell_type": "code",
   "execution_count": 20,
   "id": "1c2958f1",
   "metadata": {
    "execution": {
     "iopub.execute_input": "2024-10-15T11:03:39.107997Z",
     "iopub.status.busy": "2024-10-15T11:03:39.107997Z",
     "iopub.status.idle": "2024-10-15T11:03:39.116969Z",
     "shell.execute_reply": "2024-10-15T11:03:39.116969Z"
    },
    "papermill": {
     "duration": 0.024615,
     "end_time": "2024-10-15T11:03:39.116969",
     "exception": false,
     "start_time": "2024-10-15T11:03:39.092354",
     "status": "completed"
    },
    "tags": []
   },
   "outputs": [],
   "source": [
    "# final_df[final_df['allTheInfoYouEverWanted']==\"\"]"
   ]
  },
  {
   "cell_type": "markdown",
   "id": "2126c504",
   "metadata": {
    "tags": [
     "papermill-error-cell-tag"
    ]
   },
   "source": [
    "<span id=\"papermill-error-cell\" style=\"color:red; font-family:Helvetica Neue, Helvetica, Arial, sans-serif; font-size:2em;\">Execution using papermill encountered an exception here and stopped:</span>"
   ]
  },
  {
   "cell_type": "code",
   "execution_count": 21,
   "id": "f6881a40",
   "metadata": {
    "execution": {
     "iopub.execute_input": "2024-10-15T11:03:39.138793Z",
     "iopub.status.busy": "2024-10-15T11:03:39.137790Z",
     "iopub.status.idle": "2024-10-15T11:03:41.547538Z",
     "shell.execute_reply": "2024-10-15T11:03:41.547538Z"
    },
    "papermill": {
     "duration": 2.430569,
     "end_time": "2024-10-15T11:03:41.547538",
     "exception": true,
     "start_time": "2024-10-15T11:03:39.116969",
     "status": "failed"
    },
    "tags": []
   },
   "outputs": [
    {
     "ename": "AttributeError",
     "evalue": "Can only use .dt accessor with datetimelike values",
     "output_type": "error",
     "traceback": [
      "\u001b[1;31m---------------------------------------------------------------------------\u001b[0m",
      "\u001b[1;31mAttributeError\u001b[0m                            Traceback (most recent call last)",
      "Cell \u001b[1;32mIn[21], line 2\u001b[0m\n\u001b[0;32m      1\u001b[0m \u001b[38;5;66;03m# Change to integer so SQL can recognize it\u001b[39;00m\n\u001b[1;32m----> 2\u001b[0m allPatientDf[\u001b[38;5;124m'\u001b[39m\u001b[38;5;124mDays to Review Date\u001b[39m\u001b[38;5;124m'\u001b[39m] \u001b[38;5;241m=\u001b[39m allPatientDf[\u001b[38;5;124m'\u001b[39m\u001b[38;5;124mDays to Review Date\u001b[39m\u001b[38;5;124m'\u001b[39m]\u001b[38;5;241m.\u001b[39mdt\u001b[38;5;241m.\u001b[39mdays\n",
      "File \u001b[1;32mC:\\Users\\Programming\\Coding\\WorkingEnv\\DataPipeline\\envs\\Lib\\site-packages\\pandas\\core\\generic.py:6299\u001b[0m, in \u001b[0;36mNDFrame.__getattr__\u001b[1;34m(self, name)\u001b[0m\n\u001b[0;32m   6292\u001b[0m \u001b[38;5;28;01mif\u001b[39;00m (\n\u001b[0;32m   6293\u001b[0m     name \u001b[38;5;129;01mnot\u001b[39;00m \u001b[38;5;129;01min\u001b[39;00m \u001b[38;5;28mself\u001b[39m\u001b[38;5;241m.\u001b[39m_internal_names_set\n\u001b[0;32m   6294\u001b[0m     \u001b[38;5;129;01mand\u001b[39;00m name \u001b[38;5;129;01mnot\u001b[39;00m \u001b[38;5;129;01min\u001b[39;00m \u001b[38;5;28mself\u001b[39m\u001b[38;5;241m.\u001b[39m_metadata\n\u001b[0;32m   6295\u001b[0m     \u001b[38;5;129;01mand\u001b[39;00m name \u001b[38;5;129;01mnot\u001b[39;00m \u001b[38;5;129;01min\u001b[39;00m \u001b[38;5;28mself\u001b[39m\u001b[38;5;241m.\u001b[39m_accessors\n\u001b[0;32m   6296\u001b[0m     \u001b[38;5;129;01mand\u001b[39;00m \u001b[38;5;28mself\u001b[39m\u001b[38;5;241m.\u001b[39m_info_axis\u001b[38;5;241m.\u001b[39m_can_hold_identifiers_and_holds_name(name)\n\u001b[0;32m   6297\u001b[0m ):\n\u001b[0;32m   6298\u001b[0m     \u001b[38;5;28;01mreturn\u001b[39;00m \u001b[38;5;28mself\u001b[39m[name]\n\u001b[1;32m-> 6299\u001b[0m \u001b[38;5;28;01mreturn\u001b[39;00m \u001b[38;5;28mobject\u001b[39m\u001b[38;5;241m.\u001b[39m\u001b[38;5;21m__getattribute__\u001b[39m(\u001b[38;5;28mself\u001b[39m, name)\n",
      "File \u001b[1;32mC:\\Users\\Programming\\Coding\\WorkingEnv\\DataPipeline\\envs\\Lib\\site-packages\\pandas\\core\\accessor.py:224\u001b[0m, in \u001b[0;36mCachedAccessor.__get__\u001b[1;34m(self, obj, cls)\u001b[0m\n\u001b[0;32m    221\u001b[0m \u001b[38;5;28;01mif\u001b[39;00m obj \u001b[38;5;129;01mis\u001b[39;00m \u001b[38;5;28;01mNone\u001b[39;00m:\n\u001b[0;32m    222\u001b[0m     \u001b[38;5;66;03m# we're accessing the attribute of the class, i.e., Dataset.geo\u001b[39;00m\n\u001b[0;32m    223\u001b[0m     \u001b[38;5;28;01mreturn\u001b[39;00m \u001b[38;5;28mself\u001b[39m\u001b[38;5;241m.\u001b[39m_accessor\n\u001b[1;32m--> 224\u001b[0m accessor_obj \u001b[38;5;241m=\u001b[39m \u001b[38;5;28mself\u001b[39m\u001b[38;5;241m.\u001b[39m_accessor(obj)\n\u001b[0;32m    225\u001b[0m \u001b[38;5;66;03m# Replace the property with the accessor object. Inspired by:\u001b[39;00m\n\u001b[0;32m    226\u001b[0m \u001b[38;5;66;03m# https://www.pydanny.com/cached-property.html\u001b[39;00m\n\u001b[0;32m    227\u001b[0m \u001b[38;5;66;03m# We need to use object.__setattr__ because we overwrite __setattr__ on\u001b[39;00m\n\u001b[0;32m    228\u001b[0m \u001b[38;5;66;03m# NDFrame\u001b[39;00m\n\u001b[0;32m    229\u001b[0m \u001b[38;5;28mobject\u001b[39m\u001b[38;5;241m.\u001b[39m\u001b[38;5;21m__setattr__\u001b[39m(obj, \u001b[38;5;28mself\u001b[39m\u001b[38;5;241m.\u001b[39m_name, accessor_obj)\n",
      "File \u001b[1;32mC:\\Users\\Programming\\Coding\\WorkingEnv\\DataPipeline\\envs\\Lib\\site-packages\\pandas\\core\\indexes\\accessors.py:643\u001b[0m, in \u001b[0;36mCombinedDatetimelikeProperties.__new__\u001b[1;34m(cls, data)\u001b[0m\n\u001b[0;32m    640\u001b[0m \u001b[38;5;28;01melif\u001b[39;00m \u001b[38;5;28misinstance\u001b[39m(data\u001b[38;5;241m.\u001b[39mdtype, PeriodDtype):\n\u001b[0;32m    641\u001b[0m     \u001b[38;5;28;01mreturn\u001b[39;00m PeriodProperties(data, orig)\n\u001b[1;32m--> 643\u001b[0m \u001b[38;5;28;01mraise\u001b[39;00m \u001b[38;5;167;01mAttributeError\u001b[39;00m(\u001b[38;5;124m\"\u001b[39m\u001b[38;5;124mCan only use .dt accessor with datetimelike values\u001b[39m\u001b[38;5;124m\"\u001b[39m)\n",
      "\u001b[1;31mAttributeError\u001b[0m: Can only use .dt accessor with datetimelike values"
     ]
    }
   ],
   "source": [
    "# Change to integer so SQL can recognize it\n",
    "allPatientDf['Days to Review Date'] = allPatientDf['Days to Review Date'].dt.days"
   ]
  },
  {
   "cell_type": "code",
   "execution_count": null,
   "id": "a366f60f",
   "metadata": {
    "papermill": {
     "duration": null,
     "end_time": null,
     "exception": null,
     "start_time": null,
     "status": "pending"
    },
    "tags": []
   },
   "outputs": [],
   "source": [
    "allPatientDf = allPatientDf.merge(missingAdmissionNote[['PatientID', 'HasAdmissionNote']], how='left', on='PatientID')\n"
   ]
  },
  {
   "cell_type": "code",
   "execution_count": null,
   "id": "5475f33a",
   "metadata": {
    "papermill": {
     "duration": null,
     "end_time": null,
     "exception": null,
     "start_time": null,
     "status": "pending"
    },
    "tags": []
   },
   "outputs": [],
   "source": [
    "allPatientDf['HasAdmissionNote'] = allPatientDf['HasAdmissionNote'].fillna(False)"
   ]
  },
  {
   "cell_type": "code",
   "execution_count": null,
   "id": "8956239a",
   "metadata": {
    "papermill": {
     "duration": null,
     "end_time": null,
     "exception": null,
     "start_time": null,
     "status": "pending"
    },
    "tags": []
   },
   "outputs": [],
   "source": [
    "# filter to useful columns\n",
    "allPatientDf = allPatientDf[[\"EncounterId\",\n",
    "                            \"MRNNumber\",\n",
    "                            \"DOB\",\n",
    "                            \"PatientID\",\n",
    "                            \"ProviderName\",\n",
    "                            \"Primary_Provider\",\n",
    "                            \"patient_fullName\",\n",
    "                            \"FacilityName\",\n",
    "                            \"Summarized Encounter Type\",\n",
    "                            \"EncounterDate\",\n",
    "                            \"EncounterEndDateTimeToolTip\",\n",
    "                            \"EncounterStartDateTimeToolTip\",\n",
    "                            \"EncounterType\",\n",
    "                            \"EncounterOpenClosed\",\n",
    "                            \"ProgramName\",\n",
    "                            \"closedByFullName\",\n",
    "                            \"finalEncounterType\",\n",
    "                            \"finalEncounterDate\",\n",
    "                            \"is_ActiveInInSync\",\n",
    "                            \"is_lastEncounterDischarge\",\n",
    "                            \"lastBillable_EncounterType\",\n",
    "                            \"lastBillable_EncounterDate\",\n",
    "                            \"lastBillable_ProgramName\",\n",
    "                            \"lastBillable_FacilityName\",\n",
    "                            \"seen_Recently\",\n",
    "                            \"Review Date\",\n",
    "                            \"Days to Review Date\",\n",
    "                            \"is_NeedToBeInactivated\",\n",
    "                            \"has_NextPlan\",\n",
    "                            \"is_CurrentPlanSigned\",\n",
    "                            \"next_PlanLocation\",\n",
    "                            \"is_TransferedNext\",\n",
    "                            \"is_DischargedNext\",\n",
    "                            \"is_NextPlanClosedLate\",\n",
    "                            \"treatmentPlanStatus\",\n",
    "                            \"missingInitialTreatmentPlan\",\n",
    "                            \"HasAdmissionNote\",\n",
    "                            \"is_TreatmentPlanGood\",\n",
    "                            \"is_TreatmentPlanOverdue\",\n",
    "                            \"Admitted\"]]"
   ]
  },
  {
   "cell_type": "code",
   "execution_count": null,
   "id": "9be21bdf",
   "metadata": {
    "papermill": {
     "duration": null,
     "end_time": null,
     "exception": null,
     "start_time": null,
     "status": "pending"
    },
    "tags": []
   },
   "outputs": [],
   "source": [
    "allPatientDf = allPatientDf.drop_duplicates('EncounterId', keep='first')"
   ]
  },
  {
   "cell_type": "markdown",
   "id": "4fa29770",
   "metadata": {
    "papermill": {
     "duration": null,
     "end_time": null,
     "exception": null,
     "start_time": null,
     "status": "pending"
    },
    "tags": []
   },
   "source": [
    "## For Presenting\n",
    "- Replace all names with random ones for presenting"
   ]
  },
  {
   "cell_type": "code",
   "execution_count": null,
   "id": "2044b078",
   "metadata": {
    "papermill": {
     "duration": null,
     "end_time": null,
     "exception": null,
     "start_time": null,
     "status": "pending"
    },
    "tags": []
   },
   "outputs": [],
   "source": [
    "# randomNames = pd.read_excel('../data/Random Names.xlsx')\n",
    "\n",
    "# final_df['patient_fullName'] = final_df['patient_fullName'].map(lambda name: list(randomNames['Names'].sample(1))[0])\n",
    "# final_df['ProviderName'] = final_df['ProviderName'].map(lambda name: list(final_df['ProviderName'].sample(1))[0])"
   ]
  },
  {
   "cell_type": "code",
   "execution_count": null,
   "id": "e701778c",
   "metadata": {
    "papermill": {
     "duration": null,
     "end_time": null,
     "exception": null,
     "start_time": null,
     "status": "pending"
    },
    "tags": []
   },
   "outputs": [],
   "source": [
    "rename_mapping = {\n",
    "    'Summarized Encounter Type': 'Summarized_Encounter_Type',\n",
    "    'Review Date': 'Review_Date',\n",
    "    'Days to Review Date': 'Days_to_Review_Date',\n",
    "}\n",
    "# Rename columns using the mapping dictionary\n",
    "allPatientDf = allPatientDf.rename(columns=rename_mapping)"
   ]
  },
  {
   "cell_type": "code",
   "execution_count": null,
   "id": "2db0d3a6",
   "metadata": {
    "papermill": {
     "duration": null,
     "end_time": null,
     "exception": null,
     "start_time": null,
     "status": "pending"
    },
    "tags": []
   },
   "outputs": [],
   "source": [
    "table_name= \"ptTreatmentPlanDuenessSummary\"\n",
    "try:\n",
    "    allPatientDf.to_sql(\"ptTreatmentPlanDuenessSummary\", conn, if_exists='replace', index = False)\n",
    "    logger.info(f\"Successfully pushed ptTreatmentPlanDuenessSummary to database.\")\n",
    "except Exception as e:\n",
    "    logger.error(f\"Failed to push ptTreatmentPlanDuenessSummary to database.\", exc_info=True) \n",
    "    print(e)"
   ]
  },
  {
   "cell_type": "code",
   "execution_count": null,
   "id": "7b94636b",
   "metadata": {
    "papermill": {
     "duration": null,
     "end_time": null,
     "exception": null,
     "start_time": null,
     "status": "pending"
    },
    "tags": []
   },
   "outputs": [],
   "source": [
    "conn.dispose()"
   ]
  },
  {
   "cell_type": "markdown",
   "id": "42c57109",
   "metadata": {
    "papermill": {
     "duration": null,
     "end_time": null,
     "exception": null,
     "start_time": null,
     "status": "pending"
    },
    "tags": []
   },
   "source": [
    "## Old Code"
   ]
  },
  {
   "cell_type": "code",
   "execution_count": null,
   "id": "dec9e9de",
   "metadata": {
    "papermill": {
     "duration": null,
     "end_time": null,
     "exception": null,
     "start_time": null,
     "status": "pending"
    },
    "tags": []
   },
   "outputs": [],
   "source": [
    "# final_df[final_df['ProgramName'] =='Boro Park Clinics'].head(15).to_excel(\"../data/checkTreatmentPlanCode.xlsx\", index=False)"
   ]
  },
  {
   "cell_type": "code",
   "execution_count": null,
   "id": "3372e488",
   "metadata": {
    "papermill": {
     "duration": null,
     "end_time": null,
     "exception": null,
     "start_time": null,
     "status": "pending"
    },
    "tags": []
   },
   "outputs": [],
   "source": [
    "# final_df[final_df['Patient Name'] == 'Braun, Chesky']"
   ]
  },
  {
   "cell_type": "code",
   "execution_count": null,
   "id": "554072f8",
   "metadata": {
    "papermill": {
     "duration": null,
     "end_time": null,
     "exception": null,
     "start_time": null,
     "status": "pending"
    },
    "tags": []
   },
   "outputs": [],
   "source": [
    "# final_df['Program']\n",
    "# final_df['Status']\n",
    "# final_df = final_df.merge(patientStatusProgramdf, on='MRN', how='inner')\n",
    "# final_df"
   ]
  },
  {
   "cell_type": "code",
   "execution_count": null,
   "id": "9afb64a8",
   "metadata": {
    "papermill": {
     "duration": null,
     "end_time": null,
     "exception": null,
     "start_time": null,
     "status": "pending"
    },
    "tags": []
   },
   "outputs": [],
   "source": [
    "# final_df.columns"
   ]
  },
  {
   "cell_type": "code",
   "execution_count": null,
   "id": "80593480",
   "metadata": {
    "papermill": {
     "duration": null,
     "end_time": null,
     "exception": null,
     "start_time": null,
     "status": "pending"
    },
    "tags": []
   },
   "outputs": [],
   "source": [
    "# final_df = final_df[['MRN', 'Patient Name_x', 'Encounter Type',\n",
    "#                    'Encounter / Service Provider', \"Encounter Facility\", 'Visit Date', 'Signed By',\n",
    "#                    'Signed Date', 'Co Sign Status', 'Co Signed By',\n",
    "#                    'Summarized Encounter Type', 'Missing Initial Treatment Plan',\n",
    "#                    'Review Date', 'Days to Review Date', 'allTheInfoYouEverWanted','Patient Status',\n",
    "#                    'Date of Last Appointment', 'Total Appointments', 'Updated Status_x', \"Last Seen_x\"]].copy()"
   ]
  },
  {
   "cell_type": "code",
   "execution_count": null,
   "id": "28aa3996",
   "metadata": {
    "papermill": {
     "duration": null,
     "end_time": null,
     "exception": null,
     "start_time": null,
     "status": "pending"
    },
    "tags": []
   },
   "outputs": [],
   "source": [
    "# writer = pd.ExcelWriter(\"Excel TreatmentPlan Data/TreatmentPlanforCompliance v5.xlsx\", engine='xlsxwriter')\n",
    "\n",
    "# # Convert the dataframe to an XlsxWriter Excel object. Turn off the default\n",
    "# # header and index and skip one row to allow us to insert a user defined\n",
    "# # header.\n",
    "# final_df.to_excel(writer, sheet_name='Sheet1', startrow=1, header=False, index=False)\n",
    "\n",
    "# # Get the xlsxwriter workbook and worksheet objects.\n",
    "# workbook = writer.book\n",
    "# worksheet = writer.sheets['Sheet1']\n",
    "\n",
    "# # Get the dimensions of the dataframe.\n",
    "# (max_row, max_col) = final_df.shape\n",
    "\n",
    "# # Create a list of column headers, to use in add_table().\n",
    "# column_settings = []\n",
    "# for header in final_df.columns:\n",
    "#     column_settings.append({'header': header})\n",
    "\n",
    "# # Add the table.\n",
    "# worksheet.add_table(0, 0, max_row, max_col - 1, {'columns': column_settings})\n",
    "\n",
    "# # Make the columns wider for clarity.\n",
    "# worksheet.set_column(0, max_col - 1, 12)\n",
    "\n",
    "# # Close the Pandas Excel writer and output the Excel file.\n",
    "# writer.save()\n",
    "# writer.close()"
   ]
  }
 ],
 "metadata": {
  "kernelspec": {
   "display_name": "Python 3 (ipykernel)",
   "language": "python",
   "name": "python3"
  },
  "language_info": {
   "codemirror_mode": {
    "name": "ipython",
    "version": 3
   },
   "file_extension": ".py",
   "mimetype": "text/x-python",
   "name": "python",
   "nbconvert_exporter": "python",
   "pygments_lexer": "ipython3",
   "version": "3.12.4"
  },
  "papermill": {
   "default_parameters": {},
   "duration": 169.493609,
   "end_time": "2024-10-15T11:03:42.320897",
   "environment_variables": {},
   "exception": true,
   "input_path": "TreatmentPlanReport.ipynb",
   "output_path": "snapshots/TreatmentPlanReport.ipynb",
   "parameters": {},
   "start_time": "2024-10-15T11:00:52.827288",
   "version": "2.3.3"
  },
  "toc": {
   "base_numbering": 1,
   "nav_menu": {},
   "number_sections": true,
   "sideBar": true,
   "skip_h1_title": false,
   "title_cell": "Table of Contents",
   "title_sidebar": "Contents",
   "toc_cell": false,
   "toc_position": {
    "height": "calc(100% - 180px)",
    "left": "10px",
    "top": "150px",
    "width": "409.6px"
   },
   "toc_section_display": true,
   "toc_window_display": true
  },
  "varInspector": {
   "cols": {
    "lenName": 16,
    "lenType": 16,
    "lenVar": 40
   },
   "kernels_config": {
    "python": {
     "delete_cmd_postfix": "",
     "delete_cmd_prefix": "del ",
     "library": "var_list.py",
     "varRefreshCmd": "print(var_dic_list())"
    },
    "r": {
     "delete_cmd_postfix": ") ",
     "delete_cmd_prefix": "rm(",
     "library": "var_list.r",
     "varRefreshCmd": "cat(var_dic_list()) "
    }
   },
   "types_to_exclude": [
    "module",
    "function",
    "builtin_function_or_method",
    "instance",
    "_Feature"
   ],
   "window_display": false
  }
 },
 "nbformat": 4,
 "nbformat_minor": 5
}