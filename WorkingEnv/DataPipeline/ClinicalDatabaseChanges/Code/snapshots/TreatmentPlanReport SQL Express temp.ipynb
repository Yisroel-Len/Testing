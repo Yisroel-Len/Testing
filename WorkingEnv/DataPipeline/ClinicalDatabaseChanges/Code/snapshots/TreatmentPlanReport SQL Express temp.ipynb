{
 "cells": [
  {
   "cell_type": "code",
   "execution_count": 1,
   "id": "d8f8dff2",
   "metadata": {
    "ExecuteTime": {
     "end_time": "2023-06-19T17:12:04.693955Z",
     "start_time": "2023-06-19T17:12:03.745305Z"
    },
    "execution": {
     "iopub.execute_input": "2024-10-28T20:01:24.203677Z",
     "iopub.status.busy": "2024-10-28T20:01:24.202686Z",
     "iopub.status.idle": "2024-10-28T20:01:27.562457Z",
     "shell.execute_reply": "2024-10-28T20:01:27.560456Z"
    },
    "papermill": {
     "duration": 3.394622,
     "end_time": "2024-10-28T20:01:27.568455",
     "exception": false,
     "start_time": "2024-10-28T20:01:24.173833",
     "status": "completed"
    },
    "tags": []
   },
   "outputs": [],
   "source": [
    "import pandas as pd\n",
    "import numpy as np\n",
    "import pyodbc\n",
    "import time\n",
    "from datetime import datetime\n",
    "from dateutil.relativedelta import relativedelta\n",
    "from datetime import date\n",
    "import sqlite3\n",
    "from sqlalchemy import create_engine"
   ]
  },
  {
   "cell_type": "code",
   "execution_count": null,
   "id": "8523fff1",
   "metadata": {
    "execution": {
     "iopub.execute_input": "2024-10-28T13:17:06.839649Z",
     "iopub.status.busy": "2024-10-28T13:17:06.839649Z",
     "iopub.status.idle": "2024-10-28T13:17:06.884967Z",
     "shell.execute_reply": "2024-10-28T13:17:06.884967Z"
    },
    "papermill": {
     "duration": null,
     "end_time": null,
     "exception": null,
     "start_time": null,
     "status": "pending"
    },
    "tags": []
   },
   "outputs": [],
   "source": [
    "conn = create_engine(r'mssql+pyodbc://@PYTHONSERVER\\SQLEXPRESS/InSync?driver=ODBC+Driver+17+for+SQL+Server&trusted_connection=yes', fast_executemany=True)"
   ]
  },
  {
   "cell_type": "code",
   "execution_count": null,
   "id": "e8e2fd4f",
   "metadata": {
    "ExecuteTime": {
     "end_time": "2024-09-17T18:53:47.581118Z",
     "start_time": "2024-09-17T18:53:47.563036Z"
    },
    "execution": {
     "iopub.execute_input": "2024-10-28T13:17:06.900667Z",
     "iopub.status.busy": "2024-10-28T13:17:06.900667Z",
     "iopub.status.idle": "2024-10-28T13:17:06.914770Z",
     "shell.execute_reply": "2024-10-28T13:17:06.914770Z"
    },
    "papermill": {
     "duration": null,
     "end_time": null,
     "exception": null,
     "start_time": null,
     "status": "pending"
    },
    "tags": []
   },
   "outputs": [],
   "source": [
    "import sys\n",
    "import logging\n",
    "path = r'..\\..\\Logs\\clinical_log.log'\n",
    "logging.basicConfig(filename=path,\n",
    "                    filemode='a',\n",
    "                    format='%(asctime)s,%(msecs)d,%(name)s,%(levelname)s,%(message)s',\n",
    "                    datefmt='%Y-%m-%d %H:%M:%S',\n",
    "                    level=logging.DEBUG)\n",
    "logger = logging.getLogger('TreatmentPlanReport')\n",
    "# logger.info('testing log')"
   ]
  },
  {
   "cell_type": "markdown",
   "id": "0776aa02",
   "metadata": {
    "papermill": {
     "duration": null,
     "end_time": null,
     "exception": null,
     "start_time": null,
     "status": "pending"
    },
    "tags": []
   },
   "source": [
    "## Notes\n",
    "- Make sure that due dates are not calculated by time\n",
    "- Do we want to see which plans were signed/closed late???\n",
    "- If there are two initial treatment plans go by the second one.\n",
    "<br>\n",
    "\n",
    "## To-Do"
   ]
  },
  {
   "cell_type": "code",
   "execution_count": null,
   "id": "724d1dff",
   "metadata": {
    "execution": {
     "iopub.execute_input": "2024-10-28T13:17:06.930416Z",
     "iopub.status.busy": "2024-10-28T13:17:06.930416Z",
     "iopub.status.idle": "2024-10-28T13:17:07.205932Z",
     "shell.execute_reply": "2024-10-28T13:17:07.205932Z"
    },
    "papermill": {
     "duration": null,
     "end_time": null,
     "exception": null,
     "start_time": null,
     "status": "pending"
    },
    "tags": []
   },
   "outputs": [],
   "source": [
    "try:\n",
    "    logger.info(f'Querying ptPatient_Activity.')\n",
    "    sql='''\n",
    "    SELECT \n",
    "        ptPatient_Activity.*,\n",
    "        MRNNumber,\n",
    "        LastName + ', ' + FirstName as patient_fullName,\n",
    "        DOB,\n",
    "        FacilityName AS 'Primary Facility'\n",
    "    FROM \n",
    "        ptPatient_Activity\n",
    "        LEFT JOIN emr_PatientDetails ON (ptPatient_Activity.PatientID=emr_PatientDetails.PatientID)\n",
    "        LEFT JOIN emr_FacilitiesDetails ON (emr_PatientDetails._PrimaryFacility = emr_FacilitiesDetails.FacilityId)\n",
    "    '''\n",
    "    patientDetails = pd.read_sql(sql, conn)\n",
    "    patientDetails = patientDetails.replace('', np.nan)\n",
    "    patientDetails['DOB'] =pd.to_datetime(patientDetails['DOB'])\n",
    "    logger.info(f'Successfully queried ptPatient_Activity.')\n",
    "except Exception as e:\n",
    "    print(e)\n",
    "    logger.error(f'Failed to query ptPatient_Activity.', exc_info=True) "
   ]
  },
  {
   "cell_type": "markdown",
   "id": "79e9a74b",
   "metadata": {
    "papermill": {
     "duration": null,
     "end_time": null,
     "exception": null,
     "start_time": null,
     "status": "pending"
    },
    "tags": []
   },
   "source": [
    "## Get Treatment Plan Info"
   ]
  },
  {
   "cell_type": "code",
   "execution_count": null,
   "id": "eb9789c8",
   "metadata": {
    "execution": {
     "iopub.execute_input": "2024-10-28T13:17:07.221573Z",
     "iopub.status.busy": "2024-10-28T13:17:07.221573Z",
     "iopub.status.idle": "2024-10-28T13:17:13.107727Z",
     "shell.execute_reply": "2024-10-28T13:17:13.107727Z"
    },
    "papermill": {
     "duration": null,
     "end_time": null,
     "exception": null,
     "start_time": null,
     "status": "pending"
    },
    "tags": []
   },
   "outputs": [],
   "source": [
    "try:\n",
    "    logger.info(f'Querying treatment plan related info from tblEncounterSummary.')\n",
    "    sql='''\n",
    "    SELECT \n",
    "        tblEncounterSummary.PatientId as PatientID,\n",
    "        tblEncounterSummary.EncounterID, \n",
    "        tblResourceDetails.FullName as ProviderName,\n",
    "        tblEncounter.EndDate,\n",
    "        VisitDateTime as EncounterDate,\n",
    "        EncounterEndDateTimeToolTip,\n",
    "        EncounterStartDateTimeToolTip,\n",
    "        FacilityName,\n",
    "        tblEncounterType.EncounterType,\n",
    "        EncounterOpenClosed,\n",
    "        ProgramName,\n",
    "        closedByLastName + ', ' + closedByFirstName AS closedByFullName\n",
    "    FROM \n",
    "        tblEncounterSummary\n",
    "        LEFT JOIN emr_FacilitiesDetails ON (tblEncounterSummary.FacilityId = emr_FacilitiesDetails.FacilityId)\n",
    "        LEFT JOIN tblEncounterEndDetails ON (tblEncounterSummary.EncounterID = tblEncounterEndDetails.EncounterID)\n",
    "        INNER JOIN tblEncounter ON (tblEncounterSummary.EncounterID = tblEncounter.EncounterID)\n",
    "        LEFT JOIN tblEncounterType ON (tblEncounterSummary.EncounterTypeID = tblEncounterType.EncounterTypeID)\n",
    "        LEFT JOIN tblResourceDetails ON (tblEncounterSummary.ProviderId = tblResourceDetails.ResourceId)\n",
    "    WHERE (tblEncounterType.EncounterType LIKE '%treatment%'\n",
    "        OR tblEncounterType.EncounterType LIKE '%transfer%'\n",
    "        OR tblEncounterType.EncounterType LIKE '%Initial Eval%'\n",
    "        OR tblEncounterType.EncounterType LIKE '%discharge%')\n",
    "        AND tblEncounterType.EncounterType NOT LIKE '%CFTSS%'\n",
    "    '''\n",
    "    treatmentPlanEncounters = pd.read_sql(sql, conn)\n",
    "    # replaces empty strings in the treatmentPlanEncounters DataFrame with NaN values to handle missing data appropriately\n",
    "    treatmentPlanEncounters = treatmentPlanEncounters.replace('', np.nan)\n",
    "    treatmentPlanEncounters['EncounterDate'] = pd.to_datetime(treatmentPlanEncounters['EncounterDate'])\n",
    "    treatmentPlanEncounters['EndDate'] = pd.to_datetime(treatmentPlanEncounters['EndDate'])\n",
    "    # Remove the word time: from column\n",
    "    treatmentPlanEncounters['EncounterStartDateTimeToolTip'] = treatmentPlanEncounters['EncounterStartDateTimeToolTip'].str.replace('Time: ', '')\n",
    "    treatmentPlanEncounters['EncounterEndDateTimeToolTip'] = treatmentPlanEncounters['EncounterEndDateTimeToolTip'].str.replace('Time: ', '')\n",
    "\n",
    "    treatmentPlanEncounters['EncounterStartDateTimeToolTip'] = pd.to_datetime(treatmentPlanEncounters['EncounterStartDateTimeToolTip'])\n",
    "    treatmentPlanEncounters['EncounterEndDateTimeToolTip'] = pd.to_datetime(treatmentPlanEncounters['EncounterEndDateTimeToolTip'])\n",
    "\n",
    "    logger.info(f'Successfully queried treatment plan related info from tblEncounterSummary.')\n",
    "except Exception as e:\n",
    "    print(e)\n",
    "    logger.error(f'Failed to query treatment plan related info from tblEncounterSummary.', exc_info=True) "
   ]
  },
  {
   "cell_type": "markdown",
   "id": "f88d4797",
   "metadata": {
    "papermill": {
     "duration": null,
     "end_time": null,
     "exception": null,
     "start_time": null,
     "status": "pending"
    },
    "tags": []
   },
   "source": [
    "## Check Patients for Admission"
   ]
  },
  {
   "cell_type": "code",
   "execution_count": null,
   "id": "a3823b3c",
   "metadata": {
    "execution": {
     "iopub.execute_input": "2024-10-28T13:17:13.140066Z",
     "iopub.status.busy": "2024-10-28T13:17:13.140066Z",
     "iopub.status.idle": "2024-10-28T13:17:13.327101Z",
     "shell.execute_reply": "2024-10-28T13:17:13.327101Z"
    },
    "papermill": {
     "duration": null,
     "end_time": null,
     "exception": null,
     "start_time": null,
     "status": "pending"
    },
    "tags": []
   },
   "outputs": [],
   "source": [
    "try:\n",
    "    sql = f'''\n",
    "    SELECT\n",
    "    PatientId as PatientID,\n",
    "    VisitDateTime,\n",
    "    tblEncounterType.Encountertype\n",
    "    FROM \n",
    "        tblEncounterSummary\n",
    "    LEFT JOIN\n",
    "        tblEncounterType ON tblEncounterType.EncounterTypeID = tblEncounterSummary.EncounterTypeID\n",
    "    WHERE \n",
    "        tblEncounterType.EncounterType LIKE '%Admission Note%' \n",
    "        AND tblEncounterType.EncounterType NOT LIKE '%CFTSS%' \n",
    "    '''\n",
    "    missingAdmissionNote = pd.read_sql(sql,conn)\n",
    "    missingAdmissionNote['VisitDateTime'] = pd.to_datetime(missingAdmissionNote['VisitDateTime'])\n",
    "    missingAdmissionNote = missingAdmissionNote.sort_values(by=['PatientID', 'VisitDateTime'], ascending=False)\n",
    "    missingAdmissionNote = missingAdmissionNote.drop_duplicates('PatientID')\n",
    "    missingAdmissionNote['HasAdmissionNote'] = True\n",
    "    logger.info(f'Successfully queried admitted patients. Patient must have an admission note.')\n",
    "except Exception as e:\n",
    "    print(e)\n",
    "    logger.error(f'Failed to query admitted patients. Patient must have an admission note.', exc_info=True) "
   ]
  },
  {
   "cell_type": "code",
   "execution_count": null,
   "id": "35bf4f1a",
   "metadata": {
    "execution": {
     "iopub.execute_input": "2024-10-28T13:17:13.342745Z",
     "iopub.status.busy": "2024-10-28T13:17:13.342745Z",
     "iopub.status.idle": "2024-10-28T13:17:17.583541Z",
     "shell.execute_reply": "2024-10-28T13:17:17.581942Z"
    },
    "papermill": {
     "duration": null,
     "end_time": null,
     "exception": null,
     "start_time": null,
     "status": "pending"
    },
    "tags": []
   },
   "outputs": [],
   "source": [
    "try:\n",
    "    sql = f'''\n",
    "    SELECT\n",
    "    PatientId as PatientID,\n",
    "    tblEncounterType.EncounterType\n",
    "    FROM \n",
    "        tblEncounterSummary\n",
    "    LEFT JOIN\n",
    "        tblEncounterType ON tblEncounterType.EncounterTypeID = tblEncounterSummary.EncounterTypeID\n",
    "    WHERE \n",
    "        tblEncounterType.EncounterType LIKE '%Psychotherapy%' \n",
    "        OR \n",
    "        (tblEncounterType.EncounterType LIKE '%Initial Eval%' \n",
    "        AND tblEncounterType.EncounterType LIKE '%2%')\n",
    "        OR\n",
    "        tblEncounterType.EncounterType = 'Admission Note' \n",
    "    '''\n",
    "    relevantEncounters = pd.read_sql(sql,conn)\n",
    "    # groupby patient IDs and then check encounter list to see if either they have both an initial evaluation and a psychotherapy or an admission note.\n",
    "    acceptedPatients = relevantEncounters.groupby(['PatientID'])['EncounterType'].apply(lambda x: (( True in list(x.str.lower().str.contains('psychotherapy')) ) \n",
    "                                                                                & ( True in list(x.str.lower().str.contains('initial eval'))  )  )\n",
    "                                                                               | (True in list(x.str.lower() == 'admission note'))\n",
    "                                                                       )\n",
    "    acceptedPatients = acceptedPatients.reset_index()        \n",
    "    acceptedPatients.columns = ['PatientID', 'Admitted']    \n",
    "    treatmentPlanEncounters= treatmentPlanEncounters.merge(acceptedPatients, on='PatientID', how='left', validate='m:1')\n",
    "    treatmentPlanEncounters['Admitted'].fillna('False', inplace=True)\n",
    "    logger.info(f'Successfully queried admitted patients. Patient must have either an encounter type of psychotherapy or an initial eval 2.')\n",
    "except Exception as e:\n",
    "    print(e)\n",
    "    logger.error(f'Failed to query admitted patients. Patient must have either an encounter type of psychotherapy or an initial eval 2.', exc_info=True) "
   ]
  },
  {
   "cell_type": "markdown",
   "id": "9f07af01",
   "metadata": {
    "papermill": {
     "duration": null,
     "end_time": null,
     "exception": null,
     "start_time": null,
     "status": "pending"
    },
    "tags": []
   },
   "source": [
    "## Check for Primary Providers"
   ]
  },
  {
   "cell_type": "code",
   "execution_count": null,
   "id": "55168ca6",
   "metadata": {
    "execution": {
     "iopub.execute_input": "2024-10-28T13:17:17.634984Z",
     "iopub.status.busy": "2024-10-28T13:17:17.634460Z",
     "iopub.status.idle": "2024-10-28T13:17:17.843736Z",
     "shell.execute_reply": "2024-10-28T13:17:17.843736Z"
    },
    "papermill": {
     "duration": null,
     "end_time": null,
     "exception": null,
     "start_time": null,
     "status": "pending"
    },
    "tags": []
   },
   "outputs": [],
   "source": [
    "try:\n",
    "    sql = f'''\n",
    "    SELECT\n",
    "    PatientId as PatientID,\n",
    "    tblResourceDetails.FullName as Primary_Provider\n",
    "    FROM \n",
    "        tblPatientPrimaryProviders\n",
    "    LEFT JOIN\n",
    "        tblResourceDetails ON (tblPatientPrimaryProviders.PatientPrimaryProviderId = tblResourceDetails.ResourceId)\n",
    "    WHERE \n",
    "        IsDefault = 'TRUE'\n",
    "    '''\n",
    "    primaryProvider = pd.read_sql(sql,conn)\n",
    "    primaryProvider.drop_duplicates('PatientID', inplace=True)\n",
    "    treatmentPlanEncounters= treatmentPlanEncounters.merge(primaryProvider, on='PatientID', how='left', validate='m:1')\n",
    "    treatmentPlanEncounters['Primary_Provider'].fillna('Unknown', inplace=True)\n",
    "    logger.info(f'Successfully queried primary providers.')\n",
    "except Exception as e:\n",
    "    print(e)\n",
    "    logger.error(f'Failed to query primary providers.', exc_info=True) "
   ]
  },
  {
   "cell_type": "markdown",
   "id": "f2b0c4f5",
   "metadata": {
    "papermill": {
     "duration": null,
     "end_time": null,
     "exception": null,
     "start_time": null,
     "status": "pending"
    },
    "tags": []
   },
   "source": [
    "## Treatment Plan Functions"
   ]
  },
  {
   "cell_type": "code",
   "execution_count": null,
   "id": "23fceb68",
   "metadata": {
    "execution": {
     "iopub.execute_input": "2024-10-28T13:17:17.875006Z",
     "iopub.status.busy": "2024-10-28T13:17:17.875006Z",
     "iopub.status.idle": "2024-10-28T13:17:17.891827Z",
     "shell.execute_reply": "2024-10-28T13:17:17.891187Z"
    },
    "papermill": {
     "duration": null,
     "end_time": null,
     "exception": null,
     "start_time": null,
     "status": "pending"
    },
    "tags": []
   },
   "outputs": [],
   "source": [
    "def find_missing_initial_treatment_plan(temp_df):\n",
    "    # if patient does not have initial treatment plan \n",
    "    # and first treatment plan review date is more than a year past our InSync onboarding \n",
    "    # and patient was admitted, \n",
    "    # return true otherwise return false\n",
    "    if 'Initial Treatment Plan' not in temp_df['EncounterType'].unique() and str(temp_df[temp_df['Summarized Encounter Type'] == 'Treatment Plan']['EncounterDate'].first_valid_index()) != 'None' and str(temp_df[temp_df['Admitted'] == True]['Admitted'].first_valid_index()) != 'None':\n",
    "        if temp_df.loc[temp_df[temp_df['Summarized Encounter Type'] == 'Treatment Plan']['EncounterDate'].first_valid_index(), 'EncounterDate'] > pd.Timestamp('7/20/2022'):\n",
    "            return True\n",
    "        else:\n",
    "            return False\n",
    "    else:\n",
    "        return False\n",
    "    \n",
    "def getDischargeInfo(is_ActiveInInSync, is_lastEncounterDischarge):\n",
    "    if is_ActiveInInSync and is_lastEncounterDischarge:\n",
    "        return '''Last encounter was discharge so Patient should probably be inactivated | '''    \n",
    "\n",
    "def filterAndSortToRelevantData(completeDataFrame, patientID):\n",
    "    singlePatient_df = completeDataFrame[completeDataFrame['PatientID'] == patientID].copy()\n",
    "    singlePatient_df = singlePatient_df[singlePatient_df['Summarized Encounter Type'].map(lambda encType: True if encType == 'Treatment Plan' or encType == 'Transfer Note' or encType == 'Discharge Note' else False)].copy()\n",
    "    singlePatient_df = singlePatient_df.sort_values(by='Review Date', ascending=True)\n",
    "    singlePatient_df = singlePatient_df.reset_index(drop=True)\n",
    "    return singlePatient_df\n",
    "\n",
    "\n",
    "def isEmptyDataFrame(singlePatient_df):\n",
    "    if singlePatient_df.shape[0] == 0:\n",
    "        return True\n",
    "    else:\n",
    "        return False\n",
    "    \n",
    "def isNeedingToBeInactivated(is_ActiveInInSync, is_lastEncounterDischarge):\n",
    "    if is_ActiveInInSync and is_lastEncounterDischarge:\n",
    "        return True  \n",
    "    else:\n",
    "        return False\n",
    "\n",
    "def isTransferNote(singlePatient_df, currentEncounterIndexNum):\n",
    "    if singlePatient_df[currentEncounterIndexNum, 'Summarized Encounter Type'] == 'Transfer Note':\n",
    "        return True\n",
    "    else:\n",
    "        return False\n",
    "\n",
    "def hasNextPlan(singlePatient_df, currentEncounterIndexNum):\n",
    "    # and see if there are any treatment plans after current treatment plan\n",
    "    currentTreatmentPlanDate = singlePatient_df.loc[currentEncounterIndexNum, 'EncounterDate']\n",
    "    if 'Treatment Plan' in singlePatient_df[singlePatient_df['EncounterDate'] > currentTreatmentPlanDate]['Summarized Encounter Type'].unique():\n",
    "        return True\n",
    "    else:\n",
    "        return False\n",
    "\n",
    "def getLocationOfNextPlan(singlePatient_df, currentEncounterIndexNum):\n",
    "    currentTreatmentPlanDate = singlePatient_df.loc[currentEncounterIndexNum, 'EncounterDate']\n",
    "    nextPlanLocation = singlePatient_df[(singlePatient_df['EncounterDate'] > currentTreatmentPlanDate) & (singlePatient_df['Summarized Encounter Type'] == 'Treatment Plan') ].index[0]\n",
    "    return nextPlanLocation\n",
    "\n",
    "def isTransferedNext(singlePatient_df, currentEncounterIndexNum, hasNextPlan, nextPlanLocation=None):\n",
    "    currentTreatmentPlanDate = singlePatient_df.loc[currentEncounterIndexNum, 'EncounterDate']\n",
    "    if hasNextPlan:\n",
    "        # see if there are any transfer notes between current plan and next plan\n",
    "        nextTreatmentPlanDate =  singlePatient_df.loc[nextPlanLocation, 'EncounterDate']\n",
    "        if 'Transfer Note' in singlePatient_df[(singlePatient_df['EncounterDate'] > currentTreatmentPlanDate) & ((singlePatient_df['EncounterDate'] < nextTreatmentPlanDate))]['Summarized Encounter Type'].unique():\n",
    "            return True\n",
    "        else:\n",
    "            return False\n",
    "    else:\n",
    "        if 'Transfer Note' in singlePatient_df[singlePatient_df['EncounterDate'] >= currentTreatmentPlanDate]['Summarized Encounter Type'].unique():\n",
    "            return True\n",
    "        else:\n",
    "            return False\n",
    "    \n",
    "def isDischargedNext(singlePatient_df, currentEncounterIndexNum, hasNextPlan, nextPlanLocation=None):\n",
    "    currentTreatmentPlanDate = singlePatient_df.loc[currentEncounterIndexNum, 'EncounterDate']\n",
    "    if hasNextPlan: # see if there are any transfer notes between current plan and next plan\n",
    "        nextTreatmentPlanDate =  singlePatient_df.loc[nextPlanLocation, 'EncounterDate']\n",
    "        if 'Discharge Note' in singlePatient_df[(singlePatient_df['EncounterDate'] >= currentTreatmentPlanDate) & \n",
    "                                           ((singlePatient_df['EncounterDate'] < nextTreatmentPlanDate))]['Summarized Encounter Type'].unique():\n",
    "            return True\n",
    "        else:\n",
    "            return False\n",
    "    else: # see if there is a \n",
    "        if 'Discharge Note' in singlePatient_df[singlePatient_df['EncounterDate'] >= currentTreatmentPlanDate]['Summarized Encounter Type'].unique():\n",
    "            return True\n",
    "        else:\n",
    "            return False    \n",
    "    \n",
    "def isNextPlanClosedLate(singlePatient_df, currentEncounterIndexNum, hasNextPlan, nextPlanLocation):\n",
    "    if singlePatient_df.loc[nextPlanLocation, 'EndDate']!= pd.NaT and singlePatient_df.loc[nextPlanLocation, 'EndDate'] > singlePatient_df.loc[currentEncounterIndexNum, 'Review Date']:\n",
    "        return True\n",
    "    else:\n",
    "        return False\n",
    "\n",
    "def isCurrentPlanSigned(singlePatient_df, currentEncounterIndexNum):\n",
    "    if str(singlePatient_df.loc[currentEncounterIndexNum, 'closedByFullName']) =='None':\n",
    "        return False\n",
    "    else:\n",
    "        return True\n",
    "\n",
    "def getDaysAfterTransfer(singlePatient_df, currentEncounterIndexNum, hasNextPlan, nextPlanLocation=None):\n",
    "    currentTreatmentPlanDate = singlePatient_df.loc[currentEncounterIndexNum, 'EncounterDate']\n",
    "    if hasNextPlan:\n",
    "        nextTreatmentPlanDate =  singlePatient_df.loc[nextPlanLocation, 'EncounterDate']\n",
    "        return (nextTreatmentPlanDate-singlePatient_df.loc[currentEncounterIndexNum, 'EncounterDate']).days\n",
    "    else:\n",
    "        daysAfterTransfer = (datetime.now()-currentTreatmentPlanDate).days\n",
    "        return daysAfterTransfer\n",
    "\n"
   ]
  },
  {
   "cell_type": "code",
   "execution_count": null,
   "id": "b0f77077",
   "metadata": {
    "execution": {
     "iopub.execute_input": "2024-10-28T13:17:17.911705Z",
     "iopub.status.busy": "2024-10-28T13:17:17.911705Z",
     "iopub.status.idle": "2024-10-28T13:17:17.976459Z",
     "shell.execute_reply": "2024-10-28T13:17:17.976459Z"
    },
    "papermill": {
     "duration": null,
     "end_time": null,
     "exception": null,
     "start_time": null,
     "status": "pending"
    },
    "tags": []
   },
   "outputs": [],
   "source": [
    "try:\n",
    "    relevantInfodf = treatmentPlanEncounters.merge(patientDetails, how='left', on='PatientID', validate='m:1')\n",
    "    relevantInfodf = relevantInfodf[relevantInfodf['MRNNumber'].notnull()].copy()\n",
    "    logger.info(f'Successfully merged patient details with treatment plan info.')\n",
    "except Exception as e:\n",
    "    print(e)\n",
    "    logger.error(f'Failed to merge patient details with treatment plan info.', exc_info=True) "
   ]
  },
  {
   "cell_type": "markdown",
   "id": "3600deac",
   "metadata": {
    "papermill": {
     "duration": null,
     "end_time": null,
     "exception": null,
     "start_time": null,
     "status": "pending"
    },
    "tags": []
   },
   "source": [
    "## Calculate Review Date"
   ]
  },
  {
   "cell_type": "code",
   "execution_count": null,
   "id": "b40ef12e",
   "metadata": {
    "execution": {
     "iopub.execute_input": "2024-10-28T13:17:17.992741Z",
     "iopub.status.busy": "2024-10-28T13:17:17.992741Z",
     "iopub.status.idle": "2024-10-28T13:17:19.610276Z",
     "shell.execute_reply": "2024-10-28T13:17:19.610276Z"
    },
    "papermill": {
     "duration": null,
     "end_time": null,
     "exception": null,
     "start_time": null,
     "status": "pending"
    },
    "tags": []
   },
   "outputs": [],
   "source": [
    "try:\n",
    "    relevantInfodf['Summarized Encounter Type'] = relevantInfodf['EncounterType'].map(lambda type: \n",
    "                                                              'Treatment Plan' if 'treatment' in type.lower() else \n",
    "                                                               ('Initial Eval' if 'evaluation' in type.lower() else \n",
    "                                                                ('Transfer Note' if 'transfer' in type.lower() else \n",
    "                                                                 ('Discharge Note' if 'discharge' in type.lower() else 'Something else'))))\n",
    "    # Cut off date for switching to 6 month treatment plans is September 23rd 2023 all previously made treatment plans follow old rules\n",
    "    relevantInfodf['Review Date'] = relevantInfodf.apply(lambda row: \n",
    "                                                         row['EncounterDate'] + relativedelta(days=+30) if 'Initial Eval' in str(row['EncounterType'] )\n",
    "                                                         else (row['EncounterDate'] + relativedelta(months=+6) if row['EncounterDate'] > datetime.strptime('09/23/23 00:00:00', '%m/%d/%y %H:%M:%S')\n",
    "                                                         else (row['EncounterDate'] + relativedelta(months=11) if row['EncounterType'] == 'Initial Treatment Plan' else  \n",
    "                                                         row['EncounterDate'] + relativedelta(months=+12))), axis=1)\n",
    "    relevantInfodf['Days to Review Date'] = relevantInfodf['Review Date'].map(lambda reviewDate:  reviewDate.date()) - date.today()\n",
    "    logger.info(f'Successfully calculated review date.')\n",
    "except Exception as e:\n",
    "    print(e)\n",
    "    logger.error(f'Failed to calculate review date.', exc_info=True) "
   ]
  },
  {
   "cell_type": "markdown",
   "id": "ca203fc6",
   "metadata": {
    "papermill": {
     "duration": null,
     "end_time": null,
     "exception": null,
     "start_time": null,
     "status": "pending"
    },
    "tags": []
   },
   "source": [
    "## Determine Treatment Plan Status"
   ]
  },
  {
   "cell_type": "code",
   "execution_count": null,
   "id": "563e5f03",
   "metadata": {
    "execution": {
     "iopub.execute_input": "2024-10-28T13:17:19.638018Z",
     "iopub.status.busy": "2024-10-28T13:17:19.638018Z",
     "iopub.status.idle": "2024-10-28T13:19:18.218782Z",
     "shell.execute_reply": "2024-10-28T13:19:18.218782Z"
    },
    "papermill": {
     "duration": null,
     "end_time": null,
     "exception": null,
     "start_time": null,
     "status": "pending"
    },
    "tags": []
   },
   "outputs": [],
   "source": [
    "missingInitialTreatmentPlan = f'Missing Initial Treatment Plan'\n",
    "\n",
    "try:\n",
    "    allPatientDf = pd.DataFrame()\n",
    "    for patientID in relevantInfodf['PatientID'].unique()[0:]:\n",
    "        singlePatient_df = filterAndSortToRelevantData(completeDataFrame=relevantInfodf, patientID=patientID)\n",
    "        if isEmptyDataFrame(singlePatient_df): # if patient has initial eval with no initial treatment plan\n",
    "            emptySinglePatient_df = relevantInfodf[(relevantInfodf['PatientID'] == patientID)].copy()\n",
    "\n",
    "            emptySinglePatient_df['missingInitialTreatmentPlan'] = find_missing_initial_treatment_plan(emptySinglePatient_df)\n",
    "            emptySinglePatient_df['treatmentPlanStatus'] = missingInitialTreatmentPlan\n",
    "\n",
    "            allPatientDf = pd.concat([allPatientDf,emptySinglePatient_df])\n",
    "            continue\n",
    "        else:\n",
    "            patientOverallStatus = ''\n",
    "            \n",
    "            # check if patient is missing \n",
    "            is_missingInitialTreatmentPlan = find_missing_initial_treatment_plan(singlePatient_df)\n",
    "            singlePatient_df['missingInitialTreatmentPlan'] = is_missingInitialTreatmentPlan   \n",
    "            patientOverallStatus += missingInitialTreatmentPlan\n",
    "            singlePatient_df['treatmentPlanStatus'] = missingInitialTreatmentPlan\n",
    "            if is_missingInitialTreatmentPlan:\n",
    "                patientOverallStatus = 'Missing Initial Treatment Plan'\n",
    "\n",
    "            is_ActiveInInSync = singlePatient_df.loc[0, 'is_ActiveInInSync']\n",
    "            is_lastEncounterDischarge = singlePatient_df.loc[0, 'is_lastEncounterDischarge']\n",
    "\n",
    "            is_NeedToBeInactivated = isNeedingToBeInactivated(is_ActiveInInSync, is_lastEncounterDischarge)\n",
    "            singlePatient_df['is_NeedToBeInactivated'] = is_NeedToBeInactivated\n",
    "\n",
    "            for currentEncounterIndexNum in range(singlePatient_df.shape[0]):\n",
    "                treatmentPlanStatus = patientOverallStatus\n",
    "                currentEncounterType = singlePatient_df.loc[currentEncounterIndexNum, 'Summarized Encounter Type']\n",
    "                daysToReviewDate = singlePatient_df.loc[currentEncounterIndexNum, 'Days to Review Date'].days\n",
    "\n",
    "                has_NextPlan = hasNextPlan(singlePatient_df, currentEncounterIndexNum)\n",
    "                singlePatient_df.loc[currentEncounterIndexNum, 'has_NextPlan'] = has_NextPlan\n",
    "\n",
    "                is_CurrentPlanSigned = isCurrentPlanSigned(singlePatient_df, currentEncounterIndexNum)\n",
    "                singlePatient_df.loc[currentEncounterIndexNum, 'is_CurrentPlanSigned'] = is_CurrentPlanSigned\n",
    "\n",
    "                if not is_CurrentPlanSigned:\n",
    "                    treatmentPlanStatus += 'Plan Still needs to be signed | '       \n",
    "\n",
    "                if is_NeedToBeInactivated:\n",
    "                    treatmentPlanStatus += 'Last encounter was discharge so Patient should probably be inactivated | '\n",
    "                if has_NextPlan:\n",
    "                    next_PlanLocation = getLocationOfNextPlan(singlePatient_df, currentEncounterIndexNum)\n",
    "                    singlePatient_df.loc[currentEncounterIndexNum, 'next_PlanLocation'] = next_PlanLocation\n",
    "\n",
    "                    is_TransferedNext = isTransferedNext(singlePatient_df, currentEncounterIndexNum, has_NextPlan, next_PlanLocation)\n",
    "                    singlePatient_df.loc[currentEncounterIndexNum, 'is_TransferedNext'] = is_TransferedNext\n",
    "\n",
    "                    is_DischargedNext = isDischargedNext(singlePatient_df, currentEncounterIndexNum, has_NextPlan, next_PlanLocation)\n",
    "                    singlePatient_df.loc[currentEncounterIndexNum, 'is_DischargedNext'] = is_DischargedNext\n",
    "                    if (is_TransferedNext and not is_DischargedNext) and is_CurrentPlanSigned and has_NextPlan:\n",
    "                        get_DaysAfterTransfer = getDaysAfterTransfer(singlePatient_df, currentEncounterIndexNum, has_NextPlan, next_PlanLocation)\n",
    "                        treatmentPlanStatus += f'Old Plan is Good | Patient was Transfered and they completed the follow up plan {get_DaysAfterTransfer} days after.'\n",
    "                    elif (is_DischargedNext and not is_TransferedNext) and is_CurrentPlanSigned and has_NextPlan:\n",
    "                        treatmentPlanStatus += f'Patient was Discharged'\n",
    "                    elif not is_TransferedNext and not is_DischargedNext and is_CurrentPlanSigned and has_NextPlan:\n",
    "                        treatmentPlanStatus += 'Everything Seems Good'\n",
    "\n",
    "                    is_NextPlanClosedLate = isNextPlanClosedLate(singlePatient_df, currentEncounterIndexNum, has_NextPlan, next_PlanLocation)\n",
    "                    singlePatient_df.loc[currentEncounterIndexNum, 'is_NextPlanClosedLate'] = is_NextPlanClosedLate\n",
    "\n",
    "                else: # if there is no next plan \n",
    "                    is_TransferedNext = isTransferedNext(singlePatient_df, currentEncounterIndexNum, has_NextPlan)\n",
    "                    singlePatient_df.loc[currentEncounterIndexNum, 'is_TransferedNext'] = is_TransferedNext\n",
    "\n",
    "                    is_DischargedNext = isDischargedNext(singlePatient_df, currentEncounterIndexNum, has_NextPlan)\n",
    "                    singlePatient_df.loc[currentEncounterIndexNum, 'is_DischargedNext'] = is_DischargedNext\n",
    "\n",
    "                    if not is_TransferedNext and not is_DischargedNext and daysToReviewDate > 0:\n",
    "                        treatmentPlanStatus += f'Everything Seems Good. Still have {daysToReviewDate} days left.'\n",
    "                    elif not is_TransferedNext and not is_DischargedNext and daysToReviewDate < 0:\n",
    "                        treatmentPlanStatus += f'Plan is {np.absolute(daysToReviewDate)} days overdue.'\n",
    "                    elif is_TransferedNext and not is_DischargedNext:\n",
    "                        daysAfterTransfer = getDaysAfterTransfer(singlePatient_df, currentEncounterIndexNum, has_NextPlan)\n",
    "                        if daysAfterTransfer > 30 and currentEncounterType == 'Transfer Note':\n",
    "                            treatmentPlanStatus += f'Patient Transfered. Plan is {daysAfterTransfer-30} days overdue.'\n",
    "                        elif daysAfterTransfer > 30:\n",
    "                            treatmentPlanStatus += f'Patient Transfered.'\n",
    "                        else:\n",
    "                            treatmentPlanStatus += f'Patient Transfered. Plan is due in {30 - daysAfterTransfer} days.'\n",
    "                    elif (is_DischargedNext and not is_TransferedNext):\n",
    "                        treatmentPlanStatus += f'Patient was Discharged'   \n",
    "                singlePatient_df.loc[currentEncounterIndexNum, 'treatmentPlanStatus'] = treatmentPlanStatus  \n",
    "            allPatientDf = pd.concat([allPatientDf,singlePatient_df])\n",
    "    logger.info(f'Successfully built all patients treatment plan details.')\n",
    "except Exception as e:\n",
    "    print(e)\n",
    "    logger.error(f'Failed to build all patients treatment plan details.', exc_info=True) "
   ]
  },
  {
   "cell_type": "code",
   "execution_count": null,
   "id": "0232539c",
   "metadata": {
    "execution": {
     "iopub.execute_input": "2024-10-28T13:19:18.250692Z",
     "iopub.status.busy": "2024-10-28T13:19:18.250692Z",
     "iopub.status.idle": "2024-10-28T13:19:18.268085Z",
     "shell.execute_reply": "2024-10-28T13:19:18.268085Z"
    },
    "papermill": {
     "duration": null,
     "end_time": null,
     "exception": null,
     "start_time": null,
     "status": "pending"
    },
    "tags": []
   },
   "outputs": [],
   "source": [
    "allPatientDf[['has_NextPlan', \n",
    "              'is_CurrentPlanSigned',\n",
    "              'next_PlanLocation',\n",
    "              'is_TransferedNext',\n",
    "              'is_DischargedNext',\n",
    "              'is_NextPlanClosedLate']] = allPatientDf[['has_NextPlan', \n",
    "                                                        'is_CurrentPlanSigned',\n",
    "                                                        'next_PlanLocation',\n",
    "                                                        'is_TransferedNext',\n",
    "                                                        'is_DischargedNext',\n",
    "                                                        'is_NextPlanClosedLate']].fillna(False)   "
   ]
  },
  {
   "cell_type": "code",
   "execution_count": null,
   "id": "5939f5c6",
   "metadata": {
    "execution": {
     "iopub.execute_input": "2024-10-28T13:19:18.284766Z",
     "iopub.status.busy": "2024-10-28T13:19:18.284766Z",
     "iopub.status.idle": "2024-10-28T13:19:18.289994Z",
     "shell.execute_reply": "2024-10-28T13:19:18.289994Z"
    },
    "papermill": {
     "duration": null,
     "end_time": null,
     "exception": null,
     "start_time": null,
     "status": "pending"
    },
    "tags": []
   },
   "outputs": [],
   "source": [
    "# for column in allPatientDf.columns:\n",
    "#     print(column)"
   ]
  },
  {
   "cell_type": "code",
   "execution_count": null,
   "id": "05f47df7",
   "metadata": {
    "execution": {
     "iopub.execute_input": "2024-10-28T13:19:18.306231Z",
     "iopub.status.busy": "2024-10-28T13:19:18.306231Z",
     "iopub.status.idle": "2024-10-28T13:19:18.330995Z",
     "shell.execute_reply": "2024-10-28T13:19:18.330995Z"
    },
    "papermill": {
     "duration": null,
     "end_time": null,
     "exception": null,
     "start_time": null,
     "status": "pending"
    },
    "tags": []
   },
   "outputs": [],
   "source": [
    "try:\n",
    "    allPatientDf['is_TreatmentPlanGood'] = allPatientDf['treatmentPlanStatus'].map(lambda status: True if 'Everything Seems Good' in str(status) else False)\n",
    "    allPatientDf['is_TreatmentPlanOverdue'] = allPatientDf['treatmentPlanStatus'].map(lambda status: True if 'overdue' in str(status).lower() else False)\n",
    "    logger.info(f'Successfully marked treatment plans that are all good.')\n",
    "except Exception as e:\n",
    "    print(e)\n",
    "    logger.error(f'Failed to mark treatment plans that are all good.', exc_info=True) "
   ]
  },
  {
   "cell_type": "code",
   "execution_count": null,
   "id": "fd3d3e69",
   "metadata": {
    "execution": {
     "iopub.execute_input": "2024-10-28T13:19:18.350136Z",
     "iopub.status.busy": "2024-10-28T13:19:18.349601Z",
     "iopub.status.idle": "2024-10-28T13:19:18.365552Z",
     "shell.execute_reply": "2024-10-28T13:19:18.365016Z"
    },
    "papermill": {
     "duration": null,
     "end_time": null,
     "exception": null,
     "start_time": null,
     "status": "pending"
    },
    "tags": []
   },
   "outputs": [],
   "source": [
    "allPatientDf['treatmentPlanStatus'] = allPatientDf['treatmentPlanStatus'] + '| ' + allPatientDf['seen_Recently']"
   ]
  },
  {
   "cell_type": "code",
   "execution_count": null,
   "id": "056ab9cd",
   "metadata": {
    "execution": {
     "iopub.execute_input": "2024-10-28T13:19:18.369364Z",
     "iopub.status.busy": "2024-10-28T13:19:18.369364Z",
     "iopub.status.idle": "2024-10-28T13:19:18.388358Z",
     "shell.execute_reply": "2024-10-28T13:19:18.387347Z"
    },
    "papermill": {
     "duration": null,
     "end_time": null,
     "exception": null,
     "start_time": null,
     "status": "pending"
    },
    "tags": []
   },
   "outputs": [],
   "source": [
    "# final_df[final_df['PatientID']==622214]\n",
    "# final_df[final_df['PatientID']==622741]"
   ]
  },
  {
   "cell_type": "code",
   "execution_count": null,
   "id": "4ff28b04",
   "metadata": {
    "execution": {
     "iopub.execute_input": "2024-10-28T13:19:18.406959Z",
     "iopub.status.busy": "2024-10-28T13:19:18.406959Z",
     "iopub.status.idle": "2024-10-28T13:19:18.417726Z",
     "shell.execute_reply": "2024-10-28T13:19:18.417726Z"
    },
    "papermill": {
     "duration": null,
     "end_time": null,
     "exception": null,
     "start_time": null,
     "status": "pending"
    },
    "tags": []
   },
   "outputs": [],
   "source": [
    "allPatientDf['seen_Recently'].unique()"
   ]
  },
  {
   "cell_type": "code",
   "execution_count": null,
   "id": "b291620e",
   "metadata": {
    "execution": {
     "iopub.execute_input": "2024-10-28T13:19:18.435415Z",
     "iopub.status.busy": "2024-10-28T13:19:18.435415Z",
     "iopub.status.idle": "2024-10-28T13:19:18.441635Z",
     "shell.execute_reply": "2024-10-28T13:19:18.441635Z"
    },
    "papermill": {
     "duration": null,
     "end_time": null,
     "exception": null,
     "start_time": null,
     "status": "pending"
    },
    "scrolled": true,
    "tags": []
   },
   "outputs": [],
   "source": [
    "# final_df[final_df['allTheInfoYouEverWanted'].map(lambda x: True if 'Closed After Due Date' in x else False) ].groupby('ProviderName')['EncounterId'].count().sort_values(ascending=False).head(20)"
   ]
  },
  {
   "cell_type": "code",
   "execution_count": null,
   "id": "1c2958f1",
   "metadata": {
    "execution": {
     "iopub.execute_input": "2024-10-28T13:19:18.458024Z",
     "iopub.status.busy": "2024-10-28T13:19:18.458024Z",
     "iopub.status.idle": "2024-10-28T13:19:18.469532Z",
     "shell.execute_reply": "2024-10-28T13:19:18.469532Z"
    },
    "papermill": {
     "duration": null,
     "end_time": null,
     "exception": null,
     "start_time": null,
     "status": "pending"
    },
    "tags": []
   },
   "outputs": [],
   "source": [
    "# final_df[final_df['allTheInfoYouEverWanted']=='']"
   ]
  },
  {
   "cell_type": "code",
   "execution_count": null,
   "id": "f6881a40",
   "metadata": {
    "execution": {
     "iopub.execute_input": "2024-10-28T13:19:18.485864Z",
     "iopub.status.busy": "2024-10-28T13:19:18.485864Z",
     "iopub.status.idle": "2024-10-28T13:19:18.501442Z",
     "shell.execute_reply": "2024-10-28T13:19:18.501442Z"
    },
    "papermill": {
     "duration": null,
     "end_time": null,
     "exception": null,
     "start_time": null,
     "status": "pending"
    },
    "tags": []
   },
   "outputs": [],
   "source": [
    "# Change to integer so SQL can recognize it\n",
    "# allPatientDf['Days to Review Date'] = pd.to_datetime(allPatientDf['Days to Review Date'])\n",
    "allPatientDf['Days to Review Date'] = allPatientDf['Days to Review Date'].map(lambda timedelta: timedelta.days)"
   ]
  },
  {
   "cell_type": "code",
   "execution_count": null,
   "id": "a366f60f",
   "metadata": {
    "execution": {
     "iopub.execute_input": "2024-10-28T13:19:18.517855Z",
     "iopub.status.busy": "2024-10-28T13:19:18.517855Z",
     "iopub.status.idle": "2024-10-28T13:19:18.549256Z",
     "shell.execute_reply": "2024-10-28T13:19:18.549256Z"
    },
    "papermill": {
     "duration": null,
     "end_time": null,
     "exception": null,
     "start_time": null,
     "status": "pending"
    },
    "tags": []
   },
   "outputs": [],
   "source": [
    "allPatientDf = allPatientDf.merge(missingAdmissionNote[['PatientID', 'HasAdmissionNote']], how='left', on='PatientID')\n"
   ]
  },
  {
   "cell_type": "code",
   "execution_count": null,
   "id": "5475f33a",
   "metadata": {
    "execution": {
     "iopub.execute_input": "2024-10-28T13:19:18.564913Z",
     "iopub.status.busy": "2024-10-28T13:19:18.564913Z",
     "iopub.status.idle": "2024-10-28T13:19:18.583743Z",
     "shell.execute_reply": "2024-10-28T13:19:18.583743Z"
    },
    "papermill": {
     "duration": null,
     "end_time": null,
     "exception": null,
     "start_time": null,
     "status": "pending"
    },
    "tags": []
   },
   "outputs": [],
   "source": [
    "allPatientDf['HasAdmissionNote'] = allPatientDf['HasAdmissionNote'].fillna(False)"
   ]
  },
  {
   "cell_type": "code",
   "execution_count": null,
   "id": "2c26970b-8759-49ba-9ac8-84252c77accc",
   "metadata": {
    "execution": {
     "iopub.execute_input": "2024-10-28T13:19:18.605053Z",
     "iopub.status.busy": "2024-10-28T13:19:18.604543Z",
     "iopub.status.idle": "2024-10-28T13:19:18.611238Z",
     "shell.execute_reply": "2024-10-28T13:19:18.610683Z"
    },
    "papermill": {
     "duration": null,
     "end_time": null,
     "exception": null,
     "start_time": null,
     "status": "pending"
    },
    "tags": []
   },
   "outputs": [],
   "source": [
    "allPatientDf.columns"
   ]
  },
  {
   "cell_type": "code",
   "execution_count": null,
   "id": "8956239a",
   "metadata": {
    "execution": {
     "iopub.execute_input": "2024-10-28T13:19:18.625923Z",
     "iopub.status.busy": "2024-10-28T13:19:18.625923Z",
     "iopub.status.idle": "2024-10-28T13:19:18.647137Z",
     "shell.execute_reply": "2024-10-28T13:19:18.647137Z"
    },
    "papermill": {
     "duration": null,
     "end_time": null,
     "exception": null,
     "start_time": null,
     "status": "pending"
    },
    "tags": []
   },
   "outputs": [],
   "source": [
    "# filter to useful columns\n",
    "allPatientDf = allPatientDf[['EncounterID',\n",
    "                            'MRNNumber',\n",
    "                            'DOB',\n",
    "                            'PatientID',\n",
    "                            'ProviderName',\n",
    "                            'Primary_Provider',\n",
    "                            'patient_fullName',\n",
    "                            'FacilityName',\n",
    "                            'Summarized Encounter Type',\n",
    "                            'EncounterDate',\n",
    "                            'EncounterEndDateTimeToolTip',\n",
    "                            'EncounterStartDateTimeToolTip',\n",
    "                            'EncounterType',\n",
    "                            'EncounterOpenClosed',\n",
    "                            'ProgramName',\n",
    "                            'closedByFullName',\n",
    "                            'finalEncounterType',\n",
    "                            'finalEncounterDate',\n",
    "                            'is_ActiveInInSync',\n",
    "                            'is_lastEncounterDischarge',\n",
    "                            'lastBillable_EncounterType',\n",
    "                            'lastBillable_EncounterDate',\n",
    "                            'lastBillable_ProgramName',\n",
    "                            'lastBillable_FacilityName',\n",
    "                            'seen_Recently',\n",
    "                            'Review Date',\n",
    "                            'Days to Review Date',\n",
    "                            'is_NeedToBeInactivated',\n",
    "                            'has_NextPlan',\n",
    "                            'is_CurrentPlanSigned',\n",
    "                            'next_PlanLocation',\n",
    "                            'is_TransferedNext',\n",
    "                            'is_DischargedNext',\n",
    "                            'is_NextPlanClosedLate',\n",
    "                            'treatmentPlanStatus',\n",
    "                            'missingInitialTreatmentPlan',\n",
    "                            'HasAdmissionNote',\n",
    "                            'is_TreatmentPlanGood',\n",
    "                            'is_TreatmentPlanOverdue',\n",
    "                            'Admitted']]"
   ]
  },
  {
   "cell_type": "code",
   "execution_count": null,
   "id": "9be21bdf",
   "metadata": {
    "execution": {
     "iopub.execute_input": "2024-10-28T13:19:18.662837Z",
     "iopub.status.busy": "2024-10-28T13:19:18.662837Z",
     "iopub.status.idle": "2024-10-28T13:19:18.679880Z",
     "shell.execute_reply": "2024-10-28T13:19:18.679880Z"
    },
    "papermill": {
     "duration": null,
     "end_time": null,
     "exception": null,
     "start_time": null,
     "status": "pending"
    },
    "tags": []
   },
   "outputs": [],
   "source": [
    "allPatientDf = allPatientDf.drop_duplicates('EncounterID', keep='first')"
   ]
  },
  {
   "cell_type": "markdown",
   "id": "4fa29770",
   "metadata": {
    "papermill": {
     "duration": null,
     "end_time": null,
     "exception": null,
     "start_time": null,
     "status": "pending"
    },
    "tags": []
   },
   "source": [
    "## For Presenting\n",
    "- Replace all names with random ones for presenting"
   ]
  },
  {
   "cell_type": "code",
   "execution_count": null,
   "id": "2044b078",
   "metadata": {
    "execution": {
     "iopub.execute_input": "2024-10-28T13:19:18.717383Z",
     "iopub.status.busy": "2024-10-28T13:19:18.717383Z",
     "iopub.status.idle": "2024-10-28T13:19:18.728934Z",
     "shell.execute_reply": "2024-10-28T13:19:18.728934Z"
    },
    "papermill": {
     "duration": null,
     "end_time": null,
     "exception": null,
     "start_time": null,
     "status": "pending"
    },
    "tags": []
   },
   "outputs": [],
   "source": [
    "# randomNames = pd.read_excel('../data/Random Names.xlsx')\n",
    "\n",
    "# final_df['patient_fullName'] = final_df['patient_fullName'].map(lambda name: list(randomNames['Names'].sample(1))[0])\n",
    "# final_df['ProviderName'] = final_df['ProviderName'].map(lambda name: list(final_df['ProviderName'].sample(1))[0])"
   ]
  },
  {
   "cell_type": "code",
   "execution_count": null,
   "id": "e701778c",
   "metadata": {
    "execution": {
     "iopub.execute_input": "2024-10-28T13:19:18.744638Z",
     "iopub.status.busy": "2024-10-28T13:19:18.744638Z",
     "iopub.status.idle": "2024-10-28T13:19:18.760008Z",
     "shell.execute_reply": "2024-10-28T13:19:18.760008Z"
    },
    "papermill": {
     "duration": null,
     "end_time": null,
     "exception": null,
     "start_time": null,
     "status": "pending"
    },
    "tags": []
   },
   "outputs": [],
   "source": [
    "rename_mapping = {\n",
    "    'Summarized Encounter Type': 'Summarized_Encounter_Type',\n",
    "    'Review Date': 'Review_Date',\n",
    "    'Days to Review Date': 'Days_to_Review_Date',\n",
    "}\n",
    "# Rename columns using the mapping dictionary\n",
    "allPatientDf = allPatientDf.rename(columns=rename_mapping)"
   ]
  },
  {
   "cell_type": "code",
   "execution_count": null,
   "id": "2db0d3a6",
   "metadata": {
    "execution": {
     "iopub.execute_input": "2024-10-28T13:19:18.776243Z",
     "iopub.status.busy": "2024-10-28T13:19:18.776243Z",
     "iopub.status.idle": "2024-10-28T13:19:22.718338Z",
     "shell.execute_reply": "2024-10-28T13:19:22.718338Z"
    },
    "papermill": {
     "duration": null,
     "end_time": null,
     "exception": null,
     "start_time": null,
     "status": "pending"
    },
    "tags": []
   },
   "outputs": [],
   "source": [
    "table_name= 'ptTreatmentPlanDuenessSummary'\n",
    "try:\n",
    "    allPatientDf.to_sql('ptTreatmentPlanDuenessSummary', conn, if_exists='replace', index = False)\n",
    "    logger.info(f'Successfully pushed ptTreatmentPlanDuenessSummary to database.')\n",
    "except Exception as e:\n",
    "    logger.error(f'Failed to push ptTreatmentPlanDuenessSummary to database.', exc_info=True) \n",
    "    print(e)"
   ]
  },
  {
   "cell_type": "code",
   "execution_count": null,
   "id": "7b94636b",
   "metadata": {
    "execution": {
     "iopub.execute_input": "2024-10-28T13:19:22.733977Z",
     "iopub.status.busy": "2024-10-28T13:19:22.733977Z",
     "iopub.status.idle": "2024-10-28T13:19:22.747747Z",
     "shell.execute_reply": "2024-10-28T13:19:22.747747Z"
    },
    "papermill": {
     "duration": null,
     "end_time": null,
     "exception": null,
     "start_time": null,
     "status": "pending"
    },
    "tags": []
   },
   "outputs": [],
   "source": [
    "conn.dispose()"
   ]
  }
 ],
 "metadata": {
  "kernelspec": {
   "display_name": "Python 3",
   "language": "python",
   "name": "python3"
  },
  "language_info": {
   "codemirror_mode": {
    "name": "ipython",
    "version": 3
   },
   "file_extension": ".py",
   "mimetype": "text/x-python",
   "name": "python",
   "nbconvert_exporter": "python",
   "pygments_lexer": "ipython3",
   "version": "3.12.4"
  },
  "papermill": {
   "default_parameters": {},
   "duration": null,
   "end_time": null,
   "environment_variables": {},
   "exception": null,
   "input_path": "TreatmentPlanReport SQL Express.ipynb",
   "output_path": "snapshots/TreatmentPlanReport SQL Express temp.ipynb",
   "parameters": {},
   "start_time": "2024-10-28T20:01:06.900274",
   "version": "2.3.3"
  },
  "toc": {
   "base_numbering": 1,
   "nav_menu": {},
   "number_sections": true,
   "sideBar": true,
   "skip_h1_title": false,
   "title_cell": "Table of Contents",
   "title_sidebar": "Contents",
   "toc_cell": false,
   "toc_position": {
    "height": "calc(100% - 180px)",
    "left": "10px",
    "top": "150px",
    "width": "409.6px"
   },
   "toc_section_display": true,
   "toc_window_display": true
  },
  "varInspector": {
   "cols": {
    "lenName": 16,
    "lenType": 16,
    "lenVar": 40
   },
   "kernels_config": {
    "python": {
     "delete_cmd_postfix": "",
     "delete_cmd_prefix": "del ",
     "library": "var_list.py",
     "varRefreshCmd": "print(var_dic_list())"
    },
    "r": {
     "delete_cmd_postfix": ") ",
     "delete_cmd_prefix": "rm(",
     "library": "var_list.r",
     "varRefreshCmd": "cat(var_dic_list()) "
    }
   },
   "types_to_exclude": [
    "module",
    "function",
    "builtin_function_or_method",
    "instance",
    "_Feature"
   ],
   "window_display": false
  }
 },
 "nbformat": 4,
 "nbformat_minor": 5
}