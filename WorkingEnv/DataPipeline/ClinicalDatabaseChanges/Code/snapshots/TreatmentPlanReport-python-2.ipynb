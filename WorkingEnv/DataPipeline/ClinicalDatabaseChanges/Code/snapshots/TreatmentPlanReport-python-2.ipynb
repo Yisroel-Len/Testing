{
 "cells": [
  {
   "cell_type": "markdown",
   "id": "6ae0a65b",
   "metadata": {
    "tags": [
     "papermill-error-cell-tag"
    ]
   },
   "source": [
    "<span style=\"color:red; font-family:Helvetica Neue, Helvetica, Arial, sans-serif; font-size:2em;\">An Exception was encountered at '<a href=\"#papermill-error-cell\">In [12]</a>'.</span>"
   ]
  },
  {
   "cell_type": "code",
   "execution_count": 1,
   "id": "d8f8dff2",
   "metadata": {
    "ExecuteTime": {
     "end_time": "2023-06-19T17:12:04.693955Z",
     "start_time": "2023-06-19T17:12:03.745305Z"
    },
    "execution": {
     "iopub.execute_input": "2024-02-08T13:27:26.441504Z",
     "iopub.status.busy": "2024-02-08T13:27:26.441504Z",
     "iopub.status.idle": "2024-02-08T13:27:26.970961Z",
     "shell.execute_reply": "2024-02-08T13:27:26.970961Z"
    },
    "papermill": {
     "duration": 0.529457,
     "end_time": "2024-02-08T13:27:26.970961",
     "exception": false,
     "start_time": "2024-02-08T13:27:26.441504",
     "status": "completed"
    },
    "tags": []
   },
   "outputs": [],
   "source": [
    "import pandas as pd\n",
    "import numpy as np\n",
    "import pyodbc\n",
    "import time\n",
    "from datetime import datetime\n",
    "from dateutil.relativedelta import relativedelta\n",
    "from datetime import date\n",
    "import tkinter as tk\n",
    "from tkinter.filedialog import askopenfilename\n",
    "import sqlite3"
   ]
  },
  {
   "cell_type": "code",
   "execution_count": 2,
   "id": "8523fff1",
   "metadata": {
    "execution": {
     "iopub.execute_input": "2024-02-08T13:27:26.986679Z",
     "iopub.status.busy": "2024-02-08T13:27:26.986679Z",
     "iopub.status.idle": "2024-02-08T13:27:26.995376Z",
     "shell.execute_reply": "2024-02-08T13:27:26.995376Z"
    },
    "papermill": {
     "duration": 0.024415,
     "end_time": "2024-02-08T13:27:26.995376",
     "exception": false,
     "start_time": "2024-02-08T13:27:26.970961",
     "status": "completed"
    },
    "tags": []
   },
   "outputs": [],
   "source": [
    "conn = sqlite3.connect('../../InSyncConnection/Database/InSyncClinical.db')"
   ]
  },
  {
   "cell_type": "code",
   "execution_count": 3,
   "id": "e8e2fd4f",
   "metadata": {
    "execution": {
     "iopub.execute_input": "2024-02-08T13:27:27.011045Z",
     "iopub.status.busy": "2024-02-08T13:27:27.011045Z",
     "iopub.status.idle": "2024-02-08T13:27:27.017842Z",
     "shell.execute_reply": "2024-02-08T13:27:27.017842Z"
    },
    "papermill": {
     "duration": 0.022466,
     "end_time": "2024-02-08T13:27:27.017842",
     "exception": false,
     "start_time": "2024-02-08T13:27:26.995376",
     "status": "completed"
    },
    "tags": []
   },
   "outputs": [],
   "source": [
    "import sys\n",
    "import logging\n",
    "path = \"..\\..\\InSyncConnection\\Code\\clinical_log.txt\"\n",
    "logging.basicConfig(filename=path,\n",
    "                    filemode='a',\n",
    "                    format='%(asctime)s,%(msecs)d,%(name)s,%(levelname)s,%(message)s',\n",
    "                    datefmt='%Y-%m-%d %H:%M:%S',\n",
    "                    level=logging.DEBUG)\n",
    "logger = logging.getLogger(\"TreatmentPlanReport\")"
   ]
  },
  {
   "cell_type": "markdown",
   "id": "0776aa02",
   "metadata": {
    "papermill": {
     "duration": 0.0,
     "end_time": "2024-02-08T13:27:27.033565",
     "exception": false,
     "start_time": "2024-02-08T13:27:27.033565",
     "status": "completed"
    },
    "tags": []
   },
   "source": [
    "## Notes\n",
    "- Make sure that due dates are not calculated by time\n",
    "- Do we want to see which plans were signed/closed late???\n",
    "- If there are two initial treatment plans go by the second one.\n",
    "<br>\n",
    "\n",
    "## To-Do\n",
    "- We've officially switched to 6 month treatment plans. Incorporate that into the code"
   ]
  },
  {
   "cell_type": "code",
   "execution_count": 4,
   "id": "724d1dff",
   "metadata": {
    "execution": {
     "iopub.execute_input": "2024-02-08T13:27:27.049191Z",
     "iopub.status.busy": "2024-02-08T13:27:27.049191Z",
     "iopub.status.idle": "2024-02-08T13:27:27.156721Z",
     "shell.execute_reply": "2024-02-08T13:27:27.156721Z"
    },
    "papermill": {
     "duration": 0.123156,
     "end_time": "2024-02-08T13:27:27.156721",
     "exception": false,
     "start_time": "2024-02-08T13:27:27.033565",
     "status": "completed"
    },
    "tags": []
   },
   "outputs": [],
   "source": [
    "try:\n",
    "    sql='''\n",
    "    SELECT \n",
    "        ptPatient_Activity.*,\n",
    "        MRNNumber,\n",
    "        LastName || ', ' || FirstName as patient_fullName,\n",
    "        DOB,\n",
    "        FacilityName AS 'Primary Facility'\n",
    "    FROM \n",
    "        ptPatient_Activity\n",
    "        LEFT JOIN emr_PatientDetails ON (ptPatient_Activity.PatientID=emr_PatientDetails.PatientID)\n",
    "        LEFT JOIN emr_FacilitiesDetails ON (emr_PatientDetails._PrimaryFacility = emr_FacilitiesDetails.FacilityId)\n",
    "    '''\n",
    "    patientDetails = pd.read_sql(sql, conn)\n",
    "    patientDetails = patientDetails.replace(\"\", np.nan)\n",
    "    patientDetails['DOB'] =pd.to_datetime(patientDetails['DOB'])\n",
    "    logger.info(f\"Successfully queried ptPatient_Activity.\")\n",
    "except Exception as e:\n",
    "    print(e)\n",
    "    logger.error(f\"Failed to query ptPatient_Activity.\", exc_info=True) "
   ]
  },
  {
   "cell_type": "markdown",
   "id": "79e9a74b",
   "metadata": {
    "papermill": {
     "duration": 0.031258,
     "end_time": "2024-02-08T13:27:27.203701",
     "exception": false,
     "start_time": "2024-02-08T13:27:27.172443",
     "status": "completed"
    },
    "tags": []
   },
   "source": [
    "## Get Treatment Plan Info"
   ]
  },
  {
   "cell_type": "code",
   "execution_count": 5,
   "id": "eb9789c8",
   "metadata": {
    "execution": {
     "iopub.execute_input": "2024-02-08T13:27:27.219337Z",
     "iopub.status.busy": "2024-02-08T13:27:27.219337Z",
     "iopub.status.idle": "2024-02-08T13:27:30.571887Z",
     "shell.execute_reply": "2024-02-08T13:27:30.571887Z"
    },
    "papermill": {
     "duration": 3.35255,
     "end_time": "2024-02-08T13:27:30.571887",
     "exception": false,
     "start_time": "2024-02-08T13:27:27.219337",
     "status": "completed"
    },
    "tags": []
   },
   "outputs": [
    {
     "name": "stdout",
     "output_type": "stream",
     "text": [
      "time data \"3/23/2021\" doesn't match format \"%m/%d/%Y %I:%M:%S %p\", at position 4607. You might want to try:\n",
      "    - passing `format` if your strings have a consistent format;\n",
      "    - passing `format='ISO8601'` if your strings are all ISO8601 but not necessarily in exactly the same format;\n",
      "    - passing `format='mixed'`, and the format will be inferred for each element individually. You might want to use `dayfirst` alongside this.\n"
     ]
    }
   ],
   "source": [
    "try:\n",
    "    sql='''\n",
    "    SELECT \n",
    "        tblEncounterSummary.PatientId as PatientID,\n",
    "        tblEncounterSummary.EncounterID, \n",
    "        tblResourceDetails.FullName as ProviderName,\n",
    "        tblEncounter.EndDate,\n",
    "        VisitDateTime as EncounterDate,\n",
    "        EncounterEndDateTimeToolTip,\n",
    "        EncounterStartDateTimeToolTip,\n",
    "        FacilityName,\n",
    "        tblEncounterType.EncounterType,\n",
    "        EncounterOpenClosed,\n",
    "        ProgramName,\n",
    "        closedByLastName || ', ' || closedByFirstName AS closedByFullName\n",
    "    FROM \n",
    "        tblEncounterSummary\n",
    "        LEFT JOIN emr_FacilitiesDetails ON (tblEncounterSummary.FacilityId = emr_FacilitiesDetails.FacilityId)\n",
    "        LEFT JOIN tblEncounterEndDetails ON (tblEncounterSummary.EncounterID = tblEncounterEndDetails.EncounterID)\n",
    "        INNER JOIN tblEncounter ON (tblEncounterSummary.EncounterID = tblEncounter.EncounterID)\n",
    "        LEFT JOIN tblEncounterType ON (tblEncounterSummary.EncounterTypeID = tblEncounterType.EncounterTypeID)\n",
    "        LEFT JOIN tblResourceDetails ON (tblEncounterSummary.ProviderId = tblResourceDetails.ResourceId)\n",
    "    WHERE (tblEncounterType.EncounterType LIKE \"%treatment%\"\n",
    "        OR tblEncounterType.EncounterType LIKE \"%transfer%\"\n",
    "        OR tblEncounterType.EncounterType LIKE \"%Initial Eval%\"\n",
    "        OR tblEncounterType.EncounterType LIKE \"%discharge%\")\n",
    "        AND tblEncounterType.EncounterType NOT LIKE \"%CFTSS%\"\n",
    "    '''\n",
    "    treatmentPlanEncounters = pd.read_sql(sql, conn)\n",
    "    treatmentPlanEncounters = treatmentPlanEncounters.replace(\"\", np.nan)\n",
    "    treatmentPlanEncounters['EncounterDate'] = pd.to_datetime(treatmentPlanEncounters['EncounterDate'])\n",
    "    treatmentPlanEncounters['EndDate'] = pd.to_datetime(treatmentPlanEncounters['EndDate'])\n",
    "    # Remove the word time: from column\n",
    "    treatmentPlanEncounters['EncounterStartDateTimeToolTip'] = treatmentPlanEncounters['EncounterStartDateTimeToolTip'].str.replace(\"Time: \", \"\")\n",
    "    treatmentPlanEncounters['EncounterEndDateTimeToolTip'] = treatmentPlanEncounters['EncounterEndDateTimeToolTip'].str.replace(\"Time: \", \"\")\n",
    "\n",
    "    treatmentPlanEncounters['EncounterStartDateTimeToolTip'] = pd.to_datetime(treatmentPlanEncounters['EncounterStartDateTimeToolTip'])\n",
    "    treatmentPlanEncounters['EncounterEndDateTimeToolTip'] = pd.to_datetime(treatmentPlanEncounters['EncounterEndDateTimeToolTip'])\n",
    "\n",
    "    logger.info(f\"Successfully queried treatment plan related info from tblEncounterSummary.\")\n",
    "except Exception as e:\n",
    "    print(e)\n",
    "    logger.error(f\"Failed to query treatment plan related info from tblEncounterSummary.\", exc_info=True) "
   ]
  },
  {
   "cell_type": "markdown",
   "id": "f88d4797",
   "metadata": {
    "papermill": {
     "duration": 0.015827,
     "end_time": "2024-02-08T13:27:30.587714",
     "exception": false,
     "start_time": "2024-02-08T13:27:30.571887",
     "status": "completed"
    },
    "tags": []
   },
   "source": [
    "## Check Patients for Admission"
   ]
  },
  {
   "cell_type": "code",
   "execution_count": 6,
   "id": "35bf4f1a",
   "metadata": {
    "execution": {
     "iopub.execute_input": "2024-02-08T13:27:30.603247Z",
     "iopub.status.busy": "2024-02-08T13:27:30.603247Z",
     "iopub.status.idle": "2024-02-08T13:27:30.963297Z",
     "shell.execute_reply": "2024-02-08T13:27:30.963297Z"
    },
    "papermill": {
     "duration": 0.375583,
     "end_time": "2024-02-08T13:27:30.963297",
     "exception": false,
     "start_time": "2024-02-08T13:27:30.587714",
     "status": "completed"
    },
    "tags": []
   },
   "outputs": [],
   "source": [
    "try:\n",
    "    sql = f'''\n",
    "    SELECT\n",
    "    PatientId as PatientID\n",
    "    FROM \n",
    "        tblEncounterSummary\n",
    "    LEFT JOIN\n",
    "        tblEncounterType ON tblEncounterType.EncounterTypeID = tblEncounterSummary.EncounterTypeID\n",
    "    WHERE \n",
    "           tblEncounterType.EncounterType LIKE \"%Psychotherapy%\" \n",
    "           OR \n",
    "           (tblEncounterType.EncounterType LIKE \"%Initial Eval%\" \n",
    "           AND tblEncounterType.EncounterType LIKE \"%2%\" )\n",
    "    '''\n",
    "    acceptedPatients = pd.read_sql(sql,conn)\n",
    "    acceptedPatients.drop_duplicates('PatientID', inplace=True)\n",
    "    acceptedPatients['Admitted']=\"True\"\n",
    "    treatmentPlanEncounters= treatmentPlanEncounters.merge(acceptedPatients, on='PatientID', how='left')\n",
    "    treatmentPlanEncounters['Admitted'].fillna(\"False\", inplace=True)\n",
    "    logger.info(f\"Successfully queried admitted patients. Patient must have either an encounter type of psychotherapy or an initial eval 2.\")\n",
    "except Exception as e:\n",
    "    print(e)\n",
    "    logger.error(f\"Failed to query admitted patients. Patient must have either an encounter type of psychotherapy or an initial eval 2.\", exc_info=True) "
   ]
  },
  {
   "cell_type": "markdown",
   "id": "9f07af01",
   "metadata": {
    "papermill": {
     "duration": 0.015668,
     "end_time": "2024-02-08T13:27:30.994627",
     "exception": false,
     "start_time": "2024-02-08T13:27:30.978959",
     "status": "completed"
    },
    "tags": []
   },
   "source": [
    "## Check for Primary Providers"
   ]
  },
  {
   "cell_type": "code",
   "execution_count": 7,
   "id": "55168ca6",
   "metadata": {
    "execution": {
     "iopub.execute_input": "2024-02-08T13:27:31.010205Z",
     "iopub.status.busy": "2024-02-08T13:27:31.010205Z",
     "iopub.status.idle": "2024-02-08T13:27:31.072353Z",
     "shell.execute_reply": "2024-02-08T13:27:31.072353Z"
    },
    "papermill": {
     "duration": 0.062148,
     "end_time": "2024-02-08T13:27:31.072353",
     "exception": false,
     "start_time": "2024-02-08T13:27:31.010205",
     "status": "completed"
    },
    "tags": []
   },
   "outputs": [],
   "source": [
    "try:\n",
    "    sql = f'''\n",
    "    SELECT\n",
    "    PatientId as PatientID,\n",
    "    tblResourceDetails.FullName as Primary_Provider\n",
    "    FROM \n",
    "        tblPatientPrimaryProviders\n",
    "    LEFT JOIN\n",
    "        tblResourceDetails ON (tblPatientPrimaryProviders.PatientPrimaryProviderId = tblResourceDetails.ResourceId)\n",
    "    WHERE \n",
    "        IsDefault = \"TRUE\"\n",
    "    '''\n",
    "    primaryProvider = pd.read_sql(sql,conn)\n",
    "    primaryProvider.drop_duplicates('PatientID', inplace=True)\n",
    "    treatmentPlanEncounters= treatmentPlanEncounters.merge(primaryProvider, on='PatientID', how='left')\n",
    "    treatmentPlanEncounters['Primary_Provider'].fillna(\"Unknown\", inplace=True)\n",
    "    logger.info(f\"Successfully queried primary providers.\")\n",
    "except Exception as e:\n",
    "    print(e)\n",
    "    logger.error(f\"Failed to query primary providers.\", exc_info=True) "
   ]
  },
  {
   "cell_type": "markdown",
   "id": "f2b0c4f5",
   "metadata": {
    "papermill": {
     "duration": 0.015631,
     "end_time": "2024-02-08T13:27:31.103704",
     "exception": false,
     "start_time": "2024-02-08T13:27:31.088073",
     "status": "completed"
    },
    "tags": []
   },
   "source": [
    "## Treatment Plan Functions"
   ]
  },
  {
   "cell_type": "code",
   "execution_count": 8,
   "id": "23fceb68",
   "metadata": {
    "execution": {
     "iopub.execute_input": "2024-02-08T13:27:31.119331Z",
     "iopub.status.busy": "2024-02-08T13:27:31.119331Z",
     "iopub.status.idle": "2024-02-08T13:27:31.148429Z",
     "shell.execute_reply": "2024-02-08T13:27:31.148429Z"
    },
    "papermill": {
     "duration": 0.029098,
     "end_time": "2024-02-08T13:27:31.148429",
     "exception": false,
     "start_time": "2024-02-08T13:27:31.119331",
     "status": "completed"
    },
    "tags": []
   },
   "outputs": [],
   "source": [
    "def find_missing_initial_treatment_plan(temp_df):\n",
    "    # if patient does not have initial treatment plan \n",
    "    # and first treatment plan review date is more than a year past our InSync onboarding \n",
    "    # and patient was admitted, \n",
    "    # return true otherwise return false\n",
    "    if \"Initial Treatment Plan\" not in temp_df['EncounterType'].unique() and str(temp_df[temp_df['Summarized Encounter Type'] == 'Treatment Plan']['EncounterDate'].first_valid_index()) != 'None' and str(temp_df[temp_df['Admitted'] == 'True']['Admitted'].first_valid_index()) != 'None':\n",
    "        if temp_df.loc[temp_df[temp_df['Summarized Encounter Type'] == 'Treatment Plan']['EncounterDate'].first_valid_index(), 'EncounterDate'] > pd.Timestamp('7/20/2022'):\n",
    "            return True\n",
    "        else:\n",
    "            return False\n",
    "    else:\n",
    "        return False\n",
    "    \n",
    "def getDischargeInfo(is_ActiveInInSync, is_lastEncounterDischarge):\n",
    "    if is_ActiveInInSync and is_lastEncounterDischarge:\n",
    "        return \"\"\"Last encounter was discharge so Patient should probably be inactivated | \"\"\"    \n",
    "\n",
    "def filterAndSortToRelevantData(completeDataFrame, patientID):\n",
    "    singlePatient_df = completeDataFrame[completeDataFrame['PatientID'] == patientID].copy()\n",
    "    singlePatient_df = singlePatient_df[singlePatient_df['Summarized Encounter Type'].map(lambda encType: True if encType == 'Treatment Plan' or encType == 'Transfer Note' or encType == 'Discharge Note' else False)].copy()\n",
    "    singlePatient_df = singlePatient_df.sort_values(by=\"Review Date\", ascending=True)\n",
    "    singlePatient_df = singlePatient_df.reset_index(drop=True)\n",
    "    return singlePatient_df\n",
    "\n",
    "\n",
    "def isEmptyDataFrame(singlePatient_df):     \n",
    "    if singlePatient_df.shape[0] == 0:\n",
    "        return True\n",
    "    else:\n",
    "        return False\n",
    "    \n",
    "def isNeedingToBeInactivated(is_ActiveInInSync, is_lastEncounterDischarge):\n",
    "    if is_ActiveInInSync and is_lastEncounterDischarge:\n",
    "        return True  \n",
    "    else:\n",
    "        return False\n",
    "\n",
    "def isTransferNote(singlePatient_df, currentEncounterIndexNum):\n",
    "    if singlePatient_df[currentEncounterIndexNum, 'Summarized Encounter Type'] == 'Transfer Note':\n",
    "        return True\n",
    "    else:\n",
    "        return False\n",
    "\n",
    "def hasNextPlan(singlePatient_df, currentEncounterIndexNum):\n",
    "    # and see if there are any treatment plans after current treatment plan\n",
    "    currentTreatmentPlanDate = singlePatient_df.loc[currentEncounterIndexNum, 'EncounterDate']\n",
    "    if 'Treatment Plan' in singlePatient_df[singlePatient_df['EncounterDate'] > currentTreatmentPlanDate][\"Summarized Encounter Type\"].unique():\n",
    "        return True\n",
    "    else:\n",
    "        return False\n",
    "\n",
    "def getLocationOfNextPlan(singlePatient_df, currentEncounterIndexNum):\n",
    "    currentTreatmentPlanDate = singlePatient_df.loc[currentEncounterIndexNum, 'EncounterDate']\n",
    "    nextPlanLocation = singlePatient_df[(singlePatient_df['EncounterDate'] > currentTreatmentPlanDate) & (singlePatient_df[\"Summarized Encounter Type\"] == 'Treatment Plan') ].index[0]\n",
    "    return nextPlanLocation\n",
    "\n",
    "def isTransferedNext(singlePatient_df, currentEncounterIndexNum, hasNextPlan, nextPlanLocation=None):\n",
    "    currentTreatmentPlanDate = singlePatient_df.loc[currentEncounterIndexNum, 'EncounterDate']\n",
    "    if hasNextPlan:\n",
    "        # see if there are any transfer notes between current plan and next plan\n",
    "        nextTreatmentPlanDate =  singlePatient_df.loc[nextPlanLocation, 'EncounterDate']\n",
    "        if 'Transfer Note' in singlePatient_df[(singlePatient_df['EncounterDate'] > currentTreatmentPlanDate) & ((singlePatient_df['EncounterDate'] < nextTreatmentPlanDate))][\"Summarized Encounter Type\"].unique():\n",
    "            return True\n",
    "        else:\n",
    "            return False\n",
    "    else:\n",
    "        if 'Transfer Note' in singlePatient_df[singlePatient_df['EncounterDate'] >= currentTreatmentPlanDate][\"Summarized Encounter Type\"].unique():\n",
    "            return True\n",
    "        else:\n",
    "            return False\n",
    "    \n",
    "def isDischargedNext(singlePatient_df, currentEncounterIndexNum, hasNextPlan, nextPlanLocation=None):\n",
    "    currentTreatmentPlanDate = singlePatient_df.loc[currentEncounterIndexNum, 'EncounterDate']\n",
    "    if hasNextPlan: # see if there are any transfer notes between current plan and next plan\n",
    "        nextTreatmentPlanDate =  singlePatient_df.loc[nextPlanLocation, 'EncounterDate']\n",
    "        if 'Discharge Note' in singlePatient_df[(singlePatient_df['EncounterDate'] >= currentTreatmentPlanDate) & \n",
    "                                           ((singlePatient_df['EncounterDate'] < nextTreatmentPlanDate))][\"Summarized Encounter Type\"].unique():\n",
    "            return True\n",
    "        else:\n",
    "            return False\n",
    "    else: # see if there is a \n",
    "        if 'Discharge Note' in singlePatient_df[singlePatient_df['EncounterDate'] >= currentTreatmentPlanDate][\"Summarized Encounter Type\"].unique():\n",
    "            return True\n",
    "        else:\n",
    "            return False    \n",
    "    \n",
    "def isNextPlanClosedLate(singlePatient_df, currentEncounterIndexNum, hasNextPlan, nextPlanLocation):\n",
    "    if singlePatient_df.loc[nextPlanLocation, \"EndDate\"]!= pd.NaT and singlePatient_df.loc[nextPlanLocation, \"EndDate\"] > singlePatient_df.loc[currentEncounterIndexNum, \"Review Date\"]:\n",
    "        return True\n",
    "    else:\n",
    "        return False\n",
    "\n",
    "def isCurrentPlanSigned(singlePatient_df, currentEncounterIndexNum):\n",
    "    if str(singlePatient_df.loc[currentEncounterIndexNum, \"closedByFullName\"]) =='None':\n",
    "        return False\n",
    "    else:\n",
    "        return True\n",
    "\n",
    "def getDaysAfterTransfer(singlePatient_df, currentEncounterIndexNum, hasNextPlan, nextPlanLocation=None):\n",
    "    currentTreatmentPlanDate = singlePatient_df.loc[currentEncounterIndexNum, 'EncounterDate']\n",
    "    if hasNextPlan:\n",
    "        nextTreatmentPlanDate =  singlePatient_df.loc[nextPlanLocation, 'EncounterDate']\n",
    "        return (nextTreatmentPlanDate-singlePatient_df.loc[currentEncounterIndexNum, \"EncounterDate\"]).days\n",
    "    else:\n",
    "        daysAfterTransfer = (datetime.now()-currentTreatmentPlanDate).days\n",
    "        return daysAfterTransfer"
   ]
  },
  {
   "cell_type": "code",
   "execution_count": 9,
   "id": "b0f77077",
   "metadata": {
    "execution": {
     "iopub.execute_input": "2024-02-08T13:27:31.164151Z",
     "iopub.status.busy": "2024-02-08T13:27:31.164151Z",
     "iopub.status.idle": "2024-02-08T13:27:31.224709Z",
     "shell.execute_reply": "2024-02-08T13:27:31.224709Z"
    },
    "papermill": {
     "duration": 0.060558,
     "end_time": "2024-02-08T13:27:31.224709",
     "exception": false,
     "start_time": "2024-02-08T13:27:31.164151",
     "status": "completed"
    },
    "tags": []
   },
   "outputs": [],
   "source": [
    "try:\n",
    "    relevantInfodf = treatmentPlanEncounters.merge(patientDetails, how='left', on='PatientID')\n",
    "    relevantInfodf = relevantInfodf[relevantInfodf['MRNNumber'].notnull()].copy()\n",
    "    logger.info(f\"Successfully merged patient details with treatment plan info.\")\n",
    "except Exception as e:\n",
    "    print(e)\n",
    "    logger.error(f\"Failed to merge patient details with treatment plan info.\", exc_info=True) "
   ]
  },
  {
   "cell_type": "markdown",
   "id": "3600deac",
   "metadata": {
    "papermill": {
     "duration": 0.015609,
     "end_time": "2024-02-08T13:27:31.255986",
     "exception": false,
     "start_time": "2024-02-08T13:27:31.240377",
     "status": "completed"
    },
    "tags": []
   },
   "source": [
    "## Calculate Review Date"
   ]
  },
  {
   "cell_type": "code",
   "execution_count": 10,
   "id": "b40ef12e",
   "metadata": {
    "execution": {
     "iopub.execute_input": "2024-02-08T13:27:31.271612Z",
     "iopub.status.busy": "2024-02-08T13:27:31.271612Z",
     "iopub.status.idle": "2024-02-08T13:27:31.380782Z",
     "shell.execute_reply": "2024-02-08T13:27:31.380782Z"
    },
    "papermill": {
     "duration": 0.124796,
     "end_time": "2024-02-08T13:27:31.380782",
     "exception": false,
     "start_time": "2024-02-08T13:27:31.255986",
     "status": "completed"
    },
    "tags": []
   },
   "outputs": [
    {
     "name": "stdout",
     "output_type": "stream",
     "text": [
      "can only concatenate str (not \"relativedelta\") to str\n"
     ]
    }
   ],
   "source": [
    "try:\n",
    "    relevantInfodf['Summarized Encounter Type'] = relevantInfodf['EncounterType'].map(lambda type: \n",
    "                                                              \"Treatment Plan\" if \"treatment\" in type.lower() else \n",
    "                                                               (\"Initial Eval\" if 'evaluation' in type.lower() else \n",
    "                                                                (\"Transfer Note\" if 'transfer' in type.lower() else \n",
    "                                                                 (\"Discharge Note\" if 'discharge' in type.lower() else \"Something else\"))))\n",
    "    relevantInfodf['Review Date'] = relevantInfodf.apply(lambda row: row['EncounterDate'] + relativedelta(months=+11) if row['EncounterType'] == 'Initial Treatment Plan' else row['EncounterDate'] + relativedelta(months=+12), axis=1)\n",
    "    relevantInfodf['Days to Review Date'] = relevantInfodf['Review Date'].map(lambda reviewDate:  reviewDate.date()) - date.today()\n",
    "    logger.info(f\"Successfully calculated review date.\")\n",
    "except Exception as e:\n",
    "    print(e)\n",
    "    logger.error(f\"Failed to calculate review date.\", exc_info=True) "
   ]
  },
  {
   "cell_type": "markdown",
   "id": "ca203fc6",
   "metadata": {
    "papermill": {
     "duration": 0.015719,
     "end_time": "2024-02-08T13:27:31.396501",
     "exception": false,
     "start_time": "2024-02-08T13:27:31.380782",
     "status": "completed"
    },
    "tags": []
   },
   "source": [
    "## Determine Treatment Plan Status"
   ]
  },
  {
   "cell_type": "code",
   "execution_count": 11,
   "id": "563e5f03",
   "metadata": {
    "execution": {
     "iopub.execute_input": "2024-02-08T13:27:31.412082Z",
     "iopub.status.busy": "2024-02-08T13:27:31.412082Z",
     "iopub.status.idle": "2024-02-08T13:27:31.442875Z",
     "shell.execute_reply": "2024-02-08T13:27:31.442875Z"
    },
    "papermill": {
     "duration": 0.046374,
     "end_time": "2024-02-08T13:27:31.442875",
     "exception": false,
     "start_time": "2024-02-08T13:27:31.396501",
     "status": "completed"
    },
    "scrolled": true,
    "tags": []
   },
   "outputs": [
    {
     "name": "stdout",
     "output_type": "stream",
     "text": [
      "'Review Date'\n"
     ]
    }
   ],
   "source": [
    "try:\n",
    "    allPatientDf = pd.DataFrame()\n",
    "    for patientID in relevantInfodf['PatientID'].unique()[0:]:\n",
    "        singlePatient_df = filterAndSortToRelevantData(completeDataFrame=relevantInfodf, patientID=patientID)\n",
    "        if isEmptyDataFrame(singlePatient_df): #if patient has initial eval with no initial treatment plan\n",
    "            emptySinglePatient_df = relevantInfodf[(relevantInfodf['PatientID'] == patientID)].copy()\n",
    "\n",
    "            missingInitialTreatmentPlan = f\"Missing Initial Treatment Plan\"\n",
    "            emptySinglePatient_df[\"missingInitialTreatmentPlan\"] = find_missing_initial_treatment_plan(singlePatient_df)\n",
    "            emptySinglePatient_df[\"treatmentPlanStatus\"] = missingInitialTreatmentPlan\n",
    "\n",
    "            allPatientDf = pd.concat([allPatientDf,emptySinglePatient_df])\n",
    "            continue\n",
    "        else:\n",
    "            patientOverallStatus = \"\"\n",
    "\n",
    "            missingInitialTreatmentPlan = find_missing_initial_treatment_plan(singlePatient_df)\n",
    "            singlePatient_df['missingInitialTreatmentPlan'] = missingInitialTreatmentPlan        \n",
    "            singlePatient_df[\"treatmentPlanStatus\"] = missingInitialTreatmentPlan\n",
    "\n",
    "            is_ActiveInInSync = singlePatient_df.loc[0, 'is_ActiveInInSync']\n",
    "            is_lastEncounterDischarge = singlePatient_df.loc[0, 'is_lastEncounterDischarge']\n",
    "\n",
    "            is_NeedToBeInactivated = isNeedingToBeInactivated(is_ActiveInInSync, is_lastEncounterDischarge)\n",
    "            singlePatient_df['is_NeedToBeInactivated'] = is_NeedToBeInactivated\n",
    "\n",
    "            for currentEncounterIndexNum in range(singlePatient_df.shape[0]):\n",
    "                treatmentPlanStatus = patientOverallStatus\n",
    "                currentEncounterType = singlePatient_df.loc[currentEncounterIndexNum, 'Summarized Encounter Type']\n",
    "                daysToReviewDate = singlePatient_df.loc[currentEncounterIndexNum, 'Days to Review Date'].days\n",
    "\n",
    "                has_NextPlan = hasNextPlan(singlePatient_df, currentEncounterIndexNum)\n",
    "                singlePatient_df.loc[currentEncounterIndexNum, \"has_NextPlan\"] = has_NextPlan\n",
    "\n",
    "                is_CurrentPlanSigned = isCurrentPlanSigned(singlePatient_df, currentEncounterIndexNum)\n",
    "                singlePatient_df.loc[currentEncounterIndexNum, \"is_CurrentPlanSigned\"] = is_CurrentPlanSigned\n",
    "\n",
    "                if not is_CurrentPlanSigned:\n",
    "                    treatmentPlanStatus += \"Plan Still needs to be signed | \"       \n",
    "\n",
    "                if is_NeedToBeInactivated:\n",
    "                    treatmentPlanStatus += \"Last encounter was discharge so Patient should probably be inactivated | \"\n",
    "                if has_NextPlan:\n",
    "                    next_PlanLocation = getLocationOfNextPlan(singlePatient_df, currentEncounterIndexNum)\n",
    "                    singlePatient_df.loc[currentEncounterIndexNum, \"next_PlanLocation\"] = next_PlanLocation\n",
    "\n",
    "                    is_TransferedNext = isTransferedNext(singlePatient_df, currentEncounterIndexNum, has_NextPlan, next_PlanLocation)\n",
    "                    singlePatient_df.loc[currentEncounterIndexNum, \"is_TransferedNext\"] = is_TransferedNext\n",
    "\n",
    "                    is_DischargedNext = isDischargedNext(singlePatient_df, currentEncounterIndexNum, has_NextPlan, next_PlanLocation)\n",
    "                    singlePatient_df.loc[currentEncounterIndexNum, \"is_DischargedNext\"] = is_DischargedNext\n",
    "                    if (is_TransferedNext and not is_DischargedNext) and is_CurrentPlanSigned and has_NextPlan:\n",
    "                        get_DaysAfterTransfer = getDaysAfterTransfer(singlePatient_df, currentEncounterIndexNum, has_NextPlan, next_PlanLocation)\n",
    "                        treatmentPlanStatus += f\"Old Plan is Good | Patient was Transfered and they completed the follow up plan {get_DaysAfterTransfer} days after.\"\n",
    "                    elif (is_DischargedNext and not is_TransferedNext) and is_CurrentPlanSigned and has_NextPlan:\n",
    "                        treatmentPlanStatus += f\"Patient was Discharged\"\n",
    "                    elif not is_TransferedNext and not is_DischargedNext and is_CurrentPlanSigned and has_NextPlan:\n",
    "                        treatmentPlanStatus += \"Everything Seems Good\"\n",
    "\n",
    "                    is_NextPlanClosedLate = isNextPlanClosedLate(singlePatient_df, currentEncounterIndexNum, has_NextPlan, next_PlanLocation)\n",
    "                    singlePatient_df.loc[currentEncounterIndexNum, \"is_NextPlanClosedLate\"] = is_NextPlanClosedLate\n",
    "\n",
    "                else: # if there is no next plan \n",
    "                    is_TransferedNext = isTransferedNext(singlePatient_df, currentEncounterIndexNum, has_NextPlan)\n",
    "                    singlePatient_df.loc[currentEncounterIndexNum, \"is_TransferedNext\"] = is_TransferedNext\n",
    "\n",
    "                    is_DischargedNext = isDischargedNext(singlePatient_df, currentEncounterIndexNum, has_NextPlan)\n",
    "                    singlePatient_df.loc[currentEncounterIndexNum, \"is_DischargedNext\"] = is_DischargedNext\n",
    "\n",
    "                    if not is_TransferedNext and not is_DischargedNext and daysToReviewDate > 0:\n",
    "                        treatmentPlanStatus += f\"Everything Seems Good. Still have {daysToReviewDate} days left.\"\n",
    "                    elif not is_TransferedNext and not is_DischargedNext and daysToReviewDate < 0:\n",
    "                        treatmentPlanStatus += f\"Plan is {np.absolute(daysToReviewDate)} days overdue.\"\n",
    "                    elif is_TransferedNext and not is_DischargedNext:\n",
    "                        daysAfterTransfer = getDaysAfterTransfer(singlePatient_df, currentEncounterIndexNum, has_NextPlan)\n",
    "                        if daysAfterTransfer > 30 and currentEncounterType == \"Transfer Note\":\n",
    "                            treatmentPlanStatus += f\"Patient Transfered. Plan is {daysAfterTransfer-30} days overdue.\"\n",
    "                        elif daysAfterTransfer > 30:\n",
    "                            treatmentPlanStatus += f\"Patient Transfered.\"\n",
    "                        else:\n",
    "                            treatmentPlanStatus += f\"Patient Transfered. Plan is due in {30 - daysAfterTransfer} days.\"\n",
    "                    elif (is_DischargedNext and not is_TransferedNext):\n",
    "                        treatmentPlanStatus += f\"Patient was Discharged\"   \n",
    "                singlePatient_df.loc[currentEncounterIndexNum, \"treatmentPlanStatus\"] = treatmentPlanStatus  \n",
    "            allPatientDf = pd.concat([allPatientDf,singlePatient_df])\n",
    "    logger.info(f\"Successfully built all patients treatment plan details.\")\n",
    "except Exception as e:\n",
    "    print(e)\n",
    "    logger.error(f\"Failed to build all patients treatment plan details.\", exc_info=True) "
   ]
  },
  {
   "cell_type": "markdown",
   "id": "0b7d4cdc",
   "metadata": {
    "tags": [
     "papermill-error-cell-tag"
    ]
   },
   "source": [
    "<span id=\"papermill-error-cell\" style=\"color:red; font-family:Helvetica Neue, Helvetica, Arial, sans-serif; font-size:2em;\">Execution using papermill encountered an exception here and stopped:</span>"
   ]
  },
  {
   "cell_type": "code",
   "execution_count": 12,
   "id": "0232539c",
   "metadata": {
    "execution": {
     "iopub.execute_input": "2024-02-08T13:27:31.458593Z",
     "iopub.status.busy": "2024-02-08T13:27:31.458593Z",
     "iopub.status.idle": "2024-02-08T13:27:33.438143Z",
     "shell.execute_reply": "2024-02-08T13:27:33.438143Z"
    },
    "papermill": {
     "duration": 1.995268,
     "end_time": "2024-02-08T13:27:33.438143",
     "exception": true,
     "start_time": "2024-02-08T13:27:31.442875",
     "status": "failed"
    },
    "tags": []
   },
   "outputs": [
    {
     "ename": "KeyError",
     "evalue": "\"None of [Index(['has_NextPlan', 'is_CurrentPlanSigned', 'next_PlanLocation',\\n       'is_TransferedNext', 'is_DischargedNext', 'is_NextPlanClosedLate'],\\n      dtype='object')] are in the [columns]\"",
     "output_type": "error",
     "traceback": [
      "\u001b[1;31m---------------------------------------------------------------------------\u001b[0m",
      "\u001b[1;31mKeyError\u001b[0m                                  Traceback (most recent call last)",
      "Cell \u001b[1;32mIn[12], line 6\u001b[0m\n\u001b[0;32m      1\u001b[0m allPatientDf[[\u001b[38;5;124m\"\u001b[39m\u001b[38;5;124mhas_NextPlan\u001b[39m\u001b[38;5;124m\"\u001b[39m, \n\u001b[0;32m      2\u001b[0m               \u001b[38;5;124m\"\u001b[39m\u001b[38;5;124mis_CurrentPlanSigned\u001b[39m\u001b[38;5;124m\"\u001b[39m,\n\u001b[0;32m      3\u001b[0m               \u001b[38;5;124m\"\u001b[39m\u001b[38;5;124mnext_PlanLocation\u001b[39m\u001b[38;5;124m\"\u001b[39m,\n\u001b[0;32m      4\u001b[0m               \u001b[38;5;124m\"\u001b[39m\u001b[38;5;124mis_TransferedNext\u001b[39m\u001b[38;5;124m\"\u001b[39m,\n\u001b[0;32m      5\u001b[0m               \u001b[38;5;124m\"\u001b[39m\u001b[38;5;124mis_DischargedNext\u001b[39m\u001b[38;5;124m\"\u001b[39m,\n\u001b[1;32m----> 6\u001b[0m               \u001b[38;5;124m\"\u001b[39m\u001b[38;5;124mis_NextPlanClosedLate\u001b[39m\u001b[38;5;124m\"\u001b[39m]] \u001b[38;5;241m=\u001b[39m allPatientDf[[\u001b[38;5;124m\"\u001b[39m\u001b[38;5;124mhas_NextPlan\u001b[39m\u001b[38;5;124m\"\u001b[39m, \n\u001b[0;32m      7\u001b[0m                                                         \u001b[38;5;124m\"\u001b[39m\u001b[38;5;124mis_CurrentPlanSigned\u001b[39m\u001b[38;5;124m\"\u001b[39m,\n\u001b[0;32m      8\u001b[0m                                                         \u001b[38;5;124m\"\u001b[39m\u001b[38;5;124mnext_PlanLocation\u001b[39m\u001b[38;5;124m\"\u001b[39m,\n\u001b[0;32m      9\u001b[0m                                                         \u001b[38;5;124m\"\u001b[39m\u001b[38;5;124mis_TransferedNext\u001b[39m\u001b[38;5;124m\"\u001b[39m,\n\u001b[0;32m     10\u001b[0m                                                         \u001b[38;5;124m\"\u001b[39m\u001b[38;5;124mis_DischargedNext\u001b[39m\u001b[38;5;124m\"\u001b[39m,\n\u001b[0;32m     11\u001b[0m                                                         \u001b[38;5;124m\"\u001b[39m\u001b[38;5;124mis_NextPlanClosedLate\u001b[39m\u001b[38;5;124m\"\u001b[39m]]\u001b[38;5;241m.\u001b[39mfillna(\u001b[38;5;28;01mFalse\u001b[39;00m)\n",
      "File \u001b[1;32m~\\AppData\\Local\\anaconda3\\Lib\\site-packages\\pandas\\core\\frame.py:3899\u001b[0m, in \u001b[0;36mDataFrame.__getitem__\u001b[1;34m(self, key)\u001b[0m\n\u001b[0;32m   3897\u001b[0m     \u001b[38;5;28;01mif\u001b[39;00m is_iterator(key):\n\u001b[0;32m   3898\u001b[0m         key \u001b[38;5;241m=\u001b[39m \u001b[38;5;28mlist\u001b[39m(key)\n\u001b[1;32m-> 3899\u001b[0m     indexer \u001b[38;5;241m=\u001b[39m \u001b[38;5;28mself\u001b[39m\u001b[38;5;241m.\u001b[39mcolumns\u001b[38;5;241m.\u001b[39m_get_indexer_strict(key, \u001b[38;5;124m\"\u001b[39m\u001b[38;5;124mcolumns\u001b[39m\u001b[38;5;124m\"\u001b[39m)[\u001b[38;5;241m1\u001b[39m]\n\u001b[0;32m   3901\u001b[0m \u001b[38;5;66;03m# take() does not accept boolean indexers\u001b[39;00m\n\u001b[0;32m   3902\u001b[0m \u001b[38;5;28;01mif\u001b[39;00m \u001b[38;5;28mgetattr\u001b[39m(indexer, \u001b[38;5;124m\"\u001b[39m\u001b[38;5;124mdtype\u001b[39m\u001b[38;5;124m\"\u001b[39m, \u001b[38;5;28;01mNone\u001b[39;00m) \u001b[38;5;241m==\u001b[39m \u001b[38;5;28mbool\u001b[39m:\n",
      "File \u001b[1;32m~\\AppData\\Local\\anaconda3\\Lib\\site-packages\\pandas\\core\\indexes\\base.py:6115\u001b[0m, in \u001b[0;36mIndex._get_indexer_strict\u001b[1;34m(self, key, axis_name)\u001b[0m\n\u001b[0;32m   6112\u001b[0m \u001b[38;5;28;01melse\u001b[39;00m:\n\u001b[0;32m   6113\u001b[0m     keyarr, indexer, new_indexer \u001b[38;5;241m=\u001b[39m \u001b[38;5;28mself\u001b[39m\u001b[38;5;241m.\u001b[39m_reindex_non_unique(keyarr)\n\u001b[1;32m-> 6115\u001b[0m \u001b[38;5;28mself\u001b[39m\u001b[38;5;241m.\u001b[39m_raise_if_missing(keyarr, indexer, axis_name)\n\u001b[0;32m   6117\u001b[0m keyarr \u001b[38;5;241m=\u001b[39m \u001b[38;5;28mself\u001b[39m\u001b[38;5;241m.\u001b[39mtake(indexer)\n\u001b[0;32m   6118\u001b[0m \u001b[38;5;28;01mif\u001b[39;00m \u001b[38;5;28misinstance\u001b[39m(key, Index):\n\u001b[0;32m   6119\u001b[0m     \u001b[38;5;66;03m# GH 42790 - Preserve name from an Index\u001b[39;00m\n",
      "File \u001b[1;32m~\\AppData\\Local\\anaconda3\\Lib\\site-packages\\pandas\\core\\indexes\\base.py:6176\u001b[0m, in \u001b[0;36mIndex._raise_if_missing\u001b[1;34m(self, key, indexer, axis_name)\u001b[0m\n\u001b[0;32m   6174\u001b[0m     \u001b[38;5;28;01mif\u001b[39;00m use_interval_msg:\n\u001b[0;32m   6175\u001b[0m         key \u001b[38;5;241m=\u001b[39m \u001b[38;5;28mlist\u001b[39m(key)\n\u001b[1;32m-> 6176\u001b[0m     \u001b[38;5;28;01mraise\u001b[39;00m \u001b[38;5;167;01mKeyError\u001b[39;00m(\u001b[38;5;124mf\u001b[39m\u001b[38;5;124m\"\u001b[39m\u001b[38;5;124mNone of [\u001b[39m\u001b[38;5;132;01m{\u001b[39;00mkey\u001b[38;5;132;01m}\u001b[39;00m\u001b[38;5;124m] are in the [\u001b[39m\u001b[38;5;132;01m{\u001b[39;00maxis_name\u001b[38;5;132;01m}\u001b[39;00m\u001b[38;5;124m]\u001b[39m\u001b[38;5;124m\"\u001b[39m)\n\u001b[0;32m   6178\u001b[0m not_found \u001b[38;5;241m=\u001b[39m \u001b[38;5;28mlist\u001b[39m(ensure_index(key)[missing_mask\u001b[38;5;241m.\u001b[39mnonzero()[\u001b[38;5;241m0\u001b[39m]]\u001b[38;5;241m.\u001b[39munique())\n\u001b[0;32m   6179\u001b[0m \u001b[38;5;28;01mraise\u001b[39;00m \u001b[38;5;167;01mKeyError\u001b[39;00m(\u001b[38;5;124mf\u001b[39m\u001b[38;5;124m\"\u001b[39m\u001b[38;5;132;01m{\u001b[39;00mnot_found\u001b[38;5;132;01m}\u001b[39;00m\u001b[38;5;124m not in index\u001b[39m\u001b[38;5;124m\"\u001b[39m)\n",
      "\u001b[1;31mKeyError\u001b[0m: \"None of [Index(['has_NextPlan', 'is_CurrentPlanSigned', 'next_PlanLocation',\\n       'is_TransferedNext', 'is_DischargedNext', 'is_NextPlanClosedLate'],\\n      dtype='object')] are in the [columns]\""
     ]
    }
   ],
   "source": [
    "allPatientDf[[\"has_NextPlan\", \n",
    "              \"is_CurrentPlanSigned\",\n",
    "              \"next_PlanLocation\",\n",
    "              \"is_TransferedNext\",\n",
    "              \"is_DischargedNext\",\n",
    "              \"is_NextPlanClosedLate\"]] = allPatientDf[[\"has_NextPlan\", \n",
    "                                                        \"is_CurrentPlanSigned\",\n",
    "                                                        \"next_PlanLocation\",\n",
    "                                                        \"is_TransferedNext\",\n",
    "                                                        \"is_DischargedNext\",\n",
    "                                                        \"is_NextPlanClosedLate\"]].fillna(False)   "
   ]
  },
  {
   "cell_type": "code",
   "execution_count": null,
   "id": "f2963f1b",
   "metadata": {
    "papermill": {
     "duration": null,
     "end_time": null,
     "exception": null,
     "start_time": null,
     "status": "pending"
    },
    "scrolled": true,
    "tags": []
   },
   "outputs": [],
   "source": [
    "list(allPatientDf['treatmentPlanStatus'])[2]"
   ]
  },
  {
   "cell_type": "code",
   "execution_count": null,
   "id": "5939f5c6",
   "metadata": {
    "papermill": {
     "duration": null,
     "end_time": null,
     "exception": null,
     "start_time": null,
     "status": "pending"
    },
    "tags": []
   },
   "outputs": [],
   "source": [
    "# for column in allPatientDf.columns:\n",
    "#     print(column)"
   ]
  },
  {
   "cell_type": "code",
   "execution_count": null,
   "id": "05f47df7",
   "metadata": {
    "execution": {
     "iopub.execute_input": "2023-09-20T11:19:58.658635Z",
     "iopub.status.busy": "2023-09-20T11:19:58.658635Z",
     "iopub.status.idle": "2023-09-20T11:19:58.670635Z",
     "shell.execute_reply": "2023-09-20T11:19:58.669688Z"
    },
    "papermill": {
     "duration": null,
     "end_time": null,
     "exception": null,
     "start_time": null,
     "status": "pending"
    },
    "tags": []
   },
   "outputs": [],
   "source": [
    "try:\n",
    "    allPatientDf['is_TreatmentPlanGood'] = allPatientDf['treatmentPlanStatus'].map(lambda status: True if 'Everything Seems Good' in str(status) else False)\n",
    "    allPatientDf['is_TreatmentPlanOverdue'] = allPatientDf['treatmentPlanStatus'].map(lambda status: True if 'overdue' in str(status).lower() else False)\n",
    "    logger.info(f\"Successfully marked treatment plans that are all good.\")\n",
    "except Exception as e:\n",
    "    print(e)\n",
    "    logger.error(f\"Failed to mark treatment plans that are all good.\", exc_info=True) "
   ]
  },
  {
   "cell_type": "code",
   "execution_count": null,
   "id": "fd3d3e69",
   "metadata": {
    "papermill": {
     "duration": null,
     "end_time": null,
     "exception": null,
     "start_time": null,
     "status": "pending"
    },
    "tags": []
   },
   "outputs": [],
   "source": [
    "allPatientDf['treatmentPlanStatus'] = allPatientDf['treatmentPlanStatus'] + \"| \" + allPatientDf['seen_Recently']"
   ]
  },
  {
   "cell_type": "code",
   "execution_count": null,
   "id": "056ab9cd",
   "metadata": {
    "execution": {
     "iopub.execute_input": "2023-09-20T11:19:58.683635Z",
     "iopub.status.busy": "2023-09-20T11:19:58.683635Z",
     "iopub.status.idle": "2023-09-20T11:19:58.701212Z",
     "shell.execute_reply": "2023-09-20T11:19:58.701212Z"
    },
    "papermill": {
     "duration": null,
     "end_time": null,
     "exception": null,
     "start_time": null,
     "status": "pending"
    },
    "tags": []
   },
   "outputs": [],
   "source": [
    "# final_df[final_df['PatientID']==622214]\n",
    "# final_df[final_df['PatientID']==622741]"
   ]
  },
  {
   "cell_type": "code",
   "execution_count": null,
   "id": "4ff28b04",
   "metadata": {
    "papermill": {
     "duration": null,
     "end_time": null,
     "exception": null,
     "start_time": null,
     "status": "pending"
    },
    "tags": []
   },
   "outputs": [],
   "source": [
    "allPatientDf['seen_Recently'].unique()"
   ]
  },
  {
   "cell_type": "code",
   "execution_count": null,
   "id": "b291620e",
   "metadata": {
    "execution": {
     "iopub.execute_input": "2023-09-20T11:19:58.716082Z",
     "iopub.status.busy": "2023-09-20T11:19:58.715082Z",
     "iopub.status.idle": "2023-09-20T11:19:58.731806Z",
     "shell.execute_reply": "2023-09-20T11:19:58.731806Z"
    },
    "papermill": {
     "duration": null,
     "end_time": null,
     "exception": null,
     "start_time": null,
     "status": "pending"
    },
    "scrolled": true,
    "tags": []
   },
   "outputs": [],
   "source": [
    "# final_df[final_df['allTheInfoYouEverWanted'].map(lambda x: True if \"Closed After Due Date\" in x else False) ].groupby('ProviderName')['EncounterId'].count().sort_values(ascending=False).head(20)"
   ]
  },
  {
   "cell_type": "code",
   "execution_count": null,
   "id": "1c2958f1",
   "metadata": {
    "execution": {
     "iopub.execute_input": "2023-09-20T11:19:58.745813Z",
     "iopub.status.busy": "2023-09-20T11:19:58.745813Z",
     "iopub.status.idle": "2023-09-20T11:19:58.762520Z",
     "shell.execute_reply": "2023-09-20T11:19:58.762520Z"
    },
    "papermill": {
     "duration": null,
     "end_time": null,
     "exception": null,
     "start_time": null,
     "status": "pending"
    },
    "tags": []
   },
   "outputs": [],
   "source": [
    "# final_df[final_df['allTheInfoYouEverWanted']==\"\"]"
   ]
  },
  {
   "cell_type": "code",
   "execution_count": null,
   "id": "f6881a40",
   "metadata": {
    "execution": {
     "iopub.execute_input": "2023-09-20T11:19:58.777402Z",
     "iopub.status.busy": "2023-09-20T11:19:58.776401Z",
     "iopub.status.idle": "2023-09-20T11:19:58.794271Z",
     "shell.execute_reply": "2023-09-20T11:19:58.793264Z"
    },
    "papermill": {
     "duration": null,
     "end_time": null,
     "exception": null,
     "start_time": null,
     "status": "pending"
    },
    "tags": []
   },
   "outputs": [],
   "source": [
    "# Change to integer so SQL can recognize it\n",
    "allPatientDf['Days to Review Date'] = allPatientDf['Days to Review Date'].dt.days"
   ]
  },
  {
   "cell_type": "code",
   "execution_count": null,
   "id": "8956239a",
   "metadata": {
    "execution": {
     "iopub.execute_input": "2023-09-20T11:19:58.777402Z",
     "iopub.status.busy": "2023-09-20T11:19:58.776401Z",
     "iopub.status.idle": "2023-09-20T11:19:58.794271Z",
     "shell.execute_reply": "2023-09-20T11:19:58.793264Z"
    },
    "papermill": {
     "duration": null,
     "end_time": null,
     "exception": null,
     "start_time": null,
     "status": "pending"
    },
    "tags": []
   },
   "outputs": [],
   "source": [
    "# filter to useful columns\n",
    "allPatientDf = allPatientDf[[\"EncounterId\",\n",
    "                            \"MRNNumber\",\n",
    "                            \"DOB\",\n",
    "                            \"PatientID\",\n",
    "                            \"ProviderName\",\n",
    "                            \"Primary_Provider\",\n",
    "                            \"patient_fullName\",\n",
    "                            \"FacilityName\",\n",
    "                            \"Summarized Encounter Type\",\n",
    "                            \"EncounterDate\",\n",
    "                            \"EncounterEndDateTimeToolTip\",\n",
    "                            \"EncounterStartDateTimeToolTip\",\n",
    "                            \"EncounterType\",\n",
    "                            \"EncounterOpenClosed\",\n",
    "                            \"ProgramName\",\n",
    "                            \"closedByFullName\",\n",
    "                            \"finalEncounterType\",\n",
    "                            \"finalEncounterDate\",\n",
    "                            \"is_ActiveInInSync\",\n",
    "                            \"is_lastEncounterDischarge\",\n",
    "                            \"lastBillable_EncounterType\",\n",
    "                            \"lastBillable_EncounterDate\",\n",
    "                            \"lastBillable_ProgramName\",\n",
    "                            \"lastBillable_FacilityName\",\n",
    "                            \"seen_Recently\",\n",
    "                            \"Review Date\",\n",
    "                            \"Days to Review Date\",\n",
    "                            \"is_NeedToBeInactivated\",\n",
    "                            \"has_NextPlan\",\n",
    "                            \"is_CurrentPlanSigned\",\n",
    "                            \"next_PlanLocation\",\n",
    "                            \"is_TransferedNext\",\n",
    "                            \"is_DischargedNext\",\n",
    "                            \"is_NextPlanClosedLate\",\n",
    "                            \"treatmentPlanStatus\",\n",
    "                            \"missingInitialTreatmentPlan\",\n",
    "                            \"is_TreatmentPlanGood\",\n",
    "                            \"is_TreatmentPlanOverdue\",\n",
    "                            \"Admitted\"]]"
   ]
  },
  {
   "cell_type": "markdown",
   "id": "4fa29770",
   "metadata": {
    "papermill": {
     "duration": null,
     "end_time": null,
     "exception": null,
     "start_time": null,
     "status": "pending"
    },
    "tags": []
   },
   "source": [
    "## For Presenting\n",
    "- Replace all names with random ones for presenting"
   ]
  },
  {
   "cell_type": "code",
   "execution_count": null,
   "id": "2044b078",
   "metadata": {
    "execution": {
     "iopub.execute_input": "2023-09-20T11:19:58.820465Z",
     "iopub.status.busy": "2023-09-20T11:19:58.819422Z",
     "iopub.status.idle": "2023-09-20T11:19:58.823484Z",
     "shell.execute_reply": "2023-09-20T11:19:58.823484Z"
    },
    "papermill": {
     "duration": null,
     "end_time": null,
     "exception": null,
     "start_time": null,
     "status": "pending"
    },
    "tags": []
   },
   "outputs": [],
   "source": [
    "# randomNames = pd.read_excel('../data/Random Names.xlsx')\n",
    "\n",
    "# final_df['patient_fullName'] = final_df['patient_fullName'].map(lambda name: list(randomNames['Names'].sample(1))[0])\n",
    "# final_df['ProviderName'] = final_df['ProviderName'].map(lambda name: list(final_df['ProviderName'].sample(1))[0])"
   ]
  },
  {
   "cell_type": "code",
   "execution_count": null,
   "id": "e701778c",
   "metadata": {
    "execution": {
     "iopub.execute_input": "2023-09-20T11:19:58.837532Z",
     "iopub.status.busy": "2023-09-20T11:19:58.837532Z",
     "iopub.status.idle": "2023-09-20T11:19:58.853548Z",
     "shell.execute_reply": "2023-09-20T11:19:58.853548Z"
    },
    "papermill": {
     "duration": null,
     "end_time": null,
     "exception": null,
     "start_time": null,
     "status": "pending"
    },
    "tags": []
   },
   "outputs": [],
   "source": [
    "# use to transform data into\n",
    "query = \", \".join([item.replace(\" \", \"_\") + \" \" + str(allPatientDf[item].dtype) for item in allPatientDf.columns])\n",
    "query = query.replace(\"object\", \"TEXT\")\n",
    "query = query.replace(\"datetime64[ns]\", \"TEXT\")\n",
    "query = query.replace(\"timedelta64[ns]\", \"TEXT\")\n",
    "query = query.replace(\"float64\", \"INTEGER\")\n",
    "query = query.replace(\"int64\", \"INTEGER\")\n",
    "query = query.replace(\"bool\", \"TEXT\")\n",
    "query"
   ]
  },
  {
   "cell_type": "code",
   "execution_count": null,
   "id": "061a238a",
   "metadata": {
    "execution": {
     "iopub.execute_input": "2023-09-20T11:19:58.868549Z",
     "iopub.status.busy": "2023-09-20T11:19:58.868549Z",
     "iopub.status.idle": "2023-09-20T11:19:59.342497Z",
     "shell.execute_reply": "2023-09-20T11:19:59.341485Z"
    },
    "papermill": {
     "duration": null,
     "end_time": null,
     "exception": null,
     "start_time": null,
     "status": "pending"
    },
    "tags": []
   },
   "outputs": [],
   "source": [
    "table_name= \"ptTreatmentPlanDuenessSummary\"\n",
    "try:\n",
    "    c = conn.cursor()\n",
    "    c.execute(f'''CREATE TABLE IF NOT EXISTS {table_name} ({query}) ''')\n",
    "    conn.commit()\n",
    "    allPatientDf.to_sql(\"ptTreatmentPlanDuenessSummary\", conn, if_exists='replace', index = False)\n",
    "    logger.info(f\"Successfully pushed ptTreatmentPlanDuenessSummary to database.\")\n",
    "except Exception as e:\n",
    "    logger.error(f\"Failed to push ptTreatmentPlanDuenessSummary to database.\", exc_info=True) \n",
    "    print(e)"
   ]
  },
  {
   "cell_type": "code",
   "execution_count": null,
   "id": "7b94636b",
   "metadata": {
    "execution": {
     "iopub.execute_input": "2023-09-20T11:19:59.357480Z",
     "iopub.status.busy": "2023-09-20T11:19:59.357480Z",
     "iopub.status.idle": "2023-09-20T11:19:59.372485Z",
     "shell.execute_reply": "2023-09-20T11:19:59.372485Z"
    },
    "papermill": {
     "duration": null,
     "end_time": null,
     "exception": null,
     "start_time": null,
     "status": "pending"
    },
    "tags": []
   },
   "outputs": [],
   "source": [
    "conn.close()"
   ]
  },
  {
   "cell_type": "markdown",
   "id": "42c57109",
   "metadata": {
    "papermill": {
     "duration": null,
     "end_time": null,
     "exception": null,
     "start_time": null,
     "status": "pending"
    },
    "tags": []
   },
   "source": [
    "## Old Code"
   ]
  },
  {
   "cell_type": "code",
   "execution_count": null,
   "id": "dec9e9de",
   "metadata": {
    "execution": {
     "iopub.execute_input": "2023-09-20T11:19:59.399480Z",
     "iopub.status.busy": "2023-09-20T11:19:59.399480Z",
     "iopub.status.idle": "2023-09-20T11:19:59.404479Z",
     "shell.execute_reply": "2023-09-20T11:19:59.404479Z"
    },
    "papermill": {
     "duration": null,
     "end_time": null,
     "exception": null,
     "start_time": null,
     "status": "pending"
    },
    "tags": []
   },
   "outputs": [],
   "source": [
    "# final_df[final_df['ProgramName'] =='Boro Park Clinics'].head(15).to_excel(\"../data/checkTreatmentPlanCode.xlsx\", index=False)"
   ]
  },
  {
   "cell_type": "code",
   "execution_count": null,
   "id": "3372e488",
   "metadata": {
    "execution": {
     "iopub.execute_input": "2023-09-20T11:19:59.420480Z",
     "iopub.status.busy": "2023-09-20T11:19:59.419480Z",
     "iopub.status.idle": "2023-09-20T11:19:59.438481Z",
     "shell.execute_reply": "2023-09-20T11:19:59.436488Z"
    },
    "papermill": {
     "duration": null,
     "end_time": null,
     "exception": null,
     "start_time": null,
     "status": "pending"
    },
    "tags": []
   },
   "outputs": [],
   "source": [
    "# final_df[final_df['Patient Name'] == 'Braun, Chesky']"
   ]
  },
  {
   "cell_type": "code",
   "execution_count": null,
   "id": "554072f8",
   "metadata": {
    "execution": {
     "iopub.execute_input": "2023-09-20T11:19:59.453480Z",
     "iopub.status.busy": "2023-09-20T11:19:59.453480Z",
     "iopub.status.idle": "2023-09-20T11:19:59.467486Z",
     "shell.execute_reply": "2023-09-20T11:19:59.467486Z"
    },
    "papermill": {
     "duration": null,
     "end_time": null,
     "exception": null,
     "start_time": null,
     "status": "pending"
    },
    "tags": []
   },
   "outputs": [],
   "source": [
    "# final_df['Program']\n",
    "# final_df['Status']\n",
    "# final_df = final_df.merge(patientStatusProgramdf, on='MRN', how='inner')\n",
    "# final_df"
   ]
  },
  {
   "cell_type": "code",
   "execution_count": null,
   "id": "9afb64a8",
   "metadata": {
    "execution": {
     "iopub.execute_input": "2023-09-20T11:19:59.483482Z",
     "iopub.status.busy": "2023-09-20T11:19:59.482480Z",
     "iopub.status.idle": "2023-09-20T11:19:59.499480Z",
     "shell.execute_reply": "2023-09-20T11:19:59.499480Z"
    },
    "papermill": {
     "duration": null,
     "end_time": null,
     "exception": null,
     "start_time": null,
     "status": "pending"
    },
    "tags": []
   },
   "outputs": [],
   "source": [
    "# final_df.columns"
   ]
  },
  {
   "cell_type": "code",
   "execution_count": null,
   "id": "80593480",
   "metadata": {
    "execution": {
     "iopub.execute_input": "2023-09-20T11:19:59.514481Z",
     "iopub.status.busy": "2023-09-20T11:19:59.514481Z",
     "iopub.status.idle": "2023-09-20T11:19:59.530488Z",
     "shell.execute_reply": "2023-09-20T11:19:59.530488Z"
    },
    "papermill": {
     "duration": null,
     "end_time": null,
     "exception": null,
     "start_time": null,
     "status": "pending"
    },
    "tags": []
   },
   "outputs": [],
   "source": [
    "# final_df = final_df[['MRN', 'Patient Name_x', 'Encounter Type',\n",
    "#                    'Encounter / Service Provider', \"Encounter Facility\", 'Visit Date', 'Signed By',\n",
    "#                    'Signed Date', 'Co Sign Status', 'Co Signed By',\n",
    "#                    'Summarized Encounter Type', 'Missing Initial Treatment Plan',\n",
    "#                    'Review Date', 'Days to Review Date', 'allTheInfoYouEverWanted','Patient Status',\n",
    "#                    'Date of Last Appointment', 'Total Appointments', 'Updated Status_x', \"Last Seen_x\"]].copy()"
   ]
  },
  {
   "cell_type": "code",
   "execution_count": null,
   "id": "28aa3996",
   "metadata": {
    "execution": {
     "iopub.execute_input": "2023-09-20T11:19:59.545822Z",
     "iopub.status.busy": "2023-09-20T11:19:59.544791Z",
     "iopub.status.idle": "2023-09-20T11:19:59.561284Z",
     "shell.execute_reply": "2023-09-20T11:19:59.561284Z"
    },
    "papermill": {
     "duration": null,
     "end_time": null,
     "exception": null,
     "start_time": null,
     "status": "pending"
    },
    "tags": []
   },
   "outputs": [],
   "source": [
    "# writer = pd.ExcelWriter(\"Excel TreatmentPlan Data/TreatmentPlanforCompliance v5.xlsx\", engine='xlsxwriter')\n",
    "\n",
    "# # Convert the dataframe to an XlsxWriter Excel object. Turn off the default\n",
    "# # header and index and skip one row to allow us to insert a user defined\n",
    "# # header.\n",
    "# final_df.to_excel(writer, sheet_name='Sheet1', startrow=1, header=False, index=False)\n",
    "\n",
    "# # Get the xlsxwriter workbook and worksheet objects.\n",
    "# workbook = writer.book\n",
    "# worksheet = writer.sheets['Sheet1']\n",
    "\n",
    "# # Get the dimensions of the dataframe.\n",
    "# (max_row, max_col) = final_df.shape\n",
    "\n",
    "# # Create a list of column headers, to use in add_table().\n",
    "# column_settings = []\n",
    "# for header in final_df.columns:\n",
    "#     column_settings.append({'header': header})\n",
    "\n",
    "# # Add the table.\n",
    "# worksheet.add_table(0, 0, max_row, max_col - 1, {'columns': column_settings})\n",
    "\n",
    "# # Make the columns wider for clarity.\n",
    "# worksheet.set_column(0, max_col - 1, 12)\n",
    "\n",
    "# # Close the Pandas Excel writer and output the Excel file.\n",
    "# writer.save()\n",
    "# writer.close()"
   ]
  }
 ],
 "metadata": {
  "kernelspec": {
   "display_name": "Python 3 (ipykernel)",
   "language": "python",
   "name": "python3"
  },
  "language_info": {
   "codemirror_mode": {
    "name": "ipython",
    "version": 3
   },
   "file_extension": ".py",
   "mimetype": "text/x-python",
   "name": "python",
   "nbconvert_exporter": "python",
   "pygments_lexer": "ipython3",
   "version": "3.11.5"
  },
  "papermill": {
   "default_parameters": {},
   "duration": 9.645798,
   "end_time": "2024-02-08T13:27:34.126133",
   "environment_variables": {},
   "exception": true,
   "input_path": "TreatmentPlanReport.ipynb",
   "output_path": "snapshots/TreatmentPlanReport.ipynb",
   "parameters": {},
   "start_time": "2024-02-08T13:27:24.480335",
   "version": "2.3.3"
  },
  "toc": {
   "base_numbering": 1,
   "nav_menu": {},
   "number_sections": true,
   "sideBar": true,
   "skip_h1_title": false,
   "title_cell": "Table of Contents",
   "title_sidebar": "Contents",
   "toc_cell": false,
   "toc_position": {},
   "toc_section_display": true,
   "toc_window_display": true
  },
  "varInspector": {
   "cols": {
    "lenName": 16,
    "lenType": 16,
    "lenVar": 40
   },
   "kernels_config": {
    "python": {
     "delete_cmd_postfix": "",
     "delete_cmd_prefix": "del ",
     "library": "var_list.py",
     "varRefreshCmd": "print(var_dic_list())"
    },
    "r": {
     "delete_cmd_postfix": ") ",
     "delete_cmd_prefix": "rm(",
     "library": "var_list.r",
     "varRefreshCmd": "cat(var_dic_list()) "
    }
   },
   "types_to_exclude": [
    "module",
    "function",
    "builtin_function_or_method",
    "instance",
    "_Feature"
   ],
   "window_display": false
  }
 },
 "nbformat": 4,
 "nbformat_minor": 5
}