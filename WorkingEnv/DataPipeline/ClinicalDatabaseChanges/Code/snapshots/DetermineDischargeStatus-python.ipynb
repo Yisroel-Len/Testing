{
 "cells": [
  {
   "cell_type": "markdown",
   "id": "a833becb",
   "metadata": {
    "tags": [
     "papermill-error-cell-tag"
    ]
   },
   "source": [
    "<span style=\"color:red; font-family:Helvetica Neue, Helvetica, Arial, sans-serif; font-size:2em;\">An Exception was encountered at '<a href=\"#papermill-error-cell\">In [8]</a>'.</span>"
   ]
  },
  {
   "cell_type": "code",
   "execution_count": 1,
   "id": "318517c5",
   "metadata": {
    "ExecuteTime": {
     "end_time": "2023-07-20T20:28:41.632600Z",
     "start_time": "2023-07-20T20:28:41.625604Z"
    },
    "execution": {
     "iopub.execute_input": "2024-02-08T13:26:49.344632Z",
     "iopub.status.busy": "2024-02-08T13:26:49.344632Z",
     "iopub.status.idle": "2024-02-08T13:26:49.789976Z",
     "shell.execute_reply": "2024-02-08T13:26:49.789976Z"
    },
    "papermill": {
     "duration": 0.461006,
     "end_time": "2024-02-08T13:26:49.789976",
     "exception": false,
     "start_time": "2024-02-08T13:26:49.328970",
     "status": "completed"
    },
    "tags": []
   },
   "outputs": [],
   "source": [
    "import pandas as pd\n",
    "import numpy as np\n",
    "import pyodbc \n",
    "import time\n",
    "from datetime import datetime\n",
    "from datetime import date\n",
    "import sqlite3"
   ]
  },
  {
   "cell_type": "code",
   "execution_count": 2,
   "id": "eec0b1c7",
   "metadata": {
    "ExecuteTime": {
     "end_time": "2023-07-20T20:28:41.696400Z",
     "start_time": "2023-07-20T20:28:41.634600Z"
    },
    "execution": {
     "iopub.execute_input": "2024-02-08T13:26:49.805626Z",
     "iopub.status.busy": "2024-02-08T13:26:49.805626Z",
     "iopub.status.idle": "2024-02-08T13:26:49.818107Z",
     "shell.execute_reply": "2024-02-08T13:26:49.818107Z"
    },
    "papermill": {
     "duration": 0.012481,
     "end_time": "2024-02-08T13:26:49.818107",
     "exception": false,
     "start_time": "2024-02-08T13:26:49.805626",
     "status": "completed"
    },
    "tags": []
   },
   "outputs": [],
   "source": [
    "import logging\n",
    "path = \"..\\..\\InSyncConnection\\Code\\clinical_log.txt\"\n",
    "logging.basicConfig(filename=path,\n",
    "                    filemode='a',\n",
    "                    format='%(asctime)s,%(msecs)d,%(name)s,%(levelname)s,%(message)s',\n",
    "                    datefmt='%Y-%m-%d %H:%M:%S',\n",
    "                    level=logging.DEBUG)\n",
    "logger = logging.getLogger(\"Determine Discharge Status\")"
   ]
  },
  {
   "cell_type": "code",
   "execution_count": 3,
   "id": "ae4f2c6f",
   "metadata": {
    "ExecuteTime": {
     "end_time": "2023-07-20T20:28:41.742416Z",
     "start_time": "2023-07-20T20:28:41.697402Z"
    },
    "execution": {
     "iopub.execute_input": "2024-02-08T13:26:49.833766Z",
     "iopub.status.busy": "2024-02-08T13:26:49.833766Z",
     "iopub.status.idle": "2024-02-08T13:26:49.845829Z",
     "shell.execute_reply": "2024-02-08T13:26:49.845829Z"
    },
    "papermill": {
     "duration": 0.027722,
     "end_time": "2024-02-08T13:26:49.845829",
     "exception": false,
     "start_time": "2024-02-08T13:26:49.818107",
     "status": "completed"
    },
    "tags": []
   },
   "outputs": [],
   "source": [
    "def findPatientsNotSeenInaWhile(lastApptDate):\n",
    "    try:\n",
    "        if (datetime.now() - lastApptDate).days > 91:\n",
    "            if (datetime.now() - lastApptDate).days > 183:\n",
    "                return \"Hasn't been seen in 6 months\" \n",
    "            else:\n",
    "                return \"Hasn't been seen in 3 months\"\n",
    "        else:\n",
    "            return \"They've been seen in the past 3 months\" \n",
    "    except:\n",
    "        \n",
    "        return \"Never Seen\"   "
   ]
  },
  {
   "cell_type": "code",
   "execution_count": 4,
   "id": "f2969c9d",
   "metadata": {
    "ExecuteTime": {
     "end_time": "2023-07-20T20:28:41.773453Z",
     "start_time": "2023-07-20T20:28:41.744427Z"
    },
    "execution": {
     "iopub.execute_input": "2024-02-08T13:26:49.845829Z",
     "iopub.status.busy": "2024-02-08T13:26:49.845829Z",
     "iopub.status.idle": "2024-02-08T13:26:49.866718Z",
     "shell.execute_reply": "2024-02-08T13:26:49.866718Z"
    },
    "papermill": {
     "duration": 0.020889,
     "end_time": "2024-02-08T13:26:49.866718",
     "exception": false,
     "start_time": "2024-02-08T13:26:49.845829",
     "status": "completed"
    },
    "tags": []
   },
   "outputs": [],
   "source": [
    "# diff path from TestTev vs WorkingEnv\n",
    "conn = sqlite3.connect('../../InSyncConnection/Database/InSyncClinical.db')\n",
    "# cursor = conn.cursor()\n",
    "\n",
    "# printing all table names  \n",
    "# sql_query = \"\"\"SELECT name FROM sqlite_master\n",
    "#     WHERE type='table';\"\"\"\n",
    "\n",
    "# cursor.execute(sql_query)\n",
    "# print(cursor.fetchall())"
   ]
  },
  {
   "cell_type": "markdown",
   "id": "688c4d84",
   "metadata": {
    "papermill": {
     "duration": 0.0,
     "end_time": "2024-02-08T13:26:49.882425",
     "exception": false,
     "start_time": "2024-02-08T13:26:49.882425",
     "status": "completed"
    },
    "tags": []
   },
   "source": [
    "# Read in Data"
   ]
  },
  {
   "cell_type": "code",
   "execution_count": 5,
   "id": "ec441571",
   "metadata": {
    "ExecuteTime": {
     "end_time": "2023-07-20T20:28:41.820594Z",
     "start_time": "2023-07-20T20:28:41.774452Z"
    },
    "execution": {
     "iopub.execute_input": "2024-02-08T13:26:49.897996Z",
     "iopub.status.busy": "2024-02-08T13:26:49.897996Z",
     "iopub.status.idle": "2024-02-08T13:26:49.903147Z",
     "shell.execute_reply": "2024-02-08T13:26:49.903147Z"
    },
    "papermill": {
     "duration": 0.020722,
     "end_time": "2024-02-08T13:26:49.903147",
     "exception": false,
     "start_time": "2024-02-08T13:26:49.882425",
     "status": "completed"
    },
    "tags": []
   },
   "outputs": [],
   "source": [
    "testPatients = '''\n",
    "SELECT\n",
    "    MRNNumber\n",
    "FROM \n",
    "    emr_PatientDetails\n",
    "WHERE \n",
    "    LOWER(FirstName) LIKE '%test%'\n",
    "    OR LOWER(FirstName) LIKE '%patient%'\n",
    "    OR LOWER(FirstName) LIKE '%new%'\n",
    "    OR LOWER(FirstName) LIKE '%client%'\n",
    "    OR LOWER(FirstName) LIKE '%release%'\n",
    "    OR LOWER(LastName) LIKE '%test%'\n",
    "    OR LOWER(LastName) LIKE '%patient%'\n",
    "    OR LOWER(LastName) LIKE '%fake%'\n",
    "    OR CAST(MRNNumber AS INTEGER) < 53\n",
    "    OR CAST(MRNNumber AS INTEGER) = 54\n",
    "    OR CAST(MRNNumber AS INTEGER) = 141\n",
    "'''"
   ]
  },
  {
   "cell_type": "code",
   "execution_count": 6,
   "id": "e9982253",
   "metadata": {
    "ExecuteTime": {
     "end_time": "2023-07-20T20:28:42.533806Z",
     "start_time": "2023-07-20T20:28:41.821573Z"
    },
    "execution": {
     "iopub.execute_input": "2024-02-08T13:26:49.918799Z",
     "iopub.status.busy": "2024-02-08T13:26:49.918799Z",
     "iopub.status.idle": "2024-02-08T13:26:50.813296Z",
     "shell.execute_reply": "2024-02-08T13:26:50.813296Z"
    },
    "papermill": {
     "duration": 0.894497,
     "end_time": "2024-02-08T13:26:50.813296",
     "exception": false,
     "start_time": "2024-02-08T13:26:49.918799",
     "status": "completed"
    },
    "tags": []
   },
   "outputs": [],
   "source": [
    "sql=f'''\n",
    "SELECT \n",
    "    tblEncounterSummary.PatientID as PatientID,\n",
    "    emr_PatientDetails.isActive,\n",
    "    tblEncounterSummary.VisitDateTime as EncounterDate,\n",
    "    tblEncounterType.EncounterType\n",
    "FROM \n",
    "    tblEncounterSummary\n",
    "    LEFT JOIN emr_PatientDetails ON (tblEncounterSummary.patientID = emr_PatientDetails.patientID)\n",
    "    LEFT JOIN tblEncounterType ON (tblEncounterSummary.EncounterTypeID=tblEncounterType.EncounterTypeID)\n",
    "WHERE\n",
    "    emr_PatientDetails.MRNNumber NOT IN ({testPatients})\n",
    "'''\n",
    "try:\n",
    "    encounters = pd.read_sql(sql, conn)\n",
    "    logger.info(\"Successfully queried encounters\")\n",
    "except Exception as e:\n",
    "    logger.error(f\"Failed to query encounters.\", exc_info=True) \n",
    "    print(e)"
   ]
  },
  {
   "cell_type": "code",
   "execution_count": 7,
   "id": "5074b2cb",
   "metadata": {
    "ExecuteTime": {
     "end_time": "2023-07-20T20:28:43.120751Z",
     "start_time": "2023-07-20T20:28:42.534809Z"
    },
    "execution": {
     "iopub.execute_input": "2024-02-08T13:26:50.829013Z",
     "iopub.status.busy": "2024-02-08T13:26:50.829013Z",
     "iopub.status.idle": "2024-02-08T13:26:51.818165Z",
     "shell.execute_reply": "2024-02-08T13:26:51.818165Z"
    },
    "papermill": {
     "duration": 0.989152,
     "end_time": "2024-02-08T13:26:51.818165",
     "exception": false,
     "start_time": "2024-02-08T13:26:50.829013",
     "status": "completed"
    },
    "tags": []
   },
   "outputs": [],
   "source": [
    "sql=f'''\n",
    "SELECT \n",
    "    tblEncounterSummary.PatientID as PatientID,\n",
    "    tblEncounterSummary.VisitDateTime as Billable_EncounterDate,\n",
    "    tblEncounterType.EncounterType as Billable_EncounterType,\n",
    "    tblEncounterSummary.ProgramName,\n",
    "    tblFacilitiesMaster.FacilityName\n",
    "FROM \n",
    "    tblEncounterSummary\n",
    "    LEFT JOIN emr_PatientDetails ON (tblEncounterSummary.patientID = emr_PatientDetails.patientID)\n",
    "    LEFT JOIN tblEncounterType ON (tblEncounterSummary.EncounterTypeID=tblEncounterType.EncounterTypeID)\n",
    "    LEFT JOIN tblFacilitiesMaster ON (tblEncounterSummary.FacilityId=tblFacilitiesMaster.FacilityId)\n",
    "WHERE IsBillable LIKE \"%TRUE%\" \n",
    "    AND emr_PatientDetails.MRNNumber NOT IN ({testPatients})\n",
    "'''\n",
    "try:\n",
    "    billableEncounters = pd.read_sql(sql, conn)\n",
    "    logger.info(\"Successfully queried billableEncounters = pd.read_sql(sql, conn)\")\n",
    "except Exception as e:\n",
    "    logger.error(f\"Failed to query billableEncounters = pd.read_sql(sql, conn).\", exc_info=True) \n",
    "    print(e)\n"
   ]
  },
  {
   "cell_type": "markdown",
   "id": "ed777b75",
   "metadata": {
    "papermill": {
     "duration": 0.0,
     "end_time": "2024-02-08T13:26:51.818165",
     "exception": false,
     "start_time": "2024-02-08T13:26:51.818165",
     "status": "completed"
    },
    "tags": []
   },
   "source": [
    "# Transform Data"
   ]
  },
  {
   "cell_type": "markdown",
   "id": "e5819f4b",
   "metadata": {
    "tags": [
     "papermill-error-cell-tag"
    ]
   },
   "source": [
    "<span id=\"papermill-error-cell\" style=\"color:red; font-family:Helvetica Neue, Helvetica, Arial, sans-serif; font-size:2em;\">Execution using papermill encountered an exception here and stopped:</span>"
   ]
  },
  {
   "cell_type": "code",
   "execution_count": 8,
   "id": "2fdd3ea6",
   "metadata": {
    "ExecuteTime": {
     "end_time": "2023-07-20T20:29:08.442871Z",
     "start_time": "2023-07-20T20:28:43.121767Z"
    },
    "execution": {
     "iopub.execute_input": "2024-02-08T13:26:51.833827Z",
     "iopub.status.busy": "2024-02-08T13:26:51.833827Z",
     "iopub.status.idle": "2024-02-08T13:26:53.158579Z",
     "shell.execute_reply": "2024-02-08T13:26:53.158579Z"
    },
    "papermill": {
     "duration": 1.324752,
     "end_time": "2024-02-08T13:26:53.158579",
     "exception": true,
     "start_time": "2024-02-08T13:26:51.833827",
     "status": "failed"
    },
    "tags": []
   },
   "outputs": [
    {
     "ename": "ValueError",
     "evalue": "time data \"8/10/2022\" doesn't match format \"%m/%d/%Y %I:%M:%S %p\", at position 136039. You might want to try:\n    - passing `format` if your strings have a consistent format;\n    - passing `format='ISO8601'` if your strings are all ISO8601 but not necessarily in exactly the same format;\n    - passing `format='mixed'`, and the format will be inferred for each element individually. You might want to use `dayfirst` alongside this.",
     "output_type": "error",
     "traceback": [
      "\u001b[1;31m---------------------------------------------------------------------------\u001b[0m",
      "\u001b[1;31mValueError\u001b[0m                                Traceback (most recent call last)",
      "Cell \u001b[1;32mIn[8], line 2\u001b[0m\n\u001b[0;32m      1\u001b[0m \u001b[38;5;66;03m# Get last ecounter\u001b[39;00m\n\u001b[1;32m----> 2\u001b[0m encounters[\u001b[38;5;124m'\u001b[39m\u001b[38;5;124mEncounterDate\u001b[39m\u001b[38;5;124m'\u001b[39m] \u001b[38;5;241m=\u001b[39m pd\u001b[38;5;241m.\u001b[39mto_datetime(encounters[\u001b[38;5;124m'\u001b[39m\u001b[38;5;124mEncounterDate\u001b[39m\u001b[38;5;124m'\u001b[39m])\n\u001b[0;32m      3\u001b[0m encounters \u001b[38;5;241m=\u001b[39m encounters\u001b[38;5;241m.\u001b[39msort_values(by\u001b[38;5;241m=\u001b[39m\u001b[38;5;124m\"\u001b[39m\u001b[38;5;124mEncounterDate\u001b[39m\u001b[38;5;124m\"\u001b[39m)\n\u001b[0;32m      4\u001b[0m \u001b[38;5;66;03m# get last billable encounter\u001b[39;00m\n",
      "File \u001b[1;32m~\\AppData\\Local\\anaconda3\\Lib\\site-packages\\pandas\\core\\tools\\datetimes.py:1112\u001b[0m, in \u001b[0;36mto_datetime\u001b[1;34m(arg, errors, dayfirst, yearfirst, utc, format, exact, unit, infer_datetime_format, origin, cache)\u001b[0m\n\u001b[0;32m   1110\u001b[0m         result \u001b[38;5;241m=\u001b[39m arg\u001b[38;5;241m.\u001b[39mmap(cache_array)\n\u001b[0;32m   1111\u001b[0m     \u001b[38;5;28;01melse\u001b[39;00m:\n\u001b[1;32m-> 1112\u001b[0m         values \u001b[38;5;241m=\u001b[39m convert_listlike(arg\u001b[38;5;241m.\u001b[39m_values, \u001b[38;5;28mformat\u001b[39m)\n\u001b[0;32m   1113\u001b[0m         result \u001b[38;5;241m=\u001b[39m arg\u001b[38;5;241m.\u001b[39m_constructor(values, index\u001b[38;5;241m=\u001b[39marg\u001b[38;5;241m.\u001b[39mindex, name\u001b[38;5;241m=\u001b[39marg\u001b[38;5;241m.\u001b[39mname)\n\u001b[0;32m   1114\u001b[0m \u001b[38;5;28;01melif\u001b[39;00m \u001b[38;5;28misinstance\u001b[39m(arg, (ABCDataFrame, abc\u001b[38;5;241m.\u001b[39mMutableMapping)):\n",
      "File \u001b[1;32m~\\AppData\\Local\\anaconda3\\Lib\\site-packages\\pandas\\core\\tools\\datetimes.py:488\u001b[0m, in \u001b[0;36m_convert_listlike_datetimes\u001b[1;34m(arg, format, name, utc, unit, errors, dayfirst, yearfirst, exact)\u001b[0m\n\u001b[0;32m    486\u001b[0m \u001b[38;5;66;03m# `format` could be inferred, or user didn't ask for mixed-format parsing.\u001b[39;00m\n\u001b[0;32m    487\u001b[0m \u001b[38;5;28;01mif\u001b[39;00m \u001b[38;5;28mformat\u001b[39m \u001b[38;5;129;01mis\u001b[39;00m \u001b[38;5;129;01mnot\u001b[39;00m \u001b[38;5;28;01mNone\u001b[39;00m \u001b[38;5;129;01mand\u001b[39;00m \u001b[38;5;28mformat\u001b[39m \u001b[38;5;241m!=\u001b[39m \u001b[38;5;124m\"\u001b[39m\u001b[38;5;124mmixed\u001b[39m\u001b[38;5;124m\"\u001b[39m:\n\u001b[1;32m--> 488\u001b[0m     \u001b[38;5;28;01mreturn\u001b[39;00m _array_strptime_with_fallback(arg, name, utc, \u001b[38;5;28mformat\u001b[39m, exact, errors)\n\u001b[0;32m    490\u001b[0m result, tz_parsed \u001b[38;5;241m=\u001b[39m objects_to_datetime64ns(\n\u001b[0;32m    491\u001b[0m     arg,\n\u001b[0;32m    492\u001b[0m     dayfirst\u001b[38;5;241m=\u001b[39mdayfirst,\n\u001b[1;32m   (...)\u001b[0m\n\u001b[0;32m    496\u001b[0m     allow_object\u001b[38;5;241m=\u001b[39m\u001b[38;5;28;01mTrue\u001b[39;00m,\n\u001b[0;32m    497\u001b[0m )\n\u001b[0;32m    499\u001b[0m \u001b[38;5;28;01mif\u001b[39;00m tz_parsed \u001b[38;5;129;01mis\u001b[39;00m \u001b[38;5;129;01mnot\u001b[39;00m \u001b[38;5;28;01mNone\u001b[39;00m:\n\u001b[0;32m    500\u001b[0m     \u001b[38;5;66;03m# We can take a shortcut since the datetime64 numpy array\u001b[39;00m\n\u001b[0;32m    501\u001b[0m     \u001b[38;5;66;03m# is in UTC\u001b[39;00m\n",
      "File \u001b[1;32m~\\AppData\\Local\\anaconda3\\Lib\\site-packages\\pandas\\core\\tools\\datetimes.py:519\u001b[0m, in \u001b[0;36m_array_strptime_with_fallback\u001b[1;34m(arg, name, utc, fmt, exact, errors)\u001b[0m\n\u001b[0;32m    508\u001b[0m \u001b[38;5;28;01mdef\u001b[39;00m \u001b[38;5;21m_array_strptime_with_fallback\u001b[39m(\n\u001b[0;32m    509\u001b[0m     arg,\n\u001b[0;32m    510\u001b[0m     name,\n\u001b[1;32m   (...)\u001b[0m\n\u001b[0;32m    514\u001b[0m     errors: \u001b[38;5;28mstr\u001b[39m,\n\u001b[0;32m    515\u001b[0m ) \u001b[38;5;241m-\u001b[39m\u001b[38;5;241m>\u001b[39m Index:\n\u001b[0;32m    516\u001b[0m \u001b[38;5;250m    \u001b[39m\u001b[38;5;124;03m\"\"\"\u001b[39;00m\n\u001b[0;32m    517\u001b[0m \u001b[38;5;124;03m    Call array_strptime, with fallback behavior depending on 'errors'.\u001b[39;00m\n\u001b[0;32m    518\u001b[0m \u001b[38;5;124;03m    \"\"\"\u001b[39;00m\n\u001b[1;32m--> 519\u001b[0m     result, timezones \u001b[38;5;241m=\u001b[39m array_strptime(arg, fmt, exact\u001b[38;5;241m=\u001b[39mexact, errors\u001b[38;5;241m=\u001b[39merrors, utc\u001b[38;5;241m=\u001b[39mutc)\n\u001b[0;32m    520\u001b[0m     \u001b[38;5;28;01mif\u001b[39;00m \u001b[38;5;28many\u001b[39m(tz \u001b[38;5;129;01mis\u001b[39;00m \u001b[38;5;129;01mnot\u001b[39;00m \u001b[38;5;28;01mNone\u001b[39;00m \u001b[38;5;28;01mfor\u001b[39;00m tz \u001b[38;5;129;01min\u001b[39;00m timezones):\n\u001b[0;32m    521\u001b[0m         \u001b[38;5;28;01mreturn\u001b[39;00m _return_parsed_timezone_results(result, timezones, utc, name)\n",
      "File \u001b[1;32mstrptime.pyx:534\u001b[0m, in \u001b[0;36mpandas._libs.tslibs.strptime.array_strptime\u001b[1;34m()\u001b[0m\n",
      "File \u001b[1;32mstrptime.pyx:355\u001b[0m, in \u001b[0;36mpandas._libs.tslibs.strptime.array_strptime\u001b[1;34m()\u001b[0m\n",
      "\u001b[1;31mValueError\u001b[0m: time data \"8/10/2022\" doesn't match format \"%m/%d/%Y %I:%M:%S %p\", at position 136039. You might want to try:\n    - passing `format` if your strings have a consistent format;\n    - passing `format='ISO8601'` if your strings are all ISO8601 but not necessarily in exactly the same format;\n    - passing `format='mixed'`, and the format will be inferred for each element individually. You might want to use `dayfirst` alongside this."
     ]
    }
   ],
   "source": [
    "# Get last ecounter\n",
    "encounters['EncounterDate'] = pd.to_datetime(encounters['EncounterDate'])\n",
    "encounters = encounters.sort_values(by=\"EncounterDate\")\n",
    "# get last billable encounter\n",
    "billableEncounters['Billable_EncounterDate'] = pd.to_datetime(billableEncounters['Billable_EncounterDate'])\n",
    "billableEncounters = billableEncounters.sort_values(by=\"Billable_EncounterDate\")"
   ]
  },
  {
   "cell_type": "code",
   "execution_count": null,
   "id": "a361cbb6",
   "metadata": {
    "ExecuteTime": {
     "end_time": "2023-07-20T20:29:08.631478Z",
     "start_time": "2023-07-20T20:29:08.444857Z"
    },
    "papermill": {
     "duration": null,
     "end_time": null,
     "exception": null,
     "start_time": null,
     "status": "pending"
    },
    "tags": []
   },
   "outputs": [],
   "source": [
    "# get the most recent (last) encounter type, date and patient activity\n",
    "discharged = encounters.groupby(['PatientID'], as_index=False)[['EncounterType', 'EncounterDate', 'IsActive']].last()\n",
    "finalBillable = billableEncounters.groupby(['PatientID'], as_index=False)[['Billable_EncounterType', 'Billable_EncounterDate']].last()\n",
    "finalEncounterFacility = billableEncounters.groupby(['PatientID'], as_index=False)[['ProgramName', 'FacilityName']].last()"
   ]
  },
  {
   "cell_type": "code",
   "execution_count": null,
   "id": "592b5ad0",
   "metadata": {
    "ExecuteTime": {
     "end_time": "2023-07-20T20:29:08.727170Z",
     "start_time": "2023-07-20T20:29:08.634437Z"
    },
    "papermill": {
     "duration": null,
     "end_time": null,
     "exception": null,
     "start_time": null,
     "status": "pending"
    },
    "tags": []
   },
   "outputs": [],
   "source": [
    "# check if encounter type contains discharge\n",
    "discharged['is_Discharged'] = discharged['EncounterType'].map(lambda type: 1 if \"discharge\" in str(type).lower() else 0)\n",
    "# summarize last seen date\n",
    "finalBillable['seen_Recently'] = finalBillable['Billable_EncounterDate'].map(findPatientsNotSeenInaWhile)"
   ]
  },
  {
   "cell_type": "code",
   "execution_count": null,
   "id": "6ca856c8",
   "metadata": {
    "ExecuteTime": {
     "end_time": "2023-07-20T20:29:08.820156Z",
     "start_time": "2023-07-20T20:29:08.728131Z"
    },
    "papermill": {
     "duration": null,
     "end_time": null,
     "exception": null,
     "start_time": null,
     "status": "pending"
    },
    "tags": []
   },
   "outputs": [],
   "source": [
    "finalPatientStatus = discharged.merge(finalBillable, how='left', on='PatientID').merge(finalEncounterFacility, how='left', on='PatientID')"
   ]
  },
  {
   "cell_type": "code",
   "execution_count": null,
   "id": "2a89bf52",
   "metadata": {
    "ExecuteTime": {
     "end_time": "2023-07-20T20:29:08.836191Z",
     "start_time": "2023-07-20T20:29:08.821114Z"
    },
    "papermill": {
     "duration": null,
     "end_time": null,
     "exception": null,
     "start_time": null,
     "status": "pending"
    },
    "tags": []
   },
   "outputs": [],
   "source": [
    "# rename columns to be more explicit\n",
    "finalPatientStatus.columns = ['PatientID', \n",
    "                      'finalEncounterType', \n",
    "                      'finalEncounterDate', \n",
    "                      'is_ActiveInInSync',\n",
    "                      'is_lastEncounterDischarge',\n",
    "                      'lastBillable_EncounterType',\n",
    "                      'lastBillable_EncounterDate',\n",
    "                      'seen_Recently',\n",
    "                      'lastBillable_ProgramName',\n",
    "                      'lastBillable_FacilityName']\n",
    "#reorder the columns\n",
    "finalPatientStatus =    finalPatientStatus[['PatientID', \n",
    "                      'finalEncounterType', \n",
    "                      'finalEncounterDate', \n",
    "                      'is_ActiveInInSync',\n",
    "                      'is_lastEncounterDischarge',\n",
    "                      'lastBillable_EncounterType',\n",
    "                      'lastBillable_EncounterDate',\n",
    "                      'lastBillable_ProgramName',\n",
    "                      'lastBillable_FacilityName',\n",
    "                      'seen_Recently']       ]"
   ]
  },
  {
   "cell_type": "code",
   "execution_count": null,
   "id": "27a5ef5a",
   "metadata": {
    "ExecuteTime": {
     "end_time": "2023-07-20T20:29:08.897582Z",
     "start_time": "2023-07-20T20:29:08.837827Z"
    },
    "papermill": {
     "duration": null,
     "end_time": null,
     "exception": null,
     "start_time": null,
     "status": "pending"
    },
    "tags": []
   },
   "outputs": [],
   "source": [
    "finalPatientStatus[finalPatientStatus['PatientID'] == 622719]"
   ]
  },
  {
   "cell_type": "markdown",
   "id": "cf662992",
   "metadata": {
    "papermill": {
     "duration": null,
     "end_time": null,
     "exception": null,
     "start_time": null,
     "status": "pending"
    },
    "tags": []
   },
   "source": [
    "## Manual Line\n",
    "- The code below is used to help with writing the proper SQL Create table query below"
   ]
  },
  {
   "cell_type": "code",
   "execution_count": null,
   "id": "8d4851d3",
   "metadata": {
    "ExecuteTime": {
     "end_time": "2023-07-20T20:29:08.929640Z",
     "start_time": "2023-07-20T20:29:08.899587Z"
    },
    "papermill": {
     "duration": null,
     "end_time": null,
     "exception": null,
     "start_time": null,
     "status": "pending"
    },
    "tags": []
   },
   "outputs": [],
   "source": [
    "# use to transform data into\n",
    "\", \".join([item + \" \" + str(finalPatientStatus[item].dtype) for item in finalPatientStatus.columns])"
   ]
  },
  {
   "cell_type": "markdown",
   "id": "a3728982",
   "metadata": {
    "papermill": {
     "duration": null,
     "end_time": null,
     "exception": null,
     "start_time": null,
     "status": "pending"
    },
    "tags": []
   },
   "source": [
    "# Push Data to Table"
   ]
  },
  {
   "cell_type": "code",
   "execution_count": null,
   "id": "c6382e98",
   "metadata": {
    "ExecuteTime": {
     "end_time": "2023-07-20T20:29:09.382644Z",
     "start_time": "2023-07-20T20:29:08.931643Z"
    },
    "papermill": {
     "duration": null,
     "end_time": null,
     "exception": null,
     "start_time": null,
     "status": "pending"
    },
    "tags": []
   },
   "outputs": [],
   "source": [
    "table_name= \"ptPatient_Activity\"\n",
    "try:\n",
    "    c = conn.cursor()\n",
    "    c.execute(f'''CREATE TABLE IF NOT EXISTS {table_name} (PatientID INTEGER, finalEncounterType TEXT, finalEncounterDate TEXT, is_ActiveInInSync INTEGER, is_lastEncounterDischarge INTEGER, lastBillable_EncounterType TEXT, lastBillable_EncounterDate TEXT, lastBillable_ProgramName TEXT, lastBillable_FacilityName TEXT, seen_Recently TEXT) ''')\n",
    "    conn.commit()\n",
    "    finalPatientStatus.to_sql(\"ptPatient_Activity\", conn, if_exists='replace', index = False)\n",
    "    logger.info(f\"Successfully pushed {table_name} to database.\")            \n",
    "except Exception as e:\n",
    "    logger.error(f\"Failed to push {table_name} to database.\", exc_info=True) \n",
    "    print(e)"
   ]
  },
  {
   "cell_type": "code",
   "execution_count": null,
   "id": "87c9df31",
   "metadata": {
    "ExecuteTime": {
     "end_time": "2023-07-20T20:29:09.429598Z",
     "start_time": "2023-07-20T20:29:09.383634Z"
    },
    "papermill": {
     "duration": null,
     "end_time": null,
     "exception": null,
     "start_time": null,
     "status": "pending"
    },
    "tags": []
   },
   "outputs": [],
   "source": [
    "conn.close()"
   ]
  }
 ],
 "metadata": {
  "kernelspec": {
   "display_name": "Python 3 (ipykernel)",
   "language": "python",
   "name": "python3"
  },
  "language_info": {
   "codemirror_mode": {
    "name": "ipython",
    "version": 3
   },
   "file_extension": ".py",
   "mimetype": "text/x-python",
   "name": "python",
   "nbconvert_exporter": "python",
   "pygments_lexer": "ipython3",
   "version": "3.11.5"
  },
  "papermill": {
   "default_parameters": {},
   "duration": 6.133292,
   "end_time": "2024-02-08T13:26:53.518067",
   "environment_variables": {},
   "exception": true,
   "input_path": "DetermineDischargeStatus.ipynb",
   "output_path": "snapshots/DetermineDischargeStatus.ipynb",
   "parameters": {},
   "start_time": "2024-02-08T13:26:47.384775",
   "version": "2.4.0"
  },
  "toc": {
   "base_numbering": 1,
   "nav_menu": {},
   "number_sections": true,
   "sideBar": true,
   "skip_h1_title": false,
   "title_cell": "Table of Contents",
   "title_sidebar": "Contents",
   "toc_cell": false,
   "toc_position": {},
   "toc_section_display": true,
   "toc_window_display": true
  },
  "varInspector": {
   "cols": {
    "lenName": 16,
    "lenType": 16,
    "lenVar": 40
   },
   "kernels_config": {
    "python": {
     "delete_cmd_postfix": "",
     "delete_cmd_prefix": "del ",
     "library": "var_list.py",
     "varRefreshCmd": "print(var_dic_list())"
    },
    "r": {
     "delete_cmd_postfix": ") ",
     "delete_cmd_prefix": "rm(",
     "library": "var_list.r",
     "varRefreshCmd": "cat(var_dic_list()) "
    }
   },
   "types_to_exclude": [
    "module",
    "function",
    "builtin_function_or_method",
    "instance",
    "_Feature"
   ],
   "window_display": false
  }
 },
 "nbformat": 4,
 "nbformat_minor": 5
}