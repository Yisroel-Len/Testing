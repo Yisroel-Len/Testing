{
 "cells": [
  {
   "cell_type": "code",
   "execution_count": 1,
   "id": "cdbee8e8",
   "metadata": {
    "ExecuteTime": {
     "end_time": "2024-09-17T18:50:53.692673Z",
     "start_time": "2024-09-17T18:50:52.832158Z"
    },
    "execution": {
     "iopub.execute_input": "2025-01-27T13:01:19.810772Z",
     "iopub.status.busy": "2025-01-27T13:01:19.810274Z",
     "iopub.status.idle": "2025-01-27T13:01:20.446283Z",
     "shell.execute_reply": "2025-01-27T13:01:20.445779Z"
    },
    "papermill": {
     "duration": 0.6405,
     "end_time": "2025-01-27T13:01:20.447783",
     "exception": false,
     "start_time": "2025-01-27T13:01:19.807283",
     "status": "completed"
    },
    "tags": []
   },
   "outputs": [],
   "source": [
    "import pandas as pd\n",
    "import datetime\n",
    "from dateutil.relativedelta import relativedelta\n",
    "# from datetime import datetime\n",
    "import sqlite3\n",
    "from sqlalchemy import create_engine"
   ]
  },
  {
   "cell_type": "code",
   "execution_count": 2,
   "id": "760a2fc3",
   "metadata": {
    "ExecuteTime": {
     "end_time": "2024-09-17T19:14:29.325156Z",
     "start_time": "2024-09-17T19:14:29.317644Z"
    },
    "execution": {
     "iopub.execute_input": "2025-01-27T13:01:20.454283Z",
     "iopub.status.busy": "2025-01-27T13:01:20.453782Z",
     "iopub.status.idle": "2025-01-27T13:01:20.457784Z",
     "shell.execute_reply": "2025-01-27T13:01:20.457283Z"
    },
    "papermill": {
     "duration": 0.00801,
     "end_time": "2025-01-27T13:01:20.458784",
     "exception": false,
     "start_time": "2025-01-27T13:01:20.450774",
     "status": "completed"
    },
    "tags": []
   },
   "outputs": [],
   "source": [
    "import sys\n",
    "import logging\n",
    "path = r\"..\\..\\Logs\\clinical_log.log\"\n",
    "logging.basicConfig(filename=path,\n",
    "                    filemode='a',\n",
    "                    format='%(asctime)s,%(msecs)d,%(name)s,%(levelname)s,%(message)s',\n",
    "                    datefmt='%Y-%m-%d %H:%M:%S',\n",
    "                    level=logging.DEBUG)\n",
    "logger = logging.getLogger(\"WorkedOnClaims\")"
   ]
  },
  {
   "cell_type": "code",
   "execution_count": 3,
   "id": "1a8cd7d0",
   "metadata": {
    "ExecuteTime": {
     "end_time": "2024-09-17T18:50:54.268540Z",
     "start_time": "2024-09-17T18:50:53.707812Z"
    },
    "execution": {
     "iopub.execute_input": "2025-01-27T13:01:20.464273Z",
     "iopub.status.busy": "2025-01-27T13:01:20.464273Z",
     "iopub.status.idle": "2025-01-27T13:01:20.486782Z",
     "shell.execute_reply": "2025-01-27T13:01:20.486283Z"
    },
    "papermill": {
     "duration": 0.026496,
     "end_time": "2025-01-27T13:01:20.487779",
     "exception": false,
     "start_time": "2025-01-27T13:01:20.461283",
     "status": "completed"
    },
    "tags": []
   },
   "outputs": [],
   "source": [
    "conn = create_engine(r'mssql+pyodbc://@PYTHONSERVER\\SQLEXPRESS/InSync?driver=ODBC+Driver+17+for+SQL+Server&trusted_connection=yes', fast_executemany=True)"
   ]
  },
  {
   "cell_type": "markdown",
   "id": "ad7f5158-4ba5-480f-bf49-c7fca8943011",
   "metadata": {
    "papermill": {
     "duration": 0.002005,
     "end_time": "2025-01-27T13:01:20.492277",
     "exception": false,
     "start_time": "2025-01-27T13:01:20.490272",
     "status": "completed"
    },
    "tags": []
   },
   "source": [
    "# To do\n",
    "Need to fix merge so that it uses a combination of claim number and line-item"
   ]
  },
  {
   "cell_type": "code",
   "execution_count": 4,
   "id": "71e1ace9",
   "metadata": {
    "ExecuteTime": {
     "end_time": "2024-09-17T18:51:12.430247Z",
     "start_time": "2024-09-17T18:50:54.272285Z"
    },
    "execution": {
     "iopub.execute_input": "2025-01-27T13:01:20.497282Z",
     "iopub.status.busy": "2025-01-27T13:01:20.497282Z",
     "iopub.status.idle": "2025-01-27T13:01:30.213783Z",
     "shell.execute_reply": "2025-01-27T13:01:30.213282Z"
    },
    "papermill": {
     "duration": 9.720497,
     "end_time": "2025-01-27T13:01:30.214779",
     "exception": false,
     "start_time": "2025-01-27T13:01:20.494282",
     "status": "completed"
    },
    "tags": []
   },
   "outputs": [],
   "source": [
    "try:\n",
    "    logger.info(\"Creating a dataframe from tblPayment table as well as other tables \")\n",
    "    sql = '''\n",
    "    SELECT\n",
    "        ClaimNo,\n",
    "        tblPayment.CreatedOn,\n",
    "        tblPayment.CreatedBy,\n",
    "        tblResourceDetails1.FullName,\n",
    "        DOSFrom\n",
    "    FROM \n",
    "        tblPayment\n",
    "        LEFT JOIN tblChargeDetails ON (tblChargeDetails.ChargeID=tblPayment.ClaimNo)\n",
    "        LEFT JOIN tblUser ON (tblPayment.CreatedBy=tblUser.UserID)\n",
    "        LEFT JOIN \n",
    "        (SELECT   \n",
    "            DISTINCT(UserID), \n",
    "            FullName\n",
    "        FROM \n",
    "            tblResourceDetails) \n",
    "        tblResourceDetails1 ON (tblUser.Userid=tblResourceDetails1.Userid)\n",
    "    '''\n",
    "    payment_df = pd.read_sql(sql, conn)\n",
    "    logger.info(\"Successfully created a dataframe from tblPayment table\")\n",
    "    payment_df['CreatedOn'] = pd.to_datetime(payment_df['CreatedOn'])\n",
    "    payment_df['DOSFrom'] = pd.to_datetime(payment_df['DOSFrom'])\n",
    "    # in order to merge the payment and submissions dataframes on the claimNo, we need to make sure they're sorted the same \n",
    "    # otherwise createdon dates and submission dates won't match up \n",
    "    payment_df = payment_df.sort_values(by=['ClaimNo', 'CreatedOn'], ascending=[True, False])\n",
    "except Exception as e:\n",
    "    print(e)\n",
    "    logger.error(\"Failed to create a dataframe from tblPayment table\")     "
   ]
  },
  {
   "cell_type": "code",
   "execution_count": 5,
   "id": "b74afcc1",
   "metadata": {
    "ExecuteTime": {
     "end_time": "2024-09-17T18:51:15.565408Z",
     "start_time": "2024-09-17T18:51:12.437501Z"
    },
    "execution": {
     "iopub.execute_input": "2025-01-27T13:01:30.222286Z",
     "iopub.status.busy": "2025-01-27T13:01:30.221784Z",
     "iopub.status.idle": "2025-01-27T13:01:32.162774Z",
     "shell.execute_reply": "2025-01-27T13:01:32.161773Z"
    },
    "papermill": {
     "duration": 1.946005,
     "end_time": "2025-01-27T13:01:32.164279",
     "exception": false,
     "start_time": "2025-01-27T13:01:30.218274",
     "status": "completed"
    },
    "tags": []
   },
   "outputs": [],
   "source": [
    "try:\n",
    "    logger.info(\"Creating a dataframe from tblClaimSubmission\")\n",
    "    sql = '''\n",
    "    SELECT\n",
    "        ClaimNumber as ClaimNo,\n",
    "        SubmissionDate\n",
    "    FROM \n",
    "        tblClaimSubmission\n",
    "    '''\n",
    "    submissions = pd.read_sql(sql, conn)\n",
    "    logger.info(\"Successfully created a dataframe from tblClaimSubmission\")\n",
    "    submissions['SubmissionDate'] = pd.to_datetime(submissions['SubmissionDate'])\n",
    "    # in order to merge the payment and submissions dataframes on the claimNo, we need to make sure they're sorted the same \n",
    "    # otherwise createdon dates and submission dates won't match up \n",
    "    submissions = submissions.sort_values(by=['ClaimNo', 'SubmissionDate'], ascending=[True, False])\n",
    "except Exception as e:\n",
    "    print(e)\n",
    "    logger.error(\"Failed to create a dataframe from tblClaimSubmission table\")"
   ]
  },
  {
   "cell_type": "code",
   "execution_count": 6,
   "id": "73332894",
   "metadata": {
    "ExecuteTime": {
     "end_time": "2024-09-17T18:51:16.263141Z",
     "start_time": "2024-09-17T18:51:15.568413Z"
    },
    "execution": {
     "iopub.execute_input": "2025-01-27T13:01:32.171273Z",
     "iopub.status.busy": "2025-01-27T13:01:32.170774Z",
     "iopub.status.idle": "2025-01-27T13:01:32.744283Z",
     "shell.execute_reply": "2025-01-27T13:01:32.743780Z"
    },
    "papermill": {
     "duration": 0.578495,
     "end_time": "2025-01-27T13:01:32.745774",
     "exception": false,
     "start_time": "2025-01-27T13:01:32.167279",
     "status": "completed"
    },
    "tags": []
   },
   "outputs": [],
   "source": [
    "try:\n",
    "    logger.info(\"Merging payment_df and submissions dataframes\")\n",
    "    payment_df = payment_df.merge(submissions, how='left', on='ClaimNo', validate='m:m')\n",
    "    logger.info(\"Successfully merged payment_df and submissions dataframes\")\n",
    "except Exception as e:\n",
    "    print(e)\n",
    "    logger.error(\"Failed to merge payment_df and submissions dataframes\")    "
   ]
  },
  {
   "cell_type": "code",
   "execution_count": 7,
   "id": "f6a773c8",
   "metadata": {
    "ExecuteTime": {
     "end_time": "2024-09-17T18:51:25.703917Z",
     "start_time": "2024-09-17T18:51:16.265267Z"
    },
    "execution": {
     "iopub.execute_input": "2025-01-27T13:01:32.752785Z",
     "iopub.status.busy": "2025-01-27T13:01:32.752277Z",
     "iopub.status.idle": "2025-01-27T13:01:33.251774Z",
     "shell.execute_reply": "2025-01-27T13:01:33.251283Z"
    },
    "papermill": {
     "duration": 0.504998,
     "end_time": "2025-01-27T13:01:33.253782",
     "exception": false,
     "start_time": "2025-01-27T13:01:32.748784",
     "status": "completed"
    },
    "tags": []
   },
   "outputs": [],
   "source": [
    "try:\n",
    "    logger.info(\"Creating a dataframe from tblPaymentDetails table and tblPaymentTransactionTypes table\")\n",
    "    sql = '''\n",
    "    SELECT\n",
    "        ClaimNo,\n",
    "        DisplayName as HadDenial\n",
    "    FROM \n",
    "        tblPaymentDetails\n",
    "        LEFT JOIN tblPaymentTransactionTypes ON (tblPaymentDetails.TransactionType=tblPaymentTransactionTypes.TransactionType)\n",
    "    WHERE \n",
    "        DisplayName = 'Denial'\n",
    "    '''\n",
    "    denials = pd.read_sql(sql, conn)\n",
    "    logger.info(\"Successfully created a dataframe from tblPaymentDetails table and tblPaymentTransactionTypes table\")\n",
    "    denials = denials.drop_duplicates('ClaimNo')\n",
    "except Exception as e:\n",
    "    print(e)\n",
    "    logger.error(\"Failed to create a dataframe from tblPaymentDetails table and tblPaymentTransactionTypes table\")"
   ]
  },
  {
   "cell_type": "code",
   "execution_count": 8,
   "id": "e70314fc",
   "metadata": {
    "ExecuteTime": {
     "end_time": "2024-09-17T18:51:25.901455Z",
     "start_time": "2024-09-17T18:51:25.711076Z"
    },
    "execution": {
     "iopub.execute_input": "2025-01-27T13:01:33.260284Z",
     "iopub.status.busy": "2025-01-27T13:01:33.259795Z",
     "iopub.status.idle": "2025-01-27T13:01:33.437284Z",
     "shell.execute_reply": "2025-01-27T13:01:33.436783Z"
    },
    "papermill": {
     "duration": 0.182,
     "end_time": "2025-01-27T13:01:33.438784",
     "exception": false,
     "start_time": "2025-01-27T13:01:33.256784",
     "status": "completed"
    },
    "tags": []
   },
   "outputs": [],
   "source": [
    "try:\n",
    "    logger.info(\"Filtering payment_df for payments that have a denial\")\n",
    "    # did payment have a denial\n",
    "    payment_df = payment_df[payment_df[\"ClaimNo\"].isin(denials['ClaimNo'])].copy()\n",
    "    logger.info(\"Successfully filtered payment_df for payments that have a denial\")\n",
    "except Exception as e:\n",
    "    print(e)\n",
    "    logger.error(\"Failed to filter payment_df for payments that have a denial\")"
   ]
  },
  {
   "cell_type": "markdown",
   "id": "0b91f31c",
   "metadata": {
    "papermill": {
     "duration": 0.002508,
     "end_time": "2025-01-27T13:01:33.444283",
     "exception": false,
     "start_time": "2025-01-27T13:01:33.441775",
     "status": "completed"
    },
    "tags": []
   },
   "source": [
    "The below code could be improved with a groupby statement"
   ]
  },
  {
   "cell_type": "code",
   "execution_count": 9,
   "id": "b9d25a36",
   "metadata": {
    "ExecuteTime": {
     "end_time": "2024-09-17T18:51:26.028811Z",
     "start_time": "2024-09-17T18:51:25.904479Z"
    },
    "execution": {
     "iopub.execute_input": "2025-01-27T13:01:33.449786Z",
     "iopub.status.busy": "2025-01-27T13:01:33.449284Z",
     "iopub.status.idle": "2025-01-27T13:01:33.514783Z",
     "shell.execute_reply": "2025-01-27T13:01:33.514273Z"
    },
    "papermill": {
     "duration": 0.070012,
     "end_time": "2025-01-27T13:01:33.516286",
     "exception": false,
     "start_time": "2025-01-27T13:01:33.446274",
     "status": "completed"
    },
    "tags": []
   },
   "outputs": [],
   "source": [
    "try:\n",
    "    # Filtering payment_df for payments that have a denial\n",
    "    # Denials that weren’t worked on have a submission date prior to their most recent entered on date and the created by user is not the system (user id -99)\n",
    "    payment_df.sort_values(by='SubmissionDate', inplace=True, ascending=False)\n",
    "    # Most recent Entered On \n",
    "    mostRecentPayment = payment_df.drop_duplicates(\"ClaimNo\", keep='first').copy()\n",
    "    mostRecentPayment['WorkedOn'] = (mostRecentPayment['SubmissionDate'] > mostRecentPayment['CreatedOn']) & (mostRecentPayment['CreatedBy'] != -99)\n",
    "    # mostRecentPayment['WorkedOn'] = mostRecentPayment.apply(lambda row: False if row['CreatedBy'] == -99 else row['WorkedOn'], axis=1)\n",
    "    logger.info(\"Successfully filtered payment_df for payments that have a denial\")\n",
    "except Exception as e:\n",
    "    print(e)\n",
    "    logger.error(\"Failed to Filter payment_df for payments that have a denial\")"
   ]
  },
  {
   "cell_type": "code",
   "execution_count": 10,
   "id": "994afa7a",
   "metadata": {
    "ExecuteTime": {
     "end_time": "2024-09-17T18:51:26.041110Z",
     "start_time": "2024-09-17T18:51:26.033376Z"
    },
    "execution": {
     "iopub.execute_input": "2025-01-27T13:01:33.522287Z",
     "iopub.status.busy": "2025-01-27T13:01:33.521784Z",
     "iopub.status.idle": "2025-01-27T13:01:33.526285Z",
     "shell.execute_reply": "2025-01-27T13:01:33.525785Z"
    },
    "papermill": {
     "duration": 0.008505,
     "end_time": "2025-01-27T13:01:33.527283",
     "exception": false,
     "start_time": "2025-01-27T13:01:33.518778",
     "status": "completed"
    },
    "tags": []
   },
   "outputs": [],
   "source": [
    "try:\n",
    "    logger.info(\"Creating a new column NeedsWork for claims that need to be worked on\")\n",
    "    # They need to be worked on if they haven't yet been worked on. So \"needs to be\" is the inverse of WorkedOn\n",
    "    logger.info(\"Successfully created a new column NeedsWork for claims that need to be worked on\")\n",
    "    mostRecentPayment['NeedsWork'] = ~mostRecentPayment['WorkedOn']\n",
    "except Exception as e:\n",
    "    print(e)    \n",
    "    logger.error(\"Failed to create a new column NeedsWork for claims that need to be worked on\")    "
   ]
  },
  {
   "cell_type": "code",
   "execution_count": 11,
   "id": "8ec46ffe-293e-47ca-9fb9-2ac9b763e1b9",
   "metadata": {
    "execution": {
     "iopub.execute_input": "2025-01-27T13:01:33.533284Z",
     "iopub.status.busy": "2025-01-27T13:01:33.532787Z",
     "iopub.status.idle": "2025-01-27T13:01:33.896275Z",
     "shell.execute_reply": "2025-01-27T13:01:33.895782Z"
    },
    "papermill": {
     "duration": 0.368009,
     "end_time": "2025-01-27T13:01:33.897783",
     "exception": false,
     "start_time": "2025-01-27T13:01:33.529774",
     "status": "completed"
    },
    "tags": []
   },
   "outputs": [],
   "source": [
    "try:\n",
    "    logger.info(\"Adding/replacing columns in ptWorkedOnDenials with columns from workedOnDF dataframe\")\n",
    "    workedOnDf = mostRecentPayment[['ClaimNo', 'NeedsWork']].copy()\n",
    "    workedOnDf['NeedsWork'] = workedOnDf['NeedsWork'].astype(str)\n",
    "    workedOnDf['ClaimNo'] = workedOnDf['ClaimNo'].astype(str)\n",
    "    workedOnDf.to_sql(\"ptWorkedOnDenials\",conn, if_exists=\"replace\", index=False)\n",
    "    logger.info(\"Success in Adding/replacing columns in ptWorkedOnDenials with columns from workedOnDF dataframe\")\n",
    "except Exception as e:\n",
    "    print(e)\n",
    "    logger.error(\"Failed in Adding/replacing columns in ptWorkedOnDenials with columns from workedOnDF dataframe\")"
   ]
  }
 ],
 "metadata": {
  "kernelspec": {
   "display_name": "Python 3",
   "language": "python",
   "name": "python3"
  },
  "language_info": {
   "codemirror_mode": {
    "name": "ipython",
    "version": 3
   },
   "file_extension": ".py",
   "mimetype": "text/x-python",
   "name": "python",
   "nbconvert_exporter": "python",
   "pygments_lexer": "ipython3",
   "version": "3.12.4"
  },
  "papermill": {
   "default_parameters": {},
   "duration": 16.60499,
   "end_time": "2025-01-27T13:01:34.225775",
   "environment_variables": {},
   "exception": null,
   "input_path": "workedOnClaims SQL Express.ipynb",
   "output_path": "snapshots/workedOnClaims SQL Express.ipynb",
   "parameters": {},
   "start_time": "2025-01-27T13:01:17.620785",
   "version": "2.6.0"
  },
  "toc": {
   "base_numbering": 1,
   "nav_menu": {},
   "number_sections": true,
   "sideBar": true,
   "skip_h1_title": false,
   "title_cell": "Table of Contents",
   "title_sidebar": "Contents",
   "toc_cell": false,
   "toc_position": {},
   "toc_section_display": true,
   "toc_window_display": false
  },
  "varInspector": {
   "cols": {
    "lenName": 16,
    "lenType": 16,
    "lenVar": 40
   },
   "kernels_config": {
    "python": {
     "delete_cmd_postfix": "",
     "delete_cmd_prefix": "del ",
     "library": "var_list.py",
     "varRefreshCmd": "print(var_dic_list())"
    },
    "r": {
     "delete_cmd_postfix": ") ",
     "delete_cmd_prefix": "rm(",
     "library": "var_list.r",
     "varRefreshCmd": "cat(var_dic_list()) "
    }
   },
   "types_to_exclude": [
    "module",
    "function",
    "builtin_function_or_method",
    "instance",
    "_Feature"
   ],
   "window_display": false
  }
 },
 "nbformat": 4,
 "nbformat_minor": 5
}