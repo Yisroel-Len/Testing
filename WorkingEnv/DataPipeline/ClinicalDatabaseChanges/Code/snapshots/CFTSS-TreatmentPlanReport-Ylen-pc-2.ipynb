{
 "cells": [
  {
   "cell_type": "code",
   "execution_count": null,
   "id": "d8f8dff2",
   "metadata": {
    "ExecuteTime": {
     "end_time": "2023-06-19T17:12:04.693955Z",
     "start_time": "2023-06-19T17:12:03.745305Z"
    },
    "execution": {
     "iopub.execute_input": "2023-09-20T11:19:00.310522Z",
     "iopub.status.busy": "2023-09-20T11:19:00.310522Z",
     "iopub.status.idle": "2023-09-20T11:19:00.773627Z",
     "shell.execute_reply": "2023-09-20T11:19:00.773627Z"
    },
    "papermill": {
     "duration": null,
     "end_time": null,
     "exception": null,
     "start_time": null,
     "status": "pending"
    },
    "tags": []
   },
   "outputs": [],
   "source": [
    "import pandas as pd\n",
    "import numpy as np\n",
    "import pyodbc\n",
    "import time\n",
    "from datetime import datetime, timedelta\n",
    "from dateutil.relativedelta import relativedelta\n",
    "from datetime import date\n",
    "import tkinter as tk\n",
    "from tkinter.filedialog import askopenfilename\n",
    "import sqlite3"
   ]
  },
  {
   "cell_type": "code",
   "execution_count": null,
   "id": "8523fff1",
   "metadata": {
    "execution": {
     "iopub.execute_input": "2023-09-20T11:19:00.786609Z",
     "iopub.status.busy": "2023-09-20T11:19:00.785607Z",
     "iopub.status.idle": "2023-09-20T11:19:00.804618Z",
     "shell.execute_reply": "2023-09-20T11:19:00.804618Z"
    },
    "papermill": {
     "duration": null,
     "end_time": null,
     "exception": null,
     "start_time": null,
     "status": "pending"
    },
    "tags": []
   },
   "outputs": [],
   "source": [
    "conn = sqlite3.connect('../../InSyncConnection/Database/InSyncClinical.db')"
   ]
  },
  {
   "cell_type": "code",
   "execution_count": null,
   "id": "ee5efcdb",
   "metadata": {
    "papermill": {
     "duration": null,
     "end_time": null,
     "exception": null,
     "start_time": null,
     "status": "pending"
    },
    "tags": []
   },
   "outputs": [],
   "source": [
    "import sys\n",
    "import logging\n",
    "path = \"..\\..\\InSyncConnection\\Code\\clinical_log.txt\"\n",
    "logging.basicConfig(filename=path,\n",
    "                    filemode='a',\n",
    "                    format='%(asctime)s,%(msecs)d,%(name)s,%(levelname)s,%(message)s',\n",
    "                    datefmt='%Y-%m-%d %H:%M:%S',\n",
    "                    level=logging.DEBUG)\n",
    "logger = logging.getLogger(\"CFTSS-TreatmentPlanReport\")"
   ]
  },
  {
   "cell_type": "markdown",
   "id": "0776aa02",
   "metadata": {
    "papermill": {
     "duration": null,
     "end_time": null,
     "exception": null,
     "start_time": null,
     "status": "pending"
    },
    "tags": []
   },
   "source": [
    "# Notes\n",
    "- Make sure that due dates are not calculated by time\n",
    "- If there are two initial treatment plans go by the second one.\n",
    "- Number of patients missing intial treatment plan should check if patient was seen recently rather than admitted"
   ]
  },
  {
   "cell_type": "code",
   "execution_count": null,
   "id": "724d1dff",
   "metadata": {
    "execution": {
     "iopub.execute_input": "2023-09-20T11:19:00.825609Z",
     "iopub.status.busy": "2023-09-20T11:19:00.825609Z",
     "iopub.status.idle": "2023-09-20T11:19:01.043053Z",
     "shell.execute_reply": "2023-09-20T11:19:01.040048Z"
    },
    "papermill": {
     "duration": null,
     "end_time": null,
     "exception": null,
     "start_time": null,
     "status": "pending"
    },
    "tags": []
   },
   "outputs": [],
   "source": [
    "try:\n",
    "    sql='''\n",
    "    SELECT \n",
    "        ptPatient_Activity.*,\n",
    "        MRNNumber,\n",
    "        LastName || ', ' || FirstName as patient_fullName,\n",
    "        DOB,\n",
    "        FacilityName AS 'Primary Facility'\n",
    "    FROM \n",
    "        ptPatient_Activity\n",
    "        LEFT JOIN emr_PatientDetails ON (ptPatient_Activity.PatientID=emr_PatientDetails.PatientID)\n",
    "        LEFT JOIN emr_FacilitiesDetails ON (emr_PatientDetails._PrimaryFacility = emr_FacilitiesDetails.FacilityId)\n",
    "    '''\n",
    "    patientDetails = pd.read_sql(sql, conn)\n",
    "    patientDetails = patientDetails.replace(\"\", np.nan)\n",
    "    patientDetails['DOB'] =pd.to_datetime(patientDetails['DOB'])\n",
    "    logger.info(f\"Successfully queried ptPatient_Activity.\")\n",
    "except Exception as e:\n",
    "    logger.error(f\"Failed to query ptPatient_Activity.\", exc_info=True) "
   ]
  },
  {
   "cell_type": "code",
   "execution_count": null,
   "id": "eb9789c8",
   "metadata": {
    "execution": {
     "iopub.execute_input": "2023-09-20T11:19:01.060044Z",
     "iopub.status.busy": "2023-09-20T11:19:01.060044Z",
     "iopub.status.idle": "2023-09-20T11:19:12.924995Z",
     "shell.execute_reply": "2023-09-20T11:19:12.924200Z"
    },
    "papermill": {
     "duration": null,
     "end_time": null,
     "exception": null,
     "start_time": null,
     "status": "pending"
    },
    "tags": []
   },
   "outputs": [],
   "source": [
    "try:\n",
    "    sql='''\n",
    "    SELECT \n",
    "        tblEncounterSummary.PatientId as PatientID,\n",
    "        tblEncounterSummary.EncounterID, \n",
    "        tblResourceDetails.FullName as ProviderName,\n",
    "        tblEncounter.EndDate,\n",
    "        VisitDateTime as EncounterDate,\n",
    "        EncounterEndDateTimeToolTip,\n",
    "        EncounterStartDateTimeToolTip,\n",
    "        FacilityName,\n",
    "        tblEncounterType.EncounterType,\n",
    "        EncounterOpenClosed,\n",
    "        ProgramName,\n",
    "        closedByLastName || ', ' || closedByFirstName AS closedByFullName\n",
    "    FROM \n",
    "        tblEncounterSummary\n",
    "        LEFT JOIN emr_FacilitiesDetails ON (tblEncounterSummary.FacilityId = emr_FacilitiesDetails.FacilityId)\n",
    "        LEFT JOIN tblEncounterEndDetails ON (tblEncounterSummary.EncounterID = tblEncounterEndDetails.EncounterID)\n",
    "        INNER JOIN tblEncounter ON (tblEncounterSummary.EncounterID = tblEncounter.EncounterID)\n",
    "        LEFT JOIN tblEncounterType ON (tblEncounterSummary.EncounterTypeID = tblEncounterType.EncounterTypeID)\n",
    "        LEFT JOIN tblResourceDetails ON (tblEncounterSummary.ProviderId = tblResourceDetails.ResourceId)\n",
    "    WHERE (tblEncounterType.EncounterType LIKE \"%treatment%\"\n",
    "        OR tblEncounterType.EncounterType LIKE \"%transfer%\"\n",
    "        OR tblEncounterType.EncounterType LIKE \"%admission%\"\n",
    "        OR tblEncounterType.EncounterType LIKE \"%discharge%\")\n",
    "        AND tblEncounterType.EncounterType LIKE \"%CFTSS%\"\n",
    "    '''\n",
    "    treatmentPlanEncounters = pd.read_sql(sql, conn)\n",
    "    treatmentPlanEncounters = treatmentPlanEncounters.replace(\"\", np.nan)\n",
    "    treatmentPlanEncounters['EncounterDate'] = pd.to_datetime(treatmentPlanEncounters['EncounterDate'])\n",
    "    treatmentPlanEncounters['EndDate'] = pd.to_datetime(treatmentPlanEncounters['EndDate'])\n",
    "    # Remove the word time: from column\n",
    "    treatmentPlanEncounters['EncounterStartDateTimeToolTip'] = treatmentPlanEncounters['EncounterStartDateTimeToolTip'].str.replace(\"Time: \", \"\")\n",
    "    treatmentPlanEncounters['EncounterEndDateTimeToolTip'] = treatmentPlanEncounters['EncounterEndDateTimeToolTip'].str.replace(\"Time: \", \"\")\n",
    "\n",
    "    treatmentPlanEncounters['EncounterStartDateTimeToolTip'] = pd.to_datetime(treatmentPlanEncounters['EncounterStartDateTimeToolTip'])\n",
    "    treatmentPlanEncounters['EncounterEndDateTimeToolTip'] = pd.to_datetime(treatmentPlanEncounters['EncounterEndDateTimeToolTip'])\n",
    "    logger.info(f\"Successfully queried treatment plan related info from tblEncounterSummary.\")\n",
    "except Exception as e:\n",
    "    logger.error(f\"Failed to query treatment plan related info from tblEncounterSummary.\", exc_info=True) "
   ]
  },
  {
   "cell_type": "markdown",
   "id": "0abd270c",
   "metadata": {
    "papermill": {
     "duration": null,
     "end_time": null,
     "exception": null,
     "start_time": null,
     "status": "pending"
    },
    "tags": []
   },
   "source": [
    "## Check Patients for Admission\n",
    "- For CFTSS a patient is classified as admitted if they had a billable session within "
   ]
  },
  {
   "cell_type": "code",
   "execution_count": null,
   "id": "35bf4f1a",
   "metadata": {
    "papermill": {
     "duration": null,
     "end_time": null,
     "exception": null,
     "start_time": null,
     "status": "pending"
    },
    "tags": []
   },
   "outputs": [],
   "source": [
    "try:\n",
    "    sql = f'''\n",
    "    SELECT\n",
    "    PatientId as PatientID,\n",
    "    VisitDateTime\n",
    "    FROM \n",
    "        tblEncounterSummary\n",
    "    LEFT JOIN\n",
    "        tblEncounterType ON tblEncounterType.EncounterTypeID = tblEncounterSummary.EncounterTypeID\n",
    "    WHERE \n",
    "        ISBILLABLE LIKE \"%TRUE%\"\n",
    "        AND (tblEncounterType.EncounterType LIKE \"%CPST%\"\n",
    "        OR tblEncounterType.EncounterType LIKE \"%PSR%\"\n",
    "        OR tblEncounterType.EncounterType LIKE \"%OLP%\")\n",
    "        AND NOT tblEncounterType.EncounterType LIKE \"%Licensed Evaluation%\"\n",
    "    '''\n",
    "    acceptedPatients = pd.read_sql(sql,conn)\n",
    "    acceptedPatients['VisitDateTime'] = pd.to_datetime(acceptedPatients['VisitDateTime'])\n",
    "    acceptedPatients.sort_values('VisitDateTime', ascending=False, inplace=True)\n",
    "    acceptedPatients.drop_duplicates('PatientID', keep='first', inplace=True)\n",
    "    acceptedPatients['Admitted']=\"True\"\n",
    "    treatmentPlanEncounters= treatmentPlanEncounters.merge(acceptedPatients[['PatientID', 'Admitted']], on='PatientID', how='left')\n",
    "    treatmentPlanEncounters['Admitted'].fillna(\"False\", inplace=True)\n",
    "    logger.info(f\"Successfully queried admitted patients. Patient must have either an encounter type of psychotherapy or an initial eval 2.\")\n",
    "except Exception as e:\n",
    "    logger.error(f\"Failed to query admitted patients. Patient must have either an encounter type of psychotherapy or an initial eval 2.\", exc_info=True) "
   ]
  },
  {
   "cell_type": "code",
   "execution_count": null,
   "id": "23fceb68",
   "metadata": {
    "execution": {
     "iopub.execute_input": "2023-09-20T11:19:13.008069Z",
     "iopub.status.busy": "2023-09-20T11:19:13.008069Z",
     "iopub.status.idle": "2023-09-20T11:19:13.034716Z",
     "shell.execute_reply": "2023-09-20T11:19:13.033886Z"
    },
    "papermill": {
     "duration": null,
     "end_time": null,
     "exception": null,
     "start_time": null,
     "status": "pending"
    },
    "tags": []
   },
   "outputs": [],
   "source": [
    "def find_missing_initial_treatment_plan(temp_df):\n",
    "    # if patient does not have initial treatment plan \n",
    "    # and first treatment plan review date is more than 6 months past our InSync onboarding \n",
    "    # and patient was admitted, \n",
    "    # return true otherwise return false\n",
    "    if \"CFTSS Initial Treatment Plan\" not in temp_df['EncounterType'].unique() and str(temp_df[temp_df['Summarized Encounter Type'] == 'Treatment Plan']['EncounterDate'].first_valid_index()) != 'None' and str(temp_df[temp_df['Admitted'] == 'True']['Admitted'].first_valid_index()) != 'None':\n",
    "        if temp_df.loc[temp_df[temp_df['Summarized Encounter Type'] == 'Treatment Plan']['EncounterDate'].first_valid_index(), 'EncounterDate'] > pd.Timestamp('1/20/2022'):\n",
    "            return True\n",
    "        else:\n",
    "            return False\n",
    "    else:\n",
    "        return False\n",
    "    \n",
    "def getDischargeInfo(is_ActiveInInSync, is_lastEncounterDischarge):\n",
    "    if is_ActiveInInSync and is_lastEncounterDischarge:\n",
    "        return \"\"\"Last encounter was discharge so Patient should probably be inactivated | \"\"\"    \n",
    "\n",
    "def filterAndSortToRelevantData(completeDataFrame, patientID):\n",
    "    singlePatient_df = completeDataFrame[completeDataFrame['PatientID'] == patientID].copy()\n",
    "    singlePatient_df = singlePatient_df[singlePatient_df['Summarized Encounter Type'].map(lambda encType: True if encType == 'Treatment Plan' or encType == 'Transfer Note' or encType == 'Discharge Note' else False)].copy()\n",
    "    singlePatient_df = singlePatient_df.sort_values(by=\"Review Date\", ascending=True)\n",
    "    singlePatient_df = singlePatient_df.reset_index(drop=True)\n",
    "    return singlePatient_df\n",
    "\n",
    "\n",
    "def isEmptyDataFrame(singlePatient_df):     \n",
    "    if singlePatient_df.shape[0] == 0:\n",
    "        return True\n",
    "    else:\n",
    "        return False\n",
    "    \n",
    "def isNeedingToBeInactivated(is_ActiveInInSync, is_lastEncounterDischarge):\n",
    "    if is_ActiveInInSync and is_lastEncounterDischarge:\n",
    "        return True  \n",
    "    else:\n",
    "        return False\n",
    "\n",
    "def isTransferNote(singlePatient_df, currentEncounterIndexNum):\n",
    "    if singlePatient_df[currentEncounterIndexNum, 'Summarized Encounter Type'] == 'Transfer Note':\n",
    "        return True\n",
    "    else:\n",
    "        return False\n",
    "\n",
    "def hasNextPlan(singlePatient_df, currentEncounterIndexNum):\n",
    "    # and see if there are any treatment plans after current treatment plan\n",
    "    currentTreatmentPlanDate = singlePatient_df.loc[currentEncounterIndexNum, 'EncounterDate']\n",
    "    if 'Treatment Plan' in singlePatient_df[singlePatient_df['EncounterDate'] > currentTreatmentPlanDate][\"Summarized Encounter Type\"].unique():\n",
    "        return True\n",
    "    else:\n",
    "        return False\n",
    "\n",
    "def getLocationOfNextPlan(singlePatient_df, currentEncounterIndexNum):\n",
    "    currentTreatmentPlanDate = singlePatient_df.loc[currentEncounterIndexNum, 'EncounterDate']\n",
    "    nextPlanLocation = singlePatient_df[(singlePatient_df['EncounterDate'] > currentTreatmentPlanDate) & (singlePatient_df[\"Summarized Encounter Type\"] == 'Treatment Plan') ].index[0]\n",
    "    return nextPlanLocation\n",
    "\n",
    "def isTransferedNext(singlePatient_df, currentEncounterIndexNum, hasNextPlan, nextPlanLocation=None):\n",
    "    currentTreatmentPlanDate = singlePatient_df.loc[currentEncounterIndexNum, 'EncounterDate']\n",
    "    if hasNextPlan:\n",
    "        # see if there are any transfer notes between current plan and next plan\n",
    "        nextTreatmentPlanDate =  singlePatient_df.loc[nextPlanLocation, 'EncounterDate']\n",
    "        if 'Transfer Note' in singlePatient_df[(singlePatient_df['EncounterDate'] > currentTreatmentPlanDate) & ((singlePatient_df['EncounterDate'] < nextTreatmentPlanDate))][\"Summarized Encounter Type\"].unique():\n",
    "            return True\n",
    "        else:\n",
    "            return False\n",
    "    else:\n",
    "        if 'Transfer Note' in singlePatient_df[singlePatient_df['EncounterDate'] >= currentTreatmentPlanDate][\"Summarized Encounter Type\"].unique():\n",
    "            return True\n",
    "        else:\n",
    "            return False\n",
    "    \n",
    "def isDischargedNext(singlePatient_df, currentEncounterIndexNum, hasNextPlan, nextPlanLocation=None):\n",
    "    currentTreatmentPlanDate = singlePatient_df.loc[currentEncounterIndexNum, 'EncounterDate']\n",
    "    if hasNextPlan: # see if there are any transfer notes between current plan and next plan\n",
    "        nextTreatmentPlanDate =  singlePatient_df.loc[nextPlanLocation, 'EncounterDate']\n",
    "        if 'Discharge Note' in singlePatient_df[(singlePatient_df['EncounterDate'] >= currentTreatmentPlanDate) & \n",
    "                                           ((singlePatient_df['EncounterDate'] < nextTreatmentPlanDate))][\"Summarized Encounter Type\"].unique():\n",
    "            return True\n",
    "        else:\n",
    "            return False\n",
    "    else: # see if there is a \n",
    "        if 'Discharge Note' in singlePatient_df[singlePatient_df['EncounterDate'] >= currentTreatmentPlanDate][\"Summarized Encounter Type\"].unique():\n",
    "            return True\n",
    "        else:\n",
    "            return False    \n",
    "    \n",
    "def isNextPlanClosedLate(singlePatient_df, currentEncounterIndexNum, hasNextPlan, nextPlanLocation):\n",
    "    if singlePatient_df.loc[nextPlanLocation, \"EndDate\"]!= pd.NaT and singlePatient_df.loc[nextPlanLocation, \"EndDate\"] > singlePatient_df.loc[currentEncounterIndexNum, \"Review Date\"]:\n",
    "        return True\n",
    "    else:\n",
    "        return False\n",
    "\n",
    "def isCurrentPlanSigned(singlePatient_df, currentEncounterIndexNum):\n",
    "    if str(singlePatient_df.loc[currentEncounterIndexNum, \"closedByFullName\"]) =='None':\n",
    "        return False\n",
    "    else:\n",
    "        return True\n",
    "\n",
    "def getDaysAfterTransfer(singlePatient_df, currentEncounterIndexNum, hasNextPlan, nextPlanLocation=None):\n",
    "    currentTreatmentPlanDate = singlePatient_df.loc[currentEncounterIndexNum, 'EncounterDate']\n",
    "    if hasNextPlan:\n",
    "        nextTreatmentPlanDate =  singlePatient_df.loc[nextPlanLocation, 'EncounterDate']\n",
    "        return (nextTreatmentPlanDate-singlePatient_df.loc[currentEncounterIndexNum, \"EncounterDate\"]).days\n",
    "    else:\n",
    "        daysAfterTransfer = (datetime.now()-currentTreatmentPlanDate).days\n",
    "        return daysAfterTransfer"
   ]
  },
  {
   "cell_type": "code",
   "execution_count": null,
   "id": "b0f77077",
   "metadata": {
    "execution": {
     "iopub.execute_input": "2023-09-20T11:19:13.047746Z",
     "iopub.status.busy": "2023-09-20T11:19:13.047746Z",
     "iopub.status.idle": "2023-09-20T11:19:13.066037Z",
     "shell.execute_reply": "2023-09-20T11:19:13.065094Z"
    },
    "papermill": {
     "duration": null,
     "end_time": null,
     "exception": null,
     "start_time": null,
     "status": "pending"
    },
    "tags": []
   },
   "outputs": [],
   "source": [
    "try:\n",
    "    relevantInfodf = treatmentPlanEncounters.merge(patientDetails, how='left', on='PatientID')\n",
    "    relevantInfodf = relevantInfodf[relevantInfodf['MRNNumber'].notnull()].copy()\n",
    "    logger.info(f\"Successfully merged patient details with treatment plan info.\")\n",
    "except Exception as e:\n",
    "    logger.error(f\"Failed to merge patient details with treatment plan info.\", exc_info=True) "
   ]
  },
  {
   "cell_type": "markdown",
   "id": "8d9ef5b0",
   "metadata": {
    "papermill": {
     "duration": null,
     "end_time": null,
     "exception": null,
     "start_time": null,
     "status": "pending"
    },
    "tags": []
   },
   "source": [
    "## Calculate Review Date"
   ]
  },
  {
   "cell_type": "code",
   "execution_count": null,
   "id": "b40ef12e",
   "metadata": {
    "execution": {
     "iopub.execute_input": "2023-09-20T11:19:13.078038Z",
     "iopub.status.busy": "2023-09-20T11:19:13.078038Z",
     "iopub.status.idle": "2023-09-20T11:19:13.096311Z",
     "shell.execute_reply": "2023-09-20T11:19:13.095508Z"
    },
    "papermill": {
     "duration": null,
     "end_time": null,
     "exception": null,
     "start_time": null,
     "status": "pending"
    },
    "tags": []
   },
   "outputs": [],
   "source": [
    "try:\n",
    "    relevantInfodf['Summarized Encounter Type'] = relevantInfodf['EncounterType'].map(lambda type: \n",
    "                                                              \"Treatment Plan\" if \"treatment\" in type.lower() else \n",
    "                                                               (\"Initial Eval\" if 'evaluation' in type.lower() else \n",
    "                                                                (\"Transfer Note\" if 'transfer' in type.lower() else \n",
    "                                                                 (\"Discharge Note\" if 'discharge' in type.lower() else \"Something else\"))))\n",
    "    relevantInfodf['Review Date'] = relevantInfodf.apply(lambda row: row['EncounterDate'] + relativedelta(months=+6) - timedelta(days=1), axis=1)\n",
    "    relevantInfodf['Days to Review Date'] = relevantInfodf['Review Date'].map(lambda reviewDate:  reviewDate.date()) - date.today()\n",
    "    logger.info(f\"Successfully calculated review date.\")\n",
    "except Exception as e:\n",
    "    logger.error(f\"Failed to calculate review date.\", exc_info=True) "
   ]
  },
  {
   "cell_type": "markdown",
   "id": "c19256ec",
   "metadata": {
    "papermill": {
     "duration": null,
     "end_time": null,
     "exception": null,
     "start_time": null,
     "status": "pending"
    },
    "tags": []
   },
   "source": [
    "## Determine Treatment Plan Status"
   ]
  },
  {
   "cell_type": "code",
   "execution_count": null,
   "id": "563e5f03",
   "metadata": {
    "execution": {
     "iopub.execute_input": "2023-09-20T11:19:13.109311Z",
     "iopub.status.busy": "2023-09-20T11:19:13.109311Z",
     "iopub.status.idle": "2023-09-20T11:19:58.639635Z",
     "shell.execute_reply": "2023-09-20T11:19:58.639635Z"
    },
    "papermill": {
     "duration": null,
     "end_time": null,
     "exception": null,
     "start_time": null,
     "status": "pending"
    },
    "scrolled": true,
    "tags": []
   },
   "outputs": [],
   "source": [
    "try:\n",
    "    allPatientDf = pd.DataFrame()\n",
    "    for patientID in relevantInfodf['PatientID'].unique()[0:]:\n",
    "        singlePatient_df = filterAndSortToRelevantData(completeDataFrame=relevantInfodf, patientID=patientID)\n",
    "        if isEmptyDataFrame(singlePatient_df): #if patient has initial eval with no initial treatment plan\n",
    "            emptySinglePatient_df = relevantInfodf[(relevantInfodf['PatientID'] == patientID)].copy()\n",
    "\n",
    "            missingInitialTreatmentPlan = f\"Missing Initial Treatment Plan\"\n",
    "            emptySinglePatient_df[\"missingInitialTreatmentPlan\"] = find_missing_initial_treatment_plan(singlePatient_df)\n",
    "            emptySinglePatient_df[\"treatmentPlanStatus\"] = missingInitialTreatmentPlan\n",
    "\n",
    "            allPatientDf = pd.concat([allPatientDf,emptySinglePatient_df])\n",
    "            continue\n",
    "        else:\n",
    "            patientOverallStatus = \"\"\n",
    "\n",
    "            missingInitialTreatmentPlan = find_missing_initial_treatment_plan(singlePatient_df)\n",
    "            singlePatient_df['missingInitialTreatmentPlan'] = missingInitialTreatmentPlan        \n",
    "            singlePatient_df[\"treatmentPlanStatus\"] = missingInitialTreatmentPlan\n",
    "\n",
    "            is_ActiveInInSync = singlePatient_df.loc[0, 'is_ActiveInInSync']\n",
    "            is_lastEncounterDischarge = singlePatient_df.loc[0, 'is_lastEncounterDischarge']\n",
    "\n",
    "            is_NeedToBeInactivated = isNeedingToBeInactivated(is_ActiveInInSync, is_lastEncounterDischarge)\n",
    "            singlePatient_df['is_NeedToBeInactivated'] = is_NeedToBeInactivated\n",
    "\n",
    "            for currentEncounterIndexNum in range(singlePatient_df.shape[0]):\n",
    "                treatmentPlanStatus = patientOverallStatus\n",
    "                currentEncounterType = singlePatient_df.loc[currentEncounterIndexNum, 'Summarized Encounter Type']\n",
    "                daysToReviewDate = singlePatient_df.loc[currentEncounterIndexNum, 'Days to Review Date'].days\n",
    "\n",
    "                has_NextPlan = hasNextPlan(singlePatient_df, currentEncounterIndexNum)\n",
    "                singlePatient_df.loc[currentEncounterIndexNum, \"has_NextPlan\"] = has_NextPlan\n",
    "\n",
    "                is_CurrentPlanSigned = isCurrentPlanSigned(singlePatient_df, currentEncounterIndexNum)\n",
    "                singlePatient_df.loc[currentEncounterIndexNum, \"is_CurrentPlanSigned\"] = is_CurrentPlanSigned\n",
    "\n",
    "                if not is_CurrentPlanSigned:\n",
    "                    treatmentPlanStatus += \"Plan Still needs to be signed | \"       \n",
    "\n",
    "                if is_NeedToBeInactivated:\n",
    "                    treatmentPlanStatus += \"Last encounter was discharge so Patient should probably be inactivated | \"\n",
    "                if has_NextPlan:\n",
    "                    next_PlanLocation = getLocationOfNextPlan(singlePatient_df, currentEncounterIndexNum)\n",
    "                    singlePatient_df.loc[currentEncounterIndexNum, \"next_PlanLocation\"] = next_PlanLocation\n",
    "\n",
    "                    is_TransferedNext = isTransferedNext(singlePatient_df, currentEncounterIndexNum, has_NextPlan, next_PlanLocation)\n",
    "                    singlePatient_df.loc[currentEncounterIndexNum, \"is_TransferedNext\"] = is_TransferedNext\n",
    "\n",
    "                    is_DischargedNext = isDischargedNext(singlePatient_df, currentEncounterIndexNum, has_NextPlan, next_PlanLocation)\n",
    "                    singlePatient_df.loc[currentEncounterIndexNum, \"is_DischargedNext\"] = is_DischargedNext\n",
    "                    if (is_TransferedNext and not is_DischargedNext) and is_CurrentPlanSigned and has_NextPlan:\n",
    "                        get_DaysAfterTransfer = getDaysAfterTransfer(singlePatient_df, currentEncounterIndexNum, has_NextPlan, next_PlanLocation)\n",
    "                        treatmentPlanStatus += f\"Old Plan is Good | Patient was Transfered and they completed the follow up plan {get_DaysAfterTransfer} days after.\"\n",
    "                    elif (is_DischargedNext and not is_TransferedNext) and is_CurrentPlanSigned and has_NextPlan:\n",
    "                        treatmentPlanStatus += f\"Patient was Discharged\"\n",
    "                    elif not is_TransferedNext and not is_DischargedNext and is_CurrentPlanSigned and has_NextPlan:\n",
    "                        treatmentPlanStatus += \"Everything Seems Good\"\n",
    "\n",
    "                    is_NextPlanClosedLate = isNextPlanClosedLate(singlePatient_df, currentEncounterIndexNum, has_NextPlan, next_PlanLocation)\n",
    "                    singlePatient_df.loc[currentEncounterIndexNum, \"is_NextPlanClosedLate\"] = is_NextPlanClosedLate\n",
    "\n",
    "                else: # if there is no next plan \n",
    "                    is_TransferedNext = isTransferedNext(singlePatient_df, currentEncounterIndexNum, has_NextPlan)\n",
    "                    singlePatient_df.loc[currentEncounterIndexNum, \"is_TransferedNext\"] = is_TransferedNext\n",
    "\n",
    "                    is_DischargedNext = isDischargedNext(singlePatient_df, currentEncounterIndexNum, has_NextPlan)\n",
    "                    singlePatient_df.loc[currentEncounterIndexNum, \"is_DischargedNext\"] = is_DischargedNext\n",
    "\n",
    "                    if not is_TransferedNext and not is_DischargedNext and daysToReviewDate > 0:\n",
    "                        treatmentPlanStatus += f\"Everything Seems Good. Still have {daysToReviewDate} days left.\"\n",
    "                    elif not is_TransferedNext and not is_DischargedNext and daysToReviewDate < 0:\n",
    "                        treatmentPlanStatus += f\"Plan is {np.absolute(daysToReviewDate)} days overdue.\"\n",
    "                    elif is_TransferedNext and not is_DischargedNext:\n",
    "                        daysAfterTransfer = getDaysAfterTransfer(singlePatient_df, currentEncounterIndexNum, has_NextPlan)\n",
    "                        if daysAfterTransfer > 30 and currentEncounterType == \"Transfer Note\":\n",
    "                            treatmentPlanStatus += f\"Patient Transfered. Plan is {daysAfterTransfer-30} days overdue.\"\n",
    "                        elif daysAfterTransfer > 30:\n",
    "                            treatmentPlanStatus += f\"Patient Transfered.\"\n",
    "                        else:\n",
    "                            treatmentPlanStatus += f\"Patient Transfered. Plan is due in {30 - daysAfterTransfer} days.\"\n",
    "                    elif (is_DischargedNext and not is_TransferedNext):\n",
    "                        treatmentPlanStatus += f\"Patient was Discharged\"   \n",
    "                singlePatient_df.loc[currentEncounterIndexNum, \"treatmentPlanStatus\"] = treatmentPlanStatus  \n",
    "            allPatientDf = pd.concat([allPatientDf,singlePatient_df])\n",
    "    logger.info(f\"Successfully built all patients treatment plan details.\")\n",
    "except Exception as e:\n",
    "    logger.error(f\"Failed to build all patients treatment plan details.\", exc_info=True) "
   ]
  },
  {
   "cell_type": "code",
   "execution_count": null,
   "id": "0232539c",
   "metadata": {
    "papermill": {
     "duration": null,
     "end_time": null,
     "exception": null,
     "start_time": null,
     "status": "pending"
    },
    "tags": []
   },
   "outputs": [],
   "source": [
    "allPatientDf[[\"has_NextPlan\", \n",
    "              \"is_CurrentPlanSigned\",\n",
    "              \"next_PlanLocation\",\n",
    "              \"is_TransferedNext\",\n",
    "              \"is_DischargedNext\",\n",
    "              \"is_NextPlanClosedLate\"]] = allPatientDf[[\"has_NextPlan\", \n",
    "                                                        \"is_CurrentPlanSigned\",\n",
    "                                                        \"next_PlanLocation\",\n",
    "                                                        \"is_TransferedNext\",\n",
    "                                                        \"is_DischargedNext\",\n",
    "                                                        \"is_NextPlanClosedLate\"]].fillna(False)   "
   ]
  },
  {
   "cell_type": "code",
   "execution_count": null,
   "id": "f2963f1b",
   "metadata": {
    "papermill": {
     "duration": null,
     "end_time": null,
     "exception": null,
     "start_time": null,
     "status": "pending"
    },
    "scrolled": true,
    "tags": []
   },
   "outputs": [],
   "source": [
    "list(allPatientDf['treatmentPlanStatus'])[2]"
   ]
  },
  {
   "cell_type": "code",
   "execution_count": null,
   "id": "5939f5c6",
   "metadata": {
    "papermill": {
     "duration": null,
     "end_time": null,
     "exception": null,
     "start_time": null,
     "status": "pending"
    },
    "tags": []
   },
   "outputs": [],
   "source": [
    "# for column in allPatientDf.columns:\n",
    "#     print(column)"
   ]
  },
  {
   "cell_type": "code",
   "execution_count": null,
   "id": "05f47df7",
   "metadata": {
    "execution": {
     "iopub.execute_input": "2023-09-20T11:19:58.658635Z",
     "iopub.status.busy": "2023-09-20T11:19:58.658635Z",
     "iopub.status.idle": "2023-09-20T11:19:58.670635Z",
     "shell.execute_reply": "2023-09-20T11:19:58.669688Z"
    },
    "papermill": {
     "duration": null,
     "end_time": null,
     "exception": null,
     "start_time": null,
     "status": "pending"
    },
    "tags": []
   },
   "outputs": [],
   "source": [
    "try:\n",
    "    allPatientDf['is_TreatmentPlanGood'] = allPatientDf['treatmentPlanStatus'].map(lambda status: True if 'Everything Seems Good' in str(status) else False)\n",
    "    allPatientDf['is_TreatmentPlanOverdue'] = allPatientDf['treatmentPlanStatus'].map(lambda status: True if 'overdue' in str(status).lower() else False)\n",
    "    logger.info(f\"Successfully marked treatment plans that are all good.\")\n",
    "except Exception as e:\n",
    "    logger.error(f\"Failed to mark treatment plans that are all good.\", exc_info=True) "
   ]
  },
  {
   "cell_type": "code",
   "execution_count": null,
   "id": "fd3d3e69",
   "metadata": {
    "papermill": {
     "duration": null,
     "end_time": null,
     "exception": null,
     "start_time": null,
     "status": "pending"
    },
    "tags": []
   },
   "outputs": [],
   "source": [
    "allPatientDf['treatmentPlanStatus'] = allPatientDf['treatmentPlanStatus'] + \"| \" + allPatientDf['seen_Recently']"
   ]
  },
  {
   "cell_type": "code",
   "execution_count": null,
   "id": "056ab9cd",
   "metadata": {
    "execution": {
     "iopub.execute_input": "2023-09-20T11:19:58.683635Z",
     "iopub.status.busy": "2023-09-20T11:19:58.683635Z",
     "iopub.status.idle": "2023-09-20T11:19:58.701212Z",
     "shell.execute_reply": "2023-09-20T11:19:58.701212Z"
    },
    "papermill": {
     "duration": null,
     "end_time": null,
     "exception": null,
     "start_time": null,
     "status": "pending"
    },
    "tags": []
   },
   "outputs": [],
   "source": [
    "# final_df[final_df['PatientID']==622214]\n",
    "# final_df[final_df['PatientID']==622741]"
   ]
  },
  {
   "cell_type": "code",
   "execution_count": null,
   "id": "b291620e",
   "metadata": {
    "execution": {
     "iopub.execute_input": "2023-09-20T11:19:58.716082Z",
     "iopub.status.busy": "2023-09-20T11:19:58.715082Z",
     "iopub.status.idle": "2023-09-20T11:19:58.731806Z",
     "shell.execute_reply": "2023-09-20T11:19:58.731806Z"
    },
    "papermill": {
     "duration": null,
     "end_time": null,
     "exception": null,
     "start_time": null,
     "status": "pending"
    },
    "scrolled": true,
    "tags": []
   },
   "outputs": [],
   "source": [
    "# final_df[final_df['allTheInfoYouEverWanted'].map(lambda x: True if \"Closed After Due Date\" in x else False) ].groupby('ProviderName')['EncounterId'].count().sort_values(ascending=False).head(20)"
   ]
  },
  {
   "cell_type": "code",
   "execution_count": null,
   "id": "1c2958f1",
   "metadata": {
    "execution": {
     "iopub.execute_input": "2023-09-20T11:19:58.745813Z",
     "iopub.status.busy": "2023-09-20T11:19:58.745813Z",
     "iopub.status.idle": "2023-09-20T11:19:58.762520Z",
     "shell.execute_reply": "2023-09-20T11:19:58.762520Z"
    },
    "papermill": {
     "duration": null,
     "end_time": null,
     "exception": null,
     "start_time": null,
     "status": "pending"
    },
    "tags": []
   },
   "outputs": [],
   "source": [
    "# final_df[final_df['allTheInfoYouEverWanted']==\"\"]"
   ]
  },
  {
   "cell_type": "code",
   "execution_count": null,
   "id": "f6881a40",
   "metadata": {
    "execution": {
     "iopub.execute_input": "2023-09-20T11:19:58.777402Z",
     "iopub.status.busy": "2023-09-20T11:19:58.776401Z",
     "iopub.status.idle": "2023-09-20T11:19:58.794271Z",
     "shell.execute_reply": "2023-09-20T11:19:58.793264Z"
    },
    "papermill": {
     "duration": null,
     "end_time": null,
     "exception": null,
     "start_time": null,
     "status": "pending"
    },
    "tags": []
   },
   "outputs": [],
   "source": [
    "# Change to integer so SQL can recognize it\n",
    "allPatientDf['Days to Review Date'] = allPatientDf['Days to Review Date'].dt.days"
   ]
  },
  {
   "cell_type": "code",
   "execution_count": null,
   "id": "8956239a",
   "metadata": {
    "execution": {
     "iopub.execute_input": "2023-09-20T11:19:58.777402Z",
     "iopub.status.busy": "2023-09-20T11:19:58.776401Z",
     "iopub.status.idle": "2023-09-20T11:19:58.794271Z",
     "shell.execute_reply": "2023-09-20T11:19:58.793264Z"
    },
    "papermill": {
     "duration": null,
     "end_time": null,
     "exception": null,
     "start_time": null,
     "status": "pending"
    },
    "tags": []
   },
   "outputs": [],
   "source": [
    "# filter to useful columns\n",
    "allPatientDf = allPatientDf[[\"EncounterId\",\n",
    "                            \"MRNNumber\",\n",
    "                            \"DOB\",\n",
    "                            \"PatientID\",\n",
    "                            \"ProviderName\",\n",
    "                            \"patient_fullName\",\n",
    "                            \"FacilityName\",\n",
    "                            \"Summarized Encounter Type\",\n",
    "                            \"EncounterDate\",\n",
    "                            \"EncounterEndDateTimeToolTip\",\n",
    "                            \"EncounterStartDateTimeToolTip\",\n",
    "                            \"EncounterType\",\n",
    "                            \"EncounterOpenClosed\",\n",
    "                            \"ProgramName\",\n",
    "                            \"closedByFullName\",\n",
    "                            \"finalEncounterType\",\n",
    "                            \"finalEncounterDate\",\n",
    "                            \"is_ActiveInInSync\",\n",
    "                            \"is_lastEncounterDischarge\",\n",
    "                            \"lastBillable_EncounterType\",\n",
    "                            \"lastBillable_EncounterDate\",\n",
    "                            \"lastBillable_ProgramName\",\n",
    "                            \"lastBillable_FacilityName\",\n",
    "                            \"seen_Recently\",\n",
    "                            \"Review Date\",\n",
    "                            \"Days to Review Date\",\n",
    "                            \"is_NeedToBeInactivated\",\n",
    "                            \"has_NextPlan\",\n",
    "                            \"is_CurrentPlanSigned\",\n",
    "                            \"next_PlanLocation\",\n",
    "                            \"is_TransferedNext\",\n",
    "                            \"is_DischargedNext\",\n",
    "                            \"is_NextPlanClosedLate\",\n",
    "                            \"treatmentPlanStatus\",\n",
    "                            \"missingInitialTreatmentPlan\",\n",
    "                            \"is_TreatmentPlanGood\",\n",
    "                            \"is_TreatmentPlanOverdue\",\n",
    "                            \"Admitted\"]]"
   ]
  },
  {
   "cell_type": "markdown",
   "id": "4fa29770",
   "metadata": {
    "papermill": {
     "duration": null,
     "end_time": null,
     "exception": null,
     "start_time": null,
     "status": "pending"
    },
    "tags": []
   },
   "source": [
    "## For Presenting\n",
    "- Replace all names with random ones for presenting"
   ]
  },
  {
   "cell_type": "code",
   "execution_count": null,
   "id": "2044b078",
   "metadata": {
    "execution": {
     "iopub.execute_input": "2023-09-20T11:19:58.820465Z",
     "iopub.status.busy": "2023-09-20T11:19:58.819422Z",
     "iopub.status.idle": "2023-09-20T11:19:58.823484Z",
     "shell.execute_reply": "2023-09-20T11:19:58.823484Z"
    },
    "papermill": {
     "duration": null,
     "end_time": null,
     "exception": null,
     "start_time": null,
     "status": "pending"
    },
    "tags": []
   },
   "outputs": [],
   "source": [
    "# randomNames = pd.read_excel('../data/Random Names.xlsx')\n",
    "\n",
    "# final_df['patient_fullName'] = final_df['patient_fullName'].map(lambda name: list(randomNames['Names'].sample(1))[0])\n",
    "# final_df['ProviderName'] = final_df['ProviderName'].map(lambda name: list(final_df['ProviderName'].sample(1))[0])"
   ]
  },
  {
   "cell_type": "code",
   "execution_count": null,
   "id": "e701778c",
   "metadata": {
    "execution": {
     "iopub.execute_input": "2023-09-20T11:19:58.837532Z",
     "iopub.status.busy": "2023-09-20T11:19:58.837532Z",
     "iopub.status.idle": "2023-09-20T11:19:58.853548Z",
     "shell.execute_reply": "2023-09-20T11:19:58.853548Z"
    },
    "papermill": {
     "duration": null,
     "end_time": null,
     "exception": null,
     "start_time": null,
     "status": "pending"
    },
    "tags": []
   },
   "outputs": [],
   "source": [
    "# use to transform data into\n",
    "query = \", \".join([item.replace(\" \", \"_\") + \" \" + str(allPatientDf[item].dtype) for item in allPatientDf.columns])\n",
    "query = query.replace(\"object\", \"TEXT\")\n",
    "query = query.replace(\"datetime64[ns]\", \"TEXT\")\n",
    "query = query.replace(\"timedelta64[ns]\", \"TEXT\")\n",
    "query = query.replace(\"float64\", \"INTEGER\")\n",
    "query = query.replace(\"int64\", \"INTEGER\")\n",
    "query = query.replace(\"bool\", \"TEXT\")\n",
    "query"
   ]
  },
  {
   "cell_type": "code",
   "execution_count": null,
   "id": "061a238a",
   "metadata": {
    "execution": {
     "iopub.execute_input": "2023-09-20T11:19:58.868549Z",
     "iopub.status.busy": "2023-09-20T11:19:58.868549Z",
     "iopub.status.idle": "2023-09-20T11:19:59.342497Z",
     "shell.execute_reply": "2023-09-20T11:19:59.341485Z"
    },
    "papermill": {
     "duration": null,
     "end_time": null,
     "exception": null,
     "start_time": null,
     "status": "pending"
    },
    "tags": []
   },
   "outputs": [],
   "source": [
    "table_name= \"ptTreatmentPlanDuenessSummaryCFTSS\"\n",
    "try:\n",
    "    c = conn.cursor()\n",
    "    c.execute(f'''CREATE TABLE IF NOT EXISTS {table_name} ({query}) ''')\n",
    "    conn.commit()\n",
    "    allPatientDf.to_sql(\"ptTreatmentPlanDuenessSummaryCFTSS\", conn, if_exists='replace', index = False)\n",
    "    logger.info(f\"Successfully pushed ptTreatmentPlanDuenessSummaryCFTSS to database.\")\n",
    "except Exception as e:\n",
    "    logger.error(f\"Failed to push ptTreatmentPlanDuenessSummaryCFTSS to database.\", exc_info=True) \n",
    "    print(e)"
   ]
  },
  {
   "cell_type": "code",
   "execution_count": null,
   "id": "7b94636b",
   "metadata": {
    "execution": {
     "iopub.execute_input": "2023-09-20T11:19:59.357480Z",
     "iopub.status.busy": "2023-09-20T11:19:59.357480Z",
     "iopub.status.idle": "2023-09-20T11:19:59.372485Z",
     "shell.execute_reply": "2023-09-20T11:19:59.372485Z"
    },
    "papermill": {
     "duration": null,
     "end_time": null,
     "exception": null,
     "start_time": null,
     "status": "pending"
    },
    "tags": []
   },
   "outputs": [],
   "source": [
    "conn.close()"
   ]
  },
  {
   "cell_type": "markdown",
   "id": "42c57109",
   "metadata": {
    "papermill": {
     "duration": null,
     "end_time": null,
     "exception": null,
     "start_time": null,
     "status": "pending"
    },
    "tags": []
   },
   "source": [
    "## Old Code"
   ]
  },
  {
   "cell_type": "code",
   "execution_count": null,
   "id": "dec9e9de",
   "metadata": {
    "execution": {
     "iopub.execute_input": "2023-09-20T11:19:59.399480Z",
     "iopub.status.busy": "2023-09-20T11:19:59.399480Z",
     "iopub.status.idle": "2023-09-20T11:19:59.404479Z",
     "shell.execute_reply": "2023-09-20T11:19:59.404479Z"
    },
    "papermill": {
     "duration": null,
     "end_time": null,
     "exception": null,
     "start_time": null,
     "status": "pending"
    },
    "tags": []
   },
   "outputs": [],
   "source": [
    "# final_df[final_df['ProgramName'] =='Boro Park Clinics'].head(15).to_excel(\"../data/checkTreatmentPlanCode.xlsx\", index=False)"
   ]
  },
  {
   "cell_type": "code",
   "execution_count": null,
   "id": "3372e488",
   "metadata": {
    "execution": {
     "iopub.execute_input": "2023-09-20T11:19:59.420480Z",
     "iopub.status.busy": "2023-09-20T11:19:59.419480Z",
     "iopub.status.idle": "2023-09-20T11:19:59.438481Z",
     "shell.execute_reply": "2023-09-20T11:19:59.436488Z"
    },
    "papermill": {
     "duration": null,
     "end_time": null,
     "exception": null,
     "start_time": null,
     "status": "pending"
    },
    "tags": []
   },
   "outputs": [],
   "source": [
    "# final_df[final_df['Patient Name'] == 'Braun, Chesky']"
   ]
  },
  {
   "cell_type": "code",
   "execution_count": null,
   "id": "554072f8",
   "metadata": {
    "execution": {
     "iopub.execute_input": "2023-09-20T11:19:59.453480Z",
     "iopub.status.busy": "2023-09-20T11:19:59.453480Z",
     "iopub.status.idle": "2023-09-20T11:19:59.467486Z",
     "shell.execute_reply": "2023-09-20T11:19:59.467486Z"
    },
    "papermill": {
     "duration": null,
     "end_time": null,
     "exception": null,
     "start_time": null,
     "status": "pending"
    },
    "tags": []
   },
   "outputs": [],
   "source": [
    "# final_df['Program']\n",
    "# final_df['Status']\n",
    "# final_df = final_df.merge(patientStatusProgramdf, on='MRN', how='inner')\n",
    "# final_df"
   ]
  },
  {
   "cell_type": "code",
   "execution_count": null,
   "id": "9afb64a8",
   "metadata": {
    "execution": {
     "iopub.execute_input": "2023-09-20T11:19:59.483482Z",
     "iopub.status.busy": "2023-09-20T11:19:59.482480Z",
     "iopub.status.idle": "2023-09-20T11:19:59.499480Z",
     "shell.execute_reply": "2023-09-20T11:19:59.499480Z"
    },
    "papermill": {
     "duration": null,
     "end_time": null,
     "exception": null,
     "start_time": null,
     "status": "pending"
    },
    "tags": []
   },
   "outputs": [],
   "source": [
    "# final_df.columns"
   ]
  },
  {
   "cell_type": "code",
   "execution_count": null,
   "id": "80593480",
   "metadata": {
    "execution": {
     "iopub.execute_input": "2023-09-20T11:19:59.514481Z",
     "iopub.status.busy": "2023-09-20T11:19:59.514481Z",
     "iopub.status.idle": "2023-09-20T11:19:59.530488Z",
     "shell.execute_reply": "2023-09-20T11:19:59.530488Z"
    },
    "papermill": {
     "duration": null,
     "end_time": null,
     "exception": null,
     "start_time": null,
     "status": "pending"
    },
    "tags": []
   },
   "outputs": [],
   "source": [
    "# final_df = final_df[['MRN', 'Patient Name_x', 'Encounter Type',\n",
    "#                    'Encounter / Service Provider', \"Encounter Facility\", 'Visit Date', 'Signed By',\n",
    "#                    'Signed Date', 'Co Sign Status', 'Co Signed By',\n",
    "#                    'Summarized Encounter Type', 'Missing Initial Treatment Plan',\n",
    "#                    'Review Date', 'Days to Review Date', 'allTheInfoYouEverWanted','Patient Status',\n",
    "#                    'Date of Last Appointment', 'Total Appointments', 'Updated Status_x', \"Last Seen_x\"]].copy()"
   ]
  },
  {
   "cell_type": "code",
   "execution_count": null,
   "id": "28aa3996",
   "metadata": {
    "execution": {
     "iopub.execute_input": "2023-09-20T11:19:59.545822Z",
     "iopub.status.busy": "2023-09-20T11:19:59.544791Z",
     "iopub.status.idle": "2023-09-20T11:19:59.561284Z",
     "shell.execute_reply": "2023-09-20T11:19:59.561284Z"
    },
    "papermill": {
     "duration": null,
     "end_time": null,
     "exception": null,
     "start_time": null,
     "status": "pending"
    },
    "tags": []
   },
   "outputs": [],
   "source": [
    "# writer = pd.ExcelWriter(\"Excel TreatmentPlan Data/TreatmentPlanforCompliance v5.xlsx\", engine='xlsxwriter')\n",
    "\n",
    "# # Convert the dataframe to an XlsxWriter Excel object. Turn off the default\n",
    "# # header and index and skip one row to allow us to insert a user defined\n",
    "# # header.\n",
    "# final_df.to_excel(writer, sheet_name='Sheet1', startrow=1, header=False, index=False)\n",
    "\n",
    "# # Get the xlsxwriter workbook and worksheet objects.\n",
    "# workbook = writer.book\n",
    "# worksheet = writer.sheets['Sheet1']\n",
    "\n",
    "# # Get the dimensions of the dataframe.\n",
    "# (max_row, max_col) = final_df.shape\n",
    "\n",
    "# # Create a list of column headers, to use in add_table().\n",
    "# column_settings = []\n",
    "# for header in final_df.columns:\n",
    "#     column_settings.append({'header': header})\n",
    "\n",
    "# # Add the table.\n",
    "# worksheet.add_table(0, 0, max_row, max_col - 1, {'columns': column_settings})\n",
    "\n",
    "# # Make the columns wider for clarity.\n",
    "# worksheet.set_column(0, max_col - 1, 12)\n",
    "\n",
    "# # Close the Pandas Excel writer and output the Excel file.\n",
    "# writer.save()\n",
    "# writer.close()"
   ]
  }
 ],
 "metadata": {
  "kernelspec": {
   "display_name": "Python 3 (ipykernel)",
   "language": "python",
   "name": "python3"
  },
  "language_info": {
   "codemirror_mode": {
    "name": "ipython",
    "version": 3
   },
   "file_extension": ".py",
   "mimetype": "text/x-python",
   "name": "python",
   "nbconvert_exporter": "python",
   "pygments_lexer": "ipython3",
   "version": "3.8.16"
  },
  "papermill": {
   "default_parameters": {},
   "duration": null,
   "end_time": null,
   "environment_variables": {},
   "exception": null,
   "input_path": "CFTSS-TreatmentPlanReport.ipynb",
   "output_path": "snapshots/CFTSS-TreatmentPlanReport.ipynb",
   "parameters": {},
   "start_time": "2024-02-27T12:21:31.689255",
   "version": "2.3.3"
  },
  "toc": {
   "base_numbering": 1,
   "nav_menu": {},
   "number_sections": true,
   "sideBar": true,
   "skip_h1_title": false,
   "title_cell": "Table of Contents",
   "title_sidebar": "Contents",
   "toc_cell": false,
   "toc_position": {},
   "toc_section_display": true,
   "toc_window_display": true
  },
  "varInspector": {
   "cols": {
    "lenName": 16,
    "lenType": 16,
    "lenVar": 40
   },
   "kernels_config": {
    "python": {
     "delete_cmd_postfix": "",
     "delete_cmd_prefix": "del ",
     "library": "var_list.py",
     "varRefreshCmd": "print(var_dic_list())"
    },
    "r": {
     "delete_cmd_postfix": ") ",
     "delete_cmd_prefix": "rm(",
     "library": "var_list.r",
     "varRefreshCmd": "cat(var_dic_list()) "
    }
   },
   "types_to_exclude": [
    "module",
    "function",
    "builtin_function_or_method",
    "instance",
    "_Feature"
   ],
   "window_display": false
  }
 },
 "nbformat": 4,
 "nbformat_minor": 5
}