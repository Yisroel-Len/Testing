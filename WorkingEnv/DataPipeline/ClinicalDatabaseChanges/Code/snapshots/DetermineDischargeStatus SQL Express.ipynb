{
 "cells": [
  {
   "cell_type": "code",
   "execution_count": 1,
   "id": "318517c5",
   "metadata": {
    "ExecuteTime": {
     "end_time": "2023-07-20T20:28:41.632600Z",
     "start_time": "2023-07-20T20:28:41.625604Z"
    },
    "execution": {
     "iopub.execute_input": "2025-01-27T12:59:10.358830Z",
     "iopub.status.busy": "2025-01-27T12:59:10.358334Z",
     "iopub.status.idle": "2025-01-27T12:59:10.853831Z",
     "shell.execute_reply": "2025-01-27T12:59:10.853331Z"
    },
    "papermill": {
     "duration": 0.502001,
     "end_time": "2025-01-27T12:59:10.854831",
     "exception": false,
     "start_time": "2025-01-27T12:59:10.352830",
     "status": "completed"
    },
    "tags": []
   },
   "outputs": [],
   "source": [
    "import pandas as pd\n",
    "import numpy as np\n",
    "import pyodbc \n",
    "import time\n",
    "from datetime import datetime\n",
    "from datetime import date\n",
    "import sqlite3\n",
    "from sqlalchemy import create_engine"
   ]
  },
  {
   "cell_type": "code",
   "execution_count": 2,
   "id": "eec0b1c7",
   "metadata": {
    "ExecuteTime": {
     "end_time": "2023-07-20T20:28:41.696400Z",
     "start_time": "2023-07-20T20:28:41.634600Z"
    },
    "execution": {
     "iopub.execute_input": "2025-01-27T12:59:10.860831Z",
     "iopub.status.busy": "2025-01-27T12:59:10.860329Z",
     "iopub.status.idle": "2025-01-27T12:59:10.864331Z",
     "shell.execute_reply": "2025-01-27T12:59:10.863829Z"
    },
    "papermill": {
     "duration": 0.008007,
     "end_time": "2025-01-27T12:59:10.865335",
     "exception": false,
     "start_time": "2025-01-27T12:59:10.857328",
     "status": "completed"
    },
    "tags": []
   },
   "outputs": [],
   "source": [
    "import logging\n",
    "path = r'..\\..\\Logs\\clinical_log.log'\n",
    "logging.basicConfig(filename=path,\n",
    "                    filemode='a',\n",
    "                    format='%(asctime)s,%(msecs)d,%(name)s,%(levelname)s,%(message)s',\n",
    "                    datefmt='%Y-%m-%d %H:%M:%S',\n",
    "                    level=logging.DEBUG)\n",
    "logger = logging.getLogger(\"Determine Discharge Status\")\n",
    "# logger.info(\"testing log\")\n"
   ]
  },
  {
   "cell_type": "code",
   "execution_count": 3,
   "id": "ae4f2c6f",
   "metadata": {
    "ExecuteTime": {
     "end_time": "2023-07-20T20:28:41.742416Z",
     "start_time": "2023-07-20T20:28:41.697402Z"
    },
    "execution": {
     "iopub.execute_input": "2025-01-27T12:59:10.870332Z",
     "iopub.status.busy": "2025-01-27T12:59:10.870332Z",
     "iopub.status.idle": "2025-01-27T12:59:10.897839Z",
     "shell.execute_reply": "2025-01-27T12:59:10.897330Z"
    },
    "papermill": {
     "duration": 0.031508,
     "end_time": "2025-01-27T12:59:10.898831",
     "exception": false,
     "start_time": "2025-01-27T12:59:10.867323",
     "status": "completed"
    },
    "tags": []
   },
   "outputs": [],
   "source": [
    "def findPatientsNotSeenInaWhile(lastApptDate):\n",
    "    try:\n",
    "        if (datetime.now() - lastApptDate).days > 21:\n",
    "            if (datetime.now() - lastApptDate).days > 91:\n",
    "                if (datetime.now() - lastApptDate).days > 183:\n",
    "                    return \"Hasn't been seen in 6 months\" \n",
    "                else:\n",
    "                    return \"Hasn't been seen in 3 months\"\n",
    "            else:\n",
    "                return \"Hasn't been seen in 3 weeks\"\n",
    "        else:\n",
    "            return \"They've been seen in the past 3 weeks\" \n",
    "    except:        \n",
    "        return \"Never Seen\"   "
   ]
  },
  {
   "cell_type": "code",
   "execution_count": 4,
   "id": "f2969c9d",
   "metadata": {
    "ExecuteTime": {
     "end_time": "2023-07-20T20:28:41.773453Z",
     "start_time": "2023-07-20T20:28:41.744427Z"
    },
    "execution": {
     "iopub.execute_input": "2025-01-27T12:59:10.904331Z",
     "iopub.status.busy": "2025-01-27T12:59:10.904331Z",
     "iopub.status.idle": "2025-01-27T12:59:10.922355Z",
     "shell.execute_reply": "2025-01-27T12:59:10.921831Z"
    },
    "papermill": {
     "duration": 0.021999,
     "end_time": "2025-01-27T12:59:10.923331",
     "exception": false,
     "start_time": "2025-01-27T12:59:10.901332",
     "status": "completed"
    },
    "tags": []
   },
   "outputs": [],
   "source": [
    "# diff path from TestTev vs WorkingEnv\n",
    "# conn = sqlite3.connect('../../InSyncConnection/Database/InSyncClinical.db')\n",
    "conn = create_engine(r'mssql+pyodbc://@PYTHONSERVER\\SQLEXPRESS/InSync?driver=ODBC+Driver+17+for+SQL+Server&trusted_connection=yes', fast_executemany=True)\n",
    "# cursor = conn.cursor()\n",
    "\n",
    "# printing all table names  \n",
    "# sql_query = \"\"\"SELECT name FROM sqlite_master\n",
    "#     WHERE type='table';\"\"\"\n",
    "\n",
    "# cursor.execute(sql_query)\n",
    "# print(cursor.fetchall())"
   ]
  },
  {
   "cell_type": "markdown",
   "id": "688c4d84",
   "metadata": {
    "papermill": {
     "duration": 0.002008,
     "end_time": "2025-01-27T12:59:10.927831",
     "exception": false,
     "start_time": "2025-01-27T12:59:10.925823",
     "status": "completed"
    },
    "tags": []
   },
   "source": [
    "# Read in Data"
   ]
  },
  {
   "cell_type": "code",
   "execution_count": 5,
   "id": "ec441571",
   "metadata": {
    "ExecuteTime": {
     "end_time": "2023-07-20T20:28:41.820594Z",
     "start_time": "2023-07-20T20:28:41.774452Z"
    },
    "execution": {
     "iopub.execute_input": "2025-01-27T12:59:10.932833Z",
     "iopub.status.busy": "2025-01-27T12:59:10.932833Z",
     "iopub.status.idle": "2025-01-27T12:59:10.936329Z",
     "shell.execute_reply": "2025-01-27T12:59:10.935831Z"
    },
    "papermill": {
     "duration": 0.00649,
     "end_time": "2025-01-27T12:59:10.936830",
     "exception": false,
     "start_time": "2025-01-27T12:59:10.930340",
     "status": "completed"
    },
    "tags": []
   },
   "outputs": [],
   "source": [
    "testPatients = '''\n",
    "SELECT\n",
    "    MRNNumber\n",
    "FROM \n",
    "    emr_PatientDetails\n",
    "WHERE \n",
    "    LOWER(FirstName) LIKE '%test%'\n",
    "    OR LOWER(FirstName) LIKE '%patient%'\n",
    "    OR LOWER(FirstName) LIKE '%new%'\n",
    "    OR LOWER(FirstName) LIKE '%client%'\n",
    "    OR LOWER(FirstName) LIKE '%release%'\n",
    "    OR LOWER(LastName) LIKE '%test%'\n",
    "    OR LOWER(LastName) LIKE '%patient%'\n",
    "    OR LOWER(LastName) LIKE '%fake%'\n",
    "    OR CAST(MRNNumber AS INTEGER) < 53\n",
    "    OR CAST(MRNNumber AS INTEGER) = 54\n",
    "    OR CAST(MRNNumber AS INTEGER) = 141\n",
    "    OR CAST(MRNNumber AS INTEGER) = 4155\n",
    "    OR CAST(MRNNumber AS INTEGER) = 4154\n",
    "    OR CAST(MRNNumber AS INTEGER) = 7170\n",
    "'''"
   ]
  },
  {
   "cell_type": "code",
   "execution_count": 6,
   "id": "e9982253",
   "metadata": {
    "ExecuteTime": {
     "end_time": "2023-07-20T20:28:42.533806Z",
     "start_time": "2023-07-20T20:28:41.821573Z"
    },
    "execution": {
     "iopub.execute_input": "2025-01-27T12:59:10.942334Z",
     "iopub.status.busy": "2025-01-27T12:59:10.942334Z",
     "iopub.status.idle": "2025-01-27T12:59:19.099332Z",
     "shell.execute_reply": "2025-01-27T12:59:19.098833Z"
    },
    "papermill": {
     "duration": 8.161002,
     "end_time": "2025-01-27T12:59:19.100333",
     "exception": false,
     "start_time": "2025-01-27T12:59:10.939331",
     "status": "completed"
    },
    "tags": []
   },
   "outputs": [
    {
     "data": {
      "text/html": [
       "<div>\n",
       "<style scoped>\n",
       "    .dataframe tbody tr th:only-of-type {\n",
       "        vertical-align: middle;\n",
       "    }\n",
       "\n",
       "    .dataframe tbody tr th {\n",
       "        vertical-align: top;\n",
       "    }\n",
       "\n",
       "    .dataframe thead th {\n",
       "        text-align: right;\n",
       "    }\n",
       "</style>\n",
       "<table border=\"1\" class=\"dataframe\">\n",
       "  <thead>\n",
       "    <tr style=\"text-align: right;\">\n",
       "      <th></th>\n",
       "      <th>PatientID</th>\n",
       "      <th>IsActive</th>\n",
       "      <th>EncounterDate</th>\n",
       "      <th>EncounterType</th>\n",
       "    </tr>\n",
       "  </thead>\n",
       "  <tbody>\n",
       "    <tr>\n",
       "      <th>0</th>\n",
       "      <td>622786</td>\n",
       "      <td>1</td>\n",
       "      <td>2002-10-16 12:39:00</td>\n",
       "      <td>Admission Note</td>\n",
       "    </tr>\n",
       "    <tr>\n",
       "      <th>1</th>\n",
       "      <td>628236</td>\n",
       "      <td>1</td>\n",
       "      <td>2014-07-14 16:30:00</td>\n",
       "      <td>Communication Note</td>\n",
       "    </tr>\n",
       "    <tr>\n",
       "      <th>2</th>\n",
       "      <td>622241</td>\n",
       "      <td>1</td>\n",
       "      <td>2016-02-01 11:31:00</td>\n",
       "      <td>Initial Treatment Plan</td>\n",
       "    </tr>\n",
       "    <tr>\n",
       "      <th>3</th>\n",
       "      <td>622220</td>\n",
       "      <td>1</td>\n",
       "      <td>2016-12-27 15:29:00</td>\n",
       "      <td>Initial Treatment Plan</td>\n",
       "    </tr>\n",
       "    <tr>\n",
       "      <th>4</th>\n",
       "      <td>620580</td>\n",
       "      <td>1</td>\n",
       "      <td>2019-03-28 16:47:00</td>\n",
       "      <td>Initial Treatment Plan</td>\n",
       "    </tr>\n",
       "    <tr>\n",
       "      <th>...</th>\n",
       "      <td>...</td>\n",
       "      <td>...</td>\n",
       "      <td>...</td>\n",
       "      <td>...</td>\n",
       "    </tr>\n",
       "    <tr>\n",
       "      <th>374421</th>\n",
       "      <td>630125</td>\n",
       "      <td>1</td>\n",
       "      <td>2025-01-30 17:00:00</td>\n",
       "      <td>OLP Licensed Evaluation</td>\n",
       "    </tr>\n",
       "    <tr>\n",
       "      <th>374422</th>\n",
       "      <td>625881</td>\n",
       "      <td>1</td>\n",
       "      <td>2025-01-30 17:40:00</td>\n",
       "      <td>Treatment Plan Review</td>\n",
       "    </tr>\n",
       "    <tr>\n",
       "      <th>374423</th>\n",
       "      <td>628676</td>\n",
       "      <td>1</td>\n",
       "      <td>2025-01-30 21:00:00</td>\n",
       "      <td>Assessment Tools</td>\n",
       "    </tr>\n",
       "    <tr>\n",
       "      <th>374424</th>\n",
       "      <td>621604</td>\n",
       "      <td>1</td>\n",
       "      <td>2025-02-16 13:59:00</td>\n",
       "      <td>Treatment Plan Review</td>\n",
       "    </tr>\n",
       "    <tr>\n",
       "      <th>374425</th>\n",
       "      <td>624014</td>\n",
       "      <td>1</td>\n",
       "      <td>2025-02-28 00:20:00</td>\n",
       "      <td>Treatment Plan Review</td>\n",
       "    </tr>\n",
       "  </tbody>\n",
       "</table>\n",
       "<p>374426 rows × 4 columns</p>\n",
       "</div>"
      ],
      "text/plain": [
       "        PatientID  IsActive       EncounterDate            EncounterType\n",
       "0          622786         1 2002-10-16 12:39:00           Admission Note\n",
       "1          628236         1 2014-07-14 16:30:00       Communication Note\n",
       "2          622241         1 2016-02-01 11:31:00   Initial Treatment Plan\n",
       "3          622220         1 2016-12-27 15:29:00   Initial Treatment Plan\n",
       "4          620580         1 2019-03-28 16:47:00   Initial Treatment Plan\n",
       "...           ...       ...                 ...                      ...\n",
       "374421     630125         1 2025-01-30 17:00:00  OLP Licensed Evaluation\n",
       "374422     625881         1 2025-01-30 17:40:00    Treatment Plan Review\n",
       "374423     628676         1 2025-01-30 21:00:00         Assessment Tools\n",
       "374424     621604         1 2025-02-16 13:59:00    Treatment Plan Review\n",
       "374425     624014         1 2025-02-28 00:20:00    Treatment Plan Review\n",
       "\n",
       "[374426 rows x 4 columns]"
      ]
     },
     "execution_count": 6,
     "metadata": {},
     "output_type": "execute_result"
    }
   ],
   "source": [
    "sql=f'''\n",
    "SELECT \n",
    "    tblEncounterSummary.PatientID as PatientID,\n",
    "    emr_PatientDetails.isActive as IsActive,\n",
    "    tblEncounterSummary.VisitDateTime as EncounterDate,\n",
    "    tblEncounterType.EncounterType\n",
    "FROM \n",
    "    tblEncounterSummary\n",
    "    LEFT JOIN emr_PatientDetails ON (tblEncounterSummary.patientID = emr_PatientDetails.patientID)\n",
    "    LEFT JOIN tblEncounterType ON (tblEncounterSummary.EncounterTypeID=tblEncounterType.EncounterTypeID)\n",
    "WHERE\n",
    "    emr_PatientDetails.MRNNumber NOT IN ({testPatients})\n",
    "ORDER BY EncounterDate\n",
    "'''\n",
    "try:\n",
    "    encounters = pd.read_sql(sql, conn)\n",
    "    logger.info(\"Successfully queried encounters\")\n",
    "except Exception as e:\n",
    "    logger.error(f\"Failed to query encounters.\", exc_info=True) \n",
    "    print(e)\n",
    "\n",
    "encounters"
   ]
  },
  {
   "cell_type": "code",
   "execution_count": 7,
   "id": "5074b2cb",
   "metadata": {
    "ExecuteTime": {
     "end_time": "2023-07-20T20:28:43.120751Z",
     "start_time": "2023-07-20T20:28:42.534809Z"
    },
    "execution": {
     "iopub.execute_input": "2025-01-27T12:59:19.107831Z",
     "iopub.status.busy": "2025-01-27T12:59:19.107831Z",
     "iopub.status.idle": "2025-01-27T12:59:20.970831Z",
     "shell.execute_reply": "2025-01-27T12:59:20.970333Z"
    },
    "papermill": {
     "duration": 1.867501,
     "end_time": "2025-01-27T12:59:20.971834",
     "exception": false,
     "start_time": "2025-01-27T12:59:19.104333",
     "status": "completed"
    },
    "tags": []
   },
   "outputs": [],
   "source": [
    "sql=f'''\n",
    "SELECT \n",
    "    tblEncounterSummary.PatientID as PatientID,\n",
    "    tblEncounterSummary.VisitDateTime as Billable_EncounterDate,\n",
    "    tblEncounterType.EncounterType as Billable_EncounterType,\n",
    "    tblEncounterSummary.ProgramName,\n",
    "    tblFacilitiesMaster.FacilityName\n",
    "FROM \n",
    "    tblEncounterSummary\n",
    "    LEFT JOIN emr_PatientDetails ON (tblEncounterSummary.patientID = emr_PatientDetails.patientID)\n",
    "    LEFT JOIN tblEncounterType ON (tblEncounterSummary.EncounterTypeID=tblEncounterType.EncounterTypeID)\n",
    "    LEFT JOIN tblFacilitiesMaster ON (tblEncounterSummary.FacilityId=tblFacilitiesMaster.FacilityId)\n",
    "WHERE IsBillable LIKE '%TRUE%' \n",
    "    AND emr_PatientDetails.MRNNumber NOT IN ({testPatients})\n",
    "Order By Billable_EncounterDate    \n",
    "'''\n",
    "try:\n",
    "    billableEncounters = pd.read_sql(sql, conn)\n",
    "    logger.info(\"Successfully queried billableEncounters = pd.read_sql(sql, conn)\")\n",
    "except Exception as e:\n",
    "    logger.error(f\"Failed to query billableEncounters = pd.read_sql(sql, conn).\", exc_info=True) \n",
    "    print(e)\n"
   ]
  },
  {
   "cell_type": "markdown",
   "id": "ed777b75",
   "metadata": {
    "papermill": {
     "duration": 0.002495,
     "end_time": "2025-01-27T12:59:20.977828",
     "exception": false,
     "start_time": "2025-01-27T12:59:20.975333",
     "status": "completed"
    },
    "tags": []
   },
   "source": [
    "# Transform Data"
   ]
  },
  {
   "cell_type": "code",
   "execution_count": 8,
   "id": "a361cbb6",
   "metadata": {
    "ExecuteTime": {
     "end_time": "2023-07-20T20:29:08.631478Z",
     "start_time": "2023-07-20T20:29:08.444857Z"
    },
    "execution": {
     "iopub.execute_input": "2025-01-27T12:59:20.983832Z",
     "iopub.status.busy": "2025-01-27T12:59:20.983832Z",
     "iopub.status.idle": "2025-01-27T12:59:21.130331Z",
     "shell.execute_reply": "2025-01-27T12:59:21.129828Z"
    },
    "papermill": {
     "duration": 0.150976,
     "end_time": "2025-01-27T12:59:21.131330",
     "exception": false,
     "start_time": "2025-01-27T12:59:20.980354",
     "status": "completed"
    },
    "tags": []
   },
   "outputs": [],
   "source": [
    "# get the most recent (last) encounter type, date and patient activity\n",
    "discharged = encounters.groupby(['PatientID'], as_index=False)[['EncounterType', 'EncounterDate', 'IsActive']].last()\n",
    "finalBillable = billableEncounters.groupby(['PatientID'], as_index=False)[['Billable_EncounterType', 'Billable_EncounterDate']].last()\n",
    "finalEncounterFacility = billableEncounters.groupby(['PatientID'], as_index=False)[['ProgramName', 'FacilityName']].last()"
   ]
  },
  {
   "cell_type": "code",
   "execution_count": 9,
   "id": "592b5ad0",
   "metadata": {
    "ExecuteTime": {
     "end_time": "2023-07-20T20:29:08.727170Z",
     "start_time": "2023-07-20T20:29:08.634437Z"
    },
    "execution": {
     "iopub.execute_input": "2025-01-27T12:59:21.138329Z",
     "iopub.status.busy": "2025-01-27T12:59:21.137846Z",
     "iopub.status.idle": "2025-01-27T12:59:21.219831Z",
     "shell.execute_reply": "2025-01-27T12:59:21.219333Z"
    },
    "papermill": {
     "duration": 0.086003,
     "end_time": "2025-01-27T12:59:21.220832",
     "exception": false,
     "start_time": "2025-01-27T12:59:21.134829",
     "status": "completed"
    },
    "tags": []
   },
   "outputs": [],
   "source": [
    "# check if encounter type contains discharge\n",
    "discharged['is_Discharged'] = discharged['EncounterType'].map(lambda type: \n",
    "                                                              1 if \"discharge\" in str(type).lower() else \n",
    "                                                              (1 if \"non-admission note\" in str(type).lower() else\n",
    "                                                              (1 if \"closed case summery\" in str(type).lower() else 0)))\n",
    "# summarize last seen date\n",
    "finalBillable['seen_Recently'] = finalBillable['Billable_EncounterDate'].map(findPatientsNotSeenInaWhile)"
   ]
  },
  {
   "cell_type": "code",
   "execution_count": 10,
   "id": "6ca856c8",
   "metadata": {
    "ExecuteTime": {
     "end_time": "2023-07-20T20:29:08.820156Z",
     "start_time": "2023-07-20T20:29:08.728131Z"
    },
    "execution": {
     "iopub.execute_input": "2025-01-27T12:59:21.227331Z",
     "iopub.status.busy": "2025-01-27T12:59:21.226835Z",
     "iopub.status.idle": "2025-01-27T12:59:21.240331Z",
     "shell.execute_reply": "2025-01-27T12:59:21.239829Z"
    },
    "papermill": {
     "duration": 0.018002,
     "end_time": "2025-01-27T12:59:21.241330",
     "exception": false,
     "start_time": "2025-01-27T12:59:21.223328",
     "status": "completed"
    },
    "tags": []
   },
   "outputs": [],
   "source": [
    "finalPatientStatus = discharged.merge(finalBillable, how='left', on='PatientID').merge(finalEncounterFacility, how='left', on='PatientID')"
   ]
  },
  {
   "cell_type": "code",
   "execution_count": 11,
   "id": "2a89bf52",
   "metadata": {
    "ExecuteTime": {
     "end_time": "2023-07-20T20:29:08.836191Z",
     "start_time": "2023-07-20T20:29:08.821114Z"
    },
    "execution": {
     "iopub.execute_input": "2025-01-27T12:59:21.247832Z",
     "iopub.status.busy": "2025-01-27T12:59:21.247332Z",
     "iopub.status.idle": "2025-01-27T12:59:21.252332Z",
     "shell.execute_reply": "2025-01-27T12:59:21.251832Z"
    },
    "papermill": {
     "duration": 0.009006,
     "end_time": "2025-01-27T12:59:21.253330",
     "exception": false,
     "start_time": "2025-01-27T12:59:21.244324",
     "status": "completed"
    },
    "tags": []
   },
   "outputs": [],
   "source": [
    "# rename columns to be more explicit\n",
    "finalPatientStatus.columns = ['PatientID', \n",
    "                      'finalEncounterType', \n",
    "                      'finalEncounterDate', \n",
    "                      'is_ActiveInInSync',\n",
    "                      'is_lastEncounterDischarge',\n",
    "                      'lastBillable_EncounterType',\n",
    "                      'lastBillable_EncounterDate',\n",
    "                      'seen_Recently',\n",
    "                      'lastBillable_ProgramName',\n",
    "                      'lastBillable_FacilityName']\n",
    "#reorder the columns\n",
    "finalPatientStatus =    finalPatientStatus[['PatientID', \n",
    "                      'finalEncounterType', \n",
    "                      'finalEncounterDate', \n",
    "                      'is_ActiveInInSync',\n",
    "                      'is_lastEncounterDischarge',\n",
    "                      'lastBillable_EncounterType',\n",
    "                      'lastBillable_EncounterDate',\n",
    "                      'lastBillable_ProgramName',\n",
    "                      'lastBillable_FacilityName',\n",
    "                      'seen_Recently']       ]"
   ]
  },
  {
   "cell_type": "code",
   "execution_count": 12,
   "id": "27a5ef5a",
   "metadata": {
    "ExecuteTime": {
     "end_time": "2023-07-20T20:29:08.897582Z",
     "start_time": "2023-07-20T20:29:08.837827Z"
    },
    "execution": {
     "iopub.execute_input": "2025-01-27T12:59:21.259332Z",
     "iopub.status.busy": "2025-01-27T12:59:21.259332Z",
     "iopub.status.idle": "2025-01-27T12:59:21.270332Z",
     "shell.execute_reply": "2025-01-27T12:59:21.269832Z"
    },
    "papermill": {
     "duration": 0.015506,
     "end_time": "2025-01-27T12:59:21.271333",
     "exception": false,
     "start_time": "2025-01-27T12:59:21.255827",
     "status": "completed"
    },
    "tags": []
   },
   "outputs": [
    {
     "data": {
      "text/html": [
       "<div>\n",
       "<style scoped>\n",
       "    .dataframe tbody tr th:only-of-type {\n",
       "        vertical-align: middle;\n",
       "    }\n",
       "\n",
       "    .dataframe tbody tr th {\n",
       "        vertical-align: top;\n",
       "    }\n",
       "\n",
       "    .dataframe thead th {\n",
       "        text-align: right;\n",
       "    }\n",
       "</style>\n",
       "<table border=\"1\" class=\"dataframe\">\n",
       "  <thead>\n",
       "    <tr style=\"text-align: right;\">\n",
       "      <th></th>\n",
       "      <th>PatientID</th>\n",
       "      <th>finalEncounterType</th>\n",
       "      <th>finalEncounterDate</th>\n",
       "      <th>is_ActiveInInSync</th>\n",
       "      <th>is_lastEncounterDischarge</th>\n",
       "      <th>lastBillable_EncounterType</th>\n",
       "      <th>lastBillable_EncounterDate</th>\n",
       "      <th>lastBillable_ProgramName</th>\n",
       "      <th>lastBillable_FacilityName</th>\n",
       "      <th>seen_Recently</th>\n",
       "    </tr>\n",
       "  </thead>\n",
       "  <tbody>\n",
       "    <tr>\n",
       "      <th>1852</th>\n",
       "      <td>622719</td>\n",
       "      <td>Non-Admission Note</td>\n",
       "      <td>2025-01-09 17:27:00</td>\n",
       "      <td>1</td>\n",
       "      <td>1</td>\n",
       "      <td>SBIRT Documentation</td>\n",
       "      <td>2024-12-17 16:00:00</td>\n",
       "      <td>Boro Park Clinics</td>\n",
       "      <td>Clinic 5309 18th Avenue</td>\n",
       "      <td>Hasn't been seen in 3 weeks</td>\n",
       "    </tr>\n",
       "  </tbody>\n",
       "</table>\n",
       "</div>"
      ],
      "text/plain": [
       "      PatientID  finalEncounterType  finalEncounterDate  is_ActiveInInSync  \\\n",
       "1852     622719  Non-Admission Note 2025-01-09 17:27:00                  1   \n",
       "\n",
       "      is_lastEncounterDischarge lastBillable_EncounterType  \\\n",
       "1852                          1        SBIRT Documentation   \n",
       "\n",
       "     lastBillable_EncounterDate lastBillable_ProgramName  \\\n",
       "1852        2024-12-17 16:00:00        Boro Park Clinics   \n",
       "\n",
       "     lastBillable_FacilityName                seen_Recently  \n",
       "1852   Clinic 5309 18th Avenue  Hasn't been seen in 3 weeks  "
      ]
     },
     "execution_count": 12,
     "metadata": {},
     "output_type": "execute_result"
    }
   ],
   "source": [
    "finalPatientStatus[finalPatientStatus['PatientID'] == 622719]"
   ]
  },
  {
   "cell_type": "markdown",
   "id": "cf662992",
   "metadata": {
    "papermill": {
     "duration": 0.002492,
     "end_time": "2025-01-27T12:59:21.276323",
     "exception": false,
     "start_time": "2025-01-27T12:59:21.273831",
     "status": "completed"
    },
    "tags": []
   },
   "source": [
    "## Manual Line\n",
    "- The code below is used to help with writing the proper SQL Create table query below"
   ]
  },
  {
   "cell_type": "code",
   "execution_count": 13,
   "id": "8d4851d3",
   "metadata": {
    "ExecuteTime": {
     "end_time": "2023-07-20T20:29:08.929640Z",
     "start_time": "2023-07-20T20:29:08.899587Z"
    },
    "execution": {
     "iopub.execute_input": "2025-01-27T12:59:21.282832Z",
     "iopub.status.busy": "2025-01-27T12:59:21.282331Z",
     "iopub.status.idle": "2025-01-27T12:59:21.287331Z",
     "shell.execute_reply": "2025-01-27T12:59:21.286828Z"
    },
    "papermill": {
     "duration": 0.00851,
     "end_time": "2025-01-27T12:59:21.287832",
     "exception": false,
     "start_time": "2025-01-27T12:59:21.279322",
     "status": "completed"
    },
    "tags": []
   },
   "outputs": [
    {
     "data": {
      "text/plain": [
       "'PatientID int64, finalEncounterType object, finalEncounterDate datetime64[ns], is_ActiveInInSync int64, is_lastEncounterDischarge int64, lastBillable_EncounterType object, lastBillable_EncounterDate datetime64[ns], lastBillable_ProgramName object, lastBillable_FacilityName object, seen_Recently object'"
      ]
     },
     "execution_count": 13,
     "metadata": {},
     "output_type": "execute_result"
    }
   ],
   "source": [
    "# use to transform data into\n",
    "\", \".join([item + \" \" + str(finalPatientStatus[item].dtype) for item in finalPatientStatus.columns])"
   ]
  },
  {
   "cell_type": "markdown",
   "id": "a3728982",
   "metadata": {
    "papermill": {
     "duration": 0.0025,
     "end_time": "2025-01-27T12:59:21.293333",
     "exception": false,
     "start_time": "2025-01-27T12:59:21.290833",
     "status": "completed"
    },
    "tags": []
   },
   "source": [
    "# Push Data to Table"
   ]
  },
  {
   "cell_type": "code",
   "execution_count": 14,
   "id": "c6382e98",
   "metadata": {
    "ExecuteTime": {
     "end_time": "2023-07-20T20:29:09.382644Z",
     "start_time": "2023-07-20T20:29:08.931643Z"
    },
    "execution": {
     "iopub.execute_input": "2025-01-27T12:59:21.299831Z",
     "iopub.status.busy": "2025-01-27T12:59:21.299331Z",
     "iopub.status.idle": "2025-01-27T12:59:21.468336Z",
     "shell.execute_reply": "2025-01-27T12:59:21.467832Z"
    },
    "papermill": {
     "duration": 0.173508,
     "end_time": "2025-01-27T12:59:21.469831",
     "exception": false,
     "start_time": "2025-01-27T12:59:21.296323",
     "status": "completed"
    },
    "tags": []
   },
   "outputs": [],
   "source": [
    "table_name= \"ptPatient_Activity\"\n",
    "try:\n",
    "    # conn.execute(f'''CREATE TABLE IF NOT EXISTS {table_name} (PatientID INTEGER, finalEncounterType TEXT, finalEncounterDate TEXT, is_ActiveInInSync INTEGER, is_lastEncounterDischarge INTEGER, lastBillable_EncounterType TEXT, lastBillable_EncounterDate TEXT, lastBillable_ProgramName TEXT, lastBillable_FacilityName TEXT, seen_Recently TEXT) ''')\n",
    "    # conn.commit()\n",
    "    finalPatientStatus.to_sql(\"ptPatient_Activity\", conn, if_exists='replace', index = False)\n",
    "    logger.info(f\"Successfully pushed {table_name} to database.\")            \n",
    "except Exception as e:\n",
    "    logger.error(f\"Failed to push {table_name} to database.\", exc_info=True) \n",
    "    print(e)"
   ]
  },
  {
   "cell_type": "code",
   "execution_count": 15,
   "id": "87c9df31",
   "metadata": {
    "ExecuteTime": {
     "end_time": "2023-07-20T20:29:09.429598Z",
     "start_time": "2023-07-20T20:29:09.383634Z"
    },
    "execution": {
     "iopub.execute_input": "2025-01-27T12:59:21.477831Z",
     "iopub.status.busy": "2025-01-27T12:59:21.477831Z",
     "iopub.status.idle": "2025-01-27T12:59:21.481416Z",
     "shell.execute_reply": "2025-01-27T12:59:21.480833Z"
    },
    "papermill": {
     "duration": 0.008511,
     "end_time": "2025-01-27T12:59:21.482335",
     "exception": false,
     "start_time": "2025-01-27T12:59:21.473824",
     "status": "completed"
    },
    "tags": []
   },
   "outputs": [],
   "source": [
    "conn.dispose()"
   ]
  }
 ],
 "metadata": {
  "kernelspec": {
   "display_name": "DataPipeline_Env",
   "language": "python",
   "name": "datapipeline_env"
  },
  "language_info": {
   "codemirror_mode": {
    "name": "ipython",
    "version": 3
   },
   "file_extension": ".py",
   "mimetype": "text/x-python",
   "name": "python",
   "nbconvert_exporter": "python",
   "pygments_lexer": "ipython3",
   "version": "3.12.4"
  },
  "papermill": {
   "default_parameters": {},
   "duration": 13.114006,
   "end_time": "2025-01-27T12:59:21.805837",
   "environment_variables": {},
   "exception": null,
   "input_path": "DetermineDischargeStatus SQL Express.ipynb",
   "output_path": "snapshots/DetermineDischargeStatus SQL Express.ipynb",
   "parameters": {},
   "start_time": "2025-01-27T12:59:08.691831",
   "version": "2.6.0"
  },
  "toc": {
   "base_numbering": 1,
   "nav_menu": {},
   "number_sections": true,
   "sideBar": true,
   "skip_h1_title": false,
   "title_cell": "Table of Contents",
   "title_sidebar": "Contents",
   "toc_cell": false,
   "toc_position": {},
   "toc_section_display": true,
   "toc_window_display": true
  },
  "varInspector": {
   "cols": {
    "lenName": 16,
    "lenType": 16,
    "lenVar": 40
   },
   "kernels_config": {
    "python": {
     "delete_cmd_postfix": "",
     "delete_cmd_prefix": "del ",
     "library": "var_list.py",
     "varRefreshCmd": "print(var_dic_list())"
    },
    "r": {
     "delete_cmd_postfix": ") ",
     "delete_cmd_prefix": "rm(",
     "library": "var_list.r",
     "varRefreshCmd": "cat(var_dic_list()) "
    }
   },
   "types_to_exclude": [
    "module",
    "function",
    "builtin_function_or_method",
    "instance",
    "_Feature"
   ],
   "window_display": false
  }
 },
 "nbformat": 4,
 "nbformat_minor": 5
}