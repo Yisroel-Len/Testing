{
 "cells": [
  {
   "cell_type": "code",
   "execution_count": 1,
   "id": "d8f8dff2",
   "metadata": {
    "ExecuteTime": {
     "end_time": "2023-06-19T17:12:04.693955Z",
     "start_time": "2023-06-19T17:12:03.745305Z"
    },
    "execution": {
     "iopub.execute_input": "2025-01-27T12:59:36.685330Z",
     "iopub.status.busy": "2025-01-27T12:59:36.685330Z",
     "iopub.status.idle": "2025-01-27T12:59:37.181330Z",
     "shell.execute_reply": "2025-01-27T12:59:37.180827Z"
    },
    "papermill": {
     "duration": 0.501508,
     "end_time": "2025-01-27T12:59:37.182335",
     "exception": false,
     "start_time": "2025-01-27T12:59:36.680827",
     "status": "completed"
    },
    "tags": []
   },
   "outputs": [],
   "source": [
    "import pandas as pd\n",
    "import numpy as np\n",
    "import pyodbc\n",
    "import time\n",
    "from datetime import datetime\n",
    "from dateutil.relativedelta import relativedelta\n",
    "from datetime import date\n",
    "from sqlalchemy import create_engine"
   ]
  },
  {
   "cell_type": "code",
   "execution_count": 2,
   "id": "8523fff1",
   "metadata": {
    "execution": {
     "iopub.execute_input": "2025-01-27T12:59:37.190831Z",
     "iopub.status.busy": "2025-01-27T12:59:37.190331Z",
     "iopub.status.idle": "2025-01-27T12:59:37.207329Z",
     "shell.execute_reply": "2025-01-27T12:59:37.206833Z"
    },
    "papermill": {
     "duration": 0.022,
     "end_time": "2025-01-27T12:59:37.208331",
     "exception": false,
     "start_time": "2025-01-27T12:59:37.186331",
     "status": "completed"
    },
    "tags": []
   },
   "outputs": [],
   "source": [
    "conn = create_engine(r'mssql+pyodbc://@PYTHONSERVER\\SQLEXPRESS/InSync?driver=ODBC+Driver+17+for+SQL+Server&trusted_connection=yes', fast_executemany=True)"
   ]
  },
  {
   "cell_type": "code",
   "execution_count": 3,
   "id": "e8e2fd4f",
   "metadata": {
    "ExecuteTime": {
     "end_time": "2024-09-17T18:53:47.581118Z",
     "start_time": "2024-09-17T18:53:47.563036Z"
    },
    "execution": {
     "iopub.execute_input": "2025-01-27T12:59:37.215824Z",
     "iopub.status.busy": "2025-01-27T12:59:37.215824Z",
     "iopub.status.idle": "2025-01-27T12:59:37.221832Z",
     "shell.execute_reply": "2025-01-27T12:59:37.221332Z"
    },
    "papermill": {
     "duration": 0.011005,
     "end_time": "2025-01-27T12:59:37.222831",
     "exception": false,
     "start_time": "2025-01-27T12:59:37.211826",
     "status": "completed"
    },
    "tags": []
   },
   "outputs": [],
   "source": [
    "import sys\n",
    "import logging\n",
    "path = r'..\\..\\Logs\\clinical_log.log'\n",
    "logging.basicConfig(filename=path,\n",
    "                    filemode='a',\n",
    "                    format='%(asctime)s,%(msecs)d,%(name)s,%(levelname)s,%(message)s',\n",
    "                    datefmt='%Y-%m-%d %H:%M:%S',\n",
    "                    level=logging.DEBUG)\n",
    "logger = logging.getLogger('TreatmentPlanReport')\n",
    "# logger.info('testing log')"
   ]
  },
  {
   "cell_type": "markdown",
   "id": "0776aa02",
   "metadata": {
    "papermill": {
     "duration": 0.003496,
     "end_time": "2025-01-27T12:59:37.229823",
     "exception": false,
     "start_time": "2025-01-27T12:59:37.226327",
     "status": "completed"
    },
    "tags": []
   },
   "source": [
    "## Notes\n",
    "- Make sure that due dates are not calculated by time\n",
    "- Do we want to see which plans were signed/closed late???\n",
    "- If there are two initial treatment plans go by the second one.\n",
    "<br>\n",
    "\n",
    "## To-Do"
   ]
  },
  {
   "cell_type": "code",
   "execution_count": 4,
   "id": "724d1dff",
   "metadata": {
    "execution": {
     "iopub.execute_input": "2025-01-27T12:59:37.236831Z",
     "iopub.status.busy": "2025-01-27T12:59:37.236831Z",
     "iopub.status.idle": "2025-01-27T12:59:37.392822Z",
     "shell.execute_reply": "2025-01-27T12:59:37.392328Z"
    },
    "papermill": {
     "duration": 0.160946,
     "end_time": "2025-01-27T12:59:37.393835",
     "exception": false,
     "start_time": "2025-01-27T12:59:37.232889",
     "status": "completed"
    },
    "tags": []
   },
   "outputs": [],
   "source": [
    "try:\n",
    "    logger.info(f'Querying ptPatient_Activity.')\n",
    "    sql='''\n",
    "    SELECT \n",
    "        ptPatient_Activity.*,\n",
    "        MRNNumber,\n",
    "        LastName + ', ' + FirstName as patient_fullName,\n",
    "        DOB,\n",
    "        FacilityName AS 'Primary Facility'\n",
    "    FROM \n",
    "        ptPatient_Activity\n",
    "        LEFT JOIN emr_PatientDetails ON (ptPatient_Activity.PatientID=emr_PatientDetails.PatientID)\n",
    "        LEFT JOIN emr_FacilitiesDetails ON (emr_PatientDetails._PrimaryFacility = emr_FacilitiesDetails.FacilityId)\n",
    "    '''\n",
    "    patientDetails = pd.read_sql(sql, conn)\n",
    "    patientDetails = patientDetails.replace('', np.nan)\n",
    "    patientDetails['DOB'] =pd.to_datetime(patientDetails['DOB'])\n",
    "    logger.info(f'Successfully queried ptPatient_Activity.')\n",
    "except Exception as e:\n",
    "    print(e)\n",
    "    logger.error(f'Failed to query ptPatient_Activity.', exc_info=True) "
   ]
  },
  {
   "cell_type": "markdown",
   "id": "79e9a74b",
   "metadata": {
    "papermill": {
     "duration": 0.003498,
     "end_time": "2025-01-27T12:59:37.401323",
     "exception": false,
     "start_time": "2025-01-27T12:59:37.397825",
     "status": "completed"
    },
    "tags": []
   },
   "source": [
    "## Get Treatment Plan Info"
   ]
  },
  {
   "cell_type": "code",
   "execution_count": 5,
   "id": "eb9789c8",
   "metadata": {
    "execution": {
     "iopub.execute_input": "2025-01-27T12:59:37.409331Z",
     "iopub.status.busy": "2025-01-27T12:59:37.409331Z",
     "iopub.status.idle": "2025-01-27T12:59:40.468828Z",
     "shell.execute_reply": "2025-01-27T12:59:40.468327Z"
    },
    "papermill": {
     "duration": 3.065497,
     "end_time": "2025-01-27T12:59:40.470327",
     "exception": false,
     "start_time": "2025-01-27T12:59:37.404830",
     "status": "completed"
    },
    "tags": []
   },
   "outputs": [
    {
     "name": "stderr",
     "output_type": "stream",
     "text": [
      "C:\\Users\\ylen\\AppData\\Local\\Temp\\ipykernel_11952\\52720397.py:39: UserWarning: Could not infer format, so each element will be parsed individually, falling back to `dateutil`. To ensure parsing is consistent and as-expected, please specify a format.\n",
      "  treatmentPlanEncounters['EncounterStartDateTimeToolTip'] = pd.to_datetime(treatmentPlanEncounters['EncounterStartDateTimeToolTip'])\n"
     ]
    },
    {
     "name": "stderr",
     "output_type": "stream",
     "text": [
      "C:\\Users\\ylen\\AppData\\Local\\Temp\\ipykernel_11952\\52720397.py:40: UserWarning: Could not infer format, so each element will be parsed individually, falling back to `dateutil`. To ensure parsing is consistent and as-expected, please specify a format.\n",
      "  treatmentPlanEncounters['EncounterEndDateTimeToolTip'] = pd.to_datetime(treatmentPlanEncounters['EncounterEndDateTimeToolTip'])\n"
     ]
    }
   ],
   "source": [
    "try:\n",
    "    logger.info(f'Querying treatment plan related info from tblEncounterSummary.')\n",
    "    sql='''\n",
    "    SELECT \n",
    "        tblEncounterSummary.PatientId as PatientID,\n",
    "        tblEncounterSummary.EncounterID, \n",
    "        tblResourceDetails.FullName as ProviderName,\n",
    "        tblEncounter.EndDate,\n",
    "        VisitDateTime as EncounterDate,\n",
    "        EncounterEndDateTimeToolTip,\n",
    "        EncounterStartDateTimeToolTip,\n",
    "        FacilityName,\n",
    "        tblEncounterType.EncounterType,\n",
    "        EncounterOpenClosed,\n",
    "        ProgramName,\n",
    "        closedByLastName + ', ' + closedByFirstName AS closedByFullName\n",
    "    FROM \n",
    "        tblEncounterSummary\n",
    "        LEFT JOIN emr_FacilitiesDetails ON (tblEncounterSummary.FacilityId = emr_FacilitiesDetails.FacilityId)\n",
    "        LEFT JOIN tblEncounterEndDetails ON (tblEncounterSummary.EncounterID = tblEncounterEndDetails.EncounterID)\n",
    "        INNER JOIN tblEncounter ON (tblEncounterSummary.EncounterID = tblEncounter.EncounterID)\n",
    "        LEFT JOIN tblEncounterType ON (tblEncounterSummary.EncounterTypeID = tblEncounterType.EncounterTypeID)\n",
    "        LEFT JOIN tblResourceDetails ON (tblEncounterSummary.ProviderId = tblResourceDetails.ResourceId)\n",
    "    WHERE (tblEncounterType.EncounterType LIKE '%treatment%'\n",
    "        OR tblEncounterType.EncounterType LIKE '%transfer%'\n",
    "        OR tblEncounterType.EncounterType LIKE '%Initial Eval%'\n",
    "        OR tblEncounterType.EncounterType LIKE '%discharge%')\n",
    "        AND tblEncounterType.EncounterType NOT LIKE '%CFTSS%'\n",
    "    '''\n",
    "    treatmentPlanEncounters = pd.read_sql(sql, conn)\n",
    "    # replaces empty strings in the treatmentPlanEncounters DataFrame with NaN values to handle missing data appropriately\n",
    "    treatmentPlanEncounters = treatmentPlanEncounters.replace('', np.nan)\n",
    "    treatmentPlanEncounters['EncounterDate'] = pd.to_datetime(treatmentPlanEncounters['EncounterDate'])\n",
    "    treatmentPlanEncounters['EndDate'] = pd.to_datetime(treatmentPlanEncounters['EndDate'])\n",
    "    # Remove the word time: from column\n",
    "    treatmentPlanEncounters['EncounterStartDateTimeToolTip'] = treatmentPlanEncounters['EncounterStartDateTimeToolTip'].str.replace('Time: ', '')\n",
    "    treatmentPlanEncounters['EncounterEndDateTimeToolTip'] = treatmentPlanEncounters['EncounterEndDateTimeToolTip'].str.replace('Time: ', '')\n",
    "\n",
    "    treatmentPlanEncounters['EncounterStartDateTimeToolTip'] = pd.to_datetime(treatmentPlanEncounters['EncounterStartDateTimeToolTip'])\n",
    "    treatmentPlanEncounters['EncounterEndDateTimeToolTip'] = pd.to_datetime(treatmentPlanEncounters['EncounterEndDateTimeToolTip'])\n",
    "\n",
    "    logger.info(f'Successfully queried treatment plan related info from tblEncounterSummary.')\n",
    "except Exception as e:\n",
    "    print(e)\n",
    "    logger.error(f'Failed to query treatment plan related info from tblEncounterSummary.', exc_info=True) "
   ]
  },
  {
   "cell_type": "code",
   "execution_count": 6,
   "id": "8a50d97c-f20b-48f5-9eb3-5cbca97dc40e",
   "metadata": {
    "execution": {
     "iopub.execute_input": "2025-01-27T12:59:40.478832Z",
     "iopub.status.busy": "2025-01-27T12:59:40.478832Z",
     "iopub.status.idle": "2025-01-27T12:59:40.489829Z",
     "shell.execute_reply": "2025-01-27T12:59:40.489331Z"
    },
    "papermill": {
     "duration": 0.016505,
     "end_time": "2025-01-27T12:59:40.490829",
     "exception": false,
     "start_time": "2025-01-27T12:59:40.474324",
     "status": "completed"
    },
    "tags": []
   },
   "outputs": [
    {
     "data": {
      "text/html": [
       "<div>\n",
       "<style scoped>\n",
       "    .dataframe tbody tr th:only-of-type {\n",
       "        vertical-align: middle;\n",
       "    }\n",
       "\n",
       "    .dataframe tbody tr th {\n",
       "        vertical-align: top;\n",
       "    }\n",
       "\n",
       "    .dataframe thead th {\n",
       "        text-align: right;\n",
       "    }\n",
       "</style>\n",
       "<table border=\"1\" class=\"dataframe\">\n",
       "  <thead>\n",
       "    <tr style=\"text-align: right;\">\n",
       "      <th></th>\n",
       "      <th>PatientID</th>\n",
       "      <th>EncounterID</th>\n",
       "      <th>ProviderName</th>\n",
       "      <th>EndDate</th>\n",
       "      <th>EncounterDate</th>\n",
       "      <th>EncounterEndDateTimeToolTip</th>\n",
       "      <th>EncounterStartDateTimeToolTip</th>\n",
       "      <th>FacilityName</th>\n",
       "      <th>EncounterType</th>\n",
       "      <th>EncounterOpenClosed</th>\n",
       "      <th>ProgramName</th>\n",
       "      <th>closedByFullName</th>\n",
       "    </tr>\n",
       "  </thead>\n",
       "  <tbody>\n",
       "    <tr>\n",
       "      <th>0</th>\n",
       "      <td>620220</td>\n",
       "      <td>727469</td>\n",
       "      <td>Fleisher, Joshua LCSW</td>\n",
       "      <td>NaT</td>\n",
       "      <td>2020-02-19 14:33:00</td>\n",
       "      <td>NaT</td>\n",
       "      <td>2020-02-19 14:33:00</td>\n",
       "      <td>Clinic Williamsburg</td>\n",
       "      <td>Initial Evaluation-1</td>\n",
       "      <td>Open</td>\n",
       "      <td>None</td>\n",
       "      <td>None</td>\n",
       "    </tr>\n",
       "    <tr>\n",
       "      <th>1</th>\n",
       "      <td>620220</td>\n",
       "      <td>727471</td>\n",
       "      <td>Fleisher, Joshua LCSW</td>\n",
       "      <td>NaT</td>\n",
       "      <td>2020-02-20 11:43:00</td>\n",
       "      <td>NaT</td>\n",
       "      <td>2020-02-20 11:43:00</td>\n",
       "      <td>Clinic Williamsburg</td>\n",
       "      <td>Treatment Plan Review</td>\n",
       "      <td>Open</td>\n",
       "      <td>None</td>\n",
       "      <td>None</td>\n",
       "    </tr>\n",
       "    <tr>\n",
       "      <th>2</th>\n",
       "      <td>620220</td>\n",
       "      <td>727472</td>\n",
       "      <td>Fleisher, Joshua LCSW</td>\n",
       "      <td>NaT</td>\n",
       "      <td>2020-02-20 13:48:00</td>\n",
       "      <td>NaT</td>\n",
       "      <td>2020-02-20 13:48:00</td>\n",
       "      <td>Clinic Williamsburg</td>\n",
       "      <td>Treatment Plan Review</td>\n",
       "      <td>Open</td>\n",
       "      <td>None</td>\n",
       "      <td>None</td>\n",
       "    </tr>\n",
       "    <tr>\n",
       "      <th>3</th>\n",
       "      <td>620220</td>\n",
       "      <td>727492</td>\n",
       "      <td>Simcha, Eddie LCSW</td>\n",
       "      <td>NaT</td>\n",
       "      <td>2020-06-24 14:05:00</td>\n",
       "      <td>NaT</td>\n",
       "      <td>2020-06-24 14:05:00</td>\n",
       "      <td>Clinic Williamsburg</td>\n",
       "      <td>Initial Treatment Plan</td>\n",
       "      <td>Open</td>\n",
       "      <td>None</td>\n",
       "      <td>None</td>\n",
       "    </tr>\n",
       "    <tr>\n",
       "      <th>4</th>\n",
       "      <td>620220</td>\n",
       "      <td>727678</td>\n",
       "      <td>Fleisher, Joshua LCSW</td>\n",
       "      <td>NaT</td>\n",
       "      <td>2021-03-24 18:58:00</td>\n",
       "      <td>2021-03-24 19:13:00</td>\n",
       "      <td>2021-03-24 18:58:00</td>\n",
       "      <td>Clinic Williamsburg</td>\n",
       "      <td>Initial Treatment Plan</td>\n",
       "      <td>Open</td>\n",
       "      <td>Williamsburg Clinics</td>\n",
       "      <td>None</td>\n",
       "    </tr>\n",
       "    <tr>\n",
       "      <th>...</th>\n",
       "      <td>...</td>\n",
       "      <td>...</td>\n",
       "      <td>...</td>\n",
       "      <td>...</td>\n",
       "      <td>...</td>\n",
       "      <td>...</td>\n",
       "      <td>...</td>\n",
       "      <td>...</td>\n",
       "      <td>...</td>\n",
       "      <td>...</td>\n",
       "      <td>...</td>\n",
       "      <td>...</td>\n",
       "    </tr>\n",
       "    <tr>\n",
       "      <th>26054</th>\n",
       "      <td>630079</td>\n",
       "      <td>1210456</td>\n",
       "      <td>Baras, Chana Malka LMSW</td>\n",
       "      <td>2025-01-26 19:52:57</td>\n",
       "      <td>2025-01-16 20:30:00</td>\n",
       "      <td>2025-01-16 21:30:00</td>\n",
       "      <td>2025-01-16 20:30:00</td>\n",
       "      <td>CFTSS</td>\n",
       "      <td>Offsite - OLP Licensed Evaluation + Initial Tr...</td>\n",
       "      <td>Closed</td>\n",
       "      <td>CFTSS</td>\n",
       "      <td>Baras, Chana Malka</td>\n",
       "    </tr>\n",
       "    <tr>\n",
       "      <th>26055</th>\n",
       "      <td>630093</td>\n",
       "      <td>1210457</td>\n",
       "      <td>Lipschutz, Yitzchok LMSW</td>\n",
       "      <td>NaT</td>\n",
       "      <td>2025-01-26 18:30:00</td>\n",
       "      <td>NaT</td>\n",
       "      <td>2025-01-26 18:30:00</td>\n",
       "      <td>Clinic 640 Broadway</td>\n",
       "      <td>Initial Evaluation-2 AH</td>\n",
       "      <td>Open</td>\n",
       "      <td>Williamsburg Clinics</td>\n",
       "      <td>None</td>\n",
       "    </tr>\n",
       "    <tr>\n",
       "      <th>26056</th>\n",
       "      <td>623466</td>\n",
       "      <td>1210471</td>\n",
       "      <td>Hamoy, Lizzie LMHC</td>\n",
       "      <td>2025-01-26 20:23:14</td>\n",
       "      <td>2025-01-22 20:01:00</td>\n",
       "      <td>2025-01-22 20:16:00</td>\n",
       "      <td>2025-01-22 20:01:00</td>\n",
       "      <td>Clinic 5309 18th Avenue</td>\n",
       "      <td>Treatment Plan Review</td>\n",
       "      <td>Closed</td>\n",
       "      <td>Boro Park Clinics</td>\n",
       "      <td>Hamoy, Lizzie</td>\n",
       "    </tr>\n",
       "    <tr>\n",
       "      <th>26057</th>\n",
       "      <td>630206</td>\n",
       "      <td>1210591</td>\n",
       "      <td>Baras, Chana Malka LMSW</td>\n",
       "      <td>2025-01-26 23:01:38</td>\n",
       "      <td>2025-01-23 20:00:00</td>\n",
       "      <td>2025-01-23 21:00:00</td>\n",
       "      <td>2025-01-23 20:00:00</td>\n",
       "      <td>CFTSS</td>\n",
       "      <td>OLP Licensed Evaluation + Initial Treatment Plan</td>\n",
       "      <td>Closed</td>\n",
       "      <td>CFTSS</td>\n",
       "      <td>Baras, Chana Malka</td>\n",
       "    </tr>\n",
       "    <tr>\n",
       "      <th>26058</th>\n",
       "      <td>622948</td>\n",
       "      <td>1210603</td>\n",
       "      <td>Endzweig, Bruchy LMHC</td>\n",
       "      <td>NaT</td>\n",
       "      <td>2025-01-26 19:00:00</td>\n",
       "      <td>NaT</td>\n",
       "      <td>2025-01-26 19:00:00</td>\n",
       "      <td>CFTSS</td>\n",
       "      <td>OLP Licensed Evaluation + Initial Treatment Plan</td>\n",
       "      <td>Open</td>\n",
       "      <td>CFTSS</td>\n",
       "      <td>None</td>\n",
       "    </tr>\n",
       "  </tbody>\n",
       "</table>\n",
       "<p>26059 rows × 12 columns</p>\n",
       "</div>"
      ],
      "text/plain": [
       "       PatientID  EncounterID              ProviderName             EndDate  \\\n",
       "0         620220       727469     Fleisher, Joshua LCSW                 NaT   \n",
       "1         620220       727471     Fleisher, Joshua LCSW                 NaT   \n",
       "2         620220       727472     Fleisher, Joshua LCSW                 NaT   \n",
       "3         620220       727492        Simcha, Eddie LCSW                 NaT   \n",
       "4         620220       727678     Fleisher, Joshua LCSW                 NaT   \n",
       "...          ...          ...                       ...                 ...   \n",
       "26054     630079      1210456   Baras, Chana Malka LMSW 2025-01-26 19:52:57   \n",
       "26055     630093      1210457  Lipschutz, Yitzchok LMSW                 NaT   \n",
       "26056     623466      1210471        Hamoy, Lizzie LMHC 2025-01-26 20:23:14   \n",
       "26057     630206      1210591   Baras, Chana Malka LMSW 2025-01-26 23:01:38   \n",
       "26058     622948      1210603     Endzweig, Bruchy LMHC                 NaT   \n",
       "\n",
       "            EncounterDate EncounterEndDateTimeToolTip  \\\n",
       "0     2020-02-19 14:33:00                         NaT   \n",
       "1     2020-02-20 11:43:00                         NaT   \n",
       "2     2020-02-20 13:48:00                         NaT   \n",
       "3     2020-06-24 14:05:00                         NaT   \n",
       "4     2021-03-24 18:58:00         2021-03-24 19:13:00   \n",
       "...                   ...                         ...   \n",
       "26054 2025-01-16 20:30:00         2025-01-16 21:30:00   \n",
       "26055 2025-01-26 18:30:00                         NaT   \n",
       "26056 2025-01-22 20:01:00         2025-01-22 20:16:00   \n",
       "26057 2025-01-23 20:00:00         2025-01-23 21:00:00   \n",
       "26058 2025-01-26 19:00:00                         NaT   \n",
       "\n",
       "      EncounterStartDateTimeToolTip             FacilityName  \\\n",
       "0               2020-02-19 14:33:00      Clinic Williamsburg   \n",
       "1               2020-02-20 11:43:00      Clinic Williamsburg   \n",
       "2               2020-02-20 13:48:00      Clinic Williamsburg   \n",
       "3               2020-06-24 14:05:00      Clinic Williamsburg   \n",
       "4               2021-03-24 18:58:00      Clinic Williamsburg   \n",
       "...                             ...                      ...   \n",
       "26054           2025-01-16 20:30:00                    CFTSS   \n",
       "26055           2025-01-26 18:30:00      Clinic 640 Broadway   \n",
       "26056           2025-01-22 20:01:00  Clinic 5309 18th Avenue   \n",
       "26057           2025-01-23 20:00:00                    CFTSS   \n",
       "26058           2025-01-26 19:00:00                    CFTSS   \n",
       "\n",
       "                                           EncounterType EncounterOpenClosed  \\\n",
       "0                                   Initial Evaluation-1                Open   \n",
       "1                                  Treatment Plan Review                Open   \n",
       "2                                  Treatment Plan Review                Open   \n",
       "3                                 Initial Treatment Plan                Open   \n",
       "4                                 Initial Treatment Plan                Open   \n",
       "...                                                  ...                 ...   \n",
       "26054  Offsite - OLP Licensed Evaluation + Initial Tr...              Closed   \n",
       "26055                            Initial Evaluation-2 AH                Open   \n",
       "26056                              Treatment Plan Review              Closed   \n",
       "26057   OLP Licensed Evaluation + Initial Treatment Plan              Closed   \n",
       "26058   OLP Licensed Evaluation + Initial Treatment Plan                Open   \n",
       "\n",
       "                ProgramName    closedByFullName  \n",
       "0                      None                None  \n",
       "1                      None                None  \n",
       "2                      None                None  \n",
       "3                      None                None  \n",
       "4      Williamsburg Clinics                None  \n",
       "...                     ...                 ...  \n",
       "26054                 CFTSS  Baras, Chana Malka  \n",
       "26055  Williamsburg Clinics                None  \n",
       "26056     Boro Park Clinics       Hamoy, Lizzie  \n",
       "26057                 CFTSS  Baras, Chana Malka  \n",
       "26058                 CFTSS                None  \n",
       "\n",
       "[26059 rows x 12 columns]"
      ]
     },
     "execution_count": 6,
     "metadata": {},
     "output_type": "execute_result"
    }
   ],
   "source": [
    "treatmentPlanEncounters"
   ]
  },
  {
   "cell_type": "markdown",
   "id": "f88d4797",
   "metadata": {
    "papermill": {
     "duration": 0.0035,
     "end_time": "2025-01-27T12:59:40.498323",
     "exception": false,
     "start_time": "2025-01-27T12:59:40.494823",
     "status": "completed"
    },
    "tags": []
   },
   "source": [
    "## Check Patients for Admission"
   ]
  },
  {
   "cell_type": "code",
   "execution_count": 7,
   "id": "a3823b3c",
   "metadata": {
    "execution": {
     "iopub.execute_input": "2025-01-27T12:59:40.506828Z",
     "iopub.status.busy": "2025-01-27T12:59:40.506828Z",
     "iopub.status.idle": "2025-01-27T12:59:40.581327Z",
     "shell.execute_reply": "2025-01-27T12:59:40.580828Z"
    },
    "papermill": {
     "duration": 0.08,
     "end_time": "2025-01-27T12:59:40.582332",
     "exception": false,
     "start_time": "2025-01-27T12:59:40.502332",
     "status": "completed"
    },
    "tags": []
   },
   "outputs": [],
   "source": [
    "try:\n",
    "    sql = f'''\n",
    "    SELECT\n",
    "    PatientId as PatientID,\n",
    "    VisitDateTime,\n",
    "    tblEncounterType.Encountertype\n",
    "    FROM \n",
    "        tblEncounterSummary\n",
    "    LEFT JOIN\n",
    "        tblEncounterType ON tblEncounterType.EncounterTypeID = tblEncounterSummary.EncounterTypeID\n",
    "    WHERE \n",
    "        tblEncounterType.EncounterType LIKE '%Admission Note%' \n",
    "        AND tblEncounterType.EncounterType NOT LIKE '%CFTSS%' \n",
    "    '''\n",
    "    missingAdmissionNote = pd.read_sql(sql,conn)\n",
    "    missingAdmissionNote['VisitDateTime'] = pd.to_datetime(missingAdmissionNote['VisitDateTime'])\n",
    "    missingAdmissionNote = missingAdmissionNote.sort_values(by=['PatientID', 'VisitDateTime'], ascending=False)\n",
    "    missingAdmissionNote = missingAdmissionNote.drop_duplicates('PatientID')\n",
    "    missingAdmissionNote['HasAdmissionNote'] = True\n",
    "    logger.info(f'Successfully queried admitted patients. Patient must have an admission note.')\n",
    "except Exception as e:\n",
    "    print(e)\n",
    "    logger.error(f'Failed to query admitted patients. Patient must have an admission note.', exc_info=True) "
   ]
  },
  {
   "cell_type": "code",
   "execution_count": 8,
   "id": "35bf4f1a",
   "metadata": {
    "execution": {
     "iopub.execute_input": "2025-01-27T12:59:40.591323Z",
     "iopub.status.busy": "2025-01-27T12:59:40.591323Z",
     "iopub.status.idle": "2025-01-27T12:59:43.135332Z",
     "shell.execute_reply": "2025-01-27T12:59:43.134830Z"
    },
    "papermill": {
     "duration": 2.549503,
     "end_time": "2025-01-27T12:59:43.136332",
     "exception": false,
     "start_time": "2025-01-27T12:59:40.586829",
     "status": "completed"
    },
    "tags": []
   },
   "outputs": [
    {
     "name": "stderr",
     "output_type": "stream",
     "text": [
      "C:\\Users\\ylen\\AppData\\Local\\Temp\\ipykernel_11952\\2931465075.py:27: FutureWarning: A value is trying to be set on a copy of a DataFrame or Series through chained assignment using an inplace method.\n",
      "The behavior will change in pandas 3.0. This inplace method will never work because the intermediate object on which we are setting values always behaves as a copy.\n",
      "\n",
      "For example, when doing 'df[col].method(value, inplace=True)', try using 'df.method({col: value}, inplace=True)' or df[col] = df[col].method(value) instead, to perform the operation inplace on the original object.\n",
      "\n",
      "\n",
      "  treatmentPlanEncounters['Admitted'].fillna('False', inplace=True)\n"
     ]
    }
   ],
   "source": [
    "try:\n",
    "    sql = f'''\n",
    "    SELECT\n",
    "    PatientId as PatientID,\n",
    "    tblEncounterType.EncounterType\n",
    "    FROM \n",
    "        tblEncounterSummary\n",
    "    LEFT JOIN\n",
    "        tblEncounterType ON (tblEncounterSummary.EncounterTypeID=tblEncounterType.EncounterTypeID) \n",
    "    WHERE \n",
    "        tblEncounterType.EncounterType LIKE '%Psychotherapy%' \n",
    "        OR \n",
    "        (tblEncounterType.EncounterType LIKE '%Initial Eval%' \n",
    "        AND tblEncounterType.EncounterType LIKE '%2%')\n",
    "        OR\n",
    "        tblEncounterType.EncounterType LIKE '%Admission Note%' \n",
    "    '''\n",
    "    relevantEncounters = pd.read_sql(sql,conn)\n",
    "    # groupby patient IDs and then check encounter list to see if either they have both an initial evaluation and a psychotherapy or an admission note.\n",
    "    acceptedPatients = relevantEncounters.groupby(['PatientID'])['EncounterType'].apply(lambda x: (( True in list(x.str.lower().str.contains('psychotherapy')) ) \n",
    "                                                                                & ( True in list(x.str.lower().str.contains('initial eval'))  )  )\n",
    "                                                                               | (True in list(x.str.lower() == 'admission note'))\n",
    "                                                                       )\n",
    "    acceptedPatients = acceptedPatients.reset_index()        \n",
    "    acceptedPatients.columns = ['PatientID', 'Admitted']    \n",
    "    treatmentPlanEncounters= treatmentPlanEncounters.merge(acceptedPatients, on='PatientID', how='left', validate='m:1')\n",
    "    treatmentPlanEncounters['Admitted'].fillna('False', inplace=True)\n",
    "    logger.info(f'Successfully queried admitted patients. Patient must have either an encounter type of psychotherapy or an initial eval 2.')\n",
    "except Exception as e:\n",
    "    print(e)\n",
    "    logger.error(f'Failed to query admitted patients. Patient must have either an encounter type of psychotherapy or an initial eval 2.', exc_info=True) "
   ]
  },
  {
   "cell_type": "markdown",
   "id": "9f07af01",
   "metadata": {
    "papermill": {
     "duration": 0.003512,
     "end_time": "2025-01-27T12:59:43.143335",
     "exception": false,
     "start_time": "2025-01-27T12:59:43.139823",
     "status": "completed"
    },
    "tags": []
   },
   "source": [
    "## Check for Primary Providers"
   ]
  },
  {
   "cell_type": "code",
   "execution_count": 9,
   "id": "55168ca6",
   "metadata": {
    "execution": {
     "iopub.execute_input": "2025-01-27T12:59:43.151323Z",
     "iopub.status.busy": "2025-01-27T12:59:43.151323Z",
     "iopub.status.idle": "2025-01-27T12:59:43.218327Z",
     "shell.execute_reply": "2025-01-27T12:59:43.217833Z"
    },
    "papermill": {
     "duration": 0.071998,
     "end_time": "2025-01-27T12:59:43.219330",
     "exception": false,
     "start_time": "2025-01-27T12:59:43.147332",
     "status": "completed"
    },
    "tags": []
   },
   "outputs": [
    {
     "name": "stderr",
     "output_type": "stream",
     "text": [
      "C:\\Users\\ylen\\AppData\\Local\\Temp\\ipykernel_11952\\883487010.py:16: FutureWarning: A value is trying to be set on a copy of a DataFrame or Series through chained assignment using an inplace method.\n",
      "The behavior will change in pandas 3.0. This inplace method will never work because the intermediate object on which we are setting values always behaves as a copy.\n",
      "\n",
      "For example, when doing 'df[col].method(value, inplace=True)', try using 'df.method({col: value}, inplace=True)' or df[col] = df[col].method(value) instead, to perform the operation inplace on the original object.\n",
      "\n",
      "\n",
      "  treatmentPlanEncounters['Primary_Provider'].fillna('Unknown', inplace=True)\n"
     ]
    }
   ],
   "source": [
    "try:\n",
    "    sql = f'''\n",
    "    SELECT\n",
    "    PatientId as PatientID,\n",
    "    tblResourceDetails.FullName as Primary_Provider\n",
    "    FROM \n",
    "        tblPatientPrimaryProviders\n",
    "    LEFT JOIN\n",
    "        tblResourceDetails ON (tblPatientPrimaryProviders.PatientPrimaryProviderId = tblResourceDetails.ResourceId)\n",
    "    WHERE \n",
    "        IsDefault = 'TRUE'\n",
    "    '''\n",
    "    primaryProvider = pd.read_sql(sql,conn)\n",
    "    primaryProvider.drop_duplicates('PatientID', inplace=True)\n",
    "    treatmentPlanEncounters= treatmentPlanEncounters.merge(primaryProvider, on='PatientID', how='left', validate='m:1')\n",
    "    treatmentPlanEncounters['Primary_Provider'].fillna('Unknown', inplace=True)\n",
    "    logger.info(f'Successfully queried primary providers.')\n",
    "except Exception as e:\n",
    "    print(e)\n",
    "    logger.error(f'Failed to query primary providers.', exc_info=True) "
   ]
  },
  {
   "cell_type": "markdown",
   "id": "f2b0c4f5",
   "metadata": {
    "papermill": {
     "duration": 0.003499,
     "end_time": "2025-01-27T12:59:43.226831",
     "exception": false,
     "start_time": "2025-01-27T12:59:43.223332",
     "status": "completed"
    },
    "tags": []
   },
   "source": [
    "## Treatment Plan Functions"
   ]
  },
  {
   "cell_type": "code",
   "execution_count": 10,
   "id": "23fceb68",
   "metadata": {
    "execution": {
     "iopub.execute_input": "2025-01-27T12:59:43.234830Z",
     "iopub.status.busy": "2025-01-27T12:59:43.234330Z",
     "iopub.status.idle": "2025-01-27T12:59:43.242832Z",
     "shell.execute_reply": "2025-01-27T12:59:43.242331Z"
    },
    "papermill": {
     "duration": 0.012993,
     "end_time": "2025-01-27T12:59:43.243323",
     "exception": false,
     "start_time": "2025-01-27T12:59:43.230330",
     "status": "completed"
    },
    "tags": []
   },
   "outputs": [],
   "source": [
    "def find_missing_initial_treatment_plan(temp_df):\n",
    "    # if patient does not have initial treatment plan \n",
    "    # and first treatment plan review date is more than a year past our InSync onboarding \n",
    "    # and patient was admitted, \n",
    "    # return true otherwise return false\n",
    "    if 'Initial Treatment Plan' not in temp_df['EncounterType'].unique() and str(temp_df[temp_df['Summarized Encounter Type'] == 'Treatment Plan']['EncounterDate'].first_valid_index()) != 'None' and str(temp_df[temp_df['Admitted'] == True]['Admitted'].first_valid_index()) != 'None':\n",
    "        if temp_df.loc[temp_df[temp_df['Summarized Encounter Type'] == 'Treatment Plan']['EncounterDate'].first_valid_index(), 'EncounterDate'] > pd.Timestamp('7/20/2022'):\n",
    "            return True\n",
    "        else:\n",
    "            return False\n",
    "    else:\n",
    "        return False\n",
    "    \n",
    "def getDischargeInfo(is_ActiveInInSync, is_lastEncounterDischarge):\n",
    "    if is_ActiveInInSync and is_lastEncounterDischarge:\n",
    "        return '''Last encounter was discharge so Patient should probably be inactivated | '''    \n",
    "\n",
    "def filterAndSortToRelevantData(completeDataFrame, patientID):\n",
    "    singlePatient_df = completeDataFrame[completeDataFrame['PatientID'] == patientID].copy()\n",
    "    singlePatient_df = singlePatient_df[singlePatient_df['Summarized Encounter Type'].map(lambda encType: True if encType == 'Treatment Plan' or encType == 'Transfer Note' or encType == 'Discharge Note' else False)].copy()\n",
    "    singlePatient_df = singlePatient_df.sort_values(by='Review Date', ascending=True)\n",
    "    singlePatient_df = singlePatient_df.reset_index(drop=True)\n",
    "    return singlePatient_df\n",
    "\n",
    "\n",
    "def isEmptyDataFrame(singlePatient_df):\n",
    "    if singlePatient_df.shape[0] == 0:\n",
    "        return True\n",
    "    else:\n",
    "        return False\n",
    "    \n",
    "def isNeedingToBeInactivated(is_ActiveInInSync, is_lastEncounterDischarge):\n",
    "    if is_ActiveInInSync and is_lastEncounterDischarge:\n",
    "        return True  \n",
    "    else:\n",
    "        return False\n",
    "\n",
    "def isTransferNote(singlePatient_df, currentEncounterIndexNum):\n",
    "    if singlePatient_df[currentEncounterIndexNum, 'Summarized Encounter Type'] == 'Transfer Note':\n",
    "        return True\n",
    "    else:\n",
    "        return False\n",
    "\n",
    "def hasNextPlan(singlePatient_df, currentEncounterIndexNum):\n",
    "    # and see if there are any treatment plans after current treatment plan\n",
    "    currentTreatmentPlanDate = singlePatient_df.loc[currentEncounterIndexNum, 'EncounterDate']\n",
    "    if 'Treatment Plan' in singlePatient_df[singlePatient_df['EncounterDate'] > currentTreatmentPlanDate]['Summarized Encounter Type'].unique():\n",
    "        return True\n",
    "    else:\n",
    "        return False\n",
    "\n",
    "def getLocationOfNextPlan(singlePatient_df, currentEncounterIndexNum):\n",
    "    currentTreatmentPlanDate = singlePatient_df.loc[currentEncounterIndexNum, 'EncounterDate']\n",
    "    nextPlanLocation = singlePatient_df[(singlePatient_df['EncounterDate'] > currentTreatmentPlanDate) & (singlePatient_df['Summarized Encounter Type'] == 'Treatment Plan') ].index[0]\n",
    "    return nextPlanLocation\n",
    "\n",
    "def isTransferedNext(singlePatient_df, currentEncounterIndexNum, hasNextPlan, nextPlanLocation=None):\n",
    "    currentTreatmentPlanDate = singlePatient_df.loc[currentEncounterIndexNum, 'EncounterDate']\n",
    "    if hasNextPlan:\n",
    "        # see if there are any transfer notes between current plan and next plan\n",
    "        nextTreatmentPlanDate =  singlePatient_df.loc[nextPlanLocation, 'EncounterDate']\n",
    "        if 'Transfer Note' in singlePatient_df[(singlePatient_df['EncounterDate'] > currentTreatmentPlanDate) & ((singlePatient_df['EncounterDate'] < nextTreatmentPlanDate))]['Summarized Encounter Type'].unique():\n",
    "            return True\n",
    "        else:\n",
    "            return False\n",
    "    else:\n",
    "        if 'Transfer Note' in singlePatient_df[singlePatient_df['EncounterDate'] >= currentTreatmentPlanDate]['Summarized Encounter Type'].unique():\n",
    "            return True\n",
    "        else:\n",
    "            return False\n",
    "    \n",
    "def isDischargedNext(singlePatient_df, currentEncounterIndexNum, hasNextPlan, nextPlanLocation=None):\n",
    "    currentTreatmentPlanDate = singlePatient_df.loc[currentEncounterIndexNum, 'EncounterDate']\n",
    "    if hasNextPlan: # see if there are any transfer notes between current plan and next plan\n",
    "        nextTreatmentPlanDate =  singlePatient_df.loc[nextPlanLocation, 'EncounterDate']\n",
    "        if 'Discharge Note' in singlePatient_df[(singlePatient_df['EncounterDate'] >= currentTreatmentPlanDate) & \n",
    "                                           ((singlePatient_df['EncounterDate'] < nextTreatmentPlanDate))]['Summarized Encounter Type'].unique():\n",
    "            return True\n",
    "        else:\n",
    "            return False\n",
    "    else: # see if there is a \n",
    "        if 'Discharge Note' in singlePatient_df[singlePatient_df['EncounterDate'] >= currentTreatmentPlanDate]['Summarized Encounter Type'].unique():\n",
    "            return True\n",
    "        else:\n",
    "            return False    \n",
    "    \n",
    "def isNextPlanClosedLate(singlePatient_df, currentEncounterIndexNum, hasNextPlan, nextPlanLocation):\n",
    "    if singlePatient_df.loc[nextPlanLocation, 'EndDate']!= pd.NaT and singlePatient_df.loc[nextPlanLocation, 'EndDate'] > singlePatient_df.loc[currentEncounterIndexNum, 'Review Date']:\n",
    "        return True\n",
    "    else:\n",
    "        return False\n",
    "\n",
    "def isCurrentPlanSigned(singlePatient_df, currentEncounterIndexNum):\n",
    "    if str(singlePatient_df.loc[currentEncounterIndexNum, 'closedByFullName']) =='None':\n",
    "        return False\n",
    "    else:\n",
    "        return True\n",
    "\n",
    "def getDaysAfterTransfer(singlePatient_df, currentEncounterIndexNum, hasNextPlan, nextPlanLocation=None):\n",
    "    currentTreatmentPlanDate = singlePatient_df.loc[currentEncounterIndexNum, 'EncounterDate']\n",
    "    if hasNextPlan:\n",
    "        nextTreatmentPlanDate =  singlePatient_df.loc[nextPlanLocation, 'EncounterDate']\n",
    "        return (nextTreatmentPlanDate-singlePatient_df.loc[currentEncounterIndexNum, 'EncounterDate']).days\n",
    "    else:\n",
    "        daysAfterTransfer = (datetime.now()-currentTreatmentPlanDate).days\n",
    "        return daysAfterTransfer\n",
    "\n"
   ]
  },
  {
   "cell_type": "code",
   "execution_count": 11,
   "id": "b0f77077",
   "metadata": {
    "execution": {
     "iopub.execute_input": "2025-01-27T12:59:43.251831Z",
     "iopub.status.busy": "2025-01-27T12:59:43.251831Z",
     "iopub.status.idle": "2025-01-27T12:59:43.322323Z",
     "shell.execute_reply": "2025-01-27T12:59:43.321832Z"
    },
    "papermill": {
     "duration": 0.076007,
     "end_time": "2025-01-27T12:59:43.323330",
     "exception": false,
     "start_time": "2025-01-27T12:59:43.247323",
     "status": "completed"
    },
    "tags": []
   },
   "outputs": [],
   "source": [
    "try:\n",
    "    relevantInfodf = treatmentPlanEncounters.merge(patientDetails, how='left', on='PatientID', validate='m:1')\n",
    "    relevantInfodf = relevantInfodf[relevantInfodf['MRNNumber'].notnull()].copy()\n",
    "    logger.info(f'Successfully merged patient details with treatment plan info.')\n",
    "except Exception as e:\n",
    "    print(e)\n",
    "    logger.error(f'Failed to merge patient details with treatment plan info.', exc_info=True) "
   ]
  },
  {
   "cell_type": "markdown",
   "id": "3600deac",
   "metadata": {
    "papermill": {
     "duration": 0.003998,
     "end_time": "2025-01-27T12:59:43.331328",
     "exception": false,
     "start_time": "2025-01-27T12:59:43.327330",
     "status": "completed"
    },
    "tags": []
   },
   "source": [
    "## Calculate Review Date"
   ]
  },
  {
   "cell_type": "code",
   "execution_count": 12,
   "id": "b40ef12e",
   "metadata": {
    "execution": {
     "iopub.execute_input": "2025-01-27T12:59:43.339840Z",
     "iopub.status.busy": "2025-01-27T12:59:43.339410Z",
     "iopub.status.idle": "2025-01-27T12:59:43.983824Z",
     "shell.execute_reply": "2025-01-27T12:59:43.983327Z"
    },
    "papermill": {
     "duration": 0.649999,
     "end_time": "2025-01-27T12:59:43.984829",
     "exception": false,
     "start_time": "2025-01-27T12:59:43.334830",
     "status": "completed"
    },
    "tags": []
   },
   "outputs": [],
   "source": [
    "try:\n",
    "    relevantInfodf['Summarized Encounter Type'] = relevantInfodf['EncounterType'].map(lambda type: \n",
    "                                                              'Treatment Plan' if 'treatment' in type.lower() else \n",
    "                                                               ('Initial Eval' if 'evaluation' in type.lower() else \n",
    "                                                                ('Transfer Note' if 'transfer' in type.lower() else \n",
    "                                                                 ('Discharge Note' if 'discharge' in type.lower() else 'Something else'))))\n",
    "    # Cut off date for switching to 6 month treatment plans is September 23rd 2023 all previously made treatment plans follow old rules\n",
    "    relevantInfodf['Review Date'] = relevantInfodf.apply(lambda row: \n",
    "                                                         row['EncounterDate'] + relativedelta(days=+30) if 'Initial Eval' in str(row['EncounterType'] )\n",
    "                                                         else (row['EncounterDate'] + relativedelta(months=+6) if row['EncounterDate'] > datetime.strptime('09/23/23 00:00:00', '%m/%d/%y %H:%M:%S')\n",
    "                                                         else (row['EncounterDate'] + relativedelta(months=11) if row['EncounterType'] == 'Initial Treatment Plan' else  \n",
    "                                                         row['EncounterDate'] + relativedelta(months=+12))), axis=1)\n",
    "    relevantInfodf['Days to Review Date'] = relevantInfodf['Review Date'].map(lambda reviewDate:  reviewDate.date()) - date.today()\n",
    "    logger.info(f'Successfully calculated review date.')\n",
    "except Exception as e:\n",
    "    print(e)\n",
    "    logger.error(f'Failed to calculate review date.', exc_info=True) "
   ]
  },
  {
   "cell_type": "markdown",
   "id": "ca203fc6",
   "metadata": {
    "papermill": {
     "duration": 0.003975,
     "end_time": "2025-01-27T12:59:43.993331",
     "exception": false,
     "start_time": "2025-01-27T12:59:43.989356",
     "status": "completed"
    },
    "tags": []
   },
   "source": [
    "## Determine Treatment Plan Status"
   ]
  },
  {
   "cell_type": "code",
   "execution_count": 13,
   "id": "563e5f03",
   "metadata": {
    "execution": {
     "iopub.execute_input": "2025-01-27T12:59:44.002331Z",
     "iopub.status.busy": "2025-01-27T12:59:44.002331Z",
     "iopub.status.idle": "2025-01-27T13:00:42.780326Z",
     "shell.execute_reply": "2025-01-27T13:00:42.779823Z"
    },
    "papermill": {
     "duration": 58.784493,
     "end_time": "2025-01-27T13:00:42.781824",
     "exception": false,
     "start_time": "2025-01-27T12:59:43.997331",
     "status": "completed"
    },
    "tags": []
   },
   "outputs": [],
   "source": [
    "missingInitialTreatmentPlan = f'Missing Initial Treatment Plan'\n",
    "\n",
    "try:\n",
    "    allPatientDf = pd.DataFrame()\n",
    "    for patientID in relevantInfodf['PatientID'].unique()[0:]:\n",
    "        singlePatient_df = filterAndSortToRelevantData(completeDataFrame=relevantInfodf, patientID=patientID)\n",
    "        if isEmptyDataFrame(singlePatient_df): # if patient has initial eval with no initial treatment plan\n",
    "            emptySinglePatient_df = relevantInfodf[(relevantInfodf['PatientID'] == patientID)].copy()\n",
    "\n",
    "            emptySinglePatient_df['missingInitialTreatmentPlan'] = find_missing_initial_treatment_plan(emptySinglePatient_df)\n",
    "            emptySinglePatient_df['treatmentPlanStatus'] = missingInitialTreatmentPlan\n",
    "\n",
    "            allPatientDf = pd.concat([allPatientDf,emptySinglePatient_df])\n",
    "            continue\n",
    "        else:\n",
    "            patientOverallStatus = ''\n",
    "            \n",
    "            # check if patient is missing \n",
    "            is_missingInitialTreatmentPlan = find_missing_initial_treatment_plan(singlePatient_df)\n",
    "            singlePatient_df['missingInitialTreatmentPlan'] = is_missingInitialTreatmentPlan   \n",
    "            patientOverallStatus += missingInitialTreatmentPlan\n",
    "            singlePatient_df['treatmentPlanStatus'] = missingInitialTreatmentPlan\n",
    "            if is_missingInitialTreatmentPlan:\n",
    "                patientOverallStatus = 'Missing Initial Treatment Plan'\n",
    "\n",
    "            is_ActiveInInSync = singlePatient_df.loc[0, 'is_ActiveInInSync']\n",
    "            is_lastEncounterDischarge = singlePatient_df.loc[0, 'is_lastEncounterDischarge']\n",
    "\n",
    "            is_NeedToBeInactivated = isNeedingToBeInactivated(is_ActiveInInSync, is_lastEncounterDischarge)\n",
    "            singlePatient_df['is_NeedToBeInactivated'] = is_NeedToBeInactivated\n",
    "\n",
    "            for currentEncounterIndexNum in range(singlePatient_df.shape[0]):\n",
    "                treatmentPlanStatus = patientOverallStatus\n",
    "                currentEncounterType = singlePatient_df.loc[currentEncounterIndexNum, 'Summarized Encounter Type']\n",
    "                daysToReviewDate = singlePatient_df.loc[currentEncounterIndexNum, 'Days to Review Date'].days\n",
    "\n",
    "                has_NextPlan = hasNextPlan(singlePatient_df, currentEncounterIndexNum)\n",
    "                singlePatient_df.loc[currentEncounterIndexNum, 'has_NextPlan'] = has_NextPlan\n",
    "\n",
    "                is_CurrentPlanSigned = isCurrentPlanSigned(singlePatient_df, currentEncounterIndexNum)\n",
    "                singlePatient_df.loc[currentEncounterIndexNum, 'is_CurrentPlanSigned'] = is_CurrentPlanSigned\n",
    "\n",
    "                if not is_CurrentPlanSigned:\n",
    "                    treatmentPlanStatus += 'Plan Still needs to be signed | '       \n",
    "\n",
    "                if is_NeedToBeInactivated:\n",
    "                    treatmentPlanStatus += 'Last encounter was discharge so Patient should probably be inactivated | '\n",
    "                if has_NextPlan:\n",
    "                    next_PlanLocation = getLocationOfNextPlan(singlePatient_df, currentEncounterIndexNum)\n",
    "                    singlePatient_df.loc[currentEncounterIndexNum, 'next_PlanLocation'] = next_PlanLocation\n",
    "\n",
    "                    is_TransferedNext = isTransferedNext(singlePatient_df, currentEncounterIndexNum, has_NextPlan, next_PlanLocation)\n",
    "                    singlePatient_df.loc[currentEncounterIndexNum, 'is_TransferedNext'] = is_TransferedNext\n",
    "\n",
    "                    is_DischargedNext = isDischargedNext(singlePatient_df, currentEncounterIndexNum, has_NextPlan, next_PlanLocation)\n",
    "                    singlePatient_df.loc[currentEncounterIndexNum, 'is_DischargedNext'] = is_DischargedNext\n",
    "                    if (is_TransferedNext and not is_DischargedNext) and is_CurrentPlanSigned and has_NextPlan:\n",
    "                        get_DaysAfterTransfer = getDaysAfterTransfer(singlePatient_df, currentEncounterIndexNum, has_NextPlan, next_PlanLocation)\n",
    "                        treatmentPlanStatus += f'Old Plan is Good | Patient was Transfered and they completed the follow up plan {get_DaysAfterTransfer} days after.'\n",
    "                    elif (is_DischargedNext and not is_TransferedNext) and is_CurrentPlanSigned and has_NextPlan:\n",
    "                        treatmentPlanStatus += f'Patient was Discharged'\n",
    "                    elif not is_TransferedNext and not is_DischargedNext and is_CurrentPlanSigned and has_NextPlan:\n",
    "                        treatmentPlanStatus += 'Everything Seems Good'\n",
    "\n",
    "                    is_NextPlanClosedLate = isNextPlanClosedLate(singlePatient_df, currentEncounterIndexNum, has_NextPlan, next_PlanLocation)\n",
    "                    singlePatient_df.loc[currentEncounterIndexNum, 'is_NextPlanClosedLate'] = is_NextPlanClosedLate\n",
    "\n",
    "                else: # if there is no next plan \n",
    "                    is_TransferedNext = isTransferedNext(singlePatient_df, currentEncounterIndexNum, has_NextPlan)\n",
    "                    singlePatient_df.loc[currentEncounterIndexNum, 'is_TransferedNext'] = is_TransferedNext\n",
    "\n",
    "                    is_DischargedNext = isDischargedNext(singlePatient_df, currentEncounterIndexNum, has_NextPlan)\n",
    "                    singlePatient_df.loc[currentEncounterIndexNum, 'is_DischargedNext'] = is_DischargedNext\n",
    "\n",
    "                    if not is_TransferedNext and not is_DischargedNext and daysToReviewDate > 0:\n",
    "                        treatmentPlanStatus += f'Everything Seems Good. Still have {daysToReviewDate} days left.'\n",
    "                    elif not is_TransferedNext and not is_DischargedNext and daysToReviewDate < 0:\n",
    "                        treatmentPlanStatus += f'Plan is {np.absolute(daysToReviewDate)} days overdue.'\n",
    "                    elif is_TransferedNext and not is_DischargedNext:\n",
    "                        daysAfterTransfer = getDaysAfterTransfer(singlePatient_df, currentEncounterIndexNum, has_NextPlan)\n",
    "                        if daysAfterTransfer > 30 and currentEncounterType == 'Transfer Note':\n",
    "                            treatmentPlanStatus += f'Patient Transfered. Plan is {daysAfterTransfer-30} days overdue.'\n",
    "                        elif daysAfterTransfer > 30:\n",
    "                            treatmentPlanStatus += f'Patient Transfered.'\n",
    "                        else:\n",
    "                            treatmentPlanStatus += f'Patient Transfered. Plan is due in {30 - daysAfterTransfer} days.'\n",
    "                    elif (is_DischargedNext and not is_TransferedNext):\n",
    "                        treatmentPlanStatus += f'Patient was Discharged'   \n",
    "                singlePatient_df.loc[currentEncounterIndexNum, 'treatmentPlanStatus'] = treatmentPlanStatus  \n",
    "            allPatientDf = pd.concat([allPatientDf,singlePatient_df])\n",
    "    logger.info(f'Successfully built all patients treatment plan details.')\n",
    "except Exception as e:\n",
    "    print(e)\n",
    "    logger.error(f'Failed to build all patients treatment plan details.', exc_info=True) "
   ]
  },
  {
   "cell_type": "code",
   "execution_count": 14,
   "id": "0232539c",
   "metadata": {
    "execution": {
     "iopub.execute_input": "2025-01-27T13:00:42.792328Z",
     "iopub.status.busy": "2025-01-27T13:00:42.792328Z",
     "iopub.status.idle": "2025-01-27T13:00:42.803900Z",
     "shell.execute_reply": "2025-01-27T13:00:42.803327Z"
    },
    "papermill": {
     "duration": 0.017496,
     "end_time": "2025-01-27T13:00:42.804824",
     "exception": false,
     "start_time": "2025-01-27T13:00:42.787328",
     "status": "completed"
    },
    "tags": []
   },
   "outputs": [
    {
     "name": "stderr",
     "output_type": "stream",
     "text": [
      "C:\\Users\\ylen\\AppData\\Local\\Temp\\ipykernel_11952\\933277588.py:11: FutureWarning: Downcasting object dtype arrays on .fillna, .ffill, .bfill is deprecated and will change in a future version. Call result.infer_objects(copy=False) instead. To opt-in to the future behavior, set `pd.set_option('future.no_silent_downcasting', True)`\n",
      "  'is_NextPlanClosedLate']].fillna(False)\n"
     ]
    }
   ],
   "source": [
    "allPatientDf[['has_NextPlan', \n",
    "              'is_CurrentPlanSigned',\n",
    "              'next_PlanLocation',\n",
    "              'is_TransferedNext',\n",
    "              'is_DischargedNext',\n",
    "              'is_NextPlanClosedLate']] = allPatientDf[['has_NextPlan', \n",
    "                                                        'is_CurrentPlanSigned',\n",
    "                                                        'next_PlanLocation',\n",
    "                                                        'is_TransferedNext',\n",
    "                                                        'is_DischargedNext',\n",
    "                                                        'is_NextPlanClosedLate']].fillna(False)   "
   ]
  },
  {
   "cell_type": "code",
   "execution_count": 15,
   "id": "5939f5c6",
   "metadata": {
    "execution": {
     "iopub.execute_input": "2025-01-27T13:00:42.814326Z",
     "iopub.status.busy": "2025-01-27T13:00:42.813823Z",
     "iopub.status.idle": "2025-01-27T13:00:44.253330Z",
     "shell.execute_reply": "2025-01-27T13:00:44.252828Z"
    },
    "papermill": {
     "duration": 1.445011,
     "end_time": "2025-01-27T13:00:44.254329",
     "exception": false,
     "start_time": "2025-01-27T13:00:42.809318",
     "status": "completed"
    },
    "tags": []
   },
   "outputs": [],
   "source": [
    "# for column in allPatientDf.columns:\n",
    "#     print(column)"
   ]
  },
  {
   "cell_type": "code",
   "execution_count": 16,
   "id": "05f47df7",
   "metadata": {
    "execution": {
     "iopub.execute_input": "2025-01-27T13:00:44.264327Z",
     "iopub.status.busy": "2025-01-27T13:00:44.263827Z",
     "iopub.status.idle": "2025-01-27T13:00:44.415826Z",
     "shell.execute_reply": "2025-01-27T13:00:44.415325Z"
    },
    "papermill": {
     "duration": 0.1575,
     "end_time": "2025-01-27T13:00:44.416827",
     "exception": false,
     "start_time": "2025-01-27T13:00:44.259327",
     "status": "completed"
    },
    "tags": []
   },
   "outputs": [],
   "source": [
    "try:\n",
    "    allPatientDf['is_TreatmentPlanGood'] = allPatientDf['treatmentPlanStatus'].map(lambda status: True if 'Everything Seems Good' in str(status) else False)\n",
    "    allPatientDf['is_TreatmentPlanOverdue'] = allPatientDf['treatmentPlanStatus'].map(lambda status: True if 'overdue' in str(status).lower() else False)\n",
    "    logger.info(f'Successfully marked treatment plans that are all good.')\n",
    "except Exception as e:\n",
    "    print(e)\n",
    "    logger.error(f'Failed to mark treatment plans that are all good.', exc_info=True) "
   ]
  },
  {
   "cell_type": "code",
   "execution_count": 17,
   "id": "fd3d3e69",
   "metadata": {
    "execution": {
     "iopub.execute_input": "2025-01-27T13:00:44.426826Z",
     "iopub.status.busy": "2025-01-27T13:00:44.426826Z",
     "iopub.status.idle": "2025-01-27T13:00:44.772318Z",
     "shell.execute_reply": "2025-01-27T13:00:44.771826Z"
    },
    "papermill": {
     "duration": 0.351,
     "end_time": "2025-01-27T13:00:44.773326",
     "exception": false,
     "start_time": "2025-01-27T13:00:44.422326",
     "status": "completed"
    },
    "tags": []
   },
   "outputs": [],
   "source": [
    "allPatientDf['treatmentPlanStatus'] = allPatientDf['treatmentPlanStatus'] + '| ' + allPatientDf['seen_Recently']"
   ]
  },
  {
   "cell_type": "code",
   "execution_count": 18,
   "id": "056ab9cd",
   "metadata": {
    "execution": {
     "iopub.execute_input": "2025-01-27T13:00:44.783318Z",
     "iopub.status.busy": "2025-01-27T13:00:44.782829Z",
     "iopub.status.idle": "2025-01-27T13:00:44.954318Z",
     "shell.execute_reply": "2025-01-27T13:00:44.953821Z"
    },
    "papermill": {
     "duration": 0.177432,
     "end_time": "2025-01-27T13:00:44.955325",
     "exception": false,
     "start_time": "2025-01-27T13:00:44.777893",
     "status": "completed"
    },
    "tags": []
   },
   "outputs": [],
   "source": [
    "# final_df[final_df['PatientID']==622214]\n",
    "# final_df[final_df['PatientID']==622741]"
   ]
  },
  {
   "cell_type": "code",
   "execution_count": 19,
   "id": "4ff28b04",
   "metadata": {
    "execution": {
     "iopub.execute_input": "2025-01-27T13:00:44.964911Z",
     "iopub.status.busy": "2025-01-27T13:00:44.964911Z",
     "iopub.status.idle": "2025-01-27T13:00:45.331326Z",
     "shell.execute_reply": "2025-01-27T13:00:45.330825Z"
    },
    "papermill": {
     "duration": 0.371998,
     "end_time": "2025-01-27T13:00:45.332324",
     "exception": false,
     "start_time": "2025-01-27T13:00:44.960326",
     "status": "completed"
    },
    "tags": []
   },
   "outputs": [
    {
     "data": {
      "text/plain": [
       "array([\"Hasn't been seen in 6 months\",\n",
       "       \"They've been seen in the past 3 weeks\",\n",
       "       \"Hasn't been seen in 3 weeks\", None,\n",
       "       \"Hasn't been seen in 3 months\"], dtype=object)"
      ]
     },
     "execution_count": 19,
     "metadata": {},
     "output_type": "execute_result"
    }
   ],
   "source": [
    "allPatientDf['seen_Recently'].unique()"
   ]
  },
  {
   "cell_type": "code",
   "execution_count": 20,
   "id": "b291620e",
   "metadata": {
    "execution": {
     "iopub.execute_input": "2025-01-27T13:00:45.341827Z",
     "iopub.status.busy": "2025-01-27T13:00:45.341827Z",
     "iopub.status.idle": "2025-01-27T13:00:45.733322Z",
     "shell.execute_reply": "2025-01-27T13:00:45.732827Z"
    },
    "papermill": {
     "duration": 0.397494,
     "end_time": "2025-01-27T13:00:45.734326",
     "exception": false,
     "start_time": "2025-01-27T13:00:45.336832",
     "status": "completed"
    },
    "scrolled": true,
    "tags": []
   },
   "outputs": [],
   "source": [
    "# final_df[final_df['allTheInfoYouEverWanted'].map(lambda x: True if 'Closed After Due Date' in x else False) ].groupby('ProviderName')['EncounterId'].count().sort_values(ascending=False).head(20)"
   ]
  },
  {
   "cell_type": "code",
   "execution_count": 21,
   "id": "1c2958f1",
   "metadata": {
    "execution": {
     "iopub.execute_input": "2025-01-27T13:00:45.743829Z",
     "iopub.status.busy": "2025-01-27T13:00:45.743829Z",
     "iopub.status.idle": "2025-01-27T13:00:46.343329Z",
     "shell.execute_reply": "2025-01-27T13:00:46.342826Z"
    },
    "papermill": {
     "duration": 0.604997,
     "end_time": "2025-01-27T13:00:46.344323",
     "exception": false,
     "start_time": "2025-01-27T13:00:45.739326",
     "status": "completed"
    },
    "tags": []
   },
   "outputs": [],
   "source": [
    "# final_df[final_df['allTheInfoYouEverWanted']=='']"
   ]
  },
  {
   "cell_type": "code",
   "execution_count": 22,
   "id": "f6881a40",
   "metadata": {
    "execution": {
     "iopub.execute_input": "2025-01-27T13:00:46.354325Z",
     "iopub.status.busy": "2025-01-27T13:00:46.353826Z",
     "iopub.status.idle": "2025-01-27T13:00:46.914827Z",
     "shell.execute_reply": "2025-01-27T13:00:46.914326Z"
    },
    "papermill": {
     "duration": 0.566504,
     "end_time": "2025-01-27T13:00:46.915829",
     "exception": false,
     "start_time": "2025-01-27T13:00:46.349325",
     "status": "completed"
    },
    "tags": []
   },
   "outputs": [],
   "source": [
    "# Change to integer so SQL can recognize it\n",
    "# allPatientDf['Days to Review Date'] = pd.to_datetime(allPatientDf['Days to Review Date'])\n",
    "allPatientDf['Days to Review Date'] = allPatientDf['Days to Review Date'].map(lambda timedelta: timedelta.days)"
   ]
  },
  {
   "cell_type": "code",
   "execution_count": 23,
   "id": "a366f60f",
   "metadata": {
    "execution": {
     "iopub.execute_input": "2025-01-27T13:00:46.925827Z",
     "iopub.status.busy": "2025-01-27T13:00:46.925827Z",
     "iopub.status.idle": "2025-01-27T13:00:47.251827Z",
     "shell.execute_reply": "2025-01-27T13:00:47.251324Z"
    },
    "papermill": {
     "duration": 0.332001,
     "end_time": "2025-01-27T13:00:47.252828",
     "exception": false,
     "start_time": "2025-01-27T13:00:46.920827",
     "status": "completed"
    },
    "tags": []
   },
   "outputs": [],
   "source": [
    "allPatientDf = allPatientDf.merge(missingAdmissionNote[['PatientID', 'HasAdmissionNote']], how='left', on='PatientID')\n"
   ]
  },
  {
   "cell_type": "code",
   "execution_count": 24,
   "id": "5475f33a",
   "metadata": {
    "execution": {
     "iopub.execute_input": "2025-01-27T13:00:47.262825Z",
     "iopub.status.busy": "2025-01-27T13:00:47.262825Z",
     "iopub.status.idle": "2025-01-27T13:00:47.723327Z",
     "shell.execute_reply": "2025-01-27T13:00:47.722832Z"
    },
    "papermill": {
     "duration": 0.466507,
     "end_time": "2025-01-27T13:00:47.724324",
     "exception": false,
     "start_time": "2025-01-27T13:00:47.257817",
     "status": "completed"
    },
    "tags": []
   },
   "outputs": [
    {
     "name": "stderr",
     "output_type": "stream",
     "text": [
      "C:\\Users\\ylen\\AppData\\Local\\Temp\\ipykernel_11952\\3145419926.py:1: FutureWarning: Downcasting object dtype arrays on .fillna, .ffill, .bfill is deprecated and will change in a future version. Call result.infer_objects(copy=False) instead. To opt-in to the future behavior, set `pd.set_option('future.no_silent_downcasting', True)`\n",
      "  allPatientDf['HasAdmissionNote'] = allPatientDf['HasAdmissionNote'].fillna(False)\n"
     ]
    }
   ],
   "source": [
    "allPatientDf['HasAdmissionNote'] = allPatientDf['HasAdmissionNote'].fillna(False)"
   ]
  },
  {
   "cell_type": "code",
   "execution_count": 25,
   "id": "2c26970b-8759-49ba-9ac8-84252c77accc",
   "metadata": {
    "execution": {
     "iopub.execute_input": "2025-01-27T13:00:47.735327Z",
     "iopub.status.busy": "2025-01-27T13:00:47.735327Z",
     "iopub.status.idle": "2025-01-27T13:00:48.004318Z",
     "shell.execute_reply": "2025-01-27T13:00:48.003828Z"
    },
    "papermill": {
     "duration": 0.275497,
     "end_time": "2025-01-27T13:00:48.005326",
     "exception": false,
     "start_time": "2025-01-27T13:00:47.729829",
     "status": "completed"
    },
    "tags": []
   },
   "outputs": [
    {
     "data": {
      "text/plain": [
       "Index(['PatientID', 'EncounterID', 'ProviderName', 'EndDate', 'EncounterDate',\n",
       "       'EncounterEndDateTimeToolTip', 'EncounterStartDateTimeToolTip',\n",
       "       'FacilityName', 'EncounterType', 'EncounterOpenClosed', 'ProgramName',\n",
       "       'closedByFullName', 'Admitted', 'Primary_Provider',\n",
       "       'finalEncounterType', 'finalEncounterDate', 'is_ActiveInInSync',\n",
       "       'is_lastEncounterDischarge', 'lastBillable_EncounterType',\n",
       "       'lastBillable_EncounterDate', 'lastBillable_ProgramName',\n",
       "       'lastBillable_FacilityName', 'seen_Recently', 'MRNNumber',\n",
       "       'patient_fullName', 'DOB', 'Primary Facility',\n",
       "       'Summarized Encounter Type', 'Review Date', 'Days to Review Date',\n",
       "       'missingInitialTreatmentPlan', 'treatmentPlanStatus',\n",
       "       'is_NeedToBeInactivated', 'has_NextPlan', 'is_CurrentPlanSigned',\n",
       "       'next_PlanLocation', 'is_TransferedNext', 'is_DischargedNext',\n",
       "       'is_NextPlanClosedLate', 'is_TreatmentPlanGood',\n",
       "       'is_TreatmentPlanOverdue', 'HasAdmissionNote'],\n",
       "      dtype='object')"
      ]
     },
     "execution_count": 25,
     "metadata": {},
     "output_type": "execute_result"
    }
   ],
   "source": [
    "allPatientDf.columns"
   ]
  },
  {
   "cell_type": "code",
   "execution_count": 26,
   "id": "8956239a",
   "metadata": {
    "execution": {
     "iopub.execute_input": "2025-01-27T13:00:48.015326Z",
     "iopub.status.busy": "2025-01-27T13:00:48.015326Z",
     "iopub.status.idle": "2025-01-27T13:00:48.257329Z",
     "shell.execute_reply": "2025-01-27T13:00:48.256824Z"
    },
    "papermill": {
     "duration": 0.248477,
     "end_time": "2025-01-27T13:00:48.258324",
     "exception": false,
     "start_time": "2025-01-27T13:00:48.009847",
     "status": "completed"
    },
    "tags": []
   },
   "outputs": [],
   "source": [
    "# filter to useful columns\n",
    "allPatientDf = allPatientDf[['EncounterID',\n",
    "                            'MRNNumber',\n",
    "                            'DOB',\n",
    "                            'PatientID',\n",
    "                            'ProviderName',\n",
    "                            'Primary_Provider',\n",
    "                            'patient_fullName',\n",
    "                            'FacilityName',\n",
    "                            'Summarized Encounter Type',\n",
    "                            'EncounterDate',\n",
    "                            'EncounterEndDateTimeToolTip',\n",
    "                            'EncounterStartDateTimeToolTip',\n",
    "                            'EncounterType',\n",
    "                            'EncounterOpenClosed',\n",
    "                            'ProgramName',\n",
    "                            'closedByFullName',\n",
    "                            'finalEncounterType',\n",
    "                            'finalEncounterDate',\n",
    "                            'is_ActiveInInSync',\n",
    "                            'is_lastEncounterDischarge',\n",
    "                            'lastBillable_EncounterType',\n",
    "                            'lastBillable_EncounterDate',\n",
    "                            'lastBillable_ProgramName',\n",
    "                            'lastBillable_FacilityName',\n",
    "                            'seen_Recently',\n",
    "                            'Review Date',\n",
    "                            'Days to Review Date',\n",
    "                            'is_NeedToBeInactivated',\n",
    "                            'has_NextPlan',\n",
    "                            'is_CurrentPlanSigned',\n",
    "                            'next_PlanLocation',\n",
    "                            'is_TransferedNext',\n",
    "                            'is_DischargedNext',\n",
    "                            'is_NextPlanClosedLate',\n",
    "                            'treatmentPlanStatus',\n",
    "                            'missingInitialTreatmentPlan',\n",
    "                            'HasAdmissionNote',\n",
    "                            'is_TreatmentPlanGood',\n",
    "                            'is_TreatmentPlanOverdue',\n",
    "                            'Admitted']]"
   ]
  },
  {
   "cell_type": "code",
   "execution_count": 27,
   "id": "9be21bdf",
   "metadata": {
    "execution": {
     "iopub.execute_input": "2025-01-27T13:00:48.268823Z",
     "iopub.status.busy": "2025-01-27T13:00:48.268322Z",
     "iopub.status.idle": "2025-01-27T13:00:48.568324Z",
     "shell.execute_reply": "2025-01-27T13:00:48.567827Z"
    },
    "papermill": {
     "duration": 0.305976,
     "end_time": "2025-01-27T13:00:48.569330",
     "exception": false,
     "start_time": "2025-01-27T13:00:48.263354",
     "status": "completed"
    },
    "tags": []
   },
   "outputs": [],
   "source": [
    "allPatientDf = allPatientDf.drop_duplicates('EncounterID', keep='first')"
   ]
  },
  {
   "cell_type": "markdown",
   "id": "4fa29770",
   "metadata": {
    "papermill": {
     "duration": 0.004,
     "end_time": "2025-01-27T13:00:48.578827",
     "exception": false,
     "start_time": "2025-01-27T13:00:48.574827",
     "status": "completed"
    },
    "tags": []
   },
   "source": [
    "## For Presenting\n",
    "- Replace all names with random ones for presenting"
   ]
  },
  {
   "cell_type": "code",
   "execution_count": 28,
   "id": "2044b078",
   "metadata": {
    "execution": {
     "iopub.execute_input": "2025-01-27T13:00:48.588327Z",
     "iopub.status.busy": "2025-01-27T13:00:48.587824Z",
     "iopub.status.idle": "2025-01-27T13:00:49.149415Z",
     "shell.execute_reply": "2025-01-27T13:00:49.148825Z"
    },
    "papermill": {
     "duration": 0.568007,
     "end_time": "2025-01-27T13:00:49.150824",
     "exception": false,
     "start_time": "2025-01-27T13:00:48.582817",
     "status": "completed"
    },
    "tags": []
   },
   "outputs": [],
   "source": [
    "# randomNames = pd.read_excel('../data/Random Names.xlsx')\n",
    "\n",
    "# final_df['patient_fullName'] = final_df['patient_fullName'].map(lambda name: list(randomNames['Names'].sample(1))[0])\n",
    "# final_df['ProviderName'] = final_df['ProviderName'].map(lambda name: list(final_df['ProviderName'].sample(1))[0])"
   ]
  },
  {
   "cell_type": "code",
   "execution_count": 29,
   "id": "e701778c",
   "metadata": {
    "execution": {
     "iopub.execute_input": "2025-01-27T13:00:49.160881Z",
     "iopub.status.busy": "2025-01-27T13:00:49.160881Z",
     "iopub.status.idle": "2025-01-27T13:00:49.388321Z",
     "shell.execute_reply": "2025-01-27T13:00:49.387828Z"
    },
    "papermill": {
     "duration": 0.233501,
     "end_time": "2025-01-27T13:00:49.389328",
     "exception": false,
     "start_time": "2025-01-27T13:00:49.155827",
     "status": "completed"
    },
    "tags": []
   },
   "outputs": [],
   "source": [
    "rename_mapping = {\n",
    "    'Summarized Encounter Type': 'Summarized_Encounter_Type',\n",
    "    'Review Date': 'Review_Date',\n",
    "    'Days to Review Date': 'Days_to_Review_Date',\n",
    "}\n",
    "# Rename columns using the mapping dictionary\n",
    "allPatientDf = allPatientDf.rename(columns=rename_mapping)"
   ]
  },
  {
   "cell_type": "code",
   "execution_count": 30,
   "id": "2db0d3a6",
   "metadata": {
    "execution": {
     "iopub.execute_input": "2025-01-27T13:00:49.400326Z",
     "iopub.status.busy": "2025-01-27T13:00:49.399823Z",
     "iopub.status.idle": "2025-01-27T13:00:51.566317Z",
     "shell.execute_reply": "2025-01-27T13:00:51.565828Z"
    },
    "papermill": {
     "duration": 2.172496,
     "end_time": "2025-01-27T13:00:51.567325",
     "exception": false,
     "start_time": "2025-01-27T13:00:49.394829",
     "status": "completed"
    },
    "tags": []
   },
   "outputs": [],
   "source": [
    "table_name= 'ptTreatmentPlanDuenessSummary'\n",
    "try:\n",
    "    allPatientDf.to_sql('ptTreatmentPlanDuenessSummary', conn, if_exists='replace', index = False)\n",
    "    logger.info(f'Successfully pushed ptTreatmentPlanDuenessSummary to database.')\n",
    "except Exception as e:\n",
    "    logger.error(f'Failed to push ptTreatmentPlanDuenessSummary to database.', exc_info=True) \n",
    "    print(e)"
   ]
  },
  {
   "cell_type": "code",
   "execution_count": 31,
   "id": "7b94636b",
   "metadata": {
    "execution": {
     "iopub.execute_input": "2025-01-27T13:00:51.578828Z",
     "iopub.status.busy": "2025-01-27T13:00:51.578317Z",
     "iopub.status.idle": "2025-01-27T13:00:51.581825Z",
     "shell.execute_reply": "2025-01-27T13:00:51.581328Z"
    },
    "papermill": {
     "duration": 0.010001,
     "end_time": "2025-01-27T13:00:51.582825",
     "exception": false,
     "start_time": "2025-01-27T13:00:51.572824",
     "status": "completed"
    },
    "tags": []
   },
   "outputs": [],
   "source": [
    "conn.dispose()"
   ]
  }
 ],
 "metadata": {
  "kernelspec": {
   "display_name": "DataPipeline_Env",
   "language": "python",
   "name": "datapipeline_env"
  },
  "language_info": {
   "codemirror_mode": {
    "name": "ipython",
    "version": 3
   },
   "file_extension": ".py",
   "mimetype": "text/x-python",
   "name": "python",
   "nbconvert_exporter": "python",
   "pygments_lexer": "ipython3",
   "version": "3.12.4"
  },
  "papermill": {
   "default_parameters": {},
   "duration": 78.049494,
   "end_time": "2025-01-27T13:00:53.066826",
   "environment_variables": {},
   "exception": null,
   "input_path": "TreatmentPlanReport SQL Express.ipynb",
   "output_path": "snapshots/TreatmentPlanReport SQL Express.ipynb",
   "parameters": {},
   "start_time": "2025-01-27T12:59:35.017332",
   "version": "2.3.3"
  },
  "toc": {
   "base_numbering": 1,
   "nav_menu": {},
   "number_sections": true,
   "sideBar": true,
   "skip_h1_title": false,
   "title_cell": "Table of Contents",
   "title_sidebar": "Contents",
   "toc_cell": false,
   "toc_position": {
    "height": "calc(100% - 180px)",
    "left": "10px",
    "top": "150px",
    "width": "409.6px"
   },
   "toc_section_display": true,
   "toc_window_display": true
  },
  "varInspector": {
   "cols": {
    "lenName": 16,
    "lenType": 16,
    "lenVar": 40
   },
   "kernels_config": {
    "python": {
     "delete_cmd_postfix": "",
     "delete_cmd_prefix": "del ",
     "library": "var_list.py",
     "varRefreshCmd": "print(var_dic_list())"
    },
    "r": {
     "delete_cmd_postfix": ") ",
     "delete_cmd_prefix": "rm(",
     "library": "var_list.r",
     "varRefreshCmd": "cat(var_dic_list()) "
    }
   },
   "types_to_exclude": [
    "module",
    "function",
    "builtin_function_or_method",
    "instance",
    "_Feature"
   ],
   "window_display": false
  }
 },
 "nbformat": 4,
 "nbformat_minor": 5
}