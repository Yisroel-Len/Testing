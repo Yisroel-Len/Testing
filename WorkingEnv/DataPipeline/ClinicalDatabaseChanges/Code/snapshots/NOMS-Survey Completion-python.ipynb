{
 "cells": [
  {
   "cell_type": "markdown",
   "id": "d9d55860",
   "metadata": {
    "tags": [
     "papermill-error-cell-tag"
    ]
   },
   "source": [
    "<span style=\"color:red; font-family:Helvetica Neue, Helvetica, Arial, sans-serif; font-size:2em;\">An Exception was encountered at '<a href=\"#papermill-error-cell\">In [23]</a>'.</span>"
   ]
  },
  {
   "cell_type": "code",
   "execution_count": 1,
   "id": "5b6799e6",
   "metadata": {
    "ExecuteTime": {
     "end_time": "2023-08-08T14:56:49.842108Z",
     "start_time": "2023-08-08T14:56:49.838872Z"
    },
    "execution": {
     "iopub.execute_input": "2024-02-08T13:26:56.407146Z",
     "iopub.status.busy": "2024-02-08T13:26:56.407146Z",
     "iopub.status.idle": "2024-02-08T13:26:56.843043Z",
     "shell.execute_reply": "2024-02-08T13:26:56.843043Z"
    },
    "papermill": {
     "duration": 0.451524,
     "end_time": "2024-02-08T13:26:56.843043",
     "exception": false,
     "start_time": "2024-02-08T13:26:56.391519",
     "status": "completed"
    },
    "tags": []
   },
   "outputs": [],
   "source": [
    "import pandas as pd\n",
    "import numpy as np\n",
    "import pyodbc \n",
    "import time\n",
    "import datetime\n",
    "import sqlite3"
   ]
  },
  {
   "cell_type": "code",
   "execution_count": 2,
   "id": "44af8717",
   "metadata": {
    "ExecuteTime": {
     "end_time": "2023-08-08T14:56:49.848219Z",
     "start_time": "2023-08-08T14:56:49.844107Z"
    },
    "execution": {
     "iopub.execute_input": "2024-02-08T13:26:56.874366Z",
     "iopub.status.busy": "2024-02-08T13:26:56.874366Z",
     "iopub.status.idle": "2024-02-08T13:26:56.885801Z",
     "shell.execute_reply": "2024-02-08T13:26:56.885801Z"
    },
    "papermill": {
     "duration": 0.027113,
     "end_time": "2024-02-08T13:26:56.885801",
     "exception": false,
     "start_time": "2024-02-08T13:26:56.858688",
     "status": "completed"
    },
    "tags": []
   },
   "outputs": [],
   "source": [
    "import sys\n",
    "import logging\n",
    "path = \"..\\..\\InSyncConnection\\Code\\clinical_log.txt\"\n",
    "logging.basicConfig(filename=path,\n",
    "                    filemode='a',\n",
    "                    format='%(asctime)s,%(msecs)d,%(name)s,%(levelname)s,%(message)s',\n",
    "                    datefmt='%Y-%m-%d %H:%M:%S',\n",
    "                    level=logging.DEBUG)\n",
    "logger = logging.getLogger(\"NOMS-Survey Completion\")"
   ]
  },
  {
   "cell_type": "markdown",
   "id": "4456cbdd",
   "metadata": {
    "papermill": {
     "duration": 0.015639,
     "end_time": "2024-02-08T13:26:56.901440",
     "exception": false,
     "start_time": "2024-02-08T13:26:56.885801",
     "status": "completed"
    },
    "tags": []
   },
   "source": [
    "## DB Query"
   ]
  },
  {
   "cell_type": "code",
   "execution_count": 3,
   "id": "bc34cb8b",
   "metadata": {
    "ExecuteTime": {
     "end_time": "2023-08-08T14:56:49.860051Z",
     "start_time": "2023-08-08T14:56:49.850222Z"
    },
    "execution": {
     "iopub.execute_input": "2024-02-08T13:26:56.917068Z",
     "iopub.status.busy": "2024-02-08T13:26:56.917068Z",
     "iopub.status.idle": "2024-02-08T13:26:56.933488Z",
     "shell.execute_reply": "2024-02-08T13:26:56.933488Z"
    },
    "papermill": {
     "duration": 0.01642,
     "end_time": "2024-02-08T13:26:56.933488",
     "exception": false,
     "start_time": "2024-02-08T13:26:56.917068",
     "status": "completed"
    },
    "scrolled": true,
    "tags": []
   },
   "outputs": [],
   "source": [
    "conn = sqlite3.connect('../../InSyncConnection/Database/InSyncClinical.db')\n",
    "cursor = conn.cursor()\n",
    "\n",
    "# # # printing all table names\n",
    "# sql_query = \"\"\"SELECT name FROM sqlite_master\n",
    "#      WHERE type='table';\"\"\"\n",
    "\n",
    "# cursor.execute(sql_query)\n",
    "# print(cursor.fetchall())"
   ]
  },
  {
   "cell_type": "markdown",
   "id": "c666fdfd",
   "metadata": {
    "papermill": {
     "duration": 0.0,
     "end_time": "2024-02-08T13:26:56.949133",
     "exception": false,
     "start_time": "2024-02-08T13:26:56.949133",
     "status": "completed"
    },
    "tags": []
   },
   "source": [
    "### Encounter Query "
   ]
  },
  {
   "cell_type": "code",
   "execution_count": 4,
   "id": "2fcff2c0",
   "metadata": {
    "ExecuteTime": {
     "end_time": "2023-08-08T14:57:02.455928Z",
     "start_time": "2023-08-08T14:56:49.863048Z"
    },
    "execution": {
     "iopub.execute_input": "2024-02-08T13:26:57.011648Z",
     "iopub.status.busy": "2024-02-08T13:26:57.011648Z",
     "iopub.status.idle": "2024-02-08T13:27:12.207375Z",
     "shell.execute_reply": "2024-02-08T13:27:12.207375Z"
    },
    "papermill": {
     "duration": 15.211287,
     "end_time": "2024-02-08T13:27:12.207375",
     "exception": false,
     "start_time": "2024-02-08T13:26:56.996088",
     "status": "completed"
    },
    "tags": []
   },
   "outputs": [
    {
     "name": "stderr",
     "output_type": "stream",
     "text": [
      "C:\\Users\\YLen\\AppData\\Local\\Temp\\ipykernel_1160\\2935963456.py:29: UserWarning: Could not infer format, so each element will be parsed individually, falling back to `dateutil`. To ensure parsing is consistent and as-expected, please specify a format.\n",
      "  encounter_df['EncounterDate'] = pd.to_datetime(encounter_df['EncounterDate'])\n"
     ]
    },
    {
     "data": {
      "text/html": [
       "<div>\n",
       "<style scoped>\n",
       "    .dataframe tbody tr th:only-of-type {\n",
       "        vertical-align: middle;\n",
       "    }\n",
       "\n",
       "    .dataframe tbody tr th {\n",
       "        vertical-align: top;\n",
       "    }\n",
       "\n",
       "    .dataframe thead th {\n",
       "        text-align: right;\n",
       "    }\n",
       "</style>\n",
       "<table border=\"1\" class=\"dataframe\">\n",
       "  <thead>\n",
       "    <tr style=\"text-align: right;\">\n",
       "      <th></th>\n",
       "      <th>PatientID</th>\n",
       "      <th>EncounterDate</th>\n",
       "      <th>Hour</th>\n",
       "    </tr>\n",
       "  </thead>\n",
       "  <tbody>\n",
       "    <tr>\n",
       "      <th>21</th>\n",
       "      <td>620288</td>\n",
       "      <td>2023-10-08 12:00:00</td>\n",
       "      <td>2023-10-08 12:00:00</td>\n",
       "    </tr>\n",
       "    <tr>\n",
       "      <th>122</th>\n",
       "      <td>620292</td>\n",
       "      <td>2023-07-05 17:00:00</td>\n",
       "      <td>2023-07-05 17:00:00</td>\n",
       "    </tr>\n",
       "    <tr>\n",
       "      <th>158</th>\n",
       "      <td>620293</td>\n",
       "      <td>2023-10-10 18:15:00</td>\n",
       "      <td>2023-10-10 18:00:00</td>\n",
       "    </tr>\n",
       "    <tr>\n",
       "      <th>255</th>\n",
       "      <td>620295</td>\n",
       "      <td>2023-03-05 13:00:00</td>\n",
       "      <td>2023-03-05 13:00:00</td>\n",
       "    </tr>\n",
       "    <tr>\n",
       "      <th>294</th>\n",
       "      <td>620298</td>\n",
       "      <td>2023-03-01 18:30:00</td>\n",
       "      <td>2023-03-01 18:00:00</td>\n",
       "    </tr>\n",
       "    <tr>\n",
       "      <th>...</th>\n",
       "      <td>...</td>\n",
       "      <td>...</td>\n",
       "      <td>...</td>\n",
       "    </tr>\n",
       "    <tr>\n",
       "      <th>178982</th>\n",
       "      <td>628026</td>\n",
       "      <td>2024-02-07 11:00:00</td>\n",
       "      <td>2024-02-07 11:00:00</td>\n",
       "    </tr>\n",
       "    <tr>\n",
       "      <th>178983</th>\n",
       "      <td>628035</td>\n",
       "      <td>2024-02-05 10:00:00</td>\n",
       "      <td>2024-02-05 10:00:00</td>\n",
       "    </tr>\n",
       "    <tr>\n",
       "      <th>178984</th>\n",
       "      <td>628041</td>\n",
       "      <td>2024-02-05 10:00:00</td>\n",
       "      <td>2024-02-05 10:00:00</td>\n",
       "    </tr>\n",
       "    <tr>\n",
       "      <th>178985</th>\n",
       "      <td>628060</td>\n",
       "      <td>2024-02-07 10:00:00</td>\n",
       "      <td>2024-02-07 10:00:00</td>\n",
       "    </tr>\n",
       "    <tr>\n",
       "      <th>178986</th>\n",
       "      <td>628062</td>\n",
       "      <td>2024-02-06 10:00:00</td>\n",
       "      <td>2024-02-06 10:00:00</td>\n",
       "    </tr>\n",
       "  </tbody>\n",
       "</table>\n",
       "<p>3414 rows × 3 columns</p>\n",
       "</div>"
      ],
      "text/plain": [
       "        PatientID       EncounterDate                Hour\n",
       "21         620288 2023-10-08 12:00:00 2023-10-08 12:00:00\n",
       "122        620292 2023-07-05 17:00:00 2023-07-05 17:00:00\n",
       "158        620293 2023-10-10 18:15:00 2023-10-10 18:00:00\n",
       "255        620295 2023-03-05 13:00:00 2023-03-05 13:00:00\n",
       "294        620298 2023-03-01 18:30:00 2023-03-01 18:00:00\n",
       "...           ...                 ...                 ...\n",
       "178982     628026 2024-02-07 11:00:00 2024-02-07 11:00:00\n",
       "178983     628035 2024-02-05 10:00:00 2024-02-05 10:00:00\n",
       "178984     628041 2024-02-05 10:00:00 2024-02-05 10:00:00\n",
       "178985     628060 2024-02-07 10:00:00 2024-02-07 10:00:00\n",
       "178986     628062 2024-02-06 10:00:00 2024-02-06 10:00:00\n",
       "\n",
       "[3414 rows x 3 columns]"
      ]
     },
     "execution_count": 4,
     "metadata": {},
     "output_type": "execute_result"
    }
   ],
   "source": [
    "try:\n",
    "    # Select all patients from EcounterSummary Table\n",
    "    testPatients = '''\n",
    "    SELECT\n",
    "        PatientId\n",
    "    FROM \n",
    "        emr_PatientDetails\n",
    "    WHERE \n",
    "        LOWER(FirstName) LIKE '%test%'\n",
    "        OR LOWER(LastName) LIKE '%test%'\n",
    "        OR LOWER(FirstName) LIKE '%patient%'\n",
    "        OR LOWER(LastName) LIKE '%patient%'\n",
    "        or CAST(MRNNumber AS INTEGER) < 55\n",
    "    '''\n",
    "    sql=f'''\n",
    "    SELECT \n",
    "        PatientId as PatientID,\n",
    "        VisitDateTime as EncounterDate\n",
    "    FROM \n",
    "        tblEncounterSummary\n",
    "        LEFT JOIN tblENcounterType ON (tblEncounterSummary.EncounterTypeId=tblENcounterType.EncounterTypeId)\n",
    "    WHERE \n",
    "        IsBillable = \"TRUE\"\n",
    "        AND PatientID NOT IN ({testPatients})\n",
    "    ORDER BY \n",
    "        PatientID\n",
    "    '''\n",
    "    encounter_df = pd.read_sql(sql, conn)\n",
    "    encounter_df['EncounterDate'] = pd.to_datetime(encounter_df['EncounterDate'])\n",
    "    \n",
    "    #filter out encounters before 3/1 and keep the first encounter date\n",
    "    encounter_filter = encounter_df['EncounterDate'] >= '2023-03-01'\n",
    "    filtered_dates = encounter_df[encounter_filter].copy()\n",
    "    filtered_dates.sort_values(by=['PatientID', 'EncounterDate'], inplace=True)\n",
    "    encounter_df = filtered_dates.drop_duplicates(subset=\"PatientID\", keep='first').copy()\n",
    "    \n",
    "    # get encounter time by hour\n",
    "    encounter_df['Hour'] = encounter_df[\"EncounterDate\"].dt.floor('h')\n",
    "    \n",
    "    # needed for filtering out transfer patients\n",
    "    encounter_dictionary = dict(zip(encounter_df.PatientID, encounter_df.EncounterDate))\n",
    "    \n",
    "    logger.info(f\"Successfully queried tblEncounterSummary.\")\n",
    "except Exception as e:\n",
    "    logger.error(f\"Failed to query tblEncounterSummary.\", exc_info=True) \n",
    "    print(e)\n",
    "    sys.exit(1)\n",
    "encounter_df"
   ]
  },
  {
   "cell_type": "markdown",
   "id": "013b00e2",
   "metadata": {
    "papermill": {
     "duration": 0.0,
     "end_time": "2024-02-08T13:27:12.223028",
     "exception": false,
     "start_time": "2024-02-08T13:27:12.223028",
     "status": "completed"
    },
    "tags": []
   },
   "source": [
    "### PatientDetails Query"
   ]
  },
  {
   "cell_type": "code",
   "execution_count": 5,
   "id": "d8c72803",
   "metadata": {
    "ExecuteTime": {
     "end_time": "2023-08-08T14:57:02.546023Z",
     "start_time": "2023-08-08T14:57:02.456928Z"
    },
    "execution": {
     "iopub.execute_input": "2024-02-08T13:27:12.254348Z",
     "iopub.status.busy": "2024-02-08T13:27:12.254348Z",
     "iopub.status.idle": "2024-02-08T13:27:12.355858Z",
     "shell.execute_reply": "2024-02-08T13:27:12.355858Z"
    },
    "papermill": {
     "duration": 0.117205,
     "end_time": "2024-02-08T13:27:12.355858",
     "exception": false,
     "start_time": "2024-02-08T13:27:12.238653",
     "status": "completed"
    },
    "tags": []
   },
   "outputs": [
    {
     "data": {
      "text/html": [
       "<div>\n",
       "<style scoped>\n",
       "    .dataframe tbody tr th:only-of-type {\n",
       "        vertical-align: middle;\n",
       "    }\n",
       "\n",
       "    .dataframe tbody tr th {\n",
       "        vertical-align: top;\n",
       "    }\n",
       "\n",
       "    .dataframe thead th {\n",
       "        text-align: right;\n",
       "    }\n",
       "</style>\n",
       "<table border=\"1\" class=\"dataframe\">\n",
       "  <thead>\n",
       "    <tr style=\"text-align: right;\">\n",
       "      <th></th>\n",
       "      <th>PatientID</th>\n",
       "      <th>FirstName</th>\n",
       "      <th>LastName</th>\n",
       "      <th>DOB</th>\n",
       "      <th>MRNNumber</th>\n",
       "      <th>Phone</th>\n",
       "    </tr>\n",
       "  </thead>\n",
       "  <tbody>\n",
       "  </tbody>\n",
       "</table>\n",
       "</div>"
      ],
      "text/plain": [
       "Empty DataFrame\n",
       "Columns: [PatientID, FirstName, LastName, DOB, MRNNumber, Phone]\n",
       "Index: []"
      ]
     },
     "execution_count": 5,
     "metadata": {},
     "output_type": "execute_result"
    }
   ],
   "source": [
    "try:\n",
    "    # Select all patients\n",
    "    sql= f'''\n",
    "    SELECT \n",
    "        DISTINCT (PatientID) AS PatientID,\n",
    "        FirstName,\n",
    "        LastName,\n",
    "        DOB,\n",
    "        MRNNumber,\n",
    "        PhoneNo AS Phone\n",
    "    FROM \n",
    "        emr_PatientDetails\n",
    "    WHERE\n",
    "        PatientID NOT IN ({testPatients})\n",
    "    ORDER BY \n",
    "        PatientID\n",
    "    '''\n",
    "    patient_details_df = pd.read_sql(sql, conn)\n",
    "    \n",
    "    # filter out MRN != XXX2\n",
    "    MRN_filter = patient_details_df['MRNNumber'].map(lambda value: True if value[-1] == \"2\" else False)\n",
    "    patient_details_df = patient_details_df[MRN_filter].copy()\n",
    "    \n",
    "    # filter out test patients\n",
    "    test_filter = (patient_details_df['LastName'] != \"Test\") & (patient_details_df[\"FirstName\"] != \"Test\")\n",
    "    patient_details_df = patient_details_df[test_filter].copy()\n",
    "    \n",
    "    logger.info(f\"Successfully queried emr_PatientDetails.\")\n",
    "except Exception as e:\n",
    "    logger.error(f\"Failed to query emr_PatientDetails.\", exc_info=True) \n",
    "    print(e)\n",
    "    sys.exit(1)\n",
    "\n",
    "patient_details_df[patient_details_df['PatientID'].duplicated()]"
   ]
  },
  {
   "cell_type": "markdown",
   "id": "f054039c",
   "metadata": {
    "papermill": {
     "duration": 0.015579,
     "end_time": "2024-02-08T13:27:12.387127",
     "exception": false,
     "start_time": "2024-02-08T13:27:12.371548",
     "status": "completed"
    },
    "tags": []
   },
   "source": [
    "### Discharged Query "
   ]
  },
  {
   "cell_type": "code",
   "execution_count": 6,
   "id": "c69c9c5e",
   "metadata": {
    "ExecuteTime": {
     "end_time": "2023-08-08T14:57:02.597526Z",
     "start_time": "2023-08-08T14:57:02.548020Z"
    },
    "execution": {
     "iopub.execute_input": "2024-02-08T13:27:12.402756Z",
     "iopub.status.busy": "2024-02-08T13:27:12.402756Z",
     "iopub.status.idle": "2024-02-08T13:27:12.522797Z",
     "shell.execute_reply": "2024-02-08T13:27:12.522797Z"
    },
    "papermill": {
     "duration": 0.13567,
     "end_time": "2024-02-08T13:27:12.522797",
     "exception": false,
     "start_time": "2024-02-08T13:27:12.387127",
     "status": "completed"
    },
    "tags": []
   },
   "outputs": [
    {
     "data": {
      "text/html": [
       "<div>\n",
       "<style scoped>\n",
       "    .dataframe tbody tr th:only-of-type {\n",
       "        vertical-align: middle;\n",
       "    }\n",
       "\n",
       "    .dataframe tbody tr th {\n",
       "        vertical-align: top;\n",
       "    }\n",
       "\n",
       "    .dataframe thead th {\n",
       "        text-align: right;\n",
       "    }\n",
       "</style>\n",
       "<table border=\"1\" class=\"dataframe\">\n",
       "  <thead>\n",
       "    <tr style=\"text-align: right;\">\n",
       "      <th></th>\n",
       "      <th>PatientID</th>\n",
       "      <th>Final Encounter</th>\n",
       "      <th>Status</th>\n",
       "    </tr>\n",
       "  </thead>\n",
       "  <tbody>\n",
       "    <tr>\n",
       "      <th>1</th>\n",
       "      <td>620290</td>\n",
       "      <td>2023-02-06 12:53:00</td>\n",
       "      <td>Discharged</td>\n",
       "    </tr>\n",
       "    <tr>\n",
       "      <th>2</th>\n",
       "      <td>620291</td>\n",
       "      <td>2022-07-07 12:27:00</td>\n",
       "      <td>Discharged</td>\n",
       "    </tr>\n",
       "    <tr>\n",
       "      <th>6</th>\n",
       "      <td>620296</td>\n",
       "      <td>2022-05-23 13:33:00</td>\n",
       "      <td>Discharged</td>\n",
       "    </tr>\n",
       "    <tr>\n",
       "      <th>8</th>\n",
       "      <td>620299</td>\n",
       "      <td>2022-03-14 23:09:00</td>\n",
       "      <td>Discharged</td>\n",
       "    </tr>\n",
       "    <tr>\n",
       "      <th>9</th>\n",
       "      <td>620300</td>\n",
       "      <td>2022-07-05 12:47:00</td>\n",
       "      <td>Discharged</td>\n",
       "    </tr>\n",
       "    <tr>\n",
       "      <th>...</th>\n",
       "      <td>...</td>\n",
       "      <td>...</td>\n",
       "      <td>...</td>\n",
       "    </tr>\n",
       "    <tr>\n",
       "      <th>5392</th>\n",
       "      <td>627554</td>\n",
       "      <td>2023-11-29 19:00:00</td>\n",
       "      <td>Discharged</td>\n",
       "    </tr>\n",
       "    <tr>\n",
       "      <th>5398</th>\n",
       "      <td>627561</td>\n",
       "      <td>2024-01-08 18:53:00</td>\n",
       "      <td>Discharged</td>\n",
       "    </tr>\n",
       "    <tr>\n",
       "      <th>5469</th>\n",
       "      <td>627657</td>\n",
       "      <td>2024-01-30 01:03:00</td>\n",
       "      <td>Discharged</td>\n",
       "    </tr>\n",
       "    <tr>\n",
       "      <th>5494</th>\n",
       "      <td>627690</td>\n",
       "      <td>2024-01-18 21:08:00</td>\n",
       "      <td>Discharged</td>\n",
       "    </tr>\n",
       "    <tr>\n",
       "      <th>5631</th>\n",
       "      <td>627893</td>\n",
       "      <td>2024-01-17 16:44:00</td>\n",
       "      <td>Discharged</td>\n",
       "    </tr>\n",
       "  </tbody>\n",
       "</table>\n",
       "<p>2343 rows × 3 columns</p>\n",
       "</div>"
      ],
      "text/plain": [
       "      PatientID     Final Encounter      Status\n",
       "1        620290 2023-02-06 12:53:00  Discharged\n",
       "2        620291 2022-07-07 12:27:00  Discharged\n",
       "6        620296 2022-05-23 13:33:00  Discharged\n",
       "8        620299 2022-03-14 23:09:00  Discharged\n",
       "9        620300 2022-07-05 12:47:00  Discharged\n",
       "...         ...                 ...         ...\n",
       "5392     627554 2023-11-29 19:00:00  Discharged\n",
       "5398     627561 2024-01-08 18:53:00  Discharged\n",
       "5469     627657 2024-01-30 01:03:00  Discharged\n",
       "5494     627690 2024-01-18 21:08:00  Discharged\n",
       "5631     627893 2024-01-17 16:44:00  Discharged\n",
       "\n",
       "[2343 rows x 3 columns]"
      ]
     },
     "execution_count": 6,
     "metadata": {},
     "output_type": "execute_result"
    }
   ],
   "source": [
    "try:\n",
    "    # Select all patients\n",
    "    sql = f'''\n",
    "    SELECT \n",
    "        PatientID,\n",
    "        finalEncounterDate AS 'Final Encounter',\n",
    "        is_ActiveInInSync,\n",
    "        is_lastEncounterDischarge\n",
    "    FROM \n",
    "        ptPatient_Activity\n",
    "    WHERE\n",
    "        PatientID NOT IN ({testPatients})\n",
    "    '''\n",
    "    disharge_df = pd.read_sql(sql, conn)\n",
    "    \n",
    "    # filter out active patients\n",
    "    discharged_patients_mask = (disharge_df['is_ActiveInInSync'] == 0) | (disharge_df['is_lastEncounterDischarge'] == 1)\n",
    "    discharged_patients_df = disharge_df[discharged_patients_mask].copy()\n",
    "    \n",
    "    # create discharge status\n",
    "    discharged_patients_df['Status'] = \"Discharged\"\n",
    "    \n",
    "    discharged_patients_df.drop(columns=['is_ActiveInInSync','is_lastEncounterDischarge'],\n",
    "                                axis=1,\n",
    "                                inplace=True)\n",
    "    discharged_patients_df['Final Encounter'] = pd.to_datetime(discharged_patients_df['Final Encounter'])\n",
    "    \n",
    "    logger.info(f\"Successfully queried ptPatient_Activity.\")\n",
    "except Exception as e:\n",
    "    logger.error(f\"Failed to query ptPatient_Activity.\", exc_info=True) \n",
    "    print(e)\n",
    "    sys.exit(1)\n",
    "discharged_patients_df"
   ]
  },
  {
   "cell_type": "markdown",
   "id": "9464e54c",
   "metadata": {
    "papermill": {
     "duration": 0.015626,
     "end_time": "2024-02-08T13:27:12.554150",
     "exception": false,
     "start_time": "2024-02-08T13:27:12.538524",
     "status": "completed"
    },
    "tags": []
   },
   "source": [
    "### NOMS Query "
   ]
  },
  {
   "cell_type": "markdown",
   "id": "ca083be7",
   "metadata": {
    "papermill": {
     "duration": 0.015627,
     "end_time": "2024-02-08T13:27:12.569777",
     "exception": false,
     "start_time": "2024-02-08T13:27:12.554150",
     "status": "completed"
    },
    "tags": []
   },
   "source": [
    "#### Baseline NOMS Taken"
   ]
  },
  {
   "cell_type": "code",
   "execution_count": 7,
   "id": "be402ae5",
   "metadata": {
    "ExecuteTime": {
     "end_time": "2023-08-08T14:57:02.681096Z",
     "start_time": "2023-08-08T14:57:02.598526Z"
    },
    "execution": {
     "iopub.execute_input": "2024-02-08T13:27:12.585401Z",
     "iopub.status.busy": "2024-02-08T13:27:12.585401Z",
     "iopub.status.idle": "2024-02-08T13:27:12.660929Z",
     "shell.execute_reply": "2024-02-08T13:27:12.660929Z"
    },
    "papermill": {
     "duration": 0.075528,
     "end_time": "2024-02-08T13:27:12.660929",
     "exception": false,
     "start_time": "2024-02-08T13:27:12.585401",
     "status": "completed"
    },
    "tags": []
   },
   "outputs": [
    {
     "name": "stderr",
     "output_type": "stream",
     "text": [
      "C:\\Users\\YLen\\AppData\\Local\\Temp\\ipykernel_1160\\229098974.py:19: UserWarning: Could not infer format, so each element will be parsed individually, falling back to `dateutil`. To ensure parsing is consistent and as-expected, please specify a format.\n",
      "  df['CreatedOn'] = pd.to_datetime(df['CreatedOn']).dt.date\n"
     ]
    },
    {
     "data": {
      "text/html": [
       "<div>\n",
       "<style scoped>\n",
       "    .dataframe tbody tr th:only-of-type {\n",
       "        vertical-align: middle;\n",
       "    }\n",
       "\n",
       "    .dataframe tbody tr th {\n",
       "        vertical-align: top;\n",
       "    }\n",
       "\n",
       "    .dataframe thead th {\n",
       "        text-align: right;\n",
       "    }\n",
       "</style>\n",
       "<table border=\"1\" class=\"dataframe\">\n",
       "  <thead>\n",
       "    <tr style=\"text-align: right;\">\n",
       "      <th></th>\n",
       "      <th>PatientID</th>\n",
       "      <th>CreatedOn</th>\n",
       "      <th>Baseline NOMS</th>\n",
       "    </tr>\n",
       "  </thead>\n",
       "  <tbody>\n",
       "    <tr>\n",
       "      <th>0</th>\n",
       "      <td>620381</td>\n",
       "      <td>2023-07-31</td>\n",
       "      <td>True</td>\n",
       "    </tr>\n",
       "    <tr>\n",
       "      <th>1</th>\n",
       "      <td>620421</td>\n",
       "      <td>2023-05-03</td>\n",
       "      <td>True</td>\n",
       "    </tr>\n",
       "    <tr>\n",
       "      <th>2</th>\n",
       "      <td>620431</td>\n",
       "      <td>2023-04-25</td>\n",
       "      <td>True</td>\n",
       "    </tr>\n",
       "    <tr>\n",
       "      <th>3</th>\n",
       "      <td>620461</td>\n",
       "      <td>2023-05-11</td>\n",
       "      <td>True</td>\n",
       "    </tr>\n",
       "    <tr>\n",
       "      <th>4</th>\n",
       "      <td>620501</td>\n",
       "      <td>2023-05-30</td>\n",
       "      <td>True</td>\n",
       "    </tr>\n",
       "    <tr>\n",
       "      <th>...</th>\n",
       "      <td>...</td>\n",
       "      <td>...</td>\n",
       "      <td>...</td>\n",
       "    </tr>\n",
       "    <tr>\n",
       "      <th>347</th>\n",
       "      <td>627937</td>\n",
       "      <td>2024-01-24</td>\n",
       "      <td>True</td>\n",
       "    </tr>\n",
       "    <tr>\n",
       "      <th>348</th>\n",
       "      <td>627957</td>\n",
       "      <td>2024-01-29</td>\n",
       "      <td>True</td>\n",
       "    </tr>\n",
       "    <tr>\n",
       "      <th>349</th>\n",
       "      <td>627977</td>\n",
       "      <td>2024-01-29</td>\n",
       "      <td>True</td>\n",
       "    </tr>\n",
       "    <tr>\n",
       "      <th>350</th>\n",
       "      <td>627997</td>\n",
       "      <td>2024-02-05</td>\n",
       "      <td>True</td>\n",
       "    </tr>\n",
       "    <tr>\n",
       "      <th>351</th>\n",
       "      <td>628007</td>\n",
       "      <td>2024-02-05</td>\n",
       "      <td>True</td>\n",
       "    </tr>\n",
       "  </tbody>\n",
       "</table>\n",
       "<p>351 rows × 3 columns</p>\n",
       "</div>"
      ],
      "text/plain": [
       "     PatientID   CreatedOn  Baseline NOMS\n",
       "0       620381  2023-07-31           True\n",
       "1       620421  2023-05-03           True\n",
       "2       620431  2023-04-25           True\n",
       "3       620461  2023-05-11           True\n",
       "4       620501  2023-05-30           True\n",
       "..         ...         ...            ...\n",
       "347     627937  2024-01-24           True\n",
       "348     627957  2024-01-29           True\n",
       "349     627977  2024-01-29           True\n",
       "350     627997  2024-02-05           True\n",
       "351     628007  2024-02-05           True\n",
       "\n",
       "[351 rows x 3 columns]"
      ]
     },
     "execution_count": 7,
     "metadata": {},
     "output_type": "execute_result"
    }
   ],
   "source": [
    "try:\n",
    "    sql=f'''\n",
    "    SELECT \n",
    "        PatientID,\n",
    "        CreatedOn,\n",
    "        StatusDesc AS 'Baseline NOMS'\n",
    "    FROM \n",
    "        tblNOMS_AllAssessments\n",
    "    WHERE \n",
    "        AssessmentKey LIKE '%Baseline%'\n",
    "        AND (StatusDesc LIKE \"%Entered%\"\n",
    "        OR StatusDesc LIKE \"%Completed%\")\n",
    "        AND\n",
    "        PatientID NOT IN ({testPatients})\n",
    "    ORDER BY\n",
    "        PatientID\n",
    "    '''\n",
    "    df = pd.read_sql(sql, conn)\n",
    "    df['CreatedOn'] = pd.to_datetime(df['CreatedOn']).dt.date\n",
    "    \n",
    "    # filter before march\n",
    "    march_mask = datetime.date(2023,3,1)\n",
    "    baseline_df = df[df['CreatedOn'] >= march_mask].copy()\n",
    "    \n",
    "    # Prettify data for mergers later\n",
    "    baseline_df['Baseline NOMS'] = baseline_df['Baseline NOMS'].map(lambda status: True if str(status) in ['Completed', \"Entered Into SPARS\"] else False)\n",
    "    \n",
    "    logger.info(f\"Successfully queried tblNOMS_AllAssessments for Baselines.\")\n",
    "except Exception as e:\n",
    "    logger.error(f\"Failed to query tblNOMS_AllAssessments for Baselines.\", exc_info=True) \n",
    "    print(e)\n",
    "    sys.exit(1)\n",
    "\n",
    "baseline_df"
   ]
  },
  {
   "cell_type": "markdown",
   "id": "841d150e",
   "metadata": {
    "papermill": {
     "duration": 0.015673,
     "end_time": "2024-02-08T13:27:12.692258",
     "exception": false,
     "start_time": "2024-02-08T13:27:12.676585",
     "status": "completed"
    },
    "tags": []
   },
   "source": [
    "#### Reassessment NOMS"
   ]
  },
  {
   "cell_type": "code",
   "execution_count": 8,
   "id": "403a0457",
   "metadata": {
    "ExecuteTime": {
     "end_time": "2023-08-08T14:57:02.805800Z",
     "start_time": "2023-08-08T14:57:02.685089Z"
    },
    "execution": {
     "iopub.execute_input": "2024-02-08T13:27:12.707884Z",
     "iopub.status.busy": "2024-02-08T13:27:12.707884Z",
     "iopub.status.idle": "2024-02-08T13:27:12.744111Z",
     "shell.execute_reply": "2024-02-08T13:27:12.744111Z"
    },
    "papermill": {
     "duration": 0.051853,
     "end_time": "2024-02-08T13:27:12.744111",
     "exception": false,
     "start_time": "2024-02-08T13:27:12.692258",
     "status": "completed"
    },
    "tags": []
   },
   "outputs": [],
   "source": [
    "try:\n",
    "    sql=f'''\n",
    "    SELECT \n",
    "        PatientID,\n",
    "        CreatedOn\n",
    "    FROM \n",
    "        tblNOMS_AllAssessments\n",
    "    WHERE \n",
    "        AssessmentKey LIKE 'Reassessment%'\n",
    "        AND (StatusDesc LIKE \"%Entered%\"\n",
    "        OR StatusDesc LIKE \"%Completed%\")\n",
    "        AND\n",
    "        PatientID NOT IN ({testPatients})\n",
    "    ORDER BY\n",
    "        PatientID\n",
    "    '''\n",
    "    df = pd.read_sql(sql, conn)\n",
    "    df['CreatedOn'] = pd.to_datetime(df['CreatedOn']).dt.date\n",
    "    \n",
    "    # filter before march\n",
    "    march_mask = datetime.date(2023,3,1)\n",
    "    reassessment_df = df[df['CreatedOn'] >= march_mask]\n",
    "    \n",
    "#     # find transfer patients\n",
    "#     transfer_patients=[]\n",
    "#     for patient in reassessment_df['PatientID']:\n",
    "#         if False != encounter_dictionary.get(patient, False):\n",
    "#             transfer_patients.append(patient)\n",
    "            \n",
    "#     # remove transfers if reassessment is before 6 months\n",
    "#     earliest_reassessment_date = datetime.date(2023,8,1)\n",
    "#     for patient in transfer_patients:\n",
    "#         first_encounter = encounter_dictionary.get(patient)\n",
    "#     #     incremented_first_encounter = first_encounter + np.timedelta64(6, 'M')\n",
    "#         reassmessnent_date = df[df['PatientID'] == patient]['CreatedOn']\n",
    "#         print(reassmessnent_date)\n",
    "#         if (reassmessnent_date.values > earliest_reassessment_date) == False:\n",
    "#             reassessment_df = reassessment_df[reassessment_df['PatientID'] != patient].copy()\n",
    "    \n",
    "    # Prettify data for megers later\n",
    "    reassessment_df = reassessment_df[['PatientID']]\n",
    "    reassessment_df['6 Month Reassessment NOMS'] = True\n",
    "    \n",
    "    logger.info(f\"Successfully queried tblNOMS_AllAssessments for Reassessments.\")\n",
    "except Exception as e:\n",
    "    logger.error(f\"Failed to query tblNOMS_AllAssessments for Reassessments.\", exc_info=True) \n",
    "    print(e)\n",
    "    sys.exit(1)"
   ]
  },
  {
   "cell_type": "markdown",
   "id": "b4a51c1b",
   "metadata": {
    "papermill": {
     "duration": 0.015613,
     "end_time": "2024-02-08T13:27:12.775382",
     "exception": false,
     "start_time": "2024-02-08T13:27:12.759769",
     "status": "completed"
    },
    "tags": []
   },
   "source": [
    "#### Discharge NOMS"
   ]
  },
  {
   "cell_type": "code",
   "execution_count": 9,
   "id": "3a987fc6",
   "metadata": {
    "ExecuteTime": {
     "end_time": "2023-08-08T14:57:02.840629Z",
     "start_time": "2023-08-08T14:57:02.807812Z"
    },
    "execution": {
     "iopub.execute_input": "2024-02-08T13:27:12.791006Z",
     "iopub.status.busy": "2024-02-08T13:27:12.791006Z",
     "iopub.status.idle": "2024-02-08T13:27:12.851083Z",
     "shell.execute_reply": "2024-02-08T13:27:12.851083Z"
    },
    "papermill": {
     "duration": 0.075701,
     "end_time": "2024-02-08T13:27:12.851083",
     "exception": false,
     "start_time": "2024-02-08T13:27:12.775382",
     "status": "completed"
    },
    "tags": []
   },
   "outputs": [
    {
     "data": {
      "text/html": [
       "<div>\n",
       "<style scoped>\n",
       "    .dataframe tbody tr th:only-of-type {\n",
       "        vertical-align: middle;\n",
       "    }\n",
       "\n",
       "    .dataframe tbody tr th {\n",
       "        vertical-align: top;\n",
       "    }\n",
       "\n",
       "    .dataframe thead th {\n",
       "        text-align: right;\n",
       "    }\n",
       "</style>\n",
       "<table border=\"1\" class=\"dataframe\">\n",
       "  <thead>\n",
       "    <tr style=\"text-align: right;\">\n",
       "      <th></th>\n",
       "      <th>PatientID</th>\n",
       "      <th>Discharge NOMS</th>\n",
       "    </tr>\n",
       "  </thead>\n",
       "  <tbody>\n",
       "    <tr>\n",
       "      <th>0</th>\n",
       "      <td>620541</td>\n",
       "      <td>True</td>\n",
       "    </tr>\n",
       "    <tr>\n",
       "      <th>1</th>\n",
       "      <td>620671</td>\n",
       "      <td>True</td>\n",
       "    </tr>\n",
       "    <tr>\n",
       "      <th>2</th>\n",
       "      <td>620681</td>\n",
       "      <td>True</td>\n",
       "    </tr>\n",
       "    <tr>\n",
       "      <th>3</th>\n",
       "      <td>620721</td>\n",
       "      <td>True</td>\n",
       "    </tr>\n",
       "    <tr>\n",
       "      <th>4</th>\n",
       "      <td>620731</td>\n",
       "      <td>True</td>\n",
       "    </tr>\n",
       "    <tr>\n",
       "      <th>5</th>\n",
       "      <td>621201</td>\n",
       "      <td>True</td>\n",
       "    </tr>\n",
       "    <tr>\n",
       "      <th>7</th>\n",
       "      <td>621621</td>\n",
       "      <td>True</td>\n",
       "    </tr>\n",
       "    <tr>\n",
       "      <th>8</th>\n",
       "      <td>622191</td>\n",
       "      <td>True</td>\n",
       "    </tr>\n",
       "    <tr>\n",
       "      <th>9</th>\n",
       "      <td>623011</td>\n",
       "      <td>True</td>\n",
       "    </tr>\n",
       "    <tr>\n",
       "      <th>10</th>\n",
       "      <td>623041</td>\n",
       "      <td>True</td>\n",
       "    </tr>\n",
       "    <tr>\n",
       "      <th>11</th>\n",
       "      <td>623371</td>\n",
       "      <td>True</td>\n",
       "    </tr>\n",
       "    <tr>\n",
       "      <th>12</th>\n",
       "      <td>623511</td>\n",
       "      <td>True</td>\n",
       "    </tr>\n",
       "    <tr>\n",
       "      <th>13</th>\n",
       "      <td>623541</td>\n",
       "      <td>True</td>\n",
       "    </tr>\n",
       "    <tr>\n",
       "      <th>14</th>\n",
       "      <td>623551</td>\n",
       "      <td>True</td>\n",
       "    </tr>\n",
       "    <tr>\n",
       "      <th>15</th>\n",
       "      <td>623621</td>\n",
       "      <td>True</td>\n",
       "    </tr>\n",
       "    <tr>\n",
       "      <th>16</th>\n",
       "      <td>623701</td>\n",
       "      <td>True</td>\n",
       "    </tr>\n",
       "    <tr>\n",
       "      <th>17</th>\n",
       "      <td>623841</td>\n",
       "      <td>True</td>\n",
       "    </tr>\n",
       "    <tr>\n",
       "      <th>19</th>\n",
       "      <td>624011</td>\n",
       "      <td>True</td>\n",
       "    </tr>\n",
       "    <tr>\n",
       "      <th>20</th>\n",
       "      <td>624141</td>\n",
       "      <td>True</td>\n",
       "    </tr>\n",
       "    <tr>\n",
       "      <th>21</th>\n",
       "      <td>624231</td>\n",
       "      <td>True</td>\n",
       "    </tr>\n",
       "    <tr>\n",
       "      <th>22</th>\n",
       "      <td>624311</td>\n",
       "      <td>True</td>\n",
       "    </tr>\n",
       "    <tr>\n",
       "      <th>23</th>\n",
       "      <td>624391</td>\n",
       "      <td>True</td>\n",
       "    </tr>\n",
       "    <tr>\n",
       "      <th>24</th>\n",
       "      <td>624401</td>\n",
       "      <td>True</td>\n",
       "    </tr>\n",
       "    <tr>\n",
       "      <th>25</th>\n",
       "      <td>624551</td>\n",
       "      <td>True</td>\n",
       "    </tr>\n",
       "    <tr>\n",
       "      <th>26</th>\n",
       "      <td>624701</td>\n",
       "      <td>True</td>\n",
       "    </tr>\n",
       "    <tr>\n",
       "      <th>27</th>\n",
       "      <td>624711</td>\n",
       "      <td>True</td>\n",
       "    </tr>\n",
       "    <tr>\n",
       "      <th>28</th>\n",
       "      <td>624801</td>\n",
       "      <td>True</td>\n",
       "    </tr>\n",
       "    <tr>\n",
       "      <th>29</th>\n",
       "      <td>625012</td>\n",
       "      <td>True</td>\n",
       "    </tr>\n",
       "    <tr>\n",
       "      <th>30</th>\n",
       "      <td>625222</td>\n",
       "      <td>True</td>\n",
       "    </tr>\n",
       "    <tr>\n",
       "      <th>31</th>\n",
       "      <td>625292</td>\n",
       "      <td>True</td>\n",
       "    </tr>\n",
       "    <tr>\n",
       "      <th>32</th>\n",
       "      <td>625423</td>\n",
       "      <td>True</td>\n",
       "    </tr>\n",
       "    <tr>\n",
       "      <th>33</th>\n",
       "      <td>625513</td>\n",
       "      <td>True</td>\n",
       "    </tr>\n",
       "    <tr>\n",
       "      <th>34</th>\n",
       "      <td>625533</td>\n",
       "      <td>True</td>\n",
       "    </tr>\n",
       "    <tr>\n",
       "      <th>35</th>\n",
       "      <td>625615</td>\n",
       "      <td>True</td>\n",
       "    </tr>\n",
       "    <tr>\n",
       "      <th>36</th>\n",
       "      <td>625655</td>\n",
       "      <td>True</td>\n",
       "    </tr>\n",
       "    <tr>\n",
       "      <th>37</th>\n",
       "      <td>625745</td>\n",
       "      <td>True</td>\n",
       "    </tr>\n",
       "    <tr>\n",
       "      <th>38</th>\n",
       "      <td>625755</td>\n",
       "      <td>True</td>\n",
       "    </tr>\n",
       "    <tr>\n",
       "      <th>39</th>\n",
       "      <td>625815</td>\n",
       "      <td>True</td>\n",
       "    </tr>\n",
       "    <tr>\n",
       "      <th>40</th>\n",
       "      <td>625935</td>\n",
       "      <td>True</td>\n",
       "    </tr>\n",
       "    <tr>\n",
       "      <th>41</th>\n",
       "      <td>625945</td>\n",
       "      <td>True</td>\n",
       "    </tr>\n",
       "    <tr>\n",
       "      <th>42</th>\n",
       "      <td>625995</td>\n",
       "      <td>True</td>\n",
       "    </tr>\n",
       "    <tr>\n",
       "      <th>43</th>\n",
       "      <td>626075</td>\n",
       "      <td>True</td>\n",
       "    </tr>\n",
       "    <tr>\n",
       "      <th>44</th>\n",
       "      <td>626135</td>\n",
       "      <td>True</td>\n",
       "    </tr>\n",
       "    <tr>\n",
       "      <th>45</th>\n",
       "      <td>626195</td>\n",
       "      <td>True</td>\n",
       "    </tr>\n",
       "    <tr>\n",
       "      <th>46</th>\n",
       "      <td>626205</td>\n",
       "      <td>True</td>\n",
       "    </tr>\n",
       "    <tr>\n",
       "      <th>47</th>\n",
       "      <td>626235</td>\n",
       "      <td>True</td>\n",
       "    </tr>\n",
       "    <tr>\n",
       "      <th>48</th>\n",
       "      <td>626275</td>\n",
       "      <td>True</td>\n",
       "    </tr>\n",
       "    <tr>\n",
       "      <th>49</th>\n",
       "      <td>626315</td>\n",
       "      <td>True</td>\n",
       "    </tr>\n",
       "    <tr>\n",
       "      <th>50</th>\n",
       "      <td>626435</td>\n",
       "      <td>True</td>\n",
       "    </tr>\n",
       "    <tr>\n",
       "      <th>51</th>\n",
       "      <td>626465</td>\n",
       "      <td>True</td>\n",
       "    </tr>\n",
       "    <tr>\n",
       "      <th>52</th>\n",
       "      <td>626535</td>\n",
       "      <td>True</td>\n",
       "    </tr>\n",
       "    <tr>\n",
       "      <th>53</th>\n",
       "      <td>626575</td>\n",
       "      <td>True</td>\n",
       "    </tr>\n",
       "    <tr>\n",
       "      <th>54</th>\n",
       "      <td>626655</td>\n",
       "      <td>True</td>\n",
       "    </tr>\n",
       "    <tr>\n",
       "      <th>55</th>\n",
       "      <td>626795</td>\n",
       "      <td>True</td>\n",
       "    </tr>\n",
       "    <tr>\n",
       "      <th>56</th>\n",
       "      <td>626835</td>\n",
       "      <td>True</td>\n",
       "    </tr>\n",
       "    <tr>\n",
       "      <th>57</th>\n",
       "      <td>627047</td>\n",
       "      <td>True</td>\n",
       "    </tr>\n",
       "    <tr>\n",
       "      <th>58</th>\n",
       "      <td>627537</td>\n",
       "      <td>True</td>\n",
       "    </tr>\n",
       "  </tbody>\n",
       "</table>\n",
       "</div>"
      ],
      "text/plain": [
       "    PatientID  Discharge NOMS\n",
       "0      620541            True\n",
       "1      620671            True\n",
       "2      620681            True\n",
       "3      620721            True\n",
       "4      620731            True\n",
       "5      621201            True\n",
       "7      621621            True\n",
       "8      622191            True\n",
       "9      623011            True\n",
       "10     623041            True\n",
       "11     623371            True\n",
       "12     623511            True\n",
       "13     623541            True\n",
       "14     623551            True\n",
       "15     623621            True\n",
       "16     623701            True\n",
       "17     623841            True\n",
       "19     624011            True\n",
       "20     624141            True\n",
       "21     624231            True\n",
       "22     624311            True\n",
       "23     624391            True\n",
       "24     624401            True\n",
       "25     624551            True\n",
       "26     624701            True\n",
       "27     624711            True\n",
       "28     624801            True\n",
       "29     625012            True\n",
       "30     625222            True\n",
       "31     625292            True\n",
       "32     625423            True\n",
       "33     625513            True\n",
       "34     625533            True\n",
       "35     625615            True\n",
       "36     625655            True\n",
       "37     625745            True\n",
       "38     625755            True\n",
       "39     625815            True\n",
       "40     625935            True\n",
       "41     625945            True\n",
       "42     625995            True\n",
       "43     626075            True\n",
       "44     626135            True\n",
       "45     626195            True\n",
       "46     626205            True\n",
       "47     626235            True\n",
       "48     626275            True\n",
       "49     626315            True\n",
       "50     626435            True\n",
       "51     626465            True\n",
       "52     626535            True\n",
       "53     626575            True\n",
       "54     626655            True\n",
       "55     626795            True\n",
       "56     626835            True\n",
       "57     627047            True\n",
       "58     627537            True"
      ]
     },
     "execution_count": 9,
     "metadata": {},
     "output_type": "execute_result"
    }
   ],
   "source": [
    "try:\n",
    "    sql=f'''\n",
    "    SELECT \n",
    "        DISTINCT (PatientID),\n",
    "        CreatedOn AS 'Discharge Date',\n",
    "        AssessmentKey AS 'Discharged'\n",
    "    FROM \n",
    "        tblNOMS_AllAssessments\n",
    "    WHERE \n",
    "        Discharged LIKE '%Discharge%'\n",
    "        AND (StatusDesc LIKE \"%Entered%\"\n",
    "        OR StatusDesc LIKE \"%Completed%\")\n",
    "        AND\n",
    "        PatientID NOT IN ({testPatients})\n",
    "    ORDER BY\n",
    "        PatientID\n",
    "    '''\n",
    "    df = pd.read_sql(sql, conn)\n",
    "    df['Discharge Date'] = pd.to_datetime(df['Discharge Date']).dt.date\n",
    "    \n",
    "    # filter before march\n",
    "    march_mask = datetime.date(2023,3,1)\n",
    "    discharge_df = df[df['Discharge Date'] >= march_mask]\n",
    "    \n",
    "    \n",
    "    # Prettify data for megers later\n",
    "    discharge_df = discharge_df[['PatientID']]\n",
    "    discharge_df.drop_duplicates(inplace=True)\n",
    "    discharge_df['Discharge NOMS'] = True\n",
    "\n",
    "    logger.info(f\"Successfully queried tblNOMS_AllAssessments for Discharges.\")\n",
    "except Exception as e:\n",
    "    logger.error(f\"Failed to query tblNOMS_AllAssessments for Discharges.\", exc_info=True) \n",
    "    print(e)\n",
    "    sys.exit(1)\n",
    "    \n",
    "discharge_df"
   ]
  },
  {
   "cell_type": "markdown",
   "id": "0af0cd6f",
   "metadata": {
    "papermill": {
     "duration": 0.015721,
     "end_time": "2024-02-08T13:27:12.866804",
     "exception": false,
     "start_time": "2024-02-08T13:27:12.851083",
     "status": "completed"
    },
    "tags": []
   },
   "source": [
    "#### NOMS Refusals"
   ]
  },
  {
   "cell_type": "code",
   "execution_count": 10,
   "id": "d1769b8f",
   "metadata": {
    "ExecuteTime": {
     "end_time": "2023-08-08T14:57:02.876271Z",
     "start_time": "2023-08-08T14:57:02.842641Z"
    },
    "execution": {
     "iopub.execute_input": "2024-02-08T13:27:12.882429Z",
     "iopub.status.busy": "2024-02-08T13:27:12.882429Z",
     "iopub.status.idle": "2024-02-08T13:27:12.927203Z",
     "shell.execute_reply": "2024-02-08T13:27:12.927203Z"
    },
    "papermill": {
     "duration": 0.044774,
     "end_time": "2024-02-08T13:27:12.927203",
     "exception": false,
     "start_time": "2024-02-08T13:27:12.882429",
     "status": "completed"
    },
    "tags": []
   },
   "outputs": [
    {
     "data": {
      "text/html": [
       "<div>\n",
       "<style scoped>\n",
       "    .dataframe tbody tr th:only-of-type {\n",
       "        vertical-align: middle;\n",
       "    }\n",
       "\n",
       "    .dataframe tbody tr th {\n",
       "        vertical-align: top;\n",
       "    }\n",
       "\n",
       "    .dataframe thead th {\n",
       "        text-align: right;\n",
       "    }\n",
       "</style>\n",
       "<table border=\"1\" class=\"dataframe\">\n",
       "  <thead>\n",
       "    <tr style=\"text-align: right;\">\n",
       "      <th></th>\n",
       "      <th>PatientID</th>\n",
       "      <th>Consent</th>\n",
       "      <th>Reason</th>\n",
       "    </tr>\n",
       "  </thead>\n",
       "  <tbody>\n",
       "    <tr>\n",
       "      <th>0</th>\n",
       "      <td>621269</td>\n",
       "      <td>No</td>\n",
       "      <td>3 - Client Refused This Interview</td>\n",
       "    </tr>\n",
       "    <tr>\n",
       "      <th>1</th>\n",
       "      <td>620847</td>\n",
       "      <td>No</td>\n",
       "      <td>3 - Client Refused This Interview</td>\n",
       "    </tr>\n",
       "    <tr>\n",
       "      <th>2</th>\n",
       "      <td>620987</td>\n",
       "      <td>No</td>\n",
       "      <td>3 - Client Refused This Interview</td>\n",
       "    </tr>\n",
       "    <tr>\n",
       "      <th>3</th>\n",
       "      <td>622697</td>\n",
       "      <td>No</td>\n",
       "      <td>3 - Client Refused This Interview</td>\n",
       "    </tr>\n",
       "    <tr>\n",
       "      <th>4</th>\n",
       "      <td>624299</td>\n",
       "      <td>No</td>\n",
       "      <td>None Given</td>\n",
       "    </tr>\n",
       "    <tr>\n",
       "      <th>...</th>\n",
       "      <td>...</td>\n",
       "      <td>...</td>\n",
       "      <td>...</td>\n",
       "    </tr>\n",
       "    <tr>\n",
       "      <th>342</th>\n",
       "      <td>627977</td>\n",
       "      <td>No</td>\n",
       "      <td>4 - Client Was Not Reached For Interview</td>\n",
       "    </tr>\n",
       "    <tr>\n",
       "      <th>343</th>\n",
       "      <td>627957</td>\n",
       "      <td>No</td>\n",
       "      <td>3 - Client Refused This Interview</td>\n",
       "    </tr>\n",
       "    <tr>\n",
       "      <th>344</th>\n",
       "      <td>627997</td>\n",
       "      <td>No</td>\n",
       "      <td>3 - Client Refused This Interview</td>\n",
       "    </tr>\n",
       "    <tr>\n",
       "      <th>345</th>\n",
       "      <td>628007</td>\n",
       "      <td>No</td>\n",
       "      <td>4 - Client Was Not Reached For Interview</td>\n",
       "    </tr>\n",
       "    <tr>\n",
       "      <th>346</th>\n",
       "      <td>623021</td>\n",
       "      <td>No</td>\n",
       "      <td>3 - Client Refused This Interview</td>\n",
       "    </tr>\n",
       "  </tbody>\n",
       "</table>\n",
       "<p>347 rows × 3 columns</p>\n",
       "</div>"
      ],
      "text/plain": [
       "     PatientID Consent                                    Reason\n",
       "0       621269      No         3 - Client Refused This Interview\n",
       "1       620847      No         3 - Client Refused This Interview\n",
       "2       620987      No         3 - Client Refused This Interview\n",
       "3       622697      No         3 - Client Refused This Interview\n",
       "4       624299      No                                None Given\n",
       "..         ...     ...                                       ...\n",
       "342     627977      No  4 - Client Was Not Reached For Interview\n",
       "343     627957      No         3 - Client Refused This Interview\n",
       "344     627997      No         3 - Client Refused This Interview\n",
       "345     628007      No  4 - Client Was Not Reached For Interview\n",
       "346     623021      No         3 - Client Refused This Interview\n",
       "\n",
       "[347 rows x 3 columns]"
      ]
     },
     "execution_count": 10,
     "metadata": {},
     "output_type": "execute_result"
    }
   ],
   "source": [
    "try:\n",
    "    sql=f'''\n",
    "    SELECT \n",
    "        PatientID,\n",
    "        InterviewConductedNoID AS Reason\n",
    "    FROM \n",
    "        tblNOMS_AllAssessments\n",
    "    WHERE \n",
    "        AssessmentKey LIKE 'Base%'      AND\n",
    "        InterviewConductedID LIKE '%0%' AND\n",
    "        PatientID NOT IN ({testPatients})\n",
    "    '''\n",
    "    refused_df = pd.read_sql(sql, conn)\n",
    "    refused_df['Consent'] = 'No'\n",
    "    # fill in blank reasons with 'None Given'\n",
    "    refused_df = refused_df.replace(r'^\\s*$', 'None Given', regex=True)\n",
    "\n",
    "    # Reorder columns\n",
    "    refused_df = refused_df[['PatientID',\n",
    "                             'Consent',\n",
    "                             'Reason']]\n",
    "    \n",
    "    logger.info(f\"Successfully queried tblNOMS_AllAssessments for Baseline Refusals.\")\n",
    "except Exception as e:\n",
    "    logger.error(f\"Failed to query tblNOMS_AllAssessments for Baseline Refusals.\", exc_info=True) \n",
    "    print(e)\n",
    "    sys.exit(1)\n",
    "refused_df"
   ]
  },
  {
   "cell_type": "markdown",
   "id": "2d9c6880",
   "metadata": {
    "papermill": {
     "duration": 0.015728,
     "end_time": "2024-02-08T13:27:12.942931",
     "exception": false,
     "start_time": "2024-02-08T13:27:12.927203",
     "status": "completed"
    },
    "tags": []
   },
   "source": [
    "#### NOMS Consents"
   ]
  },
  {
   "cell_type": "code",
   "execution_count": 11,
   "id": "d5c6ccbf",
   "metadata": {
    "ExecuteTime": {
     "end_time": "2023-08-08T14:57:02.909577Z",
     "start_time": "2023-08-08T14:57:02.877280Z"
    },
    "execution": {
     "iopub.execute_input": "2024-02-08T13:27:12.958555Z",
     "iopub.status.busy": "2024-02-08T13:27:12.958555Z",
     "iopub.status.idle": "2024-02-08T13:27:13.012356Z",
     "shell.execute_reply": "2024-02-08T13:27:13.012356Z"
    },
    "papermill": {
     "duration": 0.053801,
     "end_time": "2024-02-08T13:27:13.012356",
     "exception": false,
     "start_time": "2024-02-08T13:27:12.958555",
     "status": "completed"
    },
    "tags": []
   },
   "outputs": [
    {
     "data": {
      "text/html": [
       "<div>\n",
       "<style scoped>\n",
       "    .dataframe tbody tr th:only-of-type {\n",
       "        vertical-align: middle;\n",
       "    }\n",
       "\n",
       "    .dataframe tbody tr th {\n",
       "        vertical-align: top;\n",
       "    }\n",
       "\n",
       "    .dataframe thead th {\n",
       "        text-align: right;\n",
       "    }\n",
       "</style>\n",
       "<table border=\"1\" class=\"dataframe\">\n",
       "  <thead>\n",
       "    <tr style=\"text-align: right;\">\n",
       "      <th></th>\n",
       "      <th>PatientID</th>\n",
       "      <th>Consent</th>\n",
       "    </tr>\n",
       "  </thead>\n",
       "  <tbody>\n",
       "    <tr>\n",
       "      <th>0</th>\n",
       "      <td>622516</td>\n",
       "      <td>Yes</td>\n",
       "    </tr>\n",
       "    <tr>\n",
       "      <th>1</th>\n",
       "      <td>622032</td>\n",
       "      <td>Yes</td>\n",
       "    </tr>\n",
       "    <tr>\n",
       "      <th>2</th>\n",
       "      <td>623392</td>\n",
       "      <td>Yes</td>\n",
       "    </tr>\n",
       "    <tr>\n",
       "      <th>3</th>\n",
       "      <td>620829</td>\n",
       "      <td>Yes</td>\n",
       "    </tr>\n",
       "    <tr>\n",
       "      <th>4</th>\n",
       "      <td>624114</td>\n",
       "      <td>Yes</td>\n",
       "    </tr>\n",
       "    <tr>\n",
       "      <th>...</th>\n",
       "      <td>...</td>\n",
       "      <td>...</td>\n",
       "    </tr>\n",
       "    <tr>\n",
       "      <th>315</th>\n",
       "      <td>623994</td>\n",
       "      <td>Yes</td>\n",
       "    </tr>\n",
       "    <tr>\n",
       "      <th>316</th>\n",
       "      <td>626905</td>\n",
       "      <td>Yes</td>\n",
       "    </tr>\n",
       "    <tr>\n",
       "      <th>317</th>\n",
       "      <td>627727</td>\n",
       "      <td>Yes</td>\n",
       "    </tr>\n",
       "    <tr>\n",
       "      <th>318</th>\n",
       "      <td>627707</td>\n",
       "      <td>Yes</td>\n",
       "    </tr>\n",
       "    <tr>\n",
       "      <th>319</th>\n",
       "      <td>627827</td>\n",
       "      <td>Yes</td>\n",
       "    </tr>\n",
       "  </tbody>\n",
       "</table>\n",
       "<p>320 rows × 2 columns</p>\n",
       "</div>"
      ],
      "text/plain": [
       "     PatientID Consent\n",
       "0       622516     Yes\n",
       "1       622032     Yes\n",
       "2       623392     Yes\n",
       "3       620829     Yes\n",
       "4       624114     Yes\n",
       "..         ...     ...\n",
       "315     623994     Yes\n",
       "316     626905     Yes\n",
       "317     627727     Yes\n",
       "318     627707     Yes\n",
       "319     627827     Yes\n",
       "\n",
       "[320 rows x 2 columns]"
      ]
     },
     "execution_count": 11,
     "metadata": {},
     "output_type": "execute_result"
    }
   ],
   "source": [
    "try:\n",
    "    sql=f'''\n",
    "    SELECT \n",
    "        PatientID\n",
    "    FROM \n",
    "        tblNOMS_AllAssessments\n",
    "    WHERE \n",
    "        AssessmentKey LIKE 'Base%'      AND\n",
    "        InterviewConductedID LIKE '%1%' AND\n",
    "        PatientID NOT IN ({testPatients})\n",
    "    '''\n",
    "    agreed_df = pd.read_sql(sql, conn)\n",
    "    agreed_df\n",
    "    # add Consent\n",
    "    agreed_df[\"Consent\"] = 'Yes'\n",
    "    \n",
    "    logger.info(f\"Successfully queried tblNOMS_AllAssessments for Baseline Consents.\")\n",
    "except Exception as e:\n",
    "    logger.error(f\"Failed to query tblNOMS_AllAssessments for Baseline Consents.\", exc_info=True) \n",
    "    print(e)\n",
    "    sys.exit(1)\n",
    "agreed_df"
   ]
  },
  {
   "cell_type": "markdown",
   "id": "acd6b53c",
   "metadata": {
    "papermill": {
     "duration": 0.01562,
     "end_time": "2024-02-08T13:27:13.043632",
     "exception": false,
     "start_time": "2024-02-08T13:27:13.028012",
     "status": "completed"
    },
    "tags": []
   },
   "source": [
    "#### Append Consent dfs "
   ]
  },
  {
   "cell_type": "code",
   "execution_count": 12,
   "id": "4c11066b",
   "metadata": {
    "ExecuteTime": {
     "end_time": "2023-08-08T14:57:02.916065Z",
     "start_time": "2023-08-08T14:57:02.910579Z"
    },
    "execution": {
     "iopub.execute_input": "2024-02-08T13:27:13.059258Z",
     "iopub.status.busy": "2024-02-08T13:27:13.059258Z",
     "iopub.status.idle": "2024-02-08T13:27:13.078557Z",
     "shell.execute_reply": "2024-02-08T13:27:13.078557Z"
    },
    "papermill": {
     "duration": 0.034925,
     "end_time": "2024-02-08T13:27:13.078557",
     "exception": false,
     "start_time": "2024-02-08T13:27:13.043632",
     "status": "completed"
    },
    "scrolled": true,
    "tags": []
   },
   "outputs": [],
   "source": [
    "consent_df = pd.concat([refused_df, agreed_df], ignore_index=True)"
   ]
  },
  {
   "cell_type": "markdown",
   "id": "578afc89",
   "metadata": {
    "papermill": {
     "duration": 0.015639,
     "end_time": "2024-02-08T13:27:13.094196",
     "exception": false,
     "start_time": "2024-02-08T13:27:13.078557",
     "status": "completed"
    },
    "tags": []
   },
   "source": [
    "### Entered into Spars"
   ]
  },
  {
   "cell_type": "markdown",
   "id": "617cc29b",
   "metadata": {
    "papermill": {
     "duration": 0.0,
     "end_time": "2024-02-08T13:27:13.109824",
     "exception": false,
     "start_time": "2024-02-08T13:27:13.109824",
     "status": "completed"
    },
    "tags": []
   },
   "source": [
    "#### Baselines"
   ]
  },
  {
   "cell_type": "code",
   "execution_count": 13,
   "id": "1065c5aa",
   "metadata": {
    "ExecuteTime": {
     "end_time": "2023-08-08T14:57:02.945881Z",
     "start_time": "2023-08-08T14:57:02.919062Z"
    },
    "execution": {
     "iopub.execute_input": "2024-02-08T13:27:13.141076Z",
     "iopub.status.busy": "2024-02-08T13:27:13.141076Z",
     "iopub.status.idle": "2024-02-08T13:27:13.182710Z",
     "shell.execute_reply": "2024-02-08T13:27:13.182710Z"
    },
    "papermill": {
     "duration": 0.05726,
     "end_time": "2024-02-08T13:27:13.182710",
     "exception": false,
     "start_time": "2024-02-08T13:27:13.125450",
     "status": "completed"
    },
    "tags": []
   },
   "outputs": [],
   "source": [
    "try:\n",
    "    sql=f'''\n",
    "    SELECT \n",
    "        PatientID,\n",
    "        StatusDesc AS 'Baseline SPARS'\n",
    "    FROM \n",
    "        tblNOMSAssessmentDetails\n",
    "    WHERE\n",
    "        PatientID NOT IN ({testPatients})\n",
    "    ORDER BY\n",
    "        PatientID\n",
    "    '''\n",
    "    baseline_SPARS = pd.read_sql(sql,conn)\n",
    "        \n",
    "    logger.info(f\"Successfully queried tblNOMSAssessmentDetails for Baselines entered to SPARS.\")\n",
    "except Exception as e:\n",
    "    logger.error(f\"Failed to query tblNOMSAssessmentDetails for Baselines entered to SPARS.\", exc_info=True) \n",
    "    print(e)\n",
    "    sys.exit(1)"
   ]
  },
  {
   "cell_type": "markdown",
   "id": "6e3c51bf",
   "metadata": {
    "papermill": {
     "duration": 0.015674,
     "end_time": "2024-02-08T13:27:13.214037",
     "exception": false,
     "start_time": "2024-02-08T13:27:13.198363",
     "status": "completed"
    },
    "tags": []
   },
   "source": [
    "#### Reassessments"
   ]
  },
  {
   "cell_type": "code",
   "execution_count": 14,
   "id": "f9d9b928",
   "metadata": {
    "ExecuteTime": {
     "end_time": "2023-08-08T14:57:02.972668Z",
     "start_time": "2023-08-08T14:57:02.947152Z"
    },
    "execution": {
     "iopub.execute_input": "2024-02-08T13:27:13.229664Z",
     "iopub.status.busy": "2024-02-08T13:27:13.229664Z",
     "iopub.status.idle": "2024-02-08T13:27:13.275799Z",
     "shell.execute_reply": "2024-02-08T13:27:13.275799Z"
    },
    "papermill": {
     "duration": 0.046135,
     "end_time": "2024-02-08T13:27:13.275799",
     "exception": false,
     "start_time": "2024-02-08T13:27:13.229664",
     "status": "completed"
    },
    "tags": []
   },
   "outputs": [],
   "source": [
    "try:\n",
    "    sql=f'''\n",
    "    SELECT \n",
    "        PatientID,\n",
    "        StatusDesc AS 'Reassessment SPARS'\n",
    "    FROM \n",
    "        tblNOMSReAssessmentDetails\n",
    "    WHERE\n",
    "        PatientID NOT IN ({testPatients})\n",
    "    ORDER BY\n",
    "        PatientID\n",
    "    '''\n",
    "    reassessment_SPARS = pd.read_sql(sql,conn)\n",
    "    \n",
    "    logger.info(f\"Successfully queried tblNOMSAssessmentDetails for Reassessments entered to SPARS.\")\n",
    "except Exception as e:\n",
    "    logger.error(f\"Failed to query tblNOMSAssessmentDetails for Reassessments entered to SPARS.\", exc_info=True) \n",
    "    print(e)\n",
    "    sys.exit(1)"
   ]
  },
  {
   "cell_type": "markdown",
   "id": "2506b693",
   "metadata": {
    "papermill": {
     "duration": 0.0,
     "end_time": "2024-02-08T13:27:13.291498",
     "exception": false,
     "start_time": "2024-02-08T13:27:13.291498",
     "status": "completed"
    },
    "tags": []
   },
   "source": [
    "#### Discharges "
   ]
  },
  {
   "cell_type": "code",
   "execution_count": 15,
   "id": "c8d8e525",
   "metadata": {
    "ExecuteTime": {
     "end_time": "2023-08-08T14:57:03.004278Z",
     "start_time": "2023-08-08T14:57:02.974013Z"
    },
    "execution": {
     "iopub.execute_input": "2024-02-08T13:27:13.322764Z",
     "iopub.status.busy": "2024-02-08T13:27:13.322764Z",
     "iopub.status.idle": "2024-02-08T13:27:13.354561Z",
     "shell.execute_reply": "2024-02-08T13:27:13.354561Z"
    },
    "papermill": {
     "duration": 0.047439,
     "end_time": "2024-02-08T13:27:13.354561",
     "exception": false,
     "start_time": "2024-02-08T13:27:13.307122",
     "status": "completed"
    },
    "tags": []
   },
   "outputs": [],
   "source": [
    "try:\n",
    "    sql=f'''\n",
    "    SELECT \n",
    "        PatientID,\n",
    "        StatusDesc AS 'Discharge SPARS'\n",
    "    FROM \n",
    "        tblNOMSDischargeDetails\n",
    "    WHERE\n",
    "        PatientID NOT IN ({testPatients})\n",
    "    ORDER BY\n",
    "        PatientID\n",
    "    '''\n",
    "    discharge_SPARS = pd.read_sql(sql,conn)\n",
    "    discharge_SPARS.drop_duplicates(inplace=True)    \n",
    "    \n",
    "    logger.info(f\"Successfully queried tblNOMSAssessmentDetails for Discharges entered to SPARS.\")\n",
    "except Exception as e:\n",
    "    logger.error(f\"Failed to query tblNOMSAssessmentDetails for Discharges entered to SPARS.\", exc_info=True) \n",
    "    print(e)\n",
    "    sys.exit(1)\n",
    "    "
   ]
  },
  {
   "cell_type": "markdown",
   "id": "d8331a62",
   "metadata": {
    "papermill": {
     "duration": 0.015624,
     "end_time": "2024-02-08T13:27:13.385824",
     "exception": false,
     "start_time": "2024-02-08T13:27:13.370200",
     "status": "completed"
    },
    "tags": []
   },
   "source": [
    "## Merges"
   ]
  },
  {
   "cell_type": "markdown",
   "id": "4b050fc1",
   "metadata": {
    "papermill": {
     "duration": 0.015627,
     "end_time": "2024-02-08T13:27:13.401451",
     "exception": false,
     "start_time": "2024-02-08T13:27:13.385824",
     "status": "completed"
    },
    "tags": []
   },
   "source": [
    "### Merge patient_details and encounters "
   ]
  },
  {
   "cell_type": "code",
   "execution_count": 16,
   "id": "40229e4e",
   "metadata": {
    "ExecuteTime": {
     "end_time": "2023-08-08T14:57:03.014773Z",
     "start_time": "2023-08-08T14:57:03.006060Z"
    },
    "execution": {
     "iopub.execute_input": "2024-02-08T13:27:13.432704Z",
     "iopub.status.busy": "2024-02-08T13:27:13.432704Z",
     "iopub.status.idle": "2024-02-08T13:27:13.456289Z",
     "shell.execute_reply": "2024-02-08T13:27:13.456289Z"
    },
    "papermill": {
     "duration": 0.039213,
     "end_time": "2024-02-08T13:27:13.456289",
     "exception": false,
     "start_time": "2024-02-08T13:27:13.417076",
     "status": "completed"
    },
    "tags": []
   },
   "outputs": [],
   "source": [
    "try:\n",
    "    full_data_collection_df = patient_details_df.merge(encounter_df,\n",
    "                                                       on='PatientID',\n",
    "                                                       how='left')\n",
    "    # drop patients without encounters\n",
    "    full_data_collection_df = full_data_collection_df[full_data_collection_df['EncounterDate'].notna()]\n",
    "    \n",
    "    logger.info(f\"Successfully merged patient deatils with encounters.\")\n",
    "except Exception as e:\n",
    "    logger.error(f\"Failed to merge patient deatils with encounters.\", exc_info=True) \n",
    "    print(e)\n",
    "    sys.exit(1)"
   ]
  },
  {
   "cell_type": "markdown",
   "id": "c3b81ef8",
   "metadata": {
    "papermill": {
     "duration": 0.015623,
     "end_time": "2024-02-08T13:27:13.487562",
     "exception": false,
     "start_time": "2024-02-08T13:27:13.471939",
     "status": "completed"
    },
    "tags": []
   },
   "source": [
    "### Merge in Statuses"
   ]
  },
  {
   "cell_type": "code",
   "execution_count": 17,
   "id": "9e053746",
   "metadata": {
    "ExecuteTime": {
     "end_time": "2023-08-08T14:57:03.027834Z",
     "start_time": "2023-08-08T14:57:03.016774Z"
    },
    "execution": {
     "iopub.execute_input": "2024-02-08T13:27:13.503187Z",
     "iopub.status.busy": "2024-02-08T13:27:13.503187Z",
     "iopub.status.idle": "2024-02-08T13:27:13.527920Z",
     "shell.execute_reply": "2024-02-08T13:27:13.527920Z"
    },
    "papermill": {
     "duration": 0.040358,
     "end_time": "2024-02-08T13:27:13.527920",
     "exception": false,
     "start_time": "2024-02-08T13:27:13.487562",
     "status": "completed"
    },
    "tags": []
   },
   "outputs": [],
   "source": [
    "try:\n",
    "    full_data_collection_df = full_data_collection_df.merge(discharged_patients_df,\n",
    "                                                            on = 'PatientID',\n",
    "                                                            how = 'left')\n",
    "    # fill nan status\n",
    "    full_data_collection_df['Status'].fillna('Active',inplace=True)\n",
    "    \n",
    "    logger.info(f\"Successfully merged in discharged patients.\")\n",
    "except Exception as e:\n",
    "    logger.error(f\"Failed to merge in discharged patients.\", exc_info=True) \n",
    "    print(e)\n",
    "    sys.exit(1)   "
   ]
  },
  {
   "cell_type": "markdown",
   "id": "11304ff5",
   "metadata": {
    "papermill": {
     "duration": 0.031322,
     "end_time": "2024-02-08T13:27:13.574891",
     "exception": false,
     "start_time": "2024-02-08T13:27:13.543569",
     "status": "completed"
    },
    "tags": []
   },
   "source": [
    "### Merge in Baseline NOMS"
   ]
  },
  {
   "cell_type": "code",
   "execution_count": 18,
   "id": "cef02019",
   "metadata": {
    "ExecuteTime": {
     "end_time": "2023-08-08T14:57:03.039357Z",
     "start_time": "2023-08-08T14:57:03.030829Z"
    },
    "execution": {
     "iopub.execute_input": "2024-02-08T13:27:13.590515Z",
     "iopub.status.busy": "2024-02-08T13:27:13.590515Z",
     "iopub.status.idle": "2024-02-08T13:27:13.607560Z",
     "shell.execute_reply": "2024-02-08T13:27:13.607560Z"
    },
    "papermill": {
     "duration": 0.032669,
     "end_time": "2024-02-08T13:27:13.607560",
     "exception": false,
     "start_time": "2024-02-08T13:27:13.574891",
     "status": "completed"
    },
    "tags": []
   },
   "outputs": [],
   "source": [
    "try:\n",
    "    full_data_collection_df = full_data_collection_df.merge(baseline_df,\n",
    "                                                            on='PatientID',\n",
    "                                                            how='left')\n",
    "    full_data_collection_df['Baseline NOMS'].fillna(False,inplace=True)\n",
    "\n",
    "    logger.info(f\"Successfully merged in Baseline NOMS.\")\n",
    "except Exception as e:\n",
    "    logger.error(f\"Failed to merge in Baseline NOMS.\", exc_info=True) \n",
    "    print(e)\n",
    "    sys.exit(1)   "
   ]
  },
  {
   "cell_type": "markdown",
   "id": "27b078a1",
   "metadata": {
    "papermill": {
     "duration": 0.015619,
     "end_time": "2024-02-08T13:27:13.638840",
     "exception": false,
     "start_time": "2024-02-08T13:27:13.623221",
     "status": "completed"
    },
    "tags": []
   },
   "source": [
    "### Merge in Reassessment NOMS"
   ]
  },
  {
   "cell_type": "code",
   "execution_count": 19,
   "id": "e764bce5",
   "metadata": {
    "ExecuteTime": {
     "end_time": "2023-08-08T14:57:03.050004Z",
     "start_time": "2023-08-08T14:57:03.042353Z"
    },
    "execution": {
     "iopub.execute_input": "2024-02-08T13:27:13.654466Z",
     "iopub.status.busy": "2024-02-08T13:27:13.654466Z",
     "iopub.status.idle": "2024-02-08T13:27:13.678296Z",
     "shell.execute_reply": "2024-02-08T13:27:13.678296Z"
    },
    "papermill": {
     "duration": 0.039456,
     "end_time": "2024-02-08T13:27:13.678296",
     "exception": false,
     "start_time": "2024-02-08T13:27:13.638840",
     "status": "completed"
    },
    "tags": []
   },
   "outputs": [],
   "source": [
    "try:\n",
    "    full_data_collection_df = full_data_collection_df.merge(reassessment_df,\n",
    "                                                            on='PatientID',\n",
    "                                                            how='left')\n",
    "    full_data_collection_df['6 Month Reassessment NOMS'].fillna(False,inplace=True)\n",
    "\n",
    "    logger.info(f\"Successfully merged in Reassessment NOMS.\")\n",
    "except Exception as e:\n",
    "    logger.error(f\"Failed to merge in Reassessment NOMS.\", exc_info=True) \n",
    "    print(e)\n",
    "    sys.exit(1) "
   ]
  },
  {
   "cell_type": "markdown",
   "id": "c519a79f",
   "metadata": {
    "papermill": {
     "duration": 0.015618,
     "end_time": "2024-02-08T13:27:13.709569",
     "exception": false,
     "start_time": "2024-02-08T13:27:13.693951",
     "status": "completed"
    },
    "tags": []
   },
   "source": [
    "### Merge in Discharge NOMS "
   ]
  },
  {
   "cell_type": "code",
   "execution_count": 20,
   "id": "a1e639d8",
   "metadata": {
    "ExecuteTime": {
     "end_time": "2023-08-08T14:57:03.063009Z",
     "start_time": "2023-08-08T14:57:03.052002Z"
    },
    "execution": {
     "iopub.execute_input": "2024-02-08T13:27:13.725194Z",
     "iopub.status.busy": "2024-02-08T13:27:13.725194Z",
     "iopub.status.idle": "2024-02-08T13:27:13.746830Z",
     "shell.execute_reply": "2024-02-08T13:27:13.746830Z"
    },
    "papermill": {
     "duration": 0.037261,
     "end_time": "2024-02-08T13:27:13.746830",
     "exception": false,
     "start_time": "2024-02-08T13:27:13.709569",
     "status": "completed"
    },
    "tags": []
   },
   "outputs": [],
   "source": [
    "try:\n",
    "    full_data_collection_df = full_data_collection_df.merge(discharge_df,\n",
    "                                                            on='PatientID',\n",
    "                                                            how='left')\n",
    "    full_data_collection_df['Discharge NOMS'].fillna(False,inplace=True)\n",
    "\n",
    "    logger.info(f\"Successfully merged in Discharge NOMS.\")\n",
    "except Exception as e:\n",
    "    logger.error(f\"Failed to merge in Discharge NOMS.\", exc_info=True) \n",
    "    print(e)\n",
    "    sys.exit(1) "
   ]
  },
  {
   "cell_type": "markdown",
   "id": "9b3f88bc",
   "metadata": {
    "papermill": {
     "duration": 0.015724,
     "end_time": "2024-02-08T13:27:13.762554",
     "exception": false,
     "start_time": "2024-02-08T13:27:13.746830",
     "status": "completed"
    },
    "tags": []
   },
   "source": [
    "### Merge in SPARS Status"
   ]
  },
  {
   "cell_type": "code",
   "execution_count": 21,
   "id": "97b7842c",
   "metadata": {
    "ExecuteTime": {
     "end_time": "2023-08-08T14:57:03.079331Z",
     "start_time": "2023-08-08T14:57:03.065008Z"
    },
    "execution": {
     "iopub.execute_input": "2024-02-08T13:27:13.778404Z",
     "iopub.status.busy": "2024-02-08T13:27:13.778404Z",
     "iopub.status.idle": "2024-02-08T13:27:13.806168Z",
     "shell.execute_reply": "2024-02-08T13:27:13.806168Z"
    },
    "papermill": {
     "duration": 0.027764,
     "end_time": "2024-02-08T13:27:13.806168",
     "exception": false,
     "start_time": "2024-02-08T13:27:13.778404",
     "status": "completed"
    },
    "tags": []
   },
   "outputs": [],
   "source": [
    "try: # add the baseline SPARS\n",
    "    full_data_collection_df = full_data_collection_df.merge(baseline_SPARS,\n",
    "                                                            on='PatientID',\n",
    "                                                            how='left')\n",
    "    logger.info(f\"Successfully merged in Baseline SPARS.\")\n",
    "except Exception as e:\n",
    "    logger.error(f\"Failed to merge in Baseline SPARS.\", exc_info=True) \n",
    "    print(e)\n",
    "    sys.exit(1)\n",
    "    \n",
    "\n",
    "try: # add the reassessment SPARS\n",
    "    full_data_collection_df = full_data_collection_df.merge(reassessment_SPARS,\n",
    "                                                        on='PatientID',\n",
    "                                                        how='left')\n",
    "    logger.info(f\"Successfully merged in Reassessment SPARS.\")\n",
    "except Exception as e:\n",
    "    logger.error(f\"Failed to merge in Reassessment SPARS.\", exc_info=True) \n",
    "    print(e)\n",
    "    sys.exit(1)\n",
    "\n",
    "\n",
    "try: # add the discharge SPARS\n",
    "    full_data_collection_df = full_data_collection_df.merge(discharge_SPARS,\n",
    "                                                        on='PatientID',\n",
    "                                                        how='left')\n",
    "    logger.info(f\"Successfully merged in Discharge SPARS.\")\n",
    "except Exception as e:\n",
    "    logger.error(f\"Failed to merge in Discharge SPARS.\", exc_info=True) \n",
    "    print(e)\n",
    "    sys.exit(1)\n",
    "\n",
    "foo = full_data_collection_df.copy()"
   ]
  },
  {
   "cell_type": "markdown",
   "id": "6618acd4",
   "metadata": {
    "papermill": {
     "duration": 0.015626,
     "end_time": "2024-02-08T13:27:13.837511",
     "exception": false,
     "start_time": "2024-02-08T13:27:13.821885",
     "status": "completed"
    },
    "tags": []
   },
   "source": [
    "## Merge in New Notes"
   ]
  },
  {
   "cell_type": "code",
   "execution_count": 22,
   "id": "d855e5a5",
   "metadata": {
    "execution": {
     "iopub.execute_input": "2024-02-08T13:27:13.868765Z",
     "iopub.status.busy": "2024-02-08T13:27:13.868765Z",
     "iopub.status.idle": "2024-02-08T13:27:13.901992Z",
     "shell.execute_reply": "2024-02-08T13:27:13.901992Z"
    },
    "papermill": {
     "duration": 0.048853,
     "end_time": "2024-02-08T13:27:13.901992",
     "exception": false,
     "start_time": "2024-02-08T13:27:13.853139",
     "status": "completed"
    },
    "tags": []
   },
   "outputs": [],
   "source": [
    "NoteSubTypeDict = {5: \"First Attempt\",\n",
    "                    6: 'First Attempt',\n",
    "                    7: \"First Attempt\"}\n",
    "NoteSubTypeColumnDict = {5: 'Baseline SPARS',\n",
    "                          6: \"Reassessment SPARS\",\n",
    "                          7: \"Discharge SPARS\"}\n",
    "try:\n",
    "    sql=f'''\n",
    "    SELECT \n",
    "        *\n",
    "    FROM \n",
    "        tblPatientNotes\n",
    "    WHERE\n",
    "        NoteSubType IN (5, 6, 7)\n",
    "    ORDER BY\n",
    "        PatientID\n",
    "    '''\n",
    "    patientNotes = pd.read_sql(sql,conn)\n",
    "    \n",
    "\n",
    "    \n",
    "    patientNotes['NoteAddedOn'] = pd.to_datetime(patientNotes['NoteAddedOn'])\n",
    "    patientNotes.sort_values(by='NoteAddedOn', ascending=False)\n",
    "    patientNotes['NoteSubTypeName'] = patientNotes['NoteSubType'].map(lambda subtypeID: NoteSubTypeDict[int(subtypeID)])\n",
    "    patientNotes['NoteSubTypeColumn'] = patientNotes['NoteSubType'].map(lambda subtypeID: NoteSubTypeColumnDict[int(subtypeID)])\n",
    "    patientNotesPivot = patientNotes.pivot(index=['PatientID'], columns = \"NoteSubTypeColumn\", values=\"NoteSubTypeName\").reset_index()\n",
    "    patientbaselineDict = patientNotesPivot.set_index('PatientID').to_dict()['Baseline SPARS']\n",
    "    patientReassessmentDict = patientNotesPivot.set_index('PatientID').to_dict()['Reassessment SPARS']\n",
    "    patientDischargeDict = patientNotesPivot.set_index('PatientID').to_dict()['Discharge SPARS']\n",
    "\n",
    "    def checkforBaselineNotes(patientID, note):\n",
    "        if note == \"\" or str(note) == 'nan':\n",
    "            return patientbaselineDict.get(patientID, \"\")\n",
    "        else:\n",
    "            return note\n",
    "\n",
    "    def checkforReassessmentNotes(patientID, note):\n",
    "        if note == \"\" or str(note) == 'nan':\n",
    "            return patientReassessmentDict.get(patientID, \"\")\n",
    "        else:\n",
    "            return note\n",
    "\n",
    "    def checkforDischargeNotes(patientID, note):\n",
    "        if note == \"\" or str(note) == 'nan':\n",
    "            return patientDischargeDict.get(patientID, \"\")\n",
    "        else:\n",
    "            return note\n",
    "    full_data_collection_df['Baseline SPARS'] = full_data_collection_df.apply(lambda row: checkforBaselineNotes(row['PatientID'], row['Baseline SPARS']), axis=1)\n",
    "    full_data_collection_df['Reassessment SPARS'] = full_data_collection_df.apply(lambda row: checkforReassessmentNotes(row['PatientID'], row['Reassessment SPARS']), axis=1)\n",
    "    full_data_collection_df['Discharge SPARS'] = full_data_collection_df.apply(lambda row: checkforDischargeNotes(row['PatientID'], row['Discharge SPARS']), axis=1)\n",
    "#     logger.info(f\"Successfully queried tblNotes and created columns.\")\n",
    "except Exception as e:\n",
    "#     logger.error(f\"Failed to query table notes and creat columns.\", exc_info=True) \n",
    "    print(e)"
   ]
  },
  {
   "cell_type": "code",
   "execution_count": null,
   "id": "45b36496",
   "metadata": {
    "papermill": {
     "duration": 0.015718,
     "end_time": "2024-02-08T13:27:13.917710",
     "exception": false,
     "start_time": "2024-02-08T13:27:13.901992",
     "status": "completed"
    },
    "tags": []
   },
   "outputs": [],
   "source": []
  },
  {
   "cell_type": "markdown",
   "id": "41cf83cf",
   "metadata": {
    "papermill": {
     "duration": 0.0,
     "end_time": "2024-02-08T13:27:13.933338",
     "exception": false,
     "start_time": "2024-02-08T13:27:13.933338",
     "status": "completed"
    },
    "tags": []
   },
   "source": [
    "## Prettify Data"
   ]
  },
  {
   "cell_type": "markdown",
   "id": "bc2774aa",
   "metadata": {
    "tags": [
     "papermill-error-cell-tag"
    ]
   },
   "source": [
    "<span id=\"papermill-error-cell\" style=\"color:red; font-family:Helvetica Neue, Helvetica, Arial, sans-serif; font-size:2em;\">Execution using papermill encountered an exception here and stopped:</span>"
   ]
  },
  {
   "cell_type": "code",
   "execution_count": 23,
   "id": "e8b8a108",
   "metadata": {
    "ExecuteTime": {
     "end_time": "2023-08-08T14:57:03.116253Z",
     "start_time": "2023-08-08T14:57:03.080333Z"
    },
    "execution": {
     "iopub.execute_input": "2024-02-08T13:27:13.964588Z",
     "iopub.status.busy": "2024-02-08T13:27:13.964588Z",
     "iopub.status.idle": "2024-02-08T13:27:15.549112Z",
     "shell.execute_reply": "2024-02-08T13:27:15.549112Z"
    },
    "papermill": {
     "duration": 1.600151,
     "end_time": "2024-02-08T13:27:15.549112",
     "exception": true,
     "start_time": "2024-02-08T13:27:13.948961",
     "status": "failed"
    },
    "scrolled": true,
    "tags": []
   },
   "outputs": [
    {
     "name": "stdout",
     "output_type": "stream",
     "text": [
      "Unit M is not supported. Only unambiguous timedelta values durations are supported. Allowed units are 'W', 'D', 'h', 'm', 's', 'ms', 'us', 'ns'\n"
     ]
    },
    {
     "ename": "AttributeError",
     "evalue": "'tuple' object has no attribute 'tb_frame'",
     "output_type": "error",
     "traceback": [
      "\u001b[1;31m---------------------------------------------------------------------------\u001b[0m",
      "\u001b[1;31mValueError\u001b[0m                                Traceback (most recent call last)",
      "Cell \u001b[1;32mIn[23], line 37\u001b[0m\n\u001b[0;32m     36\u001b[0m \u001b[38;5;28;01mtry\u001b[39;00m:    \u001b[38;5;66;03m# 6 Month Reassessment Date\u001b[39;00m\n\u001b[1;32m---> 37\u001b[0m     full_data_collection_df[\u001b[38;5;124m'\u001b[39m\u001b[38;5;124m6 Month Reassessment Date\u001b[39m\u001b[38;5;124m'\u001b[39m] \u001b[38;5;241m=\u001b[39m full_data_collection_df[\u001b[38;5;124m'\u001b[39m\u001b[38;5;124mHour\u001b[39m\u001b[38;5;124m'\u001b[39m] \u001b[38;5;241m+\u001b[39m np\u001b[38;5;241m.\u001b[39mtimedelta64(\u001b[38;5;241m6\u001b[39m, \u001b[38;5;124m'\u001b[39m\u001b[38;5;124mM\u001b[39m\u001b[38;5;124m'\u001b[39m)\n\u001b[0;32m     38\u001b[0m     full_data_collection_df[\u001b[38;5;124m'\u001b[39m\u001b[38;5;124m6 Month Reassessment Date\u001b[39m\u001b[38;5;124m'\u001b[39m] \u001b[38;5;241m=\u001b[39m full_data_collection_df[\u001b[38;5;124m'\u001b[39m\u001b[38;5;124m6 Month Reassessment Date\u001b[39m\u001b[38;5;124m'\u001b[39m]\u001b[38;5;241m.\u001b[39mmap(\u001b[38;5;28;01mlambda\u001b[39;00m num: num\u001b[38;5;241m.\u001b[39mstrftime(\u001b[38;5;124m'\u001b[39m\u001b[38;5;124m%\u001b[39m\u001b[38;5;124mm-\u001b[39m\u001b[38;5;132;01m%d\u001b[39;00m\u001b[38;5;124m-\u001b[39m\u001b[38;5;124m%\u001b[39m\u001b[38;5;124mY\u001b[39m\u001b[38;5;124m'\u001b[39m))\n",
      "File \u001b[1;32m~\\AppData\\Local\\anaconda3\\Lib\\site-packages\\pandas\\core\\ops\\common.py:76\u001b[0m, in \u001b[0;36m_unpack_zerodim_and_defer.<locals>.new_method\u001b[1;34m(self, other)\u001b[0m\n\u001b[0;32m     74\u001b[0m other \u001b[38;5;241m=\u001b[39m item_from_zerodim(other)\n\u001b[1;32m---> 76\u001b[0m \u001b[38;5;28;01mreturn\u001b[39;00m method(\u001b[38;5;28mself\u001b[39m, other)\n",
      "File \u001b[1;32m~\\AppData\\Local\\anaconda3\\Lib\\site-packages\\pandas\\core\\arraylike.py:186\u001b[0m, in \u001b[0;36mOpsMixin.__add__\u001b[1;34m(self, other)\u001b[0m\n\u001b[0;32m    100\u001b[0m \u001b[38;5;250m\u001b[39m\u001b[38;5;124;03m\"\"\"\u001b[39;00m\n\u001b[0;32m    101\u001b[0m \u001b[38;5;124;03mGet Addition of DataFrame and other, column-wise.\u001b[39;00m\n\u001b[0;32m    102\u001b[0m \n\u001b[1;32m   (...)\u001b[0m\n\u001b[0;32m    184\u001b[0m \u001b[38;5;124;03mmoose     3.0     NaN\u001b[39;00m\n\u001b[0;32m    185\u001b[0m \u001b[38;5;124;03m\"\"\"\u001b[39;00m\n\u001b[1;32m--> 186\u001b[0m \u001b[38;5;28;01mreturn\u001b[39;00m \u001b[38;5;28mself\u001b[39m\u001b[38;5;241m.\u001b[39m_arith_method(other, operator\u001b[38;5;241m.\u001b[39madd)\n",
      "File \u001b[1;32m~\\AppData\\Local\\anaconda3\\Lib\\site-packages\\pandas\\core\\series.py:5819\u001b[0m, in \u001b[0;36mSeries._arith_method\u001b[1;34m(self, other, op)\u001b[0m\n\u001b[0;32m   5818\u001b[0m \u001b[38;5;28mself\u001b[39m, other \u001b[38;5;241m=\u001b[39m \u001b[38;5;28mself\u001b[39m\u001b[38;5;241m.\u001b[39m_align_for_op(other)\n\u001b[1;32m-> 5819\u001b[0m \u001b[38;5;28;01mreturn\u001b[39;00m base\u001b[38;5;241m.\u001b[39mIndexOpsMixin\u001b[38;5;241m.\u001b[39m_arith_method(\u001b[38;5;28mself\u001b[39m, other, op)\n",
      "File \u001b[1;32m~\\AppData\\Local\\anaconda3\\Lib\\site-packages\\pandas\\core\\base.py:1375\u001b[0m, in \u001b[0;36mIndexOpsMixin._arith_method\u001b[1;34m(self, other, op)\u001b[0m\n\u001b[0;32m   1374\u001b[0m rvalues \u001b[38;5;241m=\u001b[39m extract_array(other, extract_numpy\u001b[38;5;241m=\u001b[39m\u001b[38;5;28;01mTrue\u001b[39;00m, extract_range\u001b[38;5;241m=\u001b[39m\u001b[38;5;28;01mTrue\u001b[39;00m)\n\u001b[1;32m-> 1375\u001b[0m rvalues \u001b[38;5;241m=\u001b[39m ops\u001b[38;5;241m.\u001b[39mmaybe_prepare_scalar_for_op(rvalues, lvalues\u001b[38;5;241m.\u001b[39mshape)\n\u001b[0;32m   1376\u001b[0m rvalues \u001b[38;5;241m=\u001b[39m ensure_wrapped_if_datetimelike(rvalues)\n",
      "File \u001b[1;32m~\\AppData\\Local\\anaconda3\\Lib\\site-packages\\pandas\\core\\ops\\array_ops.py:575\u001b[0m, in \u001b[0;36mmaybe_prepare_scalar_for_op\u001b[1;34m(obj, shape)\u001b[0m\n\u001b[0;32m    572\u001b[0m     \u001b[38;5;66;03m# In particular non-nanosecond timedelta64 needs to be cast to\u001b[39;00m\n\u001b[0;32m    573\u001b[0m     \u001b[38;5;66;03m#  nanoseconds, or else we get undesired behavior like\u001b[39;00m\n\u001b[0;32m    574\u001b[0m     \u001b[38;5;66;03m#  np.timedelta64(3, 'D') / 2 == np.timedelta64(1, 'D')\u001b[39;00m\n\u001b[1;32m--> 575\u001b[0m     \u001b[38;5;28;01mreturn\u001b[39;00m Timedelta(obj)\n\u001b[0;32m    577\u001b[0m \u001b[38;5;28;01mreturn\u001b[39;00m obj\n",
      "File \u001b[1;32mtimedeltas.pyx:1846\u001b[0m, in \u001b[0;36mpandas._libs.tslibs.timedeltas.Timedelta.__new__\u001b[1;34m()\u001b[0m\n",
      "\u001b[1;31mValueError\u001b[0m: Unit M is not supported. Only unambiguous timedelta values durations are supported. Allowed units are 'W', 'D', 'h', 'm', 's', 'ms', 'us', 'ns'",
      "\nDuring handling of the above exception, another exception occurred:\n",
      "\u001b[1;31mSystemExit\u001b[0m                                Traceback (most recent call last)",
      "    \u001b[1;31m[... skipping hidden 1 frame]\u001b[0m\n",
      "Cell \u001b[1;32mIn[23], line 44\u001b[0m\n\u001b[0;32m     43\u001b[0m     \u001b[38;5;28mprint\u001b[39m(e)\n\u001b[1;32m---> 44\u001b[0m     sys\u001b[38;5;241m.\u001b[39mexit(\u001b[38;5;241m1\u001b[39m)\n\u001b[0;32m     46\u001b[0m \u001b[38;5;28;01mtry\u001b[39;00m:    \u001b[38;5;66;03m# 6 Month Warning\u001b[39;00m\n",
      "\u001b[1;31mSystemExit\u001b[0m: 1",
      "\nDuring handling of the above exception, another exception occurred:\n",
      "\u001b[1;31mAttributeError\u001b[0m                            Traceback (most recent call last)",
      "    \u001b[1;31m[... skipping hidden 1 frame]\u001b[0m\n",
      "File \u001b[1;32m~\\AppData\\Local\\anaconda3\\Lib\\site-packages\\IPython\\core\\interactiveshell.py:2121\u001b[0m, in \u001b[0;36mInteractiveShell.showtraceback\u001b[1;34m(self, exc_tuple, filename, tb_offset, exception_only, running_compiled_code)\u001b[0m\n\u001b[0;32m   2118\u001b[0m \u001b[38;5;28;01mif\u001b[39;00m exception_only:\n\u001b[0;32m   2119\u001b[0m     stb \u001b[38;5;241m=\u001b[39m [\u001b[38;5;124m'\u001b[39m\u001b[38;5;124mAn exception has occurred, use \u001b[39m\u001b[38;5;124m%\u001b[39m\u001b[38;5;124mtb to see \u001b[39m\u001b[38;5;124m'\u001b[39m\n\u001b[0;32m   2120\u001b[0m            \u001b[38;5;124m'\u001b[39m\u001b[38;5;124mthe full traceback.\u001b[39m\u001b[38;5;130;01m\\n\u001b[39;00m\u001b[38;5;124m'\u001b[39m]\n\u001b[1;32m-> 2121\u001b[0m     stb\u001b[38;5;241m.\u001b[39mextend(\u001b[38;5;28mself\u001b[39m\u001b[38;5;241m.\u001b[39mInteractiveTB\u001b[38;5;241m.\u001b[39mget_exception_only(etype,\n\u001b[0;32m   2122\u001b[0m                                                      value))\n\u001b[0;32m   2123\u001b[0m \u001b[38;5;28;01melse\u001b[39;00m:\n\u001b[0;32m   2125\u001b[0m     \u001b[38;5;28;01mdef\u001b[39;00m \u001b[38;5;21mcontains_exceptiongroup\u001b[39m(val):\n",
      "File \u001b[1;32m~\\AppData\\Local\\anaconda3\\Lib\\site-packages\\IPython\\core\\ultratb.py:710\u001b[0m, in \u001b[0;36mListTB.get_exception_only\u001b[1;34m(self, etype, value)\u001b[0m\n\u001b[0;32m    702\u001b[0m \u001b[38;5;28;01mdef\u001b[39;00m \u001b[38;5;21mget_exception_only\u001b[39m(\u001b[38;5;28mself\u001b[39m, etype, value):\n\u001b[0;32m    703\u001b[0m \u001b[38;5;250m    \u001b[39m\u001b[38;5;124;03m\"\"\"Only print the exception type and message, without a traceback.\u001b[39;00m\n\u001b[0;32m    704\u001b[0m \n\u001b[0;32m    705\u001b[0m \u001b[38;5;124;03m    Parameters\u001b[39;00m\n\u001b[1;32m   (...)\u001b[0m\n\u001b[0;32m    708\u001b[0m \u001b[38;5;124;03m    value : exception value\u001b[39;00m\n\u001b[0;32m    709\u001b[0m \u001b[38;5;124;03m    \"\"\"\u001b[39;00m\n\u001b[1;32m--> 710\u001b[0m     \u001b[38;5;28;01mreturn\u001b[39;00m ListTB\u001b[38;5;241m.\u001b[39mstructured_traceback(\u001b[38;5;28mself\u001b[39m, etype, value)\n",
      "File \u001b[1;32m~\\AppData\\Local\\anaconda3\\Lib\\site-packages\\IPython\\core\\ultratb.py:568\u001b[0m, in \u001b[0;36mListTB.structured_traceback\u001b[1;34m(self, etype, evalue, etb, tb_offset, context)\u001b[0m\n\u001b[0;32m    565\u001b[0m     chained_exc_ids\u001b[38;5;241m.\u001b[39madd(\u001b[38;5;28mid\u001b[39m(exception[\u001b[38;5;241m1\u001b[39m]))\n\u001b[0;32m    566\u001b[0m     chained_exceptions_tb_offset \u001b[38;5;241m=\u001b[39m \u001b[38;5;241m0\u001b[39m\n\u001b[0;32m    567\u001b[0m     out_list \u001b[38;5;241m=\u001b[39m (\n\u001b[1;32m--> 568\u001b[0m         \u001b[38;5;28mself\u001b[39m\u001b[38;5;241m.\u001b[39mstructured_traceback(\n\u001b[0;32m    569\u001b[0m             etype,\n\u001b[0;32m    570\u001b[0m             evalue,\n\u001b[0;32m    571\u001b[0m             (etb, chained_exc_ids),  \u001b[38;5;66;03m# type: ignore\u001b[39;00m\n\u001b[0;32m    572\u001b[0m             chained_exceptions_tb_offset,\n\u001b[0;32m    573\u001b[0m             context,\n\u001b[0;32m    574\u001b[0m         )\n\u001b[0;32m    575\u001b[0m         \u001b[38;5;241m+\u001b[39m chained_exception_message\n\u001b[0;32m    576\u001b[0m         \u001b[38;5;241m+\u001b[39m out_list)\n\u001b[0;32m    578\u001b[0m \u001b[38;5;28;01mreturn\u001b[39;00m out_list\n",
      "File \u001b[1;32m~\\AppData\\Local\\anaconda3\\Lib\\site-packages\\IPython\\core\\ultratb.py:1435\u001b[0m, in \u001b[0;36mAutoFormattedTB.structured_traceback\u001b[1;34m(self, etype, evalue, etb, tb_offset, number_of_lines_of_context)\u001b[0m\n\u001b[0;32m   1433\u001b[0m \u001b[38;5;28;01melse\u001b[39;00m:\n\u001b[0;32m   1434\u001b[0m     \u001b[38;5;28mself\u001b[39m\u001b[38;5;241m.\u001b[39mtb \u001b[38;5;241m=\u001b[39m etb\n\u001b[1;32m-> 1435\u001b[0m \u001b[38;5;28;01mreturn\u001b[39;00m FormattedTB\u001b[38;5;241m.\u001b[39mstructured_traceback(\n\u001b[0;32m   1436\u001b[0m     \u001b[38;5;28mself\u001b[39m, etype, evalue, etb, tb_offset, number_of_lines_of_context\n\u001b[0;32m   1437\u001b[0m )\n",
      "File \u001b[1;32m~\\AppData\\Local\\anaconda3\\Lib\\site-packages\\IPython\\core\\ultratb.py:1326\u001b[0m, in \u001b[0;36mFormattedTB.structured_traceback\u001b[1;34m(self, etype, value, tb, tb_offset, number_of_lines_of_context)\u001b[0m\n\u001b[0;32m   1323\u001b[0m mode \u001b[38;5;241m=\u001b[39m \u001b[38;5;28mself\u001b[39m\u001b[38;5;241m.\u001b[39mmode\n\u001b[0;32m   1324\u001b[0m \u001b[38;5;28;01mif\u001b[39;00m mode \u001b[38;5;129;01min\u001b[39;00m \u001b[38;5;28mself\u001b[39m\u001b[38;5;241m.\u001b[39mverbose_modes:\n\u001b[0;32m   1325\u001b[0m     \u001b[38;5;66;03m# Verbose modes need a full traceback\u001b[39;00m\n\u001b[1;32m-> 1326\u001b[0m     \u001b[38;5;28;01mreturn\u001b[39;00m VerboseTB\u001b[38;5;241m.\u001b[39mstructured_traceback(\n\u001b[0;32m   1327\u001b[0m         \u001b[38;5;28mself\u001b[39m, etype, value, tb, tb_offset, number_of_lines_of_context\n\u001b[0;32m   1328\u001b[0m     )\n\u001b[0;32m   1329\u001b[0m \u001b[38;5;28;01melif\u001b[39;00m mode \u001b[38;5;241m==\u001b[39m \u001b[38;5;124m'\u001b[39m\u001b[38;5;124mMinimal\u001b[39m\u001b[38;5;124m'\u001b[39m:\n\u001b[0;32m   1330\u001b[0m     \u001b[38;5;28;01mreturn\u001b[39;00m ListTB\u001b[38;5;241m.\u001b[39mget_exception_only(\u001b[38;5;28mself\u001b[39m, etype, value)\n",
      "File \u001b[1;32m~\\AppData\\Local\\anaconda3\\Lib\\site-packages\\IPython\\core\\ultratb.py:1173\u001b[0m, in \u001b[0;36mVerboseTB.structured_traceback\u001b[1;34m(self, etype, evalue, etb, tb_offset, number_of_lines_of_context)\u001b[0m\n\u001b[0;32m   1164\u001b[0m \u001b[38;5;28;01mdef\u001b[39;00m \u001b[38;5;21mstructured_traceback\u001b[39m(\n\u001b[0;32m   1165\u001b[0m     \u001b[38;5;28mself\u001b[39m,\n\u001b[0;32m   1166\u001b[0m     etype: \u001b[38;5;28mtype\u001b[39m,\n\u001b[1;32m   (...)\u001b[0m\n\u001b[0;32m   1170\u001b[0m     number_of_lines_of_context: \u001b[38;5;28mint\u001b[39m \u001b[38;5;241m=\u001b[39m \u001b[38;5;241m5\u001b[39m,\n\u001b[0;32m   1171\u001b[0m ):\n\u001b[0;32m   1172\u001b[0m \u001b[38;5;250m    \u001b[39m\u001b[38;5;124;03m\"\"\"Return a nice text document describing the traceback.\"\"\"\u001b[39;00m\n\u001b[1;32m-> 1173\u001b[0m     formatted_exception \u001b[38;5;241m=\u001b[39m \u001b[38;5;28mself\u001b[39m\u001b[38;5;241m.\u001b[39mformat_exception_as_a_whole(etype, evalue, etb, number_of_lines_of_context,\n\u001b[0;32m   1174\u001b[0m                                                            tb_offset)\n\u001b[0;32m   1176\u001b[0m     colors \u001b[38;5;241m=\u001b[39m \u001b[38;5;28mself\u001b[39m\u001b[38;5;241m.\u001b[39mColors  \u001b[38;5;66;03m# just a shorthand + quicker name lookup\u001b[39;00m\n\u001b[0;32m   1177\u001b[0m     colorsnormal \u001b[38;5;241m=\u001b[39m colors\u001b[38;5;241m.\u001b[39mNormal  \u001b[38;5;66;03m# used a lot\u001b[39;00m\n",
      "File \u001b[1;32m~\\AppData\\Local\\anaconda3\\Lib\\site-packages\\IPython\\core\\ultratb.py:1063\u001b[0m, in \u001b[0;36mVerboseTB.format_exception_as_a_whole\u001b[1;34m(self, etype, evalue, etb, number_of_lines_of_context, tb_offset)\u001b[0m\n\u001b[0;32m   1060\u001b[0m \u001b[38;5;28;01massert\u001b[39;00m \u001b[38;5;28misinstance\u001b[39m(tb_offset, \u001b[38;5;28mint\u001b[39m)\n\u001b[0;32m   1061\u001b[0m head \u001b[38;5;241m=\u001b[39m \u001b[38;5;28mself\u001b[39m\u001b[38;5;241m.\u001b[39mprepare_header(\u001b[38;5;28mstr\u001b[39m(etype), \u001b[38;5;28mself\u001b[39m\u001b[38;5;241m.\u001b[39mlong_header)\n\u001b[0;32m   1062\u001b[0m records \u001b[38;5;241m=\u001b[39m (\n\u001b[1;32m-> 1063\u001b[0m     \u001b[38;5;28mself\u001b[39m\u001b[38;5;241m.\u001b[39mget_records(etb, number_of_lines_of_context, tb_offset) \u001b[38;5;28;01mif\u001b[39;00m etb \u001b[38;5;28;01melse\u001b[39;00m []\n\u001b[0;32m   1064\u001b[0m )\n\u001b[0;32m   1066\u001b[0m frames \u001b[38;5;241m=\u001b[39m []\n\u001b[0;32m   1067\u001b[0m skipped \u001b[38;5;241m=\u001b[39m \u001b[38;5;241m0\u001b[39m\n",
      "File \u001b[1;32m~\\AppData\\Local\\anaconda3\\Lib\\site-packages\\IPython\\core\\ultratb.py:1131\u001b[0m, in \u001b[0;36mVerboseTB.get_records\u001b[1;34m(self, etb, number_of_lines_of_context, tb_offset)\u001b[0m\n\u001b[0;32m   1129\u001b[0m \u001b[38;5;28;01mwhile\u001b[39;00m cf \u001b[38;5;129;01mis\u001b[39;00m \u001b[38;5;129;01mnot\u001b[39;00m \u001b[38;5;28;01mNone\u001b[39;00m:\n\u001b[0;32m   1130\u001b[0m     \u001b[38;5;28;01mtry\u001b[39;00m:\n\u001b[1;32m-> 1131\u001b[0m         mod \u001b[38;5;241m=\u001b[39m inspect\u001b[38;5;241m.\u001b[39mgetmodule(cf\u001b[38;5;241m.\u001b[39mtb_frame)\n\u001b[0;32m   1132\u001b[0m         \u001b[38;5;28;01mif\u001b[39;00m mod \u001b[38;5;129;01mis\u001b[39;00m \u001b[38;5;129;01mnot\u001b[39;00m \u001b[38;5;28;01mNone\u001b[39;00m:\n\u001b[0;32m   1133\u001b[0m             mod_name \u001b[38;5;241m=\u001b[39m mod\u001b[38;5;241m.\u001b[39m\u001b[38;5;18m__name__\u001b[39m\n",
      "\u001b[1;31mAttributeError\u001b[0m: 'tuple' object has no attribute 'tb_frame'"
     ]
    }
   ],
   "source": [
    "full_data_collection_df = foo.copy()\n",
    "\n",
    "try: # Format Names\n",
    "    first_name = full_data_collection_df['FirstName'].map(lambda name: str(name).capitalize())\n",
    "    last_name = full_data_collection_df['LastName'].map(lambda name: str(name).capitalize())\n",
    "    full_data_collection_df['Name'] = last_name + ', ' + first_name\n",
    "    full_data_collection_df.drop(columns=['FirstName','LastName'], inplace=True)\n",
    "    \n",
    "    logger.info(f\"Successfully formated names.\")\n",
    "except Exception as e:\n",
    "    logger.error(f\"Failed to format names.\", exc_info=True) \n",
    "    print(e)\n",
    "    sys.exit(1)\n",
    "    \n",
    "try: # Baseline Date\n",
    "    full_data_collection_df['Hour'] = pd.to_datetime(full_data_collection_df['Hour'])\n",
    "    full_data_collection_df['Baseline Due Date'] = full_data_collection_df['Hour'] + np.timedelta64(30, 'D')\n",
    "    full_data_collection_df['Baseline Due Date'] = full_data_collection_df['Baseline Due Date'].map(lambda num: num.strftime('%m-%d-%Y'))\n",
    "\n",
    "    logger.info(f\"Successfully added Baseline Due Date.\")\n",
    "except Exception as e:\n",
    "    logger.error(f\"Failed to add Baseline Due Date.\", exc_info=True) \n",
    "    print(e)\n",
    "    sys.exit(1)\n",
    "    \n",
    "try:    # Baseline Warning\n",
    "    full_data_collection_df['Baseline Due Date'] = pd.to_datetime(full_data_collection_df['Baseline Due Date'])\n",
    "    full_data_collection_df['Baseline Warning'] = (full_data_collection_df['Baseline Due Date'].dt.date <= datetime.date.today()) & (full_data_collection_df['Baseline NOMS'] == False)\n",
    "    \n",
    "    logger.info(f\"Successfully added Baseline Warning.\")\n",
    "except Exception as e:\n",
    "    logger.error(f\"Failed to add Baseline Warning.\", exc_info=True) \n",
    "    print(e)\n",
    "    sys.exit(1)\n",
    "    \n",
    "try:    # 6 Month Reassessment Date\n",
    "    full_data_collection_df['6 Month Reassessment Date'] = full_data_collection_df['Hour'] + np.timedelta64(6, 'M')\n",
    "    full_data_collection_df['6 Month Reassessment Date'] = full_data_collection_df['6 Month Reassessment Date'].map(lambda num: num.strftime('%m-%d-%Y'))\n",
    "\n",
    "    logger.info(f\"Successfully added Reassessment Date.\")\n",
    "except Exception as e:\n",
    "    logger.error(f\"Failed to add Reassessment Date.\", exc_info=True) \n",
    "    print(e)\n",
    "    sys.exit(1)\n",
    "    \n",
    "try:    # 6 Month Warning\n",
    "    full_data_collection_df['6 Month Reassessment Date'] = pd.to_datetime(full_data_collection_df['6 Month Reassessment Date'])\n",
    "    full_data_collection_df['6 Month Reassessment Warning'] = full_data_collection_df['6 Month Reassessment Date'].dt.date - np.timedelta64(1, 'M') <= datetime.date.today()\n",
    "\n",
    "    logger.info(f\"Successfully added Reassessment Warning.\")\n",
    "except Exception as e:\n",
    "    logger.error(f\"Failed to add Reassessment Warning.\", exc_info=True) \n",
    "    print(e)\n",
    "    sys.exit(1)\n",
    "    \n",
    "try:    # add days since first encounter\n",
    "    today = datetime.date.today()\n",
    "    today = pd.to_datetime(today)\n",
    "    def daysSinceFirstEncounter(row):\n",
    "        date = row['EncounterDate']\n",
    "        if type(date) == pd.Timestamp:\n",
    "            return (today - date).days\n",
    "        return np.nan\n",
    "#     def daysTillBLineCompletion(row):\n",
    "#         encounter_date = row['EncounterDate']\n",
    "#         if isinstance(encounter_date, pd.Timestamp):\n",
    "            \n",
    "    def daysTillThirtyDaysAfter(row):\n",
    "        encounter_date = row['EncounterDate']\n",
    "        if isinstance(encounter_date, pd.Timestamp):\n",
    "            # Calculate thirty days after the encounter date\n",
    "            thirty_days_after = encounter_date + pd.DateOffset(days=30)\n",
    "            days_till_thirty_days_after = (thirty_days_after - pd.Timestamp.today()).days\n",
    "            return days_till_thirty_days_after\n",
    "        return np.nan\n",
    "    def daysTillSevenMonths(row):\n",
    "        encounter_date = row['EncounterDate']\n",
    "        if isinstance(encounter_date, pd.Timestamp):\n",
    "            # Calculate seven months from the encounter date\n",
    "            seven_months_later = encounter_date + pd.DateOffset(months=7)\n",
    "            # Calculate the number of days between today and seven months later\n",
    "            days_till_seven_months = (seven_months_later - pd.Timestamp.today()).days\n",
    "            return days_till_seven_months\n",
    "        return np.nan\n",
    "    full_data_collection_df['Days Since Encounter'] = full_data_collection_df.apply(lambda row: daysSinceFirstEncounter(row), axis=1)  \n",
    "    full_data_collection_df['Days Till Reassessment Date'] = full_data_collection_df.apply(lambda row: daysTillSevenMonths(row), axis=1)  \n",
    "    full_data_collection_df['Days Till Baseline Date'] = full_data_collection_df.apply(lambda row: daysTillThirtyDaysAfter(row), axis=1)  \n",
    "    logger.info(f\"Successfully added Days Since First Encounter and days remaining till baseline/reassessment due dates.\")\n",
    "except Exception as e:\n",
    "    logger.error(f\"Failed to add Days Since First Encounter and days remaining till baseline/reassessment due dates.\", exc_info=True) \n",
    "    print(e)\n",
    "    sys.exit(1)\n",
    "\n",
    "try:    # add days since final encounter\n",
    "    def daysSinceDischarge(row):\n",
    "        date = row['Final Encounter']\n",
    "        if type(date) == pd.Timestamp:\n",
    "            return (today - date).days\n",
    "        return np.nan\n",
    "    full_data_collection_df['Days Since Final Encounter'] = full_data_collection_df.apply(lambda row: daysSinceDischarge(row), axis=1)\n",
    "\n",
    "    logger.info(f\"Successfully added Days Since Final Encounter.\")\n",
    "except Exception as e:\n",
    "    logger.error(f\"Failed to add Days Since Final Encounter.\", exc_info=True) \n",
    "    print(e)\n",
    "    sys.exit(1)"
   ]
  },
  {
   "cell_type": "code",
   "execution_count": null,
   "id": "fbdde660",
   "metadata": {
    "ExecuteTime": {
     "end_time": "2023-08-08T14:57:03.122045Z",
     "start_time": "2023-08-08T14:57:03.118263Z"
    },
    "papermill": {
     "duration": null,
     "end_time": null,
     "exception": null,
     "start_time": null,
     "status": "pending"
    },
    "scrolled": true,
    "tags": []
   },
   "outputs": [],
   "source": [
    "full_data_collection_df[full_data_collection_df['PatientID'].duplicated()]"
   ]
  },
  {
   "cell_type": "code",
   "execution_count": null,
   "id": "fda910fd",
   "metadata": {
    "ExecuteTime": {
     "end_time": "2023-08-08T14:57:03.131505Z",
     "start_time": "2023-08-08T14:57:03.125040Z"
    },
    "papermill": {
     "duration": null,
     "end_time": null,
     "exception": null,
     "start_time": null,
     "status": "pending"
    },
    "tags": []
   },
   "outputs": [],
   "source": [
    "# # Reorder Columns\n",
    "full_data_collection_df = full_data_collection_df[['PatientID',\n",
    "                                                   'Name',\n",
    "                                                   'DOB',\n",
    "                                                   'Phone',\n",
    "                                                   'MRNNumber',\n",
    "                                                   'Status',\n",
    "                                                   'EncounterDate',\n",
    "                                                   'Hour',\n",
    "                                                   'Days Since Encounter',\n",
    "                                                   'Days Till Reassessment Date',\n",
    "                                                   'Days Till Baseline Date',\n",
    "                                                   'Baseline NOMS',\n",
    "                                                   'Baseline Due Date',\n",
    "                                                   'Baseline Warning',\n",
    "                                                   'Baseline SPARS',\n",
    "                                                   '6 Month Reassessment NOMS',\n",
    "                                                   '6 Month Reassessment Date',\n",
    "                                                   '6 Month Reassessment Warning',\n",
    "                                                   'Reassessment SPARS',\n",
    "                                                   'Final Encounter',\n",
    "                                                   'Days Since Final Encounter',\n",
    "                                                   'Discharge NOMS',\n",
    "                                                   'Discharge SPARS']]\n",
    "full_data_collection_df.drop_duplicates('PatientID', inplace=True)"
   ]
  },
  {
   "cell_type": "markdown",
   "id": "5b262565",
   "metadata": {
    "papermill": {
     "duration": null,
     "end_time": null,
     "exception": null,
     "start_time": null,
     "status": "pending"
    },
    "tags": []
   },
   "source": [
    "## Push to DB"
   ]
  },
  {
   "cell_type": "code",
   "execution_count": null,
   "id": "fde36c82",
   "metadata": {
    "ExecuteTime": {
     "end_time": "2023-08-08T14:57:03.137364Z",
     "start_time": "2023-08-08T14:57:03.134501Z"
    },
    "papermill": {
     "duration": null,
     "end_time": null,
     "exception": null,
     "start_time": null,
     "status": "pending"
    },
    "tags": []
   },
   "outputs": [],
   "source": [
    "# with pd.ExcelWriter(r\"../data/NOMS Survey Completion.xlsx\") as writer: \n",
    "#     full_data_collection_df.to_excel(writer, sheet_name=\"Patient Data\",index = False)\n",
    "#     consent_df.to_excel(writer, sheet_name=\"Consent Data\",index = False)"
   ]
  },
  {
   "cell_type": "code",
   "execution_count": null,
   "id": "e5e4d841",
   "metadata": {
    "ExecuteTime": {
     "end_time": "2023-08-08T14:57:03.141960Z",
     "start_time": "2023-08-08T14:57:03.138365Z"
    },
    "papermill": {
     "duration": null,
     "end_time": null,
     "exception": null,
     "start_time": null,
     "status": "pending"
    },
    "tags": []
   },
   "outputs": [],
   "source": [
    "# \", \".join([item + \" \" + str(full_data_collection_df[item].dtype) for item in full_data_collection_df.columns])"
   ]
  },
  {
   "cell_type": "markdown",
   "id": "29182280",
   "metadata": {
    "papermill": {
     "duration": null,
     "end_time": null,
     "exception": null,
     "start_time": null,
     "status": "pending"
    },
    "tags": []
   },
   "source": [
    "### push full_data_collection"
   ]
  },
  {
   "cell_type": "code",
   "execution_count": null,
   "id": "abfcddf6",
   "metadata": {
    "ExecuteTime": {
     "end_time": "2023-08-08T14:57:03.181493Z",
     "start_time": "2023-08-08T14:57:03.143958Z"
    },
    "papermill": {
     "duration": null,
     "end_time": null,
     "exception": null,
     "start_time": null,
     "status": "pending"
    },
    "tags": []
   },
   "outputs": [],
   "source": [
    "table_name = \"ptNOMS_Completion\"\n",
    "try:\n",
    "    c = conn.cursor()\n",
    "    c.execute(f'''CREATE TABLE IF NOT EXISTS {table_name} (PatientID INTEGER,\n",
    "                                                           Name TEXT,\n",
    "                                                           DOB TEXT,\n",
    "                                                           Phone, TEXT\n",
    "                                                           MRNNumber TEXT,\n",
    "                                                           Status TEXT,\n",
    "                                                           EncounterDate TEXT,\n",
    "                                                           Hour TEXT,\n",
    "                                                           DaysSinceEncounter INTEGER,\n",
    "                                                           DaysTillBaseline INTEGER,\n",
    "                                                           DaysTillReassessment INTEGER\n",
    "                                                           BaselineNOMS TEXT,\n",
    "                                                           BaselineDueDate TEXT,\n",
    "                                                           BaselineWarning TEXT,\n",
    "                                                           Baseline SPARS TEXT,\n",
    "                                                           _6MonthReassessmentNOMS TEXT,\n",
    "                                                           _6MonthReassessmentDate TEXT,\n",
    "                                                           _6MonthReassessmentWarning TEXT,\n",
    "                                                           ReassessmentSPARS TEXT,\n",
    "                                                           FinalEncounter TEXT,\n",
    "                                                           DaysSinceFinalEncounter INTEGER,\n",
    "                                                           DischargeNOMS TEXT,\n",
    "                                                           DischargeSPARS TEXT)''')\n",
    "    conn.commit()\n",
    "    logger.info(f\"Successfully created {table_name}.\")\n",
    "except Exception as e:\n",
    "    logger.error(f\"Failed to create {table_name}.\", exc_info=True) \n",
    "    print(e)\n",
    "    \n",
    "try:\n",
    "    full_data_collection_df.to_sql(table_name, conn, if_exists='replace', index = False)\n",
    "    logger.info(f\"Successfully pushed data to {table_name}\")\n",
    "except Exception as e:\n",
    "    logger.error(f\"Failed to push data to {table_name}.\", exc_info=True) \n",
    "    print(e)"
   ]
  },
  {
   "cell_type": "markdown",
   "id": "a2321acf",
   "metadata": {
    "papermill": {
     "duration": null,
     "end_time": null,
     "exception": null,
     "start_time": null,
     "status": "pending"
    },
    "tags": []
   },
   "source": [
    "### Push consent_df  "
   ]
  },
  {
   "cell_type": "code",
   "execution_count": null,
   "id": "ccc32ab6",
   "metadata": {
    "ExecuteTime": {
     "end_time": "2023-08-08T14:57:03.186393Z",
     "start_time": "2023-08-08T14:57:03.182494Z"
    },
    "papermill": {
     "duration": null,
     "end_time": null,
     "exception": null,
     "start_time": null,
     "status": "pending"
    },
    "tags": []
   },
   "outputs": [],
   "source": [
    "# \", \".join([item + \" \" + str(consent_df[item].dtype) for item in consent_df.columns])"
   ]
  },
  {
   "cell_type": "code",
   "execution_count": null,
   "id": "b95be822",
   "metadata": {
    "ExecuteTime": {
     "end_time": "2023-08-08T14:57:03.211904Z",
     "start_time": "2023-08-08T14:57:03.189388Z"
    },
    "papermill": {
     "duration": null,
     "end_time": null,
     "exception": null,
     "start_time": null,
     "status": "pending"
    },
    "tags": []
   },
   "outputs": [],
   "source": [
    "table_name = \"ptNOMS_Consent\"\n",
    "try:\n",
    "    c = conn.cursor()\n",
    "    c.execute(f'''CREATE TABLE IF NOT EXISTS {table_name} (PatientID INTEGER,\n",
    "                                                           Consent TEXT,\n",
    "                                                           Reason TEXT)''')\n",
    "    conn.commit()\n",
    "    logger.info(f\"Successfully created {table_name}.\")\n",
    "except Exception as e:\n",
    "    logger.error(f\"Failed to create {table_name}.\", exc_info=True) \n",
    "    print(e)\n",
    "    \n",
    "try:\n",
    "    consent_df.to_sql(table_name, conn, if_exists='replace', index = False)\n",
    "    logger.info(f\"Successfully pushed data to {table_name}\")\n",
    "except Exception as e:\n",
    "    logger.error(f\"Failed to push data to {table_name}.\", exc_info=True) \n",
    "    print(e)"
   ]
  },
  {
   "cell_type": "code",
   "execution_count": null,
   "id": "7b333663",
   "metadata": {
    "ExecuteTime": {
     "end_time": "2023-08-08T14:57:03.216874Z",
     "start_time": "2023-08-08T14:57:03.212905Z"
    },
    "papermill": {
     "duration": null,
     "end_time": null,
     "exception": null,
     "start_time": null,
     "status": "pending"
    },
    "tags": []
   },
   "outputs": [],
   "source": [
    "conn.close()"
   ]
  }
 ],
 "metadata": {
  "kernelspec": {
   "display_name": "Python 3 (ipykernel)",
   "language": "python",
   "name": "python3"
  },
  "language_info": {
   "codemirror_mode": {
    "name": "ipython",
    "version": 3
   },
   "file_extension": ".py",
   "mimetype": "text/x-python",
   "name": "python",
   "nbconvert_exporter": "python",
   "pygments_lexer": "ipython3",
   "version": "3.11.5"
  },
  "papermill": {
   "default_parameters": {},
   "duration": 23.941909,
   "end_time": "2024-02-08T13:27:18.381907",
   "environment_variables": {},
   "exception": true,
   "input_path": "NOMS-Survey Completion.ipynb",
   "output_path": "snapshots/NOMS-Survey Completion.ipynb",
   "parameters": {},
   "start_time": "2024-02-08T13:26:54.439998",
   "version": "2.4.0"
  },
  "toc": {
   "base_numbering": 1,
   "nav_menu": {
    "height": "67px",
    "width": "160px"
   },
   "number_sections": true,
   "sideBar": true,
   "skip_h1_title": false,
   "title_cell": "Table of Contents",
   "title_sidebar": "Contents",
   "toc_cell": false,
   "toc_position": {
    "height": "calc(100% - 180px)",
    "left": "10px",
    "top": "150px",
    "width": "302.297px"
   },
   "toc_section_display": true,
   "toc_window_display": true
  },
  "varInspector": {
   "cols": {
    "lenName": 16,
    "lenType": 16,
    "lenVar": 40
   },
   "kernels_config": {
    "python": {
     "delete_cmd_postfix": "",
     "delete_cmd_prefix": "del ",
     "library": "var_list.py",
     "varRefreshCmd": "print(var_dic_list())"
    },
    "r": {
     "delete_cmd_postfix": ") ",
     "delete_cmd_prefix": "rm(",
     "library": "var_list.r",
     "varRefreshCmd": "cat(var_dic_list()) "
    }
   },
   "position": {
    "height": "499.56px",
    "left": "35.9744px",
    "right": "20px",
    "top": "144.972px",
    "width": "471.449px"
   },
   "types_to_exclude": [
    "module",
    "function",
    "builtin_function_or_method",
    "instance",
    "_Feature"
   ],
   "window_display": false
  }
 },
 "nbformat": 4,
 "nbformat_minor": 5
}