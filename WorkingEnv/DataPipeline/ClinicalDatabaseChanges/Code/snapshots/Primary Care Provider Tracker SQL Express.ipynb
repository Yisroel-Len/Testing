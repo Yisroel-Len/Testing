{
 "cells": [
  {
   "cell_type": "markdown",
   "id": "fddcd13c",
   "metadata": {
    "tags": [
     "papermill-error-cell-tag"
    ]
   },
   "source": [
    "<span style=\"color:red; font-family:Helvetica Neue, Helvetica, Arial, sans-serif; font-size:2em;\">An Exception was encountered at '<a href=\"#papermill-error-cell\">In [8]</a>'.</span>"
   ]
  },
  {
   "cell_type": "code",
   "execution_count": 1,
   "id": "892ebea8",
   "metadata": {
    "ExecuteTime": {
     "end_time": "2023-07-17T17:48:27.919781Z",
     "start_time": "2023-07-17T17:48:27.909788Z"
    },
    "execution": {
     "iopub.execute_input": "2024-11-06T14:06:48.357711Z",
     "iopub.status.busy": "2024-11-06T14:06:48.357711Z",
     "iopub.status.idle": "2024-11-06T14:06:49.390827Z",
     "shell.execute_reply": "2024-11-06T14:06:49.390827Z"
    },
    "papermill": {
     "duration": 1.048702,
     "end_time": "2024-11-06T14:06:49.390827",
     "exception": false,
     "start_time": "2024-11-06T14:06:48.342125",
     "status": "completed"
    },
    "tags": []
   },
   "outputs": [],
   "source": [
    "import pandas as pd\n",
    "import numpy as np\n",
    "import pyodbc \n",
    "import time\n",
    "from sqlalchemy import create_engine\n",
    "from datetime import datetime\n",
    "import sqlite3"
   ]
  },
  {
   "cell_type": "code",
   "execution_count": 2,
   "id": "f8489a04",
   "metadata": {
    "ExecuteTime": {
     "end_time": "2023-07-17T17:48:28.055788Z",
     "start_time": "2023-07-17T17:48:27.921782Z"
    },
    "execution": {
     "iopub.execute_input": "2024-11-06T14:06:49.406518Z",
     "iopub.status.busy": "2024-11-06T14:06:49.406518Z",
     "iopub.status.idle": "2024-11-06T14:06:49.420726Z",
     "shell.execute_reply": "2024-11-06T14:06:49.420726Z"
    },
    "papermill": {
     "duration": 0.014208,
     "end_time": "2024-11-06T14:06:49.420726",
     "exception": false,
     "start_time": "2024-11-06T14:06:49.406518",
     "status": "completed"
    },
    "tags": []
   },
   "outputs": [],
   "source": [
    "import sys\n",
    "import logging\n",
    "path = r'..\\..\\Logs\\clinical_log.log'\n",
    "logging.basicConfig(filename=path,\n",
    "                    filemode='a',\n",
    "                    format='%(asctime)s,%(msecs)d,%(name)s,%(levelname)s,%(message)s',\n",
    "                    datefmt='%Y-%m-%d %H:%M:%S',\n",
    "                    level=logging.DEBUG)\n",
    "logger = logging.getLogger(\"Primary Care Provider Tracker\")\n",
    "# logger.info(\"testing log\")"
   ]
  },
  {
   "cell_type": "markdown",
   "id": "3f3a210f-1382-4154-846a-4164eb30d6aa",
   "metadata": {
    "papermill": {
     "duration": 0.0,
     "end_time": "2024-11-06T14:06:49.420726",
     "exception": false,
     "start_time": "2024-11-06T14:06:49.420726",
     "status": "completed"
    },
    "tags": []
   },
   "source": [
    "Warning: If there is no ptCurrent_Provider_Tracker table that is because it may not have been created yet. there is code in this Script that will create the table. Step 1: comment out the script that selects from the ptCurrent_Provider_Tracker table, uncomment useable = True int he next script, and run every cell. after that there will be the ptCurrent_Provider_Tracker table and you can uncomment the script and comment usable = True again.\n"
   ]
  },
  {
   "cell_type": "code",
   "execution_count": 3,
   "id": "ead63368",
   "metadata": {
    "ExecuteTime": {
     "end_time": "2023-07-17T17:48:28.106021Z",
     "start_time": "2023-07-17T17:48:28.055788Z"
    },
    "execution": {
     "iopub.execute_input": "2024-11-06T14:06:49.436368Z",
     "iopub.status.busy": "2024-11-06T14:06:49.436368Z",
     "iopub.status.idle": "2024-11-06T14:06:49.478131Z",
     "shell.execute_reply": "2024-11-06T14:06:49.478131Z"
    },
    "papermill": {
     "duration": 0.041763,
     "end_time": "2024-11-06T14:06:49.478131",
     "exception": false,
     "start_time": "2024-11-06T14:06:49.436368",
     "status": "completed"
    },
    "tags": []
   },
   "outputs": [],
   "source": [
    "# conn = sqlite3.connect('../../InSyncConnection/Database/InSyncClinical.db')\n",
    "conn = create_engine(r'mssql+pyodbc://@PYTHON\\SQLEXPRESS/InSync?driver=ODBC+Driver+17+for+SQL+Server&trusted_connection=yes', fast_executemany=True)\n",
    "\n",
    "# cursor = conn.cursor()\n",
    "\n",
    "# # printing all table names  \n",
    "# sql_query = \"\"\"SELECT name FROM sqlite_master\n",
    "#     WHERE type='table';\"\"\"\n",
    "\n",
    "# cursor.execute(sql_query)\n",
    "# print(cursor.fetchall())"
   ]
  },
  {
   "cell_type": "markdown",
   "id": "dcc94ada",
   "metadata": {
    "papermill": {
     "duration": 0.0,
     "end_time": "2024-11-06T14:06:49.478131",
     "exception": false,
     "start_time": "2024-11-06T14:06:49.478131",
     "status": "completed"
    },
    "tags": []
   },
   "source": [
    "## Read in Data "
   ]
  },
  {
   "cell_type": "markdown",
   "id": "15092534",
   "metadata": {
    "papermill": {
     "duration": 0.0,
     "end_time": "2024-11-06T14:06:49.494447",
     "exception": false,
     "start_time": "2024-11-06T14:06:49.494447",
     "status": "completed"
    },
    "tags": []
   },
   "source": [
    "### Get new data from sql"
   ]
  },
  {
   "cell_type": "code",
   "execution_count": 4,
   "id": "7158fcb7",
   "metadata": {
    "ExecuteTime": {
     "end_time": "2023-07-17T17:48:28.268623Z",
     "start_time": "2023-07-17T17:48:28.108003Z"
    },
    "execution": {
     "iopub.execute_input": "2024-11-06T14:06:49.510085Z",
     "iopub.status.busy": "2024-11-06T14:06:49.510085Z",
     "iopub.status.idle": "2024-11-06T14:07:04.746340Z",
     "shell.execute_reply": "2024-11-06T14:07:04.746340Z"
    },
    "papermill": {
     "duration": 15.251893,
     "end_time": "2024-11-06T14:07:04.746340",
     "exception": false,
     "start_time": "2024-11-06T14:06:49.494447",
     "status": "completed"
    },
    "tags": []
   },
   "outputs": [
    {
     "name": "stdout",
     "output_type": "stream",
     "text": [
      "(pyodbc.OperationalError) ('08001', '[08001] [Microsoft][ODBC Driver 17 for SQL Server]SQL Server Network Interfaces: Error Locating Server/Instance Specified [xFFFFFFFF].  (-1) (SQLDriverConnect); [08001] [Microsoft][ODBC Driver 17 for SQL Server]Login timeout expired (0); [08001] [Microsoft][ODBC Driver 17 for SQL Server]A network-related or instance-specific error has occurred while establishing a connection to SQL Server. Server is not found or not accessible. Check if instance name is correct and if SQL Server is configured to allow remote connections. For more information see SQL Server Books Online. (-1)')\n",
      "(Background on this error at: https://sqlalche.me/e/20/e3q8)\n"
     ]
    }
   ],
   "source": [
    "# Get current provider data from sql \n",
    "try:\n",
    "    sql='''\n",
    "    SELECT \n",
    "        PatientID,\n",
    "        PatientPrimaryProviderID AS 'ProviderID'\n",
    "    FROM \n",
    "        tblPatientPrimaryProviders\n",
    "    WHERE\n",
    "       IsDefault LIKE 'True'\n",
    "    '''\n",
    "    new_provider_df = pd.read_sql(sql, conn)    \n",
    "    logger.info(f\"Successfully queried tblPatientPrimaryProviders.\")            \n",
    "except Exception as e:\n",
    "    logger.error(f\"Failed to query tblPatientPrimaryProviders.\", exc_info=True) \n",
    "    print(e)\n"
   ]
  },
  {
   "cell_type": "code",
   "execution_count": 5,
   "id": "367579bf",
   "metadata": {
    "ExecuteTime": {
     "end_time": "2023-07-17T17:48:28.314600Z",
     "start_time": "2023-07-17T17:48:28.270608Z"
    },
    "execution": {
     "iopub.execute_input": "2024-11-06T14:07:04.765812Z",
     "iopub.status.busy": "2024-11-06T14:07:04.765286Z",
     "iopub.status.idle": "2024-11-06T14:07:19.859134Z",
     "shell.execute_reply": "2024-11-06T14:07:19.858121Z"
    },
    "papermill": {
     "duration": 15.114798,
     "end_time": "2024-11-06T14:07:19.861138",
     "exception": false,
     "start_time": "2024-11-06T14:07:04.746340",
     "status": "completed"
    },
    "tags": []
   },
   "outputs": [
    {
     "name": "stdout",
     "output_type": "stream",
     "text": [
      "(pyodbc.OperationalError) ('08001', '[08001] [Microsoft][ODBC Driver 17 for SQL Server]SQL Server Network Interfaces: Error Locating Server/Instance Specified [xFFFFFFFF].  (-1) (SQLDriverConnect); [08001] [Microsoft][ODBC Driver 17 for SQL Server]Login timeout expired (0); [08001] [Microsoft][ODBC Driver 17 for SQL Server]A network-related or instance-specific error has occurred while establishing a connection to SQL Server. Server is not found or not accessible. Check if instance name is correct and if SQL Server is configured to allow remote connections. For more information see SQL Server Books Online. (-1)')\n",
      "(Background on this error at: https://sqlalche.me/e/20/e3q8)\n"
     ]
    }
   ],
   "source": [
    "# Get patient data\n",
    "try:\n",
    "    sql='''\n",
    "    SELECT \n",
    "        PatientId AS PatientID,\n",
    "        FirstName,\n",
    "        LastName,\n",
    "        DOB\n",
    "    FROM \n",
    "        emr_PatientDetails\n",
    "    '''\n",
    "    patient_details_df = pd.read_sql(sql, conn)\n",
    "    if not patient_details_df['FirstName'].isnull().all():\n",
    "        patient_details_df['FirstName'] = patient_details_df['FirstName'].apply(lambda name: name.capitalize() if pd.notna(name) else name)\n",
    "    \n",
    "    if not patient_details_df['LastName'].isnull().all():\n",
    "        patient_details_df['LastName'] = patient_details_df['LastName'].apply(lambda name: name.capitalize() if pd.notna(name) else name)\n",
    "    \n",
    "    logger.info(f\"Successfully queried emr_PatientDetails.\")            \n",
    "except Exception as e:\n",
    "    logger.error(f\"Failed to query emr_PatientDetails.\", exc_info=True) \n",
    "    print(e)\n"
   ]
  },
  {
   "cell_type": "code",
   "execution_count": 6,
   "id": "b854a56d-fd49-4ae8-ac5e-138f86ddda70",
   "metadata": {
    "execution": {
     "iopub.execute_input": "2024-11-06T14:07:19.877134Z",
     "iopub.status.busy": "2024-11-06T14:07:19.876136Z",
     "iopub.status.idle": "2024-11-06T14:07:19.880913Z",
     "shell.execute_reply": "2024-11-06T14:07:19.880913Z"
    },
    "papermill": {
     "duration": 0.014791,
     "end_time": "2024-11-06T14:07:19.883926",
     "exception": false,
     "start_time": "2024-11-06T14:07:19.869135",
     "status": "completed"
    },
    "tags": []
   },
   "outputs": [],
   "source": [
    "# sql = \"\"\"\n",
    "# select *\n",
    "# FROM INFORMATION_SCHEMA.TABLES\n",
    "# WHERE (TABLE_NAME LIKE 'pt%')\n",
    "# \"\"\"\n",
    "# tables = pd.read_sql(sql, conn)\n",
    "# tables"
   ]
  },
  {
   "cell_type": "code",
   "execution_count": 7,
   "id": "b9123312",
   "metadata": {
    "ExecuteTime": {
     "end_time": "2023-07-17T17:48:28.426518Z",
     "start_time": "2023-07-17T17:48:28.316582Z"
    },
    "execution": {
     "iopub.execute_input": "2024-11-06T14:07:19.911162Z",
     "iopub.status.busy": "2024-11-06T14:07:19.911162Z",
     "iopub.status.idle": "2024-11-06T14:07:49.943101Z",
     "shell.execute_reply": "2024-11-06T14:07:49.943101Z"
    },
    "papermill": {
     "duration": 30.052177,
     "end_time": "2024-11-06T14:07:49.943101",
     "exception": false,
     "start_time": "2024-11-06T14:07:19.890924",
     "status": "completed"
    },
    "tags": []
   },
   "outputs": [
    {
     "name": "stdout",
     "output_type": "stream",
     "text": [
      "(pyodbc.OperationalError) ('08001', '[08001] [Microsoft][ODBC Driver 17 for SQL Server]SQL Server Network Interfaces: Error Locating Server/Instance Specified [xFFFFFFFF].  (-1) (SQLDriverConnect); [08001] [Microsoft][ODBC Driver 17 for SQL Server]Login timeout expired (0); [08001] [Microsoft][ODBC Driver 17 for SQL Server]A network-related or instance-specific error has occurred while establishing a connection to SQL Server. Server is not found or not accessible. Check if instance name is correct and if SQL Server is configured to allow remote connections. For more information see SQL Server Books Online. (-1)')\n",
      "(Background on this error at: https://sqlalche.me/e/20/e3q8)\n"
     ]
    },
    {
     "name": "stdout",
     "output_type": "stream",
     "text": [
      "(pyodbc.OperationalError) ('08001', '[08001] [Microsoft][ODBC Driver 17 for SQL Server]SQL Server Network Interfaces: Error Locating Server/Instance Specified [xFFFFFFFF].  (-1) (SQLDriverConnect); [08001] [Microsoft][ODBC Driver 17 for SQL Server]Login timeout expired (0); [08001] [Microsoft][ODBC Driver 17 for SQL Server]A network-related or instance-specific error has occurred while establishing a connection to SQL Server. Server is not found or not accessible. Check if instance name is correct and if SQL Server is configured to allow remote connections. For more information see SQL Server Books Online. (-1)')\n",
      "(Background on this error at: https://sqlalche.me/e/20/e3q8)\n"
     ]
    }
   ],
   "source": [
    "# Get previous provider info\n",
    "useBackup = False\n",
    "try:\n",
    "    sql = '''SELECT * FROM ptCurrent_Provider_Tracker'''\n",
    "    old_provider_df = pd.read_sql(sql, conn)\n",
    "    logger.info(f\"Successfully queried ptCurrent_Provider_Tracker.\")\n",
    "except Exception as e:\n",
    "    useBackup = True\n",
    "    logger.error(f\"Failed to query ptCurrent_Provider_Tracker.\", exc_info=True)\n",
    "    print(e)\n",
    "\n",
    "# get previous changes info\n",
    "try:\n",
    "    sql = '''SELECT * FROM ptPrimaryProvider_ChangeLog'''\n",
    "    prev_changes_df = pd.read_sql(sql, conn)\n",
    "    logger.info(f\"Successfully queried ptOld_Provider_Tracker.\")            \n",
    "except Exception as e:\n",
    "    useBackup = True\n",
    "    logger.error(f\"Failed to query ptOld_Provider_Tracker.\", exc_info=True) \n",
    "    print(e)"
   ]
  },
  {
   "cell_type": "markdown",
   "id": "dde40b3c",
   "metadata": {
    "ExecuteTime": {
     "end_time": "2023-07-13T13:25:36.659174Z",
     "start_time": "2023-07-13T13:25:36.655175Z"
    },
    "papermill": {
     "duration": 0.0,
     "end_time": "2024-11-06T14:07:49.959385",
     "exception": false,
     "start_time": "2024-11-06T14:07:49.959385",
     "status": "completed"
    },
    "tags": []
   },
   "source": [
    "### Get backed up data from excel\n",
    "    Use if issue with the db"
   ]
  },
  {
   "cell_type": "markdown",
   "id": "8b1df1c4",
   "metadata": {
    "tags": [
     "papermill-error-cell-tag"
    ]
   },
   "source": [
    "<span id=\"papermill-error-cell\" style=\"color:red; font-family:Helvetica Neue, Helvetica, Arial, sans-serif; font-size:2em;\">Execution using papermill encountered an exception here and stopped:</span>"
   ]
  },
  {
   "cell_type": "code",
   "execution_count": 8,
   "id": "6f9381e4",
   "metadata": {
    "ExecuteTime": {
     "end_time": "2023-07-17T17:48:28.442528Z",
     "start_time": "2023-07-17T17:48:28.427518Z"
    },
    "execution": {
     "iopub.execute_input": "2024-11-06T14:07:49.975760Z",
     "iopub.status.busy": "2024-11-06T14:07:49.975760Z",
     "iopub.status.idle": "2024-11-06T14:07:51.298115Z",
     "shell.execute_reply": "2024-11-06T14:07:51.298115Z"
    },
    "papermill": {
     "duration": 1.33873,
     "end_time": "2024-11-06T14:07:51.298115",
     "exception": true,
     "start_time": "2024-11-06T14:07:49.959385",
     "status": "failed"
    },
    "tags": []
   },
   "outputs": [
    {
     "ename": "NameError",
     "evalue": "name 'prev_changes_df' is not defined",
     "output_type": "error",
     "traceback": [
      "\u001b[1;31m---------------------------------------------------------------------------\u001b[0m",
      "\u001b[1;31mNameError\u001b[0m                                 Traceback (most recent call last)",
      "Cell \u001b[1;32mIn[8], line 11\u001b[0m\n\u001b[0;32m      9\u001b[0m     \u001b[38;5;28;01mexcept\u001b[39;00m \u001b[38;5;167;01mException\u001b[39;00m \u001b[38;5;28;01mas\u001b[39;00m e:\n\u001b[0;32m     10\u001b[0m         logger\u001b[38;5;241m.\u001b[39merror(\u001b[38;5;124m\"\u001b[39m\u001b[38;5;124mFailed to read in old data from excel backup\u001b[39m\u001b[38;5;124m\"\u001b[39m)\n\u001b[1;32m---> 11\u001b[0m prev_changes_df\n",
      "\u001b[1;31mNameError\u001b[0m: name 'prev_changes_df' is not defined"
     ]
    }
   ],
   "source": [
    "# useBackup = True\n",
    "if useBackup == True:\n",
    "    try:\n",
    "        old_provider_df = pd.read_excel(r\"../../../TestEnvironment/data/Provider Tracker.xlsx\",\n",
    "                                         sheet_name = \"Old Provider\")\n",
    "        prev_changes_df = pd.read_excel(r\"../../../TestEnvironment/data/Provider Tracker.xlsx\",\n",
    "                                         sheet_name = \"Changes\")\n",
    "        logger.info(\"Successfully read in old data from excel backup\")\n",
    "    except Exception as e:\n",
    "        logger.error(\"Failed to read in old data from excel backup\")\n",
    "prev_changes_df"
   ]
  },
  {
   "cell_type": "markdown",
   "id": "e2fb8e28",
   "metadata": {
    "papermill": {
     "duration": null,
     "end_time": null,
     "exception": null,
     "start_time": null,
     "status": "pending"
    },
    "tags": []
   },
   "source": [
    "## Compare new data to old data "
   ]
  },
  {
   "cell_type": "code",
   "execution_count": null,
   "id": "965060a2",
   "metadata": {
    "ExecuteTime": {
     "end_time": "2023-07-17T17:48:28.489997Z",
     "start_time": "2023-07-17T17:48:28.443509Z"
    },
    "papermill": {
     "duration": null,
     "end_time": null,
     "exception": null,
     "start_time": null,
     "status": "pending"
    },
    "tags": []
   },
   "outputs": [],
   "source": [
    "try:    \n",
    "    #merge frames\n",
    "    consistant_providers = old_provider_df.merge(new_provider_df,how='outer',on='PatientID', indicator=False)\n",
    "    \n",
    "    #filter out consistant data\n",
    "    inconsistant_mask = consistant_providers['ProviderID_x'] != consistant_providers['ProviderID_y']\n",
    "    inconsistantProviders = consistant_providers[inconsistant_mask].copy()\n",
    "    \n",
    "    # reformat frame\n",
    "    inconsistantProviders.drop('ProviderID_x', axis = 1, inplace=True)\n",
    "    inconsistantProviders.rename(columns={'ProviderID_y': 'ProviderID'}, inplace=True)\n",
    "    \n",
    "    # add date of change\n",
    "    today = datetime.today().strftime('%m/%d/%Y')\n",
    "    inconsistantProviders['Date Of Change'] = today\n",
    "    \n",
    "    # concat prev changes\n",
    "    all_changes = pd.concat([inconsistantProviders,prev_changes_df])\n",
    "    logger.info(f\"Successfully compared old data to new data.\")            \n",
    "except Exception as e:\n",
    "    logger.error(f\"Failed to compare old data to new data.\", exc_info=True) \n",
    "    print(e)\n"
   ]
  },
  {
   "cell_type": "markdown",
   "id": "4598c07d",
   "metadata": {
    "papermill": {
     "duration": null,
     "end_time": null,
     "exception": null,
     "start_time": null,
     "status": "pending"
    },
    "tags": []
   },
   "source": [
    "## Push data to DB"
   ]
  },
  {
   "cell_type": "code",
   "execution_count": null,
   "id": "35f1bc34",
   "metadata": {
    "ExecuteTime": {
     "end_time": "2023-07-17T17:48:28.521527Z",
     "start_time": "2023-07-17T17:48:28.490997Z"
    },
    "papermill": {
     "duration": null,
     "end_time": null,
     "exception": null,
     "start_time": null,
     "status": "pending"
    },
    "tags": []
   },
   "outputs": [],
   "source": [
    "# \", \".join([item + \" \" + str(new_provider_df[item].dtype) for item in new_provider_df.columns])"
   ]
  },
  {
   "cell_type": "code",
   "execution_count": null,
   "id": "3ad94800-0b02-42a7-8a60-7991a69a6558",
   "metadata": {
    "papermill": {
     "duration": null,
     "end_time": null,
     "exception": null,
     "start_time": null,
     "status": "pending"
    },
    "tags": []
   },
   "outputs": [],
   "source": [
    "new_provider_df.columns.tolist()"
   ]
  },
  {
   "cell_type": "code",
   "execution_count": null,
   "id": "86786c5a",
   "metadata": {
    "ExecuteTime": {
     "end_time": "2023-07-17T17:48:28.765359Z",
     "start_time": "2023-07-17T17:48:28.524525Z"
    },
    "papermill": {
     "duration": null,
     "end_time": null,
     "exception": null,
     "start_time": null,
     "status": "pending"
    },
    "tags": []
   },
   "outputs": [],
   "source": [
    "# changes ptCurrent_Provider_Tracker to today's current provider\n",
    "table_name = \"ptCurrent_Provider_Tracker\"\n",
    "try:\n",
    "    new_provider_df.to_sql(table_name, conn, if_exists='replace', index = False)\n",
    "    logger.info(f\"Successfully pushed {table_name} to database.\")\n",
    "    new_provider_df.to_csv()\n",
    "except Exception as e:\n",
    "    logger.error(f\"Failed to push {table_name} to database.\", exc_info=True) \n",
    "    print(e)"
   ]
  },
  {
   "cell_type": "code",
   "execution_count": null,
   "id": "674fc157",
   "metadata": {
    "ExecuteTime": {
     "end_time": "2023-07-17T17:48:28.773961Z",
     "start_time": "2023-07-17T17:48:28.766341Z"
    },
    "papermill": {
     "duration": null,
     "end_time": null,
     "exception": null,
     "start_time": null,
     "status": "pending"
    },
    "tags": []
   },
   "outputs": [],
   "source": [
    "# \", \".join([item + \" \" + str(all_changes[item].dtype) for item in all_changes.columns])"
   ]
  },
  {
   "cell_type": "code",
   "execution_count": null,
   "id": "e68c4e8e-7636-443b-8d25-7a466a08c880",
   "metadata": {
    "papermill": {
     "duration": null,
     "end_time": null,
     "exception": null,
     "start_time": null,
     "status": "pending"
    },
    "tags": []
   },
   "outputs": [],
   "source": [
    "all_changes.columns.tolist()"
   ]
  },
  {
   "cell_type": "code",
   "execution_count": null,
   "id": "4986e3c8-a5dc-4e58-baee-9ffbd806a059",
   "metadata": {
    "papermill": {
     "duration": null,
     "end_time": null,
     "exception": null,
     "start_time": null,
     "status": "pending"
    },
    "tags": []
   },
   "outputs": [],
   "source": [
    "all_changes = all_changes.rename(columns={\"Date Of Change\": \"DateofChange\"})\n",
    "\n",
    "all_changes = all_changes[['PatientID',\n",
    "                           'ProviderID',\n",
    "                           'DateofChange']]\n",
    "\n",
    "# table_name = \"ptPrimaryProvider_ChangeLog\"\n",
    "try:\n",
    "    all_changes.to_sql(\"ptPrimaryProvider_ChangeLog\", conn, if_exists='replace', index = False)\n",
    "    logger.info(f\"Successfully pushed {table_name} to database.\")            \n",
    "except Exception as e:\n",
    "    logger.error(f\"Failed to push {table_name} to database.\", exc_info=True) \n",
    "    print(e)"
   ]
  },
  {
   "cell_type": "code",
   "execution_count": null,
   "id": "3ac136fc",
   "metadata": {
    "ExecuteTime": {
     "end_time": "2023-07-17T17:48:29.041110Z",
     "start_time": "2023-07-17T17:48:29.032766Z"
    },
    "papermill": {
     "duration": null,
     "end_time": null,
     "exception": null,
     "start_time": null,
     "status": "pending"
    },
    "tags": []
   },
   "outputs": [],
   "source": [
    "conn.dispose()"
   ]
  },
  {
   "cell_type": "markdown",
   "id": "a6f40748",
   "metadata": {
    "papermill": {
     "duration": null,
     "end_time": null,
     "exception": null,
     "start_time": null,
     "status": "pending"
    },
    "tags": []
   },
   "source": [
    "## Write backup to excel "
   ]
  },
  {
   "cell_type": "code",
   "execution_count": null,
   "id": "33b39e7f",
   "metadata": {
    "ExecuteTime": {
     "end_time": "2023-07-17T17:48:29.724539Z",
     "start_time": "2023-07-17T17:48:29.041110Z"
    },
    "papermill": {
     "duration": null,
     "end_time": null,
     "exception": null,
     "start_time": null,
     "status": "pending"
    },
    "tags": []
   },
   "outputs": [],
   "source": [
    "# write data to excel as a backup in case something happens to the db\n",
    "try:\n",
    "    with pd.ExcelWriter('../../../TestEnvironment/data/Provider Tracker.xlsx') as writer:  \n",
    "        new_provider_df.to_excel(writer, sheet_name='Old Provider', index = False)\n",
    "        all_changes.to_excel(writer, sheet_name='Changes', index = False)\n",
    "    logger.info(\"Successfully backed up changes to excel.\")\n",
    "except Exception as e:\n",
    "    logger.error(\"Failed to back up changes to excel.\")\n",
    "    print(e)"
   ]
  }
 ],
 "metadata": {
  "kernelspec": {
   "display_name": "Python 3",
   "language": "python",
   "name": "python3"
  },
  "language_info": {
   "codemirror_mode": {
    "name": "ipython",
    "version": 3
   },
   "file_extension": ".py",
   "mimetype": "text/x-python",
   "name": "python",
   "nbconvert_exporter": "python",
   "pygments_lexer": "ipython3",
   "version": "3.12.4"
  },
  "papermill": {
   "default_parameters": {},
   "duration": 67.364493,
   "end_time": "2024-11-06T14:07:51.743300",
   "environment_variables": {},
   "exception": true,
   "input_path": "Primary Care Provider Tracker SQL Express.ipynb",
   "output_path": "snapshots/Primary Care Provider Tracker SQL Express.ipynb",
   "parameters": {},
   "start_time": "2024-11-06T14:06:44.378807",
   "version": "2.6.0"
  },
  "toc": {
   "base_numbering": 1,
   "nav_menu": {
    "height": "112px",
    "width": "259.2px"
   },
   "number_sections": true,
   "sideBar": true,
   "skip_h1_title": false,
   "title_cell": "Table of Contents",
   "title_sidebar": "Contents",
   "toc_cell": false,
   "toc_position": {},
   "toc_section_display": true,
   "toc_window_display": true
  },
  "varInspector": {
   "cols": {
    "lenName": 16,
    "lenType": 16,
    "lenVar": 40
   },
   "kernels_config": {
    "python": {
     "delete_cmd_postfix": "",
     "delete_cmd_prefix": "del ",
     "library": "var_list.py",
     "varRefreshCmd": "print(var_dic_list())"
    },
    "r": {
     "delete_cmd_postfix": ") ",
     "delete_cmd_prefix": "rm(",
     "library": "var_list.r",
     "varRefreshCmd": "cat(var_dic_list()) "
    }
   },
   "types_to_exclude": [
    "module",
    "function",
    "builtin_function_or_method",
    "instance",
    "_Feature"
   ],
   "window_display": false
  }
 },
 "nbformat": 4,
 "nbformat_minor": 5
}