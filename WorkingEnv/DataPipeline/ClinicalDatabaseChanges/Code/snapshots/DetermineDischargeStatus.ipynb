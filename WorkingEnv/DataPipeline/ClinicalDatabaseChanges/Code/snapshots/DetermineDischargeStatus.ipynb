{
 "cells": [
  {
   "cell_type": "code",
   "execution_count": 1,
   "id": "318517c5",
   "metadata": {
    "ExecuteTime": {
     "end_time": "2023-07-20T20:28:41.632600Z",
     "start_time": "2023-07-20T20:28:41.625604Z"
    },
    "execution": {
     "iopub.execute_input": "2024-10-15T15:39:12.764479Z",
     "iopub.status.busy": "2024-10-15T15:39:12.764479Z",
     "iopub.status.idle": "2024-10-15T15:39:13.514110Z",
     "shell.execute_reply": "2024-10-15T15:39:13.512084Z"
    },
    "papermill": {
     "duration": 0.784099,
     "end_time": "2024-10-15T15:39:13.517302",
     "exception": false,
     "start_time": "2024-10-15T15:39:12.733203",
     "status": "completed"
    },
    "tags": []
   },
   "outputs": [],
   "source": [
    "import pandas as pd\n",
    "import numpy as np\n",
    "import pyodbc \n",
    "import time\n",
    "from datetime import datetime\n",
    "from datetime import date\n",
    "import sqlite3"
   ]
  },
  {
   "cell_type": "code",
   "execution_count": 2,
   "id": "eec0b1c7",
   "metadata": {
    "ExecuteTime": {
     "end_time": "2024-09-17T18:53:42.889720Z",
     "start_time": "2024-09-17T18:53:42.871212Z"
    },
    "execution": {
     "iopub.execute_input": "2024-10-15T15:39:13.534102Z",
     "iopub.status.busy": "2024-10-15T15:39:13.534102Z",
     "iopub.status.idle": "2024-10-15T15:39:13.543481Z",
     "shell.execute_reply": "2024-10-15T15:39:13.543481Z"
    },
    "papermill": {
     "duration": 0.016617,
     "end_time": "2024-10-15T15:39:13.543481",
     "exception": false,
     "start_time": "2024-10-15T15:39:13.526864",
     "status": "completed"
    },
    "tags": []
   },
   "outputs": [
    {
     "name": "stderr",
     "output_type": "stream",
     "text": [
      "<>:2: SyntaxWarning: invalid escape sequence '\\.'\n",
      "<>:2: SyntaxWarning: invalid escape sequence '\\.'\n",
      "C:\\Users\\ylen\\AppData\\Local\\Temp\\3\\ipykernel_5476\\3815362307.py:2: SyntaxWarning: invalid escape sequence '\\.'\n",
      "  path = \"..\\..\\Logs\\clinical_log.log\"\n"
     ]
    }
   ],
   "source": [
    "import logging\n",
    "path = \"..\\..\\Logs\\clinical_log.log\"\n",
    "logging.basicConfig(filename=path,\n",
    "                    filemode='a',\n",
    "                    format='%(asctime)s,%(msecs)d,%(name)s,%(levelname)s,%(message)s',\n",
    "                    datefmt='%Y-%m-%d %H:%M:%S',\n",
    "                    level=logging.DEBUG)\n",
    "logger = logging.getLogger(\"Determine Discharge Status\")\n",
    "# logger.info(\"testing log\")"
   ]
  },
  {
   "cell_type": "code",
   "execution_count": 3,
   "id": "ae4f2c6f",
   "metadata": {
    "ExecuteTime": {
     "end_time": "2023-07-20T20:28:41.742416Z",
     "start_time": "2023-07-20T20:28:41.697402Z"
    },
    "execution": {
     "iopub.execute_input": "2024-10-15T15:39:13.560808Z",
     "iopub.status.busy": "2024-10-15T15:39:13.559640Z",
     "iopub.status.idle": "2024-10-15T15:39:13.570420Z",
     "shell.execute_reply": "2024-10-15T15:39:13.570420Z"
    },
    "papermill": {
     "duration": 0.026939,
     "end_time": "2024-10-15T15:39:13.570420",
     "exception": false,
     "start_time": "2024-10-15T15:39:13.543481",
     "status": "completed"
    },
    "tags": []
   },
   "outputs": [],
   "source": [
    "def findPatientsNotSeenInaWhile(lastApptDate):\n",
    "    try:\n",
    "        if (datetime.now() - lastApptDate).days > 21:\n",
    "            if (datetime.now() - lastApptDate).days > 91:\n",
    "                if (datetime.now() - lastApptDate).days > 183:\n",
    "                    return \"Hasn't been seen in 6 months\" \n",
    "                else:\n",
    "                    return \"Hasn't been seen in 3 months\"\n",
    "            else:\n",
    "                return \"Hasn't been seen in 3 weeks\"\n",
    "        else:\n",
    "            return \"They've been seen in the past 3 weeks\" \n",
    "    except:        \n",
    "        return \"Never Seen\"   "
   ]
  },
  {
   "cell_type": "code",
   "execution_count": 4,
   "id": "f2969c9d",
   "metadata": {
    "ExecuteTime": {
     "end_time": "2023-07-20T20:28:41.773453Z",
     "start_time": "2023-07-20T20:28:41.744427Z"
    },
    "execution": {
     "iopub.execute_input": "2024-10-15T15:39:13.570420Z",
     "iopub.status.busy": "2024-10-15T15:39:13.570420Z",
     "iopub.status.idle": "2024-10-15T15:39:13.588422Z",
     "shell.execute_reply": "2024-10-15T15:39:13.587352Z"
    },
    "papermill": {
     "duration": 0.019622,
     "end_time": "2024-10-15T15:39:13.590042",
     "exception": false,
     "start_time": "2024-10-15T15:39:13.570420",
     "status": "completed"
    },
    "tags": []
   },
   "outputs": [],
   "source": [
    "# diff path from TestTev vs WorkingEnv\n",
    "conn = sqlite3.connect('../../InSyncConnection/Database/InSyncClinical.db')\n",
    "# cursor = conn.cursor()\n",
    "\n",
    "# printing all table names  \n",
    "# sql_query = \"\"\"SELECT name FROM sqlite_master\n",
    "#     WHERE type='table';\"\"\"\n",
    "\n",
    "# cursor.execute(sql_query)\n",
    "# print(cursor.fetchall())"
   ]
  },
  {
   "cell_type": "markdown",
   "id": "688c4d84",
   "metadata": {
    "papermill": {
     "duration": 0.002586,
     "end_time": "2024-10-15T15:39:13.596934",
     "exception": false,
     "start_time": "2024-10-15T15:39:13.594348",
     "status": "completed"
    },
    "tags": []
   },
   "source": [
    "# Read in Data"
   ]
  },
  {
   "cell_type": "code",
   "execution_count": 5,
   "id": "ec441571",
   "metadata": {
    "ExecuteTime": {
     "end_time": "2023-07-20T20:28:41.820594Z",
     "start_time": "2023-07-20T20:28:41.774452Z"
    },
    "execution": {
     "iopub.execute_input": "2024-10-15T15:39:13.612897Z",
     "iopub.status.busy": "2024-10-15T15:39:13.612897Z",
     "iopub.status.idle": "2024-10-15T15:39:13.617233Z",
     "shell.execute_reply": "2024-10-15T15:39:13.617233Z"
    },
    "papermill": {
     "duration": 0.012807,
     "end_time": "2024-10-15T15:39:13.619247",
     "exception": false,
     "start_time": "2024-10-15T15:39:13.606440",
     "status": "completed"
    },
    "tags": []
   },
   "outputs": [],
   "source": [
    "testPatients = '''\n",
    "SELECT\n",
    "    MRNNumber\n",
    "FROM \n",
    "    emr_PatientDetails\n",
    "WHERE \n",
    "    LOWER(FirstName) LIKE '%test%'\n",
    "    OR LOWER(FirstName) LIKE '%patient%'\n",
    "    OR LOWER(FirstName) LIKE '%new%'\n",
    "    OR LOWER(FirstName) LIKE '%client%'\n",
    "    OR LOWER(FirstName) LIKE '%release%'\n",
    "    OR LOWER(LastName) LIKE '%test%'\n",
    "    OR LOWER(LastName) LIKE '%patient%'\n",
    "    OR LOWER(LastName) LIKE '%fake%'\n",
    "    OR CAST(MRNNumber AS INTEGER) < 53\n",
    "    OR CAST(MRNNumber AS INTEGER) = 54\n",
    "    OR CAST(MRNNumber AS INTEGER) = 141\n",
    "    OR CAST(MRNNumber AS INTEGER) = 4155\n",
    "    OR CAST(MRNNumber AS INTEGER) = 4154\n",
    "    OR CAST(MRNNumber AS INTEGER) = 7170\n",
    "'''"
   ]
  },
  {
   "cell_type": "code",
   "execution_count": 6,
   "id": "e9982253",
   "metadata": {
    "ExecuteTime": {
     "end_time": "2023-07-20T20:28:42.533806Z",
     "start_time": "2023-07-20T20:28:41.821573Z"
    },
    "execution": {
     "iopub.execute_input": "2024-10-15T15:39:13.633058Z",
     "iopub.status.busy": "2024-10-15T15:39:13.632571Z",
     "iopub.status.idle": "2024-10-15T15:39:15.300949Z",
     "shell.execute_reply": "2024-10-15T15:39:15.300274Z"
    },
    "papermill": {
     "duration": 1.679791,
     "end_time": "2024-10-15T15:39:15.303757",
     "exception": false,
     "start_time": "2024-10-15T15:39:13.623966",
     "status": "completed"
    },
    "tags": []
   },
   "outputs": [],
   "source": [
    "sql=f'''\n",
    "SELECT \n",
    "    tblEncounterSummary.PatientID as PatientID,\n",
    "    emr_PatientDetails.isActive,\n",
    "    tblEncounterSummary.VisitDateTime as EncounterDate,\n",
    "    tblEncounterType.EncounterType\n",
    "FROM \n",
    "    tblEncounterSummary\n",
    "    LEFT JOIN emr_PatientDetails ON (tblEncounterSummary.patientID = emr_PatientDetails.patientID)\n",
    "    LEFT JOIN tblEncounterType ON (tblEncounterSummary.EncounterTypeID=tblEncounterType.EncounterTypeID)\n",
    "WHERE\n",
    "    emr_PatientDetails.MRNNumber NOT IN ({testPatients})\n",
    "'''\n",
    "try:\n",
    "    encounters = pd.read_sql(sql, conn)\n",
    "    logger.info(\"Successfully queried encounters\")\n",
    "except Exception as e:\n",
    "    logger.error(f\"Failed to query encounters.\", exc_info=True) \n",
    "    print(e)"
   ]
  },
  {
   "cell_type": "code",
   "execution_count": 7,
   "id": "5074b2cb",
   "metadata": {
    "ExecuteTime": {
     "end_time": "2023-07-20T20:28:43.120751Z",
     "start_time": "2023-07-20T20:28:42.534809Z"
    },
    "execution": {
     "iopub.execute_input": "2024-10-15T15:39:15.319164Z",
     "iopub.status.busy": "2024-10-15T15:39:15.318630Z",
     "iopub.status.idle": "2024-10-15T15:39:17.536124Z",
     "shell.execute_reply": "2024-10-15T15:39:17.534901Z"
    },
    "papermill": {
     "duration": 2.227818,
     "end_time": "2024-10-15T15:39:17.539439",
     "exception": false,
     "start_time": "2024-10-15T15:39:15.311621",
     "status": "completed"
    },
    "tags": []
   },
   "outputs": [],
   "source": [
    "sql=f'''\n",
    "SELECT \n",
    "    tblEncounterSummary.PatientID as PatientID,\n",
    "    tblEncounterSummary.VisitDateTime as Billable_EncounterDate,\n",
    "    tblEncounterType.EncounterType as Billable_EncounterType,\n",
    "    tblEncounterSummary.ProgramName,\n",
    "    tblFacilitiesMaster.FacilityName\n",
    "FROM \n",
    "    tblEncounterSummary\n",
    "    LEFT JOIN emr_PatientDetails ON (tblEncounterSummary.patientID = emr_PatientDetails.patientID)\n",
    "    LEFT JOIN tblEncounterType ON (tblEncounterSummary.EncounterTypeID=tblEncounterType.EncounterTypeID)\n",
    "    LEFT JOIN tblFacilitiesMaster ON (tblEncounterSummary.FacilityId=tblFacilitiesMaster.FacilityId)\n",
    "WHERE IsBillable LIKE \"%TRUE%\" \n",
    "    AND emr_PatientDetails.MRNNumber NOT IN ({testPatients})\n",
    "'''\n",
    "try:\n",
    "    billableEncounters = pd.read_sql(sql, conn)\n",
    "    logger.info(\"Successfully queried billableEncounters = pd.read_sql(sql, conn)\")\n",
    "except Exception as e:\n",
    "    logger.error(f\"Failed to query billableEncounters = pd.read_sql(sql, conn).\", exc_info=True) \n",
    "    print(e)\n"
   ]
  },
  {
   "cell_type": "markdown",
   "id": "ed777b75",
   "metadata": {
    "papermill": {
     "duration": 0.003581,
     "end_time": "2024-10-15T15:39:17.550921",
     "exception": false,
     "start_time": "2024-10-15T15:39:17.547340",
     "status": "completed"
    },
    "tags": []
   },
   "source": [
    "# Transform Data"
   ]
  },
  {
   "cell_type": "code",
   "execution_count": 8,
   "id": "2fdd3ea6",
   "metadata": {
    "ExecuteTime": {
     "end_time": "2023-07-20T20:29:08.442871Z",
     "start_time": "2023-07-20T20:28:43.121767Z"
    },
    "execution": {
     "iopub.execute_input": "2024-10-15T15:39:17.569883Z",
     "iopub.status.busy": "2024-10-15T15:39:17.569883Z",
     "iopub.status.idle": "2024-10-15T15:39:18.883690Z",
     "shell.execute_reply": "2024-10-15T15:39:18.883690Z"
    },
    "papermill": {
     "duration": 1.323036,
     "end_time": "2024-10-15T15:39:18.883690",
     "exception": false,
     "start_time": "2024-10-15T15:39:17.560654",
     "status": "completed"
    },
    "tags": []
   },
   "outputs": [],
   "source": [
    "# Get last ecounter\n",
    "encounters['EncounterDate'] = pd.to_datetime(encounters['EncounterDate'])\n",
    "encounters = encounters.sort_values(by=\"EncounterDate\")\n",
    "# get last billable encounter\n",
    "billableEncounters['Billable_EncounterDate'] = pd.to_datetime(billableEncounters['Billable_EncounterDate'])\n",
    "billableEncounters = billableEncounters.sort_values(by=\"Billable_EncounterDate\")"
   ]
  },
  {
   "cell_type": "code",
   "execution_count": 9,
   "id": "a361cbb6",
   "metadata": {
    "ExecuteTime": {
     "end_time": "2023-07-20T20:29:08.631478Z",
     "start_time": "2023-07-20T20:29:08.444857Z"
    },
    "execution": {
     "iopub.execute_input": "2024-10-15T15:39:18.899326Z",
     "iopub.status.busy": "2024-10-15T15:39:18.899326Z",
     "iopub.status.idle": "2024-10-15T15:39:19.157877Z",
     "shell.execute_reply": "2024-10-15T15:39:19.156765Z"
    },
    "papermill": {
     "duration": 0.276886,
     "end_time": "2024-10-15T15:39:19.160576",
     "exception": false,
     "start_time": "2024-10-15T15:39:18.883690",
     "status": "completed"
    },
    "tags": []
   },
   "outputs": [],
   "source": [
    "# get the most recent (last) encounter type, date and patient activity\n",
    "discharged = encounters.groupby(['PatientID'], as_index=False)[['EncounterType', 'EncounterDate', 'IsActive']].last()\n",
    "finalBillable = billableEncounters.groupby(['PatientID'], as_index=False)[['Billable_EncounterType', 'Billable_EncounterDate']].last()\n",
    "finalEncounterFacility = billableEncounters.groupby(['PatientID'], as_index=False)[['ProgramName', 'FacilityName']].last()"
   ]
  },
  {
   "cell_type": "code",
   "execution_count": 10,
   "id": "592b5ad0",
   "metadata": {
    "ExecuteTime": {
     "end_time": "2023-07-20T20:29:08.727170Z",
     "start_time": "2023-07-20T20:29:08.634437Z"
    },
    "execution": {
     "iopub.execute_input": "2024-10-15T15:39:19.174293Z",
     "iopub.status.busy": "2024-10-15T15:39:19.174293Z",
     "iopub.status.idle": "2024-10-15T15:39:19.344892Z",
     "shell.execute_reply": "2024-10-15T15:39:19.344892Z"
    },
    "papermill": {
     "duration": 0.177163,
     "end_time": "2024-10-15T15:39:19.344892",
     "exception": false,
     "start_time": "2024-10-15T15:39:19.167729",
     "status": "completed"
    },
    "tags": []
   },
   "outputs": [],
   "source": [
    "# check if encounter type contains discharge\n",
    "discharged['is_Discharged'] = discharged['EncounterType'].map(lambda type: 1 if \"discharge\" in str(type).lower() else 0)\n",
    "# summarize last seen date\n",
    "finalBillable['seen_Recently'] = finalBillable['Billable_EncounterDate'].map(findPatientsNotSeenInaWhile)"
   ]
  },
  {
   "cell_type": "code",
   "execution_count": 11,
   "id": "6ca856c8",
   "metadata": {
    "ExecuteTime": {
     "end_time": "2023-07-20T20:29:08.820156Z",
     "start_time": "2023-07-20T20:29:08.728131Z"
    },
    "execution": {
     "iopub.execute_input": "2024-10-15T15:39:19.363341Z",
     "iopub.status.busy": "2024-10-15T15:39:19.363270Z",
     "iopub.status.idle": "2024-10-15T15:39:19.378849Z",
     "shell.execute_reply": "2024-10-15T15:39:19.378849Z"
    },
    "papermill": {
     "duration": 0.033957,
     "end_time": "2024-10-15T15:39:19.378849",
     "exception": false,
     "start_time": "2024-10-15T15:39:19.344892",
     "status": "completed"
    },
    "tags": []
   },
   "outputs": [],
   "source": [
    "finalPatientStatus = discharged.merge(finalBillable, how='left', on='PatientID').merge(finalEncounterFacility, how='left', on='PatientID')"
   ]
  },
  {
   "cell_type": "code",
   "execution_count": 12,
   "id": "2a89bf52",
   "metadata": {
    "ExecuteTime": {
     "end_time": "2023-07-20T20:29:08.836191Z",
     "start_time": "2023-07-20T20:29:08.821114Z"
    },
    "execution": {
     "iopub.execute_input": "2024-10-15T15:39:19.378849Z",
     "iopub.status.busy": "2024-10-15T15:39:19.378849Z",
     "iopub.status.idle": "2024-10-15T15:39:19.398177Z",
     "shell.execute_reply": "2024-10-15T15:39:19.398177Z"
    },
    "papermill": {
     "duration": 0.019328,
     "end_time": "2024-10-15T15:39:19.398177",
     "exception": false,
     "start_time": "2024-10-15T15:39:19.378849",
     "status": "completed"
    },
    "tags": []
   },
   "outputs": [],
   "source": [
    "# rename columns to be more explicit\n",
    "finalPatientStatus.columns = ['PatientID', \n",
    "                      'finalEncounterType', \n",
    "                      'finalEncounterDate', \n",
    "                      'is_ActiveInInSync',\n",
    "                      'is_lastEncounterDischarge',\n",
    "                      'lastBillable_EncounterType',\n",
    "                      'lastBillable_EncounterDate',\n",
    "                      'seen_Recently',\n",
    "                      'lastBillable_ProgramName',\n",
    "                      'lastBillable_FacilityName']\n",
    "#reorder the columns\n",
    "finalPatientStatus =    finalPatientStatus[['PatientID', \n",
    "                      'finalEncounterType', \n",
    "                      'finalEncounterDate', \n",
    "                      'is_ActiveInInSync',\n",
    "                      'is_lastEncounterDischarge',\n",
    "                      'lastBillable_EncounterType',\n",
    "                      'lastBillable_EncounterDate',\n",
    "                      'lastBillable_ProgramName',\n",
    "                      'lastBillable_FacilityName',\n",
    "                      'seen_Recently']       ]"
   ]
  },
  {
   "cell_type": "code",
   "execution_count": 13,
   "id": "27a5ef5a",
   "metadata": {
    "ExecuteTime": {
     "end_time": "2023-07-20T20:29:08.897582Z",
     "start_time": "2023-07-20T20:29:08.837827Z"
    },
    "execution": {
     "iopub.execute_input": "2024-10-15T15:39:19.398177Z",
     "iopub.status.busy": "2024-10-15T15:39:19.398177Z",
     "iopub.status.idle": "2024-10-15T15:39:19.426785Z",
     "shell.execute_reply": "2024-10-15T15:39:19.426785Z"
    },
    "papermill": {
     "duration": 0.028608,
     "end_time": "2024-10-15T15:39:19.426785",
     "exception": false,
     "start_time": "2024-10-15T15:39:19.398177",
     "status": "completed"
    },
    "tags": []
   },
   "outputs": [
    {
     "data": {
      "text/html": [
       "<div>\n",
       "<style scoped>\n",
       "    .dataframe tbody tr th:only-of-type {\n",
       "        vertical-align: middle;\n",
       "    }\n",
       "\n",
       "    .dataframe tbody tr th {\n",
       "        vertical-align: top;\n",
       "    }\n",
       "\n",
       "    .dataframe thead th {\n",
       "        text-align: right;\n",
       "    }\n",
       "</style>\n",
       "<table border=\"1\" class=\"dataframe\">\n",
       "  <thead>\n",
       "    <tr style=\"text-align: right;\">\n",
       "      <th></th>\n",
       "      <th>PatientID</th>\n",
       "      <th>finalEncounterType</th>\n",
       "      <th>finalEncounterDate</th>\n",
       "      <th>is_ActiveInInSync</th>\n",
       "      <th>is_lastEncounterDischarge</th>\n",
       "      <th>lastBillable_EncounterType</th>\n",
       "      <th>lastBillable_EncounterDate</th>\n",
       "      <th>lastBillable_ProgramName</th>\n",
       "      <th>lastBillable_FacilityName</th>\n",
       "      <th>seen_Recently</th>\n",
       "    </tr>\n",
       "  </thead>\n",
       "  <tbody>\n",
       "    <tr>\n",
       "      <th>1849</th>\n",
       "      <td>622719</td>\n",
       "      <td>Discharge</td>\n",
       "      <td>2023-06-21 11:16:00</td>\n",
       "      <td>1</td>\n",
       "      <td>1</td>\n",
       "      <td>Psychotherapy 45 Minutes</td>\n",
       "      <td>2023-05-31 14:30:00</td>\n",
       "      <td>Boro Park Clinics</td>\n",
       "      <td>Clinic 5309 18th Avenue</td>\n",
       "      <td>Hasn't been seen in 6 months</td>\n",
       "    </tr>\n",
       "  </tbody>\n",
       "</table>\n",
       "</div>"
      ],
      "text/plain": [
       "      PatientID finalEncounterType  finalEncounterDate  is_ActiveInInSync  \\\n",
       "1849     622719          Discharge 2023-06-21 11:16:00                  1   \n",
       "\n",
       "      is_lastEncounterDischarge lastBillable_EncounterType  \\\n",
       "1849                          1   Psychotherapy 45 Minutes   \n",
       "\n",
       "     lastBillable_EncounterDate lastBillable_ProgramName  \\\n",
       "1849        2023-05-31 14:30:00        Boro Park Clinics   \n",
       "\n",
       "     lastBillable_FacilityName                 seen_Recently  \n",
       "1849   Clinic 5309 18th Avenue  Hasn't been seen in 6 months  "
      ]
     },
     "execution_count": 13,
     "metadata": {},
     "output_type": "execute_result"
    }
   ],
   "source": [
    "finalPatientStatus[finalPatientStatus['PatientID'] == 622719]"
   ]
  },
  {
   "cell_type": "markdown",
   "id": "cf662992",
   "metadata": {
    "papermill": {
     "duration": 0.0,
     "end_time": "2024-10-15T15:39:19.426785",
     "exception": false,
     "start_time": "2024-10-15T15:39:19.426785",
     "status": "completed"
    },
    "tags": []
   },
   "source": [
    "## Manual Line\n",
    "- The code below is used to help with writing the proper SQL Create table query below"
   ]
  },
  {
   "cell_type": "code",
   "execution_count": 14,
   "id": "8d4851d3",
   "metadata": {
    "ExecuteTime": {
     "end_time": "2023-07-20T20:29:08.929640Z",
     "start_time": "2023-07-20T20:29:08.899587Z"
    },
    "execution": {
     "iopub.execute_input": "2024-10-15T15:39:19.443069Z",
     "iopub.status.busy": "2024-10-15T15:39:19.443069Z",
     "iopub.status.idle": "2024-10-15T15:39:19.456764Z",
     "shell.execute_reply": "2024-10-15T15:39:19.456764Z"
    },
    "papermill": {
     "duration": 0.013695,
     "end_time": "2024-10-15T15:39:19.456764",
     "exception": false,
     "start_time": "2024-10-15T15:39:19.443069",
     "status": "completed"
    },
    "tags": []
   },
   "outputs": [
    {
     "data": {
      "text/plain": [
       "'PatientID int64, finalEncounterType object, finalEncounterDate datetime64[ns], is_ActiveInInSync int64, is_lastEncounterDischarge int64, lastBillable_EncounterType object, lastBillable_EncounterDate datetime64[ns], lastBillable_ProgramName object, lastBillable_FacilityName object, seen_Recently object'"
      ]
     },
     "execution_count": 14,
     "metadata": {},
     "output_type": "execute_result"
    }
   ],
   "source": [
    "# use to transform data into\n",
    "\", \".join([item + \" \" + str(finalPatientStatus[item].dtype) for item in finalPatientStatus.columns])"
   ]
  },
  {
   "cell_type": "markdown",
   "id": "a3728982",
   "metadata": {
    "papermill": {
     "duration": 0.017732,
     "end_time": "2024-10-15T15:39:19.474496",
     "exception": false,
     "start_time": "2024-10-15T15:39:19.456764",
     "status": "completed"
    },
    "tags": []
   },
   "source": [
    "# Push Data to Table"
   ]
  },
  {
   "cell_type": "code",
   "execution_count": 15,
   "id": "c6382e98",
   "metadata": {
    "ExecuteTime": {
     "end_time": "2023-07-20T20:29:09.382644Z",
     "start_time": "2023-07-20T20:29:08.931643Z"
    },
    "execution": {
     "iopub.execute_input": "2024-10-15T15:39:19.488259Z",
     "iopub.status.busy": "2024-10-15T15:39:19.487752Z",
     "iopub.status.idle": "2024-10-15T15:39:19.973832Z",
     "shell.execute_reply": "2024-10-15T15:39:19.973832Z"
    },
    "papermill": {
     "duration": 0.494324,
     "end_time": "2024-10-15T15:39:19.973832",
     "exception": false,
     "start_time": "2024-10-15T15:39:19.479508",
     "status": "completed"
    },
    "tags": []
   },
   "outputs": [],
   "source": [
    "table_name= \"ptPatient_Activity\"\n",
    "try:\n",
    "    c = conn.cursor()\n",
    "    c.execute(f'''CREATE TABLE IF NOT EXISTS {table_name} (PatientID INTEGER, finalEncounterType TEXT, finalEncounterDate TEXT, is_ActiveInInSync INTEGER, is_lastEncounterDischarge INTEGER, lastBillable_EncounterType TEXT, lastBillable_EncounterDate TEXT, lastBillable_ProgramName TEXT, lastBillable_FacilityName TEXT, seen_Recently TEXT) ''')\n",
    "    conn.commit()\n",
    "    finalPatientStatus.to_sql(\"ptPatient_Activity\", conn, if_exists='replace', index = False)\n",
    "    logger.info(f\"Successfully pushed {table_name} to database.\")            \n",
    "except Exception as e:\n",
    "    logger.error(f\"Failed to push {table_name} to database.\", exc_info=True) \n",
    "    print(e)"
   ]
  },
  {
   "cell_type": "code",
   "execution_count": 16,
   "id": "87c9df31",
   "metadata": {
    "ExecuteTime": {
     "end_time": "2023-07-20T20:29:09.429598Z",
     "start_time": "2023-07-20T20:29:09.383634Z"
    },
    "execution": {
     "iopub.execute_input": "2024-10-15T15:39:19.996995Z",
     "iopub.status.busy": "2024-10-15T15:39:19.996995Z",
     "iopub.status.idle": "2024-10-15T15:39:20.003397Z",
     "shell.execute_reply": "2024-10-15T15:39:20.003397Z"
    },
    "papermill": {
     "duration": 0.029565,
     "end_time": "2024-10-15T15:39:20.003397",
     "exception": false,
     "start_time": "2024-10-15T15:39:19.973832",
     "status": "completed"
    },
    "tags": []
   },
   "outputs": [],
   "source": [
    "conn.close()"
   ]
  }
 ],
 "metadata": {
  "kernelspec": {
   "display_name": "Python 3 (ipykernel)",
   "language": "python",
   "name": "python3"
  },
  "language_info": {
   "codemirror_mode": {
    "name": "ipython",
    "version": 3
   },
   "file_extension": ".py",
   "mimetype": "text/x-python",
   "name": "python",
   "nbconvert_exporter": "python",
   "pygments_lexer": "ipython3",
   "version": "3.12.4"
  },
  "papermill": {
   "default_parameters": {},
   "duration": 11.68491,
   "end_time": "2024-10-15T15:39:20.586343",
   "environment_variables": {},
   "exception": null,
   "input_path": "DetermineDischargeStatus.ipynb",
   "output_path": "snapshots/DetermineDischargeStatus.ipynb",
   "parameters": {},
   "start_time": "2024-10-15T15:39:08.901433",
   "version": "2.6.0"
  },
  "toc": {
   "base_numbering": 1,
   "nav_menu": {},
   "number_sections": true,
   "sideBar": true,
   "skip_h1_title": false,
   "title_cell": "Table of Contents",
   "title_sidebar": "Contents",
   "toc_cell": false,
   "toc_position": {
    "height": "calc(100% - 180px)",
    "left": "10px",
    "top": "150px",
    "width": "409.6px"
   },
   "toc_section_display": true,
   "toc_window_display": true
  },
  "varInspector": {
   "cols": {
    "lenName": 16,
    "lenType": 16,
    "lenVar": 40
   },
   "kernels_config": {
    "python": {
     "delete_cmd_postfix": "",
     "delete_cmd_prefix": "del ",
     "library": "var_list.py",
     "varRefreshCmd": "print(var_dic_list())"
    },
    "r": {
     "delete_cmd_postfix": ") ",
     "delete_cmd_prefix": "rm(",
     "library": "var_list.r",
     "varRefreshCmd": "cat(var_dic_list()) "
    }
   },
   "types_to_exclude": [
    "module",
    "function",
    "builtin_function_or_method",
    "instance",
    "_Feature"
   ],
   "window_display": false
  }
 },
 "nbformat": 4,
 "nbformat_minor": 5
}