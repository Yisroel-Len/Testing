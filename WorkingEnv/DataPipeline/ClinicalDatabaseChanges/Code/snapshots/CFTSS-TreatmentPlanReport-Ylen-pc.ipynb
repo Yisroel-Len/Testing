{
 "cells": [
  {
   "cell_type": "code",
   "execution_count": 1,
   "id": "d8f8dff2",
   "metadata": {
    "ExecuteTime": {
     "end_time": "2023-06-19T17:12:04.693955Z",
     "start_time": "2023-06-19T17:12:03.745305Z"
    },
    "execution": {
     "iopub.execute_input": "2024-02-02T12:55:06.019214Z",
     "iopub.status.busy": "2024-02-02T12:55:06.019214Z",
     "iopub.status.idle": "2024-02-02T12:55:06.476705Z",
     "shell.execute_reply": "2024-02-02T12:55:06.476705Z"
    },
    "papermill": {
     "duration": 0.469429,
     "end_time": "2024-02-02T12:55:06.478650",
     "exception": false,
     "start_time": "2024-02-02T12:55:06.009221",
     "status": "completed"
    },
    "tags": []
   },
   "outputs": [],
   "source": [
    "import pandas as pd\n",
    "import numpy as np\n",
    "import pyodbc\n",
    "import time\n",
    "from datetime import datetime, timedelta\n",
    "from dateutil.relativedelta import relativedelta\n",
    "from datetime import date\n",
    "import tkinter as tk\n",
    "from tkinter.filedialog import askopenfilename\n",
    "import sqlite3"
   ]
  },
  {
   "cell_type": "code",
   "execution_count": 2,
   "id": "8523fff1",
   "metadata": {
    "execution": {
     "iopub.execute_input": "2024-02-02T12:55:06.492680Z",
     "iopub.status.busy": "2024-02-02T12:55:06.492680Z",
     "iopub.status.idle": "2024-02-02T12:55:06.762650Z",
     "shell.execute_reply": "2024-02-02T12:55:06.761777Z"
    },
    "papermill": {
     "duration": 0.279,
     "end_time": "2024-02-02T12:55:06.764680",
     "exception": false,
     "start_time": "2024-02-02T12:55:06.485680",
     "status": "completed"
    },
    "tags": []
   },
   "outputs": [],
   "source": [
    "conn = sqlite3.connect('../../InSyncConnection/Database/InSyncClinical.db')"
   ]
  },
  {
   "cell_type": "code",
   "execution_count": 3,
   "id": "ee5efcdb",
   "metadata": {
    "execution": {
     "iopub.execute_input": "2024-02-02T12:55:06.778679Z",
     "iopub.status.busy": "2024-02-02T12:55:06.778679Z",
     "iopub.status.idle": "2024-02-02T12:55:06.793683Z",
     "shell.execute_reply": "2024-02-02T12:55:06.792778Z"
    },
    "papermill": {
     "duration": 0.024036,
     "end_time": "2024-02-02T12:55:06.795683",
     "exception": false,
     "start_time": "2024-02-02T12:55:06.771647",
     "status": "completed"
    },
    "tags": []
   },
   "outputs": [],
   "source": [
    "import sys\n",
    "import logging\n",
    "path = \"..\\..\\InSyncConnection\\Code\\clinical_log.txt\"\n",
    "logging.basicConfig(filename=path,\n",
    "                    filemode='a',\n",
    "                    format='%(asctime)s,%(msecs)d,%(name)s,%(levelname)s,%(message)s',\n",
    "                    datefmt='%Y-%m-%d %H:%M:%S',\n",
    "                    level=logging.DEBUG)\n",
    "logger = logging.getLogger(\"CFTSS-TreatmentPlanReport\")"
   ]
  },
  {
   "cell_type": "markdown",
   "id": "0776aa02",
   "metadata": {
    "papermill": {
     "duration": 0.005999,
     "end_time": "2024-02-02T12:55:06.807679",
     "exception": false,
     "start_time": "2024-02-02T12:55:06.801680",
     "status": "completed"
    },
    "tags": []
   },
   "source": [
    "# Notes\n",
    "- Make sure that due dates are not calculated by time\n",
    "- If there are two initial treatment plans go by the second one.\n",
    "- Number of patients missing intial treatment plan should check if patient was seen recently rather than admitted"
   ]
  },
  {
   "cell_type": "code",
   "execution_count": 4,
   "id": "724d1dff",
   "metadata": {
    "execution": {
     "iopub.execute_input": "2024-02-02T12:55:06.821678Z",
     "iopub.status.busy": "2024-02-02T12:55:06.820658Z",
     "iopub.status.idle": "2024-02-02T12:55:07.075910Z",
     "shell.execute_reply": "2024-02-02T12:55:07.075037Z"
    },
    "papermill": {
     "duration": 0.263259,
     "end_time": "2024-02-02T12:55:07.077937",
     "exception": false,
     "start_time": "2024-02-02T12:55:06.814678",
     "status": "completed"
    },
    "tags": []
   },
   "outputs": [],
   "source": [
    "try:\n",
    "    sql='''\n",
    "    SELECT \n",
    "        ptPatient_Activity.*,\n",
    "        MRNNumber,\n",
    "        LastName || ', ' || FirstName as patient_fullName,\n",
    "        DOB,\n",
    "        FacilityName AS 'Primary Facility'\n",
    "    FROM \n",
    "        ptPatient_Activity\n",
    "        LEFT JOIN emr_PatientDetails ON (ptPatient_Activity.PatientID=emr_PatientDetails.PatientID)\n",
    "        LEFT JOIN emr_FacilitiesDetails ON (emr_PatientDetails._PrimaryFacility = emr_FacilitiesDetails.FacilityId)\n",
    "    '''\n",
    "    patientDetails = pd.read_sql(sql, conn)\n",
    "    patientDetails = patientDetails.replace(\"\", np.nan)\n",
    "    patientDetails['DOB'] =pd.to_datetime(patientDetails['DOB'])\n",
    "    logger.info(f\"Successfully queried ptPatient_Activity.\")\n",
    "except Exception as e:\n",
    "    logger.error(f\"Failed to query ptPatient_Activity.\", exc_info=True) "
   ]
  },
  {
   "cell_type": "code",
   "execution_count": 5,
   "id": "eb9789c8",
   "metadata": {
    "execution": {
     "iopub.execute_input": "2024-02-02T12:55:07.091907Z",
     "iopub.status.busy": "2024-02-02T12:55:07.091907Z",
     "iopub.status.idle": "2024-02-02T12:55:18.340860Z",
     "shell.execute_reply": "2024-02-02T12:55:18.339890Z"
    },
    "papermill": {
     "duration": 11.259951,
     "end_time": "2024-02-02T12:55:18.343892",
     "exception": false,
     "start_time": "2024-02-02T12:55:07.083941",
     "status": "completed"
    },
    "tags": []
   },
   "outputs": [],
   "source": [
    "try:\n",
    "    sql='''\n",
    "    SELECT \n",
    "        tblEncounterSummary.PatientId as PatientID,\n",
    "        tblEncounterSummary.EncounterID, \n",
    "        tblResourceDetails.FullName as ProviderName,\n",
    "        tblEncounter.EndDate,\n",
    "        VisitDateTime as EncounterDate,\n",
    "        EncounterEndDateTimeToolTip,\n",
    "        EncounterStartDateTimeToolTip,\n",
    "        FacilityName,\n",
    "        tblEncounterType.EncounterType,\n",
    "        EncounterOpenClosed,\n",
    "        ProgramName,\n",
    "        closedByLastName || ', ' || closedByFirstName AS closedByFullName\n",
    "    FROM \n",
    "        tblEncounterSummary\n",
    "        LEFT JOIN emr_FacilitiesDetails ON (tblEncounterSummary.FacilityId = emr_FacilitiesDetails.FacilityId)\n",
    "        LEFT JOIN tblEncounterEndDetails ON (tblEncounterSummary.EncounterID = tblEncounterEndDetails.EncounterID)\n",
    "        INNER JOIN tblEncounter ON (tblEncounterSummary.EncounterID = tblEncounter.EncounterID)\n",
    "        LEFT JOIN tblEncounterType ON (tblEncounterSummary.EncounterTypeID = tblEncounterType.EncounterTypeID)\n",
    "        LEFT JOIN tblResourceDetails ON (tblEncounterSummary.ProviderId = tblResourceDetails.ResourceId)\n",
    "    WHERE (tblEncounterType.EncounterType LIKE \"%treatment%\"\n",
    "        OR tblEncounterType.EncounterType LIKE \"%transfer%\"\n",
    "        OR tblEncounterType.EncounterType LIKE \"%admission%\"\n",
    "        OR tblEncounterType.EncounterType LIKE \"%discharge%\")\n",
    "        AND tblEncounterType.EncounterType LIKE \"%CFTSS%\"\n",
    "    '''\n",
    "    treatmentPlanEncounters = pd.read_sql(sql, conn)\n",
    "    treatmentPlanEncounters = treatmentPlanEncounters.replace(\"\", np.nan)\n",
    "    treatmentPlanEncounters['EncounterDate'] = pd.to_datetime(treatmentPlanEncounters['EncounterDate'])\n",
    "    treatmentPlanEncounters['EndDate'] = pd.to_datetime(treatmentPlanEncounters['EndDate'])\n",
    "    # Remove the word time: from column\n",
    "    treatmentPlanEncounters['EncounterStartDateTimeToolTip'] = treatmentPlanEncounters['EncounterStartDateTimeToolTip'].str.replace(\"Time: \", \"\")\n",
    "    treatmentPlanEncounters['EncounterEndDateTimeToolTip'] = treatmentPlanEncounters['EncounterEndDateTimeToolTip'].str.replace(\"Time: \", \"\")\n",
    "\n",
    "    treatmentPlanEncounters['EncounterStartDateTimeToolTip'] = pd.to_datetime(treatmentPlanEncounters['EncounterStartDateTimeToolTip'])\n",
    "    treatmentPlanEncounters['EncounterEndDateTimeToolTip'] = pd.to_datetime(treatmentPlanEncounters['EncounterEndDateTimeToolTip'])\n",
    "    logger.info(f\"Successfully queried treatment plan related info from tblEncounterSummary.\")\n",
    "except Exception as e:\n",
    "    logger.error(f\"Failed to query treatment plan related info from tblEncounterSummary.\", exc_info=True) "
   ]
  },
  {
   "cell_type": "markdown",
   "id": "0abd270c",
   "metadata": {
    "papermill": {
     "duration": 0.007022,
     "end_time": "2024-02-02T12:55:18.357890",
     "exception": false,
     "start_time": "2024-02-02T12:55:18.350868",
     "status": "completed"
    },
    "tags": []
   },
   "source": [
    "## Check Patients for Admission\n",
    "- For CFTSS a patient is classified as admitted if they had a billable session within "
   ]
  },
  {
   "cell_type": "code",
   "execution_count": 6,
   "id": "35bf4f1a",
   "metadata": {
    "execution": {
     "iopub.execute_input": "2024-02-02T12:55:18.374881Z",
     "iopub.status.busy": "2024-02-02T12:55:18.373876Z",
     "iopub.status.idle": "2024-02-02T12:55:19.995859Z",
     "shell.execute_reply": "2024-02-02T12:55:19.994986Z"
    },
    "papermill": {
     "duration": 1.633005,
     "end_time": "2024-02-02T12:55:19.997890",
     "exception": false,
     "start_time": "2024-02-02T12:55:18.364885",
     "status": "completed"
    },
    "tags": []
   },
   "outputs": [],
   "source": [
    "try:\n",
    "    sql = f'''\n",
    "    SELECT\n",
    "    PatientId as PatientID,\n",
    "    VisitDateTime\n",
    "    FROM \n",
    "        tblEncounterSummary\n",
    "    LEFT JOIN\n",
    "        tblEncounterType ON tblEncounterType.EncounterTypeID = tblEncounterSummary.EncounterTypeID\n",
    "    WHERE \n",
    "        ISBILLABLE LIKE \"%TRUE%\"\n",
    "        AND (tblEncounterType.EncounterType LIKE \"%CPST%\"\n",
    "        OR tblEncounterType.EncounterType LIKE \"%PSR%\"\n",
    "        OR tblEncounterType.EncounterType LIKE \"%OLP%\")\n",
    "        AND NOT tblEncounterType.EncounterType LIKE \"%Licensed Evaluation%\"\n",
    "    '''\n",
    "    acceptedPatients = pd.read_sql(sql,conn)\n",
    "    acceptedPatients['VisitDateTime'] = pd.to_datetime(acceptedPatients['VisitDateTime'])\n",
    "    acceptedPatients.sort_values('VisitDateTime', ascending=False, inplace=True)\n",
    "    acceptedPatients.drop_duplicates('PatientID', keep='first', inplace=True)\n",
    "    acceptedPatients['Admitted']=\"True\"\n",
    "    treatmentPlanEncounters= treatmentPlanEncounters.merge(acceptedPatients[['PatientID', 'Admitted']], on='PatientID', how='left')\n",
    "    treatmentPlanEncounters['Admitted'].fillna(\"False\", inplace=True)\n",
    "    logger.info(f\"Successfully queried admitted patients. Patient must have either an encounter type of psychotherapy or an initial eval 2.\")\n",
    "except Exception as e:\n",
    "    logger.error(f\"Failed to query admitted patients. Patient must have either an encounter type of psychotherapy or an initial eval 2.\", exc_info=True) "
   ]
  },
  {
   "cell_type": "code",
   "execution_count": 7,
   "id": "23fceb68",
   "metadata": {
    "execution": {
     "iopub.execute_input": "2024-02-02T12:55:20.011859Z",
     "iopub.status.busy": "2024-02-02T12:55:20.011859Z",
     "iopub.status.idle": "2024-02-02T12:55:20.043174Z",
     "shell.execute_reply": "2024-02-02T12:55:20.042329Z"
    },
    "papermill": {
     "duration": 0.041249,
     "end_time": "2024-02-02T12:55:20.045139",
     "exception": false,
     "start_time": "2024-02-02T12:55:20.003890",
     "status": "completed"
    },
    "tags": []
   },
   "outputs": [],
   "source": [
    "def find_missing_initial_treatment_plan(temp_df):\n",
    "    # if patient does not have initial treatment plan \n",
    "    # and first treatment plan review date is more than 6 months past our InSync onboarding \n",
    "    # and patient was admitted, \n",
    "    # return true otherwise return false\n",
    "    if \"CFTSS Initial Treatment Plan\" not in temp_df['EncounterType'].unique() and str(temp_df[temp_df['Summarized Encounter Type'] == 'Treatment Plan']['EncounterDate'].first_valid_index()) != 'None' and str(temp_df[temp_df['Admitted'] == 'True']['Admitted'].first_valid_index()) != 'None':\n",
    "        if temp_df.loc[temp_df[temp_df['Summarized Encounter Type'] == 'Treatment Plan']['EncounterDate'].first_valid_index(), 'EncounterDate'] > pd.Timestamp('1/20/2022'):\n",
    "            return True\n",
    "        else:\n",
    "            return False\n",
    "    else:\n",
    "        return False\n",
    "    \n",
    "def getDischargeInfo(is_ActiveInInSync, is_lastEncounterDischarge):\n",
    "    if is_ActiveInInSync and is_lastEncounterDischarge:\n",
    "        return \"\"\"Last encounter was discharge so Patient should probably be inactivated | \"\"\"    \n",
    "\n",
    "def filterAndSortToRelevantData(completeDataFrame, patientID):\n",
    "    singlePatient_df = completeDataFrame[completeDataFrame['PatientID'] == patientID].copy()\n",
    "    singlePatient_df = singlePatient_df[singlePatient_df['Summarized Encounter Type'].map(lambda encType: True if encType == 'Treatment Plan' or encType == 'Transfer Note' or encType == 'Discharge Note' else False)].copy()\n",
    "    singlePatient_df = singlePatient_df.sort_values(by=\"Review Date\", ascending=True)\n",
    "    singlePatient_df = singlePatient_df.reset_index(drop=True)\n",
    "    return singlePatient_df\n",
    "\n",
    "\n",
    "def isEmptyDataFrame(singlePatient_df):     \n",
    "    if singlePatient_df.shape[0] == 0:\n",
    "        return True\n",
    "    else:\n",
    "        return False\n",
    "    \n",
    "def isNeedingToBeInactivated(is_ActiveInInSync, is_lastEncounterDischarge):\n",
    "    if is_ActiveInInSync and is_lastEncounterDischarge:\n",
    "        return True  \n",
    "    else:\n",
    "        return False\n",
    "\n",
    "def isTransferNote(singlePatient_df, currentEncounterIndexNum):\n",
    "    if singlePatient_df[currentEncounterIndexNum, 'Summarized Encounter Type'] == 'Transfer Note':\n",
    "        return True\n",
    "    else:\n",
    "        return False\n",
    "\n",
    "def hasNextPlan(singlePatient_df, currentEncounterIndexNum):\n",
    "    # and see if there are any treatment plans after current treatment plan\n",
    "    currentTreatmentPlanDate = singlePatient_df.loc[currentEncounterIndexNum, 'EncounterDate']\n",
    "    if 'Treatment Plan' in singlePatient_df[singlePatient_df['EncounterDate'] > currentTreatmentPlanDate][\"Summarized Encounter Type\"].unique():\n",
    "        return True\n",
    "    else:\n",
    "        return False\n",
    "\n",
    "def getLocationOfNextPlan(singlePatient_df, currentEncounterIndexNum):\n",
    "    currentTreatmentPlanDate = singlePatient_df.loc[currentEncounterIndexNum, 'EncounterDate']\n",
    "    nextPlanLocation = singlePatient_df[(singlePatient_df['EncounterDate'] > currentTreatmentPlanDate) & (singlePatient_df[\"Summarized Encounter Type\"] == 'Treatment Plan') ].index[0]\n",
    "    return nextPlanLocation\n",
    "\n",
    "def isTransferedNext(singlePatient_df, currentEncounterIndexNum, hasNextPlan, nextPlanLocation=None):\n",
    "    currentTreatmentPlanDate = singlePatient_df.loc[currentEncounterIndexNum, 'EncounterDate']\n",
    "    if hasNextPlan:\n",
    "        # see if there are any transfer notes between current plan and next plan\n",
    "        nextTreatmentPlanDate =  singlePatient_df.loc[nextPlanLocation, 'EncounterDate']\n",
    "        if 'Transfer Note' in singlePatient_df[(singlePatient_df['EncounterDate'] > currentTreatmentPlanDate) & ((singlePatient_df['EncounterDate'] < nextTreatmentPlanDate))][\"Summarized Encounter Type\"].unique():\n",
    "            return True\n",
    "        else:\n",
    "            return False\n",
    "    else:\n",
    "        if 'Transfer Note' in singlePatient_df[singlePatient_df['EncounterDate'] >= currentTreatmentPlanDate][\"Summarized Encounter Type\"].unique():\n",
    "            return True\n",
    "        else:\n",
    "            return False\n",
    "    \n",
    "def isDischargedNext(singlePatient_df, currentEncounterIndexNum, hasNextPlan, nextPlanLocation=None):\n",
    "    currentTreatmentPlanDate = singlePatient_df.loc[currentEncounterIndexNum, 'EncounterDate']\n",
    "    if hasNextPlan: # see if there are any transfer notes between current plan and next plan\n",
    "        nextTreatmentPlanDate =  singlePatient_df.loc[nextPlanLocation, 'EncounterDate']\n",
    "        if 'Discharge Note' in singlePatient_df[(singlePatient_df['EncounterDate'] >= currentTreatmentPlanDate) & \n",
    "                                           ((singlePatient_df['EncounterDate'] < nextTreatmentPlanDate))][\"Summarized Encounter Type\"].unique():\n",
    "            return True\n",
    "        else:\n",
    "            return False\n",
    "    else: # see if there is a \n",
    "        if 'Discharge Note' in singlePatient_df[singlePatient_df['EncounterDate'] >= currentTreatmentPlanDate][\"Summarized Encounter Type\"].unique():\n",
    "            return True\n",
    "        else:\n",
    "            return False    \n",
    "    \n",
    "def isNextPlanClosedLate(singlePatient_df, currentEncounterIndexNum, hasNextPlan, nextPlanLocation):\n",
    "    if singlePatient_df.loc[nextPlanLocation, \"EndDate\"]!= pd.NaT and singlePatient_df.loc[nextPlanLocation, \"EndDate\"] > singlePatient_df.loc[currentEncounterIndexNum, \"Review Date\"]:\n",
    "        return True\n",
    "    else:\n",
    "        return False\n",
    "\n",
    "def isCurrentPlanSigned(singlePatient_df, currentEncounterIndexNum):\n",
    "    if str(singlePatient_df.loc[currentEncounterIndexNum, \"closedByFullName\"]) =='None':\n",
    "        return False\n",
    "    else:\n",
    "        return True\n",
    "\n",
    "def getDaysAfterTransfer(singlePatient_df, currentEncounterIndexNum, hasNextPlan, nextPlanLocation=None):\n",
    "    currentTreatmentPlanDate = singlePatient_df.loc[currentEncounterIndexNum, 'EncounterDate']\n",
    "    if hasNextPlan:\n",
    "        nextTreatmentPlanDate =  singlePatient_df.loc[nextPlanLocation, 'EncounterDate']\n",
    "        return (nextTreatmentPlanDate-singlePatient_df.loc[currentEncounterIndexNum, \"EncounterDate\"]).days\n",
    "    else:\n",
    "        daysAfterTransfer = (datetime.now()-currentTreatmentPlanDate).days\n",
    "        return daysAfterTransfer"
   ]
  },
  {
   "cell_type": "code",
   "execution_count": 8,
   "id": "b0f77077",
   "metadata": {
    "execution": {
     "iopub.execute_input": "2024-02-02T12:55:20.060139Z",
     "iopub.status.busy": "2024-02-02T12:55:20.060139Z",
     "iopub.status.idle": "2024-02-02T12:55:20.089465Z",
     "shell.execute_reply": "2024-02-02T12:55:20.088607Z"
    },
    "papermill": {
     "duration": 0.039333,
     "end_time": "2024-02-02T12:55:20.091472",
     "exception": false,
     "start_time": "2024-02-02T12:55:20.052139",
     "status": "completed"
    },
    "tags": []
   },
   "outputs": [],
   "source": [
    "try:\n",
    "    relevantInfodf = treatmentPlanEncounters.merge(patientDetails, how='left', on='PatientID')\n",
    "    relevantInfodf = relevantInfodf[relevantInfodf['MRNNumber'].notnull()].copy()\n",
    "    logger.info(f\"Successfully merged patient details with treatment plan info.\")\n",
    "except Exception as e:\n",
    "    logger.error(f\"Failed to merge patient details with treatment plan info.\", exc_info=True) "
   ]
  },
  {
   "cell_type": "markdown",
   "id": "8d9ef5b0",
   "metadata": {
    "papermill": {
     "duration": 0.007997,
     "end_time": "2024-02-02T12:55:20.107469",
     "exception": false,
     "start_time": "2024-02-02T12:55:20.099472",
     "status": "completed"
    },
    "tags": []
   },
   "source": [
    "## Calculate Review Date"
   ]
  },
  {
   "cell_type": "code",
   "execution_count": 9,
   "id": "b40ef12e",
   "metadata": {
    "execution": {
     "iopub.execute_input": "2024-02-02T12:55:20.122439Z",
     "iopub.status.busy": "2024-02-02T12:55:20.122439Z",
     "iopub.status.idle": "2024-02-02T12:55:20.293503Z",
     "shell.execute_reply": "2024-02-02T12:55:20.292635Z"
    },
    "papermill": {
     "duration": 0.181074,
     "end_time": "2024-02-02T12:55:20.295543",
     "exception": false,
     "start_time": "2024-02-02T12:55:20.114469",
     "status": "completed"
    },
    "tags": []
   },
   "outputs": [],
   "source": [
    "try:\n",
    "    relevantInfodf['Summarized Encounter Type'] = relevantInfodf['EncounterType'].map(lambda type: \n",
    "                                                              \"Treatment Plan\" if \"treatment\" in type.lower() else \n",
    "                                                               (\"Initial Eval\" if 'evaluation' in type.lower() else \n",
    "                                                                (\"Transfer Note\" if 'transfer' in type.lower() else \n",
    "                                                                 (\"Discharge Note\" if 'discharge' in type.lower() else \"Something else\"))))\n",
    "    relevantInfodf['Review Date'] = relevantInfodf.apply(lambda row: row['EncounterDate'] + relativedelta(months=+6) - timedelta(days=1), axis=1)\n",
    "    relevantInfodf['Days to Review Date'] = relevantInfodf['Review Date'].map(lambda reviewDate:  reviewDate.date()) - date.today()\n",
    "    logger.info(f\"Successfully calculated review date.\")\n",
    "except Exception as e:\n",
    "    logger.error(f\"Failed to calculate review date.\", exc_info=True) "
   ]
  },
  {
   "cell_type": "markdown",
   "id": "c19256ec",
   "metadata": {
    "papermill": {
     "duration": 0.005996,
     "end_time": "2024-02-02T12:55:20.307533",
     "exception": false,
     "start_time": "2024-02-02T12:55:20.301537",
     "status": "completed"
    },
    "tags": []
   },
   "source": [
    "## Determine Treatment Plan Status"
   ]
  },
  {
   "cell_type": "code",
   "execution_count": 10,
   "id": "563e5f03",
   "metadata": {
    "execution": {
     "iopub.execute_input": "2024-02-02T12:55:20.321502Z",
     "iopub.status.busy": "2024-02-02T12:55:20.320532Z",
     "iopub.status.idle": "2024-02-02T12:55:55.078675Z",
     "shell.execute_reply": "2024-02-02T12:55:55.077803Z"
    },
    "papermill": {
     "duration": 34.767174,
     "end_time": "2024-02-02T12:55:55.080677",
     "exception": false,
     "start_time": "2024-02-02T12:55:20.313503",
     "status": "completed"
    },
    "scrolled": true,
    "tags": []
   },
   "outputs": [
    {
     "name": "stderr",
     "output_type": "stream",
     "text": [
      "C:\\Users\\ylen\\AppData\\Local\\Temp\\ipykernel_1880\\3867921235.py:12: FutureWarning: In a future version, object-dtype columns with all-bool values will not be included in reductions with bool_only=True. Explicitly cast to bool dtype instead.\n",
      "  allPatientDf = pd.concat([allPatientDf,emptySinglePatient_df])\n"
     ]
    }
   ],
   "source": [
    "try:\n",
    "    allPatientDf = pd.DataFrame()\n",
    "    for patientID in relevantInfodf['PatientID'].unique()[0:]:\n",
    "        singlePatient_df = filterAndSortToRelevantData(completeDataFrame=relevantInfodf, patientID=patientID)\n",
    "        if isEmptyDataFrame(singlePatient_df): #if patient has initial eval with no initial treatment plan\n",
    "            emptySinglePatient_df = relevantInfodf[(relevantInfodf['PatientID'] == patientID)].copy()\n",
    "\n",
    "            missingInitialTreatmentPlan = f\"Missing Initial Treatment Plan\"\n",
    "            emptySinglePatient_df[\"missingInitialTreatmentPlan\"] = find_missing_initial_treatment_plan(singlePatient_df)\n",
    "            emptySinglePatient_df[\"treatmentPlanStatus\"] = missingInitialTreatmentPlan\n",
    "\n",
    "            allPatientDf = pd.concat([allPatientDf,emptySinglePatient_df])\n",
    "            continue\n",
    "        else:\n",
    "            patientOverallStatus = \"\"\n",
    "\n",
    "            missingInitialTreatmentPlan = find_missing_initial_treatment_plan(singlePatient_df)\n",
    "            singlePatient_df['missingInitialTreatmentPlan'] = missingInitialTreatmentPlan        \n",
    "            singlePatient_df[\"treatmentPlanStatus\"] = missingInitialTreatmentPlan\n",
    "\n",
    "            is_ActiveInInSync = singlePatient_df.loc[0, 'is_ActiveInInSync']\n",
    "            is_lastEncounterDischarge = singlePatient_df.loc[0, 'is_lastEncounterDischarge']\n",
    "\n",
    "            is_NeedToBeInactivated = isNeedingToBeInactivated(is_ActiveInInSync, is_lastEncounterDischarge)\n",
    "            singlePatient_df['is_NeedToBeInactivated'] = is_NeedToBeInactivated\n",
    "\n",
    "            for currentEncounterIndexNum in range(singlePatient_df.shape[0]):\n",
    "                treatmentPlanStatus = patientOverallStatus\n",
    "                currentEncounterType = singlePatient_df.loc[currentEncounterIndexNum, 'Summarized Encounter Type']\n",
    "                daysToReviewDate = singlePatient_df.loc[currentEncounterIndexNum, 'Days to Review Date'].days\n",
    "\n",
    "                has_NextPlan = hasNextPlan(singlePatient_df, currentEncounterIndexNum)\n",
    "                singlePatient_df.loc[currentEncounterIndexNum, \"has_NextPlan\"] = has_NextPlan\n",
    "\n",
    "                is_CurrentPlanSigned = isCurrentPlanSigned(singlePatient_df, currentEncounterIndexNum)\n",
    "                singlePatient_df.loc[currentEncounterIndexNum, \"is_CurrentPlanSigned\"] = is_CurrentPlanSigned\n",
    "\n",
    "                if not is_CurrentPlanSigned:\n",
    "                    treatmentPlanStatus += \"Plan Still needs to be signed | \"       \n",
    "\n",
    "                if is_NeedToBeInactivated:\n",
    "                    treatmentPlanStatus += \"Last encounter was discharge so Patient should probably be inactivated | \"\n",
    "                if has_NextPlan:\n",
    "                    next_PlanLocation = getLocationOfNextPlan(singlePatient_df, currentEncounterIndexNum)\n",
    "                    singlePatient_df.loc[currentEncounterIndexNum, \"next_PlanLocation\"] = next_PlanLocation\n",
    "\n",
    "                    is_TransferedNext = isTransferedNext(singlePatient_df, currentEncounterIndexNum, has_NextPlan, next_PlanLocation)\n",
    "                    singlePatient_df.loc[currentEncounterIndexNum, \"is_TransferedNext\"] = is_TransferedNext\n",
    "\n",
    "                    is_DischargedNext = isDischargedNext(singlePatient_df, currentEncounterIndexNum, has_NextPlan, next_PlanLocation)\n",
    "                    singlePatient_df.loc[currentEncounterIndexNum, \"is_DischargedNext\"] = is_DischargedNext\n",
    "                    if (is_TransferedNext and not is_DischargedNext) and is_CurrentPlanSigned and has_NextPlan:\n",
    "                        get_DaysAfterTransfer = getDaysAfterTransfer(singlePatient_df, currentEncounterIndexNum, has_NextPlan, next_PlanLocation)\n",
    "                        treatmentPlanStatus += f\"Old Plan is Good | Patient was Transfered and they completed the follow up plan {get_DaysAfterTransfer} days after.\"\n",
    "                    elif (is_DischargedNext and not is_TransferedNext) and is_CurrentPlanSigned and has_NextPlan:\n",
    "                        treatmentPlanStatus += f\"Patient was Discharged\"\n",
    "                    elif not is_TransferedNext and not is_DischargedNext and is_CurrentPlanSigned and has_NextPlan:\n",
    "                        treatmentPlanStatus += \"Everything Seems Good\"\n",
    "\n",
    "                    is_NextPlanClosedLate = isNextPlanClosedLate(singlePatient_df, currentEncounterIndexNum, has_NextPlan, next_PlanLocation)\n",
    "                    singlePatient_df.loc[currentEncounterIndexNum, \"is_NextPlanClosedLate\"] = is_NextPlanClosedLate\n",
    "\n",
    "                else: # if there is no next plan \n",
    "                    is_TransferedNext = isTransferedNext(singlePatient_df, currentEncounterIndexNum, has_NextPlan)\n",
    "                    singlePatient_df.loc[currentEncounterIndexNum, \"is_TransferedNext\"] = is_TransferedNext\n",
    "\n",
    "                    is_DischargedNext = isDischargedNext(singlePatient_df, currentEncounterIndexNum, has_NextPlan)\n",
    "                    singlePatient_df.loc[currentEncounterIndexNum, \"is_DischargedNext\"] = is_DischargedNext\n",
    "\n",
    "                    if not is_TransferedNext and not is_DischargedNext and daysToReviewDate > 0:\n",
    "                        treatmentPlanStatus += f\"Everything Seems Good. Still have {daysToReviewDate} days left.\"\n",
    "                    elif not is_TransferedNext and not is_DischargedNext and daysToReviewDate < 0:\n",
    "                        treatmentPlanStatus += f\"Plan is {np.absolute(daysToReviewDate)} days overdue.\"\n",
    "                    elif is_TransferedNext and not is_DischargedNext:\n",
    "                        daysAfterTransfer = getDaysAfterTransfer(singlePatient_df, currentEncounterIndexNum, has_NextPlan)\n",
    "                        if daysAfterTransfer > 30 and currentEncounterType == \"Transfer Note\":\n",
    "                            treatmentPlanStatus += f\"Patient Transfered. Plan is {daysAfterTransfer-30} days overdue.\"\n",
    "                        elif daysAfterTransfer > 30:\n",
    "                            treatmentPlanStatus += f\"Patient Transfered.\"\n",
    "                        else:\n",
    "                            treatmentPlanStatus += f\"Patient Transfered. Plan is due in {30 - daysAfterTransfer} days.\"\n",
    "                    elif (is_DischargedNext and not is_TransferedNext):\n",
    "                        treatmentPlanStatus += f\"Patient was Discharged\"   \n",
    "                singlePatient_df.loc[currentEncounterIndexNum, \"treatmentPlanStatus\"] = treatmentPlanStatus  \n",
    "            allPatientDf = pd.concat([allPatientDf,singlePatient_df])\n",
    "    logger.info(f\"Successfully built all patients treatment plan details.\")\n",
    "except Exception as e:\n",
    "    logger.error(f\"Failed to build all patients treatment plan details.\", exc_info=True) "
   ]
  },
  {
   "cell_type": "code",
   "execution_count": 11,
   "id": "0232539c",
   "metadata": {
    "execution": {
     "iopub.execute_input": "2024-02-02T12:55:55.094705Z",
     "iopub.status.busy": "2024-02-02T12:55:55.094705Z",
     "iopub.status.idle": "2024-02-02T12:55:55.109683Z",
     "shell.execute_reply": "2024-02-02T12:55:55.108812Z"
    },
    "papermill": {
     "duration": 0.024026,
     "end_time": "2024-02-02T12:55:55.111705",
     "exception": false,
     "start_time": "2024-02-02T12:55:55.087679",
     "status": "completed"
    },
    "tags": []
   },
   "outputs": [],
   "source": [
    "allPatientDf[[\"has_NextPlan\", \n",
    "              \"is_CurrentPlanSigned\",\n",
    "              \"next_PlanLocation\",\n",
    "              \"is_TransferedNext\",\n",
    "              \"is_DischargedNext\",\n",
    "              \"is_NextPlanClosedLate\"]] = allPatientDf[[\"has_NextPlan\", \n",
    "                                                        \"is_CurrentPlanSigned\",\n",
    "                                                        \"next_PlanLocation\",\n",
    "                                                        \"is_TransferedNext\",\n",
    "                                                        \"is_DischargedNext\",\n",
    "                                                        \"is_NextPlanClosedLate\"]].fillna(False)   "
   ]
  },
  {
   "cell_type": "code",
   "execution_count": 12,
   "id": "f2963f1b",
   "metadata": {
    "execution": {
     "iopub.execute_input": "2024-02-02T12:55:55.125757Z",
     "iopub.status.busy": "2024-02-02T12:55:55.125757Z",
     "iopub.status.idle": "2024-02-02T12:55:55.144161Z",
     "shell.execute_reply": "2024-02-02T12:55:55.140078Z"
    },
    "papermill": {
     "duration": 0.032404,
     "end_time": "2024-02-02T12:55:55.151154",
     "exception": false,
     "start_time": "2024-02-02T12:55:55.118750",
     "status": "completed"
    },
    "scrolled": true,
    "tags": []
   },
   "outputs": [
    {
     "data": {
      "text/plain": [
       "'Everything Seems Good'"
      ]
     },
     "execution_count": 12,
     "metadata": {},
     "output_type": "execute_result"
    }
   ],
   "source": [
    "list(allPatientDf['treatmentPlanStatus'])[2]"
   ]
  },
  {
   "cell_type": "code",
   "execution_count": 13,
   "id": "5939f5c6",
   "metadata": {
    "execution": {
     "iopub.execute_input": "2024-02-02T12:55:55.184136Z",
     "iopub.status.busy": "2024-02-02T12:55:55.184136Z",
     "iopub.status.idle": "2024-02-02T12:55:55.204144Z",
     "shell.execute_reply": "2024-02-02T12:55:55.202211Z"
    },
    "papermill": {
     "duration": 0.036008,
     "end_time": "2024-02-02T12:55:55.208146",
     "exception": false,
     "start_time": "2024-02-02T12:55:55.172138",
     "status": "completed"
    },
    "tags": []
   },
   "outputs": [],
   "source": [
    "# for column in allPatientDf.columns:\n",
    "#     print(column)"
   ]
  },
  {
   "cell_type": "code",
   "execution_count": 14,
   "id": "05f47df7",
   "metadata": {
    "execution": {
     "iopub.execute_input": "2024-02-02T12:55:55.231133Z",
     "iopub.status.busy": "2024-02-02T12:55:55.231133Z",
     "iopub.status.idle": "2024-02-02T12:55:55.253155Z",
     "shell.execute_reply": "2024-02-02T12:55:55.249176Z"
    },
    "papermill": {
     "duration": 0.039018,
     "end_time": "2024-02-02T12:55:55.260154",
     "exception": false,
     "start_time": "2024-02-02T12:55:55.221136",
     "status": "completed"
    },
    "tags": []
   },
   "outputs": [],
   "source": [
    "try:\n",
    "    allPatientDf['is_TreatmentPlanGood'] = allPatientDf['treatmentPlanStatus'].map(lambda status: True if 'Everything Seems Good' in str(status) else False)\n",
    "    allPatientDf['is_TreatmentPlanOverdue'] = allPatientDf['treatmentPlanStatus'].map(lambda status: True if 'overdue' in str(status).lower() else False)\n",
    "    logger.info(f\"Successfully marked treatment plans that are all good.\")\n",
    "except Exception as e:\n",
    "    logger.error(f\"Failed to mark treatment plans that are all good.\", exc_info=True) "
   ]
  },
  {
   "cell_type": "code",
   "execution_count": 15,
   "id": "fd3d3e69",
   "metadata": {
    "execution": {
     "iopub.execute_input": "2024-02-02T12:55:55.295136Z",
     "iopub.status.busy": "2024-02-02T12:55:55.295136Z",
     "iopub.status.idle": "2024-02-02T12:55:55.316149Z",
     "shell.execute_reply": "2024-02-02T12:55:55.313200Z"
    },
    "papermill": {
     "duration": 0.038014,
     "end_time": "2024-02-02T12:55:55.321150",
     "exception": false,
     "start_time": "2024-02-02T12:55:55.283136",
     "status": "completed"
    },
    "tags": []
   },
   "outputs": [],
   "source": [
    "allPatientDf['treatmentPlanStatus'] = allPatientDf['treatmentPlanStatus'] + \"| \" + allPatientDf['seen_Recently']"
   ]
  },
  {
   "cell_type": "code",
   "execution_count": 16,
   "id": "056ab9cd",
   "metadata": {
    "execution": {
     "iopub.execute_input": "2024-02-02T12:55:55.341128Z",
     "iopub.status.busy": "2024-02-02T12:55:55.341128Z",
     "iopub.status.idle": "2024-02-02T12:55:55.345153Z",
     "shell.execute_reply": "2024-02-02T12:55:55.345153Z"
    },
    "papermill": {
     "duration": 0.012962,
     "end_time": "2024-02-02T12:55:55.347132",
     "exception": false,
     "start_time": "2024-02-02T12:55:55.334170",
     "status": "completed"
    },
    "tags": []
   },
   "outputs": [],
   "source": [
    "# final_df[final_df['PatientID']==622214]\n",
    "# final_df[final_df['PatientID']==622741]"
   ]
  },
  {
   "cell_type": "code",
   "execution_count": 17,
   "id": "b291620e",
   "metadata": {
    "execution": {
     "iopub.execute_input": "2024-02-02T12:55:55.361133Z",
     "iopub.status.busy": "2024-02-02T12:55:55.361133Z",
     "iopub.status.idle": "2024-02-02T12:55:55.379141Z",
     "shell.execute_reply": "2024-02-02T12:55:55.377210Z"
    },
    "papermill": {
     "duration": 0.030008,
     "end_time": "2024-02-02T12:55:55.383141",
     "exception": false,
     "start_time": "2024-02-02T12:55:55.353133",
     "status": "completed"
    },
    "scrolled": true,
    "tags": []
   },
   "outputs": [],
   "source": [
    "# final_df[final_df['allTheInfoYouEverWanted'].map(lambda x: True if \"Closed After Due Date\" in x else False) ].groupby('ProviderName')['EncounterId'].count().sort_values(ascending=False).head(20)"
   ]
  },
  {
   "cell_type": "code",
   "execution_count": 18,
   "id": "1c2958f1",
   "metadata": {
    "execution": {
     "iopub.execute_input": "2024-02-02T12:55:55.406134Z",
     "iopub.status.busy": "2024-02-02T12:55:55.406134Z",
     "iopub.status.idle": "2024-02-02T12:55:55.409164Z",
     "shell.execute_reply": "2024-02-02T12:55:55.409164Z"
    },
    "papermill": {
     "duration": 0.014999,
     "end_time": "2024-02-02T12:55:55.411132",
     "exception": false,
     "start_time": "2024-02-02T12:55:55.396133",
     "status": "completed"
    },
    "tags": []
   },
   "outputs": [],
   "source": [
    "# final_df[final_df['allTheInfoYouEverWanted']==\"\"]"
   ]
  },
  {
   "cell_type": "code",
   "execution_count": 19,
   "id": "f6881a40",
   "metadata": {
    "execution": {
     "iopub.execute_input": "2024-02-02T12:55:55.425132Z",
     "iopub.status.busy": "2024-02-02T12:55:55.425132Z",
     "iopub.status.idle": "2024-02-02T12:55:55.444169Z",
     "shell.execute_reply": "2024-02-02T12:55:55.441161Z"
    },
    "papermill": {
     "duration": 0.035021,
     "end_time": "2024-02-02T12:55:55.452154",
     "exception": false,
     "start_time": "2024-02-02T12:55:55.417133",
     "status": "completed"
    },
    "tags": []
   },
   "outputs": [],
   "source": [
    "# Change to integer so SQL can recognize it\n",
    "allPatientDf['Days to Review Date'] = allPatientDf['Days to Review Date'].dt.days"
   ]
  },
  {
   "cell_type": "code",
   "execution_count": 20,
   "id": "8956239a",
   "metadata": {
    "execution": {
     "iopub.execute_input": "2024-02-02T12:55:55.482135Z",
     "iopub.status.busy": "2024-02-02T12:55:55.482135Z",
     "iopub.status.idle": "2024-02-02T12:55:55.508170Z",
     "shell.execute_reply": "2024-02-02T12:55:55.505164Z"
    },
    "papermill": {
     "duration": 0.045047,
     "end_time": "2024-02-02T12:55:55.516155",
     "exception": false,
     "start_time": "2024-02-02T12:55:55.471108",
     "status": "completed"
    },
    "tags": []
   },
   "outputs": [],
   "source": [
    "# filter to useful columns\n",
    "allPatientDf = allPatientDf[[\"EncounterId\",\n",
    "                            \"MRNNumber\",\n",
    "                            \"DOB\",\n",
    "                            \"PatientID\",\n",
    "                            \"ProviderName\",\n",
    "                            \"patient_fullName\",\n",
    "                            \"FacilityName\",\n",
    "                            \"Summarized Encounter Type\",\n",
    "                            \"EncounterDate\",\n",
    "                            \"EncounterEndDateTimeToolTip\",\n",
    "                            \"EncounterStartDateTimeToolTip\",\n",
    "                            \"EncounterType\",\n",
    "                            \"EncounterOpenClosed\",\n",
    "                            \"ProgramName\",\n",
    "                            \"closedByFullName\",\n",
    "                            \"finalEncounterType\",\n",
    "                            \"finalEncounterDate\",\n",
    "                            \"is_ActiveInInSync\",\n",
    "                            \"is_lastEncounterDischarge\",\n",
    "                            \"lastBillable_EncounterType\",\n",
    "                            \"lastBillable_EncounterDate\",\n",
    "                            \"lastBillable_ProgramName\",\n",
    "                            \"lastBillable_FacilityName\",\n",
    "                            \"seen_Recently\",\n",
    "                            \"Review Date\",\n",
    "                            \"Days to Review Date\",\n",
    "                            \"is_NeedToBeInactivated\",\n",
    "                            \"has_NextPlan\",\n",
    "                            \"is_CurrentPlanSigned\",\n",
    "                            \"next_PlanLocation\",\n",
    "                            \"is_TransferedNext\",\n",
    "                            \"is_DischargedNext\",\n",
    "                            \"is_NextPlanClosedLate\",\n",
    "                            \"treatmentPlanStatus\",\n",
    "                            \"missingInitialTreatmentPlan\",\n",
    "                            \"is_TreatmentPlanGood\",\n",
    "                            \"is_TreatmentPlanOverdue\",\n",
    "                            \"Admitted\"]]"
   ]
  },
  {
   "cell_type": "markdown",
   "id": "4fa29770",
   "metadata": {
    "papermill": {
     "duration": 0.010004,
     "end_time": "2024-02-02T12:55:55.545140",
     "exception": false,
     "start_time": "2024-02-02T12:55:55.535136",
     "status": "completed"
    },
    "tags": []
   },
   "source": [
    "## For Presenting\n",
    "- Replace all names with random ones for presenting"
   ]
  },
  {
   "cell_type": "code",
   "execution_count": 21,
   "id": "2044b078",
   "metadata": {
    "execution": {
     "iopub.execute_input": "2024-02-02T12:55:55.561134Z",
     "iopub.status.busy": "2024-02-02T12:55:55.561134Z",
     "iopub.status.idle": "2024-02-02T12:55:55.569135Z",
     "shell.execute_reply": "2024-02-02T12:55:55.569135Z"
    },
    "papermill": {
     "duration": 0.017999,
     "end_time": "2024-02-02T12:55:55.571133",
     "exception": false,
     "start_time": "2024-02-02T12:55:55.553134",
     "status": "completed"
    },
    "tags": []
   },
   "outputs": [],
   "source": [
    "# randomNames = pd.read_excel('../data/Random Names.xlsx')\n",
    "\n",
    "# final_df['patient_fullName'] = final_df['patient_fullName'].map(lambda name: list(randomNames['Names'].sample(1))[0])\n",
    "# final_df['ProviderName'] = final_df['ProviderName'].map(lambda name: list(final_df['ProviderName'].sample(1))[0])"
   ]
  },
  {
   "cell_type": "code",
   "execution_count": 22,
   "id": "e701778c",
   "metadata": {
    "execution": {
     "iopub.execute_input": "2024-02-02T12:55:55.586139Z",
     "iopub.status.busy": "2024-02-02T12:55:55.586139Z",
     "iopub.status.idle": "2024-02-02T12:55:55.604152Z",
     "shell.execute_reply": "2024-02-02T12:55:55.601173Z"
    },
    "papermill": {
     "duration": 0.031017,
     "end_time": "2024-02-02T12:55:55.609150",
     "exception": false,
     "start_time": "2024-02-02T12:55:55.578133",
     "status": "completed"
    },
    "tags": []
   },
   "outputs": [
    {
     "data": {
      "text/plain": [
       "'EncounterId INTEGER, MRNNumber TEXT, DOB TEXT, PatientID INTEGER, ProviderName TEXT, patient_fullName TEXT, FacilityName TEXT, Summarized_Encounter_Type TEXT, EncounterDate TEXT, EncounterEndDateTimeToolTip TEXT, EncounterStartDateTimeToolTip TEXT, EncounterType TEXT, EncounterOpenClosed TEXT, ProgramName TEXT, closedByFullName TEXT, finalEncounterType TEXT, finalEncounterDate TEXT, is_ActiveInInSync INTEGER, is_lastEncounterDischarge INTEGER, lastBillable_EncounterType TEXT, lastBillable_EncounterDate TEXT, lastBillable_ProgramName TEXT, lastBillable_FacilityName TEXT, seen_Recently TEXT, Review_Date TEXT, Days_to_Review_Date INTEGER, is_NeedToBeInactivated TEXT, has_NextPlan TEXT, is_CurrentPlanSigned TEXT, next_PlanLocation TEXT, is_TransferedNext TEXT, is_DischargedNext TEXT, is_NextPlanClosedLate TEXT, treatmentPlanStatus TEXT, missingInitialTreatmentPlan TEXT, is_TreatmentPlanGood TEXT, is_TreatmentPlanOverdue TEXT, Admitted TEXT'"
      ]
     },
     "execution_count": 22,
     "metadata": {},
     "output_type": "execute_result"
    }
   ],
   "source": [
    "# use to transform data into\n",
    "query = \", \".join([item.replace(\" \", \"_\") + \" \" + str(allPatientDf[item].dtype) for item in allPatientDf.columns])\n",
    "query = query.replace(\"object\", \"TEXT\")\n",
    "query = query.replace(\"datetime64[ns]\", \"TEXT\")\n",
    "query = query.replace(\"timedelta64[ns]\", \"TEXT\")\n",
    "query = query.replace(\"float64\", \"INTEGER\")\n",
    "query = query.replace(\"int64\", \"INTEGER\")\n",
    "query = query.replace(\"bool\", \"TEXT\")\n",
    "query"
   ]
  },
  {
   "cell_type": "code",
   "execution_count": 23,
   "id": "061a238a",
   "metadata": {
    "execution": {
     "iopub.execute_input": "2024-02-02T12:55:55.634137Z",
     "iopub.status.busy": "2024-02-02T12:55:55.634137Z",
     "iopub.status.idle": "2024-02-02T12:55:55.855196Z",
     "shell.execute_reply": "2024-02-02T12:55:55.855196Z"
    },
    "papermill": {
     "duration": 0.234081,
     "end_time": "2024-02-02T12:55:55.857219",
     "exception": false,
     "start_time": "2024-02-02T12:55:55.623138",
     "status": "completed"
    },
    "tags": []
   },
   "outputs": [],
   "source": [
    "table_name= \"ptTreatmentPlanDuenessSummaryCFTSS\"\n",
    "try:\n",
    "    c = conn.cursor()\n",
    "    c.execute(f'''CREATE TABLE IF NOT EXISTS {table_name} ({query}) ''')\n",
    "    conn.commit()\n",
    "    allPatientDf.to_sql(\"ptTreatmentPlanDuenessSummaryCFTSS\", conn, if_exists='replace', index = False)\n",
    "    logger.info(f\"Successfully pushed ptTreatmentPlanDuenessSummaryCFTSS to database.\")\n",
    "except Exception as e:\n",
    "    logger.error(f\"Failed to push ptTreatmentPlanDuenessSummaryCFTSS to database.\", exc_info=True) \n",
    "    print(e)"
   ]
  },
  {
   "cell_type": "code",
   "execution_count": 24,
   "id": "7b94636b",
   "metadata": {
    "execution": {
     "iopub.execute_input": "2024-02-02T12:55:55.872188Z",
     "iopub.status.busy": "2024-02-02T12:55:55.871189Z",
     "iopub.status.idle": "2024-02-02T12:55:55.887189Z",
     "shell.execute_reply": "2024-02-02T12:55:55.886317Z"
    },
    "papermill": {
     "duration": 0.024001,
     "end_time": "2024-02-02T12:55:55.888219",
     "exception": false,
     "start_time": "2024-02-02T12:55:55.864218",
     "status": "completed"
    },
    "tags": []
   },
   "outputs": [],
   "source": [
    "conn.close()"
   ]
  },
  {
   "cell_type": "markdown",
   "id": "42c57109",
   "metadata": {
    "papermill": {
     "duration": 0.006003,
     "end_time": "2024-02-02T12:55:55.901221",
     "exception": false,
     "start_time": "2024-02-02T12:55:55.895218",
     "status": "completed"
    },
    "tags": []
   },
   "source": [
    "## Old Code"
   ]
  },
  {
   "cell_type": "code",
   "execution_count": 25,
   "id": "dec9e9de",
   "metadata": {
    "execution": {
     "iopub.execute_input": "2024-02-02T12:55:55.915189Z",
     "iopub.status.busy": "2024-02-02T12:55:55.915189Z",
     "iopub.status.idle": "2024-02-02T12:55:55.933567Z",
     "shell.execute_reply": "2024-02-02T12:55:55.932639Z"
    },
    "papermill": {
     "duration": 0.027333,
     "end_time": "2024-02-02T12:55:55.935553",
     "exception": false,
     "start_time": "2024-02-02T12:55:55.908220",
     "status": "completed"
    },
    "tags": []
   },
   "outputs": [],
   "source": [
    "# final_df[final_df['ProgramName'] =='Boro Park Clinics'].head(15).to_excel(\"../data/checkTreatmentPlanCode.xlsx\", index=False)"
   ]
  },
  {
   "cell_type": "code",
   "execution_count": 26,
   "id": "3372e488",
   "metadata": {
    "execution": {
     "iopub.execute_input": "2024-02-02T12:55:55.949523Z",
     "iopub.status.busy": "2024-02-02T12:55:55.949523Z",
     "iopub.status.idle": "2024-02-02T12:55:55.966838Z",
     "shell.execute_reply": "2024-02-02T12:55:55.963910Z"
    },
    "papermill": {
     "duration": 0.026312,
     "end_time": "2024-02-02T12:55:55.967867",
     "exception": false,
     "start_time": "2024-02-02T12:55:55.941555",
     "status": "completed"
    },
    "tags": []
   },
   "outputs": [],
   "source": [
    "# final_df[final_df['Patient Name'] == 'Braun, Chesky']"
   ]
  },
  {
   "cell_type": "code",
   "execution_count": 27,
   "id": "554072f8",
   "metadata": {
    "execution": {
     "iopub.execute_input": "2024-02-02T12:55:55.982874Z",
     "iopub.status.busy": "2024-02-02T12:55:55.981868Z",
     "iopub.status.idle": "2024-02-02T12:55:55.996871Z",
     "shell.execute_reply": "2024-02-02T12:55:55.995974Z"
    },
    "papermill": {
     "duration": 0.022998,
     "end_time": "2024-02-02T12:55:55.997868",
     "exception": false,
     "start_time": "2024-02-02T12:55:55.974870",
     "status": "completed"
    },
    "tags": []
   },
   "outputs": [],
   "source": [
    "# final_df['Program']\n",
    "# final_df['Status']\n",
    "# final_df = final_df.merge(patientStatusProgramdf, on='MRN', how='inner')\n",
    "# final_df"
   ]
  },
  {
   "cell_type": "code",
   "execution_count": 28,
   "id": "9afb64a8",
   "metadata": {
    "execution": {
     "iopub.execute_input": "2024-02-02T12:55:56.012868Z",
     "iopub.status.busy": "2024-02-02T12:55:56.012868Z",
     "iopub.status.idle": "2024-02-02T12:55:56.030884Z",
     "shell.execute_reply": "2024-02-02T12:55:56.027940Z"
    },
    "papermill": {
     "duration": 0.031016,
     "end_time": "2024-02-02T12:55:56.035884",
     "exception": false,
     "start_time": "2024-02-02T12:55:56.004868",
     "status": "completed"
    },
    "tags": []
   },
   "outputs": [],
   "source": [
    "# final_df.columns"
   ]
  },
  {
   "cell_type": "code",
   "execution_count": 29,
   "id": "80593480",
   "metadata": {
    "execution": {
     "iopub.execute_input": "2024-02-02T12:55:56.065868Z",
     "iopub.status.busy": "2024-02-02T12:55:56.064853Z",
     "iopub.status.idle": "2024-02-02T12:55:56.076236Z",
     "shell.execute_reply": "2024-02-02T12:55:56.075335Z"
    },
    "papermill": {
     "duration": 0.022387,
     "end_time": "2024-02-02T12:55:56.077260",
     "exception": false,
     "start_time": "2024-02-02T12:55:56.054873",
     "status": "completed"
    },
    "tags": []
   },
   "outputs": [],
   "source": [
    "# final_df = final_df[['MRN', 'Patient Name_x', 'Encounter Type',\n",
    "#                    'Encounter / Service Provider', \"Encounter Facility\", 'Visit Date', 'Signed By',\n",
    "#                    'Signed Date', 'Co Sign Status', 'Co Signed By',\n",
    "#                    'Summarized Encounter Type', 'Missing Initial Treatment Plan',\n",
    "#                    'Review Date', 'Days to Review Date', 'allTheInfoYouEverWanted','Patient Status',\n",
    "#                    'Date of Last Appointment', 'Total Appointments', 'Updated Status_x', \"Last Seen_x\"]].copy()"
   ]
  },
  {
   "cell_type": "code",
   "execution_count": 30,
   "id": "28aa3996",
   "metadata": {
    "execution": {
     "iopub.execute_input": "2024-02-02T12:55:56.092233Z",
     "iopub.status.busy": "2024-02-02T12:55:56.092233Z",
     "iopub.status.idle": "2024-02-02T12:55:56.108234Z",
     "shell.execute_reply": "2024-02-02T12:55:56.107264Z"
    },
    "papermill": {
     "duration": 0.025968,
     "end_time": "2024-02-02T12:55:56.110230",
     "exception": false,
     "start_time": "2024-02-02T12:55:56.084262",
     "status": "completed"
    },
    "tags": []
   },
   "outputs": [],
   "source": [
    "# writer = pd.ExcelWriter(\"Excel TreatmentPlan Data/TreatmentPlanforCompliance v5.xlsx\", engine='xlsxwriter')\n",
    "\n",
    "# # Convert the dataframe to an XlsxWriter Excel object. Turn off the default\n",
    "# # header and index and skip one row to allow us to insert a user defined\n",
    "# # header.\n",
    "# final_df.to_excel(writer, sheet_name='Sheet1', startrow=1, header=False, index=False)\n",
    "\n",
    "# # Get the xlsxwriter workbook and worksheet objects.\n",
    "# workbook = writer.book\n",
    "# worksheet = writer.sheets['Sheet1']\n",
    "\n",
    "# # Get the dimensions of the dataframe.\n",
    "# (max_row, max_col) = final_df.shape\n",
    "\n",
    "# # Create a list of column headers, to use in add_table().\n",
    "# column_settings = []\n",
    "# for header in final_df.columns:\n",
    "#     column_settings.append({'header': header})\n",
    "\n",
    "# # Add the table.\n",
    "# worksheet.add_table(0, 0, max_row, max_col - 1, {'columns': column_settings})\n",
    "\n",
    "# # Make the columns wider for clarity.\n",
    "# worksheet.set_column(0, max_col - 1, 12)\n",
    "\n",
    "# # Close the Pandas Excel writer and output the Excel file.\n",
    "# writer.save()\n",
    "# writer.close()"
   ]
  }
 ],
 "metadata": {
  "kernelspec": {
   "display_name": "Python 3 (ipykernel)",
   "language": "python",
   "name": "python3"
  },
  "language_info": {
   "codemirror_mode": {
    "name": "ipython",
    "version": 3
   },
   "file_extension": ".py",
   "mimetype": "text/x-python",
   "name": "python",
   "nbconvert_exporter": "python",
   "pygments_lexer": "ipython3",
   "version": "3.8.16"
  },
  "papermill": {
   "default_parameters": {},
   "duration": 54.214899,
   "end_time": "2024-02-02T12:55:56.379242",
   "environment_variables": {},
   "exception": null,
   "input_path": "CFTSS-TreatmentPlanReport.ipynb",
   "output_path": "snapshots/CFTSS-TreatmentPlanReport.ipynb",
   "parameters": {},
   "start_time": "2024-02-02T12:55:02.164343",
   "version": "2.3.3"
  },
  "toc": {
   "base_numbering": 1,
   "nav_menu": {},
   "number_sections": true,
   "sideBar": true,
   "skip_h1_title": false,
   "title_cell": "Table of Contents",
   "title_sidebar": "Contents",
   "toc_cell": false,
   "toc_position": {},
   "toc_section_display": true,
   "toc_window_display": true
  },
  "varInspector": {
   "cols": {
    "lenName": 16,
    "lenType": 16,
    "lenVar": 40
   },
   "kernels_config": {
    "python": {
     "delete_cmd_postfix": "",
     "delete_cmd_prefix": "del ",
     "library": "var_list.py",
     "varRefreshCmd": "print(var_dic_list())"
    },
    "r": {
     "delete_cmd_postfix": ") ",
     "delete_cmd_prefix": "rm(",
     "library": "var_list.r",
     "varRefreshCmd": "cat(var_dic_list()) "
    }
   },
   "types_to_exclude": [
    "module",
    "function",
    "builtin_function_or_method",
    "instance",
    "_Feature"
   ],
   "window_display": false
  }
 },
 "nbformat": 4,
 "nbformat_minor": 5
}