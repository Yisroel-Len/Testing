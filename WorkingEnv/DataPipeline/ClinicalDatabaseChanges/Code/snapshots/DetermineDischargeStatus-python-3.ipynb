{
 "cells": [
  {
   "cell_type": "code",
   "execution_count": null,
   "id": "318517c5",
   "metadata": {
    "ExecuteTime": {
     "end_time": "2023-07-20T20:28:41.632600Z",
     "start_time": "2023-07-20T20:28:41.625604Z"
    },
    "papermill": {
     "duration": null,
     "end_time": null,
     "exception": null,
     "start_time": null,
     "status": "pending"
    },
    "tags": []
   },
   "outputs": [],
   "source": [
    "import pandas as pd\n",
    "import numpy as np\n",
    "import pyodbc \n",
    "import time\n",
    "from datetime import datetime\n",
    "from datetime import date\n",
    "import sqlite3"
   ]
  },
  {
   "cell_type": "code",
   "execution_count": null,
   "id": "eec0b1c7",
   "metadata": {
    "ExecuteTime": {
     "end_time": "2023-07-20T20:28:41.696400Z",
     "start_time": "2023-07-20T20:28:41.634600Z"
    },
    "papermill": {
     "duration": null,
     "end_time": null,
     "exception": null,
     "start_time": null,
     "status": "pending"
    },
    "tags": []
   },
   "outputs": [],
   "source": [
    "import logging\n",
    "path = \"..\\..\\InSyncConnection\\Code\\clinical_log.txt\"\n",
    "logging.basicConfig(filename=path,\n",
    "                    filemode='a',\n",
    "                    format='%(asctime)s,%(msecs)d,%(name)s,%(levelname)s,%(message)s',\n",
    "                    datefmt='%Y-%m-%d %H:%M:%S',\n",
    "                    level=logging.DEBUG)\n",
    "logger = logging.getLogger(\"Determine Discharge Status\")"
   ]
  },
  {
   "cell_type": "code",
   "execution_count": null,
   "id": "ae4f2c6f",
   "metadata": {
    "ExecuteTime": {
     "end_time": "2023-07-20T20:28:41.742416Z",
     "start_time": "2023-07-20T20:28:41.697402Z"
    },
    "papermill": {
     "duration": null,
     "end_time": null,
     "exception": null,
     "start_time": null,
     "status": "pending"
    },
    "tags": []
   },
   "outputs": [],
   "source": [
    "def findPatientsNotSeenInaWhile(lastApptDate):\n",
    "    try:\n",
    "        if (datetime.now() - lastApptDate).days > 91:\n",
    "            if (datetime.now() - lastApptDate).days > 183:\n",
    "                return \"Hasn't been seen in 6 months\" \n",
    "            else:\n",
    "                return \"Hasn't been seen in 3 months\"\n",
    "        else:\n",
    "            return \"They've been seen in the past 3 months\" \n",
    "    except:\n",
    "        \n",
    "        return \"Never Seen\"   "
   ]
  },
  {
   "cell_type": "code",
   "execution_count": null,
   "id": "f2969c9d",
   "metadata": {
    "ExecuteTime": {
     "end_time": "2023-07-20T20:28:41.773453Z",
     "start_time": "2023-07-20T20:28:41.744427Z"
    },
    "papermill": {
     "duration": null,
     "end_time": null,
     "exception": null,
     "start_time": null,
     "status": "pending"
    },
    "tags": []
   },
   "outputs": [],
   "source": [
    "# diff path from TestTev vs WorkingEnv\n",
    "conn = sqlite3.connect('../../InSyncConnection/Database/InSyncClinical.db')\n",
    "# cursor = conn.cursor()\n",
    "\n",
    "# printing all table names  \n",
    "# sql_query = \"\"\"SELECT name FROM sqlite_master\n",
    "#     WHERE type='table';\"\"\"\n",
    "\n",
    "# cursor.execute(sql_query)\n",
    "# print(cursor.fetchall())"
   ]
  },
  {
   "cell_type": "markdown",
   "id": "688c4d84",
   "metadata": {
    "papermill": {
     "duration": null,
     "end_time": null,
     "exception": null,
     "start_time": null,
     "status": "pending"
    },
    "tags": []
   },
   "source": [
    "# Read in Data"
   ]
  },
  {
   "cell_type": "code",
   "execution_count": null,
   "id": "ec441571",
   "metadata": {
    "ExecuteTime": {
     "end_time": "2023-07-20T20:28:41.820594Z",
     "start_time": "2023-07-20T20:28:41.774452Z"
    },
    "papermill": {
     "duration": null,
     "end_time": null,
     "exception": null,
     "start_time": null,
     "status": "pending"
    },
    "tags": []
   },
   "outputs": [],
   "source": [
    "testPatients = '''\n",
    "SELECT\n",
    "    MRNNumber\n",
    "FROM \n",
    "    emr_PatientDetails\n",
    "WHERE \n",
    "    LOWER(FirstName) LIKE '%test%'\n",
    "    OR LOWER(FirstName) LIKE '%patient%'\n",
    "    OR LOWER(FirstName) LIKE '%new%'\n",
    "    OR LOWER(FirstName) LIKE '%client%'\n",
    "    OR LOWER(FirstName) LIKE '%release%'\n",
    "    OR LOWER(LastName) LIKE '%test%'\n",
    "    OR LOWER(LastName) LIKE '%patient%'\n",
    "    OR LOWER(LastName) LIKE '%fake%'\n",
    "    OR CAST(MRNNumber AS INTEGER) < 53\n",
    "    OR CAST(MRNNumber AS INTEGER) = 54\n",
    "    OR CAST(MRNNumber AS INTEGER) = 141\n",
    "'''"
   ]
  },
  {
   "cell_type": "code",
   "execution_count": null,
   "id": "e9982253",
   "metadata": {
    "ExecuteTime": {
     "end_time": "2023-07-20T20:28:42.533806Z",
     "start_time": "2023-07-20T20:28:41.821573Z"
    },
    "papermill": {
     "duration": null,
     "end_time": null,
     "exception": null,
     "start_time": null,
     "status": "pending"
    },
    "tags": []
   },
   "outputs": [],
   "source": [
    "sql=f'''\n",
    "SELECT \n",
    "    tblEncounterSummary.PatientID as PatientID,\n",
    "    emr_PatientDetails.isActive,\n",
    "    tblEncounterSummary.VisitDateTime as EncounterDate,\n",
    "    tblEncounterType.EncounterType\n",
    "FROM \n",
    "    tblEncounterSummary\n",
    "    LEFT JOIN emr_PatientDetails ON (tblEncounterSummary.patientID = emr_PatientDetails.patientID)\n",
    "    LEFT JOIN tblEncounterType ON (tblEncounterSummary.EncounterTypeID=tblEncounterType.EncounterTypeID)\n",
    "WHERE\n",
    "    emr_PatientDetails.MRNNumber NOT IN ({testPatients})\n",
    "'''\n",
    "try:\n",
    "    encounters = pd.read_sql(sql, conn)\n",
    "    logger.info(\"Successfully queried encounters\")\n",
    "except Exception as e:\n",
    "    logger.error(f\"Failed to query encounters.\", exc_info=True) \n",
    "    print(e)"
   ]
  },
  {
   "cell_type": "code",
   "execution_count": null,
   "id": "5074b2cb",
   "metadata": {
    "ExecuteTime": {
     "end_time": "2023-07-20T20:28:43.120751Z",
     "start_time": "2023-07-20T20:28:42.534809Z"
    },
    "papermill": {
     "duration": null,
     "end_time": null,
     "exception": null,
     "start_time": null,
     "status": "pending"
    },
    "tags": []
   },
   "outputs": [],
   "source": [
    "sql=f'''\n",
    "SELECT \n",
    "    tblEncounterSummary.PatientID as PatientID,\n",
    "    tblEncounterSummary.VisitDateTime as Billable_EncounterDate,\n",
    "    tblEncounterType.EncounterType as Billable_EncounterType,\n",
    "    tblEncounterSummary.ProgramName,\n",
    "    tblFacilitiesMaster.FacilityName\n",
    "FROM \n",
    "    tblEncounterSummary\n",
    "    LEFT JOIN emr_PatientDetails ON (tblEncounterSummary.patientID = emr_PatientDetails.patientID)\n",
    "    LEFT JOIN tblEncounterType ON (tblEncounterSummary.EncounterTypeID=tblEncounterType.EncounterTypeID)\n",
    "    LEFT JOIN tblFacilitiesMaster ON (tblEncounterSummary.FacilityId=tblFacilitiesMaster.FacilityId)\n",
    "WHERE IsBillable LIKE \"%TRUE%\" \n",
    "    AND emr_PatientDetails.MRNNumber NOT IN ({testPatients})\n",
    "'''\n",
    "try:\n",
    "    billableEncounters = pd.read_sql(sql, conn)\n",
    "    logger.info(\"Successfully queried billableEncounters = pd.read_sql(sql, conn)\")\n",
    "except Exception as e:\n",
    "    logger.error(f\"Failed to query billableEncounters = pd.read_sql(sql, conn).\", exc_info=True) \n",
    "    print(e)\n"
   ]
  },
  {
   "cell_type": "markdown",
   "id": "ed777b75",
   "metadata": {
    "papermill": {
     "duration": null,
     "end_time": null,
     "exception": null,
     "start_time": null,
     "status": "pending"
    },
    "tags": []
   },
   "source": [
    "# Transform Data"
   ]
  },
  {
   "cell_type": "code",
   "execution_count": null,
   "id": "2fdd3ea6",
   "metadata": {
    "ExecuteTime": {
     "end_time": "2023-07-20T20:29:08.442871Z",
     "start_time": "2023-07-20T20:28:43.121767Z"
    },
    "papermill": {
     "duration": null,
     "end_time": null,
     "exception": null,
     "start_time": null,
     "status": "pending"
    },
    "tags": []
   },
   "outputs": [],
   "source": [
    "# Get last ecounter\n",
    "encounters['EncounterDate'] = pd.to_datetime(encounters['EncounterDate'])\n",
    "encounters = encounters.sort_values(by=\"EncounterDate\")\n",
    "# get last billable encounter\n",
    "billableEncounters['Billable_EncounterDate'] = pd.to_datetime(billableEncounters['Billable_EncounterDate'])\n",
    "billableEncounters = billableEncounters.sort_values(by=\"Billable_EncounterDate\")"
   ]
  },
  {
   "cell_type": "code",
   "execution_count": null,
   "id": "a361cbb6",
   "metadata": {
    "ExecuteTime": {
     "end_time": "2023-07-20T20:29:08.631478Z",
     "start_time": "2023-07-20T20:29:08.444857Z"
    },
    "papermill": {
     "duration": null,
     "end_time": null,
     "exception": null,
     "start_time": null,
     "status": "pending"
    },
    "tags": []
   },
   "outputs": [],
   "source": [
    "# get the most recent (last) encounter type, date and patient activity\n",
    "discharged = encounters.groupby(['PatientID'], as_index=False)[['EncounterType', 'EncounterDate', 'IsActive']].last()\n",
    "finalBillable = billableEncounters.groupby(['PatientID'], as_index=False)[['Billable_EncounterType', 'Billable_EncounterDate']].last()\n",
    "finalEncounterFacility = billableEncounters.groupby(['PatientID'], as_index=False)[['ProgramName', 'FacilityName']].last()"
   ]
  },
  {
   "cell_type": "code",
   "execution_count": null,
   "id": "592b5ad0",
   "metadata": {
    "ExecuteTime": {
     "end_time": "2023-07-20T20:29:08.727170Z",
     "start_time": "2023-07-20T20:29:08.634437Z"
    },
    "papermill": {
     "duration": null,
     "end_time": null,
     "exception": null,
     "start_time": null,
     "status": "pending"
    },
    "tags": []
   },
   "outputs": [],
   "source": [
    "# check if encounter type contains discharge\n",
    "discharged['is_Discharged'] = discharged['EncounterType'].map(lambda type: 1 if \"discharge\" in str(type).lower() else 0)\n",
    "# summarize last seen date\n",
    "finalBillable['seen_Recently'] = finalBillable['Billable_EncounterDate'].map(findPatientsNotSeenInaWhile)"
   ]
  },
  {
   "cell_type": "code",
   "execution_count": null,
   "id": "6ca856c8",
   "metadata": {
    "ExecuteTime": {
     "end_time": "2023-07-20T20:29:08.820156Z",
     "start_time": "2023-07-20T20:29:08.728131Z"
    },
    "papermill": {
     "duration": null,
     "end_time": null,
     "exception": null,
     "start_time": null,
     "status": "pending"
    },
    "tags": []
   },
   "outputs": [],
   "source": [
    "finalPatientStatus = discharged.merge(finalBillable, how='left', on='PatientID').merge(finalEncounterFacility, how='left', on='PatientID')"
   ]
  },
  {
   "cell_type": "code",
   "execution_count": null,
   "id": "2a89bf52",
   "metadata": {
    "ExecuteTime": {
     "end_time": "2023-07-20T20:29:08.836191Z",
     "start_time": "2023-07-20T20:29:08.821114Z"
    },
    "papermill": {
     "duration": null,
     "end_time": null,
     "exception": null,
     "start_time": null,
     "status": "pending"
    },
    "tags": []
   },
   "outputs": [],
   "source": [
    "# rename columns to be more explicit\n",
    "finalPatientStatus.columns = ['PatientID', \n",
    "                      'finalEncounterType', \n",
    "                      'finalEncounterDate', \n",
    "                      'is_ActiveInInSync',\n",
    "                      'is_lastEncounterDischarge',\n",
    "                      'lastBillable_EncounterType',\n",
    "                      'lastBillable_EncounterDate',\n",
    "                      'seen_Recently',\n",
    "                      'lastBillable_ProgramName',\n",
    "                      'lastBillable_FacilityName']\n",
    "#reorder the columns\n",
    "finalPatientStatus =    finalPatientStatus[['PatientID', \n",
    "                      'finalEncounterType', \n",
    "                      'finalEncounterDate', \n",
    "                      'is_ActiveInInSync',\n",
    "                      'is_lastEncounterDischarge',\n",
    "                      'lastBillable_EncounterType',\n",
    "                      'lastBillable_EncounterDate',\n",
    "                      'lastBillable_ProgramName',\n",
    "                      'lastBillable_FacilityName',\n",
    "                      'seen_Recently']       ]"
   ]
  },
  {
   "cell_type": "code",
   "execution_count": null,
   "id": "27a5ef5a",
   "metadata": {
    "ExecuteTime": {
     "end_time": "2023-07-20T20:29:08.897582Z",
     "start_time": "2023-07-20T20:29:08.837827Z"
    },
    "papermill": {
     "duration": null,
     "end_time": null,
     "exception": null,
     "start_time": null,
     "status": "pending"
    },
    "tags": []
   },
   "outputs": [],
   "source": [
    "finalPatientStatus[finalPatientStatus['PatientID'] == 622719]"
   ]
  },
  {
   "cell_type": "markdown",
   "id": "cf662992",
   "metadata": {
    "papermill": {
     "duration": null,
     "end_time": null,
     "exception": null,
     "start_time": null,
     "status": "pending"
    },
    "tags": []
   },
   "source": [
    "## Manual Line\n",
    "- The code below is used to help with writing the proper SQL Create table query below"
   ]
  },
  {
   "cell_type": "code",
   "execution_count": null,
   "id": "8d4851d3",
   "metadata": {
    "ExecuteTime": {
     "end_time": "2023-07-20T20:29:08.929640Z",
     "start_time": "2023-07-20T20:29:08.899587Z"
    },
    "papermill": {
     "duration": null,
     "end_time": null,
     "exception": null,
     "start_time": null,
     "status": "pending"
    },
    "tags": []
   },
   "outputs": [],
   "source": [
    "# use to transform data into\n",
    "\", \".join([item + \" \" + str(finalPatientStatus[item].dtype) for item in finalPatientStatus.columns])"
   ]
  },
  {
   "cell_type": "markdown",
   "id": "a3728982",
   "metadata": {
    "papermill": {
     "duration": null,
     "end_time": null,
     "exception": null,
     "start_time": null,
     "status": "pending"
    },
    "tags": []
   },
   "source": [
    "# Push Data to Table"
   ]
  },
  {
   "cell_type": "code",
   "execution_count": null,
   "id": "c6382e98",
   "metadata": {
    "ExecuteTime": {
     "end_time": "2023-07-20T20:29:09.382644Z",
     "start_time": "2023-07-20T20:29:08.931643Z"
    },
    "papermill": {
     "duration": null,
     "end_time": null,
     "exception": null,
     "start_time": null,
     "status": "pending"
    },
    "tags": []
   },
   "outputs": [],
   "source": [
    "table_name= \"ptPatient_Activity\"\n",
    "try:\n",
    "    c = conn.cursor()\n",
    "    c.execute(f'''CREATE TABLE IF NOT EXISTS {table_name} (PatientID INTEGER, finalEncounterType TEXT, finalEncounterDate TEXT, is_ActiveInInSync INTEGER, is_lastEncounterDischarge INTEGER, lastBillable_EncounterType TEXT, lastBillable_EncounterDate TEXT, lastBillable_ProgramName TEXT, lastBillable_FacilityName TEXT, seen_Recently TEXT) ''')\n",
    "    conn.commit()\n",
    "    finalPatientStatus.to_sql(\"ptPatient_Activity\", conn, if_exists='replace', index = False)\n",
    "    logger.info(f\"Successfully pushed {table_name} to database.\")            \n",
    "except Exception as e:\n",
    "    logger.error(f\"Failed to push {table_name} to database.\", exc_info=True) \n",
    "    print(e)"
   ]
  },
  {
   "cell_type": "code",
   "execution_count": null,
   "id": "87c9df31",
   "metadata": {
    "ExecuteTime": {
     "end_time": "2023-07-20T20:29:09.429598Z",
     "start_time": "2023-07-20T20:29:09.383634Z"
    },
    "papermill": {
     "duration": null,
     "end_time": null,
     "exception": null,
     "start_time": null,
     "status": "pending"
    },
    "tags": []
   },
   "outputs": [],
   "source": [
    "conn.close()"
   ]
  }
 ],
 "metadata": {
  "kernelspec": {
   "display_name": "Python 3 (ipykernel)",
   "language": "python",
   "name": "python3"
  },
  "language_info": {
   "codemirror_mode": {
    "name": "ipython",
    "version": 3
   },
   "file_extension": ".py",
   "mimetype": "text/x-python",
   "name": "python",
   "nbconvert_exporter": "python",
   "pygments_lexer": "ipython3",
   "version": "3.11.5"
  },
  "papermill": {
   "default_parameters": {},
   "duration": null,
   "end_time": null,
   "environment_variables": {},
   "exception": null,
   "input_path": "DetermineDischargeStatus.ipynb",
   "output_path": "snapshots/DetermineDischargeStatus.ipynb",
   "parameters": {},
   "start_time": "2024-02-28T12:17:13.270070",
   "version": "2.4.0"
  },
  "toc": {
   "base_numbering": 1,
   "nav_menu": {},
   "number_sections": true,
   "sideBar": true,
   "skip_h1_title": false,
   "title_cell": "Table of Contents",
   "title_sidebar": "Contents",
   "toc_cell": false,
   "toc_position": {},
   "toc_section_display": true,
   "toc_window_display": true
  },
  "varInspector": {
   "cols": {
    "lenName": 16,
    "lenType": 16,
    "lenVar": 40
   },
   "kernels_config": {
    "python": {
     "delete_cmd_postfix": "",
     "delete_cmd_prefix": "del ",
     "library": "var_list.py",
     "varRefreshCmd": "print(var_dic_list())"
    },
    "r": {
     "delete_cmd_postfix": ") ",
     "delete_cmd_prefix": "rm(",
     "library": "var_list.r",
     "varRefreshCmd": "cat(var_dic_list()) "
    }
   },
   "types_to_exclude": [
    "module",
    "function",
    "builtin_function_or_method",
    "instance",
    "_Feature"
   ],
   "window_display": false
  }
 },
 "nbformat": 4,
 "nbformat_minor": 5
}