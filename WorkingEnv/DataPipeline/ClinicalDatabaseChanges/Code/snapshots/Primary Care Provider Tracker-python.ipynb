{
 "cells": [
  {
   "cell_type": "code",
   "execution_count": 1,
   "id": "892ebea8",
   "metadata": {
    "ExecuteTime": {
     "end_time": "2023-07-17T17:48:27.919781Z",
     "start_time": "2023-07-17T17:48:27.909788Z"
    },
    "execution": {
     "iopub.execute_input": "2024-02-08T13:27:21.281271Z",
     "iopub.status.busy": "2024-02-08T13:27:21.281271Z",
     "iopub.status.idle": "2024-02-08T13:27:21.730771Z",
     "shell.execute_reply": "2024-02-08T13:27:21.730771Z"
    },
    "papermill": {
     "duration": 0.465125,
     "end_time": "2024-02-08T13:27:21.730771",
     "exception": false,
     "start_time": "2024-02-08T13:27:21.265646",
     "status": "completed"
    },
    "tags": []
   },
   "outputs": [],
   "source": [
    "import pandas as pd\n",
    "import numpy as np\n",
    "import pyodbc \n",
    "import time\n",
    "from datetime import datetime\n",
    "import sqlite3"
   ]
  },
  {
   "cell_type": "code",
   "execution_count": 2,
   "id": "f8489a04",
   "metadata": {
    "ExecuteTime": {
     "end_time": "2023-07-17T17:48:28.055788Z",
     "start_time": "2023-07-17T17:48:27.921782Z"
    },
    "execution": {
     "iopub.execute_input": "2024-02-08T13:27:21.746493Z",
     "iopub.status.busy": "2024-02-08T13:27:21.746493Z",
     "iopub.status.idle": "2024-02-08T13:27:21.758178Z",
     "shell.execute_reply": "2024-02-08T13:27:21.758178Z"
    },
    "papermill": {
     "duration": 0.011685,
     "end_time": "2024-02-08T13:27:21.758178",
     "exception": false,
     "start_time": "2024-02-08T13:27:21.746493",
     "status": "completed"
    },
    "tags": []
   },
   "outputs": [],
   "source": [
    "import sys\n",
    "import logging\n",
    "path = \"..\\..\\InSyncConnection\\Code\\clinical_log.txt\"\n",
    "logging.basicConfig(filename=path,\n",
    "                    filemode='a',\n",
    "                    format='%(asctime)s,%(msecs)d,%(name)s,%(levelname)s,%(message)s',\n",
    "                    datefmt='%Y-%m-%d %H:%M:%S',\n",
    "                    level=logging.DEBUG)\n",
    "logger = logging.getLogger(\"Primary Care Provider Tracker\")"
   ]
  },
  {
   "cell_type": "code",
   "execution_count": 3,
   "id": "ead63368",
   "metadata": {
    "ExecuteTime": {
     "end_time": "2023-07-17T17:48:28.106021Z",
     "start_time": "2023-07-17T17:48:28.055788Z"
    },
    "execution": {
     "iopub.execute_input": "2024-02-08T13:27:21.773902Z",
     "iopub.status.busy": "2024-02-08T13:27:21.773902Z",
     "iopub.status.idle": "2024-02-08T13:27:21.786374Z",
     "shell.execute_reply": "2024-02-08T13:27:21.786374Z"
    },
    "papermill": {
     "duration": 0.028196,
     "end_time": "2024-02-08T13:27:21.786374",
     "exception": false,
     "start_time": "2024-02-08T13:27:21.758178",
     "status": "completed"
    },
    "tags": []
   },
   "outputs": [],
   "source": [
    "conn = sqlite3.connect('../../InSyncConnection/Database/InSyncClinical.db')\n",
    "# cursor = conn.cursor()\n",
    "\n",
    "# # printing all table names  \n",
    "# sql_query = \"\"\"SELECT name FROM sqlite_master\n",
    "#     WHERE type='table';\"\"\"\n",
    "\n",
    "# cursor.execute(sql_query)\n",
    "# print(cursor.fetchall())"
   ]
  },
  {
   "cell_type": "markdown",
   "id": "dcc94ada",
   "metadata": {
    "papermill": {
     "duration": 0.015654,
     "end_time": "2024-02-08T13:27:21.802028",
     "exception": false,
     "start_time": "2024-02-08T13:27:21.786374",
     "status": "completed"
    },
    "tags": []
   },
   "source": [
    "## Read in Data "
   ]
  },
  {
   "cell_type": "markdown",
   "id": "15092534",
   "metadata": {
    "papermill": {
     "duration": 0.0,
     "end_time": "2024-02-08T13:27:21.802028",
     "exception": false,
     "start_time": "2024-02-08T13:27:21.802028",
     "status": "completed"
    },
    "tags": []
   },
   "source": [
    "### Get new data from sql"
   ]
  },
  {
   "cell_type": "code",
   "execution_count": 4,
   "id": "7158fcb7",
   "metadata": {
    "ExecuteTime": {
     "end_time": "2023-07-17T17:48:28.268623Z",
     "start_time": "2023-07-17T17:48:28.108003Z"
    },
    "execution": {
     "iopub.execute_input": "2024-02-08T13:27:21.817655Z",
     "iopub.status.busy": "2024-02-08T13:27:21.817655Z",
     "iopub.status.idle": "2024-02-08T13:27:21.861391Z",
     "shell.execute_reply": "2024-02-08T13:27:21.861391Z"
    },
    "papermill": {
     "duration": 0.043736,
     "end_time": "2024-02-08T13:27:21.861391",
     "exception": false,
     "start_time": "2024-02-08T13:27:21.817655",
     "status": "completed"
    },
    "tags": []
   },
   "outputs": [],
   "source": [
    "# Get current provider data from sql \n",
    "try:\n",
    "    sql='''\n",
    "    SELECT \n",
    "        PatientID,\n",
    "        PatientPrimaryProviderID AS 'ProviderID'\n",
    "    FROM \n",
    "        tblPatientPrimaryProviders\n",
    "    WHERE\n",
    "       IsDefault LIKE 'True'\n",
    "    '''\n",
    "    new_provider_df = pd.read_sql(sql, conn)    \n",
    "    logger.info(f\"Successfully queried tblPatientPrimaryProviders.\")            \n",
    "except Exception as e:\n",
    "    logger.error(f\"Failed to query tblPatientPrimaryProviders.\", exc_info=True) \n",
    "    print(e)\n",
    "    sys.exit(1)"
   ]
  },
  {
   "cell_type": "code",
   "execution_count": 5,
   "id": "367579bf",
   "metadata": {
    "ExecuteTime": {
     "end_time": "2023-07-17T17:48:28.314600Z",
     "start_time": "2023-07-17T17:48:28.270608Z"
    },
    "execution": {
     "iopub.execute_input": "2024-02-08T13:27:21.877102Z",
     "iopub.status.busy": "2024-02-08T13:27:21.877102Z",
     "iopub.status.idle": "2024-02-08T13:27:21.920440Z",
     "shell.execute_reply": "2024-02-08T13:27:21.920440Z"
    },
    "papermill": {
     "duration": 0.059049,
     "end_time": "2024-02-08T13:27:21.920440",
     "exception": false,
     "start_time": "2024-02-08T13:27:21.861391",
     "status": "completed"
    },
    "scrolled": false,
    "tags": []
   },
   "outputs": [],
   "source": [
    "# Get patient data\n",
    "try:\n",
    "    sql='''\n",
    "    SELECT \n",
    "        PatientId AS PatientID,\n",
    "        FirstName,\n",
    "        LastName,\n",
    "        DOB\n",
    "    FROM \n",
    "        emr_PatientDetails\n",
    "    '''\n",
    "    patient_details_df = pd.read_sql(sql, conn)\n",
    "    patient_details_df['FirstName'] = patient_details_df['FirstName'].apply(lambda name: name.capitalize())\n",
    "    patient_details_df['LastName'] = patient_details_df['LastName'].apply(lambda name: name.capitalize())\n",
    "    logger.info(f\"Successfully queried emr_PatientDetails.\")            \n",
    "except Exception as e:\n",
    "    logger.error(f\"Failed to query emr_PatientDetails.\", exc_info=True) \n",
    "    print(e)\n",
    "    sys.exit(1)"
   ]
  },
  {
   "cell_type": "code",
   "execution_count": 6,
   "id": "b9123312",
   "metadata": {
    "ExecuteTime": {
     "end_time": "2023-07-17T17:48:28.426518Z",
     "start_time": "2023-07-17T17:48:28.316582Z"
    },
    "execution": {
     "iopub.execute_input": "2024-02-08T13:27:21.936090Z",
     "iopub.status.busy": "2024-02-08T13:27:21.936090Z",
     "iopub.status.idle": "2024-02-08T13:27:22.002875Z",
     "shell.execute_reply": "2024-02-08T13:27:22.002875Z"
    },
    "papermill": {
     "duration": 0.082435,
     "end_time": "2024-02-08T13:27:22.002875",
     "exception": false,
     "start_time": "2024-02-08T13:27:21.920440",
     "status": "completed"
    },
    "tags": []
   },
   "outputs": [],
   "source": [
    "# Get previous provider info\n",
    "useBackup = False\n",
    "try:\n",
    "    sql = '''SELECT * FROM ptCurrent_Provider_Tracker'''\n",
    "    old_provider_df = pd.read_sql(sql, conn)\n",
    "    logger.info(f\"Successfully queried ptCurrent_Provider_Tracker.\")\n",
    "except Exception as e:\n",
    "    useBackup = True\n",
    "    logger.error(f\"Failed to query ptCurrent_Provider_Tracker.\", exc_info=True)\n",
    "    print(e)\n",
    "\n",
    "# get previous changes info\n",
    "try:\n",
    "    sql = '''SELECT * FROM ptPrimaryProvider_ChangeLog'''\n",
    "    prev_changes_df = pd.read_sql(sql, conn)\n",
    "    logger.info(f\"Successfully queried ptOld_Provider_Tracker.\")            \n",
    "except Exception as e:\n",
    "    useBackup = True\n",
    "    logger.error(f\"Failed to query ptOld_Provider_Tracker.\", exc_info=True) \n",
    "    print(e)"
   ]
  },
  {
   "cell_type": "markdown",
   "id": "dde40b3c",
   "metadata": {
    "ExecuteTime": {
     "end_time": "2023-07-13T13:25:36.659174Z",
     "start_time": "2023-07-13T13:25:36.655175Z"
    },
    "papermill": {
     "duration": 0.0,
     "end_time": "2024-02-08T13:27:22.002875",
     "exception": false,
     "start_time": "2024-02-08T13:27:22.002875",
     "status": "completed"
    },
    "tags": []
   },
   "source": [
    "### Get backed up data from excel\n",
    "    Use if issue with the db"
   ]
  },
  {
   "cell_type": "code",
   "execution_count": 7,
   "id": "6f9381e4",
   "metadata": {
    "ExecuteTime": {
     "end_time": "2023-07-17T17:48:28.442528Z",
     "start_time": "2023-07-17T17:48:28.427518Z"
    },
    "execution": {
     "iopub.execute_input": "2024-02-08T13:27:22.018518Z",
     "iopub.status.busy": "2024-02-08T13:27:22.018518Z",
     "iopub.status.idle": "2024-02-08T13:27:22.037225Z",
     "shell.execute_reply": "2024-02-08T13:27:22.037225Z"
    },
    "papermill": {
     "duration": 0.03435,
     "end_time": "2024-02-08T13:27:22.037225",
     "exception": false,
     "start_time": "2024-02-08T13:27:22.002875",
     "status": "completed"
    },
    "tags": []
   },
   "outputs": [
    {
     "data": {
      "text/html": [
       "<div>\n",
       "<style scoped>\n",
       "    .dataframe tbody tr th:only-of-type {\n",
       "        vertical-align: middle;\n",
       "    }\n",
       "\n",
       "    .dataframe tbody tr th {\n",
       "        vertical-align: top;\n",
       "    }\n",
       "\n",
       "    .dataframe thead th {\n",
       "        text-align: right;\n",
       "    }\n",
       "</style>\n",
       "<table border=\"1\" class=\"dataframe\">\n",
       "  <thead>\n",
       "    <tr style=\"text-align: right;\">\n",
       "      <th></th>\n",
       "      <th>PatientID</th>\n",
       "      <th>ProviderID</th>\n",
       "      <th>Date Of Change</th>\n",
       "    </tr>\n",
       "  </thead>\n",
       "  <tbody>\n",
       "    <tr>\n",
       "      <th>0</th>\n",
       "      <td>627637</td>\n",
       "      <td>1566</td>\n",
       "      <td>02/07/2024</td>\n",
       "    </tr>\n",
       "    <tr>\n",
       "      <th>1</th>\n",
       "      <td>621667</td>\n",
       "      <td>1572</td>\n",
       "      <td>02/07/2024</td>\n",
       "    </tr>\n",
       "    <tr>\n",
       "      <th>2</th>\n",
       "      <td>623926</td>\n",
       "      <td>2067</td>\n",
       "      <td>02/07/2024</td>\n",
       "    </tr>\n",
       "    <tr>\n",
       "      <th>3</th>\n",
       "      <td>628066</td>\n",
       "      <td>1572</td>\n",
       "      <td>02/07/2024</td>\n",
       "    </tr>\n",
       "    <tr>\n",
       "      <th>4</th>\n",
       "      <td>628068</td>\n",
       "      <td>1572</td>\n",
       "      <td>02/07/2024</td>\n",
       "    </tr>\n",
       "    <tr>\n",
       "      <th>...</th>\n",
       "      <td>...</td>\n",
       "      <td>...</td>\n",
       "      <td>...</td>\n",
       "    </tr>\n",
       "    <tr>\n",
       "      <th>9127</th>\n",
       "      <td>622419</td>\n",
       "      <td>1599</td>\n",
       "      <td>06/14/2023</td>\n",
       "    </tr>\n",
       "    <tr>\n",
       "      <th>9128</th>\n",
       "      <td>622423</td>\n",
       "      <td>1599</td>\n",
       "      <td>06/14/2023</td>\n",
       "    </tr>\n",
       "    <tr>\n",
       "      <th>9129</th>\n",
       "      <td>622465</td>\n",
       "      <td>1599</td>\n",
       "      <td>06/14/2023</td>\n",
       "    </tr>\n",
       "    <tr>\n",
       "      <th>9130</th>\n",
       "      <td>622475</td>\n",
       "      <td>1599</td>\n",
       "      <td>06/14/2023</td>\n",
       "    </tr>\n",
       "    <tr>\n",
       "      <th>9131</th>\n",
       "      <td>622488</td>\n",
       "      <td>1599</td>\n",
       "      <td>06/14/2023</td>\n",
       "    </tr>\n",
       "  </tbody>\n",
       "</table>\n",
       "<p>9132 rows × 3 columns</p>\n",
       "</div>"
      ],
      "text/plain": [
       "      PatientID  ProviderID Date Of Change\n",
       "0        627637        1566     02/07/2024\n",
       "1        621667        1572     02/07/2024\n",
       "2        623926        2067     02/07/2024\n",
       "3        628066        1572     02/07/2024\n",
       "4        628068        1572     02/07/2024\n",
       "...         ...         ...            ...\n",
       "9127     622419        1599     06/14/2023\n",
       "9128     622423        1599     06/14/2023\n",
       "9129     622465        1599     06/14/2023\n",
       "9130     622475        1599     06/14/2023\n",
       "9131     622488        1599     06/14/2023\n",
       "\n",
       "[9132 rows x 3 columns]"
      ]
     },
     "execution_count": 7,
     "metadata": {},
     "output_type": "execute_result"
    }
   ],
   "source": [
    "if useBackup == True:\n",
    "    try:\n",
    "        old_provider_df = pd.read_excel(r\"../../../TestEnvironment/data/Provider Tracker.xlsx\",\n",
    "                                         sheet_name = \"Old Provider\")\n",
    "        prev_changes_df = pd.read_excel(r\"../../../TestEnvironment/data/Provider Tracker.xlsx\",\n",
    "                                         sheet_name = \"Changes\")\n",
    "        logger.info(\"Successfully read in old data from excel backup\")\n",
    "    except Exception as e:\n",
    "        logger.error(\"Failed to read in old data from excel backup\")\n",
    "prev_changes_df"
   ]
  },
  {
   "cell_type": "markdown",
   "id": "e2fb8e28",
   "metadata": {
    "papermill": {
     "duration": 0.0,
     "end_time": "2024-02-08T13:27:22.037225",
     "exception": false,
     "start_time": "2024-02-08T13:27:22.037225",
     "status": "completed"
    },
    "tags": []
   },
   "source": [
    "## Compare new data to old data "
   ]
  },
  {
   "cell_type": "code",
   "execution_count": 8,
   "id": "965060a2",
   "metadata": {
    "ExecuteTime": {
     "end_time": "2023-07-17T17:48:28.489997Z",
     "start_time": "2023-07-17T17:48:28.443509Z"
    },
    "execution": {
     "iopub.execute_input": "2024-02-08T13:27:22.052869Z",
     "iopub.status.busy": "2024-02-08T13:27:22.052869Z",
     "iopub.status.idle": "2024-02-08T13:27:22.078219Z",
     "shell.execute_reply": "2024-02-08T13:27:22.078219Z"
    },
    "papermill": {
     "duration": 0.040994,
     "end_time": "2024-02-08T13:27:22.078219",
     "exception": false,
     "start_time": "2024-02-08T13:27:22.037225",
     "status": "completed"
    },
    "tags": []
   },
   "outputs": [],
   "source": [
    "try:    \n",
    "    #merge frames\n",
    "    consistant_providers = old_provider_df.merge(new_provider_df,how='outer',on='PatientID', indicator=False)\n",
    "    \n",
    "    #filter out consistant data\n",
    "    inconsistant_mask = consistant_providers['ProviderID_x'] != consistant_providers['ProviderID_y']\n",
    "    inconsistantProviders = consistant_providers[inconsistant_mask].copy()\n",
    "    \n",
    "    # reformat frame\n",
    "    inconsistantProviders.drop('ProviderID_x', axis = 1, inplace=True)\n",
    "    inconsistantProviders.rename(columns={'ProviderID_y': 'ProviderID'}, inplace=True)\n",
    "    \n",
    "    # add date of change\n",
    "    today = datetime.today().strftime('%m/%d/%Y')\n",
    "    inconsistantProviders['Date Of Change'] = today\n",
    "    \n",
    "    # concat prev changes\n",
    "    all_changes = pd.concat([inconsistantProviders,prev_changes_df])\n",
    "    logger.info(f\"Successfully compared old data to new data.\")            \n",
    "except Exception as e:\n",
    "    logger.error(f\"Failed to compare old data to new data.\", exc_info=True) \n",
    "    print(e)\n",
    "    sys.exit(1)"
   ]
  },
  {
   "cell_type": "markdown",
   "id": "4598c07d",
   "metadata": {
    "papermill": {
     "duration": 0.0,
     "end_time": "2024-02-08T13:27:22.093874",
     "exception": false,
     "start_time": "2024-02-08T13:27:22.093874",
     "status": "completed"
    },
    "tags": []
   },
   "source": [
    "## Push data to DB"
   ]
  },
  {
   "cell_type": "code",
   "execution_count": 9,
   "id": "35f1bc34",
   "metadata": {
    "ExecuteTime": {
     "end_time": "2023-07-17T17:48:28.521527Z",
     "start_time": "2023-07-17T17:48:28.490997Z"
    },
    "execution": {
     "iopub.execute_input": "2024-02-08T13:27:22.109505Z",
     "iopub.status.busy": "2024-02-08T13:27:22.109505Z",
     "iopub.status.idle": "2024-02-08T13:27:22.118267Z",
     "shell.execute_reply": "2024-02-08T13:27:22.118267Z"
    },
    "papermill": {
     "duration": 0.024393,
     "end_time": "2024-02-08T13:27:22.118267",
     "exception": false,
     "start_time": "2024-02-08T13:27:22.093874",
     "status": "completed"
    },
    "tags": []
   },
   "outputs": [],
   "source": [
    "# \", \".join([item + \" \" + str(new_provider_df[item].dtype) for item in new_provider_df.columns])"
   ]
  },
  {
   "cell_type": "code",
   "execution_count": 10,
   "id": "86786c5a",
   "metadata": {
    "ExecuteTime": {
     "end_time": "2023-07-17T17:48:28.765359Z",
     "start_time": "2023-07-17T17:48:28.524525Z"
    },
    "execution": {
     "iopub.execute_input": "2024-02-08T13:27:22.133941Z",
     "iopub.status.busy": "2024-02-08T13:27:22.133941Z",
     "iopub.status.idle": "2024-02-08T13:27:22.228037Z",
     "shell.execute_reply": "2024-02-08T13:27:22.228037Z"
    },
    "papermill": {
     "duration": 0.10977,
     "end_time": "2024-02-08T13:27:22.228037",
     "exception": false,
     "start_time": "2024-02-08T13:27:22.118267",
     "status": "completed"
    },
    "tags": []
   },
   "outputs": [],
   "source": [
    "# changes ptCurrent_Provider_Tracker to today's current provider\n",
    "table_name = \"ptCurrent_Provider_Tracker\"\n",
    "try:\n",
    "    c = conn.cursor()\n",
    "    c.execute(f'''CREATE TABLE IF NOT EXISTS {table_name} (PatientID INTEGER, ProviderID INTEGER)''')\n",
    "    conn.commit()\n",
    "    new_provider_df.to_sql(table_name, conn, if_exists='replace', index = False)\n",
    "    logger.info(f\"Successfully pushed {table_name} to database.\")\n",
    "    new_provider_df.to_csv()\n",
    "except Exception as e:\n",
    "    logger.error(f\"Failed to push {table_name} to database.\", exc_info=True) \n",
    "    print(e)"
   ]
  },
  {
   "cell_type": "code",
   "execution_count": 11,
   "id": "674fc157",
   "metadata": {
    "ExecuteTime": {
     "end_time": "2023-07-17T17:48:28.773961Z",
     "start_time": "2023-07-17T17:48:28.766341Z"
    },
    "execution": {
     "iopub.execute_input": "2024-02-08T13:27:22.243752Z",
     "iopub.status.busy": "2024-02-08T13:27:22.243752Z",
     "iopub.status.idle": "2024-02-08T13:27:22.257701Z",
     "shell.execute_reply": "2024-02-08T13:27:22.257701Z"
    },
    "papermill": {
     "duration": 0.013949,
     "end_time": "2024-02-08T13:27:22.257701",
     "exception": false,
     "start_time": "2024-02-08T13:27:22.243752",
     "status": "completed"
    },
    "tags": []
   },
   "outputs": [],
   "source": [
    "# \", \".join([item + \" \" + str(all_changes[item].dtype) for item in all_changes.columns])"
   ]
  },
  {
   "cell_type": "code",
   "execution_count": 12,
   "id": "bfe66b56",
   "metadata": {
    "ExecuteTime": {
     "end_time": "2023-07-17T17:48:29.031766Z",
     "start_time": "2023-07-17T17:48:28.773961Z"
    },
    "execution": {
     "iopub.execute_input": "2024-02-08T13:27:22.273354Z",
     "iopub.status.busy": "2024-02-08T13:27:22.273354Z",
     "iopub.status.idle": "2024-02-08T13:27:22.373165Z",
     "shell.execute_reply": "2024-02-08T13:27:22.373165Z"
    },
    "papermill": {
     "duration": 0.115464,
     "end_time": "2024-02-08T13:27:22.373165",
     "exception": false,
     "start_time": "2024-02-08T13:27:22.257701",
     "status": "completed"
    },
    "tags": []
   },
   "outputs": [],
   "source": [
    "# adds the new provider changes to ptPrimaryProvider_ChangeLog\n",
    "table_name = \"ptPrimaryProvider_ChangeLog\"\n",
    "try:\n",
    "    c = conn.cursor()\n",
    "    c.execute(f'''CREATE TABLE IF NOT EXISTS {table_name} (PatientID INTEGER, ProviderID INTEGER, DateofChange TEXT)''')\n",
    "    conn.commit()\n",
    "    all_changes.to_sql(table_name, conn, if_exists='replace', index = False)\n",
    "    logger.info(f\"Successfully pushed {table_name} to database.\")            \n",
    "except Exception as e:\n",
    "    logger.error(f\"Failed to push {table_name} to database.\", exc_info=True) \n",
    "    print(e)"
   ]
  },
  {
   "cell_type": "code",
   "execution_count": 13,
   "id": "3ac136fc",
   "metadata": {
    "ExecuteTime": {
     "end_time": "2023-07-17T17:48:29.041110Z",
     "start_time": "2023-07-17T17:48:29.032766Z"
    },
    "execution": {
     "iopub.execute_input": "2024-02-08T13:27:22.388882Z",
     "iopub.status.busy": "2024-02-08T13:27:22.388882Z",
     "iopub.status.idle": "2024-02-08T13:27:22.403690Z",
     "shell.execute_reply": "2024-02-08T13:27:22.403690Z"
    },
    "papermill": {
     "duration": 0.014808,
     "end_time": "2024-02-08T13:27:22.403690",
     "exception": false,
     "start_time": "2024-02-08T13:27:22.388882",
     "status": "completed"
    },
    "tags": []
   },
   "outputs": [],
   "source": [
    "conn.close()"
   ]
  },
  {
   "cell_type": "markdown",
   "id": "a6f40748",
   "metadata": {
    "papermill": {
     "duration": 0.0,
     "end_time": "2024-02-08T13:27:22.419411",
     "exception": false,
     "start_time": "2024-02-08T13:27:22.419411",
     "status": "completed"
    },
    "tags": []
   },
   "source": [
    "## Write backup to excel "
   ]
  },
  {
   "cell_type": "code",
   "execution_count": 14,
   "id": "33b39e7f",
   "metadata": {
    "ExecuteTime": {
     "end_time": "2023-07-17T17:48:29.724539Z",
     "start_time": "2023-07-17T17:48:29.041110Z"
    },
    "execution": {
     "iopub.execute_input": "2024-02-08T13:27:22.435043Z",
     "iopub.status.busy": "2024-02-08T13:27:22.435043Z",
     "iopub.status.idle": "2024-02-08T13:27:23.308222Z",
     "shell.execute_reply": "2024-02-08T13:27:23.308222Z"
    },
    "papermill": {
     "duration": 0.888811,
     "end_time": "2024-02-08T13:27:23.308222",
     "exception": false,
     "start_time": "2024-02-08T13:27:22.419411",
     "status": "completed"
    },
    "tags": []
   },
   "outputs": [],
   "source": [
    "# write data to excel as a backup in case something happens to the db\n",
    "try:\n",
    "    with pd.ExcelWriter('../../../TestEnvironment/data/Provider Tracker.xlsx') as writer:  \n",
    "        new_provider_df.to_excel(writer, sheet_name='Old Provider', index = False)\n",
    "        all_changes.to_excel(writer, sheet_name='Changes', index = False)\n",
    "    logger.info(\"Successfully backed up changes to excel.\")\n",
    "except Exception as e:\n",
    "    logger.error(\"Failed to back up changes to excel.\")\n",
    "    print(e)"
   ]
  }
 ],
 "metadata": {
  "kernelspec": {
   "display_name": "Python 3 (ipykernel)",
   "language": "python",
   "name": "python3"
  },
  "language_info": {
   "codemirror_mode": {
    "name": "ipython",
    "version": 3
   },
   "file_extension": ".py",
   "mimetype": "text/x-python",
   "name": "python",
   "nbconvert_exporter": "python",
   "pygments_lexer": "ipython3",
   "version": "3.11.5"
  },
  "papermill": {
   "default_parameters": {},
   "duration": 4.270032,
   "end_time": "2024-02-08T13:27:23.589691",
   "environment_variables": {},
   "exception": null,
   "input_path": "Primary Care Provider Tracker.ipynb",
   "output_path": "snapshots/Primary Care Provider Tracker.ipynb",
   "parameters": {},
   "start_time": "2024-02-08T13:27:19.319659",
   "version": "2.4.0"
  },
  "toc": {
   "base_numbering": 1,
   "nav_menu": {
    "height": "112px",
    "width": "259.2px"
   },
   "number_sections": true,
   "sideBar": true,
   "skip_h1_title": false,
   "title_cell": "Table of Contents",
   "title_sidebar": "Contents",
   "toc_cell": false,
   "toc_position": {},
   "toc_section_display": true,
   "toc_window_display": true
  },
  "varInspector": {
   "cols": {
    "lenName": 16,
    "lenType": 16,
    "lenVar": 40
   },
   "kernels_config": {
    "python": {
     "delete_cmd_postfix": "",
     "delete_cmd_prefix": "del ",
     "library": "var_list.py",
     "varRefreshCmd": "print(var_dic_list())"
    },
    "r": {
     "delete_cmd_postfix": ") ",
     "delete_cmd_prefix": "rm(",
     "library": "var_list.r",
     "varRefreshCmd": "cat(var_dic_list()) "
    }
   },
   "types_to_exclude": [
    "module",
    "function",
    "builtin_function_or_method",
    "instance",
    "_Feature"
   ],
   "window_display": false
  }
 },
 "nbformat": 4,
 "nbformat_minor": 5
}