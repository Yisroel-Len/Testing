{
 "cells": [
  {
   "cell_type": "code",
   "execution_count": 1,
   "id": "892ebea8",
   "metadata": {
    "ExecuteTime": {
     "end_time": "2023-07-17T17:48:27.919781Z",
     "start_time": "2023-07-17T17:48:27.909788Z"
    },
    "execution": {
     "iopub.execute_input": "2024-10-15T11:00:47.829988Z",
     "iopub.status.busy": "2024-10-15T11:00:47.829988Z",
     "iopub.status.idle": "2024-10-15T11:00:48.578896Z",
     "shell.execute_reply": "2024-10-15T11:00:48.578896Z"
    },
    "papermill": {
     "duration": 0.750613,
     "end_time": "2024-10-15T11:00:48.578896",
     "exception": false,
     "start_time": "2024-10-15T11:00:47.828283",
     "status": "completed"
    },
    "tags": []
   },
   "outputs": [],
   "source": [
    "import pandas as pd\n",
    "import numpy as np\n",
    "import pyodbc \n",
    "import time\n",
    "from datetime import datetime\n",
    "import sqlite3"
   ]
  },
  {
   "cell_type": "code",
   "execution_count": 2,
   "id": "f8489a04",
   "metadata": {
    "ExecuteTime": {
     "end_time": "2024-09-17T18:53:46.225994Z",
     "start_time": "2024-09-17T18:53:46.207687Z"
    },
    "execution": {
     "iopub.execute_input": "2024-10-15T11:00:48.594547Z",
     "iopub.status.busy": "2024-10-15T11:00:48.594547Z",
     "iopub.status.idle": "2024-10-15T11:00:48.612283Z",
     "shell.execute_reply": "2024-10-15T11:00:48.612283Z"
    },
    "papermill": {
     "duration": 0.017736,
     "end_time": "2024-10-15T11:00:48.612283",
     "exception": false,
     "start_time": "2024-10-15T11:00:48.594547",
     "status": "completed"
    },
    "tags": []
   },
   "outputs": [
    {
     "name": "stderr",
     "output_type": "stream",
     "text": [
      "<>:3: SyntaxWarning: invalid escape sequence '\\.'\n",
      "<>:3: SyntaxWarning: invalid escape sequence '\\.'\n",
      "C:\\Users\\ylen\\AppData\\Local\\Temp\\ipykernel_6988\\2070173801.py:3: SyntaxWarning: invalid escape sequence '\\.'\n",
      "  path = \"..\\..\\Logs\\clinical_log.log\"\n"
     ]
    }
   ],
   "source": [
    "import sys\n",
    "import logging\n",
    "path = \"..\\..\\Logs\\clinical_log.log\"\n",
    "logging.basicConfig(filename=path,\n",
    "                    filemode='a',\n",
    "                    format='%(asctime)s,%(msecs)d,%(name)s,%(levelname)s,%(message)s',\n",
    "                    datefmt='%Y-%m-%d %H:%M:%S',\n",
    "                    level=logging.DEBUG)\n",
    "logger = logging.getLogger(\"Primary Care Provider Tracker\")\n",
    "# logger.info(\"testing log\")"
   ]
  },
  {
   "cell_type": "code",
   "execution_count": 3,
   "id": "ead63368",
   "metadata": {
    "ExecuteTime": {
     "end_time": "2023-07-17T17:48:28.106021Z",
     "start_time": "2023-07-17T17:48:28.055788Z"
    },
    "execution": {
     "iopub.execute_input": "2024-10-15T11:00:48.612283Z",
     "iopub.status.busy": "2024-10-15T11:00:48.612283Z",
     "iopub.status.idle": "2024-10-15T11:00:48.631132Z",
     "shell.execute_reply": "2024-10-15T11:00:48.631132Z"
    },
    "papermill": {
     "duration": 0.018849,
     "end_time": "2024-10-15T11:00:48.631132",
     "exception": false,
     "start_time": "2024-10-15T11:00:48.612283",
     "status": "completed"
    },
    "tags": []
   },
   "outputs": [],
   "source": [
    "conn = sqlite3.connect('../../InSyncConnection/Database/InSyncClinical.db')\n",
    "# cursor = conn.cursor()\n",
    "\n",
    "# # printing all table names  \n",
    "# sql_query = \"\"\"SELECT name FROM sqlite_master\n",
    "#     WHERE type='table';\"\"\"\n",
    "\n",
    "# cursor.execute(sql_query)\n",
    "# print(cursor.fetchall())"
   ]
  },
  {
   "cell_type": "markdown",
   "id": "dcc94ada",
   "metadata": {
    "papermill": {
     "duration": 0.0,
     "end_time": "2024-10-15T11:00:48.631132",
     "exception": false,
     "start_time": "2024-10-15T11:00:48.631132",
     "status": "completed"
    },
    "tags": []
   },
   "source": [
    "## Read in Data "
   ]
  },
  {
   "cell_type": "markdown",
   "id": "15092534",
   "metadata": {
    "papermill": {
     "duration": 0.00051,
     "end_time": "2024-10-15T11:00:48.648385",
     "exception": false,
     "start_time": "2024-10-15T11:00:48.647875",
     "status": "completed"
    },
    "tags": []
   },
   "source": [
    "### Get new data from sql"
   ]
  },
  {
   "cell_type": "code",
   "execution_count": 4,
   "id": "7158fcb7",
   "metadata": {
    "ExecuteTime": {
     "end_time": "2023-07-17T17:48:28.268623Z",
     "start_time": "2023-07-17T17:48:28.108003Z"
    },
    "execution": {
     "iopub.execute_input": "2024-10-15T11:00:48.648385Z",
     "iopub.status.busy": "2024-10-15T11:00:48.648385Z",
     "iopub.status.idle": "2024-10-15T11:00:48.735480Z",
     "shell.execute_reply": "2024-10-15T11:00:48.735480Z"
    },
    "papermill": {
     "duration": 0.087095,
     "end_time": "2024-10-15T11:00:48.735480",
     "exception": false,
     "start_time": "2024-10-15T11:00:48.648385",
     "status": "completed"
    },
    "tags": []
   },
   "outputs": [],
   "source": [
    "# Get current provider data from sql \n",
    "try:\n",
    "    sql='''\n",
    "    SELECT \n",
    "        PatientID,\n",
    "        PatientPrimaryProviderID AS 'ProviderID'\n",
    "    FROM \n",
    "        tblPatientPrimaryProviders\n",
    "    WHERE\n",
    "       IsDefault LIKE 'True'\n",
    "    '''\n",
    "    new_provider_df = pd.read_sql(sql, conn)    \n",
    "    logger.info(f\"Successfully queried tblPatientPrimaryProviders.\")            \n",
    "except Exception as e:\n",
    "    logger.error(f\"Failed to query tblPatientPrimaryProviders.\", exc_info=True) \n",
    "    print(e)\n",
    "    sys.exit(1)"
   ]
  },
  {
   "cell_type": "code",
   "execution_count": 5,
   "id": "367579bf",
   "metadata": {
    "ExecuteTime": {
     "end_time": "2023-07-17T17:48:28.314600Z",
     "start_time": "2023-07-17T17:48:28.270608Z"
    },
    "execution": {
     "iopub.execute_input": "2024-10-15T11:00:48.751139Z",
     "iopub.status.busy": "2024-10-15T11:00:48.751139Z",
     "iopub.status.idle": "2024-10-15T11:00:48.817016Z",
     "shell.execute_reply": "2024-10-15T11:00:48.817016Z"
    },
    "papermill": {
     "duration": 0.081536,
     "end_time": "2024-10-15T11:00:48.817016",
     "exception": false,
     "start_time": "2024-10-15T11:00:48.735480",
     "status": "completed"
    },
    "scrolled": false,
    "tags": []
   },
   "outputs": [],
   "source": [
    "# Get patient data\n",
    "try:\n",
    "    sql='''\n",
    "    SELECT \n",
    "        PatientId AS PatientID,\n",
    "        FirstName,\n",
    "        LastName,\n",
    "        DOB\n",
    "    FROM \n",
    "        emr_PatientDetails\n",
    "    '''\n",
    "    patient_details_df = pd.read_sql(sql, conn)\n",
    "    patient_details_df['FirstName'] = patient_details_df['FirstName'].apply(lambda name: name.capitalize())\n",
    "    patient_details_df['LastName'] = patient_details_df['LastName'].apply(lambda name: name.capitalize())\n",
    "    logger.info(f\"Successfully queried emr_PatientDetails.\")            \n",
    "except Exception as e:\n",
    "    logger.error(f\"Failed to query emr_PatientDetails.\", exc_info=True) \n",
    "    print(e)\n",
    "    sys.exit(1)"
   ]
  },
  {
   "cell_type": "code",
   "execution_count": 6,
   "id": "b9123312",
   "metadata": {
    "ExecuteTime": {
     "end_time": "2023-07-17T17:48:28.426518Z",
     "start_time": "2023-07-17T17:48:28.316582Z"
    },
    "execution": {
     "iopub.execute_input": "2024-10-15T11:00:48.817016Z",
     "iopub.status.busy": "2024-10-15T11:00:48.817016Z",
     "iopub.status.idle": "2024-10-15T11:00:48.926259Z",
     "shell.execute_reply": "2024-10-15T11:00:48.926259Z"
    },
    "papermill": {
     "duration": 0.109243,
     "end_time": "2024-10-15T11:00:48.926259",
     "exception": false,
     "start_time": "2024-10-15T11:00:48.817016",
     "status": "completed"
    },
    "tags": []
   },
   "outputs": [],
   "source": [
    "# Get previous provider info\n",
    "useBackup = False\n",
    "try:\n",
    "    sql = '''SELECT * FROM ptCurrent_Provider_Tracker'''\n",
    "    old_provider_df = pd.read_sql(sql, conn)\n",
    "    logger.info(f\"Successfully queried ptCurrent_Provider_Tracker.\")\n",
    "except Exception as e:\n",
    "    useBackup = True\n",
    "    logger.error(f\"Failed to query ptCurrent_Provider_Tracker.\", exc_info=True)\n",
    "    print(e)\n",
    "\n",
    "# get previous changes info\n",
    "try:\n",
    "    sql = '''SELECT * FROM ptPrimaryProvider_ChangeLog'''\n",
    "    prev_changes_df = pd.read_sql(sql, conn)\n",
    "    logger.info(f\"Successfully queried ptOld_Provider_Tracker.\")            \n",
    "except Exception as e:\n",
    "    useBackup = True\n",
    "    logger.error(f\"Failed to query ptOld_Provider_Tracker.\", exc_info=True) \n",
    "    print(e)"
   ]
  },
  {
   "cell_type": "markdown",
   "id": "dde40b3c",
   "metadata": {
    "ExecuteTime": {
     "end_time": "2023-07-13T13:25:36.659174Z",
     "start_time": "2023-07-13T13:25:36.655175Z"
    },
    "papermill": {
     "duration": 0.015658,
     "end_time": "2024-10-15T11:00:48.941917",
     "exception": false,
     "start_time": "2024-10-15T11:00:48.926259",
     "status": "completed"
    },
    "tags": []
   },
   "source": [
    "### Get backed up data from excel\n",
    "    Use if issue with the db"
   ]
  },
  {
   "cell_type": "code",
   "execution_count": 7,
   "id": "6f9381e4",
   "metadata": {
    "ExecuteTime": {
     "end_time": "2023-07-17T17:48:28.442528Z",
     "start_time": "2023-07-17T17:48:28.427518Z"
    },
    "execution": {
     "iopub.execute_input": "2024-10-15T11:00:48.957537Z",
     "iopub.status.busy": "2024-10-15T11:00:48.957537Z",
     "iopub.status.idle": "2024-10-15T11:00:48.989646Z",
     "shell.execute_reply": "2024-10-15T11:00:48.989646Z"
    },
    "papermill": {
     "duration": 0.032109,
     "end_time": "2024-10-15T11:00:48.989646",
     "exception": false,
     "start_time": "2024-10-15T11:00:48.957537",
     "status": "completed"
    },
    "tags": []
   },
   "outputs": [
    {
     "data": {
      "text/html": [
       "<div>\n",
       "<style scoped>\n",
       "    .dataframe tbody tr th:only-of-type {\n",
       "        vertical-align: middle;\n",
       "    }\n",
       "\n",
       "    .dataframe tbody tr th {\n",
       "        vertical-align: top;\n",
       "    }\n",
       "\n",
       "    .dataframe thead th {\n",
       "        text-align: right;\n",
       "    }\n",
       "</style>\n",
       "<table border=\"1\" class=\"dataframe\">\n",
       "  <thead>\n",
       "    <tr style=\"text-align: right;\">\n",
       "      <th></th>\n",
       "      <th>PatientID</th>\n",
       "      <th>ProviderID</th>\n",
       "      <th>Date Of Change</th>\n",
       "    </tr>\n",
       "  </thead>\n",
       "  <tbody>\n",
       "    <tr>\n",
       "      <th>0</th>\n",
       "      <td>629485</td>\n",
       "      <td>1572.0</td>\n",
       "      <td>10/14/2024</td>\n",
       "    </tr>\n",
       "    <tr>\n",
       "      <th>1</th>\n",
       "      <td>629486</td>\n",
       "      <td>1572.0</td>\n",
       "      <td>10/14/2024</td>\n",
       "    </tr>\n",
       "    <tr>\n",
       "      <th>2</th>\n",
       "      <td>627643</td>\n",
       "      <td>1651.0</td>\n",
       "      <td>10/11/2024</td>\n",
       "    </tr>\n",
       "    <tr>\n",
       "      <th>3</th>\n",
       "      <td>625643</td>\n",
       "      <td>1681.0</td>\n",
       "      <td>10/11/2024</td>\n",
       "    </tr>\n",
       "    <tr>\n",
       "      <th>4</th>\n",
       "      <td>627410</td>\n",
       "      <td>1566.0</td>\n",
       "      <td>10/11/2024</td>\n",
       "    </tr>\n",
       "    <tr>\n",
       "      <th>...</th>\n",
       "      <td>...</td>\n",
       "      <td>...</td>\n",
       "      <td>...</td>\n",
       "    </tr>\n",
       "    <tr>\n",
       "      <th>11677</th>\n",
       "      <td>622419</td>\n",
       "      <td>1599.0</td>\n",
       "      <td>06/14/2023</td>\n",
       "    </tr>\n",
       "    <tr>\n",
       "      <th>11678</th>\n",
       "      <td>622423</td>\n",
       "      <td>1599.0</td>\n",
       "      <td>06/14/2023</td>\n",
       "    </tr>\n",
       "    <tr>\n",
       "      <th>11679</th>\n",
       "      <td>622465</td>\n",
       "      <td>1599.0</td>\n",
       "      <td>06/14/2023</td>\n",
       "    </tr>\n",
       "    <tr>\n",
       "      <th>11680</th>\n",
       "      <td>622475</td>\n",
       "      <td>1599.0</td>\n",
       "      <td>06/14/2023</td>\n",
       "    </tr>\n",
       "    <tr>\n",
       "      <th>11681</th>\n",
       "      <td>622488</td>\n",
       "      <td>1599.0</td>\n",
       "      <td>06/14/2023</td>\n",
       "    </tr>\n",
       "  </tbody>\n",
       "</table>\n",
       "<p>11682 rows × 3 columns</p>\n",
       "</div>"
      ],
      "text/plain": [
       "       PatientID  ProviderID Date Of Change\n",
       "0         629485      1572.0     10/14/2024\n",
       "1         629486      1572.0     10/14/2024\n",
       "2         627643      1651.0     10/11/2024\n",
       "3         625643      1681.0     10/11/2024\n",
       "4         627410      1566.0     10/11/2024\n",
       "...          ...         ...            ...\n",
       "11677     622419      1599.0     06/14/2023\n",
       "11678     622423      1599.0     06/14/2023\n",
       "11679     622465      1599.0     06/14/2023\n",
       "11680     622475      1599.0     06/14/2023\n",
       "11681     622488      1599.0     06/14/2023\n",
       "\n",
       "[11682 rows x 3 columns]"
      ]
     },
     "execution_count": 7,
     "metadata": {},
     "output_type": "execute_result"
    }
   ],
   "source": [
    "if useBackup == True:\n",
    "    try:\n",
    "        old_provider_df = pd.read_excel(r\"../../../TestEnvironment/data/Provider Tracker.xlsx\",\n",
    "                                         sheet_name = \"Old Provider\")\n",
    "        prev_changes_df = pd.read_excel(r\"../../../TestEnvironment/data/Provider Tracker.xlsx\",\n",
    "                                         sheet_name = \"Changes\")\n",
    "        logger.info(\"Successfully read in old data from excel backup\")\n",
    "    except Exception as e:\n",
    "        logger.error(\"Failed to read in old data from excel backup\")\n",
    "prev_changes_df"
   ]
  },
  {
   "cell_type": "markdown",
   "id": "e2fb8e28",
   "metadata": {
    "papermill": {
     "duration": 0.021001,
     "end_time": "2024-10-15T11:00:49.010647",
     "exception": false,
     "start_time": "2024-10-15T11:00:48.989646",
     "status": "completed"
    },
    "tags": []
   },
   "source": [
    "## Compare new data to old data "
   ]
  },
  {
   "cell_type": "code",
   "execution_count": 8,
   "id": "965060a2",
   "metadata": {
    "ExecuteTime": {
     "end_time": "2023-07-17T17:48:28.489997Z",
     "start_time": "2023-07-17T17:48:28.443509Z"
    },
    "execution": {
     "iopub.execute_input": "2024-10-15T11:00:49.010647Z",
     "iopub.status.busy": "2024-10-15T11:00:49.010647Z",
     "iopub.status.idle": "2024-10-15T11:00:49.044763Z",
     "shell.execute_reply": "2024-10-15T11:00:49.044763Z"
    },
    "papermill": {
     "duration": 0.034116,
     "end_time": "2024-10-15T11:00:49.044763",
     "exception": false,
     "start_time": "2024-10-15T11:00:49.010647",
     "status": "completed"
    },
    "tags": []
   },
   "outputs": [],
   "source": [
    "try:    \n",
    "    #merge frames\n",
    "    consistant_providers = old_provider_df.merge(new_provider_df,how='outer',on='PatientID', indicator=False)\n",
    "    \n",
    "    #filter out consistant data\n",
    "    inconsistant_mask = consistant_providers['ProviderID_x'] != consistant_providers['ProviderID_y']\n",
    "    inconsistantProviders = consistant_providers[inconsistant_mask].copy()\n",
    "    \n",
    "    # reformat frame\n",
    "    inconsistantProviders.drop('ProviderID_x', axis = 1, inplace=True)\n",
    "    inconsistantProviders.rename(columns={'ProviderID_y': 'ProviderID'}, inplace=True)\n",
    "    \n",
    "    # add date of change\n",
    "    today = datetime.today().strftime('%m/%d/%Y')\n",
    "    inconsistantProviders['Date Of Change'] = today\n",
    "    \n",
    "    # concat prev changes\n",
    "    all_changes = pd.concat([inconsistantProviders,prev_changes_df])\n",
    "    logger.info(f\"Successfully compared old data to new data.\")            \n",
    "except Exception as e:\n",
    "    logger.error(f\"Failed to compare old data to new data.\", exc_info=True) \n",
    "    print(e)\n",
    "    sys.exit(1)"
   ]
  },
  {
   "cell_type": "markdown",
   "id": "4598c07d",
   "metadata": {
    "papermill": {
     "duration": 0.015641,
     "end_time": "2024-10-15T11:00:49.060404",
     "exception": false,
     "start_time": "2024-10-15T11:00:49.044763",
     "status": "completed"
    },
    "tags": []
   },
   "source": [
    "## Push data to DB"
   ]
  },
  {
   "cell_type": "code",
   "execution_count": 9,
   "id": "35f1bc34",
   "metadata": {
    "ExecuteTime": {
     "end_time": "2023-07-17T17:48:28.521527Z",
     "start_time": "2023-07-17T17:48:28.490997Z"
    },
    "execution": {
     "iopub.execute_input": "2024-10-15T11:00:49.060404Z",
     "iopub.status.busy": "2024-10-15T11:00:49.060404Z",
     "iopub.status.idle": "2024-10-15T11:00:49.077376Z",
     "shell.execute_reply": "2024-10-15T11:00:49.077376Z"
    },
    "papermill": {
     "duration": 0.016972,
     "end_time": "2024-10-15T11:00:49.077376",
     "exception": false,
     "start_time": "2024-10-15T11:00:49.060404",
     "status": "completed"
    },
    "tags": []
   },
   "outputs": [],
   "source": [
    "# \", \".join([item + \" \" + str(new_provider_df[item].dtype) for item in new_provider_df.columns])"
   ]
  },
  {
   "cell_type": "code",
   "execution_count": 10,
   "id": "86786c5a",
   "metadata": {
    "ExecuteTime": {
     "end_time": "2023-07-17T17:48:28.765359Z",
     "start_time": "2023-07-17T17:48:28.524525Z"
    },
    "execution": {
     "iopub.execute_input": "2024-10-15T11:00:49.077376Z",
     "iopub.status.busy": "2024-10-15T11:00:49.077376Z",
     "iopub.status.idle": "2024-10-15T11:00:49.264945Z",
     "shell.execute_reply": "2024-10-15T11:00:49.264945Z"
    },
    "papermill": {
     "duration": 0.187569,
     "end_time": "2024-10-15T11:00:49.264945",
     "exception": false,
     "start_time": "2024-10-15T11:00:49.077376",
     "status": "completed"
    },
    "tags": []
   },
   "outputs": [],
   "source": [
    "# changes ptCurrent_Provider_Tracker to today's current provider\n",
    "table_name = \"ptCurrent_Provider_Tracker\"\n",
    "try:\n",
    "    c = conn.cursor()\n",
    "    c.execute(f'''CREATE TABLE IF NOT EXISTS {table_name} (PatientID INTEGER, ProviderID INTEGER)''')\n",
    "    conn.commit()\n",
    "    new_provider_df.to_sql(table_name, conn, if_exists='replace', index = False)\n",
    "    logger.info(f\"Successfully pushed {table_name} to database.\")\n",
    "    new_provider_df.to_csv()\n",
    "except Exception as e:\n",
    "    logger.error(f\"Failed to push {table_name} to database.\", exc_info=True) \n",
    "    print(e)"
   ]
  },
  {
   "cell_type": "code",
   "execution_count": 11,
   "id": "674fc157",
   "metadata": {
    "ExecuteTime": {
     "end_time": "2023-07-17T17:48:28.773961Z",
     "start_time": "2023-07-17T17:48:28.766341Z"
    },
    "execution": {
     "iopub.execute_input": "2024-10-15T11:00:49.280753Z",
     "iopub.status.busy": "2024-10-15T11:00:49.264945Z",
     "iopub.status.idle": "2024-10-15T11:00:49.284475Z",
     "shell.execute_reply": "2024-10-15T11:00:49.284475Z"
    },
    "papermill": {
     "duration": 0.01953,
     "end_time": "2024-10-15T11:00:49.284475",
     "exception": false,
     "start_time": "2024-10-15T11:00:49.264945",
     "status": "completed"
    },
    "tags": []
   },
   "outputs": [],
   "source": [
    "# \", \".join([item + \" \" + str(all_changes[item].dtype) for item in all_changes.columns])"
   ]
  },
  {
   "cell_type": "code",
   "execution_count": 12,
   "id": "bfe66b56",
   "metadata": {
    "ExecuteTime": {
     "end_time": "2023-07-17T17:48:29.031766Z",
     "start_time": "2023-07-17T17:48:28.773961Z"
    },
    "execution": {
     "iopub.execute_input": "2024-10-15T11:00:49.300132Z",
     "iopub.status.busy": "2024-10-15T11:00:49.300132Z",
     "iopub.status.idle": "2024-10-15T11:00:49.548540Z",
     "shell.execute_reply": "2024-10-15T11:00:49.548540Z"
    },
    "papermill": {
     "duration": 0.264065,
     "end_time": "2024-10-15T11:00:49.548540",
     "exception": false,
     "start_time": "2024-10-15T11:00:49.284475",
     "status": "completed"
    },
    "tags": []
   },
   "outputs": [],
   "source": [
    "# adds the new provider changes to ptPrimaryProvider_ChangeLog\n",
    "table_name = \"ptPrimaryProvider_ChangeLog\"\n",
    "try:\n",
    "    c = conn.cursor()\n",
    "    c.execute(f'''CREATE TABLE IF NOT EXISTS {table_name} (PatientID INTEGER, ProviderID INTEGER, DateofChange TEXT)''')\n",
    "    conn.commit()\n",
    "    all_changes.to_sql(table_name, conn, if_exists='replace', index = False)\n",
    "    logger.info(f\"Successfully pushed {table_name} to database.\")            \n",
    "except Exception as e:\n",
    "    logger.error(f\"Failed to push {table_name} to database.\", exc_info=True) \n",
    "    print(e)"
   ]
  },
  {
   "cell_type": "code",
   "execution_count": 13,
   "id": "3ac136fc",
   "metadata": {
    "ExecuteTime": {
     "end_time": "2023-07-17T17:48:29.041110Z",
     "start_time": "2023-07-17T17:48:29.032766Z"
    },
    "execution": {
     "iopub.execute_input": "2024-10-15T11:00:49.564930Z",
     "iopub.status.busy": "2024-10-15T11:00:49.564930Z",
     "iopub.status.idle": "2024-10-15T11:00:49.577966Z",
     "shell.execute_reply": "2024-10-15T11:00:49.577966Z"
    },
    "papermill": {
     "duration": 0.029426,
     "end_time": "2024-10-15T11:00:49.577966",
     "exception": false,
     "start_time": "2024-10-15T11:00:49.548540",
     "status": "completed"
    },
    "tags": []
   },
   "outputs": [],
   "source": [
    "conn.close()"
   ]
  },
  {
   "cell_type": "markdown",
   "id": "a6f40748",
   "metadata": {
    "papermill": {
     "duration": 0.0,
     "end_time": "2024-10-15T11:00:49.577966",
     "exception": false,
     "start_time": "2024-10-15T11:00:49.577966",
     "status": "completed"
    },
    "tags": []
   },
   "source": [
    "## Write backup to excel "
   ]
  },
  {
   "cell_type": "code",
   "execution_count": 14,
   "id": "33b39e7f",
   "metadata": {
    "ExecuteTime": {
     "end_time": "2023-07-17T17:48:29.724539Z",
     "start_time": "2023-07-17T17:48:29.041110Z"
    },
    "execution": {
     "iopub.execute_input": "2024-10-15T11:00:49.593612Z",
     "iopub.status.busy": "2024-10-15T11:00:49.593612Z",
     "iopub.status.idle": "2024-10-15T11:00:50.358141Z",
     "shell.execute_reply": "2024-10-15T11:00:50.358141Z"
    },
    "papermill": {
     "duration": 0.764529,
     "end_time": "2024-10-15T11:00:50.358141",
     "exception": false,
     "start_time": "2024-10-15T11:00:49.593612",
     "status": "completed"
    },
    "tags": []
   },
   "outputs": [
    {
     "name": "stdout",
     "output_type": "stream",
     "text": [
      "Cannot save file into a non-existent directory: '..\\..\\..\\TestEnvironment\\data'\n"
     ]
    }
   ],
   "source": [
    "# write data to excel as a backup in case something happens to the db\n",
    "try:\n",
    "    with pd.ExcelWriter('../../../TestEnvironment/data/Provider Tracker.xlsx') as writer:  \n",
    "        new_provider_df.to_excel(writer, sheet_name='Old Provider', index = False)\n",
    "        all_changes.to_excel(writer, sheet_name='Changes', index = False)\n",
    "    logger.info(\"Successfully backed up changes to excel.\")\n",
    "except Exception as e:\n",
    "    logger.error(\"Failed to back up changes to excel.\")\n",
    "    print(e)"
   ]
  }
 ],
 "metadata": {
  "kernelspec": {
   "display_name": "Python 3 (ipykernel)",
   "language": "python",
   "name": "python3"
  },
  "language_info": {
   "codemirror_mode": {
    "name": "ipython",
    "version": 3
   },
   "file_extension": ".py",
   "mimetype": "text/x-python",
   "name": "python",
   "nbconvert_exporter": "python",
   "pygments_lexer": "ipython3",
   "version": "3.12.4"
  },
  "papermill": {
   "default_parameters": {},
   "duration": 6.699085,
   "end_time": "2024-10-15T11:00:50.724381",
   "environment_variables": {},
   "exception": null,
   "input_path": "Primary Care Provider Tracker.ipynb",
   "output_path": "snapshots/Primary Care Provider Tracker.ipynb",
   "parameters": {},
   "start_time": "2024-10-15T11:00:44.025296",
   "version": "2.6.0"
  },
  "toc": {
   "base_numbering": 1,
   "nav_menu": {
    "height": "112px",
    "width": "259.2px"
   },
   "number_sections": true,
   "sideBar": true,
   "skip_h1_title": false,
   "title_cell": "Table of Contents",
   "title_sidebar": "Contents",
   "toc_cell": false,
   "toc_position": {
    "height": "calc(100% - 180px)",
    "left": "10px",
    "top": "150px",
    "width": "409.6px"
   },
   "toc_section_display": true,
   "toc_window_display": true
  },
  "varInspector": {
   "cols": {
    "lenName": 16,
    "lenType": 16,
    "lenVar": 40
   },
   "kernels_config": {
    "python": {
     "delete_cmd_postfix": "",
     "delete_cmd_prefix": "del ",
     "library": "var_list.py",
     "varRefreshCmd": "print(var_dic_list())"
    },
    "r": {
     "delete_cmd_postfix": ") ",
     "delete_cmd_prefix": "rm(",
     "library": "var_list.r",
     "varRefreshCmd": "cat(var_dic_list()) "
    }
   },
   "types_to_exclude": [
    "module",
    "function",
    "builtin_function_or_method",
    "instance",
    "_Feature"
   ],
   "window_display": false
  }
 },
 "nbformat": 4,
 "nbformat_minor": 5
}