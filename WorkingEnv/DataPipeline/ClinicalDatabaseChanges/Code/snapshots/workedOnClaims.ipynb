{
 "cells": [
  {
   "cell_type": "code",
   "execution_count": 1,
   "id": "cdbee8e8",
   "metadata": {
    "ExecuteTime": {
     "end_time": "2024-09-17T18:50:53.692673Z",
     "start_time": "2024-09-17T18:50:52.832158Z"
    },
    "execution": {
     "iopub.execute_input": "2024-10-14T15:14:14.784777Z",
     "iopub.status.busy": "2024-10-14T15:14:14.784777Z",
     "iopub.status.idle": "2024-10-14T15:14:15.590831Z",
     "shell.execute_reply": "2024-10-14T15:14:15.589831Z"
    },
    "papermill": {
     "duration": 0.819934,
     "end_time": "2024-10-14T15:14:15.592831",
     "exception": false,
     "start_time": "2024-10-14T15:14:14.772897",
     "status": "completed"
    },
    "tags": []
   },
   "outputs": [],
   "source": [
    "import pandas as pd\n",
    "import datetime\n",
    "from dateutil.relativedelta import relativedelta\n",
    "# from datetime import datetime\n",
    "import sqlite3\n",
    "from sqlalchemy import create_engine"
   ]
  },
  {
   "cell_type": "code",
   "execution_count": 2,
   "id": "760a2fc3",
   "metadata": {
    "ExecuteTime": {
     "end_time": "2024-09-17T19:14:29.325156Z",
     "start_time": "2024-09-17T19:14:29.317644Z"
    },
    "execution": {
     "iopub.execute_input": "2024-10-14T15:14:15.601832Z",
     "iopub.status.busy": "2024-10-14T15:14:15.601832Z",
     "iopub.status.idle": "2024-10-14T15:14:15.621840Z",
     "shell.execute_reply": "2024-10-14T15:14:15.619838Z"
    },
    "papermill": {
     "duration": 0.029,
     "end_time": "2024-10-14T15:14:15.625832",
     "exception": false,
     "start_time": "2024-10-14T15:14:15.596832",
     "status": "completed"
    },
    "tags": []
   },
   "outputs": [],
   "source": [
    "import logging\n",
    "path = \"..\\..\\Logs\\clinical_log.log\"\n",
    "logging.basicConfig(filename=path,\n",
    "                    filemode='a',\n",
    "                    format='%(asctime)s,%(msecs)d,%(name)s,%(levelname)s,%(message)s',\n",
    "                    datefmt='%Y-%m-%d %H:%M:%S',\n",
    "                    level=logging.DEBUG)\n",
    "logger = logging.getLogger(\"Determine Discharge Status\")\n",
    "# logger.info(\"testing log\")"
   ]
  },
  {
   "cell_type": "code",
   "execution_count": 3,
   "id": "1a8cd7d0",
   "metadata": {
    "ExecuteTime": {
     "end_time": "2024-09-17T18:50:54.268540Z",
     "start_time": "2024-09-17T18:50:53.707812Z"
    },
    "execution": {
     "iopub.execute_input": "2024-10-14T15:14:15.634923Z",
     "iopub.status.busy": "2024-10-14T15:14:15.633832Z",
     "iopub.status.idle": "2024-10-14T15:14:15.651055Z",
     "shell.execute_reply": "2024-10-14T15:14:15.650525Z"
    },
    "papermill": {
     "duration": 0.024232,
     "end_time": "2024-10-14T15:14:15.654063",
     "exception": false,
     "start_time": "2024-10-14T15:14:15.629831",
     "status": "completed"
    },
    "tags": []
   },
   "outputs": [],
   "source": [
    "conn = sqlite3.connect('../../InSyncConnection/Database/InSyncClinical.db')\n",
    "\n",
    "# engine = create_engine('sqlite:///../../WorkingEnv/InSyncConnection/Database/InSyncClinical.db')\n"
   ]
  },
  {
   "cell_type": "code",
   "execution_count": 4,
   "id": "71e1ace9",
   "metadata": {
    "ExecuteTime": {
     "end_time": "2024-09-17T18:51:12.430247Z",
     "start_time": "2024-09-17T18:50:54.272285Z"
    },
    "execution": {
     "iopub.execute_input": "2024-10-14T15:14:15.665065Z",
     "iopub.status.busy": "2024-10-14T15:14:15.664062Z",
     "iopub.status.idle": "2024-10-14T15:14:29.786572Z",
     "shell.execute_reply": "2024-10-14T15:14:29.785955Z"
    },
    "papermill": {
     "duration": 14.128514,
     "end_time": "2024-10-14T15:14:29.788577",
     "exception": false,
     "start_time": "2024-10-14T15:14:15.660063",
     "status": "completed"
    },
    "tags": []
   },
   "outputs": [],
   "source": [
    "try:\n",
    "    logger.info(\"Creating a dataframe from tblPayment table as well as other tables \")\n",
    "    sql = '''\n",
    "    SELECT\n",
    "        ClaimNo,\n",
    "        tblPayment.CreatedOn,\n",
    "        tblPayment.CreatedBy,\n",
    "        tblResourceDetails1.FullName,\n",
    "        DOSFrom\n",
    "    FROM \n",
    "        tblPayment\n",
    "        LEFT JOIN tblChargeDetails ON (tblChargeDetails.ChargeID=tblPayment.ClaimNo)\n",
    "        LEFT JOIN tblUser ON (tblPayment.CreatedBy=tblUser.UserID)\n",
    "        LEFT JOIN \n",
    "        (SELECT   \n",
    "            DISTINCT(UserID), \n",
    "            *\n",
    "        FROM \n",
    "            tblResourceDetails) \n",
    "        tblResourceDetails1 ON (tblUser.Userid=tblResourceDetails1.Userid)\n",
    "    '''\n",
    "    payment_df = pd.read_sql(sql, conn)\n",
    "    logger.info(\"Successfully created a dataframe from tblPayment table\")\n",
    "    payment_df['CreatedOn'] = pd.to_datetime(payment_df['CreatedOn'])\n",
    "    payment_df['DOSFrom'] = pd.to_datetime(payment_df['DOSFrom'])\n",
    "    # in order to merge the payment and submissions dataframes on the claimNo, we need to make sure they're sorted the same \n",
    "    # otherwise createdon dates and submission dates won't match up \n",
    "    payment_df = payment_df.sort_values(by=['ClaimNo', 'CreatedOn'], ascending=[True, False])\n",
    "except Exception as e:\n",
    "    print(e)\n",
    "    logger.error(\"Failed to create a dataframe from tblPayment table\")     "
   ]
  },
  {
   "cell_type": "code",
   "execution_count": 5,
   "id": "b74afcc1",
   "metadata": {
    "ExecuteTime": {
     "end_time": "2024-09-17T18:51:15.565408Z",
     "start_time": "2024-09-17T18:51:12.437501Z"
    },
    "execution": {
     "iopub.execute_input": "2024-10-14T15:14:29.797579Z",
     "iopub.status.busy": "2024-10-14T15:14:29.796596Z",
     "iopub.status.idle": "2024-10-14T15:15:06.223366Z",
     "shell.execute_reply": "2024-10-14T15:15:06.222453Z"
    },
    "papermill": {
     "duration": 36.433782,
     "end_time": "2024-10-14T15:15:06.225359",
     "exception": false,
     "start_time": "2024-10-14T15:14:29.791577",
     "status": "completed"
    },
    "tags": []
   },
   "outputs": [],
   "source": [
    "try:\n",
    "    logger.info(\"Creating a dataframe from tblClaimSubmission\")\n",
    "    sql = '''\n",
    "    SELECT\n",
    "        ClaimNumber as ClaimNo,\n",
    "        SubmissionDate\n",
    "    FROM \n",
    "        tblClaimSubmission\n",
    "    '''\n",
    "    submissions = pd.read_sql(sql, conn)\n",
    "    logger.info(\"Successfully created a dataframe from tblClaimSubmission\")\n",
    "    submissions['SubmissionDate'] = pd.to_datetime(submissions['SubmissionDate'])\n",
    "    # in order to merge the payment and submissions dataframes on the claimNo, we need to make sure they're sorted the same \n",
    "    # otherwise createdon dates and submission dates won't match up \n",
    "    submissions = submissions.sort_values(by=['ClaimNo', 'SubmissionDate'], ascending=[True, False])\n",
    "except Exception as e:\n",
    "    print(e)\n",
    "    logger.error(\"Failed to create a dataframe from tblClaimSubmission table\")"
   ]
  },
  {
   "cell_type": "code",
   "execution_count": 6,
   "id": "73332894",
   "metadata": {
    "ExecuteTime": {
     "end_time": "2024-09-17T18:51:16.263141Z",
     "start_time": "2024-09-17T18:51:15.568413Z"
    },
    "execution": {
     "iopub.execute_input": "2024-10-14T15:15:06.233938Z",
     "iopub.status.busy": "2024-10-14T15:15:06.233938Z",
     "iopub.status.idle": "2024-10-14T15:15:06.803761Z",
     "shell.execute_reply": "2024-10-14T15:15:06.802888Z"
    },
    "papermill": {
     "duration": 0.576429,
     "end_time": "2024-10-14T15:15:06.805790",
     "exception": false,
     "start_time": "2024-10-14T15:15:06.229361",
     "status": "completed"
    },
    "tags": []
   },
   "outputs": [],
   "source": [
    "try:\n",
    "    logger.info(\"Merging payment_df and submissions dataframes\")\n",
    "    payment_df = payment_df.merge(submissions, how='left', on='ClaimNo', validate='m:m')\n",
    "    logger.info(\"Successfully merged payment_df and submissions dataframes\")\n",
    "except Exception as e:\n",
    "    print(e)\n",
    "    logger.error(\"Failed to merge payment_df and submissions dataframes\")    "
   ]
  },
  {
   "cell_type": "code",
   "execution_count": 7,
   "id": "f6a773c8",
   "metadata": {
    "ExecuteTime": {
     "end_time": "2024-09-17T18:51:25.703917Z",
     "start_time": "2024-09-17T18:51:16.265267Z"
    },
    "execution": {
     "iopub.execute_input": "2024-10-14T15:15:06.815792Z",
     "iopub.status.busy": "2024-10-14T15:15:06.815792Z",
     "iopub.status.idle": "2024-10-14T15:15:10.767620Z",
     "shell.execute_reply": "2024-10-14T15:15:10.766671Z"
    },
    "papermill": {
     "duration": 3.959847,
     "end_time": "2024-10-14T15:15:10.769650",
     "exception": false,
     "start_time": "2024-10-14T15:15:06.809803",
     "status": "completed"
    },
    "tags": []
   },
   "outputs": [],
   "source": [
    "try:\n",
    "    logger.info(\"Creating a dataframe from tblPaymentDetails table and tblPaymentTransactionTypes table\")\n",
    "    sql = '''\n",
    "    SELECT\n",
    "        ClaimNo,\n",
    "        DisplayName as HadDenial\n",
    "    FROM \n",
    "        tblPaymentDetails\n",
    "        LEFT JOIN tblPaymentTransactionTypes ON (tblPaymentDetails.TransactionType=tblPaymentTransactionTypes.TransactionType)\n",
    "    WHERE \n",
    "        DisplayName = \"Denial\"\n",
    "    '''\n",
    "    denials = pd.read_sql(sql, conn)\n",
    "    logger.info(\"Successfully created a dataframe from tblPaymentDetails table and tblPaymentTransactionTypes table\")\n",
    "    denials = denials.drop_duplicates('ClaimNo')\n",
    "except Exception as e:\n",
    "    print(e)\n",
    "    logger.error(\"Failed to create a dataframe from tblPaymentDetails table and tblPaymentTransactionTypes table\")"
   ]
  },
  {
   "cell_type": "code",
   "execution_count": 8,
   "id": "e70314fc",
   "metadata": {
    "ExecuteTime": {
     "end_time": "2024-09-17T18:51:25.901455Z",
     "start_time": "2024-09-17T18:51:25.711076Z"
    },
    "execution": {
     "iopub.execute_input": "2024-10-14T15:15:10.778620Z",
     "iopub.status.busy": "2024-10-14T15:15:10.778620Z",
     "iopub.status.idle": "2024-10-14T15:15:10.986440Z",
     "shell.execute_reply": "2024-10-14T15:15:10.985468Z"
    },
    "papermill": {
     "duration": 0.214789,
     "end_time": "2024-10-14T15:15:10.988437",
     "exception": false,
     "start_time": "2024-10-14T15:15:10.773648",
     "status": "completed"
    },
    "tags": []
   },
   "outputs": [],
   "source": [
    "try:\n",
    "    logger.info(\"Filtering payment_df for payments that have a denial\")\n",
    "    # did payment have a denial\n",
    "    payment_df = payment_df[payment_df[\"ClaimNo\"].isin(denials['ClaimNo'])].copy()\n",
    "    logger.info(\"Successfully filtered payment_df for payments that have a denial\")\n",
    "except Exception as e:\n",
    "    print(e)\n",
    "    logger.error(\"Failed to filter payment_df for payments that have a denial\")"
   ]
  },
  {
   "cell_type": "markdown",
   "id": "0b91f31c",
   "metadata": {
    "papermill": {
     "duration": 0.003996,
     "end_time": "2024-10-14T15:15:10.997440",
     "exception": false,
     "start_time": "2024-10-14T15:15:10.993444",
     "status": "completed"
    },
    "tags": []
   },
   "source": [
    "The below code could be improved with a groupby statement"
   ]
  },
  {
   "cell_type": "code",
   "execution_count": 9,
   "id": "b9d25a36",
   "metadata": {
    "ExecuteTime": {
     "end_time": "2024-09-17T18:51:26.028811Z",
     "start_time": "2024-09-17T18:51:25.904479Z"
    },
    "execution": {
     "iopub.execute_input": "2024-10-14T15:15:11.007439Z",
     "iopub.status.busy": "2024-10-14T15:15:11.007439Z",
     "iopub.status.idle": "2024-10-14T15:15:11.094824Z",
     "shell.execute_reply": "2024-10-14T15:15:11.093827Z"
    },
    "papermill": {
     "duration": 0.096377,
     "end_time": "2024-10-14T15:15:11.098845",
     "exception": false,
     "start_time": "2024-10-14T15:15:11.002468",
     "status": "completed"
    },
    "tags": []
   },
   "outputs": [],
   "source": [
    "try:\n",
    "    # Filtering payment_df for payments that have a denial\n",
    "    # Denials that weren’t worked on have a submission date prior to their most recent entered on date and the created by user is not the system (user id -99)\n",
    "    payment_df.sort_values(by='SubmissionDate', inplace=True, ascending=False)\n",
    "    # Most recent Entered On \n",
    "    mostRecentPayment = payment_df.drop_duplicates(\"ClaimNo\", keep='first').copy()\n",
    "    mostRecentPayment['WorkedOn'] = (mostRecentPayment['SubmissionDate'] > mostRecentPayment['CreatedOn']) & (mostRecentPayment['CreatedBy'] != -99)\n",
    "    # mostRecentPayment['WorkedOn'] = mostRecentPayment.apply(lambda row: False if row['CreatedBy'] == -99 else row['WorkedOn'], axis=1)\n",
    "    logger.info(\"Successfully filtered payment_df for payments that have a denial\")\n",
    "except Exception as e:\n",
    "    print(e)\n",
    "    logger.error(\"Failed to Filter payment_df for payments that have a denial\")"
   ]
  },
  {
   "cell_type": "code",
   "execution_count": 10,
   "id": "994afa7a",
   "metadata": {
    "ExecuteTime": {
     "end_time": "2024-09-17T18:51:26.041110Z",
     "start_time": "2024-09-17T18:51:26.033376Z"
    },
    "execution": {
     "iopub.execute_input": "2024-10-14T15:15:11.112825Z",
     "iopub.status.busy": "2024-10-14T15:15:11.111823Z",
     "iopub.status.idle": "2024-10-14T15:15:11.126404Z",
     "shell.execute_reply": "2024-10-14T15:15:11.125387Z"
    },
    "papermill": {
     "duration": 0.023526,
     "end_time": "2024-10-14T15:15:11.128380",
     "exception": false,
     "start_time": "2024-10-14T15:15:11.104854",
     "status": "completed"
    },
    "tags": []
   },
   "outputs": [],
   "source": [
    "try:\n",
    "    logger.info(\"Creating a new column NeedsWork for claims that need to be worked on\")\n",
    "    # They need to be worked on if they haven't yet been worked on. So \"needs to be\" is the inverse of WorkedOn\n",
    "    logger.info(\"Successfully created a new column NeedsWork for claims that need to be worked on\")\n",
    "    mostRecentPayment['NeedsWork'] = ~mostRecentPayment['WorkedOn']\n",
    "except Exception as e:\n",
    "    print(e)    \n",
    "    logger.error(\"Failed to create a new column NeedsWork for claims that need to be worked on\")    "
   ]
  },
  {
   "cell_type": "code",
   "execution_count": 11,
   "id": "8ec46ffe-293e-47ca-9fb9-2ac9b763e1b9",
   "metadata": {
    "execution": {
     "iopub.execute_input": "2024-10-14T15:15:11.137381Z",
     "iopub.status.busy": "2024-10-14T15:15:11.136379Z",
     "iopub.status.idle": "2024-10-14T15:15:11.283290Z",
     "shell.execute_reply": "2024-10-14T15:15:11.283290Z"
    },
    "papermill": {
     "duration": 0.153899,
     "end_time": "2024-10-14T15:15:11.285279",
     "exception": false,
     "start_time": "2024-10-14T15:15:11.131380",
     "status": "completed"
    },
    "tags": []
   },
   "outputs": [],
   "source": [
    "try:\n",
    "    logger.info(\"Adding/replacing columns in ptWorkedOnDenials with columns from workedOnDF dataframe\")\n",
    "    workedOnDf = mostRecentPayment[['ClaimNo', 'NeedsWork']].copy()\n",
    "    workedOnDf['NeedsWork'] = workedOnDf['NeedsWork'].astype(str)\n",
    "    workedOnDf['ClaimNo'] = workedOnDf['ClaimNo'].astype(str)\n",
    "    workedOnDf.to_sql(\"ptWorkedOnDenials\",conn, if_exists=\"replace\", index=False)\n",
    "    logger.info(\"Success in Adding/replacing columns in ptWorkedOnDenials with columns from workedOnDF dataframe\")\n",
    "except Exception as e:\n",
    "    print(e)\n",
    "    logger.error(\"Failed in Adding/replacing columns in ptWorkedOnDenials with columns from workedOnDF dataframe\")"
   ]
  },
  {
   "cell_type": "code",
   "execution_count": 12,
   "id": "6b5d71d1",
   "metadata": {
    "execution": {
     "iopub.execute_input": "2024-10-14T15:15:11.296312Z",
     "iopub.status.busy": "2024-10-14T15:15:11.295281Z",
     "iopub.status.idle": "2024-10-14T15:15:11.300027Z",
     "shell.execute_reply": "2024-10-14T15:15:11.299310Z"
    },
    "papermill": {
     "duration": 0.011261,
     "end_time": "2024-10-14T15:15:11.301540",
     "exception": false,
     "start_time": "2024-10-14T15:15:11.290279",
     "status": "completed"
    },
    "tags": []
   },
   "outputs": [],
   "source": [
    "# payment_df = payment_df.merge(mostRecentPayment[['ClaimNo', 'NeedsWork']], how='left', on='ClaimNo')"
   ]
  },
  {
   "cell_type": "code",
   "execution_count": 13,
   "id": "2e7bdad1",
   "metadata": {
    "execution": {
     "iopub.execute_input": "2024-10-14T15:15:11.310541Z",
     "iopub.status.busy": "2024-10-14T15:15:11.310541Z",
     "iopub.status.idle": "2024-10-14T15:15:11.314588Z",
     "shell.execute_reply": "2024-10-14T15:15:11.314588Z"
    },
    "papermill": {
     "duration": 0.011032,
     "end_time": "2024-10-14T15:15:11.316572",
     "exception": false,
     "start_time": "2024-10-14T15:15:11.305540",
     "status": "completed"
    },
    "tags": []
   },
   "outputs": [],
   "source": [
    "# payment_df[payment_df['DOSFrom'] > \"4/7/2024\" ].sort_values(by=[\"ClaimNo\",'SubmissionDate']).drop_duplicates('ClaimNo', keep='first').style.hide_index()"
   ]
  },
  {
   "cell_type": "code",
   "execution_count": 14,
   "id": "c2d55f47",
   "metadata": {
    "execution": {
     "iopub.execute_input": "2024-10-14T15:15:11.326540Z",
     "iopub.status.busy": "2024-10-14T15:15:11.325540Z",
     "iopub.status.idle": "2024-10-14T15:15:11.330538Z",
     "shell.execute_reply": "2024-10-14T15:15:11.330538Z"
    },
    "papermill": {
     "duration": 0.012002,
     "end_time": "2024-10-14T15:15:11.332540",
     "exception": false,
     "start_time": "2024-10-14T15:15:11.320538",
     "status": "completed"
    },
    "scrolled": true,
    "tags": []
   },
   "outputs": [],
   "source": [
    "# # limit size of dataframe to improve efficiency\n",
    "# workedOnDf = mostRecentPayment[mostRecentPayment[\"NeedsWork\"] == True][['ClaimNo', 'NeedsWork']]\n",
    "\n",
    "# workedOnDf.to_sql(\"temp_table\", engine, if_exists='replace', index=False)\n",
    "\n",
    "# # add column to table\n",
    "# alter_table_query = \"\"\"\n",
    "# ALTER TABLE tblPayment\n",
    "#    ADD COLUMN NeedsWork INT\n",
    "#    DEFAULT 0\n",
    "# \"\"\"   \n",
    "\n",
    "# # update column to cinlude the temp table's Falses\n",
    "# update_table_query = \"\"\"\n",
    "# UPDATE tblPayment\n",
    "# SET NeedsWork = (\n",
    "#     SELECT t.NeedsWork\n",
    "#     FROM temp_table t\n",
    "#     WHERE t.ClaimNo = tblPayment.ClaimNo\n",
    "# )\n",
    "# \"\"\"\n",
    "\n",
    "# with engine.begin() as conn:\n",
    "# #     conn.execute(alter_table_query)\n",
    "#     print(\"Added Column to tblPayment\")\n",
    "#     conn.execute(update_table_query)\n",
    "#     print(\"Updated Column with Information from TempTable\")\n",
    "\n",
    "    \n",
    "# # Drop the temporary table    \n",
    "# drop_query = \"DROP TABLE temp_table\"\n",
    "# with engine.begin() as conn:\n",
    "#     conn.execute(drop_query)\n",
    "#     print(\"Deleted the temporary table\")"
   ]
  },
  {
   "cell_type": "code",
   "execution_count": null,
   "id": "cea5d1cb",
   "metadata": {
    "papermill": {
     "duration": 0.004001,
     "end_time": "2024-10-14T15:15:11.340539",
     "exception": false,
     "start_time": "2024-10-14T15:15:11.336538",
     "status": "completed"
    },
    "tags": []
   },
   "outputs": [],
   "source": []
  }
 ],
 "metadata": {
  "kernelspec": {
   "display_name": "Python 3 (ipykernel)",
   "language": "python",
   "name": "python3"
  },
  "language_info": {
   "codemirror_mode": {
    "name": "ipython",
    "version": 3
   },
   "file_extension": ".py",
   "mimetype": "text/x-python",
   "name": "python",
   "nbconvert_exporter": "python",
   "pygments_lexer": "ipython3",
   "version": "3.8.16"
  },
  "papermill": {
   "default_parameters": {},
   "duration": 62.025278,
   "end_time": "2024-10-14T15:15:11.712663",
   "environment_variables": {},
   "exception": null,
   "input_path": "workedOnClaims.ipynb",
   "output_path": "snapshots/workedOnClaims.ipynb",
   "parameters": {},
   "start_time": "2024-10-14T15:14:09.687385",
   "version": "2.3.3"
  },
  "toc": {
   "base_numbering": 1,
   "nav_menu": {},
   "number_sections": true,
   "sideBar": true,
   "skip_h1_title": false,
   "title_cell": "Table of Contents",
   "title_sidebar": "Contents",
   "toc_cell": false,
   "toc_position": {},
   "toc_section_display": true,
   "toc_window_display": false
  },
  "varInspector": {
   "cols": {
    "lenName": 16,
    "lenType": 16,
    "lenVar": 40
   },
   "kernels_config": {
    "python": {
     "delete_cmd_postfix": "",
     "delete_cmd_prefix": "del ",
     "library": "var_list.py",
     "varRefreshCmd": "print(var_dic_list())"
    },
    "r": {
     "delete_cmd_postfix": ") ",
     "delete_cmd_prefix": "rm(",
     "library": "var_list.r",
     "varRefreshCmd": "cat(var_dic_list()) "
    }
   },
   "types_to_exclude": [
    "module",
    "function",
    "builtin_function_or_method",
    "instance",
    "_Feature"
   ],
   "window_display": false
  }
 },
 "nbformat": 4,
 "nbformat_minor": 5
}