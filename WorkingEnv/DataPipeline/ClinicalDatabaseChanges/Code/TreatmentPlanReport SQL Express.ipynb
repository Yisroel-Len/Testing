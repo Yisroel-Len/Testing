{
 "cells": [
  {
   "cell_type": "code",
   "execution_count": 1,
   "id": "d8f8dff2",
   "metadata": {
    "ExecuteTime": {
     "end_time": "2023-06-19T17:12:04.693955Z",
     "start_time": "2023-06-19T17:12:03.745305Z"
    },
    "papermill": {
     "duration": 1.020088,
     "end_time": "2024-10-28T13:17:06.823366",
     "exception": false,
     "start_time": "2024-10-28T13:17:05.803278",
     "status": "completed"
    },
    "tags": []
   },
   "outputs": [],
   "source": [
    "import pandas as pd\n",
    "import numpy as np\n",
    "import pyodbc\n",
    "import time\n",
    "from datetime import datetime\n",
    "from dateutil.relativedelta import relativedelta\n",
    "from datetime import date\n",
    "from sqlalchemy import create_engine"
   ]
  },
  {
   "cell_type": "code",
   "execution_count": 2,
   "id": "8523fff1",
   "metadata": {
    "papermill": {
     "duration": 0.061601,
     "end_time": "2024-10-28T13:17:06.884967",
     "exception": false,
     "start_time": "2024-10-28T13:17:06.823366",
     "status": "completed"
    },
    "tags": []
   },
   "outputs": [],
   "source": [
    "conn = create_engine(r'mssql+pyodbc://@PYTHONSERVER\\SQLEXPRESS/InSync?driver=ODBC+Driver+17+for+SQL+Server&trusted_connection=yes', fast_executemany=True)"
   ]
  },
  {
   "cell_type": "code",
   "execution_count": 3,
   "id": "e8e2fd4f",
   "metadata": {
    "ExecuteTime": {
     "end_time": "2024-09-17T18:53:47.581118Z",
     "start_time": "2024-09-17T18:53:47.563036Z"
    },
    "papermill": {
     "duration": 0.029803,
     "end_time": "2024-10-28T13:17:06.914770",
     "exception": false,
     "start_time": "2024-10-28T13:17:06.884967",
     "status": "completed"
    },
    "tags": []
   },
   "outputs": [],
   "source": [
    "import sys\n",
    "import logging\n",
    "path = r'..\\..\\Logs\\clinical_log.log'\n",
    "logging.basicConfig(filename=path,\n",
    "                    filemode='a',\n",
    "                    format='%(asctime)s,%(msecs)d,%(name)s,%(levelname)s,%(message)s',\n",
    "                    datefmt='%Y-%m-%d %H:%M:%S',\n",
    "                    level=logging.DEBUG)\n",
    "logger = logging.getLogger('TreatmentPlanReport')\n",
    "# logger.info('testing log')"
   ]
  },
  {
   "cell_type": "markdown",
   "id": "0776aa02",
   "metadata": {
    "papermill": {
     "duration": 0,
     "end_time": "2024-10-28T13:17:06.914770",
     "exception": false,
     "start_time": "2024-10-28T13:17:06.914770",
     "status": "completed"
    },
    "tags": []
   },
   "source": [
    "## Notes\n",
    "- Make sure that due dates are not calculated by time\n",
    "- Do we want to see which plans were signed/closed late???\n",
    "- If there are two initial treatment plans go by the second one.\n",
    "<br>\n",
    "\n",
    "## To-Do"
   ]
  },
  {
   "cell_type": "code",
   "execution_count": 4,
   "id": "724d1dff",
   "metadata": {
    "papermill": {
     "duration": 0.275516,
     "end_time": "2024-10-28T13:17:07.205932",
     "exception": false,
     "start_time": "2024-10-28T13:17:06.930416",
     "status": "completed"
    },
    "tags": []
   },
   "outputs": [],
   "source": [
    "try:\n",
    "    logger.info(f'Querying ptPatient_Activity.')\n",
    "    sql='''\n",
    "    SELECT \n",
    "        ptPatient_Activity.*,\n",
    "        MRNNumber,\n",
    "        LastName + ', ' + FirstName as patient_fullName,\n",
    "        DOB,\n",
    "        FacilityName AS 'Primary Facility'\n",
    "    FROM \n",
    "        ptPatient_Activity\n",
    "        LEFT JOIN emr_PatientDetails ON (ptPatient_Activity.PatientID=emr_PatientDetails.PatientID)\n",
    "        LEFT JOIN emr_FacilitiesDetails ON (emr_PatientDetails._PrimaryFacility = emr_FacilitiesDetails.FacilityId)\n",
    "    '''\n",
    "    patientDetails = pd.read_sql(sql, conn)\n",
    "    patientDetails = patientDetails.replace('', np.nan)\n",
    "    patientDetails['DOB'] =pd.to_datetime(patientDetails['DOB'])\n",
    "    logger.info(f'Successfully queried ptPatient_Activity.')\n",
    "except Exception as e:\n",
    "    print(e)\n",
    "    logger.error(f'Failed to query ptPatient_Activity.', exc_info=True) "
   ]
  },
  {
   "cell_type": "markdown",
   "id": "79e9a74b",
   "metadata": {
    "papermill": {
     "duration": 0,
     "end_time": "2024-10-28T13:17:07.205932",
     "exception": false,
     "start_time": "2024-10-28T13:17:07.205932",
     "status": "completed"
    },
    "tags": []
   },
   "source": [
    "## Get Treatment Plan Info"
   ]
  },
  {
   "cell_type": "code",
   "execution_count": 5,
   "id": "eb9789c8",
   "metadata": {
    "papermill": {
     "duration": 5.886154,
     "end_time": "2024-10-28T13:17:13.107727",
     "exception": false,
     "start_time": "2024-10-28T13:17:07.221573",
     "status": "completed"
    },
    "tags": []
   },
   "outputs": [
    {
     "name": "stderr",
     "output_type": "stream",
     "text": [
      "C:\\Users\\ylen\\AppData\\Local\\Temp\\2\\ipykernel_16476\\52720397.py:39: UserWarning: Could not infer format, so each element will be parsed individually, falling back to `dateutil`. To ensure parsing is consistent and as-expected, please specify a format.\n",
      "  treatmentPlanEncounters['EncounterStartDateTimeToolTip'] = pd.to_datetime(treatmentPlanEncounters['EncounterStartDateTimeToolTip'])\n",
      "C:\\Users\\ylen\\AppData\\Local\\Temp\\2\\ipykernel_16476\\52720397.py:40: UserWarning: Could not infer format, so each element will be parsed individually, falling back to `dateutil`. To ensure parsing is consistent and as-expected, please specify a format.\n",
      "  treatmentPlanEncounters['EncounterEndDateTimeToolTip'] = pd.to_datetime(treatmentPlanEncounters['EncounterEndDateTimeToolTip'])\n"
     ]
    }
   ],
   "source": [
    "try:\n",
    "    logger.info(f'Querying treatment plan related info from tblEncounterSummary.')\n",
    "    sql='''\n",
    "    SELECT \n",
    "        tblEncounterSummary.PatientId as PatientID,\n",
    "        tblEncounterSummary.EncounterID, \n",
    "        tblResourceDetails.FullName as ProviderName,\n",
    "        tblEncounter.EndDate,\n",
    "        VisitDateTime as EncounterDate,\n",
    "        EncounterEndDateTimeToolTip,\n",
    "        EncounterStartDateTimeToolTip,\n",
    "        FacilityName,\n",
    "        tblEncounterType.EncounterType,\n",
    "        EncounterOpenClosed,\n",
    "        ProgramName,\n",
    "        closedByLastName + ', ' + closedByFirstName AS closedByFullName\n",
    "    FROM \n",
    "        tblEncounterSummary\n",
    "        LEFT JOIN emr_FacilitiesDetails ON (tblEncounterSummary.FacilityId = emr_FacilitiesDetails.FacilityId)\n",
    "        LEFT JOIN tblEncounterEndDetails ON (tblEncounterSummary.EncounterID = tblEncounterEndDetails.EncounterID)\n",
    "        INNER JOIN tblEncounter ON (tblEncounterSummary.EncounterID = tblEncounter.EncounterID)\n",
    "        LEFT JOIN tblEncounterType ON (tblEncounterSummary.EncounterTypeID = tblEncounterType.EncounterTypeID)\n",
    "        LEFT JOIN tblResourceDetails ON (tblEncounterSummary.ProviderId = tblResourceDetails.ResourceId)\n",
    "    WHERE (tblEncounterType.EncounterType LIKE '%treatment%'\n",
    "        OR tblEncounterType.EncounterType LIKE '%transfer%'\n",
    "        OR tblEncounterType.EncounterType LIKE '%Initial Eval%'\n",
    "        OR tblEncounterType.EncounterType LIKE '%discharge%')\n",
    "        AND tblEncounterType.EncounterType NOT LIKE '%CFTSS%'\n",
    "    '''\n",
    "    treatmentPlanEncounters = pd.read_sql(sql, conn)\n",
    "    # replaces empty strings in the treatmentPlanEncounters DataFrame with NaN values to handle missing data appropriately\n",
    "    treatmentPlanEncounters = treatmentPlanEncounters.replace('', np.nan)\n",
    "    treatmentPlanEncounters['EncounterDate'] = pd.to_datetime(treatmentPlanEncounters['EncounterDate'])\n",
    "    treatmentPlanEncounters['EndDate'] = pd.to_datetime(treatmentPlanEncounters['EndDate'])\n",
    "    # Remove the word time: from column\n",
    "    treatmentPlanEncounters['EncounterStartDateTimeToolTip'] = treatmentPlanEncounters['EncounterStartDateTimeToolTip'].str.replace('Time: ', '')\n",
    "    treatmentPlanEncounters['EncounterEndDateTimeToolTip'] = treatmentPlanEncounters['EncounterEndDateTimeToolTip'].str.replace('Time: ', '')\n",
    "\n",
    "    treatmentPlanEncounters['EncounterStartDateTimeToolTip'] = pd.to_datetime(treatmentPlanEncounters['EncounterStartDateTimeToolTip'])\n",
    "    treatmentPlanEncounters['EncounterEndDateTimeToolTip'] = pd.to_datetime(treatmentPlanEncounters['EncounterEndDateTimeToolTip'])\n",
    "\n",
    "    logger.info(f'Successfully queried treatment plan related info from tblEncounterSummary.')\n",
    "except Exception as e:\n",
    "    print(e)\n",
    "    logger.error(f'Failed to query treatment plan related info from tblEncounterSummary.', exc_info=True) "
   ]
  },
  {
   "cell_type": "code",
   "execution_count": 6,
   "id": "8a50d97c-f20b-48f5-9eb3-5cbca97dc40e",
   "metadata": {},
   "outputs": [
    {
     "data": {
      "text/html": [
       "<div>\n",
       "<style scoped>\n",
       "    .dataframe tbody tr th:only-of-type {\n",
       "        vertical-align: middle;\n",
       "    }\n",
       "\n",
       "    .dataframe tbody tr th {\n",
       "        vertical-align: top;\n",
       "    }\n",
       "\n",
       "    .dataframe thead th {\n",
       "        text-align: right;\n",
       "    }\n",
       "</style>\n",
       "<table border=\"1\" class=\"dataframe\">\n",
       "  <thead>\n",
       "    <tr style=\"text-align: right;\">\n",
       "      <th></th>\n",
       "      <th>PatientID</th>\n",
       "      <th>EncounterID</th>\n",
       "      <th>ProviderName</th>\n",
       "      <th>EndDate</th>\n",
       "      <th>EncounterDate</th>\n",
       "      <th>EncounterEndDateTimeToolTip</th>\n",
       "      <th>EncounterStartDateTimeToolTip</th>\n",
       "      <th>FacilityName</th>\n",
       "      <th>EncounterType</th>\n",
       "      <th>EncounterOpenClosed</th>\n",
       "      <th>ProgramName</th>\n",
       "      <th>closedByFullName</th>\n",
       "    </tr>\n",
       "  </thead>\n",
       "  <tbody>\n",
       "    <tr>\n",
       "      <th>0</th>\n",
       "      <td>620220</td>\n",
       "      <td>727469</td>\n",
       "      <td>Fleisher, Joshua LCSW</td>\n",
       "      <td>NaT</td>\n",
       "      <td>2020-02-19 14:33:00</td>\n",
       "      <td>NaT</td>\n",
       "      <td>2020-02-19 14:33:00</td>\n",
       "      <td>Clinic Williamsburg</td>\n",
       "      <td>Initial Evaluation-1</td>\n",
       "      <td>Open</td>\n",
       "      <td>None</td>\n",
       "      <td>None</td>\n",
       "    </tr>\n",
       "    <tr>\n",
       "      <th>1</th>\n",
       "      <td>620220</td>\n",
       "      <td>727471</td>\n",
       "      <td>Fleisher, Joshua LCSW</td>\n",
       "      <td>NaT</td>\n",
       "      <td>2020-02-20 11:43:00</td>\n",
       "      <td>NaT</td>\n",
       "      <td>2020-02-20 11:43:00</td>\n",
       "      <td>Clinic Williamsburg</td>\n",
       "      <td>Treatment Plan Review</td>\n",
       "      <td>Open</td>\n",
       "      <td>None</td>\n",
       "      <td>None</td>\n",
       "    </tr>\n",
       "    <tr>\n",
       "      <th>2</th>\n",
       "      <td>620220</td>\n",
       "      <td>727472</td>\n",
       "      <td>Fleisher, Joshua LCSW</td>\n",
       "      <td>NaT</td>\n",
       "      <td>2020-02-20 13:48:00</td>\n",
       "      <td>NaT</td>\n",
       "      <td>2020-02-20 13:48:00</td>\n",
       "      <td>Clinic Williamsburg</td>\n",
       "      <td>Treatment Plan Review</td>\n",
       "      <td>Open</td>\n",
       "      <td>None</td>\n",
       "      <td>None</td>\n",
       "    </tr>\n",
       "    <tr>\n",
       "      <th>3</th>\n",
       "      <td>620220</td>\n",
       "      <td>727492</td>\n",
       "      <td>Simcha, Eddie LCSW</td>\n",
       "      <td>NaT</td>\n",
       "      <td>2020-06-24 14:05:00</td>\n",
       "      <td>NaT</td>\n",
       "      <td>2020-06-24 14:05:00</td>\n",
       "      <td>Clinic Williamsburg</td>\n",
       "      <td>Initial Treatment Plan</td>\n",
       "      <td>Open</td>\n",
       "      <td>None</td>\n",
       "      <td>None</td>\n",
       "    </tr>\n",
       "    <tr>\n",
       "      <th>4</th>\n",
       "      <td>620220</td>\n",
       "      <td>727678</td>\n",
       "      <td>Fleisher, Joshua LCSW</td>\n",
       "      <td>NaT</td>\n",
       "      <td>2021-03-24 18:58:00</td>\n",
       "      <td>2021-03-24 19:13:00</td>\n",
       "      <td>2021-03-24 18:58:00</td>\n",
       "      <td>Clinic Williamsburg</td>\n",
       "      <td>Initial Treatment Plan</td>\n",
       "      <td>Open</td>\n",
       "      <td>Williamsburg Clinics</td>\n",
       "      <td>None</td>\n",
       "    </tr>\n",
       "    <tr>\n",
       "      <th>...</th>\n",
       "      <td>...</td>\n",
       "      <td>...</td>\n",
       "      <td>...</td>\n",
       "      <td>...</td>\n",
       "      <td>...</td>\n",
       "      <td>...</td>\n",
       "      <td>...</td>\n",
       "      <td>...</td>\n",
       "      <td>...</td>\n",
       "      <td>...</td>\n",
       "      <td>...</td>\n",
       "      <td>...</td>\n",
       "    </tr>\n",
       "    <tr>\n",
       "      <th>25633</th>\n",
       "      <td>629299</td>\n",
       "      <td>1200326</td>\n",
       "      <td>Baras, Chana Malka LMSW</td>\n",
       "      <td>2025-01-14 21:26:23</td>\n",
       "      <td>2025-01-13 15:00:00</td>\n",
       "      <td>2025-01-13 16:00:00</td>\n",
       "      <td>2025-01-13 15:00:00</td>\n",
       "      <td>CFTSS</td>\n",
       "      <td>OLP Licensed Evaluation + Initial Treatment Plan</td>\n",
       "      <td>Closed</td>\n",
       "      <td>CFTSS</td>\n",
       "      <td>Baras, Chana Malka</td>\n",
       "    </tr>\n",
       "    <tr>\n",
       "      <th>25634</th>\n",
       "      <td>629299</td>\n",
       "      <td>1200326</td>\n",
       "      <td>Baras, Chana Malka LMSW</td>\n",
       "      <td>2025-01-14 21:26:23</td>\n",
       "      <td>2025-01-13 15:00:00</td>\n",
       "      <td>2025-01-13 16:00:00</td>\n",
       "      <td>2025-01-13 15:00:00</td>\n",
       "      <td>CFTSS</td>\n",
       "      <td>OLP Licensed Evaluation + Initial Treatment Plan</td>\n",
       "      <td>Closed</td>\n",
       "      <td>CFTSS</td>\n",
       "      <td>Baras, Chana Malka</td>\n",
       "    </tr>\n",
       "    <tr>\n",
       "      <th>25635</th>\n",
       "      <td>629950</td>\n",
       "      <td>1200358</td>\n",
       "      <td>Baras, Chana Malka LMSW</td>\n",
       "      <td>2025-01-14 22:04:50</td>\n",
       "      <td>2025-01-07 21:00:00</td>\n",
       "      <td>2025-01-07 22:00:00</td>\n",
       "      <td>2025-01-07 21:00:00</td>\n",
       "      <td>CFTSS</td>\n",
       "      <td>OLP Licensed Evaluation + Initial Treatment Plan</td>\n",
       "      <td>Closed</td>\n",
       "      <td>CFTSS</td>\n",
       "      <td>Baras, Chana Malka</td>\n",
       "    </tr>\n",
       "    <tr>\n",
       "      <th>25636</th>\n",
       "      <td>629785</td>\n",
       "      <td>1200363</td>\n",
       "      <td>Spitzer, Judy SW-Intern</td>\n",
       "      <td>2025-01-14 22:08:23</td>\n",
       "      <td>2025-01-14 21:54:00</td>\n",
       "      <td>2025-01-14 22:10:00</td>\n",
       "      <td>2025-01-14 21:55:00</td>\n",
       "      <td>PT Bais Ruchel Satmar Girls BP</td>\n",
       "      <td>Initial Treatment Plan</td>\n",
       "      <td>Closed</td>\n",
       "      <td>School Satellites</td>\n",
       "      <td>Spitzer, Judy</td>\n",
       "    </tr>\n",
       "    <tr>\n",
       "      <th>25637</th>\n",
       "      <td>621855</td>\n",
       "      <td>1200373</td>\n",
       "      <td>Jacobs, Deborah LMSW</td>\n",
       "      <td>2025-01-14 22:12:06</td>\n",
       "      <td>2025-01-12 10:00:00</td>\n",
       "      <td>2025-01-12 11:00:00</td>\n",
       "      <td>2025-01-12 10:00:00</td>\n",
       "      <td>Clinic 640 Broadway</td>\n",
       "      <td>Initial Evaluation-2 AH</td>\n",
       "      <td>Closed</td>\n",
       "      <td>Williamsburg Clinics</td>\n",
       "      <td>Jacobs, Deborah</td>\n",
       "    </tr>\n",
       "  </tbody>\n",
       "</table>\n",
       "<p>25638 rows × 12 columns</p>\n",
       "</div>"
      ],
      "text/plain": [
       "       PatientID  EncounterID             ProviderName             EndDate  \\\n",
       "0         620220       727469    Fleisher, Joshua LCSW                 NaT   \n",
       "1         620220       727471    Fleisher, Joshua LCSW                 NaT   \n",
       "2         620220       727472    Fleisher, Joshua LCSW                 NaT   \n",
       "3         620220       727492       Simcha, Eddie LCSW                 NaT   \n",
       "4         620220       727678    Fleisher, Joshua LCSW                 NaT   \n",
       "...          ...          ...                      ...                 ...   \n",
       "25633     629299      1200326  Baras, Chana Malka LMSW 2025-01-14 21:26:23   \n",
       "25634     629299      1200326  Baras, Chana Malka LMSW 2025-01-14 21:26:23   \n",
       "25635     629950      1200358  Baras, Chana Malka LMSW 2025-01-14 22:04:50   \n",
       "25636     629785      1200363  Spitzer, Judy SW-Intern 2025-01-14 22:08:23   \n",
       "25637     621855      1200373     Jacobs, Deborah LMSW 2025-01-14 22:12:06   \n",
       "\n",
       "            EncounterDate EncounterEndDateTimeToolTip  \\\n",
       "0     2020-02-19 14:33:00                         NaT   \n",
       "1     2020-02-20 11:43:00                         NaT   \n",
       "2     2020-02-20 13:48:00                         NaT   \n",
       "3     2020-06-24 14:05:00                         NaT   \n",
       "4     2021-03-24 18:58:00         2021-03-24 19:13:00   \n",
       "...                   ...                         ...   \n",
       "25633 2025-01-13 15:00:00         2025-01-13 16:00:00   \n",
       "25634 2025-01-13 15:00:00         2025-01-13 16:00:00   \n",
       "25635 2025-01-07 21:00:00         2025-01-07 22:00:00   \n",
       "25636 2025-01-14 21:54:00         2025-01-14 22:10:00   \n",
       "25637 2025-01-12 10:00:00         2025-01-12 11:00:00   \n",
       "\n",
       "      EncounterStartDateTimeToolTip                    FacilityName  \\\n",
       "0               2020-02-19 14:33:00             Clinic Williamsburg   \n",
       "1               2020-02-20 11:43:00             Clinic Williamsburg   \n",
       "2               2020-02-20 13:48:00             Clinic Williamsburg   \n",
       "3               2020-06-24 14:05:00             Clinic Williamsburg   \n",
       "4               2021-03-24 18:58:00             Clinic Williamsburg   \n",
       "...                             ...                             ...   \n",
       "25633           2025-01-13 15:00:00                           CFTSS   \n",
       "25634           2025-01-13 15:00:00                           CFTSS   \n",
       "25635           2025-01-07 21:00:00                           CFTSS   \n",
       "25636           2025-01-14 21:55:00  PT Bais Ruchel Satmar Girls BP   \n",
       "25637           2025-01-12 10:00:00             Clinic 640 Broadway   \n",
       "\n",
       "                                          EncounterType EncounterOpenClosed  \\\n",
       "0                                  Initial Evaluation-1                Open   \n",
       "1                                 Treatment Plan Review                Open   \n",
       "2                                 Treatment Plan Review                Open   \n",
       "3                                Initial Treatment Plan                Open   \n",
       "4                                Initial Treatment Plan                Open   \n",
       "...                                                 ...                 ...   \n",
       "25633  OLP Licensed Evaluation + Initial Treatment Plan              Closed   \n",
       "25634  OLP Licensed Evaluation + Initial Treatment Plan              Closed   \n",
       "25635  OLP Licensed Evaluation + Initial Treatment Plan              Closed   \n",
       "25636                            Initial Treatment Plan              Closed   \n",
       "25637                           Initial Evaluation-2 AH              Closed   \n",
       "\n",
       "                ProgramName    closedByFullName  \n",
       "0                      None                None  \n",
       "1                      None                None  \n",
       "2                      None                None  \n",
       "3                      None                None  \n",
       "4      Williamsburg Clinics                None  \n",
       "...                     ...                 ...  \n",
       "25633                 CFTSS  Baras, Chana Malka  \n",
       "25634                 CFTSS  Baras, Chana Malka  \n",
       "25635                 CFTSS  Baras, Chana Malka  \n",
       "25636     School Satellites       Spitzer, Judy  \n",
       "25637  Williamsburg Clinics     Jacobs, Deborah  \n",
       "\n",
       "[25638 rows x 12 columns]"
      ]
     },
     "execution_count": 6,
     "metadata": {},
     "output_type": "execute_result"
    }
   ],
   "source": [
    "treatmentPlanEncounters"
   ]
  },
  {
   "cell_type": "markdown",
   "id": "f88d4797",
   "metadata": {
    "papermill": {
     "duration": 0.016696,
     "end_time": "2024-10-28T13:17:13.124423",
     "exception": false,
     "start_time": "2024-10-28T13:17:13.107727",
     "status": "completed"
    },
    "tags": []
   },
   "source": [
    "## Check Patients for Admission"
   ]
  },
  {
   "cell_type": "code",
   "execution_count": 7,
   "id": "a3823b3c",
   "metadata": {
    "papermill": {
     "duration": 0.202678,
     "end_time": "2024-10-28T13:17:13.327101",
     "exception": false,
     "start_time": "2024-10-28T13:17:13.124423",
     "status": "completed"
    },
    "tags": []
   },
   "outputs": [],
   "source": [
    "try:\n",
    "    sql = f'''\n",
    "    SELECT\n",
    "    PatientId as PatientID,\n",
    "    VisitDateTime,\n",
    "    tblEncounterType.Encountertype\n",
    "    FROM \n",
    "        tblEncounterSummary\n",
    "    LEFT JOIN\n",
    "        tblEncounterType ON tblEncounterType.EncounterTypeID = tblEncounterSummary.EncounterTypeID\n",
    "    WHERE \n",
    "        tblEncounterType.EncounterType LIKE '%Admission Note%' \n",
    "        AND tblEncounterType.EncounterType NOT LIKE '%CFTSS%' \n",
    "    '''\n",
    "    missingAdmissionNote = pd.read_sql(sql,conn)\n",
    "    missingAdmissionNote['VisitDateTime'] = pd.to_datetime(missingAdmissionNote['VisitDateTime'])\n",
    "    missingAdmissionNote = missingAdmissionNote.sort_values(by=['PatientID', 'VisitDateTime'], ascending=False)\n",
    "    missingAdmissionNote = missingAdmissionNote.drop_duplicates('PatientID')\n",
    "    missingAdmissionNote['HasAdmissionNote'] = True\n",
    "    logger.info(f'Successfully queried admitted patients. Patient must have an admission note.')\n",
    "except Exception as e:\n",
    "    print(e)\n",
    "    logger.error(f'Failed to query admitted patients. Patient must have an admission note.', exc_info=True) "
   ]
  },
  {
   "cell_type": "code",
   "execution_count": 8,
   "id": "35bf4f1a",
   "metadata": {
    "papermill": {
     "duration": 4.260116,
     "end_time": "2024-10-28T13:17:17.587217",
     "exception": false,
     "start_time": "2024-10-28T13:17:13.327101",
     "status": "completed"
    },
    "tags": []
   },
   "outputs": [
    {
     "name": "stderr",
     "output_type": "stream",
     "text": [
      "C:\\Users\\ylen\\AppData\\Local\\Temp\\2\\ipykernel_16476\\2931465075.py:27: FutureWarning: A value is trying to be set on a copy of a DataFrame or Series through chained assignment using an inplace method.\n",
      "The behavior will change in pandas 3.0. This inplace method will never work because the intermediate object on which we are setting values always behaves as a copy.\n",
      "\n",
      "For example, when doing 'df[col].method(value, inplace=True)', try using 'df.method({col: value}, inplace=True)' or df[col] = df[col].method(value) instead, to perform the operation inplace on the original object.\n",
      "\n",
      "\n",
      "  treatmentPlanEncounters['Admitted'].fillna('False', inplace=True)\n"
     ]
    }
   ],
   "source": [
    "try:\n",
    "    sql = f'''\n",
    "    SELECT\n",
    "    PatientId as PatientID,\n",
    "    tblEncounterType.EncounterType\n",
    "    FROM \n",
    "        tblEncounterSummary\n",
    "    LEFT JOIN\n",
    "        tblEncounterType ON (tblEncounterSummary.EncounterTypeID=tblEncounterType.EncounterTypeID) \n",
    "    WHERE \n",
    "        tblEncounterType.EncounterType LIKE '%Psychotherapy%' \n",
    "        OR \n",
    "        (tblEncounterType.EncounterType LIKE '%Initial Eval%' \n",
    "        AND tblEncounterType.EncounterType LIKE '%2%')\n",
    "        OR\n",
    "        tblEncounterType.EncounterType LIKE '%Admission Note%' \n",
    "    '''\n",
    "    relevantEncounters = pd.read_sql(sql,conn)\n",
    "    # groupby patient IDs and then check encounter list to see if either they have both an initial evaluation and a psychotherapy or an admission note.\n",
    "    acceptedPatients = relevantEncounters.groupby(['PatientID'])['EncounterType'].apply(lambda x: (( True in list(x.str.lower().str.contains('psychotherapy')) ) \n",
    "                                                                                & ( True in list(x.str.lower().str.contains('initial eval'))  )  )\n",
    "                                                                               | (True in list(x.str.lower() == 'admission note'))\n",
    "                                                                       )\n",
    "    acceptedPatients = acceptedPatients.reset_index()        \n",
    "    acceptedPatients.columns = ['PatientID', 'Admitted']    \n",
    "    treatmentPlanEncounters= treatmentPlanEncounters.merge(acceptedPatients, on='PatientID', how='left', validate='m:1')\n",
    "    treatmentPlanEncounters['Admitted'].fillna('False', inplace=True)\n",
    "    logger.info(f'Successfully queried admitted patients. Patient must have either an encounter type of psychotherapy or an initial eval 2.')\n",
    "except Exception as e:\n",
    "    print(e)\n",
    "    logger.error(f'Failed to query admitted patients. Patient must have either an encounter type of psychotherapy or an initial eval 2.', exc_info=True) "
   ]
  },
  {
   "cell_type": "markdown",
   "id": "9f07af01",
   "metadata": {
    "papermill": {
     "duration": 0.010011,
     "end_time": "2024-10-28T13:17:17.610153",
     "exception": false,
     "start_time": "2024-10-28T13:17:17.600142",
     "status": "completed"
    },
    "tags": []
   },
   "source": [
    "## Check for Primary Providers"
   ]
  },
  {
   "cell_type": "code",
   "execution_count": 9,
   "id": "55168ca6",
   "metadata": {
    "papermill": {
     "duration": 0.224004,
     "end_time": "2024-10-28T13:17:17.843736",
     "exception": false,
     "start_time": "2024-10-28T13:17:17.619732",
     "status": "completed"
    },
    "tags": []
   },
   "outputs": [
    {
     "name": "stderr",
     "output_type": "stream",
     "text": [
      "C:\\Users\\ylen\\AppData\\Local\\Temp\\2\\ipykernel_16476\\883487010.py:16: FutureWarning: A value is trying to be set on a copy of a DataFrame or Series through chained assignment using an inplace method.\n",
      "The behavior will change in pandas 3.0. This inplace method will never work because the intermediate object on which we are setting values always behaves as a copy.\n",
      "\n",
      "For example, when doing 'df[col].method(value, inplace=True)', try using 'df.method({col: value}, inplace=True)' or df[col] = df[col].method(value) instead, to perform the operation inplace on the original object.\n",
      "\n",
      "\n",
      "  treatmentPlanEncounters['Primary_Provider'].fillna('Unknown', inplace=True)\n"
     ]
    }
   ],
   "source": [
    "try:\n",
    "    sql = f'''\n",
    "    SELECT\n",
    "    PatientId as PatientID,\n",
    "    tblResourceDetails.FullName as Primary_Provider\n",
    "    FROM \n",
    "        tblPatientPrimaryProviders\n",
    "    LEFT JOIN\n",
    "        tblResourceDetails ON (tblPatientPrimaryProviders.PatientPrimaryProviderId = tblResourceDetails.ResourceId)\n",
    "    WHERE \n",
    "        IsDefault = 'TRUE'\n",
    "    '''\n",
    "    primaryProvider = pd.read_sql(sql,conn)\n",
    "    primaryProvider.drop_duplicates('PatientID', inplace=True)\n",
    "    treatmentPlanEncounters= treatmentPlanEncounters.merge(primaryProvider, on='PatientID', how='left', validate='m:1')\n",
    "    treatmentPlanEncounters['Primary_Provider'].fillna('Unknown', inplace=True)\n",
    "    logger.info(f'Successfully queried primary providers.')\n",
    "except Exception as e:\n",
    "    print(e)\n",
    "    logger.error(f'Failed to query primary providers.', exc_info=True) "
   ]
  },
  {
   "cell_type": "markdown",
   "id": "f2b0c4f5",
   "metadata": {
    "papermill": {
     "duration": 0.015641,
     "end_time": "2024-10-28T13:17:17.859377",
     "exception": false,
     "start_time": "2024-10-28T13:17:17.843736",
     "status": "completed"
    },
    "tags": []
   },
   "source": [
    "## Treatment Plan Functions"
   ]
  },
  {
   "cell_type": "code",
   "execution_count": 10,
   "id": "23fceb68",
   "metadata": {
    "papermill": {
     "duration": 0.035107,
     "end_time": "2024-10-28T13:17:17.894484",
     "exception": false,
     "start_time": "2024-10-28T13:17:17.859377",
     "status": "completed"
    },
    "tags": []
   },
   "outputs": [],
   "source": [
    "def find_missing_initial_treatment_plan(temp_df):\n",
    "    # if patient does not have initial treatment plan \n",
    "    # and first treatment plan review date is more than a year past our InSync onboarding \n",
    "    # and patient was admitted, \n",
    "    # return true otherwise return false\n",
    "    if 'Initial Treatment Plan' not in temp_df['EncounterType'].unique() and str(temp_df[temp_df['Summarized Encounter Type'] == 'Treatment Plan']['EncounterDate'].first_valid_index()) != 'None' and str(temp_df[temp_df['Admitted'] == True]['Admitted'].first_valid_index()) != 'None':\n",
    "        if temp_df.loc[temp_df[temp_df['Summarized Encounter Type'] == 'Treatment Plan']['EncounterDate'].first_valid_index(), 'EncounterDate'] > pd.Timestamp('7/20/2022'):\n",
    "            return True\n",
    "        else:\n",
    "            return False\n",
    "    else:\n",
    "        return False\n",
    "    \n",
    "def getDischargeInfo(is_ActiveInInSync, is_lastEncounterDischarge):\n",
    "    if is_ActiveInInSync and is_lastEncounterDischarge:\n",
    "        return '''Last encounter was discharge so Patient should probably be inactivated | '''    \n",
    "\n",
    "def filterAndSortToRelevantData(completeDataFrame, patientID):\n",
    "    singlePatient_df = completeDataFrame[completeDataFrame['PatientID'] == patientID].copy()\n",
    "    singlePatient_df = singlePatient_df[singlePatient_df['Summarized Encounter Type'].map(lambda encType: True if encType == 'Treatment Plan' or encType == 'Transfer Note' or encType == 'Discharge Note' else False)].copy()\n",
    "    singlePatient_df = singlePatient_df.sort_values(by='Review Date', ascending=True)\n",
    "    singlePatient_df = singlePatient_df.reset_index(drop=True)\n",
    "    return singlePatient_df\n",
    "\n",
    "\n",
    "def isEmptyDataFrame(singlePatient_df):\n",
    "    if singlePatient_df.shape[0] == 0:\n",
    "        return True\n",
    "    else:\n",
    "        return False\n",
    "    \n",
    "def isNeedingToBeInactivated(is_ActiveInInSync, is_lastEncounterDischarge):\n",
    "    if is_ActiveInInSync and is_lastEncounterDischarge:\n",
    "        return True  \n",
    "    else:\n",
    "        return False\n",
    "\n",
    "def isTransferNote(singlePatient_df, currentEncounterIndexNum):\n",
    "    if singlePatient_df[currentEncounterIndexNum, 'Summarized Encounter Type'] == 'Transfer Note':\n",
    "        return True\n",
    "    else:\n",
    "        return False\n",
    "\n",
    "def hasNextPlan(singlePatient_df, currentEncounterIndexNum):\n",
    "    # and see if there are any treatment plans after current treatment plan\n",
    "    currentTreatmentPlanDate = singlePatient_df.loc[currentEncounterIndexNum, 'EncounterDate']\n",
    "    if 'Treatment Plan' in singlePatient_df[singlePatient_df['EncounterDate'] > currentTreatmentPlanDate]['Summarized Encounter Type'].unique():\n",
    "        return True\n",
    "    else:\n",
    "        return False\n",
    "\n",
    "def getLocationOfNextPlan(singlePatient_df, currentEncounterIndexNum):\n",
    "    currentTreatmentPlanDate = singlePatient_df.loc[currentEncounterIndexNum, 'EncounterDate']\n",
    "    nextPlanLocation = singlePatient_df[(singlePatient_df['EncounterDate'] > currentTreatmentPlanDate) & (singlePatient_df['Summarized Encounter Type'] == 'Treatment Plan') ].index[0]\n",
    "    return nextPlanLocation\n",
    "\n",
    "def isTransferedNext(singlePatient_df, currentEncounterIndexNum, hasNextPlan, nextPlanLocation=None):\n",
    "    currentTreatmentPlanDate = singlePatient_df.loc[currentEncounterIndexNum, 'EncounterDate']\n",
    "    if hasNextPlan:\n",
    "        # see if there are any transfer notes between current plan and next plan\n",
    "        nextTreatmentPlanDate =  singlePatient_df.loc[nextPlanLocation, 'EncounterDate']\n",
    "        if 'Transfer Note' in singlePatient_df[(singlePatient_df['EncounterDate'] > currentTreatmentPlanDate) & ((singlePatient_df['EncounterDate'] < nextTreatmentPlanDate))]['Summarized Encounter Type'].unique():\n",
    "            return True\n",
    "        else:\n",
    "            return False\n",
    "    else:\n",
    "        if 'Transfer Note' in singlePatient_df[singlePatient_df['EncounterDate'] >= currentTreatmentPlanDate]['Summarized Encounter Type'].unique():\n",
    "            return True\n",
    "        else:\n",
    "            return False\n",
    "    \n",
    "def isDischargedNext(singlePatient_df, currentEncounterIndexNum, hasNextPlan, nextPlanLocation=None):\n",
    "    currentTreatmentPlanDate = singlePatient_df.loc[currentEncounterIndexNum, 'EncounterDate']\n",
    "    if hasNextPlan: # see if there are any transfer notes between current plan and next plan\n",
    "        nextTreatmentPlanDate =  singlePatient_df.loc[nextPlanLocation, 'EncounterDate']\n",
    "        if 'Discharge Note' in singlePatient_df[(singlePatient_df['EncounterDate'] >= currentTreatmentPlanDate) & \n",
    "                                           ((singlePatient_df['EncounterDate'] < nextTreatmentPlanDate))]['Summarized Encounter Type'].unique():\n",
    "            return True\n",
    "        else:\n",
    "            return False\n",
    "    else: # see if there is a \n",
    "        if 'Discharge Note' in singlePatient_df[singlePatient_df['EncounterDate'] >= currentTreatmentPlanDate]['Summarized Encounter Type'].unique():\n",
    "            return True\n",
    "        else:\n",
    "            return False    \n",
    "    \n",
    "def isNextPlanClosedLate(singlePatient_df, currentEncounterIndexNum, hasNextPlan, nextPlanLocation):\n",
    "    if singlePatient_df.loc[nextPlanLocation, 'EndDate']!= pd.NaT and singlePatient_df.loc[nextPlanLocation, 'EndDate'] > singlePatient_df.loc[currentEncounterIndexNum, 'Review Date']:\n",
    "        return True\n",
    "    else:\n",
    "        return False\n",
    "\n",
    "def isCurrentPlanSigned(singlePatient_df, currentEncounterIndexNum):\n",
    "    if str(singlePatient_df.loc[currentEncounterIndexNum, 'closedByFullName']) =='None':\n",
    "        return False\n",
    "    else:\n",
    "        return True\n",
    "\n",
    "def getDaysAfterTransfer(singlePatient_df, currentEncounterIndexNum, hasNextPlan, nextPlanLocation=None):\n",
    "    currentTreatmentPlanDate = singlePatient_df.loc[currentEncounterIndexNum, 'EncounterDate']\n",
    "    if hasNextPlan:\n",
    "        nextTreatmentPlanDate =  singlePatient_df.loc[nextPlanLocation, 'EncounterDate']\n",
    "        return (nextTreatmentPlanDate-singlePatient_df.loc[currentEncounterIndexNum, 'EncounterDate']).days\n",
    "    else:\n",
    "        daysAfterTransfer = (datetime.now()-currentTreatmentPlanDate).days\n",
    "        return daysAfterTransfer\n",
    "\n"
   ]
  },
  {
   "cell_type": "code",
   "execution_count": 11,
   "id": "b0f77077",
   "metadata": {
    "papermill": {
     "duration": 0.07392,
     "end_time": "2024-10-28T13:17:17.976459",
     "exception": false,
     "start_time": "2024-10-28T13:17:17.902539",
     "status": "completed"
    },
    "tags": []
   },
   "outputs": [],
   "source": [
    "try:\n",
    "    relevantInfodf = treatmentPlanEncounters.merge(patientDetails, how='left', on='PatientID', validate='m:1')\n",
    "    relevantInfodf = relevantInfodf[relevantInfodf['MRNNumber'].notnull()].copy()\n",
    "    logger.info(f'Successfully merged patient details with treatment plan info.')\n",
    "except Exception as e:\n",
    "    print(e)\n",
    "    logger.error(f'Failed to merge patient details with treatment plan info.', exc_info=True) "
   ]
  },
  {
   "cell_type": "markdown",
   "id": "3600deac",
   "metadata": {
    "papermill": {
     "duration": 0.016282,
     "end_time": "2024-10-28T13:17:17.992741",
     "exception": false,
     "start_time": "2024-10-28T13:17:17.976459",
     "status": "completed"
    },
    "tags": []
   },
   "source": [
    "## Calculate Review Date"
   ]
  },
  {
   "cell_type": "code",
   "execution_count": 12,
   "id": "b40ef12e",
   "metadata": {
    "papermill": {
     "duration": 1.617535,
     "end_time": "2024-10-28T13:17:19.610276",
     "exception": false,
     "start_time": "2024-10-28T13:17:17.992741",
     "status": "completed"
    },
    "tags": []
   },
   "outputs": [],
   "source": [
    "try:\n",
    "    relevantInfodf['Summarized Encounter Type'] = relevantInfodf['EncounterType'].map(lambda type: \n",
    "                                                              'Treatment Plan' if 'treatment' in type.lower() else \n",
    "                                                               ('Initial Eval' if 'evaluation' in type.lower() else \n",
    "                                                                ('Transfer Note' if 'transfer' in type.lower() else \n",
    "                                                                 ('Discharge Note' if 'discharge' in type.lower() else 'Something else'))))\n",
    "    # Cut off date for switching to 6 month treatment plans is September 23rd 2023 all previously made treatment plans follow old rules\n",
    "    relevantInfodf['Review Date'] = relevantInfodf.apply(lambda row: \n",
    "                                                         row['EncounterDate'] + relativedelta(days=+30) if 'Initial Eval' in str(row['EncounterType'] )\n",
    "                                                         else (row['EncounterDate'] + relativedelta(months=+6) if row['EncounterDate'] > datetime.strptime('09/23/23 00:00:00', '%m/%d/%y %H:%M:%S')\n",
    "                                                         else (row['EncounterDate'] + relativedelta(months=11) if row['EncounterType'] == 'Initial Treatment Plan' else  \n",
    "                                                         row['EncounterDate'] + relativedelta(months=+12))), axis=1)\n",
    "    relevantInfodf['Days to Review Date'] = relevantInfodf['Review Date'].map(lambda reviewDate:  reviewDate.date()) - date.today()\n",
    "    logger.info(f'Successfully calculated review date.')\n",
    "except Exception as e:\n",
    "    print(e)\n",
    "    logger.error(f'Failed to calculate review date.', exc_info=True) "
   ]
  },
  {
   "cell_type": "markdown",
   "id": "ca203fc6",
   "metadata": {
    "papermill": {
     "duration": 0.022492,
     "end_time": "2024-10-28T13:17:19.632768",
     "exception": false,
     "start_time": "2024-10-28T13:17:19.610276",
     "status": "completed"
    },
    "tags": []
   },
   "source": [
    "## Determine Treatment Plan Status"
   ]
  },
  {
   "cell_type": "code",
   "execution_count": 13,
   "id": "563e5f03",
   "metadata": {
    "papermill": {
     "duration": 118.580764,
     "end_time": "2024-10-28T13:19:18.218782",
     "exception": false,
     "start_time": "2024-10-28T13:17:19.638018",
     "status": "completed"
    },
    "tags": []
   },
   "outputs": [],
   "source": [
    "missingInitialTreatmentPlan = f'Missing Initial Treatment Plan'\n",
    "\n",
    "try:\n",
    "    allPatientDf = pd.DataFrame()\n",
    "    for patientID in relevantInfodf['PatientID'].unique()[0:]:\n",
    "        singlePatient_df = filterAndSortToRelevantData(completeDataFrame=relevantInfodf, patientID=patientID)\n",
    "        if isEmptyDataFrame(singlePatient_df): # if patient has initial eval with no initial treatment plan\n",
    "            emptySinglePatient_df = relevantInfodf[(relevantInfodf['PatientID'] == patientID)].copy()\n",
    "\n",
    "            emptySinglePatient_df['missingInitialTreatmentPlan'] = find_missing_initial_treatment_plan(emptySinglePatient_df)\n",
    "            emptySinglePatient_df['treatmentPlanStatus'] = missingInitialTreatmentPlan\n",
    "\n",
    "            allPatientDf = pd.concat([allPatientDf,emptySinglePatient_df])\n",
    "            continue\n",
    "        else:\n",
    "            patientOverallStatus = ''\n",
    "            \n",
    "            # check if patient is missing \n",
    "            is_missingInitialTreatmentPlan = find_missing_initial_treatment_plan(singlePatient_df)\n",
    "            singlePatient_df['missingInitialTreatmentPlan'] = is_missingInitialTreatmentPlan   \n",
    "            patientOverallStatus += missingInitialTreatmentPlan\n",
    "            singlePatient_df['treatmentPlanStatus'] = missingInitialTreatmentPlan\n",
    "            if is_missingInitialTreatmentPlan:\n",
    "                patientOverallStatus = 'Missing Initial Treatment Plan'\n",
    "\n",
    "            is_ActiveInInSync = singlePatient_df.loc[0, 'is_ActiveInInSync']\n",
    "            is_lastEncounterDischarge = singlePatient_df.loc[0, 'is_lastEncounterDischarge']\n",
    "\n",
    "            is_NeedToBeInactivated = isNeedingToBeInactivated(is_ActiveInInSync, is_lastEncounterDischarge)\n",
    "            singlePatient_df['is_NeedToBeInactivated'] = is_NeedToBeInactivated\n",
    "\n",
    "            for currentEncounterIndexNum in range(singlePatient_df.shape[0]):\n",
    "                treatmentPlanStatus = patientOverallStatus\n",
    "                currentEncounterType = singlePatient_df.loc[currentEncounterIndexNum, 'Summarized Encounter Type']\n",
    "                daysToReviewDate = singlePatient_df.loc[currentEncounterIndexNum, 'Days to Review Date'].days\n",
    "\n",
    "                has_NextPlan = hasNextPlan(singlePatient_df, currentEncounterIndexNum)\n",
    "                singlePatient_df.loc[currentEncounterIndexNum, 'has_NextPlan'] = has_NextPlan\n",
    "\n",
    "                is_CurrentPlanSigned = isCurrentPlanSigned(singlePatient_df, currentEncounterIndexNum)\n",
    "                singlePatient_df.loc[currentEncounterIndexNum, 'is_CurrentPlanSigned'] = is_CurrentPlanSigned\n",
    "\n",
    "                if not is_CurrentPlanSigned:\n",
    "                    treatmentPlanStatus += 'Plan Still needs to be signed | '       \n",
    "\n",
    "                if is_NeedToBeInactivated:\n",
    "                    treatmentPlanStatus += 'Last encounter was discharge so Patient should probably be inactivated | '\n",
    "                if has_NextPlan:\n",
    "                    next_PlanLocation = getLocationOfNextPlan(singlePatient_df, currentEncounterIndexNum)\n",
    "                    singlePatient_df.loc[currentEncounterIndexNum, 'next_PlanLocation'] = next_PlanLocation\n",
    "\n",
    "                    is_TransferedNext = isTransferedNext(singlePatient_df, currentEncounterIndexNum, has_NextPlan, next_PlanLocation)\n",
    "                    singlePatient_df.loc[currentEncounterIndexNum, 'is_TransferedNext'] = is_TransferedNext\n",
    "\n",
    "                    is_DischargedNext = isDischargedNext(singlePatient_df, currentEncounterIndexNum, has_NextPlan, next_PlanLocation)\n",
    "                    singlePatient_df.loc[currentEncounterIndexNum, 'is_DischargedNext'] = is_DischargedNext\n",
    "                    if (is_TransferedNext and not is_DischargedNext) and is_CurrentPlanSigned and has_NextPlan:\n",
    "                        get_DaysAfterTransfer = getDaysAfterTransfer(singlePatient_df, currentEncounterIndexNum, has_NextPlan, next_PlanLocation)\n",
    "                        treatmentPlanStatus += f'Old Plan is Good | Patient was Transfered and they completed the follow up plan {get_DaysAfterTransfer} days after.'\n",
    "                    elif (is_DischargedNext and not is_TransferedNext) and is_CurrentPlanSigned and has_NextPlan:\n",
    "                        treatmentPlanStatus += f'Patient was Discharged'\n",
    "                    elif not is_TransferedNext and not is_DischargedNext and is_CurrentPlanSigned and has_NextPlan:\n",
    "                        treatmentPlanStatus += 'Everything Seems Good'\n",
    "\n",
    "                    is_NextPlanClosedLate = isNextPlanClosedLate(singlePatient_df, currentEncounterIndexNum, has_NextPlan, next_PlanLocation)\n",
    "                    singlePatient_df.loc[currentEncounterIndexNum, 'is_NextPlanClosedLate'] = is_NextPlanClosedLate\n",
    "\n",
    "                else: # if there is no next plan \n",
    "                    is_TransferedNext = isTransferedNext(singlePatient_df, currentEncounterIndexNum, has_NextPlan)\n",
    "                    singlePatient_df.loc[currentEncounterIndexNum, 'is_TransferedNext'] = is_TransferedNext\n",
    "\n",
    "                    is_DischargedNext = isDischargedNext(singlePatient_df, currentEncounterIndexNum, has_NextPlan)\n",
    "                    singlePatient_df.loc[currentEncounterIndexNum, 'is_DischargedNext'] = is_DischargedNext\n",
    "\n",
    "                    if not is_TransferedNext and not is_DischargedNext and daysToReviewDate > 0:\n",
    "                        treatmentPlanStatus += f'Everything Seems Good. Still have {daysToReviewDate} days left.'\n",
    "                    elif not is_TransferedNext and not is_DischargedNext and daysToReviewDate < 0:\n",
    "                        treatmentPlanStatus += f'Plan is {np.absolute(daysToReviewDate)} days overdue.'\n",
    "                    elif is_TransferedNext and not is_DischargedNext:\n",
    "                        daysAfterTransfer = getDaysAfterTransfer(singlePatient_df, currentEncounterIndexNum, has_NextPlan)\n",
    "                        if daysAfterTransfer > 30 and currentEncounterType == 'Transfer Note':\n",
    "                            treatmentPlanStatus += f'Patient Transfered. Plan is {daysAfterTransfer-30} days overdue.'\n",
    "                        elif daysAfterTransfer > 30:\n",
    "                            treatmentPlanStatus += f'Patient Transfered.'\n",
    "                        else:\n",
    "                            treatmentPlanStatus += f'Patient Transfered. Plan is due in {30 - daysAfterTransfer} days.'\n",
    "                    elif (is_DischargedNext and not is_TransferedNext):\n",
    "                        treatmentPlanStatus += f'Patient was Discharged'   \n",
    "                singlePatient_df.loc[currentEncounterIndexNum, 'treatmentPlanStatus'] = treatmentPlanStatus  \n",
    "            allPatientDf = pd.concat([allPatientDf,singlePatient_df])\n",
    "    logger.info(f'Successfully built all patients treatment plan details.')\n",
    "except Exception as e:\n",
    "    print(e)\n",
    "    logger.error(f'Failed to build all patients treatment plan details.', exc_info=True) "
   ]
  },
  {
   "cell_type": "code",
   "execution_count": 14,
   "id": "0232539c",
   "metadata": {
    "papermill": {
     "duration": 0.033649,
     "end_time": "2024-10-28T13:19:18.268085",
     "exception": false,
     "start_time": "2024-10-28T13:19:18.234436",
     "status": "completed"
    },
    "tags": []
   },
   "outputs": [
    {
     "name": "stderr",
     "output_type": "stream",
     "text": [
      "C:\\Users\\ylen\\AppData\\Local\\Temp\\2\\ipykernel_16476\\933277588.py:11: FutureWarning: Downcasting object dtype arrays on .fillna, .ffill, .bfill is deprecated and will change in a future version. Call result.infer_objects(copy=False) instead. To opt-in to the future behavior, set `pd.set_option('future.no_silent_downcasting', True)`\n",
      "  'is_NextPlanClosedLate']].fillna(False)\n"
     ]
    }
   ],
   "source": [
    "allPatientDf[['has_NextPlan', \n",
    "              'is_CurrentPlanSigned',\n",
    "              'next_PlanLocation',\n",
    "              'is_TransferedNext',\n",
    "              'is_DischargedNext',\n",
    "              'is_NextPlanClosedLate']] = allPatientDf[['has_NextPlan', \n",
    "                                                        'is_CurrentPlanSigned',\n",
    "                                                        'next_PlanLocation',\n",
    "                                                        'is_TransferedNext',\n",
    "                                                        'is_DischargedNext',\n",
    "                                                        'is_NextPlanClosedLate']].fillna(False)   "
   ]
  },
  {
   "cell_type": "code",
   "execution_count": 15,
   "id": "5939f5c6",
   "metadata": {
    "papermill": {
     "duration": 0.021909,
     "end_time": "2024-10-28T13:19:18.289994",
     "exception": false,
     "start_time": "2024-10-28T13:19:18.268085",
     "status": "completed"
    },
    "tags": []
   },
   "outputs": [],
   "source": [
    "# for column in allPatientDf.columns:\n",
    "#     print(column)"
   ]
  },
  {
   "cell_type": "code",
   "execution_count": 16,
   "id": "05f47df7",
   "metadata": {
    "papermill": {
     "duration": 0.041001,
     "end_time": "2024-10-28T13:19:18.330995",
     "exception": false,
     "start_time": "2024-10-28T13:19:18.289994",
     "status": "completed"
    },
    "tags": []
   },
   "outputs": [],
   "source": [
    "try:\n",
    "    allPatientDf['is_TreatmentPlanGood'] = allPatientDf['treatmentPlanStatus'].map(lambda status: True if 'Everything Seems Good' in str(status) else False)\n",
    "    allPatientDf['is_TreatmentPlanOverdue'] = allPatientDf['treatmentPlanStatus'].map(lambda status: True if 'overdue' in str(status).lower() else False)\n",
    "    logger.info(f'Successfully marked treatment plans that are all good.')\n",
    "except Exception as e:\n",
    "    print(e)\n",
    "    logger.error(f'Failed to mark treatment plans that are all good.', exc_info=True) "
   ]
  },
  {
   "cell_type": "code",
   "execution_count": 17,
   "id": "fd3d3e69",
   "metadata": {
    "papermill": {
     "duration": 0.036265,
     "end_time": "2024-10-28T13:19:18.367260",
     "exception": false,
     "start_time": "2024-10-28T13:19:18.330995",
     "status": "completed"
    },
    "tags": []
   },
   "outputs": [],
   "source": [
    "allPatientDf['treatmentPlanStatus'] = allPatientDf['treatmentPlanStatus'] + '| ' + allPatientDf['seen_Recently']"
   ]
  },
  {
   "cell_type": "code",
   "execution_count": 18,
   "id": "056ab9cd",
   "metadata": {
    "papermill": {
     "duration": 0.020994,
     "end_time": "2024-10-28T13:19:18.390358",
     "exception": false,
     "start_time": "2024-10-28T13:19:18.369364",
     "status": "completed"
    },
    "tags": []
   },
   "outputs": [],
   "source": [
    "# final_df[final_df['PatientID']==622214]\n",
    "# final_df[final_df['PatientID']==622741]"
   ]
  },
  {
   "cell_type": "code",
   "execution_count": 19,
   "id": "4ff28b04",
   "metadata": {
    "papermill": {
     "duration": 0.021425,
     "end_time": "2024-10-28T13:19:18.419785",
     "exception": false,
     "start_time": "2024-10-28T13:19:18.398360",
     "status": "completed"
    },
    "tags": []
   },
   "outputs": [
    {
     "data": {
      "text/plain": [
       "array([\"Hasn't been seen in 6 months\",\n",
       "       \"They've been seen in the past 3 weeks\",\n",
       "       \"Hasn't been seen in 3 weeks\", None,\n",
       "       \"Hasn't been seen in 3 months\"], dtype=object)"
      ]
     },
     "execution_count": 19,
     "metadata": {},
     "output_type": "execute_result"
    }
   ],
   "source": [
    "allPatientDf['seen_Recently'].unique()"
   ]
  },
  {
   "cell_type": "code",
   "execution_count": 20,
   "id": "b291620e",
   "metadata": {
    "papermill": {
     "duration": 0.02185,
     "end_time": "2024-10-28T13:19:18.441635",
     "exception": false,
     "start_time": "2024-10-28T13:19:18.419785",
     "status": "completed"
    },
    "scrolled": true,
    "tags": []
   },
   "outputs": [],
   "source": [
    "# final_df[final_df['allTheInfoYouEverWanted'].map(lambda x: True if 'Closed After Due Date' in x else False) ].groupby('ProviderName')['EncounterId'].count().sort_values(ascending=False).head(20)"
   ]
  },
  {
   "cell_type": "code",
   "execution_count": 21,
   "id": "1c2958f1",
   "metadata": {
    "papermill": {
     "duration": 0.012021,
     "end_time": "2024-10-28T13:19:18.469532",
     "exception": false,
     "start_time": "2024-10-28T13:19:18.457511",
     "status": "completed"
    },
    "tags": []
   },
   "outputs": [],
   "source": [
    "# final_df[final_df['allTheInfoYouEverWanted']=='']"
   ]
  },
  {
   "cell_type": "code",
   "execution_count": 22,
   "id": "f6881a40",
   "metadata": {
    "papermill": {
     "duration": 0.03191,
     "end_time": "2024-10-28T13:19:18.501442",
     "exception": false,
     "start_time": "2024-10-28T13:19:18.469532",
     "status": "completed"
    },
    "tags": []
   },
   "outputs": [],
   "source": [
    "# Change to integer so SQL can recognize it\n",
    "# allPatientDf['Days to Review Date'] = pd.to_datetime(allPatientDf['Days to Review Date'])\n",
    "allPatientDf['Days to Review Date'] = allPatientDf['Days to Review Date'].map(lambda timedelta: timedelta.days)"
   ]
  },
  {
   "cell_type": "code",
   "execution_count": 23,
   "id": "a366f60f",
   "metadata": {
    "papermill": {
     "duration": 0.047814,
     "end_time": "2024-10-28T13:19:18.549256",
     "exception": false,
     "start_time": "2024-10-28T13:19:18.501442",
     "status": "completed"
    },
    "tags": []
   },
   "outputs": [],
   "source": [
    "allPatientDf = allPatientDf.merge(missingAdmissionNote[['PatientID', 'HasAdmissionNote']], how='left', on='PatientID')\n"
   ]
  },
  {
   "cell_type": "code",
   "execution_count": 24,
   "id": "5475f33a",
   "metadata": {
    "papermill": {
     "duration": 0.01883,
     "end_time": "2024-10-28T13:19:18.583743",
     "exception": false,
     "start_time": "2024-10-28T13:19:18.564913",
     "status": "completed"
    },
    "tags": []
   },
   "outputs": [
    {
     "name": "stderr",
     "output_type": "stream",
     "text": [
      "C:\\Users\\ylen\\AppData\\Local\\Temp\\2\\ipykernel_16476\\3145419926.py:1: FutureWarning: Downcasting object dtype arrays on .fillna, .ffill, .bfill is deprecated and will change in a future version. Call result.infer_objects(copy=False) instead. To opt-in to the future behavior, set `pd.set_option('future.no_silent_downcasting', True)`\n",
      "  allPatientDf['HasAdmissionNote'] = allPatientDf['HasAdmissionNote'].fillna(False)\n"
     ]
    }
   ],
   "source": [
    "allPatientDf['HasAdmissionNote'] = allPatientDf['HasAdmissionNote'].fillna(False)"
   ]
  },
  {
   "cell_type": "code",
   "execution_count": 25,
   "id": "2c26970b-8759-49ba-9ac8-84252c77accc",
   "metadata": {
    "papermill": {
     "duration": 0.029617,
     "end_time": "2024-10-28T13:19:18.613360",
     "exception": false,
     "start_time": "2024-10-28T13:19:18.583743",
     "status": "completed"
    },
    "tags": []
   },
   "outputs": [
    {
     "data": {
      "text/plain": [
       "Index(['PatientID', 'EncounterID', 'ProviderName', 'EndDate', 'EncounterDate',\n",
       "       'EncounterEndDateTimeToolTip', 'EncounterStartDateTimeToolTip',\n",
       "       'FacilityName', 'EncounterType', 'EncounterOpenClosed', 'ProgramName',\n",
       "       'closedByFullName', 'Admitted', 'Primary_Provider',\n",
       "       'finalEncounterType', 'finalEncounterDate', 'is_ActiveInInSync',\n",
       "       'is_lastEncounterDischarge', 'lastBillable_EncounterType',\n",
       "       'lastBillable_EncounterDate', 'lastBillable_ProgramName',\n",
       "       'lastBillable_FacilityName', 'seen_Recently', 'MRNNumber',\n",
       "       'patient_fullName', 'DOB', 'Primary Facility',\n",
       "       'Summarized Encounter Type', 'Review Date', 'Days to Review Date',\n",
       "       'missingInitialTreatmentPlan', 'treatmentPlanStatus',\n",
       "       'is_NeedToBeInactivated', 'has_NextPlan', 'is_CurrentPlanSigned',\n",
       "       'next_PlanLocation', 'is_TransferedNext', 'is_DischargedNext',\n",
       "       'is_NextPlanClosedLate', 'is_TreatmentPlanGood',\n",
       "       'is_TreatmentPlanOverdue', 'HasAdmissionNote'],\n",
       "      dtype='object')"
      ]
     },
     "execution_count": 25,
     "metadata": {},
     "output_type": "execute_result"
    }
   ],
   "source": [
    "allPatientDf.columns"
   ]
  },
  {
   "cell_type": "code",
   "execution_count": 26,
   "id": "8956239a",
   "metadata": {
    "papermill": {
     "duration": 0.023846,
     "end_time": "2024-10-28T13:19:18.647137",
     "exception": false,
     "start_time": "2024-10-28T13:19:18.623291",
     "status": "completed"
    },
    "tags": []
   },
   "outputs": [],
   "source": [
    "# filter to useful columns\n",
    "allPatientDf = allPatientDf[['EncounterID',\n",
    "                            'MRNNumber',\n",
    "                            'DOB',\n",
    "                            'PatientID',\n",
    "                            'ProviderName',\n",
    "                            'Primary_Provider',\n",
    "                            'patient_fullName',\n",
    "                            'FacilityName',\n",
    "                            'Summarized Encounter Type',\n",
    "                            'EncounterDate',\n",
    "                            'EncounterEndDateTimeToolTip',\n",
    "                            'EncounterStartDateTimeToolTip',\n",
    "                            'EncounterType',\n",
    "                            'EncounterOpenClosed',\n",
    "                            'ProgramName',\n",
    "                            'closedByFullName',\n",
    "                            'finalEncounterType',\n",
    "                            'finalEncounterDate',\n",
    "                            'is_ActiveInInSync',\n",
    "                            'is_lastEncounterDischarge',\n",
    "                            'lastBillable_EncounterType',\n",
    "                            'lastBillable_EncounterDate',\n",
    "                            'lastBillable_ProgramName',\n",
    "                            'lastBillable_FacilityName',\n",
    "                            'seen_Recently',\n",
    "                            'Review Date',\n",
    "                            'Days to Review Date',\n",
    "                            'is_NeedToBeInactivated',\n",
    "                            'has_NextPlan',\n",
    "                            'is_CurrentPlanSigned',\n",
    "                            'next_PlanLocation',\n",
    "                            'is_TransferedNext',\n",
    "                            'is_DischargedNext',\n",
    "                            'is_NextPlanClosedLate',\n",
    "                            'treatmentPlanStatus',\n",
    "                            'missingInitialTreatmentPlan',\n",
    "                            'HasAdmissionNote',\n",
    "                            'is_TreatmentPlanGood',\n",
    "                            'is_TreatmentPlanOverdue',\n",
    "                            'Admitted']]"
   ]
  },
  {
   "cell_type": "code",
   "execution_count": 27,
   "id": "9be21bdf",
   "metadata": {
    "papermill": {
     "duration": 0.032743,
     "end_time": "2024-10-28T13:19:18.679880",
     "exception": false,
     "start_time": "2024-10-28T13:19:18.647137",
     "status": "completed"
    },
    "tags": []
   },
   "outputs": [],
   "source": [
    "allPatientDf = allPatientDf.drop_duplicates('EncounterID', keep='first')"
   ]
  },
  {
   "cell_type": "markdown",
   "id": "4fa29770",
   "metadata": {
    "papermill": {
     "duration": 0.021855,
     "end_time": "2024-10-28T13:19:18.701735",
     "exception": false,
     "start_time": "2024-10-28T13:19:18.679880",
     "status": "completed"
    },
    "tags": []
   },
   "source": [
    "## For Presenting\n",
    "- Replace all names with random ones for presenting"
   ]
  },
  {
   "cell_type": "code",
   "execution_count": 28,
   "id": "2044b078",
   "metadata": {
    "papermill": {
     "duration": 0.027199,
     "end_time": "2024-10-28T13:19:18.728934",
     "exception": false,
     "start_time": "2024-10-28T13:19:18.701735",
     "status": "completed"
    },
    "tags": []
   },
   "outputs": [],
   "source": [
    "# randomNames = pd.read_excel('../data/Random Names.xlsx')\n",
    "\n",
    "# final_df['patient_fullName'] = final_df['patient_fullName'].map(lambda name: list(randomNames['Names'].sample(1))[0])\n",
    "# final_df['ProviderName'] = final_df['ProviderName'].map(lambda name: list(final_df['ProviderName'].sample(1))[0])"
   ]
  },
  {
   "cell_type": "code",
   "execution_count": 29,
   "id": "e701778c",
   "metadata": {
    "papermill": {
     "duration": 0.031074,
     "end_time": "2024-10-28T13:19:18.760008",
     "exception": false,
     "start_time": "2024-10-28T13:19:18.728934",
     "status": "completed"
    },
    "tags": []
   },
   "outputs": [],
   "source": [
    "rename_mapping = {\n",
    "    'Summarized Encounter Type': 'Summarized_Encounter_Type',\n",
    "    'Review Date': 'Review_Date',\n",
    "    'Days to Review Date': 'Days_to_Review_Date',\n",
    "}\n",
    "# Rename columns using the mapping dictionary\n",
    "allPatientDf = allPatientDf.rename(columns=rename_mapping)"
   ]
  },
  {
   "cell_type": "code",
   "execution_count": 30,
   "id": "2db0d3a6",
   "metadata": {
    "papermill": {
     "duration": 3.95833,
     "end_time": "2024-10-28T13:19:22.718338",
     "exception": false,
     "start_time": "2024-10-28T13:19:18.760008",
     "status": "completed"
    },
    "tags": []
   },
   "outputs": [],
   "source": [
    "table_name= 'ptTreatmentPlanDuenessSummary'\n",
    "try:\n",
    "    allPatientDf.to_sql('ptTreatmentPlanDuenessSummary', conn, if_exists='replace', index = False)\n",
    "    logger.info(f'Successfully pushed ptTreatmentPlanDuenessSummary to database.')\n",
    "except Exception as e:\n",
    "    logger.error(f'Failed to push ptTreatmentPlanDuenessSummary to database.', exc_info=True) \n",
    "    print(e)"
   ]
  },
  {
   "cell_type": "code",
   "execution_count": 31,
   "id": "7b94636b",
   "metadata": {
    "papermill": {
     "duration": 0.029409,
     "end_time": "2024-10-28T13:19:22.747747",
     "exception": false,
     "start_time": "2024-10-28T13:19:22.718338",
     "status": "completed"
    },
    "tags": []
   },
   "outputs": [],
   "source": [
    "conn.dispose()"
   ]
  }
 ],
 "metadata": {
  "kernelspec": {
   "display_name": "DataPipeline_Env",
   "language": "python",
   "name": "datapipeline_env"
  },
  "language_info": {
   "codemirror_mode": {
    "name": "ipython",
    "version": 3
   },
   "file_extension": ".py",
   "mimetype": "text/x-python",
   "name": "python",
   "nbconvert_exporter": "python",
   "pygments_lexer": "ipython3",
   "version": "3.12.4"
  },
  "papermill": {
   "default_parameters": {},
   "duration": 140.826881,
   "end_time": "2024-10-28T13:19:23.248721",
   "environment_variables": {},
   "exception": null,
   "input_path": "TreatmentPlanReport SQL Express.ipynb",
   "output_path": "snapshots/TreatmentPlanReport SQL Express.ipynb",
   "parameters": {},
   "start_time": "2024-10-28T13:17:02.421840",
   "version": "2.3.3"
  },
  "toc": {
   "base_numbering": 1,
   "nav_menu": {},
   "number_sections": true,
   "sideBar": true,
   "skip_h1_title": false,
   "title_cell": "Table of Contents",
   "title_sidebar": "Contents",
   "toc_cell": false,
   "toc_position": {
    "height": "calc(100% - 180px)",
    "left": "10px",
    "top": "150px",
    "width": "409.6px"
   },
   "toc_section_display": true,
   "toc_window_display": true
  },
  "varInspector": {
   "cols": {
    "lenName": 16,
    "lenType": 16,
    "lenVar": 40
   },
   "kernels_config": {
    "python": {
     "delete_cmd_postfix": "",
     "delete_cmd_prefix": "del ",
     "library": "var_list.py",
     "varRefreshCmd": "print(var_dic_list())"
    },
    "r": {
     "delete_cmd_postfix": ") ",
     "delete_cmd_prefix": "rm(",
     "library": "var_list.r",
     "varRefreshCmd": "cat(var_dic_list()) "
    }
   },
   "types_to_exclude": [
    "module",
    "function",
    "builtin_function_or_method",
    "instance",
    "_Feature"
   ],
   "window_display": false
  }
 },
 "nbformat": 4,
 "nbformat_minor": 5
}
